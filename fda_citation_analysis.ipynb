{
 "cells": [
  {
   "cell_type": "markdown",
   "metadata": {},
   "source": [
    "# Analysis of FDA Citations"
   ]
  },
  {
   "cell_type": "markdown",
   "metadata": {},
   "source": [
    "Source: https://www.fda.gov/inspections-compliance-enforcement-and-criminal-investigations/inspection-references/inspection-citation"
   ]
  },
  {
   "cell_type": "markdown",
   "metadata": {},
   "source": [
    "The dataset pulled from fda.gov details citations made during FDA inspections conducted of clinical trials, Institutional Review Boards (IRBs), and facilities that manufacture, process, pack, or hold an FDA-regulated product that is currently marketed. Specifically, the information comes from the electronic inspection tool of FDA Form 483."
   ]
  },
  {
   "cell_type": "code",
   "execution_count": 1,
   "metadata": {},
   "outputs": [],
   "source": [
    "# import packages\n",
    "import gensim\n",
    "import matplotlib as mpl\n",
    "import numpy as np\n",
    "import nltk\n",
    "from nltk.corpus import wordnet as wn\n",
    "import pandas as pd\n",
    "import pickle\n",
    "import re\n",
    "from sklearn.feature_extraction.text import CountVectorizer"
   ]
  },
  {
   "cell_type": "code",
   "execution_count": 2,
   "metadata": {},
   "outputs": [],
   "source": [
    "# read dataframe into python\n",
    "df = pd.read_excel(\"Inspection_Citation_(10-1-2008_through_7-22-2020)_0.xlsx\")"
   ]
  },
  {
   "cell_type": "code",
   "execution_count": 3,
   "metadata": {},
   "outputs": [
    {
     "data": {
      "text/html": [
       "<div>\n",
       "<style scoped>\n",
       "    .dataframe tbody tr th:only-of-type {\n",
       "        vertical-align: middle;\n",
       "    }\n",
       "\n",
       "    .dataframe tbody tr th {\n",
       "        vertical-align: top;\n",
       "    }\n",
       "\n",
       "    .dataframe thead th {\n",
       "        text-align: right;\n",
       "    }\n",
       "</style>\n",
       "<table border=\"1\" class=\"dataframe\">\n",
       "  <thead>\n",
       "    <tr style=\"text-align: right;\">\n",
       "      <th></th>\n",
       "      <th>Firm Name</th>\n",
       "      <th>City</th>\n",
       "      <th>State</th>\n",
       "      <th>Country/Area</th>\n",
       "      <th>Inspection End Date</th>\n",
       "      <th>Program Area</th>\n",
       "      <th>CFR/Act Number</th>\n",
       "      <th>Short Description</th>\n",
       "      <th>Long Description</th>\n",
       "    </tr>\n",
       "  </thead>\n",
       "  <tbody>\n",
       "    <tr>\n",
       "      <th>0</th>\n",
       "      <td>A &amp; M Bakery, Inc.</td>\n",
       "      <td>Clarksburg</td>\n",
       "      <td>WV</td>\n",
       "      <td>United States</td>\n",
       "      <td>2008-10-01</td>\n",
       "      <td>Foods</td>\n",
       "      <td>21 CFR 110.20(b)(4)</td>\n",
       "      <td>Floors, walls and ceilings</td>\n",
       "      <td>The plant is not constructed in such a manner ...</td>\n",
       "    </tr>\n",
       "    <tr>\n",
       "      <th>1</th>\n",
       "      <td>A &amp; M Bakery, Inc.</td>\n",
       "      <td>Clarksburg</td>\n",
       "      <td>WV</td>\n",
       "      <td>United States</td>\n",
       "      <td>2008-10-01</td>\n",
       "      <td>Foods</td>\n",
       "      <td>21 CFR 110.20(b)(5)</td>\n",
       "      <td>Safety lighting and glass</td>\n",
       "      <td>Failure to provide safety-type lighting fixtur...</td>\n",
       "    </tr>\n",
       "    <tr>\n",
       "      <th>2</th>\n",
       "      <td>A &amp; M Bakery, Inc.</td>\n",
       "      <td>Clarksburg</td>\n",
       "      <td>WV</td>\n",
       "      <td>United States</td>\n",
       "      <td>2008-10-01</td>\n",
       "      <td>Foods</td>\n",
       "      <td>21 CFR 110.35(a)</td>\n",
       "      <td>Buildings/good repair</td>\n",
       "      <td>Failure to maintain buildings in repair suffic...</td>\n",
       "    </tr>\n",
       "    <tr>\n",
       "      <th>3</th>\n",
       "      <td>A &amp; M Bakery, Inc.</td>\n",
       "      <td>Clarksburg</td>\n",
       "      <td>WV</td>\n",
       "      <td>United States</td>\n",
       "      <td>2008-10-01</td>\n",
       "      <td>Foods</td>\n",
       "      <td>21 CFR 110.35(a)</td>\n",
       "      <td>Cleaning and sanitizing operations</td>\n",
       "      <td>Failure to conduct cleaning and sanitizing ope...</td>\n",
       "    </tr>\n",
       "    <tr>\n",
       "      <th>4</th>\n",
       "      <td>A &amp; M Bakery, Inc.</td>\n",
       "      <td>Clarksburg</td>\n",
       "      <td>WV</td>\n",
       "      <td>United States</td>\n",
       "      <td>2008-10-01</td>\n",
       "      <td>Foods</td>\n",
       "      <td>21 CFR 110.80(a)(1)</td>\n",
       "      <td>Storage</td>\n",
       "      <td>Failure to store raw materials in a manner tha...</td>\n",
       "    </tr>\n",
       "  </tbody>\n",
       "</table>\n",
       "</div>"
      ],
      "text/plain": [
       "            Firm Name        City State   Country/Area Inspection End Date  \\\n",
       "0  A & M Bakery, Inc.  Clarksburg    WV  United States          2008-10-01   \n",
       "1  A & M Bakery, Inc.  Clarksburg    WV  United States          2008-10-01   \n",
       "2  A & M Bakery, Inc.  Clarksburg    WV  United States          2008-10-01   \n",
       "3  A & M Bakery, Inc.  Clarksburg    WV  United States          2008-10-01   \n",
       "4  A & M Bakery, Inc.  Clarksburg    WV  United States          2008-10-01   \n",
       "\n",
       "  Program Area       CFR/Act Number                   Short Description  \\\n",
       "0        Foods  21 CFR 110.20(b)(4)          Floors, walls and ceilings   \n",
       "1        Foods  21 CFR 110.20(b)(5)           Safety lighting and glass   \n",
       "2        Foods     21 CFR 110.35(a)               Buildings/good repair   \n",
       "3        Foods     21 CFR 110.35(a)  Cleaning and sanitizing operations   \n",
       "4        Foods  21 CFR 110.80(a)(1)                             Storage   \n",
       "\n",
       "                                    Long Description  \n",
       "0  The plant is not constructed in such a manner ...  \n",
       "1  Failure to provide safety-type lighting fixtur...  \n",
       "2  Failure to maintain buildings in repair suffic...  \n",
       "3  Failure to conduct cleaning and sanitizing ope...  \n",
       "4  Failure to store raw materials in a manner tha...  "
      ]
     },
     "execution_count": 3,
     "metadata": {},
     "output_type": "execute_result"
    }
   ],
   "source": [
    "df.head()"
   ]
  },
  {
   "cell_type": "code",
   "execution_count": 4,
   "metadata": {},
   "outputs": [],
   "source": [
    "# tidy dataframe to only contain citations from the Drugs 'Program Area'\n",
    "## filter for only observations from the Drug program area in USA.\n",
    "drugs = df[(df['Program Area'] == \"Drugs\") &\n",
    "           (df['Country/Area'] == \"United States\")].reset_index().drop('index', axis = 1)\n",
    "\n",
    "## tidy up the CFR/Act Number column to generalize to the CFR chapter.\n",
    "CFR = []\n",
    "for values in drugs['CFR/Act Number']:\n",
    "    try:\n",
    "        x = re.search(r'21 CFR [0-9]+\\.[0-9]+', values).group()\n",
    "    except:\n",
    "        x = None\n",
    "    CFR.append(x)\n",
    "drugs['CFR'] = CFR\n",
    "\n",
    "# create a series of citations\n",
    "citations = drugs['Long Description']"
   ]
  },
  {
   "cell_type": "code",
   "execution_count": 29,
   "metadata": {},
   "outputs": [
    {
     "data": {
      "text/plain": [
       "(28379, 10)"
      ]
     },
     "execution_count": 29,
     "metadata": {},
     "output_type": "execute_result"
    }
   ],
   "source": [
    "drugs.shape"
   ]
  },
  {
   "cell_type": "markdown",
   "metadata": {},
   "source": [
    "## Topic Modeling of Long Descriptions"
   ]
  },
  {
   "cell_type": "markdown",
   "metadata": {},
   "source": [
    "For each long description in df, extract a list of topics that are most likely to be cited during an FDA audit."
   ]
  },
  {
   "cell_type": "code",
   "execution_count": 16,
   "metadata": {},
   "outputs": [
    {
     "data": {
      "text/plain": [
       "[['Routine',\n",
       "  'calibration',\n",
       "  'of',\n",
       "  'mechanical',\n",
       "  'equipment',\n",
       "  'is',\n",
       "  'not',\n",
       "  'performed',\n",
       "  'according',\n",
       "  'to',\n",
       "  'a',\n",
       "  'written',\n",
       "  'program',\n",
       "  'designed',\n",
       "  'to',\n",
       "  'assure',\n",
       "  'proper',\n",
       "  'performance',\n",
       "  '.'],\n",
       " ['Drug',\n",
       "  'products',\n",
       "  'are',\n",
       "  'not',\n",
       "  'stored',\n",
       "  'under',\n",
       "  'appropriate',\n",
       "  'conditions',\n",
       "  'of',\n",
       "  'temperature',\n",
       "  'so',\n",
       "  'that',\n",
       "  'their',\n",
       "  'identity',\n",
       "  ',',\n",
       "  'strength',\n",
       "  ',',\n",
       "  'quality',\n",
       "  ',',\n",
       "  'and',\n",
       "  'purity',\n",
       "  'are',\n",
       "  'not',\n",
       "  'affected',\n",
       "  '.']]"
      ]
     },
     "execution_count": 16,
     "metadata": {},
     "output_type": "execute_result"
    }
   ],
   "source": [
    "cites = list(citations)\n",
    "tokens = []\n",
    "for i in cites:\n",
    "    token = nltk.word_tokenize(i)\n",
    "    tokens.append(token)\n",
    "    \n",
    "tokens[:2]"
   ]
  },
  {
   "cell_type": "code",
   "execution_count": 26,
   "metadata": {},
   "outputs": [],
   "source": [
    "# Use CountVectorizer to find tokens, remove stop words,\n",
    "# remove tokens that don't appear in at least 25 documents,\n",
    "# remove tokens that appear in more than 20% of the documents\n",
    "vect = CountVectorizer(min_df = 25, max_df = 0.2, ngram_range = (1,3),\n",
    "                       stop_words = 'english')\n",
    "\n",
    "# Fit and transform\n",
    "X = vect.fit_transform(cites)\n",
    "\n",
    "# Convert sparse matrix to gensim corpus.\n",
    "corpus = gensim.matutils.Sparse2Corpus(X, documents_columns = False)\n",
    "\n",
    "# Mapping from word IDs to words (TO be used in LdaModel's id2word parameter)\n",
    "id_map = dict((v, k) for k, v in vect.vocabulary_.items())"
   ]
  },
  {
   "cell_type": "code",
   "execution_count": 27,
   "metadata": {},
   "outputs": [],
   "source": [
    "# Use the gensim.models.ldamodel.LdaModel constructor to estimate \n",
    "# LDA model parameters on the corpus, and save to variable 'ldamodel'\n",
    "\n",
    "ldamodel = gensim.models.ldamodel.LdaModel(corpus, num_topics = 10,\n",
    "                                          id2word = id_map, passes = 25,\n",
    "                                          random_state = 4)"
   ]
  },
  {
   "cell_type": "code",
   "execution_count": 28,
   "metadata": {},
   "outputs": [
    {
     "data": {
      "text/plain": [
       "[(0,\n",
       "  '0.016*\"records\" + 0.013*\"appropriate\" + 0.012*\"master\" + 0.012*\"master production control\" + 0.012*\"master production\" + 0.012*\"testing\" + 0.011*\"stability\" + 0.011*\"used\" + 0.010*\"production\" + 0.010*\"production control records\"'),\n",
       " (1,\n",
       "  '0.011*\"training\" + 0.011*\"employees\" + 0.010*\"use\" + 0.008*\"assure\" + 0.008*\"applicable\" + 0.008*\"identity\" + 0.007*\"operations\" + 0.007*\"manufacturing\" + 0.007*\"good\" + 0.007*\"good manufacturing\"'),\n",
       " (2,\n",
       "  '0.020*\"records\" + 0.014*\"include\" + 0.012*\"suitable\" + 0.012*\"instruments\" + 0.011*\"calibration\" + 0.009*\"calibration instruments\" + 0.009*\"laboratory\" + 0.008*\"established\" + 0.008*\"complaint\" + 0.008*\"cleaning\"'),\n",
       " (3,\n",
       "  '0.036*\"records\" + 0.030*\"batch\" + 0.025*\"production\" + 0.023*\"production control\" + 0.022*\"include\" + 0.019*\"control records\" + 0.018*\"production control records\" + 0.014*\"batch production\" + 0.014*\"batch production control\" + 0.013*\"complete\"'),\n",
       " (4,\n",
       "  '0.014*\"established\" + 0.014*\"cleaning\" + 0.013*\"equipment\" + 0.013*\"processing\" + 0.012*\"maintenance\" + 0.011*\"cleaning maintenance\" + 0.011*\"aseptic\" + 0.011*\"followed\" + 0.010*\"regarding\" + 0.010*\"procedures established\"'),\n",
       " (5,\n",
       "  '0.017*\"failure\" + 0.016*\"control unit\" + 0.016*\"quality control unit\" + 0.016*\"quality control\" + 0.016*\"unit\" + 0.016*\"batch\" + 0.013*\"followed\" + 0.012*\"applicable\" + 0.012*\"responsibilities\" + 0.012*\"applicable quality control\"'),\n",
       " (6,\n",
       "  '0.029*\"appropriate\" + 0.021*\"release\" + 0.017*\"component\" + 0.017*\"testing\" + 0.015*\"specifications\" + 0.012*\"conformance\" + 0.012*\"laboratory\" + 0.011*\"test\" + 0.011*\"determination\" + 0.011*\"supplier\"'),\n",
       " (7,\n",
       "  '0.016*\"appropriate\" + 0.012*\"strength\" + 0.012*\"purity\" + 0.012*\"quality purity\" + 0.012*\"strength quality\" + 0.012*\"identity\" + 0.012*\"strength quality purity\" + 0.012*\"identity strength\" + 0.012*\"identity strength quality\" + 0.011*\"safety\"'),\n",
       " (8,\n",
       "  '0.018*\"processing\" + 0.012*\"packing\" + 0.012*\"holding\" + 0.011*\"processing packing\" + 0.010*\"holding drug\" + 0.010*\"packing holding\" + 0.010*\"manufacture\" + 0.010*\"processing packing holding\" + 0.010*\"manufacture processing\" + 0.010*\"packing holding drug\"'),\n",
       " (9,\n",
       "  '0.016*\"assure\" + 0.016*\"process\" + 0.015*\"designed\" + 0.015*\"designed assure\" + 0.014*\"quality purity\" + 0.014*\"purity\" + 0.014*\"strength quality purity\" + 0.014*\"identity strength quality\" + 0.014*\"strength quality\" + 0.014*\"strength\"')]"
      ]
     },
     "execution_count": 28,
     "metadata": {},
     "output_type": "execute_result"
    }
   ],
   "source": [
    "ldamodel.print_topics(10)"
   ]
  }
 ],
 "metadata": {
  "kernelspec": {
   "display_name": "Python 3",
   "language": "python",
   "name": "python3"
  },
  "language_info": {
   "codemirror_mode": {
    "name": "ipython",
    "version": 3
   },
   "file_extension": ".py",
   "mimetype": "text/x-python",
   "name": "python",
   "nbconvert_exporter": "python",
   "pygments_lexer": "ipython3",
   "version": "3.7.7"
  }
 },
 "nbformat": 4,
 "nbformat_minor": 4
}
