{
 "cells": [
  {
   "cell_type": "markdown",
   "metadata": {},
   "source": [
    "# Predicting CFR Chapter"
   ]
  },
  {
   "cell_type": "markdown",
   "metadata": {},
   "source": [
    "When the FDA provides a facility with a list of observations on Form 483, they do _not_ link the associated chapter from 21 CFR 211. However, the citations DataFrame pulled from fda.gov _does_ contain a reference to the 21 CFR chapter. Therefore, it should be possible to train a model to predict the 21 CFR 211 chapter based on the citation given."
   ]
  },
  {
   "cell_type": "markdown",
   "metadata": {},
   "source": [
    "## Import Packages"
   ]
  },
  {
   "cell_type": "markdown",
   "metadata": {},
   "source": [
    "## Import DataFrame"
   ]
  },
  {
   "cell_type": "code",
   "execution_count": null,
   "metadata": {},
   "outputs": [],
   "source": [
    "# read dataframe into python\n",
    "df = pd.read_excel(\"Inspection_Citation_(10-1-2008_through_7-22-2020)_0.xlsx\")"
   ]
  },
  {
   "cell_type": "markdown",
   "metadata": {},
   "source": [
    "## Tidy DataFrame"
   ]
  },
  {
   "cell_type": "code",
   "execution_count": null,
   "metadata": {},
   "outputs": [],
   "source": [
    "df = df.rename(columns={'Long Description': 'long_description'})\n",
    "\n",
    "drugs = df[(df['Program Area'] == \"Drugs\") &\n",
    "           (df['Country/Area'] == \"United States\")].reset_index().drop('index', axis = 1)\n",
    "\n",
    "drugs.head()\n",
    "\n",
    "## tidy up the CFR/Act Number column to generalize to the CFR chapter.\n",
    "CFR = []\n",
    "for values in dc1['CFR/Act Number']:\n",
    "    try:\n",
    "        x = re.search(r'21 CFR [0-9]+\\.[0-9]+', values).group()\n",
    "    except:\n",
    "        x = None\n",
    "    CFR.append(x)\n",
    "dc1['CFR'] = CFR\n",
    "\n",
    "dc1.head()"
   ]
  }
 ],
 "metadata": {
  "kernelspec": {
   "display_name": "Python 3",
   "language": "python",
   "name": "python3"
  },
  "language_info": {
   "codemirror_mode": {
    "name": "ipython",
    "version": 3
   },
   "file_extension": ".py",
   "mimetype": "text/x-python",
   "name": "python",
   "nbconvert_exporter": "python",
   "pygments_lexer": "ipython3",
   "version": "3.7.7"
  }
 },
 "nbformat": 4,
 "nbformat_minor": 4
}
