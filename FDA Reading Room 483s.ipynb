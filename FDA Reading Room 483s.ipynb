{
 "cells": [
  {
   "cell_type": "markdown",
   "metadata": {},
   "source": [
    "# FDA Reading Room 483 Analysis"
   ]
  },
  {
   "cell_type": "code",
   "execution_count": 1,
   "metadata": {},
   "outputs": [
    {
     "name": "stdout",
     "output_type": "stream",
     "text": [
      "Script last ran on 04/30/2021\n"
     ]
    }
   ],
   "source": [
    "from datetime import date\n",
    "print(\"Script last ran on {}\".format(date.today().strftime(\"%m/%d/%Y\")))"
   ]
  },
  {
   "cell_type": "code",
   "execution_count": 2,
   "metadata": {},
   "outputs": [],
   "source": [
    "# import packages\n",
    "import numpy as np\n",
    "import pandas as pd\n",
    "import requests\n",
    "import lxml\n",
    "import html5lib \n",
    "from bs4 import BeautifulSoup"
   ]
  },
  {
   "cell_type": "code",
   "execution_count": 3,
   "metadata": {},
   "outputs": [],
   "source": [
    "url = 'https://www.fda.gov/about-fda/office-regulatory-affairs/ora-foia-electronic-reading-room'"
   ]
  },
  {
   "cell_type": "markdown",
   "metadata": {},
   "source": [
    "## Step 1: Scrape Data Table and List of URLs to Form 483s from URL"
   ]
  },
  {
   "cell_type": "markdown",
   "metadata": {},
   "source": [
    "__Useful Links__  \n",
    "https://medium.com/@sarfrazarshad/scraping-dynamically-created-tables-196b7cbe6c84  \n",
    "https://stackoverflow.com/questions/56757261/extract-href-using-pandas-read-html/56757977  \n",
    "https://stackoverflow.com/questions/60757571/python-pandas-parse-html-table-to-get-hidden-values-and-links\n",
    "\n",
    "__Notes__   \n",
    " - `pd.read_html` won't work for extracting hidden rows (like the hrefs embedded in the 'Record Type' column)  \n",
    " - `requests.get(url).content` won't work for dynamically created tables (like the one we're trying to scrape)\n",
    " \n",
    "__Establishment Types to Filter By__  \n",
    "Outsourcing Facility, Producer of Sterile and Non Sterile Drug Products, Producer of Sterile Drug Products, Producer of Non Sterile Drug Products, Manufacturer"
   ]
  },
  {
   "cell_type": "code",
   "execution_count": 4,
   "metadata": {},
   "outputs": [
    {
     "data": {
      "text/html": [
       "<div>\n",
       "<style scoped>\n",
       "    .dataframe tbody tr th:only-of-type {\n",
       "        vertical-align: middle;\n",
       "    }\n",
       "\n",
       "    .dataframe tbody tr th {\n",
       "        vertical-align: top;\n",
       "    }\n",
       "\n",
       "    .dataframe thead th {\n",
       "        text-align: right;\n",
       "    }\n",
       "</style>\n",
       "<table border=\"1\" class=\"dataframe\">\n",
       "  <thead>\n",
       "    <tr style=\"text-align: right;\">\n",
       "      <th></th>\n",
       "      <th>media id hidden</th>\n",
       "      <th>Record Date</th>\n",
       "      <th>FEI Number</th>\n",
       "      <th>Company Name</th>\n",
       "      <th>Record Type</th>\n",
       "      <th>State</th>\n",
       "      <th>Establishment Type</th>\n",
       "      <th>Publish Date</th>\n",
       "      <th>record type hidden</th>\n",
       "    </tr>\n",
       "  </thead>\n",
       "  <tbody>\n",
       "  </tbody>\n",
       "</table>\n",
       "</div>"
      ],
      "text/plain": [
       "Empty DataFrame\n",
       "Columns: [media id hidden, Record Date, FEI Number, Company Name, Record Type, State, Establishment Type, Publish Date, record type hidden]\n",
       "Index: []"
      ]
     },
     "execution_count": 4,
     "metadata": {},
     "output_type": "execute_result"
    }
   ],
   "source": [
    "# get datatable from website\n",
    "\n",
    "html = requests.get(url).content\n",
    "df_list = pd.read_html(html)\n",
    "df = df_list[-1]\n",
    "df\n",
    "\n",
    "# output is an empty table. close, but not there\n",
    "## likely because the datatable is created dynamically, meaning that requests.get(url).content won't work as intended"
   ]
  },
  {
   "cell_type": "code",
   "execution_count": 5,
   "metadata": {},
   "outputs": [],
   "source": [
    "#import urllib.request\n",
    "#from TableParser import TableParser\n",
    "#from HTMLParser import HTMLParser\n",
    "#with urllib.request.urlopen('https://www.fda.gov/about-fda/office-regulatory-affairs/ora-foia-electronic-reading-room') as response:\n",
    "#   html = response.read()\n",
    "#html"
   ]
  },
  {
   "cell_type": "code",
   "execution_count": 6,
   "metadata": {},
   "outputs": [],
   "source": [
    "from selenium import webdriver"
   ]
  },
  {
   "cell_type": "code",
   "execution_count": 7,
   "metadata": {},
   "outputs": [],
   "source": [
    "driver = webdriver.Chrome()"
   ]
  },
  {
   "cell_type": "code",
   "execution_count": 8,
   "metadata": {},
   "outputs": [],
   "source": [
    "driver.get(url)"
   ]
  },
  {
   "cell_type": "markdown",
   "metadata": {},
   "source": [
    "table class = lcsd-datatable--ora-foia-reading table table-bordered dataTable no footer dtr-inline"
   ]
  },
  {
   "cell_type": "code",
   "execution_count": 45,
   "metadata": {},
   "outputs": [
    {
     "data": {
      "text/html": [
       "<div>\n",
       "<style scoped>\n",
       "    .dataframe tbody tr th:only-of-type {\n",
       "        vertical-align: middle;\n",
       "    }\n",
       "\n",
       "    .dataframe tbody tr th {\n",
       "        vertical-align: top;\n",
       "    }\n",
       "\n",
       "    .dataframe thead th {\n",
       "        text-align: right;\n",
       "    }\n",
       "</style>\n",
       "<table border=\"1\" class=\"dataframe\">\n",
       "  <thead>\n",
       "    <tr style=\"text-align: right;\">\n",
       "      <th></th>\n",
       "      <th>Record Date</th>\n",
       "      <th>FEI Number</th>\n",
       "      <th>Company Name</th>\n",
       "      <th>Record Type</th>\n",
       "      <th>State</th>\n",
       "      <th>Establishment Type</th>\n",
       "      <th>Publish Date</th>\n",
       "    </tr>\n",
       "  </thead>\n",
       "  <tbody>\n",
       "    <tr>\n",
       "      <th>0</th>\n",
       "      <td>04/20/2021</td>\n",
       "      <td>3015448605</td>\n",
       "      <td>Emergent Manufacturing Operations Baltimore, LLC.</td>\n",
       "      <td>483</td>\n",
       "      <td>Maryland</td>\n",
       "      <td>Vaccine Manufacturer</td>\n",
       "      <td>04/21/2021</td>\n",
       "    </tr>\n",
       "    <tr>\n",
       "      <th>1</th>\n",
       "      <td>02/05/2021</td>\n",
       "      <td>3006701521</td>\n",
       "      <td>Midwestern Pet Foods Chickasha Operation</td>\n",
       "      <td>483</td>\n",
       "      <td>Oklahoma</td>\n",
       "      <td>Pet Food Manufacturer</td>\n",
       "      <td>04/19/2021</td>\n",
       "    </tr>\n",
       "    <tr>\n",
       "      <th>2</th>\n",
       "      <td>02/01/2021</td>\n",
       "      <td>3008790859</td>\n",
       "      <td>Absolute Veterinary Compounding Pharmacy</td>\n",
       "      <td>FMD-145 Letter</td>\n",
       "      <td>Texas</td>\n",
       "      <td>Producer of Sterile and Non Sterile Drug Products</td>\n",
       "      <td>04/19/2021</td>\n",
       "    </tr>\n",
       "    <tr>\n",
       "      <th>3</th>\n",
       "      <td>01/29/2021</td>\n",
       "      <td>3007537202</td>\n",
       "      <td>Village Pharmacy</td>\n",
       "      <td>FMD-145 Letter</td>\n",
       "      <td>New Jersey</td>\n",
       "      <td>Producer of Non Sterile Drug Products</td>\n",
       "      <td>04/19/2021</td>\n",
       "    </tr>\n",
       "    <tr>\n",
       "      <th>4</th>\n",
       "      <td>01/28/2021</td>\n",
       "      <td>3011761321</td>\n",
       "      <td>Wells Pharmacy, Inc</td>\n",
       "      <td>483</td>\n",
       "      <td>Tennessee</td>\n",
       "      <td>Outsourcing Facility</td>\n",
       "      <td>03/31/2021</td>\n",
       "    </tr>\n",
       "    <tr>\n",
       "      <th>5</th>\n",
       "      <td>01/05/2021</td>\n",
       "      <td>3011834594</td>\n",
       "      <td>Juno Therapeutics, Inc.</td>\n",
       "      <td>483 Response</td>\n",
       "      <td>Washington</td>\n",
       "      <td>CAR-T Cell Therapy Manufacturer</td>\n",
       "      <td>01/25/2021</td>\n",
       "    </tr>\n",
       "    <tr>\n",
       "      <th>6</th>\n",
       "      <td>12/10/2020</td>\n",
       "      <td>3013629214</td>\n",
       "      <td>Lonza Houston, Inc</td>\n",
       "      <td>483</td>\n",
       "      <td>Texas</td>\n",
       "      <td>Manufacturer</td>\n",
       "      <td>01/14/2021</td>\n",
       "    </tr>\n",
       "    <tr>\n",
       "      <th>7</th>\n",
       "      <td>12/09/2020</td>\n",
       "      <td>3004570352</td>\n",
       "      <td>Pavilion Compounding Pharmacy</td>\n",
       "      <td>Untitled Letter</td>\n",
       "      <td>Georgia</td>\n",
       "      <td>Producer of Sterile Drug Products</td>\n",
       "      <td>01/29/2021</td>\n",
       "    </tr>\n",
       "    <tr>\n",
       "      <th>8</th>\n",
       "      <td>12/01/2020</td>\n",
       "      <td>3008476140</td>\n",
       "      <td>Infusion Treatment Center Inc dba ITC Compounding</td>\n",
       "      <td>FMD-145 Letter</td>\n",
       "      <td>Colorado</td>\n",
       "      <td>Producer of Non Sterile Drug Products</td>\n",
       "      <td>01/29/2021</td>\n",
       "    </tr>\n",
       "    <tr>\n",
       "      <th>9</th>\n",
       "      <td>11/27/2020</td>\n",
       "      <td>3005199309</td>\n",
       "      <td>Sanders Pharmaceuticals, Inc. dba Rancho Park ...</td>\n",
       "      <td>FMD-145 Letter</td>\n",
       "      <td>California</td>\n",
       "      <td>Producer of Sterile and Non Sterile Drug Products</td>\n",
       "      <td>01/29/2021</td>\n",
       "    </tr>\n",
       "  </tbody>\n",
       "</table>\n",
       "</div>"
      ],
      "text/plain": [
       "  Record Date  FEI Number                                       Company Name  \\\n",
       "0  04/20/2021  3015448605  Emergent Manufacturing Operations Baltimore, LLC.   \n",
       "1  02/05/2021  3006701521           Midwestern Pet Foods Chickasha Operation   \n",
       "2  02/01/2021  3008790859           Absolute Veterinary Compounding Pharmacy   \n",
       "3  01/29/2021  3007537202                                   Village Pharmacy   \n",
       "4  01/28/2021  3011761321                                Wells Pharmacy, Inc   \n",
       "5  01/05/2021  3011834594                            Juno Therapeutics, Inc.   \n",
       "6  12/10/2020  3013629214                                 Lonza Houston, Inc   \n",
       "7  12/09/2020  3004570352                      Pavilion Compounding Pharmacy   \n",
       "8  12/01/2020  3008476140  Infusion Treatment Center Inc dba ITC Compounding   \n",
       "9  11/27/2020  3005199309  Sanders Pharmaceuticals, Inc. dba Rancho Park ...   \n",
       "\n",
       "       Record Type       State  \\\n",
       "0              483    Maryland   \n",
       "1              483    Oklahoma   \n",
       "2   FMD-145 Letter       Texas   \n",
       "3   FMD-145 Letter  New Jersey   \n",
       "4              483   Tennessee   \n",
       "5     483 Response  Washington   \n",
       "6              483       Texas   \n",
       "7  Untitled Letter     Georgia   \n",
       "8   FMD-145 Letter    Colorado   \n",
       "9   FMD-145 Letter  California   \n",
       "\n",
       "                                  Establishment Type Publish Date  \n",
       "0                               Vaccine Manufacturer   04/21/2021  \n",
       "1                              Pet Food Manufacturer   04/19/2021  \n",
       "2  Producer of Sterile and Non Sterile Drug Products   04/19/2021  \n",
       "3              Producer of Non Sterile Drug Products   04/19/2021  \n",
       "4                               Outsourcing Facility   03/31/2021  \n",
       "5                    CAR-T Cell Therapy Manufacturer   01/25/2021  \n",
       "6                                       Manufacturer   01/14/2021  \n",
       "7                  Producer of Sterile Drug Products   01/29/2021  \n",
       "8              Producer of Non Sterile Drug Products   01/29/2021  \n",
       "9  Producer of Sterile and Non Sterile Drug Products   01/29/2021  "
      ]
     },
     "execution_count": 45,
     "metadata": {},
     "output_type": "execute_result"
    }
   ],
   "source": [
    "element = driver.find_element_by_class_name('lcds-datatable')\n",
    "element_html = element.get_attribute('innerHTML')\n",
    "df = pd.read_html(element_html, displayed_only = False)[-1]\n",
    "df\n",
    "# still needs the urls embedded in column 'Record Type'\n",
    "# also need all the records, not just the first paginated page"
   ]
  },
  {
   "cell_type": "code",
   "execution_count": 58,
   "metadata": {},
   "outputs": [
    {
     "data": {
      "text/plain": [
       "['Record Date',\n",
       " 'FEI Number',\n",
       " 'Company Name',\n",
       " 'Record Type',\n",
       " 'State',\n",
       " 'Establishment Type',\n",
       " 'Publish Date']"
      ]
     },
     "execution_count": 58,
     "metadata": {},
     "output_type": "execute_result"
    }
   ],
   "source": [
    "element = driver.find_element_by_class_name('lcds-datatable') #find_element_by_id('DataTables_Table_0')\n",
    "element_html = element.get_attribute('innerHTML')\n",
    "soup = BeautifulSoup(element_html, 'html.parser')\n",
    "\n",
    "trs = soup.findAll('tr')\n",
    "headers = []\n",
    "for th in trs[0].findAll('th'):\n",
    "    headers.append(th.text)\n",
    "headers"
   ]
  },
  {
   "cell_type": "code",
   "execution_count": 12,
   "metadata": {},
   "outputs": [],
   "source": [
    "#response = requests.get(url)\n",
    "#soup = BeautifulSoup(response.text, 'html.parser')\n",
    "#table = soup.find('table')\n",
    "\n",
    "#links = []\n",
    "#for tr in table.findAll(\"tr\"):\n",
    "#    trs = tr.findAll(\"td\")\n",
    "#    for each in trs:\n",
    "#        try:\n",
    "#            link = each.find('a')['href']\n",
    "#            links.append(link)\n",
    "#        except:\n",
    "#            pass\n",
    "\n",
    "#table"
   ]
  },
  {
   "cell_type": "code",
   "execution_count": 30,
   "metadata": {},
   "outputs": [
    {
     "data": {
      "text/plain": [
       "[]"
      ]
     },
     "execution_count": 30,
     "metadata": {},
     "output_type": "execute_result"
    }
   ],
   "source": [
    "response = requests.get(url)\n",
    "soup = BeautifulSoup(response.text, 'html.parser')\n",
    "\n",
    "table = soup.findAll('table')\n",
    "trs = table[0].findAll(\"tr\")\n",
    "\n",
    "headers = []\n",
    "for th in trs[0].findAll(\"th\"):\n",
    "    headers.append(th.text)\n",
    "headers\n",
    "\n",
    "rows = []\n",
    "for i in range(1, len(trs)):\n",
    "    tds = []\n",
    "    for td in trs[i].findAll(\"td\"):\n",
    "        a = td.findAll(\"a\")\n",
    "        spans = td.findAll(\"span\")\n",
    "        inputs = td.findAll(\"input\")\n",
    "        ret = \"\"\n",
    "        if len(a) != 0 or len(spans) != 0 or len(inputs) != 0:\n",
    "            if len(a) != 0:\n",
    "                for link in a:\n",
    "                    ret += link.text + '('+link['href']+') '\n",
    "            if len(spans) != 0:\n",
    "                for span in spans:\n",
    "                    if span.has_attr('title'):\n",
    "                        ret += span.text + '('+span['title']+') '\n",
    "            if len(inputs) != 0:\n",
    "                for inp in inputs:\n",
    "                    if inp.has_attr('value'):\n",
    "                        if inp.has_attr('type'):\n",
    "                            if inp['type'] == \"hidden\":\n",
    "                                ret +=  inp['value']\n",
    "        else:\n",
    "            ret = td.text if td.text != '' and td.text != '\\n' else \"NaN\"\n",
    "        tds.append(ret)\n",
    "    rows.append(tds)\n",
    "\n",
    "rows"
   ]
  },
  {
   "cell_type": "markdown",
   "metadata": {},
   "source": [
    "## Step 2: Read each 483 PDF through an OCR machine into notebook"
   ]
  },
  {
   "cell_type": "markdown",
   "metadata": {},
   "source": [
    "## Step 3: Tidy each document into a corpus"
   ]
  },
  {
   "cell_type": "markdown",
   "metadata": {},
   "source": [
    "## Step 4: Perform Topic Modeling on Most Recent 1 Year of Drug Observations"
   ]
  }
 ],
 "metadata": {
  "kernelspec": {
   "display_name": "Python 3",
   "language": "python",
   "name": "python3"
  },
  "language_info": {
   "codemirror_mode": {
    "name": "ipython",
    "version": 3
   },
   "file_extension": ".py",
   "mimetype": "text/x-python",
   "name": "python",
   "nbconvert_exporter": "python",
   "pygments_lexer": "ipython3",
   "version": "3.7.7"
  }
 },
 "nbformat": 4,
 "nbformat_minor": 4
}
