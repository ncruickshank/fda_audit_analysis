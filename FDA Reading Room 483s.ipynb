{
 "cells": [
  {
   "cell_type": "markdown",
   "metadata": {},
   "source": [
    "# FDA Reading Room 483 Analysis"
   ]
  },
  {
   "cell_type": "code",
   "execution_count": 1,
   "metadata": {},
   "outputs": [
    {
     "name": "stdout",
     "output_type": "stream",
     "text": [
      "Script last ran on 05/04/2021\n"
     ]
    }
   ],
   "source": [
    "from datetime import date\n",
    "print(\"Script last ran on {}\".format(date.today().strftime(\"%m/%d/%Y\")))"
   ]
  },
  {
   "cell_type": "code",
   "execution_count": 2,
   "metadata": {},
   "outputs": [],
   "source": [
    "# import packages\n",
    "import numpy as np\n",
    "import pandas as pd\n",
    "import requests\n",
    "import lxml\n",
    "import html5lib \n",
    "from bs4 import BeautifulSoup\n",
    "import janitor\n",
    "\n",
    "# selenium functions\n",
    "from selenium import webdriver\n",
    "from selenium.webdriver.common.keys import Keys #allow  you to enter keystrokes into fields\n",
    "from selenium.webdriver.support.ui import Select #allow you to select a dropdown item\n",
    "from selenium.webdriver.support.ui import WebDriverWait #lets you modify a field before proceeding\n",
    "from selenium.common.exceptions import NoSuchElementException "
   ]
  },
  {
   "cell_type": "markdown",
   "metadata": {},
   "source": [
    "## Step 1: Scrape Data Table and List of URLs to Form 483s from URL"
   ]
  },
  {
   "cell_type": "markdown",
   "metadata": {},
   "source": [
    "__Establishment Types to Filter By__  \n",
    "Outsourcing Facility, Producer of Sterile and Non Sterile Drug Products, Producer of Sterile Drug Products, Producer of Non Sterile Drug Products, Manufacturer"
   ]
  },
  {
   "cell_type": "code",
   "execution_count": 3,
   "metadata": {},
   "outputs": [],
   "source": [
    "url = 'https://www.fda.gov/about-fda/office-regulatory-affairs/ora-foia-electronic-reading-room'\n",
    "driver = webdriver.Chrome()\n",
    "driver.get(url)"
   ]
  },
  {
   "cell_type": "markdown",
   "metadata": {},
   "source": [
    "table class = lcsd-datatable--ora-foia-reading table table-bordered dataTable no footer dtr-inline"
   ]
  },
  {
   "cell_type": "code",
   "execution_count": 4,
   "metadata": {},
   "outputs": [
    {
     "data": {
      "text/plain": [
       "1463"
      ]
     },
     "execution_count": 4,
     "metadata": {},
     "output_type": "execute_result"
    }
   ],
   "source": [
    "# utilize the filter box to select only 483s (value = 0)\n",
    "select = Select(driver.find_element_by_css_selector('#lcds-datatable-filter--record-filter'))\n",
    "select.select_by_value('0')\n",
    "\n",
    "# get the table headers\n",
    "## read the datatable of page 1 for the sake of retrieving headers\n",
    "datatable_xpath = '//*[@id=\"DataTables_Table_0\"]'\n",
    "records = driver.find_element_by_xpath(datatable_xpath)\n",
    "records_innerhtml = records.get_attribute('innerHTML')\n",
    "soup = BeautifulSoup(records_innerhtml, 'html.parser')\n",
    "trs = soup.findAll('tr')\n",
    "headers = []\n",
    "for th in trs[0].findAll('th'):\n",
    "    headers.append(th.text)\n",
    "headers\n",
    "\n",
    "# scrape all rows in each page of the paginated datatable\n",
    "final_page = int(driver.find_element_by_xpath('//*[@id=\"DataTables_Table_0_paginate\"]/ul/li[8]').text)\n",
    "rows = []\n",
    "for page in range(1, final_page + 1):\n",
    "    \n",
    "    datatable_xpath = '//*[@id=\"DataTables_Table_0\"]'\n",
    "    records = driver.find_element_by_xpath(datatable_xpath)\n",
    "    records_innerhtml = records.get_attribute('innerHTML')\n",
    "    soup = BeautifulSoup(records_innerhtml, 'html.parser')\n",
    "    trs = soup.findAll('tr')\n",
    "    \n",
    "    for i in range(1, len(trs)):\n",
    "        tds = []\n",
    "        #page_rows = []\n",
    "        for td in trs[i].findAll('td'):\n",
    "            a = td.findAll('a')\n",
    "            spans = td.findAll('span')\n",
    "            inputs = td.findAll('input')\n",
    "            ret = \"\"\n",
    "            if len(a) != 0 or len(spans) != 0 or len(inputs) != 0:\n",
    "                if len(a) != 0:\n",
    "                    for link in a:\n",
    "                        ret += link.text + ' - '+link['href']\n",
    "                if len(spans) != 0:\n",
    "                    for span in spans:\n",
    "                        ret += span.text + ' - '+span['title']\n",
    "                if len(inputs) != 0:\n",
    "                    for inp in inputs:\n",
    "                        if inp.has_attr('value'):\n",
    "                            if inp.has_attr('type'):\n",
    "                                if inp['type'] == 'hidden':\n",
    "                                    ret += inp['value']\n",
    "            else: \n",
    "                ret = td.text if td.text != '' and td.text != '\\n' else \"NaN\"\n",
    "            tds.append(ret)\n",
    "        rows.append(tds)\n",
    "        \n",
    "    driver.find_element_by_xpath('//*[@id=\"DataTables_Table_0_next\"]/a').click()\n",
    "\n",
    "len(rows)"
   ]
  },
  {
   "cell_type": "code",
   "execution_count": 5,
   "metadata": {},
   "outputs": [
    {
     "data": {
      "text/html": [
       "<div>\n",
       "<style scoped>\n",
       "    .dataframe tbody tr th:only-of-type {\n",
       "        vertical-align: middle;\n",
       "    }\n",
       "\n",
       "    .dataframe tbody tr th {\n",
       "        vertical-align: top;\n",
       "    }\n",
       "\n",
       "    .dataframe thead th {\n",
       "        text-align: right;\n",
       "    }\n",
       "</style>\n",
       "<table border=\"1\" class=\"dataframe\">\n",
       "  <thead>\n",
       "    <tr style=\"text-align: right;\">\n",
       "      <th></th>\n",
       "      <th>record_date</th>\n",
       "      <th>fei_number</th>\n",
       "      <th>company_name</th>\n",
       "      <th>record_type</th>\n",
       "      <th>state</th>\n",
       "      <th>establishment_type</th>\n",
       "      <th>publish_date</th>\n",
       "      <th>href</th>\n",
       "      <th>pdf_url</th>\n",
       "    </tr>\n",
       "  </thead>\n",
       "  <tbody>\n",
       "    <tr>\n",
       "      <th>0</th>\n",
       "      <td>04/20/2021</td>\n",
       "      <td>3015448605</td>\n",
       "      <td>Emergent Manufacturing Operations Baltimore, LLC.</td>\n",
       "      <td>483</td>\n",
       "      <td>Maryland</td>\n",
       "      <td>Vaccine Manufacturer</td>\n",
       "      <td>04/21/2021</td>\n",
       "      <td>/media/147762/download</td>\n",
       "      <td>https://www.fda.gov/media/147762/download</td>\n",
       "    </tr>\n",
       "    <tr>\n",
       "      <th>1</th>\n",
       "      <td>02/05/2021</td>\n",
       "      <td>3006701521</td>\n",
       "      <td>Midwestern Pet Foods Chickasha Operation</td>\n",
       "      <td>483</td>\n",
       "      <td>Oklahoma</td>\n",
       "      <td>Pet Food Manufacturer</td>\n",
       "      <td>04/19/2021</td>\n",
       "      <td>/media/146854/download</td>\n",
       "      <td>https://www.fda.gov/media/146854/download</td>\n",
       "    </tr>\n",
       "    <tr>\n",
       "      <th>2</th>\n",
       "      <td>01/28/2021</td>\n",
       "      <td>3011761321</td>\n",
       "      <td>Wells Pharmacy, Inc</td>\n",
       "      <td>483</td>\n",
       "      <td>Tennessee</td>\n",
       "      <td>Outsourcing Facility</td>\n",
       "      <td>03/31/2021</td>\n",
       "      <td>/media/147184/download</td>\n",
       "      <td>https://www.fda.gov/media/147184/download</td>\n",
       "    </tr>\n",
       "    <tr>\n",
       "      <th>3</th>\n",
       "      <td>01/05/2021</td>\n",
       "      <td>3011834594</td>\n",
       "      <td>Juno Therapeutics, Inc.</td>\n",
       "      <td>483 Response</td>\n",
       "      <td>Washington</td>\n",
       "      <td>CAR-T Cell Therapy Manufacturer</td>\n",
       "      <td>01/25/2021</td>\n",
       "      <td>/media/145363/download</td>\n",
       "      <td>https://www.fda.gov/media/145363/download</td>\n",
       "    </tr>\n",
       "    <tr>\n",
       "      <th>4</th>\n",
       "      <td>12/10/2020</td>\n",
       "      <td>3013629214</td>\n",
       "      <td>Lonza Houston, Inc</td>\n",
       "      <td>483</td>\n",
       "      <td>Texas</td>\n",
       "      <td>Manufacturer</td>\n",
       "      <td>01/14/2021</td>\n",
       "      <td>/media/145127/download</td>\n",
       "      <td>https://www.fda.gov/media/145127/download</td>\n",
       "    </tr>\n",
       "  </tbody>\n",
       "</table>\n",
       "</div>"
      ],
      "text/plain": [
       "  record_date  fei_number                                       company_name  \\\n",
       "0  04/20/2021  3015448605  Emergent Manufacturing Operations Baltimore, LLC.   \n",
       "1  02/05/2021  3006701521           Midwestern Pet Foods Chickasha Operation   \n",
       "2  01/28/2021  3011761321                               Wells Pharmacy, Inc    \n",
       "3  01/05/2021  3011834594                            Juno Therapeutics, Inc.   \n",
       "4  12/10/2020  3013629214                                 Lonza Houston, Inc   \n",
       "\n",
       "    record_type       state               establishment_type publish_date  \\\n",
       "0           483    Maryland             Vaccine Manufacturer   04/21/2021   \n",
       "1           483    Oklahoma            Pet Food Manufacturer   04/19/2021   \n",
       "2           483   Tennessee             Outsourcing Facility   03/31/2021   \n",
       "3  483 Response  Washington  CAR-T Cell Therapy Manufacturer   01/25/2021   \n",
       "4           483       Texas                     Manufacturer   01/14/2021   \n",
       "\n",
       "                     href                                    pdf_url  \n",
       "0  /media/147762/download  https://www.fda.gov/media/147762/download  \n",
       "1  /media/146854/download  https://www.fda.gov/media/146854/download  \n",
       "2  /media/147184/download  https://www.fda.gov/media/147184/download  \n",
       "3  /media/145363/download  https://www.fda.gov/media/145363/download  \n",
       "4  /media/145127/download  https://www.fda.gov/media/145127/download  "
      ]
     },
     "execution_count": 5,
     "metadata": {},
     "output_type": "execute_result"
    }
   ],
   "source": [
    "df = pd.DataFrame(rows, columns = headers)\n",
    "df[['Record Type', 'HREF']] = df['Record Type'].str.split(' - ', 1, expand = True)\n",
    "df = df.clean_names()\n",
    "df['pdf_url'] = 'https://www.fda.gov' + df['href']\n",
    "df.head()"
   ]
  },
  {
   "cell_type": "markdown",
   "metadata": {},
   "source": [
    "## Step 2: Read each 483 PDF through an OCR machine into notebook"
   ]
  },
  {
   "cell_type": "code",
   "execution_count": 6,
   "metadata": {},
   "outputs": [],
   "source": [
    "list_urls = list(df.pdf_url)\n",
    "test_pdf = list_urls[0]"
   ]
  },
  {
   "cell_type": "code",
   "execution_count": 7,
   "metadata": {},
   "outputs": [],
   "source": [
    "driver.quit()"
   ]
  },
  {
   "cell_type": "markdown",
   "metadata": {},
   "source": [
    "## Step 3: Tidy each document into a corpus"
   ]
  },
  {
   "cell_type": "markdown",
   "metadata": {},
   "source": [
    "## Step 4: Perform Topic Modeling on Most Recent 1 Year of Drug Observations"
   ]
  },
  {
   "cell_type": "markdown",
   "metadata": {},
   "source": [
    "## References"
   ]
  },
  {
   "cell_type": "markdown",
   "metadata": {},
   "source": [
    "__Useful Links__  \n",
    "https://medium.com/@sarfrazarshad/scraping-dynamically-created-tables-196b7cbe6c84  \n",
    "https://stackoverflow.com/questions/56757261/extract-href-using-pandas-read-html/56757977  \n",
    "https://stackoverflow.com/questions/60757571/python-pandas-parse-html-table-to-get-hidden-values-and-links  \n",
    "https://stackoverflow.com/questions/51092362/selenium-clicking-to-next-page-until-on-last-page"
   ]
  }
 ],
 "metadata": {
  "kernelspec": {
   "display_name": "Python 3",
   "language": "python",
   "name": "python3"
  },
  "language_info": {
   "codemirror_mode": {
    "name": "ipython",
    "version": 3
   },
   "file_extension": ".py",
   "mimetype": "text/x-python",
   "name": "python",
   "nbconvert_exporter": "python",
   "pygments_lexer": "ipython3",
   "version": "3.7.7"
  }
 },
 "nbformat": 4,
 "nbformat_minor": 4
}
