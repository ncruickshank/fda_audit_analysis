{
 "cells": [
  {
   "cell_type": "markdown",
   "metadata": {},
   "source": [
    "# FDA Reading Room 483 Analysis"
   ]
  },
  {
   "cell_type": "code",
   "execution_count": 1,
   "metadata": {},
   "outputs": [
    {
     "name": "stdout",
     "output_type": "stream",
     "text": [
      "Script last ran on 05/19/2021\n"
     ]
    }
   ],
   "source": [
    "import datetime #import date\n",
    "today_formatted = datetime.datetime.today().strftime(\"%m/%d/%Y\")\n",
    "print(\"Script last ran on {}\".format(today_formatted))"
   ]
  },
  {
   "cell_type": "code",
   "execution_count": 2,
   "metadata": {},
   "outputs": [],
   "source": [
    "# import packages\n",
    "import numpy as np\n",
    "import pandas as pd\n",
    "import matplotlib.pyplot as plt\n",
    "import datetime\n",
    "import requests\n",
    "import lxml\n",
    "import html5lib \n",
    "from bs4 import BeautifulSoup\n",
    "import janitor\n",
    "import tempfile\n",
    "import os # to get current opperating system\n",
    "import shutil\n",
    "import time\n",
    "\n",
    "import cv2\n",
    "from PIL import Image\n",
    "from pathlib import Path\n",
    "from pdf2image import convert_from_path\n",
    "\n",
    "import pytesseract\n",
    "# be sure to modify this path as appropriate\n",
    "pytesseract.pytesseract.tesseract_cmd = r'C:\\Users\\ncruickshank\\AppData\\Local\\Programs\\Tesseract-OCR\\tesseract.exe'\n",
    "\n",
    "# selenium functions\n",
    "from selenium import webdriver\n",
    "from selenium.webdriver.common.keys import Keys #allow  you to enter keystrokes into fields\n",
    "from selenium.webdriver.support.ui import Select #allow you to select a dropdown item\n",
    "from selenium.webdriver.support.ui import WebDriverWait #lets you modify a field before proceeding\n",
    "from selenium.common.exceptions import NoSuchElementException \n",
    "from selenium.webdriver.support import expected_conditions as EC\n",
    "from selenium.webdriver.common.by import By\n",
    "\n",
    "# for machine learning / topic modeling phase\n",
    "import nltk\n",
    "from nltk.stem import WordNetLemmatizer\n",
    "from nltk.corpus import stopwords\n",
    "import re\n",
    "from pprint import pprint\n",
    "import gensim\n",
    "import gensim.corpora as corpora\n",
    "from gensim.utils import simple_preprocess\n",
    "from gensim.models import CoherenceModel\n",
    "import pyLDAvis\n",
    "import pyLDAvis.gensim\n",
    "import plotly.express as px\n",
    "import operator\n",
    "\n",
    "import warnings\n",
    "warnings.filterwarnings(\"ignore\",category=DeprecationWarning)"
   ]
  },
  {
   "cell_type": "markdown",
   "metadata": {},
   "source": [
    "## Get the Data: FDA Reading Room Web Scraping"
   ]
  },
  {
   "cell_type": "markdown",
   "metadata": {},
   "source": [
    "The [FDA Reading Room](https://www.fda.gov/about-fda/office-regulatory-affairs/ora-foia-electronic-reading-room) provides a dynamically created data table of \"ORA domestic inspection and related records.\" In other words, it is an open-access source of FDA Audit Observations captured on Form 483. When browsing the data table, you can click on any cell in the _Record Type_ field, and it will send you to a redacted version of the Form 483 that the audited Company received. Through the use of web scraping tools such as `BeautifulSoup` and `Selenium` it is possible to extract these hyperlinks and follow them in order to download the associated PDF files. Once those PDFs have been downloaded, [Optical Character Recognition (OCR)](https://en.wikipedia.org/wiki/Optical_character_recognition) can be performed on the PDFs using the Tesseract engine after splitting each page into a distinct JPG file. With each Form F83 processed in this way, it is possible to utilize machine learning and perform [Topic Modeling](https://en.wikipedia.org/wiki/Topic_model) on the resulting text documents. This will in turn enable an FDA Regulated Company to understand what topics the FDA cares about during audits, which topics are surging in popular, and which topics individual auditors care about the most."
   ]
  },
  {
   "cell_type": "code",
   "execution_count": 3,
   "metadata": {},
   "outputs": [],
   "source": [
    "cwd = os.getcwd()\n",
    "temp483pdf_filepath = cwd + '\\\\temp483pdf'\n",
    "temp483images_filepath = cwd + '\\\\temp483images'\n",
    "\n",
    "op = webdriver.ChromeOptions()\n",
    "prefs = {\"download.default_directory\": temp483pdf_filepath,\n",
    "        \"download.prompt_for_download\": False,\n",
    "        \"download.directory_upgrade\": True,\n",
    "         \"download.extensions_to_open\": \"applications/pdf\",\n",
    "        \"plugins.always_open_pdf_externally\": True}\n",
    "\n",
    "op.add_experimental_option(\"prefs\", prefs)\n",
    "driver = webdriver.Chrome()"
   ]
  },
  {
   "cell_type": "markdown",
   "metadata": {},
   "source": [
    "table class = lcsd-datatable--ora-foia-reading table table-bordered dataTable no footer dtr-inline"
   ]
  },
  {
   "cell_type": "code",
   "execution_count": 4,
   "metadata": {},
   "outputs": [],
   "source": [
    "# use driver to open website\n",
    "url = 'https://www.fda.gov/about-fda/office-regulatory-affairs/ora-foia-electronic-reading-room'\n",
    "driver.get(url)"
   ]
  },
  {
   "cell_type": "code",
   "execution_count": 5,
   "metadata": {},
   "outputs": [],
   "source": [
    "# utilize the filter box to select only 483s (value = 0)\n",
    "WebDriverWait(driver, 20).until(EC.element_to_be_clickable((By.CSS_SELECTOR, '#lcds-datatable-filter--record-filter')))\n",
    "select = Select(driver.find_element_by_css_selector('#lcds-datatable-filter--record-filter'))\n",
    "select.select_by_visible_text(\"483\")"
   ]
  },
  {
   "cell_type": "code",
   "execution_count": 6,
   "metadata": {},
   "outputs": [
    {
     "data": {
      "text/plain": [
       "1466"
      ]
     },
     "execution_count": 6,
     "metadata": {},
     "output_type": "execute_result"
    }
   ],
   "source": [
    "# get the table headers\n",
    "## read the datatable of page 1 for the sake of retrieving headers\n",
    "datatable_xpath = '//*[@id=\"DataTables_Table_0\"]'\n",
    "records = driver.find_element_by_xpath(datatable_xpath)\n",
    "records_innerhtml = records.get_attribute('innerHTML')\n",
    "soup = BeautifulSoup(records_innerhtml, 'html.parser')\n",
    "trs = soup.findAll('tr')\n",
    "headers = []\n",
    "for th in trs[0].findAll('th'):\n",
    "    headers.append(th.text)\n",
    "headers\n",
    "\n",
    "# scrape all rows in each page of the paginated datatable\n",
    "final_page = int(driver.find_element_by_xpath('//*[@id=\"DataTables_Table_0_paginate\"]/ul/li[8]').text)\n",
    "rows = []\n",
    "for page in range(1, final_page + 1):\n",
    "    \n",
    "    datatable_xpath = '//*[@id=\"DataTables_Table_0\"]'\n",
    "    records = driver.find_element_by_xpath(datatable_xpath)\n",
    "    records_innerhtml = records.get_attribute('innerHTML')\n",
    "    soup = BeautifulSoup(records_innerhtml, 'html.parser')\n",
    "    trs = soup.findAll('tr')\n",
    "    \n",
    "    for i in range(1, len(trs)):\n",
    "        tds = []\n",
    "        for td in trs[i].findAll('td'):\n",
    "            a = td.findAll('a')\n",
    "            spans = td.findAll('span')\n",
    "            inputs = td.findAll('input')\n",
    "            ret = \"\"\n",
    "            if len(a) != 0 or len(spans) != 0 or len(inputs) != 0:\n",
    "                if len(a) != 0:\n",
    "                    for link in a:\n",
    "                        ret += link.text + ' - '+link['href']\n",
    "                if len(spans) != 0:\n",
    "                    for span in spans:\n",
    "                        ret += span.text + ' - '+span['title']\n",
    "                if len(inputs) != 0:\n",
    "                    for inp in inputs:\n",
    "                        if inp.has_attr('value'):\n",
    "                            if inp.has_attr('type'):\n",
    "                                if inp['type'] == 'hidden':\n",
    "                                    ret += inp['value']\n",
    "            else: \n",
    "                ret = td.text if td.text != '' and td.text != '\\n' else \"NaN\"\n",
    "            tds.append(ret)\n",
    "        rows.append(tds)\n",
    "        \n",
    "    driver.find_element_by_xpath('//*[@id=\"DataTables_Table_0_next\"]/a').click() #//*[@id=\"DataTables_Table_0_next\"]/a\n",
    "    #driver.find_element_by_class_name('paginate_button next').click()\n",
    "\n",
    "print(\"Number of records scraped from the FDA Reading Room Data Table: \", len(rows))"
   ]
  },
  {
   "cell_type": "code",
   "execution_count": 7,
   "metadata": {},
   "outputs": [
    {
     "data": {
      "text/html": [
       "<div>\n",
       "<style scoped>\n",
       "    .dataframe tbody tr th:only-of-type {\n",
       "        vertical-align: middle;\n",
       "    }\n",
       "\n",
       "    .dataframe tbody tr th {\n",
       "        vertical-align: top;\n",
       "    }\n",
       "\n",
       "    .dataframe thead th {\n",
       "        text-align: right;\n",
       "    }\n",
       "</style>\n",
       "<table border=\"1\" class=\"dataframe\">\n",
       "  <thead>\n",
       "    <tr style=\"text-align: right;\">\n",
       "      <th></th>\n",
       "      <th>record_date</th>\n",
       "      <th>fei_number</th>\n",
       "      <th>company_name</th>\n",
       "      <th>record_type</th>\n",
       "      <th>state</th>\n",
       "      <th>establishment_type</th>\n",
       "      <th>publish_date</th>\n",
       "      <th>href</th>\n",
       "      <th>pdf_url</th>\n",
       "    </tr>\n",
       "  </thead>\n",
       "  <tbody>\n",
       "    <tr>\n",
       "      <th>0</th>\n",
       "      <td>04/20/2021</td>\n",
       "      <td>3015448605</td>\n",
       "      <td>Emergent Manufacturing Operations Baltimore, LLC.</td>\n",
       "      <td>483</td>\n",
       "      <td>Maryland</td>\n",
       "      <td>Vaccine Manufacturer</td>\n",
       "      <td>05/13/2021</td>\n",
       "      <td>/media/148650/download</td>\n",
       "      <td>https://www.fda.gov/media/148650/download</td>\n",
       "    </tr>\n",
       "    <tr>\n",
       "      <th>1</th>\n",
       "      <td>02/05/2021</td>\n",
       "      <td>3006701521</td>\n",
       "      <td>Midwestern Pet Foods Chickasha Operation</td>\n",
       "      <td>483</td>\n",
       "      <td>Oklahoma</td>\n",
       "      <td>Pet Food Manufacturer</td>\n",
       "      <td>04/19/2021</td>\n",
       "      <td>/media/146854/download</td>\n",
       "      <td>https://www.fda.gov/media/146854/download</td>\n",
       "    </tr>\n",
       "    <tr>\n",
       "      <th>2</th>\n",
       "      <td>01/28/2021</td>\n",
       "      <td>3011761321</td>\n",
       "      <td>Wells Pharmacy, Inc</td>\n",
       "      <td>483</td>\n",
       "      <td>Tennessee</td>\n",
       "      <td>Outsourcing Facility</td>\n",
       "      <td>03/31/2021</td>\n",
       "      <td>/media/147184/download</td>\n",
       "      <td>https://www.fda.gov/media/147184/download</td>\n",
       "    </tr>\n",
       "    <tr>\n",
       "      <th>3</th>\n",
       "      <td>01/05/2021</td>\n",
       "      <td>3011834594</td>\n",
       "      <td>Juno Therapeutics, Inc.</td>\n",
       "      <td>483 Response</td>\n",
       "      <td>Washington</td>\n",
       "      <td>CAR-T Cell Therapy Manufacturer</td>\n",
       "      <td>01/25/2021</td>\n",
       "      <td>/media/145363/download</td>\n",
       "      <td>https://www.fda.gov/media/145363/download</td>\n",
       "    </tr>\n",
       "    <tr>\n",
       "      <th>4</th>\n",
       "      <td>12/10/2020</td>\n",
       "      <td>3013629214</td>\n",
       "      <td>Lonza Houston, Inc</td>\n",
       "      <td>483</td>\n",
       "      <td>Texas</td>\n",
       "      <td>Manufacturer</td>\n",
       "      <td>01/14/2021</td>\n",
       "      <td>/media/145127/download</td>\n",
       "      <td>https://www.fda.gov/media/145127/download</td>\n",
       "    </tr>\n",
       "  </tbody>\n",
       "</table>\n",
       "</div>"
      ],
      "text/plain": [
       "  record_date  fei_number                                       company_name  \\\n",
       "0  04/20/2021  3015448605  Emergent Manufacturing Operations Baltimore, LLC.   \n",
       "1  02/05/2021  3006701521           Midwestern Pet Foods Chickasha Operation   \n",
       "2  01/28/2021  3011761321                               Wells Pharmacy, Inc    \n",
       "3  01/05/2021  3011834594                            Juno Therapeutics, Inc.   \n",
       "4  12/10/2020  3013629214                                 Lonza Houston, Inc   \n",
       "\n",
       "    record_type       state               establishment_type publish_date  \\\n",
       "0           483    Maryland             Vaccine Manufacturer   05/13/2021   \n",
       "1           483    Oklahoma            Pet Food Manufacturer   04/19/2021   \n",
       "2           483   Tennessee             Outsourcing Facility   03/31/2021   \n",
       "3  483 Response  Washington  CAR-T Cell Therapy Manufacturer   01/25/2021   \n",
       "4           483       Texas                     Manufacturer   01/14/2021   \n",
       "\n",
       "                     href                                    pdf_url  \n",
       "0  /media/148650/download  https://www.fda.gov/media/148650/download  \n",
       "1  /media/146854/download  https://www.fda.gov/media/146854/download  \n",
       "2  /media/147184/download  https://www.fda.gov/media/147184/download  \n",
       "3  /media/145363/download  https://www.fda.gov/media/145363/download  \n",
       "4  /media/145127/download  https://www.fda.gov/media/145127/download  "
      ]
     },
     "execution_count": 7,
     "metadata": {},
     "output_type": "execute_result"
    }
   ],
   "source": [
    "df = pd.DataFrame(rows, columns = headers)\n",
    "df[['Record Type', 'HREF']] = df['Record Type'].str.split(' - ', 1, expand = True)\n",
    "df = df.clean_names()\n",
    "df['pdf_url'] = 'https://www.fda.gov' + df['href']\n",
    "df.head()"
   ]
  },
  {
   "cell_type": "code",
   "execution_count": 8,
   "metadata": {},
   "outputs": [
    {
     "data": {
      "text/plain": [
       "(70, 10)"
      ]
     },
     "execution_count": 8,
     "metadata": {},
     "output_type": "execute_result"
    }
   ],
   "source": [
    "relavent_establishment_types = ['Producer of Sterile Drug Products', 'Outsourcing Facility', 'Manufacturer', 'Drug Manufacturer',\n",
    "                               'Compounding Pharmacy', 'Producer of Non Sterile Drug Products', 'Sterile Drug Manufacturer', \n",
    "                               'Pharmaceutical Manufacturer', 'Human Drug Manufacturer', 'Biological Drug Manufacturer', \n",
    "                               'Active Pharmaceutical Ingredient Manufacturer', 'Manufacturer and Repacker', \n",
    "                               'Active Pharmaceutical Ingredient & Finished Dosage Manufacturer', 'Biotech API Manufacturer',\n",
    "                               'Finished Pharmaceutical Manufacturer']\n",
    "\n",
    "two_years_ago = pd.to_datetime(datetime.datetime.today() - datetime.timedelta(days = 2*365))\n",
    "two_years_ago_formatted = two_years_ago.strftime(\"%m/%d/%Y\")\n",
    "\n",
    "# include cosmetics in this list\n",
    "df2 = df[(df['establishment_type'].isin(relavent_establishment_types)) & (df['record_type'] == \"483\")].reset_index()\n",
    "df2['record_date'] = pd.to_datetime(df2['record_date'])\n",
    "df2['publish_date'] = pd.to_datetime(df2['publish_date'])\n",
    "df2 = df2[df2['record_date'] > two_years_ago]\n",
    "print(\"Shape of tidied dataframe (rows, columns): \", df2.shape)"
   ]
  },
  {
   "cell_type": "code",
   "execution_count": 9,
   "metadata": {},
   "outputs": [],
   "source": [
    "driver.quit()"
   ]
  },
  {
   "cell_type": "markdown",
   "metadata": {},
   "source": [
    "## Step 2: Read each 483 PDF through an OCR machine into notebook"
   ]
  },
  {
   "cell_type": "markdown",
   "metadata": {},
   "source": [
    "__Useful Links__  \n",
    "https://towardsdatascience.com/extracting-text-from-scanned-pdf-using-pytesseract-open-cv-cd670ee38052  \n",
    "https://stackoverflow.com/questions/43149534/selenium-webdriver-how-to-download-a-pdf-file-with-python  \n",
    "https://stackoverflow.com/questions/46184239/extract-a-page-from-a-pdf-as-a-jpeg  (has a useful comment about making a pdf into one long JPEG)  "
   ]
  },
  {
   "cell_type": "code",
   "execution_count": 10,
   "metadata": {},
   "outputs": [
    {
     "data": {
      "text/html": [
       "<div>\n",
       "<style scoped>\n",
       "    .dataframe tbody tr th:only-of-type {\n",
       "        vertical-align: middle;\n",
       "    }\n",
       "\n",
       "    .dataframe tbody tr th {\n",
       "        vertical-align: top;\n",
       "    }\n",
       "\n",
       "    .dataframe thead th {\n",
       "        text-align: right;\n",
       "    }\n",
       "</style>\n",
       "<table border=\"1\" class=\"dataframe\">\n",
       "  <thead>\n",
       "    <tr style=\"text-align: right;\">\n",
       "      <th></th>\n",
       "      <th>index</th>\n",
       "      <th>record_date</th>\n",
       "      <th>fei_number</th>\n",
       "      <th>company_name</th>\n",
       "      <th>record_type</th>\n",
       "      <th>state</th>\n",
       "      <th>establishment_type</th>\n",
       "      <th>publish_date</th>\n",
       "      <th>href</th>\n",
       "      <th>pdf_url</th>\n",
       "    </tr>\n",
       "  </thead>\n",
       "  <tbody>\n",
       "    <tr>\n",
       "      <th>0</th>\n",
       "      <td>2</td>\n",
       "      <td>2021-01-28</td>\n",
       "      <td>3011761321</td>\n",
       "      <td>Wells Pharmacy, Inc</td>\n",
       "      <td>483</td>\n",
       "      <td>Tennessee</td>\n",
       "      <td>Outsourcing Facility</td>\n",
       "      <td>2021-03-31</td>\n",
       "      <td>/media/147184/download</td>\n",
       "      <td>https://www.fda.gov/media/147184/download</td>\n",
       "    </tr>\n",
       "    <tr>\n",
       "      <th>1</th>\n",
       "      <td>4</td>\n",
       "      <td>2020-12-10</td>\n",
       "      <td>3013629214</td>\n",
       "      <td>Lonza Houston, Inc</td>\n",
       "      <td>483</td>\n",
       "      <td>Texas</td>\n",
       "      <td>Manufacturer</td>\n",
       "      <td>2021-01-14</td>\n",
       "      <td>/media/145127/download</td>\n",
       "      <td>https://www.fda.gov/media/145127/download</td>\n",
       "    </tr>\n",
       "    <tr>\n",
       "      <th>2</th>\n",
       "      <td>5</td>\n",
       "      <td>2020-11-05</td>\n",
       "      <td>3006271438</td>\n",
       "      <td>Novel Laboratories, Inc. d.b.a LUPIN</td>\n",
       "      <td>483</td>\n",
       "      <td>New Jersey</td>\n",
       "      <td>Drug Manufacturer</td>\n",
       "      <td>2021-01-14</td>\n",
       "      <td>/media/145108/download</td>\n",
       "      <td>https://www.fda.gov/media/145108/download</td>\n",
       "    </tr>\n",
       "    <tr>\n",
       "      <th>3</th>\n",
       "      <td>6</td>\n",
       "      <td>2020-11-02</td>\n",
       "      <td>3005543749</td>\n",
       "      <td>Hopkinton Drug, Inc.</td>\n",
       "      <td>483</td>\n",
       "      <td>Massachusetts</td>\n",
       "      <td>Producer of Non Sterile Drug Products</td>\n",
       "      <td>2021-01-29</td>\n",
       "      <td>/media/145540/download</td>\n",
       "      <td>https://www.fda.gov/media/145540/download</td>\n",
       "    </tr>\n",
       "    <tr>\n",
       "      <th>4</th>\n",
       "      <td>7</td>\n",
       "      <td>2020-10-29</td>\n",
       "      <td>3010039017</td>\n",
       "      <td>Advanced Nutriceuticals, LLC</td>\n",
       "      <td>483</td>\n",
       "      <td>Indiana</td>\n",
       "      <td>Producer of Sterile Drug Products</td>\n",
       "      <td>2020-12-16</td>\n",
       "      <td>/media/144544/download</td>\n",
       "      <td>https://www.fda.gov/media/144544/download</td>\n",
       "    </tr>\n",
       "    <tr>\n",
       "      <th>...</th>\n",
       "      <td>...</td>\n",
       "      <td>...</td>\n",
       "      <td>...</td>\n",
       "      <td>...</td>\n",
       "      <td>...</td>\n",
       "      <td>...</td>\n",
       "      <td>...</td>\n",
       "      <td>...</td>\n",
       "      <td>...</td>\n",
       "      <td>...</td>\n",
       "    </tr>\n",
       "    <tr>\n",
       "      <th>65</th>\n",
       "      <td>117</td>\n",
       "      <td>2019-06-17</td>\n",
       "      <td>3013854204</td>\n",
       "      <td>Maitland Labs of Central Florida</td>\n",
       "      <td>483</td>\n",
       "      <td>Florida</td>\n",
       "      <td>Outsourcing Facility</td>\n",
       "      <td>2020-03-09</td>\n",
       "      <td>/media/135882/download</td>\n",
       "      <td>https://www.fda.gov/media/135882/download</td>\n",
       "    </tr>\n",
       "    <tr>\n",
       "      <th>66</th>\n",
       "      <td>123</td>\n",
       "      <td>2019-06-06</td>\n",
       "      <td>3011509553</td>\n",
       "      <td>RXQ Compounding LLC</td>\n",
       "      <td>483</td>\n",
       "      <td>Ohio</td>\n",
       "      <td>Outsourcing Facility</td>\n",
       "      <td>2019-11-27</td>\n",
       "      <td>/media/132894/download</td>\n",
       "      <td>https://www.fda.gov/media/132894/download</td>\n",
       "    </tr>\n",
       "    <tr>\n",
       "      <th>67</th>\n",
       "      <td>124</td>\n",
       "      <td>2019-06-04</td>\n",
       "      <td>3002401385</td>\n",
       "      <td>Custom Compounding Center</td>\n",
       "      <td>483</td>\n",
       "      <td>Arkansas</td>\n",
       "      <td>Producer of Non Sterile Drug Products</td>\n",
       "      <td>2019-07-12</td>\n",
       "      <td>/media/128777/download</td>\n",
       "      <td>https://www.fda.gov/media/128777/download</td>\n",
       "    </tr>\n",
       "    <tr>\n",
       "      <th>68</th>\n",
       "      <td>125</td>\n",
       "      <td>2019-05-31</td>\n",
       "      <td>3012034698</td>\n",
       "      <td>Pacifico National, Inc. dba AmEx Pharmacy</td>\n",
       "      <td>483</td>\n",
       "      <td>Florida</td>\n",
       "      <td>Outsourcing Facility</td>\n",
       "      <td>2019-07-22</td>\n",
       "      <td>/media/128709/download</td>\n",
       "      <td>https://www.fda.gov/media/128709/download</td>\n",
       "    </tr>\n",
       "    <tr>\n",
       "      <th>69</th>\n",
       "      <td>126</td>\n",
       "      <td>2019-05-31</td>\n",
       "      <td>3013931875</td>\n",
       "      <td>QuVa Pharma, Inc</td>\n",
       "      <td>483</td>\n",
       "      <td>New Jersey</td>\n",
       "      <td>Outsourcing Facility</td>\n",
       "      <td>2019-07-25</td>\n",
       "      <td>/media/128373/download</td>\n",
       "      <td>https://www.fda.gov/media/128373/download</td>\n",
       "    </tr>\n",
       "  </tbody>\n",
       "</table>\n",
       "<p>70 rows × 10 columns</p>\n",
       "</div>"
      ],
      "text/plain": [
       "    index record_date  fei_number                               company_name  \\\n",
       "0       2  2021-01-28  3011761321                       Wells Pharmacy, Inc    \n",
       "1       4  2020-12-10  3013629214                         Lonza Houston, Inc   \n",
       "2       5  2020-11-05  3006271438       Novel Laboratories, Inc. d.b.a LUPIN   \n",
       "3       6  2020-11-02  3005543749                       Hopkinton Drug, Inc.   \n",
       "4       7  2020-10-29  3010039017               Advanced Nutriceuticals, LLC   \n",
       "..    ...         ...         ...                                        ...   \n",
       "65    117  2019-06-17  3013854204           Maitland Labs of Central Florida   \n",
       "66    123  2019-06-06  3011509553                        RXQ Compounding LLC   \n",
       "67    124  2019-06-04  3002401385                 Custom Compounding Center    \n",
       "68    125  2019-05-31  3012034698  Pacifico National, Inc. dba AmEx Pharmacy   \n",
       "69    126  2019-05-31  3013931875                           QuVa Pharma, Inc   \n",
       "\n",
       "   record_type          state                     establishment_type  \\\n",
       "0          483      Tennessee                   Outsourcing Facility   \n",
       "1          483          Texas                           Manufacturer   \n",
       "2          483     New Jersey                      Drug Manufacturer   \n",
       "3          483  Massachusetts  Producer of Non Sterile Drug Products   \n",
       "4          483        Indiana      Producer of Sterile Drug Products   \n",
       "..         ...            ...                                    ...   \n",
       "65         483        Florida                   Outsourcing Facility   \n",
       "66         483           Ohio                   Outsourcing Facility   \n",
       "67         483       Arkansas  Producer of Non Sterile Drug Products   \n",
       "68         483        Florida                   Outsourcing Facility   \n",
       "69         483     New Jersey                   Outsourcing Facility   \n",
       "\n",
       "   publish_date                    href  \\\n",
       "0    2021-03-31  /media/147184/download   \n",
       "1    2021-01-14  /media/145127/download   \n",
       "2    2021-01-14  /media/145108/download   \n",
       "3    2021-01-29  /media/145540/download   \n",
       "4    2020-12-16  /media/144544/download   \n",
       "..          ...                     ...   \n",
       "65   2020-03-09  /media/135882/download   \n",
       "66   2019-11-27  /media/132894/download   \n",
       "67   2019-07-12  /media/128777/download   \n",
       "68   2019-07-22  /media/128709/download   \n",
       "69   2019-07-25  /media/128373/download   \n",
       "\n",
       "                                      pdf_url  \n",
       "0   https://www.fda.gov/media/147184/download  \n",
       "1   https://www.fda.gov/media/145127/download  \n",
       "2   https://www.fda.gov/media/145108/download  \n",
       "3   https://www.fda.gov/media/145540/download  \n",
       "4   https://www.fda.gov/media/144544/download  \n",
       "..                                        ...  \n",
       "65  https://www.fda.gov/media/135882/download  \n",
       "66  https://www.fda.gov/media/132894/download  \n",
       "67  https://www.fda.gov/media/128777/download  \n",
       "68  https://www.fda.gov/media/128709/download  \n",
       "69  https://www.fda.gov/media/128373/download  \n",
       "\n",
       "[70 rows x 10 columns]"
      ]
     },
     "execution_count": 10,
     "metadata": {},
     "output_type": "execute_result"
    }
   ],
   "source": [
    "df2"
   ]
  },
  {
   "cell_type": "markdown",
   "metadata": {},
   "source": [
    "#### Step 2a: Download each PDF"
   ]
  },
  {
   "cell_type": "code",
   "execution_count": 11,
   "metadata": {},
   "outputs": [],
   "source": [
    "cwd = os.getcwd()\n",
    "temp483pdf_filepath = cwd + '\\\\temp483pdf'\n",
    "temp483images_filepath = cwd + '\\\\temp483images'\n",
    "temp483images2_filepath = cwd + '\\\\temp483images2'\n",
    "\n",
    "def every_downloads_chrome(driver):\n",
    "    if not driver.current_url.startswith(\"chrome://downloads\"):\n",
    "        driver.get(\"chrome://downloads/\")\n",
    "    return driver.execute_script(\"\"\"\n",
    "        var items = document.querySelector('downloads-manager')\n",
    "            .shadowRoot.getElementById('downloadsList').items;\n",
    "        if (items.every(e => e.state === \"COMPLETE\"))\n",
    "            return items.map(e => e.fileUrl || e.file_url);\n",
    "        \"\"\")"
   ]
  },
  {
   "cell_type": "code",
   "execution_count": 12,
   "metadata": {},
   "outputs": [
    {
     "data": {
      "text/html": [
       "<div>\n",
       "<style scoped>\n",
       "    .dataframe tbody tr th:only-of-type {\n",
       "        vertical-align: middle;\n",
       "    }\n",
       "\n",
       "    .dataframe tbody tr th {\n",
       "        vertical-align: top;\n",
       "    }\n",
       "\n",
       "    .dataframe thead th {\n",
       "        text-align: right;\n",
       "    }\n",
       "</style>\n",
       "<table border=\"1\" class=\"dataframe\">\n",
       "  <thead>\n",
       "    <tr style=\"text-align: right;\">\n",
       "      <th></th>\n",
       "      <th>pdf_url</th>\n",
       "      <th>pdf_name</th>\n",
       "    </tr>\n",
       "  </thead>\n",
       "  <tbody>\n",
       "    <tr>\n",
       "      <th>0</th>\n",
       "      <td>https://www.fda.gov/media/147184/download</td>\n",
       "      <td>WellsPharmacy508ed_0</td>\n",
       "    </tr>\n",
       "    <tr>\n",
       "      <th>1</th>\n",
       "      <td>https://www.fda.gov/media/145127/download</td>\n",
       "      <td>Lonza508ed</td>\n",
       "    </tr>\n",
       "    <tr>\n",
       "      <th>2</th>\n",
       "      <td>https://www.fda.gov/media/145108/download</td>\n",
       "      <td>Novel508ed</td>\n",
       "    </tr>\n",
       "    <tr>\n",
       "      <th>3</th>\n",
       "      <td>https://www.fda.gov/media/145540/download</td>\n",
       "      <td>Hopkinton508ed</td>\n",
       "    </tr>\n",
       "    <tr>\n",
       "      <th>4</th>\n",
       "      <td>https://www.fda.gov/media/144544/download</td>\n",
       "      <td>AdvancedNutriceuticals508ed</td>\n",
       "    </tr>\n",
       "    <tr>\n",
       "      <th>...</th>\n",
       "      <td>...</td>\n",
       "      <td>...</td>\n",
       "    </tr>\n",
       "    <tr>\n",
       "      <th>65</th>\n",
       "      <td>https://www.fda.gov/media/135882/download</td>\n",
       "      <td>MaitlandLabs508ed</td>\n",
       "    </tr>\n",
       "    <tr>\n",
       "      <th>66</th>\n",
       "      <td>https://www.fda.gov/media/132894/download</td>\n",
       "      <td>RXQ508ed</td>\n",
       "    </tr>\n",
       "    <tr>\n",
       "      <th>67</th>\n",
       "      <td>https://www.fda.gov/media/128777/download</td>\n",
       "      <td>FOI%20APPLIED_CustomCompCenter_LittleRockAR_48...</td>\n",
       "    </tr>\n",
       "    <tr>\n",
       "      <th>68</th>\n",
       "      <td>https://www.fda.gov/media/128709/download</td>\n",
       "      <td>FOI%20APPLIED_PacificoAmEx_MelbourneFL_AMENDED...</td>\n",
       "    </tr>\n",
       "    <tr>\n",
       "      <th>69</th>\n",
       "      <td>https://www.fda.gov/media/128373/download</td>\n",
       "      <td>FOI%20APPLIED_QuVa_BloomsburyNJ_483_05.31.19_R...</td>\n",
       "    </tr>\n",
       "  </tbody>\n",
       "</table>\n",
       "<p>70 rows × 2 columns</p>\n",
       "</div>"
      ],
      "text/plain": [
       "                                      pdf_url  \\\n",
       "0   https://www.fda.gov/media/147184/download   \n",
       "1   https://www.fda.gov/media/145127/download   \n",
       "2   https://www.fda.gov/media/145108/download   \n",
       "3   https://www.fda.gov/media/145540/download   \n",
       "4   https://www.fda.gov/media/144544/download   \n",
       "..                                        ...   \n",
       "65  https://www.fda.gov/media/135882/download   \n",
       "66  https://www.fda.gov/media/132894/download   \n",
       "67  https://www.fda.gov/media/128777/download   \n",
       "68  https://www.fda.gov/media/128709/download   \n",
       "69  https://www.fda.gov/media/128373/download   \n",
       "\n",
       "                                             pdf_name  \n",
       "0                                WellsPharmacy508ed_0  \n",
       "1                                          Lonza508ed  \n",
       "2                                          Novel508ed  \n",
       "3                                      Hopkinton508ed  \n",
       "4                         AdvancedNutriceuticals508ed  \n",
       "..                                                ...  \n",
       "65                                  MaitlandLabs508ed  \n",
       "66                                           RXQ508ed  \n",
       "67  FOI%20APPLIED_CustomCompCenter_LittleRockAR_48...  \n",
       "68  FOI%20APPLIED_PacificoAmEx_MelbourneFL_AMENDED...  \n",
       "69  FOI%20APPLIED_QuVa_BloomsburyNJ_483_05.31.19_R...  \n",
       "\n",
       "[70 rows x 2 columns]"
      ]
     },
     "execution_count": 12,
     "metadata": {},
     "output_type": "execute_result"
    }
   ],
   "source": [
    "ref_rows = []\n",
    "for record in df2.pdf_url:\n",
    "    row = []\n",
    "    driver = webdriver.Chrome(options = op)\n",
    "    # download the pdf\n",
    "    driver.get(record)\n",
    "    \n",
    "    # get file names once fully dowloaded\n",
    "    pdfs_path = WebDriverWait(driver, 120, 1).until(every_downloads_chrome)\n",
    "    if \"chrome://downloads\" in driver.current_url:\n",
    "        driver.close()\n",
    "    \n",
    "    # reformat file name for reference\n",
    "    file = pdfs_path[0]\n",
    "    str_start = file.find(\"483pdf/\") + len(\"483pdf/\")\n",
    "    str_end = file.find(\".pdf\")\n",
    "    file_name = file[str_start:str_end]\n",
    "    \n",
    "    row.append(record)\n",
    "    row.append(file_name)\n",
    "    ref_rows.append(row)\n",
    "    driver.quit()\n",
    "ref_headers = ['pdf_url', 'pdf_name']\n",
    "refs = pd.DataFrame(ref_rows, columns = ref_headers)\n",
    "refs"
   ]
  },
  {
   "cell_type": "markdown",
   "metadata": {},
   "source": [
    "Tesseract maximum image width and height are 32767. If an image has width or height greater than this value, it will error and break the loop. Therefore, the loop needs to either skip these large files, break them up into manageable pieces, or resize them to fit."
   ]
  },
  {
   "cell_type": "code",
   "execution_count": 13,
   "metadata": {},
   "outputs": [],
   "source": [
    "# STEP 2: For each pdf, convert each page into jpg and save it in a new folder\n",
    "rows = []\n",
    "pdf_folder = Path(temp483pdf_filepath)\n",
    "images_folder = Path(temp483images_filepath)\n",
    "images2_folder = Path(temp483images2_filepath)\n",
    "for pdf in pdf_folder.glob(\"*.pdf\"): # pdfs_path:\n",
    "    # get pdf name\n",
    "    #str_start = pdf.find(\"temp483pdf/\") + len(\"temp483pdf/\")\n",
    "    #str_end = pdf.find(\".pdf\")\n",
    "    #file_path = temp483pdf_filepath + \"\\\\\" + pdf[str_start:]\n",
    "    #file_name = pdf[str_start:str_end]\n",
    "    file_name = str(pdf.name)\n",
    "    file_name2 = file_name[:file_name.find(\".pdf\")]\n",
    "    \n",
    "    # convert the pdf into jpgs\n",
    "    images = []\n",
    "    with tempfile.TemporaryDirectory() as temp_dir:\n",
    "        pages = convert_from_path(pdf, 300, output_folder = temp_dir)\n",
    "        i = 1\n",
    "        \n",
    "        for page in pages:\n",
    "            if i < 10:\n",
    "                pn = \"0\" + str(i)\n",
    "            else: \n",
    "                pn = str(i)\n",
    "            image_name = temp483images_filepath + \"\\\\\" + file_name + \" - Page \" + str(pn) + \" of \" + str(len(pages)) + \".jpg\"\n",
    "            page.save(image_name, 'JPEG')\n",
    "            images.append(image_name)\n",
    "            i = i + 1\n",
    "    \n",
    "    row = []\n",
    "    row.append(file_name2)\n",
    "    \n",
    "    # crop the first page to parse info from headers and footers\n",
    "    page = cv2.imread(images[0])\n",
    "    \n",
    "    # sometimes cv2 breaks during this process, in which case plt can be used as a workaround\n",
    "    if page is None:\n",
    "        page1 = plt.imread(images[0])\n",
    "        page1 = page1[...,::-1]\n",
    "    else:\n",
    "        page1 = page\n",
    "    \n",
    "    ## firm name\n",
    "    firm_coord = [(250, 615), (1328, 775)]\n",
    "    firm = page1[firm_coord[0][1]:firm_coord[1][1], firm_coord[0][0]:firm_coord[1][0]]\n",
    "    firm_text = str(pytesseract.image_to_string(firm))\n",
    "    row.append(firm_text)\n",
    "    \n",
    "    # establishment type\n",
    "    type_coord = [(1300, 650), (2415, 790)]\n",
    "    firm_type = page1[type_coord[0][1]:type_coord[1][1], type_coord[0][0]:type_coord[1][0]]\n",
    "    establishment_type_text = str(pytesseract.image_to_string(firm_type))\n",
    "    row.append(establishment_type_text)\n",
    "    \n",
    "    ## facility city\n",
    "    city_coord = [(250, 625), (1325, 790)]\n",
    "    facility_city = page1[city_coord[0][1]:city_coord[1][1], city_coord[0][0]:city_coord[1][0]]\n",
    "\n",
    "    #city_filepath = temp483images_filepath + \"\\\\\" + file_name + \" City.jpg\"\n",
    "    #cv2.imwrite(city_filepath, facility_city)\n",
    "\n",
    "    city_text = str(pytesseract.image_to_string(facility_city))\n",
    "    row.append(city_text)\n",
    "    \n",
    "    ## auditors\n",
    "    auditors_coord = [(630, 2735), (1740, 2972)]\n",
    "    auditors = page1[auditors_coord[0][1]:auditors_coord[1][1], auditors_coord[0][0]:auditors_coord[1][0]]\n",
    "\n",
    "    #auditors_filepath = temp483images2_filepath + \"\\\\\" + file_name + \" Auditors.jpg\"\n",
    "    #cv2.imwrite(auditors_filepath, auditors)\n",
    "\n",
    "    auditors_text = str(pytesseract.image_to_string(auditors))\n",
    "    row.append(auditors_text)\n",
    "\n",
    "    ## audit dates\n",
    "    audit_dates_coord = [(1558, 200), (2410, 305)]\n",
    "    audit_dates = page1[audit_dates_coord[0][1]:audit_dates_coord[1][1], audit_dates_coord[0][0]:audit_dates_coord[1][0]]\n",
    "\n",
    "    #audit_dates_filepath = temp483images_filepath + \"\\\\\" + file_name + \" Audit Dates.jpg\"\n",
    "    #cv2.imwrite(audit_dates_filepath, audit_dates)\n",
    "\n",
    "    dates_text = str(pytesseract.image_to_string(audit_dates))\n",
    "    row.append(dates_text)\n",
    "    \n",
    "    # observations crop\n",
    "    cropped_observations = []\n",
    "    for image_file in images_folder.glob(\"*.jpg\"):\n",
    "        image_file_name = str(image_file.name)\n",
    "        \n",
    "        ## read the image into the for loop\n",
    "        image_path = temp483images_filepath + \"\\\\\" + image_file_name\n",
    "        imagex = cv2.imread(image_path)\n",
    "        \n",
    "        # same cv2 bug workaround\n",
    "        if imagex is None:\n",
    "            image = plt.imread(image_path)\n",
    "            image = image[...,::-1]\n",
    "        else:\n",
    "            image = imagex\n",
    "        \n",
    "        ## crop each JPG page of the original PDF for just the observation section\n",
    "        obs_coord = [(150, 800), (2405, 2680)]\n",
    "        observations = image[obs_coord[0][1]:obs_coord[1][1], obs_coord[0][0]:obs_coord[1][0]]\n",
    "        \n",
    "        ## save the cropped images\n",
    "        \n",
    "        ### get jpg name\n",
    "        str_start = image_file_name.find(\".pdf - \") + len(\".pdf - \")\n",
    "        str_end = image_file_name.find(\".jpg\")\n",
    "        obs_name = image_file_name[str_start:str_end]   \n",
    "                                  \n",
    "        observations_filepath = temp483images2_filepath + \"\\\\\" + obs_name + \" Observations.jpg\"\n",
    "        cv2.imwrite(observations_filepath, observations)\n",
    "        cropped_observations.append(observations_filepath)\n",
    "        image_file.unlink()\n",
    "    \n",
    "    # open the cropped observation images into a new PIL\n",
    "    crops = list(map(Image.open, cropped_observations))\n",
    "    \n",
    "    # find minimum width of crops\n",
    "    min_crop_width = min(i.width for i in crops)\n",
    "    \n",
    "    # find total height of all images\n",
    "    total_height = 0\n",
    "    for i, crop in enumerate(crops):\n",
    "        total_height += crops[i].height\n",
    "    \n",
    "    # create perimeter of merged image\n",
    "    merged_image = Image.new(crops[0].mode, (min_crop_width, total_height))\n",
    "    # paste images together one by one\n",
    "    y = 0\n",
    "    for crop in crops:\n",
    "        merged_image.paste(crop, (0, y))\n",
    "        y += crop.height\n",
    "    #merged_image_name = temp483images2_filepath + \"\\\\\" + file_name + \" Observations Merged.jpg\"\n",
    "    #merged_image.save(merged_image_name)\n",
    "    \n",
    "    # resize merged_image if it exceeds the max height that Tesseract can process\n",
    "    if total_height > 32767:\n",
    "        new_height = 32767\n",
    "        #conversion_factor = int(total_height) / int(new_height)\n",
    "        #new_width = int(min_crop_width) * int(conversion_factor)\n",
    "        new_width = int((min_crop_width / total_height) * new_height)\n",
    "        new_size = (new_width, new_height)\n",
    "        merged_image = merged_image.resize(new_size)\n",
    "    else:\n",
    "        merged_image = merged_image\n",
    "    \n",
    "    observation_text = str(pytesseract.image_to_string(merged_image))\n",
    "    row.append(observation_text)\n",
    "    \n",
    "    # append the finalized row to the running list of rows\n",
    "    rows.append(row)\n",
    "      \n",
    "    # delete the cropped jpgs files from temp483images2\n",
    "    for file in images2_folder.glob(\"*.jpg\"):\n",
    "        file.unlink()\n",
    "        \n",
    "    pdf.unlink()\n",
    "\n",
    "driver.quit()"
   ]
  },
  {
   "cell_type": "code",
   "execution_count": 14,
   "metadata": {},
   "outputs": [
    {
     "data": {
      "text/html": [
       "<div>\n",
       "<style scoped>\n",
       "    .dataframe tbody tr th:only-of-type {\n",
       "        vertical-align: middle;\n",
       "    }\n",
       "\n",
       "    .dataframe tbody tr th {\n",
       "        vertical-align: top;\n",
       "    }\n",
       "\n",
       "    .dataframe thead th {\n",
       "        text-align: right;\n",
       "    }\n",
       "</style>\n",
       "<table border=\"1\" class=\"dataframe\">\n",
       "  <thead>\n",
       "    <tr style=\"text-align: right;\">\n",
       "      <th></th>\n",
       "      <th>pdf_name</th>\n",
       "      <th>firm_name</th>\n",
       "      <th>establishment_type</th>\n",
       "      <th>facility_city</th>\n",
       "      <th>auditors</th>\n",
       "      <th>audit_dates</th>\n",
       "      <th>observations</th>\n",
       "    </tr>\n",
       "  </thead>\n",
       "  <tbody>\n",
       "    <tr>\n",
       "      <th>0</th>\n",
       "      <td>ABC508ed</td>\n",
       "      <td>kadiy E. Khaimov, Pharmacist-In-Charge\\niE\\n\\n...</td>\n",
       "      <td>REET ADDRESS |\\n6311 Ventura Blvd. Ste 110\\n</td>\n",
       "      <td>kadiy E. Khaimov, Pharmacist-In-Charge\\niE\\n\\n...</td>\n",
       "      <td>as\\n\\nIGNATURE | EMPLOYEE(S) NAME AND TITLE (P...</td>\n",
       "      <td>DATE(S) OF INSPECTION\\n</td>\n",
       "      <td>FY, STATE AND ZIP CODE TYPE OF ESTABLISHMENT I...</td>\n",
       "    </tr>\n",
       "    <tr>\n",
       "      <th>1</th>\n",
       "      <td>Abilene508ed</td>\n",
       "      <td>fai tSiime WML Sat ftw Meo INAH Sta\\nPharmacy\\...</td>\n",
       "      <td>\\n \\n\\nTYPE ESTABLISHMENT INSPECTED\\n\\nMan...</td>\n",
       "      <td>Pharmacy\\nCITY, STATE, ZIP CODE, COUNTRY\\n\\nAb...</td>\n",
       "      <td>Camerson E Moore, Investigator\\n</td>\n",
       "      <td>iN\\n\\nDATE(S) OF INSPECTION\\n10/28/2019-11/7/2...</td>\n",
       "      <td>This document lists observations made by the F...</td>\n",
       "    </tr>\n",
       "    <tr>\n",
       "      <th>2</th>\n",
       "      <td>AChem508ed</td>\n",
       "      <td>ish Chemparathy, R.Ph., Pharmacist in Charge &amp;...</td>\n",
       "      <td>\\n\\nREET ADDRESS\\n2116 Cortez Blvd.\\n</td>\n",
       "      <td>ish Chemparathy, R.Ph., Pharmacist in Charge &amp;...</td>\n",
       "      <td>\\n\\nS3NATURE EMPLOYEE(S) NAME AND TITLE (Prin...</td>\n",
       "      <td>\\n\\nDATE(S) OF INSPECTION\\n</td>\n",
       "      <td>\\n\\nY, STATE AND ZIP CODE TYPE OF ESTABLISHME...</td>\n",
       "    </tr>\n",
       "    <tr>\n",
       "      <th>3</th>\n",
       "      <td>AdvancedNutriceuticals508ed</td>\n",
       "      <td>Advanced Nutriceuticals, LLC\\n\\n \\n\\nCITY, STA...</td>\n",
       "      <td>650 B&amp;B oOth ot\\n\\n \\n\\nTYPE ESTABLISHMENT INS...</td>\n",
       "      <td>Advanced Nutriceuticals, LLC\\n\\n \\n\\nCITY, STA...</td>\n",
       "      <td>Se hee) a gee ee Peele het a 9 ew\\n\\nBei Y He,...</td>\n",
       "      <td>iN\\nDATE(S) OF INSPECTION\\n\\n10/13/2020-10/29/...</td>\n",
       "      <td>This document lists observations made by the F...</td>\n",
       "    </tr>\n",
       "    <tr>\n",
       "      <th>4</th>\n",
       "      <td>Ajinmoto508ed</td>\n",
       "      <td>fA J SSE EY FAR Ip tt\\nCITY. STATE, ZIP CODE, ...</td>\n",
       "      <td>TYPE ESTABLISHMENT INSPECTED\\nSterile Drug Man...</td>\n",
       "      <td>ae eee ee oe ii de ei as\\n\\nCITY. STATE, ZIP C...</td>\n",
       "      <td>Joey V Quitania, Investigator\\nSantiago Gallar...</td>\n",
       "      <td>—— OF INSPECTION\\n7/30/2019-8/7/2019*\\n</td>\n",
       "      <td>This document lists observations made by the F...</td>\n",
       "    </tr>\n",
       "    <tr>\n",
       "      <th>...</th>\n",
       "      <td>...</td>\n",
       "      <td>...</td>\n",
       "      <td>...</td>\n",
       "      <td>...</td>\n",
       "      <td>...</td>\n",
       "      <td>...</td>\n",
       "      <td>...</td>\n",
       "    </tr>\n",
       "    <tr>\n",
       "      <th>65</th>\n",
       "      <td>Surgery508ed</td>\n",
       "      <td>FIRM NAME\\n\\n   \\n\\nSurgery Pharmacy Services,...</td>\n",
       "      <td>3908 Tennessee Avenue, Suite F\\nTYPE ESTABLISH...</td>\n",
       "      <td>eo.\\n\\n   \\n\\nSurgery Pharmacy Services, inc.\\...</td>\n",
       "      <td>\\n\\nEMPLOYEE(S) NAME AND TITLE (Pri\\n\\nSamant...</td>\n",
       "      <td>DATE(S) OF INSPECTION\\n</td>\n",
       "      <td>This document lists observations made by the F...</td>\n",
       "    </tr>\n",
       "    <tr>\n",
       "      <th>66</th>\n",
       "      <td>USSpecialty508ed</td>\n",
       "      <td>US Specialty Formulations LLC\\n\\n \\n\\nCITY, ST...</td>\n",
       "      <td>eV ENN IN OH eh\\n\\nTYPE ESTASLISHMENT INSPECTE...</td>\n",
       "      <td>US Specialty Formulations LLC\\nCITY, STATE, ZI...</td>\n",
       "      <td>John M Mastalski, Investigator\\n\\n \\n\\nTRICTHO...</td>\n",
       "      <td>\\n\\nN SERVICES\\nON\\nDATE(S) OF INSPECTION\\n</td>\n",
       "      <td>This document lists observations made by the F...</td>\n",
       "    </tr>\n",
       "    <tr>\n",
       "      <th>67</th>\n",
       "      <td>VANewJersey508ed</td>\n",
       "      <td>\\n     \\n\\nMr. Vincent Immiti, MBA, FACHE, M...</td>\n",
       "      <td>Yenter Director\\n\\n \\n\\n385 Tremont Ave\\n</td>\n",
       "      <td>NAGASE APD TELE OP ELA. Pe Pe P| lee\\nMr. Vinc...</td>\n",
       "      <td>\\n\\nTAICOWOO STEAL. Ee CAMO Ot. TEMA\\n</td>\n",
       "      <td>ERVICES |\\n</td>\n",
       "      <td>\\n\\n   \\n\\n \\n  \\n\\n \\n \\n\\nCITY, STATE, ZiP...</td>\n",
       "    </tr>\n",
       "    <tr>\n",
       "      <th>68</th>\n",
       "      <td>VitalCare508ed</td>\n",
       "      <td>.evin J. McClung, D.Ph. / Owner and PIC\\nME\\n</td>\n",
       "      <td>EET ADDRESS\\n\\nhk we od. ee” Me eS ee\\n\\n \\n</td>\n",
       "      <td>.evin J. McClung, D.Ph. / Owner and PIC\\n\\n \\n</td>\n",
       "      <td>EMPLOYEE(S) NAME AND TITLE (Prin\\n\\n \\n\\n. Jon...</td>\n",
       "      <td></td>\n",
       "      <td>Pee a abe) a eee ee Mee AvP pe tele Ol he ee h...</td>\n",
       "    </tr>\n",
       "    <tr>\n",
       "      <th>69</th>\n",
       "      <td>WellsPharmacy508ed_0</td>\n",
       "      <td>Wells Pharmacy, Ine\\n\\n \\n\\nCIty STATE ZIP COD...</td>\n",
       "      <td>490 Us Highway ol Byp N\\n\\n \\n\\nTYPE ESTABLISH...</td>\n",
       "      <td>Wells Pharmacy, Ine\\n\\n \\n\\nCITY, STATE, ZIP C...</td>\n",
       "      <td>June P Page, Investigator\\nJulius I Jones, Inv...</td>\n",
       "      <td>JIN\\n\\nDATE(S) OF INSPEGTION\\n12/1/2020-1/28/2...</td>\n",
       "      <td>This document lists observations made by the F...</td>\n",
       "    </tr>\n",
       "  </tbody>\n",
       "</table>\n",
       "<p>70 rows × 7 columns</p>\n",
       "</div>"
      ],
      "text/plain": [
       "                       pdf_name  \\\n",
       "0                      ABC508ed   \n",
       "1                  Abilene508ed   \n",
       "2                    AChem508ed   \n",
       "3   AdvancedNutriceuticals508ed   \n",
       "4                 Ajinmoto508ed   \n",
       "..                          ...   \n",
       "65                 Surgery508ed   \n",
       "66             USSpecialty508ed   \n",
       "67             VANewJersey508ed   \n",
       "68               VitalCare508ed   \n",
       "69         WellsPharmacy508ed_0   \n",
       "\n",
       "                                            firm_name  \\\n",
       "0   kadiy E. Khaimov, Pharmacist-In-Charge\\niE\\n\\n...   \n",
       "1   fai tSiime WML Sat ftw Meo INAH Sta\\nPharmacy\\...   \n",
       "2   ish Chemparathy, R.Ph., Pharmacist in Charge &...   \n",
       "3   Advanced Nutriceuticals, LLC\\n\\n \\n\\nCITY, STA...   \n",
       "4   fA J SSE EY FAR Ip tt\\nCITY. STATE, ZIP CODE, ...   \n",
       "..                                                ...   \n",
       "65  FIRM NAME\\n\\n   \\n\\nSurgery Pharmacy Services,...   \n",
       "66  US Specialty Formulations LLC\\n\\n \\n\\nCITY, ST...   \n",
       "67    \\n     \\n\\nMr. Vincent Immiti, MBA, FACHE, M...   \n",
       "68     .evin J. McClung, D.Ph. / Owner and PIC\\nME\\n\n",
       "   \n",
       "69  Wells Pharmacy, Ine\\n\\n \\n\\nCIty STATE ZIP COD...   \n",
       "\n",
       "                                   establishment_type  \\\n",
       "0       REET ADDRESS |\\n6311 Ventura Blvd. Ste 110\\n\n",
       "   \n",
       "1       \\n \\n\\nTYPE ESTABLISHMENT INSPECTED\\n\\nMan...   \n",
       "2              \\n\\nREET ADDRESS\\n2116 Cortez Blvd.\\n\n",
       "   \n",
       "3   650 B&B oOth ot\\n\\n \\n\\nTYPE ESTABLISHMENT INS...   \n",
       "4   TYPE ESTABLISHMENT INSPECTED\\nSterile Drug Man...   \n",
       "..                                                ...   \n",
       "65  3908 Tennessee Avenue, Suite F\\nTYPE ESTABLISH...   \n",
       "66  eV ENN IN OH eh\\n\\nTYPE ESTASLISHMENT INSPECTE...   \n",
       "67         Yenter Director\\n\\n \\n\\n385 Tremont Ave\\n\n",
       "   \n",
       "68      EET ADDRESS\\n\\nhk we od. ee” Me eS ee\\n\\n \\n\n",
       "   \n",
       "69  490 Us Highway ol Byp N\\n\\n \\n\\nTYPE ESTABLISH...   \n",
       "\n",
       "                                        facility_city  \\\n",
       "0   kadiy E. Khaimov, Pharmacist-In-Charge\\niE\\n\\n...   \n",
       "1   Pharmacy\\nCITY, STATE, ZIP CODE, COUNTRY\\n\\nAb...   \n",
       "2   ish Chemparathy, R.Ph., Pharmacist in Charge &...   \n",
       "3   Advanced Nutriceuticals, LLC\\n\\n \\n\\nCITY, STA...   \n",
       "4   ae eee ee oe ii de ei as\\n\\nCITY. STATE, ZIP C...   \n",
       "..                                                ...   \n",
       "65  eo.\\n\\n   \\n\\nSurgery Pharmacy Services, inc.\\...   \n",
       "66  US Specialty Formulations LLC\\nCITY, STATE, ZI...   \n",
       "67  NAGASE APD TELE OP ELA. Pe Pe P| lee\\nMr. Vinc...   \n",
       "68    .evin J. McClung, D.Ph. / Owner and PIC\\n\\n \\n\n",
       "   \n",
       "69  Wells Pharmacy, Ine\\n\\n \\n\\nCITY, STATE, ZIP C...   \n",
       "\n",
       "                                             auditors  \\\n",
       "0   as\\n\\nIGNATURE | EMPLOYEE(S) NAME AND TITLE (P...   \n",
       "1                   Camerson E Moore, Investigator\\n\n",
       "   \n",
       "2    \\n\\nS3NATURE EMPLOYEE(S) NAME AND TITLE (Prin...   \n",
       "3   Se hee) a gee ee Peele het a 9 ew\\n\\nBei Y He,...   \n",
       "4   Joey V Quitania, Investigator\\nSantiago Gallar...   \n",
       "..                                                ...   \n",
       "65   \\n\\nEMPLOYEE(S) NAME AND TITLE (Pri\\n\\nSamant...   \n",
       "66  John M Mastalski, Investigator\\n\\n \\n\\nTRICTHO...   \n",
       "67            \\n\\nTAICOWOO STEAL. Ee CAMO Ot. TEMA\\n\n",
       "   \n",
       "68  EMPLOYEE(S) NAME AND TITLE (Prin\\n\\n \\n\\n. Jon...   \n",
       "69  June P Page, Investigator\\nJulius I Jones, Inv...   \n",
       "\n",
       "                                          audit_dates  \\\n",
       "0                            DATE(S) OF INSPECTION\\n\n",
       "   \n",
       "1   iN\\n\\nDATE(S) OF INSPECTION\\n10/28/2019-11/7/2...   \n",
       "2                        \\n\\nDATE(S) OF INSPECTION\\n\n",
       "   \n",
       "3   iN\\nDATE(S) OF INSPECTION\\n\\n10/13/2020-10/29/...   \n",
       "4            —— OF INSPECTION\\n7/30/2019-8/7/2019*\\n\n",
       "   \n",
       "..                                                ...   \n",
       "65                           DATE(S) OF INSPECTION\\n\n",
       "   \n",
       "66       \\n\\nN SERVICES\\nON\\nDATE(S) OF INSPECTION\\n\n",
       "   \n",
       "67                                       ERVICES |\\n\n",
       "   \n",
       "68                                                  \n",
       "   \n",
       "69  JIN\\n\\nDATE(S) OF INSPEGTION\\n12/1/2020-1/28/2...   \n",
       "\n",
       "                                         observations  \n",
       "0   FY, STATE AND ZIP CODE TYPE OF ESTABLISHMENT I...  \n",
       "1   This document lists observations made by the F...  \n",
       "2    \\n\\nY, STATE AND ZIP CODE TYPE OF ESTABLISHME...  \n",
       "3   This document lists observations made by the F...  \n",
       "4   This document lists observations made by the F...  \n",
       "..                                                ...  \n",
       "65  This document lists observations made by the F...  \n",
       "66  This document lists observations made by the F...  \n",
       "67    \\n\\n   \\n\\n \\n  \\n\\n \\n \\n\\nCITY, STATE, ZiP...  \n",
       "68  Pee a abe) a eee ee Mee AvP pe tele Ol he ee h...  \n",
       "69  This document lists observations made by the F...  \n",
       "\n",
       "[70 rows x 7 columns]"
      ]
     },
     "execution_count": 14,
     "metadata": {},
     "output_type": "execute_result"
    }
   ],
   "source": [
    "headers = ['pdf_name', 'firm_name', 'establishment_type', 'facility_city', 'auditors', 'audit_dates', 'observations']\n",
    "rows\n",
    "f483 = pd.DataFrame(rows, columns = headers)\n",
    "f483"
   ]
  },
  {
   "cell_type": "code",
   "execution_count": 15,
   "metadata": {},
   "outputs": [
    {
     "data": {
      "text/html": [
       "<div>\n",
       "<style scoped>\n",
       "    .dataframe tbody tr th:only-of-type {\n",
       "        vertical-align: middle;\n",
       "    }\n",
       "\n",
       "    .dataframe tbody tr th {\n",
       "        vertical-align: top;\n",
       "    }\n",
       "\n",
       "    .dataframe thead th {\n",
       "        text-align: right;\n",
       "    }\n",
       "</style>\n",
       "<table border=\"1\" class=\"dataframe\">\n",
       "  <thead>\n",
       "    <tr style=\"text-align: right;\">\n",
       "      <th></th>\n",
       "      <th>index</th>\n",
       "      <th>record_date</th>\n",
       "      <th>fei_number</th>\n",
       "      <th>company_name</th>\n",
       "      <th>record_type</th>\n",
       "      <th>state</th>\n",
       "      <th>establishment_type_x</th>\n",
       "      <th>publish_date</th>\n",
       "      <th>href</th>\n",
       "      <th>pdf_url</th>\n",
       "      <th>pdf_name</th>\n",
       "      <th>firm_name</th>\n",
       "      <th>establishment_type_y</th>\n",
       "      <th>facility_city</th>\n",
       "      <th>auditors</th>\n",
       "      <th>audit_dates</th>\n",
       "      <th>observations</th>\n",
       "    </tr>\n",
       "  </thead>\n",
       "  <tbody>\n",
       "    <tr>\n",
       "      <th>0</th>\n",
       "      <td>2</td>\n",
       "      <td>2021-01-28</td>\n",
       "      <td>3011761321</td>\n",
       "      <td>Wells Pharmacy, Inc</td>\n",
       "      <td>483</td>\n",
       "      <td>Tennessee</td>\n",
       "      <td>Outsourcing Facility</td>\n",
       "      <td>2021-03-31</td>\n",
       "      <td>/media/147184/download</td>\n",
       "      <td>https://www.fda.gov/media/147184/download</td>\n",
       "      <td>WellsPharmacy508ed_0</td>\n",
       "      <td>Wells Pharmacy, Ine\\n\\n \\n\\nCIty STATE ZIP COD...</td>\n",
       "      <td>490 Us Highway ol Byp N\\n\\n \\n\\nTYPE ESTABLISH...</td>\n",
       "      <td>Wells Pharmacy, Ine\\n\\n \\n\\nCITY, STATE, ZIP C...</td>\n",
       "      <td>June P Page, Investigator\\nJulius I Jones, Inv...</td>\n",
       "      <td>JIN\\n\\nDATE(S) OF INSPEGTION\\n12/1/2020-1/28/2...</td>\n",
       "      <td>This document lists observations made by the F...</td>\n",
       "    </tr>\n",
       "    <tr>\n",
       "      <th>1</th>\n",
       "      <td>4</td>\n",
       "      <td>2020-12-10</td>\n",
       "      <td>3013629214</td>\n",
       "      <td>Lonza Houston, Inc</td>\n",
       "      <td>483</td>\n",
       "      <td>Texas</td>\n",
       "      <td>Manufacturer</td>\n",
       "      <td>2021-01-14</td>\n",
       "      <td>/media/145127/download</td>\n",
       "      <td>https://www.fda.gov/media/145127/download</td>\n",
       "      <td>Lonza508ed</td>\n",
       "      <td>Lonza Houston, Inc\\n\\n \\n\\nCITY, STATE, ZIP CO...</td>\n",
       "      <td>149UD Kirby Dr\\n\\n \\n\\nTYPE ESTABLISHMENT INSP...</td>\n",
       "      <td>Lonza Houston, Inc\\n\\n \\n\\nCITY, STATE, ZIP CO...</td>\n",
       "      <td>Steven E Bowen, Investigator - Team\\nBiologics...</td>\n",
       "      <td>iN\\n\\nDATE(S) OF INSPECTION\\n12/3/2020-12/10/2...</td>\n",
       "      <td>This document lists observations made by the F...</td>\n",
       "    </tr>\n",
       "    <tr>\n",
       "      <th>2</th>\n",
       "      <td>5</td>\n",
       "      <td>2020-11-05</td>\n",
       "      <td>3006271438</td>\n",
       "      <td>Novel Laboratories, Inc. d.b.a LUPIN</td>\n",
       "      <td>483</td>\n",
       "      <td>New Jersey</td>\n",
       "      <td>Drug Manufacturer</td>\n",
       "      <td>2021-01-14</td>\n",
       "      <td>/media/145108/download</td>\n",
       "      <td>https://www.fda.gov/media/145108/download</td>\n",
       "      <td>Novel508ed</td>\n",
       "      <td>\\n    \\n \\n\\nFIRM NAME\\n\\n  \\n\\nNovel Labo...</td>\n",
       "      <td>400 Campus Dr\\nTYPE ESTABLISHMENT INSPECTED\\n</td>\n",
       "      <td>\\n  \\n \\n\\nFIRM NAME\\n\\n  \\n\\nNovel Laborat...</td>\n",
       "      <td>een ener Sr merge = d &gt; “et\\nUnnee Ranjan, Inv...</td>\n",
       "      <td>| 09/10/2020-11/05/2020*\\nSNnNlATI4A TO\\n</td>\n",
       "      <td>\\n\\n \\n  \\n \\n   \\n\\nThis document lists obse...</td>\n",
       "    </tr>\n",
       "    <tr>\n",
       "      <th>3</th>\n",
       "      <td>6</td>\n",
       "      <td>2020-11-02</td>\n",
       "      <td>3005543749</td>\n",
       "      <td>Hopkinton Drug, Inc.</td>\n",
       "      <td>483</td>\n",
       "      <td>Massachusetts</td>\n",
       "      <td>Producer of Non Sterile Drug Products</td>\n",
       "      <td>2021-01-29</td>\n",
       "      <td>/media/145540/download</td>\n",
       "      <td>https://www.fda.gov/media/145540/download</td>\n",
       "      <td>Hopkinton508ed</td>\n",
       "      <td>Hopkinton Drug, Inc.\\n\\n \\n\\nCITY, STATE, ZIP ...</td>\n",
       "      <td>34 Main st\\n\\n \\n\\nTYPE ESTABLISHMENT INSPECTE...</td>\n",
       "      <td>Hopkinton Drug, Inc.\\n\\n \\n\\nCITY, STATE, ZIP ...</td>\n",
       "      <td>Erik W Koester, Investigator\\nJonathan G Matri...</td>\n",
       "      <td>VN\\nDATE(S) OF INSPECTION\\n\\n8/25/2020-11/2/20...</td>\n",
       "      <td>This document lists observations made by the F...</td>\n",
       "    </tr>\n",
       "    <tr>\n",
       "      <th>4</th>\n",
       "      <td>7</td>\n",
       "      <td>2020-10-29</td>\n",
       "      <td>3010039017</td>\n",
       "      <td>Advanced Nutriceuticals, LLC</td>\n",
       "      <td>483</td>\n",
       "      <td>Indiana</td>\n",
       "      <td>Producer of Sterile Drug Products</td>\n",
       "      <td>2020-12-16</td>\n",
       "      <td>/media/144544/download</td>\n",
       "      <td>https://www.fda.gov/media/144544/download</td>\n",
       "      <td>AdvancedNutriceuticals508ed</td>\n",
       "      <td>Advanced Nutriceuticals, LLC\\n\\n \\n\\nCITY, STA...</td>\n",
       "      <td>650 B&amp;B oOth ot\\n\\n \\n\\nTYPE ESTABLISHMENT INS...</td>\n",
       "      <td>Advanced Nutriceuticals, LLC\\n\\n \\n\\nCITY, STA...</td>\n",
       "      <td>Se hee) a gee ee Peele het a 9 ew\\n\\nBei Y He,...</td>\n",
       "      <td>iN\\nDATE(S) OF INSPECTION\\n\\n10/13/2020-10/29/...</td>\n",
       "      <td>This document lists observations made by the F...</td>\n",
       "    </tr>\n",
       "    <tr>\n",
       "      <th>...</th>\n",
       "      <td>...</td>\n",
       "      <td>...</td>\n",
       "      <td>...</td>\n",
       "      <td>...</td>\n",
       "      <td>...</td>\n",
       "      <td>...</td>\n",
       "      <td>...</td>\n",
       "      <td>...</td>\n",
       "      <td>...</td>\n",
       "      <td>...</td>\n",
       "      <td>...</td>\n",
       "      <td>...</td>\n",
       "      <td>...</td>\n",
       "      <td>...</td>\n",
       "      <td>...</td>\n",
       "      <td>...</td>\n",
       "      <td>...</td>\n",
       "    </tr>\n",
       "    <tr>\n",
       "      <th>65</th>\n",
       "      <td>117</td>\n",
       "      <td>2019-06-17</td>\n",
       "      <td>3013854204</td>\n",
       "      <td>Maitland Labs of Central Florida</td>\n",
       "      <td>483</td>\n",
       "      <td>Florida</td>\n",
       "      <td>Outsourcing Facility</td>\n",
       "      <td>2020-03-09</td>\n",
       "      <td>/media/135882/download</td>\n",
       "      <td>https://www.fda.gov/media/135882/download</td>\n",
       "      <td>MaitlandLabs508ed</td>\n",
       "      <td>$4GlLb1iGaiih ano Vi VEtibiadgti t14V1Li4Ua\\n\\...</td>\n",
       "      <td>TYPE ESTABLISHMENT INSPECTED\\n| 5038 Outsourci...</td>\n",
       "      <td>\\n\\nCITY. STATE, ZIP CODE, COUNTRY\\n\\nOrlando...</td>\n",
       "      <td>As haan a ge ee Oe ee emt Sg ew\\n\\nJessica L P...</td>\n",
       "      <td>“BATES OF INSPECTION\\n6/4/2019-6/17/2019*\\n</td>\n",
       "      <td>This document lists observations made by the F...</td>\n",
       "    </tr>\n",
       "    <tr>\n",
       "      <th>66</th>\n",
       "      <td>123</td>\n",
       "      <td>2019-06-06</td>\n",
       "      <td>3011509553</td>\n",
       "      <td>RXQ Compounding LLC</td>\n",
       "      <td>483</td>\n",
       "      <td>Ohio</td>\n",
       "      <td>Outsourcing Facility</td>\n",
       "      <td>2019-11-27</td>\n",
       "      <td>/media/132894/download</td>\n",
       "      <td>https://www.fda.gov/media/132894/download</td>\n",
       "      <td>RXQ508ed</td>\n",
       "      <td>urd J, Zatta, CEO and Founder\\nSTREE\"\\nmoundin...</td>\n",
       "      <td>ET ADDRESS\\nW State St Unit 9\\n</td>\n",
       "      <td>ira J, Zatla, CoO and rounder\\nSTREE’\\n\\npound...</td>\n",
       "      <td>dans\\nm\\n\\nATURE EMPLOYEE(S) NAME AND TITLE (P...</td>\n",
       "      <td>\\n   \\n\\n1 for medical device observations.\\...</td>\n",
       "      <td>STATE AND ZIP CODE\\n¢ns, OH 45701-1564\\n\\n    ...</td>\n",
       "    </tr>\n",
       "    <tr>\n",
       "      <th>67</th>\n",
       "      <td>124</td>\n",
       "      <td>2019-06-04</td>\n",
       "      <td>3002401385</td>\n",
       "      <td>Custom Compounding Center</td>\n",
       "      <td>483</td>\n",
       "      <td>Arkansas</td>\n",
       "      <td>Producer of Non Sterile Drug Products</td>\n",
       "      <td>2019-07-12</td>\n",
       "      <td>/media/128777/download</td>\n",
       "      <td>https://www.fda.gov/media/128777/download</td>\n",
       "      <td>FOI%20APPLIED_CustomCompCenter_LittleRockAR_48...</td>\n",
       "      <td>NaN</td>\n",
       "      <td>NaN</td>\n",
       "      <td>NaN</td>\n",
       "      <td>NaN</td>\n",
       "      <td>NaN</td>\n",
       "      <td>NaN</td>\n",
       "    </tr>\n",
       "    <tr>\n",
       "      <th>68</th>\n",
       "      <td>125</td>\n",
       "      <td>2019-05-31</td>\n",
       "      <td>3012034698</td>\n",
       "      <td>Pacifico National, Inc. dba AmEx Pharmacy</td>\n",
       "      <td>483</td>\n",
       "      <td>Florida</td>\n",
       "      <td>Outsourcing Facility</td>\n",
       "      <td>2019-07-22</td>\n",
       "      <td>/media/128709/download</td>\n",
       "      <td>https://www.fda.gov/media/128709/download</td>\n",
       "      <td>FOI%20APPLIED_PacificoAmEx_MelbourneFL_AMENDED...</td>\n",
       "      <td>NaN</td>\n",
       "      <td>NaN</td>\n",
       "      <td>NaN</td>\n",
       "      <td>NaN</td>\n",
       "      <td>NaN</td>\n",
       "      <td>NaN</td>\n",
       "    </tr>\n",
       "    <tr>\n",
       "      <th>69</th>\n",
       "      <td>126</td>\n",
       "      <td>2019-05-31</td>\n",
       "      <td>3013931875</td>\n",
       "      <td>QuVa Pharma, Inc</td>\n",
       "      <td>483</td>\n",
       "      <td>New Jersey</td>\n",
       "      <td>Outsourcing Facility</td>\n",
       "      <td>2019-07-25</td>\n",
       "      <td>/media/128373/download</td>\n",
       "      <td>https://www.fda.gov/media/128373/download</td>\n",
       "      <td>FOI%20APPLIED_QuVa_BloomsburyNJ_483_05.31.19_R...</td>\n",
       "      <td>NaN</td>\n",
       "      <td>NaN</td>\n",
       "      <td>NaN</td>\n",
       "      <td>NaN</td>\n",
       "      <td>NaN</td>\n",
       "      <td>NaN</td>\n",
       "    </tr>\n",
       "  </tbody>\n",
       "</table>\n",
       "<p>70 rows × 17 columns</p>\n",
       "</div>"
      ],
      "text/plain": [
       "    index record_date  fei_number                               company_name  \\\n",
       "0       2  2021-01-28  3011761321                       Wells Pharmacy, Inc    \n",
       "1       4  2020-12-10  3013629214                         Lonza Houston, Inc   \n",
       "2       5  2020-11-05  3006271438       Novel Laboratories, Inc. d.b.a LUPIN   \n",
       "3       6  2020-11-02  3005543749                       Hopkinton Drug, Inc.   \n",
       "4       7  2020-10-29  3010039017               Advanced Nutriceuticals, LLC   \n",
       "..    ...         ...         ...                                        ...   \n",
       "65    117  2019-06-17  3013854204           Maitland Labs of Central Florida   \n",
       "66    123  2019-06-06  3011509553                        RXQ Compounding LLC   \n",
       "67    124  2019-06-04  3002401385                 Custom Compounding Center    \n",
       "68    125  2019-05-31  3012034698  Pacifico National, Inc. dba AmEx Pharmacy   \n",
       "69    126  2019-05-31  3013931875                           QuVa Pharma, Inc   \n",
       "\n",
       "   record_type          state                   establishment_type_x  \\\n",
       "0          483      Tennessee                   Outsourcing Facility   \n",
       "1          483          Texas                           Manufacturer   \n",
       "2          483     New Jersey                      Drug Manufacturer   \n",
       "3          483  Massachusetts  Producer of Non Sterile Drug Products   \n",
       "4          483        Indiana      Producer of Sterile Drug Products   \n",
       "..         ...            ...                                    ...   \n",
       "65         483        Florida                   Outsourcing Facility   \n",
       "66         483           Ohio                   Outsourcing Facility   \n",
       "67         483       Arkansas  Producer of Non Sterile Drug Products   \n",
       "68         483        Florida                   Outsourcing Facility   \n",
       "69         483     New Jersey                   Outsourcing Facility   \n",
       "\n",
       "   publish_date                    href  \\\n",
       "0    2021-03-31  /media/147184/download   \n",
       "1    2021-01-14  /media/145127/download   \n",
       "2    2021-01-14  /media/145108/download   \n",
       "3    2021-01-29  /media/145540/download   \n",
       "4    2020-12-16  /media/144544/download   \n",
       "..          ...                     ...   \n",
       "65   2020-03-09  /media/135882/download   \n",
       "66   2019-11-27  /media/132894/download   \n",
       "67   2019-07-12  /media/128777/download   \n",
       "68   2019-07-22  /media/128709/download   \n",
       "69   2019-07-25  /media/128373/download   \n",
       "\n",
       "                                      pdf_url  \\\n",
       "0   https://www.fda.gov/media/147184/download   \n",
       "1   https://www.fda.gov/media/145127/download   \n",
       "2   https://www.fda.gov/media/145108/download   \n",
       "3   https://www.fda.gov/media/145540/download   \n",
       "4   https://www.fda.gov/media/144544/download   \n",
       "..                                        ...   \n",
       "65  https://www.fda.gov/media/135882/download   \n",
       "66  https://www.fda.gov/media/132894/download   \n",
       "67  https://www.fda.gov/media/128777/download   \n",
       "68  https://www.fda.gov/media/128709/download   \n",
       "69  https://www.fda.gov/media/128373/download   \n",
       "\n",
       "                                             pdf_name  \\\n",
       "0                                WellsPharmacy508ed_0   \n",
       "1                                          Lonza508ed   \n",
       "2                                          Novel508ed   \n",
       "3                                      Hopkinton508ed   \n",
       "4                         AdvancedNutriceuticals508ed   \n",
       "..                                                ...   \n",
       "65                                  MaitlandLabs508ed   \n",
       "66                                           RXQ508ed   \n",
       "67  FOI%20APPLIED_CustomCompCenter_LittleRockAR_48...   \n",
       "68  FOI%20APPLIED_PacificoAmEx_MelbourneFL_AMENDED...   \n",
       "69  FOI%20APPLIED_QuVa_BloomsburyNJ_483_05.31.19_R...   \n",
       "\n",
       "                                            firm_name  \\\n",
       "0   Wells Pharmacy, Ine\\n\\n \\n\\nCIty STATE ZIP COD...   \n",
       "1   Lonza Houston, Inc\\n\\n \\n\\nCITY, STATE, ZIP CO...   \n",
       "2       \\n    \\n \\n\\nFIRM NAME\\n\\n  \\n\\nNovel Labo...   \n",
       "3   Hopkinton Drug, Inc.\\n\\n \\n\\nCITY, STATE, ZIP ...   \n",
       "4   Advanced Nutriceuticals, LLC\\n\\n \\n\\nCITY, STA...   \n",
       "..                                                ...   \n",
       "65  $4GlLb1iGaiih ano Vi VEtibiadgti t14V1Li4Ua\\n\\...   \n",
       "66  urd J, Zatta, CEO and Founder\\nSTREE\"\\nmoundin...   \n",
       "67                                                NaN   \n",
       "68                                                NaN   \n",
       "69                                                NaN   \n",
       "\n",
       "                                 establishment_type_y  \\\n",
       "0   490 Us Highway ol Byp N\\n\\n \\n\\nTYPE ESTABLISH...   \n",
       "1   149UD Kirby Dr\\n\\n \\n\\nTYPE ESTABLISHMENT INSP...   \n",
       "2      400 Campus Dr\\nTYPE ESTABLISHMENT INSPECTED\\n\n",
       "   \n",
       "3   34 Main st\\n\\n \\n\\nTYPE ESTABLISHMENT INSPECTE...   \n",
       "4   650 B&B oOth ot\\n\\n \\n\\nTYPE ESTABLISHMENT INS...   \n",
       "..                                                ...   \n",
       "65  TYPE ESTABLISHMENT INSPECTED\\n| 5038 Outsourci...   \n",
       "66                   ET ADDRESS\\nW State St Unit 9\\n\n",
       "   \n",
       "67                                                NaN   \n",
       "68                                                NaN   \n",
       "69                                                NaN   \n",
       "\n",
       "                                        facility_city  \\\n",
       "0   Wells Pharmacy, Ine\\n\\n \\n\\nCITY, STATE, ZIP C...   \n",
       "1   Lonza Houston, Inc\\n\\n \\n\\nCITY, STATE, ZIP CO...   \n",
       "2      \\n  \\n \\n\\nFIRM NAME\\n\\n  \\n\\nNovel Laborat...   \n",
       "3   Hopkinton Drug, Inc.\\n\\n \\n\\nCITY, STATE, ZIP ...   \n",
       "4   Advanced Nutriceuticals, LLC\\n\\n \\n\\nCITY, STA...   \n",
       "..                                                ...   \n",
       "65   \\n\\nCITY. STATE, ZIP CODE, COUNTRY\\n\\nOrlando...   \n",
       "66  ira J, Zatla, CoO and rounder\\nSTREE’\\n\\npound...   \n",
       "67                                                NaN   \n",
       "68                                                NaN   \n",
       "69                                                NaN   \n",
       "\n",
       "                                             auditors  \\\n",
       "0   June P Page, Investigator\\nJulius I Jones, Inv...   \n",
       "1   Steven E Bowen, Investigator - Team\\nBiologics...   \n",
       "2   een ener Sr merge = d > “et\\nUnnee Ranjan, Inv...   \n",
       "3   Erik W Koester, Investigator\\nJonathan G Matri...   \n",
       "4   Se hee) a gee ee Peele het a 9 ew\\n\\nBei Y He,...   \n",
       "..                                                ...   \n",
       "65  As haan a ge ee Oe ee emt Sg ew\\n\\nJessica L P...   \n",
       "66  dans\\nm\\n\\nATURE EMPLOYEE(S) NAME AND TITLE (P...   \n",
       "67                                                NaN   \n",
       "68                                                NaN   \n",
       "69                                                NaN   \n",
       "\n",
       "                                          audit_dates  \\\n",
       "0   JIN\\n\\nDATE(S) OF INSPEGTION\\n12/1/2020-1/28/2...   \n",
       "1   iN\\n\\nDATE(S) OF INSPECTION\\n12/3/2020-12/10/2...   \n",
       "2          | 09/10/2020-11/05/2020*\\nSNnNlATI4A TO\\n\n",
       "   \n",
       "3   VN\\nDATE(S) OF INSPECTION\\n\\n8/25/2020-11/2/20...   \n",
       "4   iN\\nDATE(S) OF INSPECTION\\n\\n10/13/2020-10/29/...   \n",
       "..                                                ...   \n",
       "65       “BATES OF INSPECTION\\n6/4/2019-6/17/2019*\\n\n",
       "   \n",
       "66    \\n   \\n\\n1 for medical device observations.\\...   \n",
       "67                                                NaN   \n",
       "68                                                NaN   \n",
       "69                                                NaN   \n",
       "\n",
       "                                         observations  \n",
       "0   This document lists observations made by the F...  \n",
       "1   This document lists observations made by the F...  \n",
       "2    \\n\\n \\n  \\n \\n   \\n\\nThis document lists obse...  \n",
       "3   This document lists observations made by the F...  \n",
       "4   This document lists observations made by the F...  \n",
       "..                                                ...  \n",
       "65  This document lists observations made by the F...  \n",
       "66  STATE AND ZIP CODE\\n¢ns, OH 45701-1564\\n\\n    ...  \n",
       "67                                                NaN  \n",
       "68                                                NaN  \n",
       "69                                                NaN  \n",
       "\n",
       "[70 rows x 17 columns]"
      ]
     },
     "execution_count": 15,
     "metadata": {},
     "output_type": "execute_result"
    }
   ],
   "source": [
    "reading_room = df2.merge(refs, how = 'left', on = 'pdf_url').merge(f483, how = 'left', on = 'pdf_name')\n",
    "#reading_room.to_csv(\"data/FDA Reading Room Form 483 Dataset - Last Updated {}.csv\".format(date.today().strftime(\"%Y%m%d\")))\n",
    "reading_room"
   ]
  },
  {
   "cell_type": "markdown",
   "metadata": {},
   "source": [
    "## Observation Topic Modeling"
   ]
  },
  {
   "cell_type": "markdown",
   "metadata": {},
   "source": [
    "Now that the observation section of each Form 483 accessible through the FDA Reading Room has been parsed into text via Tesseract OCR, it is possible to perform topic modeling to meaningfully group each observation into related topics.  \n",
    "  \n",
    "The first step of that process is to separate each value in the `observations` column (which contains all observations from that audit) into distinct rows, where each row is an individual observation."
   ]
  },
  {
   "cell_type": "code",
   "execution_count": 16,
   "metadata": {},
   "outputs": [
    {
     "name": "stdout",
     "output_type": "stream",
     "text": [
      "(343, 17)\n"
     ]
    },
    {
     "data": {
      "text/html": [
       "<div>\n",
       "<style scoped>\n",
       "    .dataframe tbody tr th:only-of-type {\n",
       "        vertical-align: middle;\n",
       "    }\n",
       "\n",
       "    .dataframe tbody tr th {\n",
       "        vertical-align: top;\n",
       "    }\n",
       "\n",
       "    .dataframe thead th {\n",
       "        text-align: right;\n",
       "    }\n",
       "</style>\n",
       "<table border=\"1\" class=\"dataframe\">\n",
       "  <thead>\n",
       "    <tr style=\"text-align: right;\">\n",
       "      <th></th>\n",
       "      <th>index</th>\n",
       "      <th>record_date</th>\n",
       "      <th>fei_number</th>\n",
       "      <th>company_name</th>\n",
       "      <th>record_type</th>\n",
       "      <th>state</th>\n",
       "      <th>establishment_type_x</th>\n",
       "      <th>publish_date</th>\n",
       "      <th>href</th>\n",
       "      <th>pdf_url</th>\n",
       "      <th>pdf_name</th>\n",
       "      <th>firm_name</th>\n",
       "      <th>establishment_type_y</th>\n",
       "      <th>facility_city</th>\n",
       "      <th>auditors</th>\n",
       "      <th>audit_dates</th>\n",
       "      <th>observations</th>\n",
       "    </tr>\n",
       "  </thead>\n",
       "  <tbody>\n",
       "    <tr>\n",
       "      <th>0</th>\n",
       "      <td>2</td>\n",
       "      <td>2021-01-28</td>\n",
       "      <td>3011761321</td>\n",
       "      <td>Wells Pharmacy, Inc</td>\n",
       "      <td>483</td>\n",
       "      <td>Tennessee</td>\n",
       "      <td>Outsourcing Facility</td>\n",
       "      <td>2021-03-31</td>\n",
       "      <td>/media/147184/download</td>\n",
       "      <td>https://www.fda.gov/media/147184/download</td>\n",
       "      <td>WellsPharmacy508ed_0</td>\n",
       "      <td>Wells Pharmacy, Ine     CIty STATE ZIP CODE, C...</td>\n",
       "      <td>490 Us Highway ol Byp N     TYPE ESTABLISHMENT...</td>\n",
       "      <td>Wells Pharmacy, Ine     CITY, STATE, ZIP CODE,...</td>\n",
       "      <td>June P Page, Investigator Julius I Jones, Inve...</td>\n",
       "      <td>JIN  DATE(S) OF INSPEGTION 12/1/2020-1/28/2021+</td>\n",
       "      <td>There is a failure to thoroughly review the fa...</td>\n",
       "    </tr>\n",
       "    <tr>\n",
       "      <th>0</th>\n",
       "      <td>2</td>\n",
       "      <td>2021-01-28</td>\n",
       "      <td>3011761321</td>\n",
       "      <td>Wells Pharmacy, Inc</td>\n",
       "      <td>483</td>\n",
       "      <td>Tennessee</td>\n",
       "      <td>Outsourcing Facility</td>\n",
       "      <td>2021-03-31</td>\n",
       "      <td>/media/147184/download</td>\n",
       "      <td>https://www.fda.gov/media/147184/download</td>\n",
       "      <td>WellsPharmacy508ed_0</td>\n",
       "      <td>Wells Pharmacy, Ine     CIty STATE ZIP CODE, C...</td>\n",
       "      <td>490 Us Highway ol Byp N     TYPE ESTABLISHMENT...</td>\n",
       "      <td>Wells Pharmacy, Ine     CITY, STATE, ZIP CODE,...</td>\n",
       "      <td>June P Page, Investigator Julius I Jones, Inve...</td>\n",
       "      <td>JIN  DATE(S) OF INSPEGTION 12/1/2020-1/28/2021+</td>\n",
       "      <td>Buildings used in the manufacture, processing,...</td>\n",
       "    </tr>\n",
       "    <tr>\n",
       "      <th>0</th>\n",
       "      <td>2</td>\n",
       "      <td>2021-01-28</td>\n",
       "      <td>3011761321</td>\n",
       "      <td>Wells Pharmacy, Inc</td>\n",
       "      <td>483</td>\n",
       "      <td>Tennessee</td>\n",
       "      <td>Outsourcing Facility</td>\n",
       "      <td>2021-03-31</td>\n",
       "      <td>/media/147184/download</td>\n",
       "      <td>https://www.fda.gov/media/147184/download</td>\n",
       "      <td>WellsPharmacy508ed_0</td>\n",
       "      <td>Wells Pharmacy, Ine     CIty STATE ZIP CODE, C...</td>\n",
       "      <td>490 Us Highway ol Byp N     TYPE ESTABLISHMENT...</td>\n",
       "      <td>Wells Pharmacy, Ine     CITY, STATE, ZIP CODE,...</td>\n",
       "      <td>June P Page, Investigator Julius I Jones, Inve...</td>\n",
       "      <td>JIN  DATE(S) OF INSPEGTION 12/1/2020-1/28/2021+</td>\n",
       "      <td>for additional Quality Unit concerns.</td>\n",
       "    </tr>\n",
       "    <tr>\n",
       "      <th>0</th>\n",
       "      <td>2</td>\n",
       "      <td>2021-01-28</td>\n",
       "      <td>3011761321</td>\n",
       "      <td>Wells Pharmacy, Inc</td>\n",
       "      <td>483</td>\n",
       "      <td>Tennessee</td>\n",
       "      <td>Outsourcing Facility</td>\n",
       "      <td>2021-03-31</td>\n",
       "      <td>/media/147184/download</td>\n",
       "      <td>https://www.fda.gov/media/147184/download</td>\n",
       "      <td>WellsPharmacy508ed_0</td>\n",
       "      <td>Wells Pharmacy, Ine     CIty STATE ZIP CODE, C...</td>\n",
       "      <td>490 Us Highway ol Byp N     TYPE ESTABLISHMENT...</td>\n",
       "      <td>Wells Pharmacy, Ine     CITY, STATE, ZIP CODE,...</td>\n",
       "      <td>June P Page, Investigator Julius I Jones, Inve...</td>\n",
       "      <td>JIN  DATE(S) OF INSPEGTION 12/1/2020-1/28/2021+</td>\n",
       "      <td>Equipment and utensils are not maintained at a...</td>\n",
       "    </tr>\n",
       "    <tr>\n",
       "      <th>0</th>\n",
       "      <td>2</td>\n",
       "      <td>2021-01-28</td>\n",
       "      <td>3011761321</td>\n",
       "      <td>Wells Pharmacy, Inc</td>\n",
       "      <td>483</td>\n",
       "      <td>Tennessee</td>\n",
       "      <td>Outsourcing Facility</td>\n",
       "      <td>2021-03-31</td>\n",
       "      <td>/media/147184/download</td>\n",
       "      <td>https://www.fda.gov/media/147184/download</td>\n",
       "      <td>WellsPharmacy508ed_0</td>\n",
       "      <td>Wells Pharmacy, Ine     CIty STATE ZIP CODE, C...</td>\n",
       "      <td>490 Us Highway ol Byp N     TYPE ESTABLISHMENT...</td>\n",
       "      <td>Wells Pharmacy, Ine     CITY, STATE, ZIP CODE,...</td>\n",
       "      <td>June P Page, Investigator Julius I Jones, Inve...</td>\n",
       "      <td>JIN  DATE(S) OF INSPEGTION 12/1/2020-1/28/2021+</td>\n",
       "      <td>for additional Quality Unit concerns.</td>\n",
       "    </tr>\n",
       "  </tbody>\n",
       "</table>\n",
       "</div>"
      ],
      "text/plain": [
       "   index record_date  fei_number          company_name record_type      state  \\\n",
       "0      2  2021-01-28  3011761321  Wells Pharmacy, Inc          483  Tennessee   \n",
       "0      2  2021-01-28  3011761321  Wells Pharmacy, Inc          483  Tennessee   \n",
       "0      2  2021-01-28  3011761321  Wells Pharmacy, Inc          483  Tennessee   \n",
       "0      2  2021-01-28  3011761321  Wells Pharmacy, Inc          483  Tennessee   \n",
       "0      2  2021-01-28  3011761321  Wells Pharmacy, Inc          483  Tennessee   \n",
       "\n",
       "   establishment_type_x publish_date                    href  \\\n",
       "0  Outsourcing Facility   2021-03-31  /media/147184/download   \n",
       "0  Outsourcing Facility   2021-03-31  /media/147184/download   \n",
       "0  Outsourcing Facility   2021-03-31  /media/147184/download   \n",
       "0  Outsourcing Facility   2021-03-31  /media/147184/download   \n",
       "0  Outsourcing Facility   2021-03-31  /media/147184/download   \n",
       "\n",
       "                                     pdf_url              pdf_name  \\\n",
       "0  https://www.fda.gov/media/147184/download  WellsPharmacy508ed_0   \n",
       "0  https://www.fda.gov/media/147184/download  WellsPharmacy508ed_0   \n",
       "0  https://www.fda.gov/media/147184/download  WellsPharmacy508ed_0   \n",
       "0  https://www.fda.gov/media/147184/download  WellsPharmacy508ed_0   \n",
       "0  https://www.fda.gov/media/147184/download  WellsPharmacy508ed_0   \n",
       "\n",
       "                                           firm_name  \\\n",
       "0  Wells Pharmacy, Ine     CIty STATE ZIP CODE, C...   \n",
       "0  Wells Pharmacy, Ine     CIty STATE ZIP CODE, C...   \n",
       "0  Wells Pharmacy, Ine     CIty STATE ZIP CODE, C...   \n",
       "0  Wells Pharmacy, Ine     CIty STATE ZIP CODE, C...   \n",
       "0  Wells Pharmacy, Ine     CIty STATE ZIP CODE, C...   \n",
       "\n",
       "                                establishment_type_y  \\\n",
       "0  490 Us Highway ol Byp N     TYPE ESTABLISHMENT...   \n",
       "0  490 Us Highway ol Byp N     TYPE ESTABLISHMENT...   \n",
       "0  490 Us Highway ol Byp N     TYPE ESTABLISHMENT...   \n",
       "0  490 Us Highway ol Byp N     TYPE ESTABLISHMENT...   \n",
       "0  490 Us Highway ol Byp N     TYPE ESTABLISHMENT...   \n",
       "\n",
       "                                       facility_city  \\\n",
       "0  Wells Pharmacy, Ine     CITY, STATE, ZIP CODE,...   \n",
       "0  Wells Pharmacy, Ine     CITY, STATE, ZIP CODE,...   \n",
       "0  Wells Pharmacy, Ine     CITY, STATE, ZIP CODE,...   \n",
       "0  Wells Pharmacy, Ine     CITY, STATE, ZIP CODE,...   \n",
       "0  Wells Pharmacy, Ine     CITY, STATE, ZIP CODE,...   \n",
       "\n",
       "                                            auditors  \\\n",
       "0  June P Page, Investigator Julius I Jones, Inve...   \n",
       "0  June P Page, Investigator Julius I Jones, Inve...   \n",
       "0  June P Page, Investigator Julius I Jones, Inve...   \n",
       "0  June P Page, Investigator Julius I Jones, Inve...   \n",
       "0  June P Page, Investigator Julius I Jones, Inve...   \n",
       "\n",
       "                                         audit_dates  \\\n",
       "0  JIN  DATE(S) OF INSPEGTION 12/1/2020-1/28/2021+     \n",
       "0  JIN  DATE(S) OF INSPEGTION 12/1/2020-1/28/2021+     \n",
       "0  JIN  DATE(S) OF INSPEGTION 12/1/2020-1/28/2021+     \n",
       "0  JIN  DATE(S) OF INSPEGTION 12/1/2020-1/28/2021+     \n",
       "0  JIN  DATE(S) OF INSPEGTION 12/1/2020-1/28/2021+     \n",
       "\n",
       "                                        observations  \n",
       "0  There is a failure to thoroughly review the fa...  \n",
       "0  Buildings used in the manufacture, processing,...  \n",
       "0            for additional Quality Unit concerns.    \n",
       "0  Equipment and utensils are not maintained at a...  \n",
       "0            for additional Quality Unit concerns.    "
      ]
     },
     "execution_count": 16,
     "metadata": {},
     "output_type": "execute_result"
    }
   ],
   "source": [
    "# separate each row into multiple rows based on the occurence of the substring OBSERVATION\n",
    "rr = reading_room.assign(observations=reading_room['observations'].str.split(r'OBSERVATION [0-9]+\\s+')).explode('observations').replace(r'(\\n|\\x0c)', ' ', regex = True)\n",
    "\n",
    "# filter out the preamble rows (before OBSERVATION 1 starts)\n",
    "rr1 = rr[~rr['observations'].str.contains(\"This document lists observations made by the FDA\", na = False)]\n",
    "print(rr1.shape)\n",
    "rr1.head()"
   ]
  },
  {
   "cell_type": "markdown",
   "metadata": {},
   "source": [
    "Next, the `observations` column can be separated out for further processing."
   ]
  },
  {
   "cell_type": "code",
   "execution_count": 17,
   "metadata": {},
   "outputs": [
    {
     "name": "stdout",
     "output_type": "stream",
     "text": [
      "Number of observations:  343 \n",
      "Example Observation:\n",
      "('The quality control unit lacks responsibility to approve and reject all '\n",
      " 'procedures or specifications impacting on the identity, strength, quality '\n",
      " 'and purity of drug products.  *** THIS IS A REPEAT OBSERVATION FROM FDA 483 '\n",
      " 'issued in 2018 (Observation 2)***  Specifically, during an interview with '\n",
      " 'your firm’s Quality Assurance Supervisor, who is onsite daily, is '\n",
      " 'responsible for, but not limited to: review and release of your firm’s batch '\n",
      " 'records; routine monitoring reviews; and oversees your firm’s environmental '\n",
      " 'monitoring program, stated they do not make quality decisions due to lack of '\n",
      " 'experience or authority. For example, but not limited to:  A. On 12/07/2020, '\n",
      " 'your firm’s Quality Assurance Supervisor stated they acknowledged the gaps '\n",
      " \"in your firm's ISO 7-2 Packaging Room and ISO 7-1 Pellet Room ceilings and \"\n",
      " 'stated these gaps may cause disruption in the quality of air. However, the '\n",
      " 'Quality Assurance Supervisor does not review your firm’s cleanroom '\n",
      " 'certification reports and explained this review was conducted by the Quality '\n",
      " 'Unit located in Ocala, Florida. Your firm’s Director of Operations stated '\n",
      " 'the Vice President of Quality Assurance, located in Ocala, Florida, visits '\n",
      " 'their facility approximately (b) (4) and the Senior Quality Assurance '\n",
      " 'Manager, also located in Ocala, Florida visits approximately (b) (4) -  B. '\n",
      " 'On 12/01/2020, we observed obvious surface abrasions located on the '\n",
      " \"faceplate of your firm's pellet press, EQOO01, that comes in direct contact \"\n",
      " 'with drug components during processing for implantable hormonal pellets that '\n",
      " 'are intended to be sterile. On 12/01/2020 and 12/07/2020, your firm’s '\n",
      " 'Quality Assurance Supervisor, who routinely reviews and authorizes the '\n",
      " 'release of batch records, stated your firm did not have any assurances '\n",
      " 'currently in place that would ensure the implantable hormonal pellets '\n",
      " 'produced on EQ001 and released to the public were not free of metal '\n",
      " 'inclusions (e.g., no metal detection devices). However, your firm’s Quality '\n",
      " 'Assurance Supervisor, stated they lack the authority to initiate an '\n",
      " 'investigation (deviation) and defers to the Quality Unit located in Ocala, '\n",
      " 'Florida for such determinations. On 12/10/2020, your firm’s Director of '\n",
      " 'Operations provided a dispensing, report documenting at least 0  lots '\n",
      " '(approximately (b) (4) implantable hormonal pellets) within expiry were '\n",
      " \"distributed to the public. As of 12/10/2020, your firm's Vice President of \"\n",
      " 'Quality Assurance (located in Ocala, Florida) stated they were “still '\n",
      " 'determining whether or not this constitutes a deviation due to a surface '\n",
      " 'abrasion”. Please refer to ')\n"
     ]
    }
   ],
   "source": [
    "observations = rr1['observations'].tolist()\n",
    "print(\"Number of observations: \", len(observations), \"\\nExample Observation:\")\n",
    "pprint(observations[5])"
   ]
  },
  {
   "cell_type": "markdown",
   "metadata": {},
   "source": [
    "With this list of observations, the words in each observation can be tokenized and converted into bigrams and trigrams where applicable."
   ]
  },
  {
   "cell_type": "code",
   "execution_count": 18,
   "metadata": {},
   "outputs": [],
   "source": [
    "def sent_to_words(sentences):\n",
    "    for observation in observations:\n",
    "        yield(gensim.utils.simple_preprocess(str(observation), deacc = True))\n",
    "\n",
    "# tokenized words\n",
    "obs_words = list(sent_to_words(observations))\n",
    "\n",
    "# bigram\n",
    "bigram = gensim.models.Phrases(obs_words, min_count = 5, threshold = 100)\n",
    "bigram_mod = gensim.models.phrases.Phraser(bigram)\n",
    "\n",
    "# trigram\n",
    "trigram = gensim.models.Phrases(obs_words, min_count = 5, threshold = 100)\n",
    "trigram_mod = gensim.models.phrases.Phraser(trigram)"
   ]
  },
  {
   "cell_type": "markdown",
   "metadata": {},
   "source": [
    "From these lists of tokenized words with the observation list, stop words can be removed and bigrams can be formed. Stop words are a collection of words which impart no substantial meaning on the sentence. Therefore, they can be removed at this phase to avoid having them crop up as relevant terms during topic modeling. Each token (word or bigram) was then lemmatized, which is the process of removing inflectional endings from words to return it to the base form of the word (e.g. \"drugs\" --> \"drug\", \"processes\" --> \"process\")."
   ]
  },
  {
   "cell_type": "code",
   "execution_count": 37,
   "metadata": {},
   "outputs": [
    {
     "name": "stdout",
     "output_type": "stream",
     "text": [
      "Number of lemmatized observations:  343\n"
     ]
    }
   ],
   "source": [
    "lemmatizer = WordNetLemmatizer()\n",
    "\n",
    "# modify list of stop words to fit this collection of documents\n",
    "custom_stopwords = ['firm', 'within', 'example', 'specifically', 'following', 'mg', 'ml', 'stated', 'however']\n",
    "chemical_stopwords = ['olive_oil', 'vancomycin', 'testosterone_cypionate', 'hcl', 'succinylcholine_chloride',\n",
    "                      'sodium', 'alprostadil', 'lido_tetr', 'prilo_phenyl', 'betamethasone']\n",
    "new_stop_words = custom_stopwords + chemical_stopwords\n",
    "stop_words = stopwords.words('english')\n",
    "for word in new_stop_words:\n",
    "    if word in stop_words:\n",
    "        continue\n",
    "    else:\n",
    "        stop_words.append(word)\n",
    "        \n",
    "# define functions for stopwords, bigrams, trigrams and lemmatization\n",
    "def remove_stopwords(texts):\n",
    "    return [[word for word in simple_preprocess(str(doc)) if word not in stop_words] for doc in texts]\n",
    "\n",
    "def make_bigrams(texts):\n",
    "    return [bigram_mod[doc] for doc in texts]\n",
    "\n",
    "def make_trigrams(texts):\n",
    "    return [trigram_mod[bigram_mod[doc]] for doc in texts]\n",
    "\n",
    "def lemmatization(texts): #, allowed_postags=['NOUN', 'ADJ', 'VERB', 'ADV']):\n",
    "    texts_out = []\n",
    "    for sent in texts:\n",
    "        texts_out.append([lemmatizer.lemmatize(token) for token in sent]) # if token.pos_ in allowed_postags])\n",
    "    return texts_out\n",
    "\n",
    "obs_words_nostops = remove_stopwords(obs_words)\n",
    "obs_words_bigrams = make_bigrams(obs_words_nostops)\n",
    "obs_lem = lemmatization(obs_words_bigrams)\n",
    "print(\"Number of lemmatized observations: \", len(obs_lem))"
   ]
  },
  {
   "cell_type": "code",
   "execution_count": 38,
   "metadata": {},
   "outputs": [],
   "source": [
    "# dictionary\n",
    "id2word = corpora.Dictionary(obs_lem)\n",
    "\n",
    "# corpus\n",
    "texts = obs_lem\n",
    "\n",
    "# Term Document Frequency\n",
    "corpus = [id2word.doc2bow(text) for text in texts]\n",
    "\n",
    "# human readable version of corpus\n",
    "#pprint([[(id2word[id], freq) for id, freq in cp] for cp in corpus[:2]])"
   ]
  },
  {
   "cell_type": "markdown",
   "metadata": {},
   "source": [
    "Topic modeling can now begin since the dictionary and corpus have been compiled from the list of observations! One of the key parameters the model needs is the number of topics to sort the observations into. This can be done by creating a variety of models and assigning each of them a performance score. In the world of topic modeling, this performance score is known as a _coherence score_. Simply put, the coherence score measures the relative distance between words within topics, and ranges from 0 (bad performance, no coherence) to 1 (amazing performance, perfect coherence). A coherence score greater than 0.8 is unlikely to occur, so the goal is often to find a model which yields a coherence score of between 0.45 and 0.7. "
   ]
  },
  {
   "cell_type": "code",
   "execution_count": 21,
   "metadata": {},
   "outputs": [],
   "source": [
    "def compute_coherence_values(dictionary, corpus, texts, limit, start=2, step=3):\n",
    "    \"\"\"\n",
    "    Compute c_v coherence for various number of topics\n",
    "\n",
    "    Parameters:\n",
    "    ----------\n",
    "    dictionary : Gensim dictionary\n",
    "    corpus : Gensim corpus\n",
    "    texts : List of input texts\n",
    "    limit : Max num of topics\n",
    "\n",
    "    Returns:\n",
    "    -------\n",
    "    model_list : List of LDA topic models\n",
    "    coherence_values : Coherence values corresponding to the LDA model with respective number of topics\n",
    "    \"\"\"\n",
    "    coherence_values = []\n",
    "    model_list = []\n",
    "    for num_topics in range(start, limit, step):\n",
    "        model = gensim.models.ldamodel.LdaModel(corpus = corpus, num_topics = num_topics, id2word = id2word,\n",
    "                                               random_state = 1938, # year the Federal Food, Drug, and Cosmetic Act was signed\n",
    "                                               passes = 25)\n",
    "        model_list.append(model)\n",
    "        coherencemodel = CoherenceModel(model=model, texts=texts, dictionary=dictionary, coherence='c_v')\n",
    "        coherence_values.append(coherencemodel.get_coherence())\n",
    "\n",
    "    return model_list, coherence_values"
   ]
  },
  {
   "cell_type": "code",
   "execution_count": 39,
   "metadata": {},
   "outputs": [],
   "source": [
    "# Can take a long time to run!\n",
    "start_point = 3\n",
    "step_size = 3\n",
    "steps_limit = 50\n",
    "model_list, coherence_values = compute_coherence_values(dictionary=id2word, corpus=corpus, texts=obs_lem, start=start_point, limit=steps_limit, step=step_size)"
   ]
  },
  {
   "cell_type": "code",
   "execution_count": 40,
   "metadata": {},
   "outputs": [
    {
     "data": {
      "image/png": "[encoded data removed]",
      "text/plain": [
       "<Figure size 720x360 with 1 Axes>"
      ]
     },
     "metadata": {
      "needs_background": "light"
     },
     "output_type": "display_data"
    }
   ],
   "source": [
    "x = range(start_point, steps_limit, step_size)\n",
    "topic_dic = dict(zip(x, coherence_values))\n",
    "max_topic_n = max(topic_dic.items(), key = operator.itemgetter(1))[0]\n",
    "max_topic_score = max(topic_dic.values())\n",
    "plt.figure(figsize=(10,5))\n",
    "plt.plot(x, coherence_values)\n",
    "plt.xlabel(\"Num Topics\")\n",
    "plt.ylabel(\"Coherence score\")\n",
    "plt.legend((\"coherence_values\"), loc='best')\n",
    "plt.title(\"Highest coherence score of {} achieved with {} topics\".format(round(max_topic_score, 2), max_topic_n))\n",
    "plt.show()"
   ]
  },
  {
   "cell_type": "code",
   "execution_count": 41,
   "metadata": {},
   "outputs": [
    {
     "name": "stdout",
     "output_type": "stream",
     "text": [
      "When the number of topics is ** 3 **, the model has a Coherence Score of 0.4301\n",
      "When the number of topics is ** 6 **, the model has a Coherence Score of 0.4322\n",
      "When the number of topics is ** 9 **, the model has a Coherence Score of 0.4609\n",
      "When the number of topics is ** 12 **, the model has a Coherence Score of 0.4162\n",
      "When the number of topics is ** 15 **, the model has a Coherence Score of 0.4002\n",
      "When the number of topics is ** 18 **, the model has a Coherence Score of 0.4142\n",
      "When the number of topics is ** 21 **, the model has a Coherence Score of 0.3658\n",
      "When the number of topics is ** 24 **, the model has a Coherence Score of 0.4278\n",
      "When the number of topics is ** 27 **, the model has a Coherence Score of 0.3888\n",
      "When the number of topics is ** 30 **, the model has a Coherence Score of 0.4439\n",
      "When the number of topics is ** 33 **, the model has a Coherence Score of 0.4149\n",
      "When the number of topics is ** 36 **, the model has a Coherence Score of 0.4406\n",
      "When the number of topics is ** 39 **, the model has a Coherence Score of 0.4357\n",
      "When the number of topics is ** 42 **, the model has a Coherence Score of 0.4523\n",
      "When the number of topics is ** 45 **, the model has a Coherence Score of 0.4191\n",
      "When the number of topics is ** 48 **, the model has a Coherence Score of 0.4473\n"
     ]
    }
   ],
   "source": [
    "# print calculated coherence scores\n",
    "for m, cv in zip(x, coherence_values):\n",
    "    print(\"When the number of topics is **\", m, \"**, the model has a Coherence Score of\", round(cv, 4))"
   ]
  },
  {
   "cell_type": "markdown",
   "metadata": {},
   "source": [
    "When selecting the number of topics with which to train the model, it is ideal to select a model which provides a high coherence score while also minimizing the number of topics. This way the topics can be distinct, but also not so subtle as to be indistinguishable to a human.   \n",
    "  \n",
    "In this case, the ideal number of topics is also an acceptably low number. Therefore, we can simply use the number of topics which yields the highest coherence score to build the model."
   ]
  },
  {
   "cell_type": "code",
   "execution_count": 42,
   "metadata": {},
   "outputs": [],
   "source": [
    "selected_topic_number = max_topic_n\n",
    "lda_model = gensim.models.ldamodel.LdaModel(corpus = corpus,\n",
    "                                           id2word = id2word,\n",
    "                                           num_topics = selected_topic_number,\n",
    "                                           # choose a random number to ensure the program learns the same way each time\n",
    "                                           random_state = 1938, # year the Federal Food, Drug, and Cosmetic Act was signed\n",
    "                                           passes = 25)"
   ]
  },
  {
   "cell_type": "markdown",
   "metadata": {},
   "source": [
    "Let's evaluate the model we just built (already suspecting what the coherence score will be)."
   ]
  },
  {
   "cell_type": "code",
   "execution_count": 43,
   "metadata": {},
   "outputs": [
    {
     "name": "stdout",
     "output_type": "stream",
     "text": [
      "\n",
      "Perplexity:  -7.2290584268231095\n",
      "\n",
      "Coherence Score:  0.46093486772885506\n"
     ]
    }
   ],
   "source": [
    "# Compute Perplexity\n",
    "print('\\nPerplexity: ', lda_model.log_perplexity(corpus))\n",
    "\n",
    "# Compute Coherence Score\n",
    "coherence_model_lda = CoherenceModel(model=lda_model, texts = obs_lem,\n",
    "                                     dictionary = id2word, coherence = 'c_v')\n",
    "coherence_lda = coherence_model_lda.get_coherence()\n",
    "print('\\nCoherence Score: ', coherence_lda)"
   ]
  },
  {
   "cell_type": "markdown",
   "metadata": {},
   "source": [
    "#### View LDA Model Topics"
   ]
  },
  {
   "cell_type": "markdown",
   "metadata": {},
   "source": [
    "The LDA Model can now be visualized to demonstrate the distribution of topics alongside which terms best represent that topic.  \n",
    "  \n",
    "__NOTE:__ The topic modelling process will not inform the user what the name of the topic is. It will simply inform the user which observations belong to the same topic."
   ]
  },
  {
   "cell_type": "code",
   "execution_count": 44,
   "metadata": {},
   "outputs": [
    {
     "data": {
      "text/html": [
       "\n",
       "<link rel=\"stylesheet\" type=\"text/css\" href=\"https://cdn.rawgit.com/bmabey/pyLDAvis/files/ldavis.v1.0.0.css\">\n",
       "\n",
       "\n",
       "<div id=\"ldavis_el2138021016515847127796556082\"></div>\n",
       "<script type=\"text/javascript\">\n",
       "\n",
       "var ldavis_el2138021016515847127796556082_data = {\"mdsDat\": {\"x\": [0.09746633309470006, -0.10730741043319142, -0.0946676180572279, -0.12649934153629466, -0.024921251524793853, 0.210736671141464, 0.05279793185569797, -0.1106850615124781, 0.10307974697212399], \"y\": [-0.003260676572324621, 0.06849469115565794, 0.10909082749050755, -0.17976703476875433, 0.04457420227989468, -0.017893594218647238, 0.05119281427835859, -0.022921223161254937, -0.04951000648343735], \"topics\": [1, 2, 3, 4, 5, 6, 7, 8, 9], \"cluster\": [1, 1, 1, 1, 1, 1, 1, 1, 1], \"Freq\": [22.97183996394857, 15.308830832224496, 11.67882294866532, 10.77662513869792, 9.807043740372807, 8.94544355571188, 8.87374742161646, 6.891339993197641, 4.746306405564904]}, \"tinfo\": {\"Term\": [\"iso\", \"room\", \"sterile\", \"investigation\", \"area\", \"sample\", \"non\", \"cleaning\", \"hood\", \"oos\", \"hazardous\", \"injection\", \"made\", \"classified\", \"batch\", \"drug\", \"produced\", \"air\", \"information\", \"review\", \"rx\", \"result\", \"approved\", \"technician\", \"tablet\", \"usp\", \"product\", \"label\", \"observation\", \"testing\", \"approved\", \"essentially_copy\", \"identical\", \"nearly_identical\", \"usc_provides\", \"gmp\", \"concentration\", \"dv\", \"conformance\", \"tape\", \"failing\", \"active_ingredient\", \"individual_patient\", \"shortage_list\", \"prescribing_practitioner\", \"contaminating_microorganism\", \"represented\", \"purport\", \"posse\", \"satisfactory_conformance\", \"meaning\", \"software\", \"clinical_difference\", \"comparable_approved\", \"oxytocin_units\", \"human_error\", \"current_good\", \"cus_lr\", \"pyrogen_free\", \"identity\", \"mon\", \"release\", \"chloride\", \"epinephrine\", \"endotoxin\", \"health_copy\", \"sent_promptly\", \"rendered_injurious\", \"whereby\", \"quality\", \"distribution\", \"assure\", \"determined\", \"master\", \"control\", \"sterility\", \"tue_wed\", \"compounded\", \"specification\", \"validated\", \"laboratory\", \"drug\", \"method\", \"written_procedures\", \"batch\", \"test\", \"testing\", \"investigation\", \"mon_tue\", \"record\", \"may\", \"one\", \"product\", \"wed_thu\", \"change\", \"released\", \"appropriate\", \"lot\", \"inspection\", \"date\", \"unit\", \"assurance\", \"number\", \"section\", \"report\", \"procedure\", \"process\", \"injection\", \"include\", \"time\", \"sample\", \"used\", \"observed\", \"differential_pressure\", \"inv\", \"ns_oh\", \"gauge\", \"ante\", \"pressure_differential\", \"pressure\", \"adverse_event\", \"biosafety\", \"capture\", \"guidance\", \"smoke_studies\", \"cifically\", \"cr\", \"hepa_filters\", \"cya\", \"fixture\", \"ropivicaine\", \"cfr\", \"format\", \"describing\", \"humidity\", \"cleanable\", \"easily\", \"common\", \"culture\", \"constructed\", \"rmi\", \"relabeled\", \"path\", \"hepa_filter\", \"deficient_regarding\", \"isos\", \"unclassified\", \"vent\", \"room\", \"inch\", \"buffer\", \"cleanrooms\", \"anteroom\", \"iso\", \"ceiling\", \"air\", \"flow\", \"dynamic_conditions\", \"cleanroom\", \"classified\", \"hazardous\", \"area\", \"clean\", \"hood\", \"operator\", \"aseptic_processing\", \"sterile\", \"used\", \"drug\", \"production\", \"surface\", \"performed\", \"observed\", \"lot\", \"product\", \"non\", \"filling\", \"system\", \"operation\", \"vial\", \"cleaning\", \"quality\", \"fungus\", \"fusarium\", \"spp\", \"chaetomium_globosum\", \"selank_mcg\", \"cfus\", \"globosum\", \"calculated\", \"chaetomium\", \"iv_bag\", \"reasonable\", \"penicillium_chrysogenum\", \"subsection\", \"penicillium_spp\", \"right_fingertips\", \"proliferatum\", \"gown\", \"hydrocortisone\", \"request\", \"naturopathy\", \"sec\", \"subpart\", \"business\", \"globsum\", \"luteus\", \"fingertip\", \"booty\", \"touched\", \"tn\", \"phlebotomist\", \"pursuant\", \"semax_mcg\", \"bpc_mcg\", \"person\", \"ipamorelin_mcg\", \"thymosin_alpha\", \"thymosin_beta\", \"ghrp_mcg\", \"myer_basic\", \"technician\", \"glove\", \"cfu\", \"monitoring\", \"sterile\", \"specie\", \"iv\", \"personnel\", \"iso\", \"secretary\", \"mcg\", \"recovery\", \"mold\", \"cleanroom\", \"testosterone\", \"hood\", \"sample\", \"lot\", \"product\", \"air\", \"area\", \"drug\", \"non\", \"employee\", \"aseptic_processing\", \"observed\", \"record\", \"room\", \"section\", \"aseptic\", \"may\", \"include\", \"produced\", \"production\", \"prevent_cross\", \"without_providing\", \"pharmaceutical_grade\", \"tetracaine\", \"lido_tetr\", \"niacinamide\", \"cream\", \"adequate_containment\", \"hormone_containing\", \"highly_potent\", \"ointment\", \"dispensary\", \"naltrexone\", \"gm\", \"troche\", \"prilocaine\", \"dent\", \"blender\", \"work_surface\", \"deactivating\", \"hrt\", \"co_producer\", \"castle_rock\", \"prilo_phenyl\", \"spatula\", \"dispensary_staff\", \"segregation\", \"estriol\", \"stock_solutions\", \"dba\", \"progesterone\", \"suspension\", \"sr\", \"utensil\", \"made\", \"rx\", \"bservation\", \"capsule\", \"produced\", \"producer\", \"stock\", \"non\", \"assigned\", \"establishment_inspected\", \"hazardous\", \"zip_code\", \"drug\", \"product\", \"hood\", \"used\", \"sterile\", \"observed\", \"contamination\", \"equipment\", \"cleaning\", \"production\", \"lot\", \"fda_representative\", \"use\", \"component\", \"residue\", \"inspection\", \"area\", \"observation\", \"vial\", \"user_name\", \"study_deleted\", \"full\", \"turbulence\", \"dwell\", \"disinfectant\", \"mibg\", \"user_id\", \"efficacy\", \"aborted\", \"disinfecting_agents\", \"squaric\", \"dibutyl\", \"adequacy\", \"cefuroxime\", \"rg\", \"mapping\", \"cmp\", \"consisting\", \"audit\", \"sep\", \"doorway\", \"ouston\", \"ead\", \"triplicate\", \"revial\", \"lfh\", \"pad\", \"achieve\", \"radio\", \"tubing\", \"cc\", \"wipe\", \"feb\", \"growth\", \"contaminant\", \"media_fills\", \"isos_lafh\", \"disinfecting\", \"user\", \"disinfection\", \"support\", \"aseptic\", \"sterile\", \"production\", \"syrinx\", \"qualification\", \"container\", \"cleaning\", \"medium\", \"used\", \"iso\", \"bud\", \"contact\", \"time\", \"laminar_flow\", \"operation\", \"day\", \"syringe\", \"conducted\", \"observed\", \"lot\", \"failed\", \"product\", \"testing\", \"area\", \"classified\", \"drug\", \"process\", \"system\", \"hood\", \"sterility\", \"unit\", \"inspection\", \"non\", \"swab\", \"toc\", \"mac\", \"hydrocodone\", \"extraneous_peaks\", \"dev\", \"apap\", \"extraneous_peak\", \"ppb\", \"somerset\", \"linearity\", \"cfi\", \"cv\", \"swabbed\", \"methylphenidate_chewable\", \"recleaned\", \"sv\", \"hypothesis\", \"assignable\", \"mm\", \"phentolamine\", \"tablet_press\", \"chromatogram\", \"out\", \"steel\", \"checker\", \"ug\", \"manutacturer\", \"acetaminophen\", \"expectation\", \"ooe\", \"rapid_sterility\", \"homatropine\", \"tank\", \"tablet\", \"peak\", \"incident\", \"oos\", \"site\", \"somerset_nj\", \"filler\", \"based\", \"oxycodone\", \"limit\", \"sample\", \"initiated\", \"result\", \"validation\", \"lab\", \"collected\", \"investigation\", \"cleaning\", \"reported\", \"batch\", \"water\", \"equipment\", \"identified\", \"could\", \"manufacturing\", \"root_cause\", \"meet\", \"usp\", \"product\", \"manufacturer\", \"specification\", \"testing\", \"observed\", \"failure\", \"process\", \"field_alert\", \"vision_system\", \"status_label\", \"tool\", \"settle_plate\", \"burkholderia\", \"mcpfar\", \"inspectional_walkthrough\", \"promised\", \"qre\", \"rpt\", \"malfunction\", \"nda\", \"deliver\", \"prostaglandin\", \"performance_qualification\", \"summary\", \"illegible\", \"udi\", \"gly\", \"contaminans\", \"duct\", \"svva\", \"correct\", \"asepti\", \"implement\", \"grade\", \"pq\", \"reevaluation\", \"exela\", \"powder_residue\", \"carton\", \"run\", \"protocol\", \"media_fill\", \"class\", \"cart\", \"discrepancy\", \"read\", \"pr\", \"building\", \"machine\", \"vial\", \"grade_zone\", \"code\", \"failure\", \"tray\", \"report\", \"number\", \"lot\", \"bulk\", \"cleaned\", \"amendment\", \"filling\", \"failed\", \"product\", \"injection\", \"process\", \"observed\", \"aseptic\", \"inside\", \"sterile\", \"batch\", \"investigation\", \"equipment\", \"used\", \"room\", \"found\", \"non\", \"drug\", \"cleaning\", \"inactive\", \"trailer_hazard\", \"grate\", \"route\", \"chief\", \"sw\", \"recommended\", \"su\", \"ampule\", \"colagulase\", \"inpatient\", \"hcg\", \"proportion\", \"loaded\", \"rocuronium_bromide\", \"dsw\", \"objection\", \"epi_shugarcaine\", \"beta_lactam\", \"iu\", \"screw\", \"photograph\", \"preserved\", \"pres\", \"evaporation\", \"quipment\", \"flurbiprofen\", \"umbrella\", \"clearing\", \"chemotherapy\", \"remained\", \"apis\", \"information\", \"citrate\", \"administration\", \"mobile_unit\", \"ophth\", \"label\", \"implement_corrective\", \"response\", \"ingredient\", \"injection\", \"pharmacy\", \"observation\", \"action\", \"phone_number\", \"fda\", \"container\", \"outsourcing_facility\", \"address\", \"area\", \"routine\", \"classified\", \"fda_representative\", \"disinfected\", \"may_discuss\", \"questions_please\", \"implemented\", \"product\", \"observed\", \"iso\", \"hood\", \"drug\", \"room\", \"include\", \"inspection\", \"production\", \"vial\", \"sterile\", \"prior\", \"non\", \"aseptic_processing\", \"cleaning\", \"aseptic\", \"contamination\", \"phentolamine_mesylate\", \"nystatin_topical\", \"fp\", \"meter\", \"units_gram\", \"gpa\", \"annual\", \"lc\", \"finish\", \"density\", \"kit\", \"practical\", \"karl\", \"inspector\", \"fischer\", \"reddish\", \"connected\", \"viscometer\", \"engineer\", \"tote\", \"mp\", \"pending\", \"password\", \"ec\", \"spa\", \"sgoo\", \"mpcaeprh\", \"pulled\", \"effectiveness\", \"osmoprep\", \"papaverme\", \"powder\", \"defect\", \"nalbuphine\", \"ph\", \"calibration\", \"oral_solution\", \"effective\", \"crt\", \"usp\", \"review\", \"visual_inspection\", \"instrument\", \"sop\", \"table\", \"stability\", \"papaverine\", \"training\", \"product\", \"tablet\", \"somerset_nj\", \"vial\", \"drug\", \"date\", \"lot\", \"observed\", \"batch\", \"testing\", \"located\", \"manufacturer\", \"procedure\", \"process\", \"failed\"], \"Freq\": [416.0, 319.0, 423.0, 224.0, 295.0, 164.0, 250.0, 214.0, 207.0, 69.0, 136.0, 125.0, 86.0, 129.0, 261.0, 715.0, 114.0, 150.0, 68.0, 91.0, 69.0, 115.0, 74.0, 103.0, 51.0, 77.0, 756.0, 51.0, 82.0, 160.0, 71.9814935140538, 17.2018226357836, 16.2519290180439, 15.301798867361223, 11.43365684441766, 10.549835842140935, 9.601057925451878, 9.600288923372439, 9.54162767345596, 8.65282273846074, 9.489521302219408, 9.467942801453821, 7.7032282970918295, 7.703199135496121, 7.703194815259719, 7.702853516584013, 11.97883827649363, 11.978542340300137, 11.978366290666782, 7.648166884156764, 9.332379183475306, 6.75337950180479, 6.753364380977386, 6.753354660445483, 6.752983660144518, 6.753103546704655, 6.7516384465350505, 6.7515828234913835, 6.746718777333026, 6.667315532424166, 10.807293850124129, 51.86634322232746, 26.681069335781526, 11.484610792594152, 27.713426545890886, 12.195214076477392, 12.194938661406805, 12.194909499811097, 23.93741896450138, 126.73712443686873, 25.319745564774006, 26.07882406119847, 19.451004669984894, 12.720281567927826, 75.4374450221229, 59.20892196484236, 26.4554579504308, 31.982029641879265, 72.15660997634566, 20.46031341889311, 47.42539077546226, 320.0282509979711, 35.36571655566318, 17.782261517130898, 131.218929039145, 62.26031789581729, 86.42123132983274, 110.81207638560025, 34.40843641373629, 68.94072968486256, 44.10919459474007, 38.379995175596, 248.10657979736663, 29.17504892519189, 33.65395032860645, 41.44105979563712, 36.12217698882843, 129.06740810891415, 73.58812462816574, 57.921374870860504, 59.25701483646206, 35.87607472222616, 40.87092251798882, 46.4414223731661, 46.231143506803726, 46.717373153065225, 45.265842845997746, 43.922538781020215, 43.21347566141405, 41.75155086556495, 44.7642850009843, 45.84285361976058, 41.241443272713255, 13.865428265877222, 11.207293054286131, 11.206616470453191, 15.841554018004741, 33.47139684163217, 11.442708239647299, 29.092134566388154, 10.283582657745367, 4.7301919139890005, 4.728204988807267, 4.7216061371260025, 18.7302877138825, 13.0561073221555, 15.799898046996724, 9.14189998287264, 3.8052305571273335, 3.8048325242979555, 3.8043333637786536, 3.802687969478548, 3.8025468945516794, 3.793980551479628, 8.191309774373236, 4.442213002623771, 5.187641759759908, 4.379807501045565, 7.28370207305643, 2.879763921701067, 2.879751505667963, 2.8795530290808, 2.879607191775937, 14.37296978746684, 22.87183585827343, 11.209337920955685, 32.475476955865894, 17.794002215059518, 208.4022620113268, 11.195112385983116, 15.040588164849785, 12.049490933898465, 22.388143197024892, 219.93145781838476, 22.829121825313898, 84.09796544326245, 15.718363936967242, 12.406152101432484, 56.47308785146759, 65.28484083558705, 65.33359517868065, 119.58107346755463, 36.862057852826226, 65.59695615542236, 32.61893576109018, 37.264815252714435, 79.48947368633841, 57.974418739519756, 96.68912723450212, 52.23543313291772, 29.421403445698584, 37.155318076823576, 57.154088193342034, 64.5652493035138, 81.63972044718301, 48.818869037702584, 24.145448781719168, 26.454105410955922, 25.25611440647183, 28.12644790117378, 29.106584669611657, 27.082358125582356, 14.333089263442337, 12.553102931469619, 12.552997504422716, 11.663918039509516, 11.64284910310501, 10.77490227010382, 9.884197471550864, 9.876761570148993, 8.994722655211778, 18.635950318794, 7.215685715760388, 7.215077313843886, 6.326046718759718, 6.325927015133547, 6.32550420874753, 6.325497619557099, 13.411074828356027, 5.435992602761869, 4.546789590528078, 4.546566656251815, 4.546672906947522, 4.546602347699985, 4.5465600670613835, 4.54623033299021, 4.544056174697439, 14.329827614178779, 4.485321503939655, 4.4859746574411705, 35.6209460290404, 3.657091016263924, 8.051304882306566, 7.262354755189415, 7.262348715098186, 14.309916178893396, 7.261152227935678, 7.260737108938498, 7.260700868391125, 7.260092466474623, 6.48175752514251, 59.753190475928726, 24.625082945207325, 31.214493016320972, 32.68286335441038, 129.8789263884483, 15.220619170405747, 16.989618027334053, 33.570038543288895, 91.91566592682628, 14.95504294826526, 26.95565544044012, 15.223798454788913, 16.11051459673404, 30.895756303978093, 19.281416431473083, 42.34821294596367, 36.43184694588146, 53.64097836144666, 68.28752310110109, 31.418727170140038, 40.97137085576048, 57.9152412321275, 35.364780269034405, 18.951221116969943, 22.67995612624523, 28.811806224609768, 22.74741845427905, 25.656420835138345, 19.26512136353615, 18.58855207562389, 17.3090817470212, 18.169514706533747, 17.76454965180833, 18.073080806371326, 23.149991941302073, 18.718974430203374, 12.50722291843683, 11.626766596084877, 9.853724011151503, 9.853008577751169, 22.01046461900319, 8.968151225289226, 8.080965167510048, 8.075297941884875, 12.064111236381743, 12.819412314954207, 7.19106178017988, 7.1872120188656154, 6.306929994735841, 6.305604517557884, 6.3030984739332, 6.281088763255343, 18.668401598366128, 5.420104187061221, 5.419875167304173, 5.419427261407647, 5.4193573394464245, 5.418933754232062, 5.418516249188241, 7.709169832454882, 11.487106092117868, 5.374279968416563, 11.330196144325795, 6.076649615662716, 16.80651252140112, 11.799963294033008, 9.709180116878244, 27.6652907497178, 62.187214139301446, 48.63988076708305, 10.7383452503241, 30.751147544094543, 65.26050119444625, 14.538636270343149, 12.953870219661558, 101.32543405015882, 19.36847040774336, 19.28361960111898, 47.79845812624311, 19.75377486837906, 123.23476921927562, 117.30157666740195, 53.08294917619418, 58.30069616739222, 63.90348009172215, 55.184888452930075, 29.94130733576853, 37.800100031621994, 42.326795106355235, 40.65949074057839, 50.928688005228715, 15.982453834264778, 25.104341158323628, 21.298344911613526, 18.719835787696695, 28.497082400420652, 30.093108926944335, 20.545398885763976, 21.21650176268347, 17.44087735823169, 15.706326899044837, 7.0322609451557945, 7.033046650018891, 7.032553740101842, 21.426686197992822, 5.296483052667557, 18.30826786142592, 4.432050470070017, 4.429222117000632, 11.037200130612353, 3.5643413506431565, 3.5641977197365518, 3.563391957266915, 3.558026201696579, 3.529886301909326, 2.6976819126252387, 2.697672690737174, 2.697673382378779, 2.6975804718565293, 2.6975749387236903, 2.696636381065925, 2.697298282081755, 2.697162950874408, 2.6957010510689816, 2.6956830683872557, 7.877727792759859, 5.299168927566345, 5.297245702810492, 3.1745169260409387, 7.692216603698915, 4.426888057131503, 20.01837109535375, 12.237376297446588, 12.39807968542519, 6.843526706216303, 8.475247119256606, 4.550299513060429, 9.11023405477066, 5.28969482086327, 6.830960039350793, 9.82219608995919, 29.923617664844322, 74.9191424393354, 49.57501847969173, 15.235676775406805, 13.08144741229209, 17.57495807755685, 42.9290287656669, 10.965950901237129, 46.546602081879236, 58.007262090525906, 16.536787429295927, 16.329697022164027, 25.401716494984154, 13.371214812488757, 21.592174823688097, 18.008100938058902, 18.815527036302452, 18.50067148962628, 37.87423526086608, 43.37583293114772, 23.49982565497867, 48.134271841107385, 24.971436108537326, 30.118813680750616, 21.10721786290678, 37.27005404243153, 20.892417957352947, 17.044852597189298, 19.724554364107956, 17.187426675421875, 17.861777240139293, 18.065016586815457, 17.910741777006628, 26.399513403485084, 15.88062085333893, 16.685009554832714, 8.831869542851717, 7.111871001478176, 17.971639155680638, 6.235064739855548, 6.234311051815783, 6.223452392323227, 6.9890917710047065, 6.934398076770808, 5.358260581157137, 5.358015800778151, 5.357961965918168, 5.350198810874649, 4.481430346198423, 4.481096401832589, 4.476612546814768, 4.455960148653701, 4.454985653571036, 8.868413318744082, 5.89298037495868, 3.604591699542836, 3.6045496410584743, 3.6044377654900717, 3.604318319394484, 3.6040588185459708, 3.588669619117953, 3.5773117254160223, 3.5651934143168287, 7.864027271242917, 7.105371283304888, 6.223650908369415, 13.444940001008973, 36.31782089097959, 13.401230300551028, 6.227596835372249, 45.88772094103826, 19.24509435688704, 17.64002482988082, 8.836921607993267, 14.994364470865028, 7.094661510846975, 23.96140157075901, 64.6524636656887, 29.342367424698917, 46.757863876983436, 28.334383694445435, 18.62472666553093, 11.292503693953588, 63.59844440079206, 60.379240902229945, 16.754192396929284, 54.91412443277875, 21.693248073339362, 35.83168201129479, 24.088795037551822, 12.670489369853676, 22.399500872101843, 18.44094286524506, 16.196316883977456, 21.092888444163894, 51.849638957129685, 17.142807745415094, 21.955472629299546, 21.991304775636507, 22.989662159989237, 17.38656357972228, 17.651234257132952, 8.866169860324877, 8.688228118695323, 6.234693538241196, 5.358391999770476, 5.358480449123877, 5.35829437171059, 5.3582851930041056, 10.60661532331301, 4.480942705775201, 4.481340727865505, 3.6050116532753305, 3.6048585357626033, 3.604814728299834, 3.604605286906404, 3.60444966611009, 14.896202859572629, 9.744295040888593, 2.7278646307731633, 2.7278085154994254, 2.7276693746533915, 2.7276322426135207, 2.7265307978353213, 2.724175416587092, 7.109362101385448, 2.5830144206986345, 4.462080463948537, 15.283088675626605, 6.234787411375701, 1.8510647302617016, 1.8508847024504165, 8.862066144098224, 5.477262089746193, 19.789274493091266, 16.87500347584669, 24.097912851874423, 14.194927988994618, 9.531786290636548, 7.990181649516441, 12.376592857202683, 9.37128659461207, 17.11526529679791, 10.451594480632211, 41.30586472675781, 6.935014657772631, 9.31911148923991, 26.87217354925261, 12.339508379719717, 27.107732534772065, 21.776744814854336, 55.88633343409242, 16.553938998424474, 15.28562867403936, 11.369803072415898, 16.882578411980397, 23.604534014325814, 50.53622897185003, 22.306903563716176, 22.882775608584744, 33.244580644669284, 19.36942210105464, 14.379176336407227, 30.031102153426858, 24.074595599691087, 22.81597131393123, 19.777148587396724, 22.63973681170788, 21.789296278758634, 14.956183203168482, 18.45897619167367, 19.404211067488493, 15.181079869463822, 6.646626555571999, 5.830605228879659, 4.1905200548077985, 4.1841529782618405, 3.3699535472194886, 3.369881941503919, 3.3698556968751356, 3.3682790751015554, 2.5507281077612345, 2.5506631442048016, 2.5505502274994805, 2.5459185365308548, 2.5458085358953984, 2.5405372536030884, 5.010670536428727, 2.5039175722484157, 6.650786167230287, 4.1902125714409415, 4.190177902610326, 4.1874144404017635, 1.7307418980760243, 1.7307250496723607, 1.730710145315274, 1.7306689963294037, 1.7306448577510782, 1.7304225884258262, 1.730585726334375, 1.7305405272514702, 1.7303828974748883, 1.7304833398813433, 3.3705267169518076, 3.359515313134477, 35.61447967149199, 8.65583562931934, 6.642978228163344, 4.9965499541199705, 4.190214515487518, 25.25449734927933, 9.080518436105985, 10.52091308988141, 10.83882108249773, 38.29625304290846, 20.18617222352992, 24.51525679014328, 21.984126291912464, 8.23708864474642, 20.35931678782359, 16.67042619933326, 14.398573193016654, 14.580014948099034, 47.89564658251248, 10.925784118006455, 23.48477990940562, 9.783354131034072, 8.055827685995657, 7.424782391061862, 7.424517352711926, 8.159312525342937, 51.47157769665696, 28.018358735406068, 30.75815023285304, 21.93508706900351, 35.640112573619305, 24.96241860749455, 17.145371034325507, 19.218688932027668, 18.974826433434433, 16.277232410978016, 21.650592700929373, 13.16880172946865, 16.60296130297179, 12.493818389842765, 14.401751061153785, 11.761334040575745, 11.281284139273485, 7.020436731599774, 10.108936808944156, 4.711494535525726, 4.711440085594419, 9.337890969394119, 3.9406718514318606, 3.9406307908279246, 3.940579911383917, 3.1694521737814623, 3.169094901896128, 4.309875859007799, 2.3985239371568268, 2.398505415253964, 2.3984411464825866, 2.3984915796156816, 2.398304129032496, 2.398097487080079, 2.398351884300117, 2.3979305667988604, 2.388845015556199, 2.3475583551431076, 8.566899579775386, 3.8757336136852722, 1.627487246980491, 1.627348667442207, 1.6274794365395249, 1.627478097606788, 1.6274777628736037, 1.627478097606788, 1.627475754474498, 1.6274758660522262, 11.610702511869972, 9.917797912378488, 4.6908321255276775, 5.482580096746964, 10.10245637449687, 7.023565371095332, 7.0090843672332985, 6.253763846368918, 21.198490102062156, 21.2134593700623, 11.05407157558636, 6.229809000770481, 13.307988099277061, 6.165355902985614, 9.942893974979798, 5.4748910523490375, 8.276995648794472, 39.09923885960944, 9.405102714928205, 7.056944517918903, 12.441900350942582, 20.13340481461739, 10.675125047104784, 14.904046801276397, 13.364016185969541, 11.95105207265172, 9.360914364118486, 8.142743541116637, 7.014791791180401, 7.104735936724005, 6.759654587649547, 6.730605102986661], \"Total\": [416.0, 319.0, 423.0, 224.0, 295.0, 164.0, 250.0, 214.0, 207.0, 69.0, 136.0, 125.0, 86.0, 129.0, 261.0, 715.0, 114.0, 150.0, 68.0, 91.0, 69.0, 115.0, 74.0, 103.0, 51.0, 77.0, 756.0, 51.0, 82.0, 160.0, 74.78160603190938, 17.972067323919095, 17.02209139922599, 16.072120061637712, 12.266790157950819, 11.321135246241687, 10.370551451974043, 10.371600694543154, 10.363333943461562, 9.421627338714094, 10.365463797872007, 10.362032483073374, 8.472433443114056, 8.472433460813248, 8.472431917855758, 8.472447979408681, 13.207340119120076, 13.207318175337377, 13.207298441576917, 8.46835874587789, 10.334709497405802, 7.522506031957388, 7.522493010549599, 7.522492312637956, 7.5221574163576195, 7.522489339532284, 7.520892560403892, 7.5221610576282, 7.521129011430595, 7.513554433641027, 12.21847225356576, 62.2969468092725, 31.769236421033, 13.149745828490744, 33.48893333905119, 14.09463743640661, 14.094628072247092, 14.094628776470627, 29.07522166237978, 196.37776727017388, 32.564276975837984, 33.69906902655959, 24.187835473944727, 14.943975924811038, 116.94883687040354, 88.6024598957717, 34.74007080200447, 43.4412423708871, 114.48025436857885, 26.091943277019645, 71.44486508542691, 715.6080009584834, 51.28373511398333, 22.291668960773134, 261.06345279324444, 105.03908057082845, 160.46277270706707, 224.3384771598134, 52.02960979598545, 132.02681059519387, 73.60846807491187, 61.68770461036296, 756.4263563394063, 42.84737708981931, 52.61934805808893, 71.8817356764189, 59.407138812403545, 428.6513082179591, 180.494836430769, 126.56014728891621, 141.5585986475213, 60.922055506436806, 77.97065951646387, 104.83669989418823, 110.78111009818547, 113.82191048641846, 133.58373598776845, 125.49021163651538, 127.77934955518847, 115.05217355752794, 164.4825592792996, 256.5713125355064, 317.88307913049533, 14.74909399020354, 11.984184385463694, 11.98420151342867, 17.384745255916076, 37.420741709818735, 12.793482248822286, 33.11641366053524, 11.87763128826752, 5.502549570541535, 5.502042938295795, 5.502382730204815, 21.975594528129864, 15.609885819616219, 18.924567634443502, 10.986231252619985, 4.576656340766251, 4.5765108337842, 4.576608751533393, 4.57643679681152, 4.576428861782295, 4.576017604879491, 9.936485378187685, 5.509183454037298, 6.43991439885498, 5.487593377173011, 9.16294432477537, 3.6509254722648214, 3.6509099587765186, 3.650819183427802, 3.650916025636774, 18.29168283938994, 29.2546620279819, 14.585320447286213, 43.61007962405569, 23.74169189556258, 319.47358687085057, 14.833355108627332, 20.613453938871924, 16.242742649219863, 32.50747014597404, 416.16407711620286, 33.74913061484676, 150.97083976319865, 22.668689628790215, 17.243065884112365, 105.5673957837091, 129.63481767316114, 136.39056466251444, 295.2228412461357, 79.12663599380141, 207.39402089300557, 76.10550733672038, 95.14524055685033, 423.69528676336375, 256.5713125355064, 715.6080009584834, 233.43334181365898, 77.31658859804176, 128.3248145279662, 317.88307913049533, 428.6513082179591, 756.4263563394063, 250.54791890735288, 58.7549938111025, 82.91952978496124, 87.87457622324042, 155.8675465678804, 214.09054277423178, 196.37776727017388, 15.110305652525271, 13.330707357547807, 13.33071516752226, 12.440862434999982, 12.440592645683653, 11.551071311357449, 10.661246814087658, 10.660344868038571, 9.771422861416653, 20.488806193267788, 7.991823257428197, 7.991809786420342, 7.1020156867777775, 7.101964352994628, 7.10198568380024, 7.101984940281389, 15.118692262828315, 6.211510921124576, 5.322384978970849, 5.322247799773804, 5.322379572662961, 5.322379742498328, 5.3223854605455925, 5.322341549679979, 5.322214644014723, 16.863685071368597, 5.321875925537906, 5.324192202721142, 42.745947443898565, 4.432517916824142, 9.83278183017102, 8.878533229988305, 8.878534620635184, 18.676260729377194, 8.878533124908731, 8.878530610386594, 8.87853030893257, 8.878529263551135, 7.989048330348195, 103.22764457618091, 38.26945652346854, 52.83839880520485, 65.44256723130442, 423.69528676336375, 23.96417279909801, 31.301255465977874, 87.51828645693848, 416.16407711620286, 27.41618159899097, 70.69803784076556, 29.11151234217263, 32.52549519477281, 105.5673957837091, 48.042260632290876, 207.39402089300557, 164.4825592792996, 428.6513082179591, 756.4263563394063, 150.97083976319865, 295.2228412461357, 715.6080009584834, 250.54791890735288, 49.65124593582429, 95.14524055685033, 317.88307913049533, 132.02681059519387, 319.47358687085057, 104.83669989418823, 107.89957165996813, 73.60846807491187, 127.77934955518847, 114.03520104512232, 233.43334181365898, 23.9403651578951, 19.504594972119424, 13.294376098751032, 12.407132421205333, 10.6323159058438, 10.632717556624463, 23.864981446118904, 9.745342825556254, 8.85813005683743, 8.857646876865168, 13.295189290575397, 14.182915986705998, 7.970789146378623, 7.969379530398596, 7.0836930040251, 7.083855383465078, 7.083460263821813, 7.080213687271664, 21.237431358584644, 6.196613112665064, 6.1966322851994855, 6.196574459664504, 6.196589098050206, 6.196270601581969, 6.196498078834893, 8.858748618368374, 13.214557521709786, 6.1972873333650424, 13.182224989221057, 7.078269930888253, 19.63887161181461, 14.067459460728157, 11.4965949620457, 35.41121277265254, 86.15407251839234, 69.43634228122005, 13.418782856850815, 45.756622359419985, 114.03520104512232, 19.265777226628934, 16.873838799425133, 250.54791890735288, 30.40111570208965, 34.19709825821262, 136.39056466251444, 36.971938853873624, 715.6080009584834, 756.4263563394063, 207.39402089300557, 256.5713125355064, 423.69528676336375, 317.88307913049533, 94.7936983243219, 155.66006062669882, 214.09054277423178, 233.43334181365898, 428.6513082179591, 27.623848250322546, 94.3888605489639, 67.16703677753276, 45.30003634866782, 180.494836430769, 295.2228412461357, 82.87928668557183, 155.8675465678804, 18.220506460744538, 16.48580309005018, 7.811117609330108, 7.812203647677629, 7.811992826051595, 24.317587527285895, 6.077023722947879, 21.40095690282967, 5.2101142459070795, 5.207531877373359, 13.09022121841636, 4.342646203828582, 4.342646783517519, 4.342469988763746, 4.342937096016766, 4.343126584938369, 3.475470942645945, 3.4754682620187065, 3.4754810298227508, 3.475475686058656, 3.4754758951472398, 3.474373199028017, 3.475299987606797, 3.475268731866093, 3.4738544806476903, 3.473854227659332, 10.383737986526498, 7.002344299599971, 7.025493153207217, 4.29857802402008, 10.544063554277166, 6.1348649852923325, 41.56301031061008, 22.514165936958406, 23.3819862790083, 11.195611652247136, 15.011892749219125, 6.9856564389015405, 17.85608789961252, 8.610332139998217, 12.230937525082888, 20.21777234645199, 107.89957165996813, 423.69528676336375, 233.43334181365898, 40.53425085243967, 32.32114753302249, 51.70855324450069, 214.09054277423178, 25.79597451369847, 256.5713125355064, 416.16407711620286, 49.95243273570104, 50.60449340909495, 115.05217355752794, 36.735891749900894, 87.87457622324042, 63.94200845823467, 69.89465210100163, 69.07418748555888, 317.88307913049533, 428.6513082179591, 129.8671269064773, 756.4263563394063, 160.46277270706707, 295.2228412461357, 129.63481767316114, 715.6080009584834, 133.58373598776845, 82.91952978496124, 207.39402089300557, 88.6024598957717, 141.5585986475213, 180.494836430769, 250.54791890735288, 27.190245561474665, 16.66357222813118, 17.546005815626767, 9.644735066233023, 7.891292620267377, 20.15580810592207, 7.014108691105296, 7.014107210174489, 7.014622423340085, 7.899209068307243, 7.905596890768358, 6.13679660184734, 6.136710063045539, 6.136816866890389, 6.136392699324093, 5.2595937311209555, 5.259604027015256, 5.2596941457348105, 5.259093362532428, 5.261243841349356, 10.52207941695309, 7.013453120659102, 4.382356661520055, 4.3823647657299585, 4.382364642349219, 4.382395503434561, 4.382273916051201, 4.383491500866188, 4.383196439269895, 4.38492057912343, 9.727919849148922, 8.840308272983444, 7.784570066401006, 17.532025236735723, 51.43820940462283, 17.818214650288226, 7.881011704838979, 69.08390999798186, 28.940011835589164, 27.11374594708398, 12.158856163188428, 23.872205374930044, 9.434932240551642, 45.14743129638457, 164.4825592792996, 59.153901384642026, 115.11230686992316, 60.361163661037956, 35.953828496702855, 17.639012230824918, 224.3384771598134, 214.09054277423178, 33.18549865213217, 261.06345279324444, 57.64988816487208, 155.66006062669882, 78.63908061830632, 24.085328527377797, 74.24241450813973, 52.23540602801519, 41.67537924547722, 77.85623451011718, 756.4263563394063, 51.43895873147229, 114.48025436857885, 160.46277270706707, 317.88307913049533, 96.377126596684, 133.58373598776845, 9.64454207682406, 9.646145069446955, 7.013082370655359, 6.135870636574804, 6.136071994338041, 6.136059451672112, 6.136130595637462, 12.169413416341397, 5.257772206168621, 5.25894343794614, 4.381902256483155, 4.38179129593218, 4.381853077241882, 4.381845423129608, 4.381845778123164, 18.499665032154375, 12.349150519696467, 3.5047793724793155, 3.504777301186862, 3.5047329514846544, 3.5047299486869328, 3.504631285691083, 3.5047094253906845, 9.431410357033613, 3.5024514125710278, 6.135552210184764, 21.02532064768202, 8.747197923533156, 2.627641693131854, 2.627525197642012, 12.824681243088758, 7.871283966288736, 29.248961485272712, 24.857582911063748, 38.85290357396865, 23.67022149306526, 14.89971141966629, 12.336378394568529, 21.4256501392742, 16.674911880677172, 38.45730028367078, 20.219947041258877, 155.8675465678804, 11.357300404518128, 17.587503549383324, 96.377126596684, 28.27261333598888, 110.78111009818547, 77.97065951646387, 428.6513082179591, 49.154882690072775, 42.63851441122666, 26.804009959350232, 58.7549938111025, 129.8671269064773, 756.4263563394063, 125.49021163651538, 133.58373598776845, 317.88307913049533, 107.89957165996813, 50.427272527641854, 423.69528676336375, 261.06345279324444, 224.3384771598134, 155.66006062669882, 256.5713125355064, 319.47358687085057, 63.759021874150825, 250.54791890735288, 715.6080009584834, 214.09054277423178, 7.433496490454946, 6.613914735706051, 4.973823262516965, 4.974540684971287, 4.153224387690181, 4.1531648180175855, 4.153223040087508, 4.152094471971068, 3.3337150251464904, 3.3337141926001075, 3.3336818477989425, 3.3337633643028237, 3.3339315560253024, 3.3342780188085217, 6.6585992702900505, 3.339476031263646, 9.2075192946902, 5.839936589110578, 5.8614977949074065, 5.860346912193319, 2.513638176341433, 2.5136386914650957, 2.51363577812927, 2.513644894053624, 2.5136480372527132, 2.513401658882417, 2.5136412974154094, 2.5136600851287643, 2.5134412289000405, 2.5135890074285268, 4.924214984510277, 5.029432531321254, 68.02987257686993, 14.573570758462079, 10.933738762368442, 8.107685648494424, 6.707456234859391, 51.59017711239653, 17.037504329671567, 21.336040931720287, 22.336708528292178, 125.49021163651538, 54.435899528847116, 82.87928668557183, 71.93084627200022, 17.992987879534393, 69.27186021069791, 51.70855324450069, 42.81719158443886, 44.43699105680914, 295.2228412461357, 32.280339138193455, 129.63481767316114, 27.623848250322546, 19.873395254296856, 17.17114185181577, 17.171098824813892, 20.619916810780794, 756.4263563394063, 317.88307913049533, 416.16407711620286, 207.39402089300557, 715.6080009584834, 319.47358687085057, 127.77934955518847, 180.494836430769, 233.43334181365898, 155.8675465678804, 423.69528676336375, 95.50873184118407, 250.54791890735288, 95.14524055685033, 214.09054277423178, 107.89957165996813, 94.7936983243219, 7.81474876751041, 11.775124839653246, 5.500575778810509, 5.5005777875924515, 11.00398151529433, 4.729240530438938, 4.729432686546178, 4.729423419427781, 3.9582522972861964, 3.958311182178058, 5.576479245210217, 3.187134404048734, 3.1871273622022436, 3.1870486432532217, 3.1871316031631745, 3.1869046521441153, 3.186759501176087, 3.187099095679502, 3.187024637712998, 3.186780927083956, 3.1893211172845977, 12.032841052339652, 5.692889424756703, 2.4159689429478663, 2.415773655689927, 2.415970121352685, 2.4159704918592224, 2.4159703725686117, 2.4159712470925916, 2.4159708005202876, 2.4159711516967484, 20.313328964269317, 18.04161936434631, 8.09540785029353, 9.942737463411635, 21.444775338263796, 14.831109158588182, 14.865803374576355, 13.182946478478145, 77.85623451011718, 91.03061132223806, 36.63952398078549, 15.111551993144491, 63.131083182044925, 17.742011143977496, 44.91350291897902, 15.044913981750586, 35.88074534896056, 756.4263563394063, 51.43820940462283, 27.11374594708398, 155.8675465678804, 715.6080009584834, 126.56014728891621, 428.6513082179591, 317.88307913049533, 261.06345279324444, 160.46277270706707, 83.22812414454347, 51.43895873147229, 113.82191048641846, 133.58373598776845, 129.8671269064773], \"Category\": [\"Default\", \"Default\", \"Default\", \"Default\", \"Default\", \"Default\", \"Default\", \"Default\", \"Default\", \"Default\", \"Default\", \"Default\", \"Default\", \"Default\", \"Default\", \"Default\", \"Default\", \"Default\", \"Default\", \"Default\", \"Default\", \"Default\", \"Default\", \"Default\", \"Default\", \"Default\", \"Default\", \"Default\", \"Default\", \"Default\", \"Topic1\", \"Topic1\", \"Topic1\", \"Topic1\", \"Topic1\", \"Topic1\", \"Topic1\", \"Topic1\", \"Topic1\", \"Topic1\", \"Topic1\", \"Topic1\", \"Topic1\", \"Topic1\", \"Topic1\", \"Topic1\", \"Topic1\", \"Topic1\", \"Topic1\", \"Topic1\", \"Topic1\", \"Topic1\", \"Topic1\", \"Topic1\", \"Topic1\", \"Topic1\", \"Topic1\", \"Topic1\", \"Topic1\", \"Topic1\", \"Topic1\", \"Topic1\", \"Topic1\", \"Topic1\", \"Topic1\", \"Topic1\", \"Topic1\", \"Topic1\", \"Topic1\", \"Topic1\", \"Topic1\", \"Topic1\", \"Topic1\", \"Topic1\", \"Topic1\", \"Topic1\", \"Topic1\", \"Topic1\", \"Topic1\", \"Topic1\", \"Topic1\", \"Topic1\", \"Topic1\", \"Topic1\", \"Topic1\", \"Topic1\", \"Topic1\", \"Topic1\", \"Topic1\", \"Topic1\", \"Topic1\", \"Topic1\", \"Topic1\", \"Topic1\", \"Topic1\", \"Topic1\", \"Topic1\", \"Topic1\", \"Topic1\", \"Topic1\", \"Topic1\", \"Topic1\", \"Topic1\", \"Topic1\", \"Topic1\", \"Topic1\", \"Topic1\", \"Topic1\", \"Topic1\", \"Topic1\", \"Topic1\", \"Topic1\", \"Topic1\", \"Topic2\", \"Topic2\", \"Topic2\", \"Topic2\", \"Topic2\", \"Topic2\", \"Topic2\", \"Topic2\", \"Topic2\", \"Topic2\", \"Topic2\", \"Topic2\", \"Topic2\", \"Topic2\", \"Topic2\", \"Topic2\", \"Topic2\", \"Topic2\", \"Topic2\", \"Topic2\", \"Topic2\", \"Topic2\", \"Topic2\", \"Topic2\", \"Topic2\", \"Topic2\", \"Topic2\", \"Topic2\", \"Topic2\", \"Topic2\", \"Topic2\", \"Topic2\", \"Topic2\", \"Topic2\", \"Topic2\", \"Topic2\", \"Topic2\", \"Topic2\", \"Topic2\", \"Topic2\", \"Topic2\", \"Topic2\", \"Topic2\", \"Topic2\", \"Topic2\", \"Topic2\", \"Topic2\", \"Topic2\", \"Topic2\", \"Topic2\", \"Topic2\", \"Topic2\", \"Topic2\", \"Topic2\", \"Topic2\", \"Topic2\", \"Topic2\", \"Topic2\", \"Topic2\", \"Topic2\", \"Topic2\", \"Topic2\", \"Topic2\", \"Topic2\", \"Topic2\", \"Topic2\", \"Topic2\", \"Topic2\", \"Topic2\", \"Topic3\", \"Topic3\", \"Topic3\", \"Topic3\", \"Topic3\", \"Topic3\", \"Topic3\", \"Topic3\", \"Topic3\", \"Topic3\", \"Topic3\", \"Topic3\", \"Topic3\", \"Topic3\", \"Topic3\", \"Topic3\", \"Topic3\", \"Topic3\", \"Topic3\", \"Topic3\", \"Topic3\", \"Topic3\", \"Topic3\", \"Topic3\", \"Topic3\", \"Topic3\", \"Topic3\", \"Topic3\", \"Topic3\", \"Topic3\", \"Topic3\", \"Topic3\", \"Topic3\", \"Topic3\", \"Topic3\", \"Topic3\", \"Topic3\", \"Topic3\", \"Topic3\", \"Topic3\", \"Topic3\", \"Topic3\", \"Topic3\", \"Topic3\", \"Topic3\", \"Topic3\", \"Topic3\", \"Topic3\", \"Topic3\", \"Topic3\", \"Topic3\", \"Topic3\", \"Topic3\", \"Topic3\", \"Topic3\", \"Topic3\", \"Topic3\", \"Topic3\", \"Topic3\", \"Topic3\", \"Topic3\", \"Topic3\", \"Topic3\", \"Topic3\", \"Topic3\", \"Topic3\", \"Topic3\", \"Topic3\", \"Topic3\", \"Topic3\", \"Topic3\", \"Topic3\", \"Topic3\", \"Topic4\", \"Topic4\", \"Topic4\", \"Topic4\", \"Topic4\", \"Topic4\", \"Topic4\", \"Topic4\", \"Topic4\", \"Topic4\", \"Topic4\", \"Topic4\", \"Topic4\", \"Topic4\", \"Topic4\", \"Topic4\", \"Topic4\", \"Topic4\", \"Topic4\", \"Topic4\", \"Topic4\", \"Topic4\", \"Topic4\", \"Topic4\", \"Topic4\", \"Topic4\", \"Topic4\", \"Topic4\", \"Topic4\", \"Topic4\", \"Topic4\", \"Topic4\", \"Topic4\", \"Topic4\", \"Topic4\", \"Topic4\", \"Topic4\", \"Topic4\", \"Topic4\", \"Topic4\", \"Topic4\", \"Topic4\", \"Topic4\", \"Topic4\", \"Topic4\", \"Topic4\", \"Topic4\", \"Topic4\", \"Topic4\", \"Topic4\", \"Topic4\", \"Topic4\", \"Topic4\", \"Topic4\", \"Topic4\", \"Topic4\", \"Topic4\", \"Topic4\", \"Topic4\", \"Topic4\", \"Topic4\", \"Topic4\", \"Topic4\", \"Topic4\", \"Topic4\", \"Topic5\", \"Topic5\", \"Topic5\", \"Topic5\", \"Topic5\", \"Topic5\", \"Topic5\", \"Topic5\", \"Topic5\", \"Topic5\", \"Topic5\", \"Topic5\", \"Topic5\", \"Topic5\", \"Topic5\", \"Topic5\", \"Topic5\", \"Topic5\", \"Topic5\", \"Topic5\", \"Topic5\", \"Topic5\", \"Topic5\", \"Topic5\", \"Topic5\", \"Topic5\", \"Topic5\", \"Topic5\", \"Topic5\", \"Topic5\", \"Topic5\", \"Topic5\", \"Topic5\", \"Topic5\", \"Topic5\", \"Topic5\", \"Topic5\", \"Topic5\", \"Topic5\", \"Topic5\", \"Topic5\", \"Topic5\", \"Topic5\", \"Topic5\", \"Topic5\", \"Topic5\", \"Topic5\", \"Topic5\", \"Topic5\", \"Topic5\", \"Topic5\", \"Topic5\", \"Topic5\", \"Topic5\", \"Topic5\", \"Topic5\", \"Topic5\", \"Topic5\", \"Topic5\", \"Topic5\", \"Topic5\", \"Topic5\", \"Topic5\", \"Topic5\", \"Topic5\", \"Topic5\", \"Topic5\", \"Topic5\", \"Topic5\", \"Topic5\", \"Topic5\", \"Topic5\", \"Topic5\", \"Topic5\", \"Topic5\", \"Topic6\", \"Topic6\", \"Topic6\", \"Topic6\", \"Topic6\", \"Topic6\", \"Topic6\", \"Topic6\", \"Topic6\", \"Topic6\", \"Topic6\", \"Topic6\", \"Topic6\", \"Topic6\", \"Topic6\", \"Topic6\", \"Topic6\", \"Topic6\", \"Topic6\", \"Topic6\", \"Topic6\", \"Topic6\", \"Topic6\", \"Topic6\", \"Topic6\", \"Topic6\", \"Topic6\", \"Topic6\", \"Topic6\", \"Topic6\", \"Topic6\", \"Topic6\", \"Topic6\", \"Topic6\", \"Topic6\", \"Topic6\", \"Topic6\", \"Topic6\", \"Topic6\", \"Topic6\", \"Topic6\", \"Topic6\", \"Topic6\", \"Topic6\", \"Topic6\", \"Topic6\", \"Topic6\", \"Topic6\", \"Topic6\", \"Topic6\", \"Topic6\", \"Topic6\", \"Topic6\", \"Topic6\", \"Topic6\", \"Topic6\", \"Topic6\", \"Topic6\", \"Topic6\", \"Topic6\", \"Topic6\", \"Topic6\", \"Topic6\", \"Topic6\", \"Topic6\", \"Topic6\", \"Topic6\", \"Topic6\", \"Topic6\", \"Topic7\", \"Topic7\", \"Topic7\", \"Topic7\", \"Topic7\", \"Topic7\", \"Topic7\", \"Topic7\", \"Topic7\", \"Topic7\", \"Topic7\", \"Topic7\", \"Topic7\", \"Topic7\", \"Topic7\", \"Topic7\", \"Topic7\", \"Topic7\", \"Topic7\", \"Topic7\", \"Topic7\", \"Topic7\", \"Topic7\", \"Topic7\", \"Topic7\", \"Topic7\", \"Topic7\", \"Topic7\", \"Topic7\", \"Topic7\", \"Topic7\", \"Topic7\", \"Topic7\", \"Topic7\", \"Topic7\", \"Topic7\", \"Topic7\", \"Topic7\", \"Topic7\", \"Topic7\", \"Topic7\", \"Topic7\", \"Topic7\", \"Topic7\", \"Topic7\", \"Topic7\", \"Topic7\", \"Topic7\", \"Topic7\", \"Topic7\", \"Topic7\", \"Topic7\", \"Topic7\", \"Topic7\", \"Topic7\", \"Topic7\", \"Topic7\", \"Topic7\", \"Topic7\", \"Topic7\", \"Topic7\", \"Topic7\", \"Topic7\", \"Topic7\", \"Topic7\", \"Topic7\", \"Topic7\", \"Topic7\", \"Topic7\", \"Topic7\", \"Topic7\", \"Topic8\", \"Topic8\", \"Topic8\", \"Topic8\", \"Topic8\", \"Topic8\", \"Topic8\", \"Topic8\", \"Topic8\", \"Topic8\", \"Topic8\", \"Topic8\", \"Topic8\", \"Topic8\", \"Topic8\", \"Topic8\", \"Topic8\", \"Topic8\", \"Topic8\", \"Topic8\", \"Topic8\", \"Topic8\", \"Topic8\", \"Topic8\", \"Topic8\", \"Topic8\", \"Topic8\", \"Topic8\", \"Topic8\", \"Topic8\", \"Topic8\", \"Topic8\", \"Topic8\", \"Topic8\", \"Topic8\", \"Topic8\", \"Topic8\", \"Topic8\", \"Topic8\", \"Topic8\", \"Topic8\", \"Topic8\", \"Topic8\", \"Topic8\", \"Topic8\", \"Topic8\", \"Topic8\", \"Topic8\", \"Topic8\", \"Topic8\", \"Topic8\", \"Topic8\", \"Topic8\", \"Topic8\", \"Topic8\", \"Topic8\", \"Topic8\", \"Topic8\", \"Topic8\", \"Topic8\", \"Topic8\", \"Topic8\", \"Topic8\", \"Topic8\", \"Topic8\", \"Topic8\", \"Topic8\", \"Topic8\", \"Topic8\", \"Topic8\", \"Topic8\", \"Topic8\", \"Topic8\", \"Topic8\", \"Topic8\", \"Topic9\", \"Topic9\", \"Topic9\", \"Topic9\", \"Topic9\", \"Topic9\", \"Topic9\", \"Topic9\", \"Topic9\", \"Topic9\", \"Topic9\", \"Topic9\", \"Topic9\", \"Topic9\", \"Topic9\", \"Topic9\", \"Topic9\", \"Topic9\", \"Topic9\", \"Topic9\", \"Topic9\", \"Topic9\", \"Topic9\", \"Topic9\", \"Topic9\", \"Topic9\", \"Topic9\", \"Topic9\", \"Topic9\", \"Topic9\", \"Topic9\", \"Topic9\", \"Topic9\", \"Topic9\", \"Topic9\", \"Topic9\", \"Topic9\", \"Topic9\", \"Topic9\", \"Topic9\", \"Topic9\", \"Topic9\", \"Topic9\", \"Topic9\", \"Topic9\", \"Topic9\", \"Topic9\", \"Topic9\", \"Topic9\", \"Topic9\", \"Topic9\", \"Topic9\", \"Topic9\", \"Topic9\", \"Topic9\", \"Topic9\", \"Topic9\", \"Topic9\", \"Topic9\", \"Topic9\", \"Topic9\", \"Topic9\", \"Topic9\"], \"logprob\": [30.0, 29.0, 28.0, 27.0, 26.0, 25.0, 24.0, 23.0, 22.0, 21.0, 20.0, 19.0, 18.0, 17.0, 16.0, 15.0, 14.0, 13.0, 12.0, 11.0, 10.0, 9.0, 8.0, 7.0, 6.0, 5.0, 4.0, 3.0, 2.0, 1.0, -4.859000205993652, -6.290299892425537, -6.3471999168396, -6.407400131225586, -6.698800086975098, -6.779300212860107, -6.873499870300293, -6.873600006103516, -6.879700183868408, -6.977499961853027, -6.885200023651123, -6.887499809265137, -7.093699932098389, -7.093699932098389, -7.093699932098389, -7.093800067901611, -6.652200222015381, -6.652200222015381, -6.652299880981445, -7.100900173187256, -6.901899814605713, -7.225299835205078, -7.225299835205078, -7.225299835205078, -7.225399971008301, -7.225399971008301, -7.225599765777588, -7.225599765777588, -7.22629976272583, -7.238100051879883, -6.755099773406982, -5.186699867248535, -5.851399898529053, -6.694399833679199, -5.813399791717529, -6.634300231933594, -6.634300231933594, -6.634300231933594, -5.95989990234375, -4.2932000160217285, -5.903800010681152, -5.874199867248535, -6.167500019073486, -6.592199802398682, -4.812099933624268, -5.054299831390381, -5.859899997711182, -5.670199871063232, -4.856500148773193, -6.1168999671936035, -5.276199817657471, -3.367000102996826, -5.5696001052856445, -6.257199764251709, -4.258500099182129, -5.004000186920166, -4.67609977722168, -4.427499771118164, -5.597099781036377, -4.902100086212158, -5.348700046539307, -5.487800121307373, -3.621500015258789, -5.76200008392334, -5.619200229644775, -5.411099910736084, -5.548500061035156, -4.275000095367432, -4.836900234222412, -5.076300144195557, -5.053500175476074, -5.555300235748291, -5.424900054931641, -5.2972002029418945, -5.301700115203857, -5.291200160980225, -5.322800159454346, -5.35290002822876, -5.369200229644775, -5.403600215911865, -5.334000110626221, -5.310100078582764, -5.415900230407715, -6.100100040435791, -6.313000202178955, -6.313000202178955, -5.966899871826172, -5.218800067901611, -6.292200088500977, -5.359099864959717, -6.39900016784668, -7.175600051879883, -7.176000118255615, -7.1774001121521, -5.7993998527526855, -6.160299777984619, -5.9695000648498535, -6.51669979095459, -7.393099784851074, -7.3933000564575195, -7.393400192260742, -7.393799781799316, -7.393899917602539, -7.396100044250488, -6.626399993896484, -7.238399982452393, -7.083199977874756, -7.252500057220459, -6.743899822235107, -7.671800136566162, -7.671800136566162, -7.671899795532227, -7.671899795532227, -6.064199924468994, -5.599599838256836, -6.31279993057251, -5.249000072479248, -5.8506999015808105, -3.3901000022888184, -6.314000129699707, -6.018799781799316, -6.240499973297119, -5.620999813079834, -3.336199998855591, -5.601500034332275, -4.297500133514404, -5.974699974060059, -6.211299896240234, -4.695799827575684, -4.55079984664917, -4.550000190734863, -3.945499897003174, -5.122300148010254, -4.546000003814697, -5.24459981918335, -5.111499786376953, -4.353899955749512, -4.66949987411499, -4.1579999923706055, -4.773799896240234, -5.347799777984619, -5.1143999099731445, -4.683800220489502, -4.561800003051758, -4.327199935913086, -4.841400146484375, -5.545400142669678, -5.454100131988525, -5.500500202178955, -5.3927998542785645, -5.35860013961792, -5.430600166320801, -5.796299934387207, -5.928899765014648, -5.928899765014648, -6.002399921417236, -6.004199981689453, -6.081699848175049, -6.167900085449219, -6.168700218200684, -6.262199878692627, -5.53380012512207, -6.482600212097168, -6.482699871063232, -6.614200115203857, -6.614200115203857, -6.614299774169922, -6.614299774169922, -5.862800121307373, -6.7657999992370605, -6.944399833679199, -6.944499969482422, -6.944499969482422, -6.944499969482422, -6.944499969482422, -6.9446001052856445, -6.945000171661377, -5.796500205993652, -6.958099842071533, -6.957900047302246, -4.885900020599365, -7.162199974060059, -6.373000144958496, -6.476200103759766, -6.476200103759766, -5.797900199890137, -6.47629976272583, -6.476399898529053, -6.476399898529053, -6.476500034332275, -6.589900016784668, -4.368599891662598, -5.255099773406982, -5.01800012588501, -4.9720001220703125, -3.5922999382019043, -5.736199855804443, -5.626299858093262, -4.945199966430664, -3.937999963760376, -5.753799915313721, -5.164700031280518, -5.736000061035156, -5.6793999671936035, -5.028299808502197, -5.49970006942749, -4.712900161743164, -4.863399982452393, -4.476600170135498, -4.235099792480469, -5.011499881744385, -4.745999813079834, -4.399899959564209, -4.893199920654297, -5.517000198364258, -5.337399959564209, -5.098100185394287, -5.334400177001953, -5.214099884033203, -5.5005998611450195, -5.536300182342529, -5.607600212097168, -5.559100151062012, -5.581699848175049, -5.5644001960754395, -5.236499786376953, -5.44890022277832, -5.852200031280518, -5.92519998550415, -6.09060001373291, -6.090700149536133, -5.2870001792907715, -6.184800148010254, -6.289000034332275, -6.289700031280518, -5.888199806213379, -5.827499866485596, -6.405600070953369, -6.406199932098389, -6.536799907684326, -6.5370001792907715, -6.537399768829346, -6.540900230407715, -5.451600074768066, -6.688399791717529, -6.688399791717529, -6.688499927520752, -6.688499927520752, -6.688600063323975, -6.688700199127197, -6.336100101470947, -5.93720006942749, -6.696800231933594, -5.951000213623047, -6.573999881744385, -5.556700229644775, -5.910399913787842, -6.105400085449219, -5.058300018310547, -4.248300075531006, -4.49399995803833, -6.004700183868408, -4.952499866485596, -4.200099945068359, -5.701700210571289, -5.8171000480651855, -3.7600998878479004, -5.41480016708374, -5.4191999435424805, -4.511499881744385, -5.395100116729736, -3.5643999576568604, -3.6136999130249023, -4.406599998474121, -4.312900066375732, -4.221099853515625, -4.367800235748291, -4.9791998863220215, -4.746200084686279, -4.6331000328063965, -4.6732001304626465, -4.447999954223633, -5.60699987411499, -5.155399799346924, -5.319799900054932, -5.44890022277832, -5.02869987487793, -4.9741997718811035, -5.355800151824951, -5.323699951171875, -5.4253997802734375, -5.530099868774414, -6.333700180053711, -6.333600044250488, -6.333600044250488, -5.219600200653076, -6.617199897766113, -5.376800060272217, -6.795300006866455, -6.796000003814697, -5.882900238037109, -7.013199806213379, -7.013299942016602, -7.013500213623047, -7.014999866485596, -7.022900104522705, -7.291800022125244, -7.291800022125244, -7.291800022125244, -7.291800022125244, -7.291800022125244, -7.292200088500977, -7.291900157928467, -7.291999816894531, -7.292500019073486, -7.292500019073486, -6.220200061798096, -6.616600036621094, -6.617000102996826, -7.129000186920166, -6.24399995803833, -6.796500205993652, -5.287499904632568, -5.779699802398682, -5.76669979095459, -6.360899925231934, -6.146999835968018, -6.769000053405762, -6.07480001449585, -6.6184000968933105, -6.36269998550415, -5.999499797821045, -4.885499954223633, -3.9677999019622803, -4.38070011138916, -5.5605998039245605, -5.7129998207092285, -5.417699813842773, -4.524600028991699, -5.889400005340576, -4.443699836730957, -4.223599910736084, -5.478600025177002, -5.491199970245361, -5.0493998527526855, -5.691100120544434, -5.211900234222412, -5.393400192260742, -5.3495001792907715, -5.366399765014648, -4.649899959564209, -4.5142998695373535, -5.127200126647949, -4.410200119018555, -5.066500186920166, -4.879000186920166, -5.234600067138672, -4.665999889373779, -5.244800090789795, -5.448299884796143, -5.302299976348877, -5.440000057220459, -5.401500225067139, -5.390200138092041, -5.398799896240234, -4.918900012969971, -5.42710018157959, -5.377699851989746, -6.013899803161621, -6.230500221252441, -5.303400039672852, -6.361999988555908, -6.362199783325195, -6.363900184631348, -6.247900009155273, -6.25570011138916, -6.513599872589111, -6.513599872589111, -6.513700008392334, -6.515100002288818, -6.692299842834473, -6.692399978637695, -6.693399906158447, -6.697999954223633, -6.698200225830078, -6.009699821472168, -6.418499946594238, -6.909999847412109, -6.909999847412109, -6.910099983215332, -6.910099983215332, -6.910200119018555, -6.9145002365112305, -6.917600154876709, -6.921000003814697, -6.129899978637695, -6.231400012969971, -6.363900184631348, -5.593599796295166, -4.599899768829346, -5.59689998626709, -6.3632001876831055, -4.366000175476074, -5.235000133514404, -5.3221001625061035, -6.013299942016602, -5.484600067138672, -6.232900142669678, -5.0157999992370605, -4.023200035095215, -4.813199996948242, -4.347300052642822, -4.848199844360352, -5.2677001953125, -5.768099784851074, -4.039599895477295, -4.091599941253662, -5.373600006103516, -4.186500072479248, -5.115200042724609, -4.613399982452393, -5.010499954223633, -5.6529998779296875, -5.083199977874756, -5.277699947357178, -5.40749979019165, -5.1433000564575195, -4.243899822235107, -5.3506999015808105, -5.1031999588012695, -5.101600170135498, -5.057199954986572, -5.33650016784668, -5.321400165557861, -6.0019001960754395, -6.022200107574463, -6.354100227355957, -6.505499839782715, -6.505499839782715, -6.505499839782715, -6.505499839782715, -5.822700023651123, -6.6844000816345215, -6.684299945831299, -6.901899814605713, -6.901899814605713, -6.901899814605713, -6.9019999504089355, -6.9019999504089355, -5.483099937438965, -5.90749979019165, -7.180699825286865, -7.180699825286865, -7.180699825286865, -7.180799961090088, -7.18120002746582, -7.182000160217285, -6.222799777984619, -7.235199928283691, -6.688600063323975, -5.457399845123291, -6.354000091552734, -7.568399906158447, -7.56850004196167, -6.002399921417236, -6.48360013961792, -5.198999881744385, -5.358399868011475, -5.002099990844727, -5.531300067901611, -5.929599761962891, -6.105999946594238, -5.668399810791016, -5.946499824523926, -5.344200134277344, -5.837399959564209, -4.463200092315674, -6.247600078582764, -5.952099800109863, -4.893099784851074, -5.67140007019043, -4.884399890899658, -5.103300094604492, -4.160900115966797, -5.377600193023682, -5.457300186157227, -5.753200054168701, -5.357900142669678, -5.022799968719482, -4.261499881744385, -5.0792999267578125, -5.053800106048584, -4.680300235748291, -5.2204999923706055, -5.518400192260742, -4.7820000648498535, -5.002999782562256, -5.056700229644775, -5.199699878692627, -5.064499855041504, -5.102799892425537, -5.479100227355957, -5.268599987030029, -5.218699932098389, -5.464099884033203, -6.037199974060059, -6.1682000160217285, -6.498499870300293, -6.500100135803223, -6.7164998054504395, -6.7164998054504395, -6.7164998054504395, -6.7170000076293945, -6.994999885559082, -6.994999885559082, -6.994999885559082, -6.9969000816345215, -6.9969000816345215, -6.999000072479248, -6.319799900054932, -7.013500213623047, -6.036600112915039, -6.498600006103516, -6.498600006103516, -6.499300003051758, -7.382800102233887, -7.382800102233887, -7.382800102233887, -7.382900238037109, -7.382900238037109, -7.382999897003174, -7.382900238037109, -7.382900238037109, -7.382999897003174, -7.382999897003174, -6.716300010681152, -6.719600200653076, -4.35860013961792, -5.773099899291992, -6.037799835205078, -6.3225998878479, -6.498600006103516, -4.702400207519531, -5.725200176239014, -5.578000068664551, -5.5482001304626465, -4.285999774932861, -4.926400184631348, -4.732100009918213, -4.841000080108643, -5.822700023651123, -4.917799949645996, -5.117700099945068, -5.264200210571289, -5.251699924468994, -4.062300205230713, -5.540200233459473, -4.775000095367432, -5.650700092315674, -5.84499979019165, -5.926499843597412, -5.926599979400635, -5.832200050354004, -3.990299940109253, -4.598499774932861, -4.505199909210205, -4.843299865722656, -4.357900142669678, -4.714000225067139, -5.089600086212158, -4.975500106811523, -4.9882001876831055, -5.141600131988525, -4.856299877166748, -5.353499889373779, -5.121799945831299, -5.406099796295166, -5.263999938964844, -5.4664998054504395, -5.508200168609619, -5.609600067138672, -5.244999885559082, -6.008500099182129, -6.008500099182129, -5.324399948120117, -6.187099933624268, -6.187099933624268, -6.187099933624268, -6.404900074005127, -6.40500020980835, -6.097599983215332, -6.683599948883057, -6.683599948883057, -6.683599948883057, -6.683599948883057, -6.683700084686279, -6.683800220489502, -6.683700084686279, -6.683899879455566, -6.687600135803223, -6.705100059509277, -5.410600185394287, -6.203700065612793, -7.071400165557861, -7.071499824523926, -7.071400165557861, -7.071400165557861, -7.071400165557861, -7.071400165557861, -7.071400165557861, -7.071400165557861, -5.106500148773193, -5.264100074768066, -6.012800216674805, -5.856900215148926, -5.245699882507324, -5.6092000007629395, -5.611299991607666, -5.725299835205078, -4.504499912261963, -4.503799915313721, -5.155700206756592, -5.729100227355957, -4.970099925994873, -5.739500045776367, -5.261600017547607, -5.85830020904541, -5.445000171661377, -3.892400026321411, -5.317200183868408, -5.604400157928467, -5.037399768829346, -4.556099891662598, -5.190499782562256, -4.856800079345703, -4.96589994430542, -5.077600002288818, -5.321899890899658, -5.461299896240234, -5.610400199890137, -5.597700119018555, -5.647500038146973, -5.651800155639648], \"loglift\": [30.0, 29.0, 28.0, 27.0, 26.0, 25.0, 24.0, 23.0, 22.0, 21.0, 20.0, 19.0, 18.0, 17.0, 16.0, 15.0, 14.0, 13.0, 12.0, 11.0, 10.0, 9.0, 8.0, 7.0, 6.0, 5.0, 4.0, 3.0, 2.0, 1.0, 1.4327, 1.4271, 1.4246, 1.4218, 1.4006, 1.4003, 1.3938, 1.3936, 1.3883, 1.3858, 1.3826, 1.3807, 1.3757, 1.3757, 1.3757, 1.3757, 1.3733, 1.3732, 1.3732, 1.369, 1.3689, 1.363, 1.363, 1.363, 1.363, 1.363, 1.363, 1.3628, 1.3622, 1.3514, 1.3482, 1.2877, 1.2964, 1.3355, 1.2816, 1.3262, 1.3261, 1.3261, 1.2765, 1.033, 1.2193, 1.2146, 1.2529, 1.3098, 1.0325, 1.0678, 1.1985, 1.1647, 1.0093, 1.2278, 1.0611, 0.6662, 1.0993, 1.2449, 0.783, 0.9479, 0.8521, 0.7656, 1.0574, 0.8211, 0.9588, 0.9964, 0.3562, 1.0866, 1.0239, 0.9202, 0.9734, 0.2706, 0.5737, 0.6893, 0.6001, 0.9414, 0.825, 0.6567, 0.597, 0.5804, 0.3887, 0.4211, 0.3867, 0.4573, 0.1695, -0.2513, -0.5713, 1.815, 1.8097, 1.8097, 1.7838, 1.7652, 1.7652, 1.7472, 1.7326, 1.7255, 1.7252, 1.7237, 1.7169, 1.6981, 1.6963, 1.693, 1.6921, 1.6921, 1.6919, 1.6915, 1.6915, 1.6893, 1.6836, 1.6615, 1.6605, 1.6513, 1.6472, 1.6395, 1.6395, 1.6394, 1.6394, 1.6356, 1.6306, 1.6135, 1.5819, 1.5884, 1.4495, 1.5953, 1.5615, 1.5781, 1.5038, 1.239, 1.4858, 1.2916, 1.5106, 1.5475, 1.2512, 1.1908, 1.1407, 0.973, 1.1129, 0.7256, 1.0295, 0.9394, 0.2034, 0.3893, -0.1249, 0.3796, 0.9106, 0.6373, 0.1608, -0.0162, -0.3495, 0.2412, 0.9875, 0.7343, 0.6299, 0.1644, -0.1187, -0.1044, 2.0946, 2.0873, 2.0873, 2.0829, 2.0811, 2.0778, 2.0717, 2.071, 2.0646, 2.0526, 2.0452, 2.0451, 2.0317, 2.0317, 2.0316, 2.0316, 2.0275, 2.014, 1.9899, 1.9899, 1.9899, 1.9899, 1.9898, 1.9898, 1.9893, 1.9846, 1.9764, 1.9761, 1.9651, 1.9551, 1.9475, 1.9465, 1.9465, 1.8811, 1.9463, 1.9462, 1.9462, 1.9461, 1.9383, 1.6007, 1.7065, 1.621, 1.4531, 0.965, 1.6935, 1.5363, 1.1892, 0.6372, 1.5413, 1.1832, 1.4991, 1.4448, 0.9187, 1.2345, 0.5587, 0.64, 0.0691, -0.2575, 0.5777, 0.1725, -0.3668, 0.1895, 1.1842, 0.7135, -0.2535, 0.3888, -0.3745, 0.4533, 0.3887, 0.6999, 0.1968, 0.2881, -0.4111, 2.1942, 2.1867, 2.1668, 2.1628, 2.1517, 2.1516, 2.1469, 2.1447, 2.136, 2.1353, 2.1306, 2.1267, 2.1248, 2.1245, 2.1116, 2.1114, 2.1111, 2.108, 2.0989, 2.0939, 2.0939, 2.0938, 2.0938, 2.0937, 2.0936, 2.0888, 2.0877, 2.0853, 2.0764, 2.0752, 2.072, 2.052, 2.0588, 1.9809, 1.9018, 1.8718, 2.005, 1.8304, 1.6697, 1.9463, 1.9634, 1.3225, 1.777, 1.6549, 1.1793, 1.601, 0.4687, 0.3639, 0.865, 0.746, 0.3362, 0.4768, 1.0753, 0.8124, 0.6068, 0.4801, 0.0976, 1.6806, 0.9034, 1.0792, 1.3441, 0.3819, -0.0556, 0.833, 0.2336, 2.2783, 2.2736, 2.217, 2.217, 2.217, 2.1955, 2.1846, 2.166, 2.1603, 2.1602, 2.1515, 2.1246, 2.1245, 2.1243, 2.1227, 2.1147, 2.0687, 2.0687, 2.0687, 2.0687, 2.0687, 2.0687, 2.0686, 2.0686, 2.0685, 2.0685, 2.0459, 2.0434, 2.0397, 2.0189, 2.0067, 1.9958, 1.5915, 1.7124, 1.6876, 1.8299, 1.7504, 1.8934, 1.6491, 1.8349, 1.7396, 1.6002, 1.0395, 0.5895, 0.7727, 1.3436, 1.4175, 1.2429, 0.7152, 1.4666, 0.6151, 0.3516, 1.2166, 1.191, 0.8115, 1.3114, 0.9185, 1.0549, 1.0098, 1.0047, 0.1947, 0.0313, 0.6126, -0.4325, 0.4617, 0.0395, 0.507, -0.6329, 0.4667, 0.74, -0.0307, 0.6821, 0.252, 0.0203, -0.3162, 2.3845, 2.3659, 2.3637, 2.326, 2.31, 2.2993, 2.2963, 2.2962, 2.2944, 2.2916, 2.2829, 2.2784, 2.2783, 2.2783, 2.2769, 2.2539, 2.2538, 2.2528, 2.2483, 2.2477, 2.243, 2.24, 2.2186, 2.2186, 2.2186, 2.2186, 2.2185, 2.214, 2.2109, 2.2071, 2.2013, 2.1956, 2.1902, 2.1486, 2.066, 2.1292, 2.1786, 2.0049, 2.0061, 1.9842, 2.0949, 1.949, 2.1289, 1.7805, 1.4802, 1.7129, 1.5131, 1.6578, 1.7563, 1.9681, 1.1535, 1.1483, 1.7306, 0.855, 1.4366, 0.9452, 1.2309, 1.7717, 1.2157, 1.3728, 1.4689, 1.1081, -0.2662, 1.3152, 0.7626, 0.4266, -0.2126, 0.7015, 0.3901, 2.3379, 2.3175, 2.3044, 2.2866, 2.2866, 2.2865, 2.2865, 2.2846, 2.2622, 2.2621, 2.2269, 2.2269, 2.2269, 2.2268, 2.2268, 2.2054, 2.1852, 2.1715, 2.1714, 2.1714, 2.1714, 2.171, 2.1701, 2.1394, 2.1176, 2.1036, 2.1031, 2.0835, 2.0717, 2.0717, 2.0525, 2.0595, 2.0314, 2.0347, 1.9444, 1.9107, 1.9754, 1.9877, 1.8733, 1.8458, 1.6125, 1.7622, 1.0941, 1.9288, 1.787, 1.1449, 1.593, 1.0143, 1.1466, 0.3847, 1.3337, 1.3962, 1.5645, 1.175, 0.717, -0.2838, 0.6947, 0.6577, 0.1643, 0.7046, 1.1673, -0.2247, 0.0385, 0.1364, 0.3589, -0.0056, -0.2632, 0.9721, -0.186, -1.1856, -0.2243, 2.563, 2.5488, 2.5035, 2.5019, 2.4659, 2.4659, 2.4659, 2.4657, 2.4072, 2.4072, 2.4071, 2.4053, 2.4052, 2.403, 2.3906, 2.3869, 2.3496, 2.3429, 2.3392, 2.3388, 2.3017, 2.3017, 2.3017, 2.3017, 2.3017, 2.3016, 2.3016, 2.3016, 2.3016, 2.3016, 2.2958, 2.2714, 2.0277, 2.1539, 2.1766, 2.1908, 2.2044, 1.9606, 2.0456, 1.9679, 1.9518, 1.488, 1.6829, 1.4568, 1.4895, 1.8936, 1.4504, 1.5429, 1.5851, 1.5605, 0.8562, 1.5916, 0.9665, 1.6369, 1.7719, 1.8365, 1.8365, 1.7478, -0.0127, 0.2461, 0.07, 0.4284, -0.3248, 0.1256, 0.6663, 0.4351, 0.1651, 0.4157, -0.2991, 0.6935, -0.0392, 0.6447, -0.0241, 0.4585, 0.5463, 2.9406, 2.8952, 2.893, 2.8929, 2.8836, 2.8654, 2.8653, 2.8653, 2.8256, 2.8254, 2.7902, 2.7635, 2.7635, 2.7635, 2.7635, 2.7635, 2.7635, 2.7635, 2.7633, 2.7596, 2.7414, 2.7081, 2.6633, 2.6527, 2.6527, 2.6527, 2.6527, 2.6527, 2.6527, 2.6527, 2.6527, 2.4885, 2.4495, 2.5021, 2.4525, 2.2951, 2.3003, 2.2959, 2.3021, 1.7469, 1.5912, 1.8495, 2.1617, 1.491, 1.9908, 1.5399, 2.0369, 1.5811, 0.0853, 1.3487, 1.7018, 0.5199, -0.5229, 0.575, -0.3112, -0.1213, -0.0361, 0.2063, 0.7233, 1.0554, 0.2739, 0.064, 0.088]}, \"token.table\": {\"Topic\": [5, 6, 1, 5, 1, 2, 3, 4, 5, 6, 7, 8, 9, 1, 1, 2, 3, 4, 5, 7, 8, 5, 4, 1, 3, 8, 9, 2, 8, 2, 3, 5, 7, 8, 9, 1, 2, 4, 7, 8, 8, 9, 2, 8, 9, 2, 3, 8, 6, 6, 8, 1, 2, 3, 5, 6, 7, 9, 1, 5, 6, 1, 2, 3, 4, 5, 6, 7, 8, 9, 7, 1, 2, 3, 5, 6, 7, 8, 9, 2, 3, 4, 5, 7, 8, 6, 1, 2, 3, 4, 5, 7, 1, 2, 3, 4, 5, 6, 8, 9, 1, 5, 8, 9, 5, 1, 2, 6, 7, 9, 1, 2, 3, 4, 5, 6, 7, 8, 9, 3, 8, 2, 4, 3, 3, 4, 1, 4, 1, 2, 4, 5, 2, 3, 8, 9, 1, 4, 6, 7, 1, 4, 5, 7, 7, 3, 3, 1, 5, 7, 9, 4, 6, 9, 2, 3, 5, 7, 5, 7, 4, 2, 5, 5, 1, 2, 3, 4, 5, 7, 6, 2, 2, 3, 6, 7, 8, 3, 3, 3, 1, 2, 3, 5, 6, 7, 8, 6, 8, 8, 1, 4, 7, 9, 6, 2, 4, 1, 7, 8, 3, 5, 6, 7, 1, 2, 3, 5, 8, 9, 1, 2, 3, 4, 5, 6, 7, 8, 9, 2, 1, 2, 4, 6, 7, 8, 1, 2, 3, 4, 5, 6, 7, 8, 2, 3, 4, 5, 7, 8, 9, 2, 7, 8, 8, 1, 5, 4, 1, 2, 3, 5, 7, 9, 8, 2, 4, 6, 7, 2, 1, 1, 2, 4, 5, 6, 7, 9, 1, 4, 5, 6, 8, 9, 1, 1, 2, 3, 5, 6, 8, 9, 1, 9, 5, 2, 1, 2, 3, 4, 5, 7, 8, 2, 4, 5, 6, 7, 8, 9, 7, 5, 6, 9, 1, 1, 2, 3, 4, 5, 6, 7, 8, 9, 1, 2, 3, 4, 5, 7, 8, 9, 7, 9, 1, 5, 6, 7, 2, 9, 4, 8, 6, 9, 2, 7, 1, 1, 6, 2, 1, 2, 3, 4, 5, 6, 7, 8, 9, 1, 2, 3, 4, 5, 6, 8, 9, 4, 4, 1, 6, 7, 9, 2, 3, 4, 5, 7, 9, 4, 2, 1, 6, 7, 9, 5, 6, 5, 2, 1, 5, 6, 7, 3, 5, 2, 3, 5, 8, 2, 5, 2, 5, 3, 4, 5, 6, 7, 3, 4, 4, 1, 3, 5, 7, 9, 5, 1, 2, 3, 4, 5, 6, 7, 8, 9, 8, 7, 1, 5, 2, 5, 5, 1, 2, 9, 2, 5, 7, 9, 9, 5, 1, 2, 3, 4, 5, 7, 8, 9, 1, 5, 8, 9, 5, 8, 1, 5, 1, 2, 3, 4, 5, 6, 7, 8, 9, 1, 2, 4, 5, 8, 4, 8, 7, 6, 6, 6, 1, 2, 3, 4, 5, 6, 7, 8, 9, 1, 1, 2, 3, 5, 6, 7, 9, 1, 2, 3, 4, 5, 7, 8, 9, 2, 4, 8, 1, 5, 7, 6, 7, 8, 1, 2, 3, 4, 5, 7, 8, 3, 7, 9, 9, 2, 2, 3, 5, 7, 8, 2, 1, 2, 3, 5, 6, 7, 8, 9, 9, 5, 3, 3, 2, 9, 3, 4, 3, 3, 2, 3, 5, 7, 8, 7, 4, 1, 3, 4, 9, 1, 4, 5, 7, 9, 5, 7, 8, 2, 3, 5, 7, 8, 9, 2, 2, 3, 4, 8, 9, 8, 1, 3, 2, 7, 2, 7, 4, 6, 9, 1, 2, 3, 4, 5, 7, 8, 4, 4, 1, 2, 9, 6, 3, 6, 1, 1, 2, 3, 5, 6, 7, 8, 1, 7, 6, 7, 2, 4, 8, 2, 4, 5, 7, 8, 8, 1, 2, 5, 6, 1, 2, 3, 4, 5, 6, 7, 8, 9, 1, 1, 2, 3, 4, 5, 8, 1, 4, 8, 1, 5, 6, 7, 1, 2, 3, 5, 7, 8, 9, 8, 1, 2, 3, 4, 5, 6, 7, 8, 1, 2, 3, 4, 5, 6, 7, 8, 9, 7, 9, 9, 1, 2, 3, 5, 9, 2, 1, 2, 3, 5, 6, 7, 9, 3, 4, 1, 2, 3, 4, 5, 7, 8, 9, 2, 5, 3, 5, 4, 8, 3, 4, 5, 7, 8, 2, 3, 9, 2, 9, 1, 2, 4, 5, 6, 1, 2, 6, 7, 8, 9, 1, 2, 4, 5, 6, 9, 1, 2, 3, 4, 5, 7, 8, 9, 9, 4, 5, 8, 4, 1, 2, 3, 6, 8, 6, 8, 1, 2, 3, 4, 5, 6, 8, 9, 1, 2, 3, 4, 5, 6, 7, 8, 9, 3, 6, 1, 3, 4, 6, 7, 9, 2, 3, 4, 5, 6, 7, 7, 1, 3, 4, 5, 6, 7, 9, 1, 2, 3, 4, 5, 6, 7, 6, 5, 1, 3, 8, 1, 3, 4, 5, 6, 7, 8, 2, 4, 8, 1, 2, 3, 4, 6, 7, 8, 9, 7, 1, 2, 3, 5, 7, 2, 3, 5, 8, 1, 2, 3, 5, 7, 9, 1, 2, 3, 4, 5, 6, 7, 9, 9, 1, 3, 5, 6, 9, 6, 5, 6, 8, 9, 3, 4, 7, 8, 1, 1, 3, 4, 5, 7, 8, 9, 1, 2, 3, 5, 9, 9, 3, 4, 1, 8, 9, 4, 3, 7, 1, 4, 1, 2, 3, 4, 5, 6, 7, 8, 9, 2, 1, 2, 3, 6, 7, 8, 9, 6, 9, 4, 8, 1, 4, 6, 7, 8, 9, 1, 2, 3, 4, 5, 6, 7, 8, 9, 3, 4, 1, 2, 3, 4, 6, 7, 8, 9, 1, 6, 1, 6, 7, 1, 2, 3, 4, 5, 6, 7, 8, 9, 1, 2, 3, 5, 6, 7, 8, 9, 5, 8, 6, 7, 9, 9, 5, 6, 1, 2, 8, 6, 9, 1, 2, 5, 6, 9, 9, 1, 9, 2, 1, 6, 2, 6, 7, 9, 3, 3, 1, 4, 5, 7, 1, 2, 3, 4, 5, 6, 7, 8, 9, 1, 3, 5, 8, 1, 2, 3, 4, 5, 6, 7, 8, 9, 1, 7, 9, 4, 2, 3, 4, 5, 8, 6, 7, 9, 3, 2, 4, 8, 8, 1, 2, 4, 6, 7, 8, 9, 7, 8, 9, 6, 5, 7, 2, 5, 6, 7, 9, 8, 1, 8, 2, 3, 7, 2, 9, 4, 4, 4, 1, 2, 3, 4, 5, 6, 7, 8, 9, 1, 2, 3, 4, 5, 6, 7, 9, 1, 2, 3, 4, 5, 6, 7, 8, 9, 1, 2, 3, 4, 5, 7, 8, 9, 4, 5, 8, 1, 2, 3, 4, 5, 6, 7, 8, 9, 1, 2, 3, 4, 5, 7, 8, 9, 1, 4, 3, 7, 8, 7, 1, 6, 7, 9, 1, 2, 1, 3, 1, 7, 1, 2, 3, 4, 5, 7, 1, 2, 3, 4, 5, 6, 7, 8, 9, 2, 4, 8, 8, 5, 1, 6, 2, 5, 7, 3, 6, 8, 1, 2, 3, 5, 7, 8, 9, 2, 3, 5, 7, 8, 9, 7, 2, 1, 5, 6, 7, 9, 1, 2, 3, 6, 7, 8, 8, 9, 1, 3, 1, 2, 3, 5, 6, 7, 8, 9, 1, 2, 5, 6, 8, 1, 2, 3, 1, 2, 4, 6, 8, 2, 4, 7, 8, 1, 2, 5, 6, 7, 8, 9, 5, 1, 2, 3, 5, 6, 7, 8, 9, 5, 3, 2, 5, 8, 1, 2, 3, 4, 5, 6, 7, 8, 9, 1, 5, 6, 7, 8, 2, 8, 1, 2, 3, 5, 6, 7, 8, 7, 1, 5, 6, 7, 3, 4, 5, 8, 1, 2, 3, 5, 6, 7, 8, 9, 1, 8, 3, 1, 3, 1, 2, 3, 6, 7, 8, 9, 4, 8, 3, 3, 4, 1, 3, 5, 7, 9, 1, 1, 3, 4, 5, 6, 7, 9, 2, 5, 7, 8, 1, 6, 6, 7, 9, 1, 2, 5, 6, 7, 9, 9, 4, 1, 3, 6, 7, 1, 2, 4, 6, 7, 9, 3, 5, 4, 5, 1, 2, 4, 5, 6, 9, 7, 6, 1, 2, 3, 4, 5, 7, 8, 1, 2, 4, 5, 6, 7, 2, 3, 4, 4, 9, 5, 8, 3, 3, 1, 6, 7, 1, 2, 4, 5, 6, 9, 1, 2, 3, 4, 5, 6, 7, 8, 3, 4, 9, 6, 7, 8, 6, 6, 1, 2, 3, 4, 5, 7, 1, 2, 4, 5, 7, 8, 1, 2, 3, 5, 6, 7, 9, 1, 3, 5, 7, 8, 9, 1, 3, 6, 7, 9, 6, 5, 6, 7, 1, 1, 2, 3, 4, 5, 7, 9, 1, 2, 5, 6, 7, 8, 9, 1, 2, 3, 4, 5, 6, 8, 9, 1, 2, 3, 4, 4, 3, 4, 3, 4, 1, 2, 3, 4, 5, 6, 7, 8, 9, 1, 2, 3, 4, 8, 6, 7, 9, 3, 8, 1, 2, 3, 4, 9, 3, 6, 7, 8, 9, 5, 4, 2, 5, 1, 5, 8, 9, 5, 7, 6, 8, 2, 3, 4, 8, 1, 2, 3, 4, 5, 6, 7, 8, 9, 6, 9, 1, 1, 2, 3, 4, 5, 6, 7, 8, 9, 1, 2, 3, 4, 5, 6, 7, 8, 9, 4, 5, 6, 9, 5, 9, 5, 1, 2, 3, 4, 5, 6, 7, 8, 9, 1, 4, 7, 8, 1, 5, 6, 7, 1, 5, 6, 7, 2, 4, 1, 2, 3, 4, 5, 6, 7, 8, 9, 9, 7, 1, 2, 5, 8, 9, 2, 3, 4, 5, 6, 7, 8, 9, 1, 3, 4, 5, 7, 8, 9, 1, 3, 2, 4, 5, 8, 4, 4, 5, 1, 3, 6, 9, 1, 2, 3, 4, 5, 8], \"Freq\": [0.7681181976782389, 0.9125760288001777, 0.14233876230360978, 0.7116938115180489, 0.04170672465962324, 0.09731569087245422, 0.15292465708528521, 0.19463138174490843, 0.09731569087245422, 0.11121793242566197, 0.013902241553207746, 0.30584931417057043, 0.013902241553207746, 0.8685554706281526, 0.13502264346227852, 0.022503773910379755, 0.06751132173113926, 0.3375566086556963, 0.06751132173113926, 0.04500754782075951, 0.3375566086556963, 0.9211347482769263, 0.9235180497086607, 0.09146002312052517, 0.18292004624105035, 0.6402201618436762, 0.09146002312052517, 0.8419187089834819, 0.08419187089834819, 0.5563988392179311, 0.20533766685423646, 0.07286175275472907, 0.07286175275472907, 0.05961416134477833, 0.02649518281990148, 0.18653925317826614, 0.22384710381391937, 0.03730785063565323, 0.4103863569921855, 0.11192355190695968, 0.8998969550098763, 0.8457674027962813, 0.8818638672611134, 0.05344629498552202, 0.02672314749276101, 0.6767675214715113, 0.1538108003344344, 0.12304864026754751, 0.8554187373242015, 0.1988295883824682, 0.5964887651474047, 0.605987777221205, 0.06733197524680055, 0.11783095668190097, 0.06733197524680055, 0.01683299381170014, 0.03366598762340028, 0.0841649690585007, 0.9628036066686979, 0.026744544629686052, 0.013372272314843026, 0.023710902484553695, 0.40647261402092044, 0.1388781431238145, 0.10161815350523011, 0.10161815350523011, 0.030485446051569033, 0.030485446051569033, 0.16258904560836818, 0.0033872717835076705, 0.8565429313972422, 0.03707150953856883, 0.18535754769284418, 0.17608967030820197, 0.2780363215392663, 0.009267877384642208, 0.17608967030820197, 0.1112145286157065, 0.027803632153926627, 0.3888791471171077, 0.24173568604576964, 0.03153074165814387, 0.14714346107133805, 0.06306148331628773, 0.12612296663257547, 0.7605873720549177, 0.13157411850266587, 0.03289352962566647, 0.06578705925133294, 0.6249770628876629, 0.06578705925133294, 0.03289352962566647, 0.5909189980662483, 0.18055858274246475, 0.01641441661295134, 0.03282883322590268, 0.06565766645180536, 0.06565766645180536, 0.01641441661295134, 0.03282883322590268, 0.7715346670113752, 0.029674410269668276, 0.029674410269668276, 0.14837205134834136, 0.8631911919378534, 0.16755888017789483, 0.08377944008894742, 0.6283458006671055, 0.04188972004447371, 0.08377944008894742, 0.5017937156594211, 0.022982918274477303, 0.015321945516318202, 0.05362680930711371, 0.030643891032636403, 0.21067675084937526, 0.09193167309790921, 0.022982918274477303, 0.04596583654895461, 0.170604858176151, 0.682419432704604, 0.9086696877331217, 0.8474320500787144, 0.7516146667015169, 0.7884183932482328, 0.11263119903546183, 0.1490448143721859, 0.8197464790470225, 0.08007618009645398, 0.20019045024113497, 0.38036185545815643, 0.3403237654099294, 0.7276800891535055, 0.048512005943567034, 0.14553601783070108, 0.048512005943567034, 0.23402578791578507, 0.07800859597192836, 0.23402578791578507, 0.44204871050759403, 0.4679087557795156, 0.1424070126285482, 0.02034385894693546, 0.3458456020979028, 0.8148552078708219, 0.9394283892184417, 0.9380559563304194, 0.046631404816617754, 0.2797884288997065, 0.13989421444985325, 0.46631404816617755, 0.6774975599486744, 0.26225711998013207, 0.04370951999668868, 0.9087533587203704, 0.13423078767553703, 0.20134618151330555, 0.6711539383776851, 0.25408815239872334, 0.6352203809968083, 0.8068955228245295, 0.16300277225291682, 0.6520110890116673, 0.9210356750662358, 0.029630392895516087, 0.6814990365968701, 0.029630392895516087, 0.08889117868654826, 0.029630392895516087, 0.11852157158206435, 0.8147573277065865, 0.8740424434107484, 0.018925630272912337, 0.5866945384602825, 0.07570252109164935, 0.20818193300203572, 0.07570252109164935, 0.9522926232118735, 0.9210531698036848, 0.9645633542446623, 0.6461501568294961, 0.03800883275467624, 0.1140264982640287, 0.05701324913201435, 0.03800883275467624, 0.09502208188669059, 0.01900441637733812, 0.9127428131178779, 0.7956750264618865, 0.7223303438388149, 0.8498787834297616, 0.06295398395776013, 0.06295398395776013, 0.03147699197888006, 0.9127509029839137, 0.832805579119836, 0.12812393524920554, 0.2744694533889313, 0.13723472669446565, 0.6175562701250955, 0.0844943508697604, 0.0422471754348802, 0.2534830526092812, 0.5914604560883229, 0.015427953970224688, 0.5014085040323024, 0.11570965477668517, 0.16199351668735923, 0.17742147065758393, 0.015427953970224688, 0.025275938688416818, 0.46760486573571114, 0.050551877376833636, 0.15165563213050093, 0.15165563213050093, 0.08846578540945886, 0.025275938688416818, 0.025275938688416818, 0.012637969344208409, 0.7260604104712973, 0.07035892411885027, 0.16417082294398394, 0.25798272176911763, 0.11726487353141711, 0.3517946205942513, 0.046905949412566844, 0.023354604716345307, 0.13545670735480278, 0.023354604716345307, 0.19617867961730057, 0.20084960056056964, 0.2802552565961437, 0.07006381414903592, 0.06539289320576686, 0.5304668130180566, 0.2936512714921385, 0.04736310830518363, 0.028417864983110178, 0.028417864983110178, 0.056835729966220355, 0.009472621661036726, 0.7387914873216537, 0.06156595727680447, 0.18469787183041342, 0.7957218084129469, 0.930542572812384, 0.8631930358234566, 0.8068974289821914, 0.17057565853939458, 0.056858552846464856, 0.056858552846464856, 0.056858552846464856, 0.5117269756181837, 0.11371710569292971, 0.8998971797459849, 0.05669251695695623, 0.11338503391391246, 0.6236176865265185, 0.11338503391391246, 0.7289169814656785, 0.9305426591450074, 0.3870946411722148, 0.07444127714850285, 0.31265336402371197, 0.07444127714850285, 0.02977651085940114, 0.07444127714850285, 0.01488825542970057, 0.7366271831453272, 0.11509799736645737, 0.023019599473291474, 0.04603919894658295, 0.06905879841987442, 0.023019599473291474, 0.9642688767622374, 0.2605893844753976, 0.23163500842257564, 0.08686312815846586, 0.27506657250180855, 0.08686312815846586, 0.014477188026410978, 0.05790875210564391, 0.964940438526465, 0.6275967795065462, 0.8631898647287394, 0.8217094604615346, 0.059283273043512406, 0.07904436405801654, 0.07904436405801654, 0.17784981913053724, 0.31617745623206617, 0.07904436405801654, 0.19761091014504137, 0.2127307632837295, 0.05801748089556259, 0.3481048853733755, 0.019339160298520865, 0.03867832059704173, 0.3287657250748547, 0.019339160298520865, 0.8559860656664766, 0.6252449814651252, 0.2679621349136251, 0.08932071163787503, 0.9442371342312267, 0.031647673347820725, 0.07384457114491502, 0.11604146894200931, 0.31647673347820726, 0.0843937955941886, 0.09494302004346217, 0.14768914228983004, 0.11604146894200931, 0.010549224449273574, 0.6413060788549013, 0.10260897261678421, 0.025652243154196053, 0.05130448630839211, 0.0855074771806535, 0.034202990872261405, 0.017101495436130702, 0.04275373859032675, 0.742200766906473, 0.212057361973278, 0.24911431011537996, 0.08303810337179332, 0.5397476719166565, 0.12455715505768998, 0.8454618519727412, 0.10568273149659264, 0.921852801338666, 0.04190240006084846, 0.45513345668173016, 0.45513345668173016, 0.7639465822217145, 0.1091352260316735, 0.9307405927926301, 0.9305836376504226, 0.8147688172705668, 0.8740005152605137, 0.45828012405512963, 0.047408288695358236, 0.023704144347679118, 0.12642210318762195, 0.11061934028916923, 0.07901381449226373, 0.015802762898452744, 0.05530967014458461, 0.08691519594149011, 0.12511336745428323, 0.12511336745428323, 0.10947419652249782, 0.21894839304499564, 0.28150507677213726, 0.07819585465892702, 0.031278341863570806, 0.031278341863570806, 0.8476647625173372, 0.806892395747712, 0.055427397053736276, 0.11085479410747255, 0.2217095882149451, 0.5542739705373627, 0.7861994774713392, 0.03418258597701475, 0.03418258597701475, 0.10254775793104424, 0.9128573953992002, 0.7578989781064287, 0.8470436448474912, 0.8741225111841194, 0.785518820833179, 0.04134309583332521, 0.08268619166665042, 0.04134309583332521, 0.04961349079852499, 0.8930428343734498, 0.9210972476928053, 0.9492108470729731, 0.08106106735833273, 0.16212213471666545, 0.08106106735833273, 0.6484885388666618, 0.08224500056824599, 0.8635725059665829, 0.251592641117473, 0.2012741128939784, 0.1509555846704838, 0.4025482257879568, 0.44802646833820764, 0.5040297768804836, 0.07639290301626994, 0.8403219331789694, 0.08175988128050087, 0.16351976256100173, 0.5723191689635061, 0.08175988128050087, 0.08175988128050087, 0.07050736258589736, 0.9165957136166657, 0.9030620852489502, 0.7677124236030015, 0.12283398777648025, 0.03070849694412006, 0.03070849694412006, 0.03070849694412006, 0.8634650995003281, 0.447172194233984, 0.13554907137717642, 0.08104996020490961, 0.1718818121586876, 0.051704284958304404, 0.006987065534906, 0.026550849032642803, 0.0503068718513232, 0.027948262139624, 0.898344522288669, 0.8560101635366261, 0.9641713265399172, 0.8960581705421253, 0.6959319230495263, 0.23197730768317545, 0.8632425954550885, 0.15528156712421526, 0.7764078356210763, 0.8278252110143774, 0.06726848020270536, 0.20180544060811606, 0.20180544060811606, 0.4708793614189375, 0.8278244215061846, 0.7677374835191548, 0.22154529645072404, 0.08056192598208146, 0.382669148414887, 0.10070240747760184, 0.020140481495520366, 0.020140481495520366, 0.0604214444865611, 0.10070240747760184, 0.8360970986003133, 0.08958183199289071, 0.08958183199289071, 0.6275445681634879, 0.17123473598405972, 0.6849389439362389, 0.8365180698905205, 0.07604709726277459, 0.08351532144893845, 0.10921234343322721, 0.03854553297643313, 0.24412170885074316, 0.10921234343322721, 0.2312731978585988, 0.12848510992144377, 0.04496978847250532, 0.019272766488216565, 0.9459123256997058, 0.38014921329993195, 0.555602696361439, 0.02924224717691784, 0.02924224717691784, 0.8068046116049727, 0.7956563410468143, 0.7611725291140256, 0.9122172061779102, 0.8554189179339247, 0.8870536598809869, 0.16170373904647148, 0.13860320489697556, 0.06930160244848778, 0.030800712199327902, 0.17710409514613543, 0.10780249269764766, 0.1848042731959674, 0.06930160244848778, 0.05390124634882383, 0.8682679497513337, 0.3735326137149915, 0.03112771780958263, 0.06225543561916526, 0.04150362374611017, 0.17639040092096822, 0.28014946028624366, 0.03112771780958263, 0.12992288604096267, 0.18766639094805718, 0.11548700981418902, 0.14435876226773628, 0.08661525736064177, 0.014435876226773628, 0.28871752453547256, 0.014435876226773628, 0.03620060430893526, 0.5792096689429641, 0.3620060430893526, 0.4441647995311422, 0.5329977594373706, 0.9331702768581516, 0.740201206364129, 0.08224457848490323, 0.16448915696980645, 0.13615863914001977, 0.4084759174200593, 0.05105948967750741, 0.03403965978500494, 0.05105948967750741, 0.289337108172542, 0.03403965978500494, 0.8301862813940589, 0.11859804019915127, 0.7579102529813018, 0.6275235067215403, 0.8740283034996122, 0.7058193597427577, 0.044113709983922354, 0.13234112995176706, 0.044113709983922354, 0.7956584744436095, 0.8740439589051529, 0.26662893344811706, 0.015684054908712768, 0.06273621963485107, 0.20389271381326599, 0.07842027454356384, 0.2352608236306915, 0.10978838436098938, 0.015684054908712768, 0.908995749001615, 0.896158571679774, 0.9265199739794996, 0.9751920623056389, 0.9203471068726277, 0.05752169417953923, 0.78841886896031, 0.11263126699433, 0.937976596394533, 0.9394361397758548, 0.15678299471853047, 0.6532624779938769, 0.05226099823951016, 0.10452199647902032, 0.02613049911975508, 0.8559853322716522, 0.8783619820462847, 0.9716340067266404, 0.8598627297919508, 0.06614328690707313, 0.8458017675892551, 0.047561700330608137, 0.09512340066121627, 0.047561700330608137, 0.713425504959122, 0.047561700330608137, 0.3521963721597724, 0.6163436512796017, 0.8042103204881129, 0.08553593249669916, 0.08553593249669916, 0.513215594980195, 0.17107186499339833, 0.04276796624834958, 0.08553593249669916, 0.9086972399344321, 0.47657255588637204, 0.07331885475174954, 0.3519305028083978, 0.06598696927657459, 0.021995656425524864, 0.8998839066153628, 0.8513876326469997, 0.07094896938724998, 0.7653751775015428, 0.16400896660747347, 0.8192072233918878, 0.09102302482132087, 0.903174410903057, 0.7707554751028074, 0.1284592458504679, 0.009643479553500717, 0.3182348252655237, 0.2025130706235151, 0.255552208167769, 0.09643479553500718, 0.009643479553500717, 0.1060782750885079, 0.9031251459019779, 0.8068898992025694, 0.930543026922419, 0.8051136488925342, 0.10063920611156678, 0.9331516042892364, 0.8049571293508673, 0.7605004947376415, 0.9399550046316597, 0.2288938255441633, 0.012716323641342404, 0.20346117826147847, 0.02543264728268481, 0.3051917673922177, 0.17802853097879368, 0.03814897092402721, 0.931649602305182, 0.8559739946990644, 0.16298451479885398, 0.6519380591954159, 0.058694042311024146, 0.35216425386614486, 0.5282463807992173, 0.04849680089287101, 0.3879744071429681, 0.04849680089287101, 0.04849680089287101, 0.3879744071429681, 0.9416833665003298, 0.20224689411333172, 0.7415719450822162, 0.12688726237850848, 0.7613235742710509, 0.33651759967230155, 0.054781934830374676, 0.14086783242096346, 0.1252158510408564, 0.11738986035080287, 0.01565198138010705, 0.054781934830374676, 0.1330418417309099, 0.023477972070160575, 0.9442387542745437, 0.1175953988589417, 0.1175953988589417, 0.10289597400157399, 0.10289597400157399, 0.029398849714735425, 0.5291792948652376, 0.13430806048259672, 0.35815482795359127, 0.492462888436188, 0.2873859475380886, 0.016905055737534622, 0.4902466163885041, 0.18595561311288086, 0.35062495653005016, 0.07171874110841935, 0.04781249407227957, 0.031874996048186374, 0.17531247826502508, 0.3028124624577706, 0.015937498024093187, 0.8999059109317059, 0.11898323465166756, 0.01983053910861126, 0.15864431286889008, 0.19830539108611261, 0.05949161732583378, 0.03966107821722252, 0.2776275475205576, 0.07932215643444504, 0.40998402759506974, 0.03324194818338404, 0.08864519515569076, 0.15512909152245882, 0.0997258445501521, 0.038782272880614706, 0.03324194818338404, 0.10526616924738277, 0.03324194818338404, 0.9039055231067193, 0.08217322937333812, 0.6275398413619674, 0.13234907975748092, 0.13234907975748092, 0.06617453987874046, 0.26469815951496184, 0.39704723927244273, 0.9178763982755916, 0.4947880604579759, 0.026745300565295994, 0.017830200376863996, 0.07132080150745598, 0.28528320602982393, 0.10252365216696797, 0.004457550094215999, 0.7884185260695254, 0.11263121800993221, 0.002402898411918375, 0.5286376506220425, 0.2210666538964905, 0.019223187295347, 0.13936810789126575, 0.012014492059591875, 0.07448985076946962, 0.00480579682383675, 0.7541829498882688, 0.20568625906043694, 0.28630093928788886, 0.7157523482197222, 0.1706383623671411, 0.6825534494685644, 0.5431092059063807, 0.03194760034743416, 0.12779040138973663, 0.06389520069486831, 0.2236332024320391, 0.0488071384231542, 0.9273356300399298, 0.627524341737645, 0.17932461612924067, 0.7172984645169627, 0.25032104719599874, 0.11125379875377722, 0.05562689937688861, 0.05562689937688861, 0.5284555440804418, 0.40705423348806336, 0.03876706985600603, 0.019383534928003016, 0.019383534928003016, 0.4845883732000754, 0.019383534928003016, 0.6578499370640831, 0.05598722868630494, 0.013996807171576236, 0.013996807171576236, 0.16796168605891482, 0.08398084302945741, 0.08166400370580615, 0.13610667284301023, 0.08166400370580615, 0.027221334568602047, 0.35387734939182663, 0.10888533827440819, 0.1633280074116123, 0.027221334568602047, 0.8457690600441026, 0.09630443307579198, 0.7704354646063358, 0.09630443307579198, 0.940528863942402, 0.2879455071243676, 0.13289792636509273, 0.022149654394182126, 0.5315917054603709, 0.022149654394182126, 0.8854486380622499, 0.8997450071881008, 0.15619720056915753, 0.28836406258921393, 0.1802275391182587, 0.03604550782365174, 0.0600758463727529, 0.0600758463727529, 0.10813652347095522, 0.09612135419640463, 0.3009439083162824, 0.15163840341518106, 0.12597651976030427, 0.11897782421806513, 0.10031463610542747, 0.034993477711195625, 0.13064231678846366, 0.0023328985140797084, 0.034993477711195625, 0.9394585401817492, 0.9688814752847918, 0.04945611370591111, 0.04945611370591111, 0.24728056852955557, 0.04945611370591111, 0.49456113705911114, 0.04945611370591111, 0.05803556180043132, 0.13928534832103517, 0.7196409663253484, 0.011607112360086264, 0.034821337080258793, 0.034821337080258793, 0.9128686717035989, 0.1555241435146956, 0.17496466145403253, 0.01944051793933695, 0.13608362557535864, 0.3304888049687281, 0.0388810358786739, 0.13608362557535864, 0.37714290659189376, 0.05387755808455625, 0.013469389521139062, 0.04040816856341719, 0.06734694760569532, 0.29632656946505936, 0.14816328473252968, 0.9125146014791157, 0.8631923700435373, 0.8699157483529191, 0.06691659602714761, 0.06691659602714761, 0.5977573117704458, 0.23095168863858134, 0.013585393449328314, 0.027170786898656627, 0.054341573797313254, 0.04075618034798494, 0.04075618034798494, 0.05823724529386813, 0.46589796235094505, 0.4076607170570769, 0.1980252978382858, 0.014144664131306127, 0.3819059315452654, 0.11315731305044902, 0.11315731305044902, 0.014144664131306127, 0.0990126489191429, 0.05657865652522451, 0.8148457602181407, 0.8708517643634939, 0.12869051061990608, 0.10295240849592487, 0.12869051061990608, 0.6177144509755492, 0.266455407510693, 0.06661385187767326, 0.532910815021386, 0.06661385187767326, 0.07753147681774679, 0.31012590727098716, 0.038765738408873394, 0.42642312249760733, 0.07753147681774679, 0.038765738408873394, 0.43190968686753906, 0.023994982603752168, 0.023994982603752168, 0.047989965207504336, 0.023994982603752168, 0.3839197216600347, 0.023994982603752168, 0.023994982603752168, 0.9089954170411706, 0.6824775910375663, 0.019499359743930467, 0.03899871948786093, 0.15599487795144373, 0.07799743897572187, 0.8148109557184527, 0.822771183386885, 0.7602764898602602, 0.6166987987414739, 0.2466795194965896, 0.49192179563099686, 0.06149022445387461, 0.33819623449631037, 0.09223533668081191, 0.900276218803855, 0.653474053203901, 0.038439650188464757, 0.07687930037692951, 0.0960991254711619, 0.019219825094232378, 0.05765947528269714, 0.05765947528269714, 0.13752516719262892, 0.3361726309153152, 0.5042589463729727, 0.015280574132514326, 0.6270927029457632, 0.8278246802844391, 0.75102812649257, 0.12517135441542834, 0.1235268214391127, 0.2470536428782254, 0.6176341071955634, 0.878206645722189, 0.9394526876806639, 0.9128558008425431, 0.9332931774074574, 0.940493335475627, 0.027938767284626485, 0.1955713709923854, 0.13969383642313243, 0.40311649939246785, 0.07184254444618239, 0.01596500987692942, 0.07184254444618239, 0.06785129197695003, 0.003991252469232355, 0.9178750864356009, 0.5258388251973508, 0.11542803479941846, 0.038476011599806154, 0.012825337199935385, 0.2821574183985785, 0.012825337199935385, 0.012825337199935385, 0.08492478964065471, 0.8492478964065471, 0.2172137723516215, 0.7602482032306753, 0.3378407454956345, 0.25338055912172586, 0.07239444546335025, 0.012065740910558375, 0.3016435227639594, 0.02413148182111675, 0.1289782397734009, 0.17931121139228906, 0.09122851105923478, 0.17301958993992805, 0.11954080759485937, 0.07235364670215173, 0.10381175396395682, 0.08808270033305428, 0.04089553944034663, 0.07521517581617834, 0.9025821097941402, 0.6160060621483451, 0.14589617261408175, 0.06484274338403632, 0.01621068584600908, 0.01621068584600908, 0.06484274338403632, 0.01621068584600908, 0.04863205753802725, 0.10279689959487981, 0.8223751967590385, 0.2895030116359114, 0.6658569267625962, 0.028950301163591142, 0.09103884586227134, 0.284496393319598, 0.07965899012948743, 0.07965899012948743, 0.2503568261212462, 0.10241870159505527, 0.011379855732783918, 0.06827913439670351, 0.034139567198351754, 0.07883792132747588, 0.43360856730111735, 0.07883792132747588, 0.1970948033186897, 0.05255861421831726, 0.10511722843663451, 0.02627930710915863, 0.03941896066373794, 0.2981756317105401, 0.5963512634210802, 0.3371292023095031, 0.13485168092380126, 0.4719808832333044, 0.8278245745227107, 0.8632348317262523, 0.9127492150539256, 0.2569061536487543, 0.39703678291171124, 0.32697146828023277, 0.7419237172593328, 0.21197820493123795, 0.9305840881204984, 0.1428093160253671, 0.7140465801268354, 0.5982088040461355, 0.33233822447007527, 0.8278244541932507, 0.17565772411656091, 0.7026308964662437, 0.8217115866083924, 0.2244893822701421, 0.7295904923779618, 0.08310589291841108, 0.08310589291841108, 0.08310589291841108, 0.7479530362656998, 0.8758967226540324, 0.8448366820469929, 0.05405503279448002, 0.05405503279448002, 0.05405503279448002, 0.8108254919172003, 0.1636472265886144, 0.2883308277989873, 0.09351270090777965, 0.08571997583213135, 0.08571997583213135, 0.09351270090777965, 0.10909815105907626, 0.06234180060518643, 0.015585450151296608, 0.10708781746948201, 0.749614722286374, 0.10708781746948201, 0.053543908734741005, 0.12568801841672617, 0.13711420190915583, 0.38849023874260813, 0.07998328444700756, 0.0914094679394372, 0.0228523669848593, 0.11426183492429651, 0.034278550477288956, 0.01142618349242965, 0.20115184649698506, 0.20115184649698506, 0.5028796162424627, 0.9778570956196517, 0.14696184079332747, 0.25718322138832306, 0.09185115049582968, 0.1102213805949956, 0.3674046019833187, 0.8553442378983827, 0.09503824865537586, 0.8957421675668316, 0.9024216201851166, 0.05557720633699872, 0.44461765069598974, 0.44461765069598974, 0.7956592993220848, 0.9085885393657562, 0.07571571161381302, 0.14768628053417202, 0.09845752035611467, 0.09845752035611467, 0.049228760178057336, 0.5907451221366881, 0.7017718280405695, 0.15594929512012654, 0.15594929512012654, 0.8553560887377083, 0.22864464911892182, 0.6859339473567655, 0.05997033190674887, 0.2398813276269955, 0.11994066381349774, 0.5397329871607398, 0.6275229552476126, 0.795657335979031, 0.9442389242620998, 0.7956602215013288, 0.8756986881873396, 0.030196506489218608, 0.060393012978437216, 0.8598128160933364, 0.07816480146303058, 0.9607205173482918, 0.8069369983169312, 0.8469963988825943, 0.3455181464965296, 0.0732917280447184, 0.1256429623623744, 0.0209404937270624, 0.1151727154988432, 0.1151727154988432, 0.0418809874541248, 0.1361132092259056, 0.0314107405905936, 0.41292576973225353, 0.12299916545216062, 0.05271392805092598, 0.01757130935030866, 0.09664220142669763, 0.1405704748024693, 0.10542785610185196, 0.06149958272608031, 0.33686735639824006, 0.07485941253294223, 0.05988753002635379, 0.0074859412532942236, 0.15720476631917868, 0.13474694255929603, 0.17217664882576714, 0.0074859412532942236, 0.05240158877305957, 0.08769222054550616, 0.09646144260005676, 0.15784599698191107, 0.56999943354579, 0.017538444109101232, 0.008769222054550616, 0.05261533232730369, 0.008769222054550616, 0.7785826558436051, 0.10381102077914735, 0.10381102077914735, 0.32785742844835924, 0.10840447230953813, 0.08989639167132431, 0.1546746739050727, 0.06345627647387599, 0.06874429951336565, 0.06742229375349323, 0.06742229375349323, 0.051558224635024234, 0.17563900547132957, 0.22276166547583265, 0.07710980728009592, 0.17563900547132957, 0.21419390911137753, 0.05140653818673061, 0.08139368546232346, 0.004283878182227551, 0.10183884489559032, 0.8656301816125177, 0.8448342330281361, 0.7607784900431871, 0.8998385088554685, 0.9128573214444081, 0.16091669147041882, 0.1206875186028141, 0.6838959387492799, 0.8278247211589932, 0.9085871817950251, 0.07571559848291876, 0.1017006191403117, 0.8136049531224936, 0.9307113319504845, 0.7606090552596215, 0.18563697325009285, 0.2475159643334571, 0.061878991083364275, 0.030939495541682138, 0.4022134420418678, 0.061878991083364275, 0.6467127199041586, 0.13749010580639592, 0.04583003526879864, 0.010184452281955253, 0.04073780912782101, 0.03564558298684339, 0.050922261409776265, 0.010184452281955253, 0.020368904563910505, 0.05823739122361253, 0.46589912978890025, 0.4076617385652877, 0.7957343359474423, 0.69790521033613, 0.11311822722925453, 0.7918275906047818, 0.32671120617099403, 0.04667302945299914, 0.5600763534359897, 0.87589524624355, 0.7605150139890171, 0.7223305782144535, 0.5226211228532986, 0.07574219171786936, 0.17420704095109954, 0.07574219171786936, 0.06816797254608242, 0.030296876687147745, 0.05301953420250855, 0.13740268636629252, 0.515260073873597, 0.03435067159157313, 0.17175335795786567, 0.1030520147747194, 0.6275681949425194, 0.7611387828209655, 0.8217333834603281, 0.8347118544862641, 0.01605215104781277, 0.08026075523906386, 0.01605215104781277, 0.04815645314343831, 0.5703813300302684, 0.1112939180546865, 0.027823479513671624, 0.08347043854101488, 0.16694087708202976, 0.027823479513671624, 0.6092341641128319, 0.20307805470427728, 0.8513881557514044, 0.0709490129792837, 0.4152332465275906, 0.11734852619257995, 0.09026809707121534, 0.054160858242729204, 0.027080429121364602, 0.24372386209228142, 0.03610723882848614, 0.01805361941424307, 0.21093550750518103, 0.18080186357586947, 0.030133643929311577, 0.5122719467982968, 0.060267287858623154, 0.9085856721920694, 0.07571547268267245, 0.9394284742188668, 0.13245022484791996, 0.11037518737326664, 0.4194257120184132, 0.22075037474653328, 0.11037518737326664, 0.04686905144212112, 0.37495241153696895, 0.04686905144212112, 0.5155595658633323, 0.27798939027570685, 0.16505620047620095, 0.06081017912281087, 0.4082969169674444, 0.0434358422305792, 0.02606150533834752, 0.02606150533834752, 0.8635940956052687, 0.3515301010857065, 0.08788252527142662, 0.010985315658928328, 0.08788252527142662, 0.17576505054285324, 0.054926578294641634, 0.010985315658928328, 0.23069162883749486, 0.9209954906384019, 0.8448341445810162, 0.8217129520787608, 0.15018173633933668, 0.7509086816966835, 0.037561790686787146, 0.6510710385709773, 0.08138387982137216, 0.03443164146288822, 0.02817134301509036, 0.006260298447797858, 0.06886328292577644, 0.07825373059747323, 0.015650746119494647, 0.4020261657148249, 0.057432309387832135, 0.3445938563269928, 0.13400872190494165, 0.057432309387832135, 0.87400960343394, 0.8040943382138783, 0.12391443543625227, 0.12391443543625227, 0.21685026201344146, 0.06195721771812614, 0.0929358265771892, 0.03097860885906307, 0.34076469744969373, 0.9128455556218491, 0.1709462403483137, 0.10256774420898823, 0.034189248069662746, 0.6837849613932548, 0.08641008156362488, 0.7056823327696032, 0.10081176182422903, 0.08641008156362488, 0.2735852372262019, 0.012159343876720085, 0.2188681897809615, 0.02431868775344017, 0.39517867599340273, 0.03647803163016025, 0.012159343876720085, 0.03647803163016025, 0.9446930910779057, 0.7956594623777451, 0.9394294284611377, 0.4376977135445313, 0.5471221419306641, 0.4387776422419614, 0.11446373275877256, 0.1812342435347232, 0.047693221982821894, 0.07630915517251503, 0.08584779956907941, 0.047693221982821894, 0.832415310306716, 0.07567411911879236, 0.9645842719690272, 0.7884185167384028, 0.11263121667691468, 0.8513881982901342, 0.07094901652417786, 0.8631911400072892, 0.8148535422357606, 0.8278248072373569, 0.944238752301998, 0.034554236041128485, 0.06910847208225697, 0.06910847208225697, 0.06910847208225697, 0.6565304847814412, 0.06910847208225697, 0.034554236041128485, 0.8645954936818226, 0.04550502598325382, 0.04550502598325382, 0.04550502598325382, 0.9305409620493944, 0.8861646703446553, 0.663869906988483, 0.07376332299872033, 0.25817163049552116, 0.3009610962196159, 0.1584005769576926, 0.17424063465346185, 0.09504034617461556, 0.06336023078307704, 0.20592075004500038, 0.8278921310733538, 0.8069073751637689, 0.04172895965921424, 0.6259343948882136, 0.04172895965921424, 0.25037375795528544, 0.6289294201617505, 0.10482157002695841, 0.017470261671159736, 0.1921728783827571, 0.017470261671159736, 0.026205392506739603, 0.9751914909765693, 0.9210973706477639, 0.869822763436784, 0.0869822763436784, 0.08906007636981098, 0.17812015273962195, 0.08906007636981098, 0.31171026729433843, 0.08906007636981098, 0.22265019092452745, 0.8555439224706143, 0.9127492407513931, 0.0566444818948485, 0.1864547529038763, 0.30682427693042935, 0.15105195171959598, 0.17701400592140154, 0.07080560236856062, 0.05192410840361112, 0.6658957332494513, 0.011286368360160191, 0.033859105080480574, 0.19186826212272326, 0.033859105080480574, 0.05643184180080096, 0.05926333728126338, 0.17779001184379015, 0.7704233846564239, 0.8344570062333608, 0.07585972783939644, 0.9705320336900433, 0.7225269126826611, 0.9394293984842571, 0.8448305755182346, 0.08097722984305962, 0.08097722984305962, 0.8097722984305963, 0.09892286675940236, 0.14838430013910356, 0.04946143337970118, 0.4946143337970118, 0.14838430013910356, 0.04946143337970118, 0.05173534001604036, 0.3750812151162926, 0.21987519506817155, 0.1552060200481211, 0.07760301002406055, 0.03880150501203027, 0.01293383500401009, 0.05173534001604036, 0.07108604100062842, 0.853032492007541, 0.07108604100062842, 0.7605135252491504, 0.855991078251966, 0.7223407043672249, 0.9562252735532076, 0.8147546372087798, 0.37198840280982537, 0.1430724626191636, 0.057228985047665444, 0.042921738785749085, 0.27183767897641087, 0.11445797009533089, 0.07401148255881572, 0.04934098837254382, 0.34538691860780674, 0.3700574127940786, 0.07401148255881572, 0.04934098837254382, 0.24119770157726236, 0.31355701205044106, 0.03617965523658936, 0.20501804634067303, 0.12059885078863118, 0.024119770157726237, 0.048239540315452474, 0.22545358401253146, 0.11272679200626573, 0.056363396003132865, 0.11272679200626573, 0.11272679200626573, 0.3381803760187972, 0.01944080113935942, 0.01944080113935942, 0.6998688410169391, 0.05832240341807826, 0.17496721025423478, 0.8554986961167766, 0.057038475960247324, 0.7415001874832152, 0.11407695192049465, 0.9552489900569937, 0.02906198249816726, 0.1453099124908363, 0.5812396499633452, 0.13562258499144722, 0.038749309997556346, 0.019374654998778173, 0.038749309997556346, 0.5902564994196903, 0.028560798359017273, 0.12376345955574151, 0.09520266119672424, 0.11424319343606909, 0.009520266119672424, 0.0380810644786897, 0.5359498564629527, 0.012463950150301226, 0.04362382552605429, 0.049855800601204904, 0.15579937687876533, 0.13710345165331347, 0.012463950150301226, 0.05608777567635551, 0.24978008615885952, 0.08326002871961984, 0.3954851364181942, 0.24978008615885952, 0.9671856149040939, 0.7884187493605096, 0.11263124990864422, 0.7884187761298055, 0.11263125373282935, 0.3650517734808315, 0.069533671139206, 0.09560879781640826, 0.02607512667720225, 0.21729272231001875, 0.1216839244936105, 0.02607512667720225, 0.06084196224680525, 0.0173834177848015, 0.023394030540846912, 0.07018209162254073, 0.8421850994704888, 0.046788061081693824, 0.023394030540846912, 0.9601782727588898, 0.8148802828723137, 0.6275925599410712, 0.7512876785243853, 0.9071783111457795, 0.6967525272081404, 0.027870101088325615, 0.027870101088325615, 0.027870101088325615, 0.22296080870660492, 0.14147966982975377, 0.07073983491487688, 0.42443900948926133, 0.318329257116946, 0.03536991745743844, 0.8635940327128091, 0.847015814574499, 0.18968019205353767, 0.7587207682141507, 0.7484152852820273, 0.05757040656015595, 0.08635560984023392, 0.08635560984023392, 0.8960339893444692, 0.8559745005721409, 0.9127681374158232, 0.795652527496592, 0.733775316987693, 0.022930478655865408, 0.13758287193519245, 0.09172191462346163, 0.4167885283105202, 0.134220034540676, 0.09183476047519937, 0.021192637032738316, 0.1271558221964299, 0.04238527406547663, 0.10596318516369158, 0.02825684937698442, 0.02825684937698442, 0.09087619772989526, 0.8178857795690574, 0.896730102851744, 0.16951152823483925, 0.11653917566145199, 0.08475576411741963, 0.26486176286693636, 0.14832258720548436, 0.021188941029354907, 0.11653917566145199, 0.04237788205870981, 0.03178341154403236, 0.17928738620625853, 0.2260580086948477, 0.015590207496196393, 0.2260580086948477, 0.1831849380803076, 0.042873070614540085, 0.08964369310312927, 0.01948775937024549, 0.01948775937024549, 0.11613953837560174, 0.5806976918780087, 0.11613953837560174, 0.11613953837560174, 0.8410838861892204, 0.0934537651321356, 0.933014679730551, 0.12844186548349615, 0.02568837309669923, 0.05137674619339846, 0.166974425128545, 0.012844186548349614, 0.26972791751534186, 0.06422093274174807, 0.012844186548349614, 0.26972791751534186, 0.028239642805238302, 0.7907099985466725, 0.11295857122095321, 0.056479285610476604, 0.7665201394797951, 0.0766520139479795, 0.0766520139479795, 0.03832600697398975, 0.16566943699355519, 0.09940166219613311, 0.4638744235819545, 0.24850415549033275, 0.7581599525080297, 0.21059998680778602, 0.06415703730631954, 0.1796397044576947, 0.0834041484982154, 0.13472977834327102, 0.06415703730631954, 0.01924711119189586, 0.2630438529559101, 0.10265125969011125, 0.07698844476758344, 0.627529907278767, 0.9330152029857456, 0.49127275805874454, 0.054585862006527174, 0.10917172401305435, 0.027292931003263587, 0.30022224103589945, 0.2081530490689136, 0.06938434968963787, 0.0520382622672284, 0.1040765245344568, 0.38161392329300825, 0.0520382622672284, 0.0520382622672284, 0.08673043711204734, 0.6768208924249532, 0.02333865146292942, 0.04667730292585884, 0.09335460585171768, 0.02333865146292942, 0.07001595438878826, 0.07001595438878826, 0.8254451257048687, 0.13757418761747814, 0.33683796951603673, 0.09623941986172478, 0.4811970993086239, 0.0721795648962936, 0.9741294308935555, 0.8946467997562133, 0.0941733473427593, 0.807476552414033, 0.04485980846744628, 0.08971961693489255, 0.04485980846744628, 0.054095080268976914, 0.3245704816138615, 0.027047540134488457, 0.5409508026897691, 0.027047540134488457, 0.027047540134488457], \"Term\": [\"aborted\", \"acetaminophen\", \"achieve\", \"achieve\", \"action\", \"action\", \"action\", \"action\", \"action\", \"action\", \"action\", \"action\", \"action\", \"active_ingredient\", \"address\", \"address\", \"address\", \"address\", \"address\", \"address\", \"address\", \"adequacy\", \"adequate_containment\", \"administration\", \"administration\", \"administration\", \"administration\", \"adverse_event\", \"adverse_event\", \"air\", \"air\", \"air\", \"air\", \"air\", \"air\", \"amendment\", \"amendment\", \"amendment\", \"amendment\", \"amendment\", \"ampule\", \"annual\", \"ante\", \"ante\", \"ante\", \"anteroom\", \"anteroom\", \"anteroom\", \"apap\", \"apis\", \"apis\", \"appropriate\", \"appropriate\", \"appropriate\", \"appropriate\", \"appropriate\", \"appropriate\", \"appropriate\", \"approved\", \"approved\", \"approved\", \"area\", \"area\", \"area\", \"area\", \"area\", \"area\", \"area\", \"area\", \"area\", \"asepti\", \"aseptic\", \"aseptic\", \"aseptic\", \"aseptic\", \"aseptic\", \"aseptic\", \"aseptic\", \"aseptic\", \"aseptic_processing\", \"aseptic_processing\", \"aseptic_processing\", \"aseptic_processing\", \"aseptic_processing\", \"aseptic_processing\", \"assignable\", \"assigned\", \"assigned\", \"assigned\", \"assigned\", \"assigned\", \"assigned\", \"assurance\", \"assurance\", \"assurance\", \"assurance\", \"assurance\", \"assurance\", \"assurance\", \"assurance\", \"assure\", \"assure\", \"assure\", \"assure\", \"audit\", \"based\", \"based\", \"based\", \"based\", \"based\", \"batch\", \"batch\", \"batch\", \"batch\", \"batch\", \"batch\", \"batch\", \"batch\", \"batch\", \"beta_lactam\", \"beta_lactam\", \"biosafety\", \"blender\", \"booty\", \"bpc_mcg\", \"bpc_mcg\", \"bservation\", \"bservation\", \"bud\", \"bud\", \"bud\", \"bud\", \"buffer\", \"buffer\", \"buffer\", \"buffer\", \"building\", \"building\", \"building\", \"building\", \"bulk\", \"bulk\", \"bulk\", \"bulk\", \"burkholderia\", \"business\", \"calculated\", \"calibration\", \"calibration\", \"calibration\", \"calibration\", \"capsule\", \"capsule\", \"capsule\", \"capture\", \"cart\", \"cart\", \"cart\", \"carton\", \"carton\", \"castle_rock\", \"cc\", \"cc\", \"cefuroxime\", \"ceiling\", \"ceiling\", \"ceiling\", \"ceiling\", \"ceiling\", \"ceiling\", \"cfi\", \"cfr\", \"cfu\", \"cfu\", \"cfu\", \"cfu\", \"cfu\", \"cfus\", \"chaetomium\", \"chaetomium_globosum\", \"change\", \"change\", \"change\", \"change\", \"change\", \"change\", \"change\", \"checker\", \"chemotherapy\", \"chief\", \"chloride\", \"chloride\", \"chloride\", \"chloride\", \"chromatogram\", \"cifically\", \"cifically\", \"citrate\", \"citrate\", \"citrate\", \"class\", \"class\", \"class\", \"class\", \"classified\", \"classified\", \"classified\", \"classified\", \"classified\", \"classified\", \"clean\", \"clean\", \"clean\", \"clean\", \"clean\", \"clean\", \"clean\", \"clean\", \"clean\", \"cleanable\", \"cleaned\", \"cleaned\", \"cleaned\", \"cleaned\", \"cleaned\", \"cleaned\", \"cleaning\", \"cleaning\", \"cleaning\", \"cleaning\", \"cleaning\", \"cleaning\", \"cleaning\", \"cleaning\", \"cleanroom\", \"cleanroom\", \"cleanroom\", \"cleanroom\", \"cleanroom\", \"cleanroom\", \"cleanroom\", \"cleanrooms\", \"cleanrooms\", \"cleanrooms\", \"clearing\", \"clinical_difference\", \"cmp\", \"co_producer\", \"code\", \"code\", \"code\", \"code\", \"code\", \"code\", \"colagulase\", \"collected\", \"collected\", \"collected\", \"collected\", \"common\", \"comparable_approved\", \"component\", \"component\", \"component\", \"component\", \"component\", \"component\", \"component\", \"compounded\", \"compounded\", \"compounded\", \"compounded\", \"compounded\", \"compounded\", \"concentration\", \"conducted\", \"conducted\", \"conducted\", \"conducted\", \"conducted\", \"conducted\", \"conducted\", \"conformance\", \"connected\", \"consisting\", \"constructed\", \"contact\", \"contact\", \"contact\", \"contact\", \"contact\", \"contact\", \"contact\", \"container\", \"container\", \"container\", \"container\", \"container\", \"container\", \"container\", \"contaminans\", \"contaminant\", \"contaminant\", \"contaminant\", \"contaminating_microorganism\", \"contamination\", \"contamination\", \"contamination\", \"contamination\", \"contamination\", \"contamination\", \"contamination\", \"contamination\", \"contamination\", \"control\", \"control\", \"control\", \"control\", \"control\", \"control\", \"control\", \"control\", \"correct\", \"correct\", \"could\", \"could\", \"could\", \"could\", \"cr\", \"cr\", \"cream\", \"cream\", \"crt\", \"crt\", \"culture\", \"culture\", \"current_good\", \"cus_lr\", \"cv\", \"cya\", \"date\", \"date\", \"date\", \"date\", \"date\", \"date\", \"date\", \"date\", \"date\", \"day\", \"day\", \"day\", \"day\", \"day\", \"day\", \"day\", \"day\", \"dba\", \"deactivating\", \"defect\", \"defect\", \"defect\", \"defect\", \"deficient_regarding\", \"deficient_regarding\", \"deficient_regarding\", \"deficient_regarding\", \"deliver\", \"density\", \"dent\", \"describing\", \"determined\", \"determined\", \"determined\", \"determined\", \"dev\", \"dev\", \"dibutyl\", \"differential_pressure\", \"discrepancy\", \"discrepancy\", \"discrepancy\", \"discrepancy\", \"disinfectant\", \"disinfectant\", \"disinfected\", \"disinfected\", \"disinfected\", \"disinfected\", \"disinfecting\", \"disinfecting\", \"disinfecting_agents\", \"disinfecting_agents\", \"disinfection\", \"disinfection\", \"disinfection\", \"disinfection\", \"disinfection\", \"dispensary\", \"dispensary\", \"dispensary_staff\", \"distribution\", \"distribution\", \"distribution\", \"distribution\", \"distribution\", \"doorway\", \"drug\", \"drug\", \"drug\", \"drug\", \"drug\", \"drug\", \"drug\", \"drug\", \"drug\", \"dsw\", \"duct\", \"dv\", \"dwell\", \"dynamic_conditions\", \"dynamic_conditions\", \"ead\", \"easily\", \"easily\", \"ec\", \"effective\", \"effective\", \"effective\", \"effective\", \"effectiveness\", \"efficacy\", \"employee\", \"employee\", \"employee\", \"employee\", \"employee\", \"employee\", \"employee\", \"employee\", \"endotoxin\", \"endotoxin\", \"endotoxin\", \"engineer\", \"epi_shugarcaine\", \"epi_shugarcaine\", \"epinephrine\", \"epinephrine\", \"equipment\", \"equipment\", \"equipment\", \"equipment\", \"equipment\", \"equipment\", \"equipment\", \"equipment\", \"equipment\", \"essentially_copy\", \"establishment_inspected\", \"establishment_inspected\", \"establishment_inspected\", \"establishment_inspected\", \"estriol\", \"evaporation\", \"exela\", \"expectation\", \"extraneous_peak\", \"extraneous_peaks\", \"failed\", \"failed\", \"failed\", \"failed\", \"failed\", \"failed\", \"failed\", \"failed\", \"failed\", \"failing\", \"failure\", \"failure\", \"failure\", \"failure\", \"failure\", \"failure\", \"failure\", \"fda\", \"fda\", \"fda\", \"fda\", \"fda\", \"fda\", \"fda\", \"fda\", \"fda_representative\", \"fda_representative\", \"fda_representative\", \"feb\", \"feb\", \"field_alert\", \"filler\", \"filler\", \"filler\", \"filling\", \"filling\", \"filling\", \"filling\", \"filling\", \"filling\", \"filling\", \"fingertip\", \"fingertip\", \"finish\", \"fischer\", \"fixture\", \"flow\", \"flow\", \"flow\", \"flow\", \"flurbiprofen\", \"format\", \"found\", \"found\", \"found\", \"found\", \"found\", \"found\", \"found\", \"found\", \"fp\", \"full\", \"fungus\", \"fusarium\", \"gauge\", \"gauge\", \"ghrp_mcg\", \"ghrp_mcg\", \"globosum\", \"globsum\", \"glove\", \"glove\", \"glove\", \"glove\", \"glove\", \"gly\", \"gm\", \"gmp\", \"gown\", \"gown\", \"gpa\", \"grade\", \"grade\", \"grade\", \"grade\", \"grade\", \"grade_zone\", \"grade_zone\", \"grate\", \"growth\", \"growth\", \"growth\", \"growth\", \"growth\", \"growth\", \"guidance\", \"hazardous\", \"hazardous\", \"hazardous\", \"hazardous\", \"hazardous\", \"hcg\", \"health_copy\", \"health_copy\", \"hepa_filter\", \"hepa_filter\", \"hepa_filters\", \"hepa_filters\", \"highly_potent\", \"homatropine\", \"homatropine\", \"hood\", \"hood\", \"hood\", \"hood\", \"hood\", \"hood\", \"hood\", \"hormone_containing\", \"hrt\", \"human_error\", \"humidity\", \"humidity\", \"hydrocodone\", \"hydrocortisone\", \"hypothesis\", \"identical\", \"identified\", \"identified\", \"identified\", \"identified\", \"identified\", \"identified\", \"identified\", \"identity\", \"illegible\", \"implement\", \"implement\", \"implement_corrective\", \"implement_corrective\", \"implement_corrective\", \"implemented\", \"implemented\", \"implemented\", \"implemented\", \"implemented\", \"inactive\", \"inch\", \"inch\", \"incident\", \"incident\", \"include\", \"include\", \"include\", \"include\", \"include\", \"include\", \"include\", \"include\", \"include\", \"individual_patient\", \"information\", \"information\", \"information\", \"information\", \"information\", \"information\", \"ingredient\", \"ingredient\", \"ingredient\", \"initiated\", \"initiated\", \"initiated\", \"initiated\", \"injection\", \"injection\", \"injection\", \"injection\", \"injection\", \"injection\", \"injection\", \"inpatient\", \"inside\", \"inside\", \"inside\", \"inside\", \"inside\", \"inside\", \"inside\", \"inside\", \"inspection\", \"inspection\", \"inspection\", \"inspection\", \"inspection\", \"inspection\", \"inspection\", \"inspection\", \"inspection\", \"inspectional_walkthrough\", \"inspectional_walkthrough\", \"inspector\", \"instrument\", \"instrument\", \"instrument\", \"instrument\", \"instrument\", \"inv\", \"investigation\", \"investigation\", \"investigation\", \"investigation\", \"investigation\", \"investigation\", \"investigation\", \"ipamorelin_mcg\", \"ipamorelin_mcg\", \"iso\", \"iso\", \"iso\", \"iso\", \"iso\", \"iso\", \"iso\", \"iso\", \"isos\", \"isos\", \"isos_lafh\", \"isos_lafh\", \"iu\", \"iu\", \"iv\", \"iv\", \"iv\", \"iv\", \"iv\", \"iv_bag\", \"iv_bag\", \"karl\", \"kit\", \"kit\", \"lab\", \"lab\", \"lab\", \"lab\", \"lab\", \"label\", \"label\", \"label\", \"label\", \"label\", \"label\", \"laboratory\", \"laboratory\", \"laboratory\", \"laboratory\", \"laboratory\", \"laboratory\", \"laminar_flow\", \"laminar_flow\", \"laminar_flow\", \"laminar_flow\", \"laminar_flow\", \"laminar_flow\", \"laminar_flow\", \"laminar_flow\", \"lc\", \"lfh\", \"lfh\", \"lfh\", \"lido_tetr\", \"limit\", \"limit\", \"limit\", \"limit\", \"limit\", \"linearity\", \"loaded\", \"located\", \"located\", \"located\", \"located\", \"located\", \"located\", \"located\", \"located\", \"lot\", \"lot\", \"lot\", \"lot\", \"lot\", \"lot\", \"lot\", \"lot\", \"lot\", \"luteus\", \"mac\", \"machine\", \"machine\", \"machine\", \"machine\", \"machine\", \"machine\", \"made\", \"made\", \"made\", \"made\", \"made\", \"made\", \"malfunction\", \"manufacturer\", \"manufacturer\", \"manufacturer\", \"manufacturer\", \"manufacturer\", \"manufacturer\", \"manufacturer\", \"manufacturing\", \"manufacturing\", \"manufacturing\", \"manufacturing\", \"manufacturing\", \"manufacturing\", \"manufacturing\", \"manutacturer\", \"mapping\", \"master\", \"master\", \"master\", \"may\", \"may\", \"may\", \"may\", \"may\", \"may\", \"may\", \"may_discuss\", \"may_discuss\", \"may_discuss\", \"mcg\", \"mcg\", \"mcg\", \"mcg\", \"mcg\", \"mcg\", \"mcg\", \"mcg\", \"mcpfar\", \"meaning\", \"media_fill\", \"media_fill\", \"media_fill\", \"media_fill\", \"media_fills\", \"media_fills\", \"media_fills\", \"media_fills\", \"medium\", \"medium\", \"medium\", \"medium\", \"medium\", \"medium\", \"meet\", \"meet\", \"meet\", \"meet\", \"meet\", \"meet\", \"meet\", \"meet\", \"meter\", \"method\", \"method\", \"method\", \"method\", \"method\", \"methylphenidate_chewable\", \"mibg\", \"mm\", \"mobile_unit\", \"mobile_unit\", \"mold\", \"mold\", \"mold\", \"mold\", \"mon\", \"mon_tue\", \"mon_tue\", \"mon_tue\", \"mon_tue\", \"mon_tue\", \"mon_tue\", \"mon_tue\", \"monitoring\", \"monitoring\", \"monitoring\", \"monitoring\", \"mp\", \"mpcaeprh\", \"myer_basic\", \"myer_basic\", \"nalbuphine\", \"nalbuphine\", \"nalbuphine\", \"naltrexone\", \"naturopathy\", \"nda\", \"nearly_identical\", \"niacinamide\", \"non\", \"non\", \"non\", \"non\", \"non\", \"non\", \"non\", \"non\", \"non\", \"ns_oh\", \"number\", \"number\", \"number\", \"number\", \"number\", \"number\", \"number\", \"nystatin_topical\", \"nystatin_topical\", \"objection\", \"objection\", \"observation\", \"observation\", \"observation\", \"observation\", \"observation\", \"observation\", \"observed\", \"observed\", \"observed\", \"observed\", \"observed\", \"observed\", \"observed\", \"observed\", \"observed\", \"ointment\", \"ointment\", \"one\", \"one\", \"one\", \"one\", \"one\", \"one\", \"one\", \"one\", \"ooe\", \"ooe\", \"oos\", \"oos\", \"oos\", \"operation\", \"operation\", \"operation\", \"operation\", \"operation\", \"operation\", \"operation\", \"operation\", \"operation\", \"operator\", \"operator\", \"operator\", \"operator\", \"operator\", \"operator\", \"operator\", \"operator\", \"ophth\", \"ophth\", \"oral_solution\", \"oral_solution\", \"oral_solution\", \"osmoprep\", \"ouston\", \"out\", \"outsourcing_facility\", \"outsourcing_facility\", \"outsourcing_facility\", \"oxycodone\", \"oxycodone\", \"oxytocin_units\", \"pad\", \"pad\", \"papaverine\", \"papaverine\", \"papaverme\", \"password\", \"password\", \"path\", \"peak\", \"peak\", \"pending\", \"pending\", \"pending\", \"pending\", \"penicillium_chrysogenum\", \"penicillium_spp\", \"performance_qualification\", \"performance_qualification\", \"performance_qualification\", \"performance_qualification\", \"performed\", \"performed\", \"performed\", \"performed\", \"performed\", \"performed\", \"performed\", \"performed\", \"performed\", \"person\", \"person\", \"person\", \"person\", \"personnel\", \"personnel\", \"personnel\", \"personnel\", \"personnel\", \"personnel\", \"personnel\", \"personnel\", \"personnel\", \"ph\", \"ph\", \"ph\", \"pharmaceutical_grade\", \"pharmacy\", \"pharmacy\", \"pharmacy\", \"pharmacy\", \"pharmacy\", \"phentolamine\", \"phentolamine\", \"phentolamine_mesylate\", \"phlebotomist\", \"phone_number\", \"phone_number\", \"phone_number\", \"photograph\", \"posse\", \"posse\", \"powder\", \"powder\", \"powder\", \"powder\", \"powder\", \"powder_residue\", \"powder_residue\", \"powder_residue\", \"ppb\", \"pq\", \"pq\", \"pr\", \"pr\", \"pr\", \"pr\", \"practical\", \"pres\", \"prescribing_practitioner\", \"preserved\", \"pressure\", \"pressure\", \"pressure\", \"pressure_differential\", \"pressure_differential\", \"prevent_cross\", \"prilo_phenyl\", \"prilocaine\", \"prior\", \"prior\", \"prior\", \"prior\", \"prior\", \"prior\", \"prior\", \"prior\", \"prior\", \"procedure\", \"procedure\", \"procedure\", \"procedure\", \"procedure\", \"procedure\", \"procedure\", \"procedure\", \"process\", \"process\", \"process\", \"process\", \"process\", \"process\", \"process\", \"process\", \"process\", \"produced\", \"produced\", \"produced\", \"produced\", \"produced\", \"produced\", \"produced\", \"produced\", \"producer\", \"producer\", \"producer\", \"product\", \"product\", \"product\", \"product\", \"product\", \"product\", \"product\", \"product\", \"product\", \"production\", \"production\", \"production\", \"production\", \"production\", \"production\", \"production\", \"production\", \"progesterone\", \"progesterone\", \"proliferatum\", \"promised\", \"proportion\", \"prostaglandin\", \"protocol\", \"protocol\", \"protocol\", \"pulled\", \"purport\", \"purport\", \"pursuant\", \"pursuant\", \"pyrogen_free\", \"qre\", \"qualification\", \"qualification\", \"qualification\", \"qualification\", \"qualification\", \"qualification\", \"quality\", \"quality\", \"quality\", \"quality\", \"quality\", \"quality\", \"quality\", \"quality\", \"quality\", \"questions_please\", \"questions_please\", \"questions_please\", \"quipment\", \"radio\", \"rapid_sterility\", \"rapid_sterility\", \"read\", \"read\", \"read\", \"reasonable\", \"recleaned\", \"recommended\", \"record\", \"record\", \"record\", \"record\", \"record\", \"record\", \"record\", \"recovery\", \"recovery\", \"recovery\", \"recovery\", \"recovery\", \"reddish\", \"reevaluation\", \"relabeled\", \"release\", \"release\", \"release\", \"release\", \"release\", \"released\", \"released\", \"released\", \"released\", \"released\", \"released\", \"remained\", \"remained\", \"rendered_injurious\", \"rendered_injurious\", \"report\", \"report\", \"report\", \"report\", \"report\", \"report\", \"report\", \"report\", \"reported\", \"reported\", \"reported\", \"reported\", \"reported\", \"represented\", \"represented\", \"request\", \"residue\", \"residue\", \"residue\", \"residue\", \"residue\", \"response\", \"response\", \"response\", \"response\", \"result\", \"result\", \"result\", \"result\", \"result\", \"result\", \"result\", \"revial\", \"review\", \"review\", \"review\", \"review\", \"review\", \"review\", \"review\", \"review\", \"rg\", \"right_fingertips\", \"rmi\", \"rocuronium_bromide\", \"rocuronium_bromide\", \"room\", \"room\", \"room\", \"room\", \"room\", \"room\", \"room\", \"room\", \"room\", \"root_cause\", \"root_cause\", \"root_cause\", \"root_cause\", \"root_cause\", \"ropivicaine\", \"route\", \"routine\", \"routine\", \"routine\", \"routine\", \"routine\", \"routine\", \"routine\", \"rpt\", \"run\", \"run\", \"run\", \"run\", \"rx\", \"rx\", \"rx\", \"rx\", \"sample\", \"sample\", \"sample\", \"sample\", \"sample\", \"sample\", \"sample\", \"sample\", \"satisfactory_conformance\", \"screw\", \"sec\", \"secretary\", \"secretary\", \"section\", \"section\", \"section\", \"section\", \"section\", \"section\", \"section\", \"segregation\", \"segregation\", \"selank_mcg\", \"semax_mcg\", \"semax_mcg\", \"sent_promptly\", \"sent_promptly\", \"sep\", \"settle_plate\", \"sgoo\", \"shortage_list\", \"site\", \"site\", \"site\", \"site\", \"site\", \"site\", \"site\", \"smoke_studies\", \"smoke_studies\", \"smoke_studies\", \"smoke_studies\", \"software\", \"somerset\", \"somerset_nj\", \"somerset_nj\", \"somerset_nj\", \"sop\", \"sop\", \"sop\", \"sop\", \"sop\", \"sop\", \"spa\", \"spatula\", \"specie\", \"specie\", \"specie\", \"specie\", \"specification\", \"specification\", \"specification\", \"specification\", \"specification\", \"specification\", \"spp\", \"squaric\", \"sr\", \"sr\", \"stability\", \"stability\", \"stability\", \"stability\", \"stability\", \"stability\", \"status_label\", \"steel\", \"sterile\", \"sterile\", \"sterile\", \"sterile\", \"sterile\", \"sterile\", \"sterile\", \"sterility\", \"sterility\", \"sterility\", \"sterility\", \"sterility\", \"sterility\", \"stock\", \"stock\", \"stock\", \"stock_solutions\", \"stock_solutions\", \"study_deleted\", \"su\", \"subpart\", \"subsection\", \"summary\", \"summary\", \"summary\", \"support\", \"support\", \"support\", \"support\", \"support\", \"support\", \"surface\", \"surface\", \"surface\", \"surface\", \"surface\", \"surface\", \"surface\", \"surface\", \"suspension\", \"suspension\", \"suspension\", \"sv\", \"svva\", \"sw\", \"swab\", \"swabbed\", \"syringe\", \"syringe\", \"syringe\", \"syringe\", \"syringe\", \"syringe\", \"syrinx\", \"syrinx\", \"syrinx\", \"syrinx\", \"syrinx\", \"syrinx\", \"system\", \"system\", \"system\", \"system\", \"system\", \"system\", \"system\", \"table\", \"table\", \"table\", \"table\", \"table\", \"table\", \"tablet\", \"tablet\", \"tablet\", \"tablet\", \"tablet\", \"tablet_press\", \"tank\", \"tank\", \"tank\", \"tape\", \"technician\", \"technician\", \"technician\", \"technician\", \"technician\", \"technician\", \"technician\", \"test\", \"test\", \"test\", \"test\", \"test\", \"test\", \"test\", \"testing\", \"testing\", \"testing\", \"testing\", \"testing\", \"testing\", \"testing\", \"testing\", \"testosterone\", \"testosterone\", \"testosterone\", \"testosterone\", \"tetracaine\", \"thymosin_alpha\", \"thymosin_alpha\", \"thymosin_beta\", \"thymosin_beta\", \"time\", \"time\", \"time\", \"time\", \"time\", \"time\", \"time\", \"time\", \"time\", \"tn\", \"tn\", \"tn\", \"tn\", \"tn\", \"toc\", \"tool\", \"tote\", \"touched\", \"trailer_hazard\", \"training\", \"training\", \"training\", \"training\", \"training\", \"tray\", \"tray\", \"tray\", \"tray\", \"tray\", \"triplicate\", \"troche\", \"tubing\", \"tubing\", \"tue_wed\", \"tue_wed\", \"tue_wed\", \"tue_wed\", \"turbulence\", \"udi\", \"ug\", \"umbrella\", \"unclassified\", \"unclassified\", \"unclassified\", \"unclassified\", \"unit\", \"unit\", \"unit\", \"unit\", \"unit\", \"unit\", \"unit\", \"unit\", \"unit\", \"units_gram\", \"units_gram\", \"usc_provides\", \"use\", \"use\", \"use\", \"use\", \"use\", \"use\", \"use\", \"use\", \"use\", \"used\", \"used\", \"used\", \"used\", \"used\", \"used\", \"used\", \"used\", \"used\", \"user\", \"user\", \"user\", \"user\", \"user_id\", \"user_id\", \"user_name\", \"usp\", \"usp\", \"usp\", \"usp\", \"usp\", \"usp\", \"usp\", \"usp\", \"usp\", \"utensil\", \"utensil\", \"utensil\", \"utensil\", \"validated\", \"validated\", \"validated\", \"validated\", \"validation\", \"validation\", \"validation\", \"validation\", \"vent\", \"vent\", \"vial\", \"vial\", \"vial\", \"vial\", \"vial\", \"vial\", \"vial\", \"vial\", \"vial\", \"viscometer\", \"vision_system\", \"visual_inspection\", \"visual_inspection\", \"visual_inspection\", \"visual_inspection\", \"visual_inspection\", \"water\", \"water\", \"water\", \"water\", \"water\", \"water\", \"water\", \"water\", \"wed_thu\", \"wed_thu\", \"wed_thu\", \"wed_thu\", \"wed_thu\", \"wed_thu\", \"wed_thu\", \"whereby\", \"whereby\", \"wipe\", \"wipe\", \"wipe\", \"wipe\", \"without_providing\", \"work_surface\", \"work_surface\", \"written_procedures\", \"written_procedures\", \"written_procedures\", \"written_procedures\", \"zip_code\", \"zip_code\", \"zip_code\", \"zip_code\", \"zip_code\", \"zip_code\"]}, \"R\": 30, \"lambda.step\": 0.01, \"plot.opts\": {\"xlab\": \"PC1\", \"ylab\": \"PC2\"}, \"topic.order\": [8, 4, 5, 2, 3, 1, 7, 9, 6]};\n",
       "\n",
       "function LDAvis_load_lib(url, callback){\n",
       "  var s = document.createElement('script');\n",
       "  s.src = url;\n",
       "  s.async = true;\n",
       "  s.onreadystatechange = s.onload = callback;\n",
       "  s.onerror = function(){console.warn(\"failed to load library \" + url);};\n",
       "  document.getElementsByTagName(\"head\")[0].appendChild(s);\n",
       "}\n",
       "\n",
       "if(typeof(LDAvis) !== \"undefined\"){\n",
       "   // already loaded: just create the visualization\n",
       "   !function(LDAvis){\n",
       "       new LDAvis(\"#\" + \"ldavis_el2138021016515847127796556082\", ldavis_el2138021016515847127796556082_data);\n",
       "   }(LDAvis);\n",
       "}else if(typeof define === \"function\" && define.amd){\n",
       "   // require.js is available: use it to load d3/LDAvis\n",
       "   require.config({paths: {d3: \"https://cdnjs.cloudflare.com/ajax/libs/d3/3.5.5/d3.min\"}});\n",
       "   require([\"d3\"], function(d3){\n",
       "      window.d3 = d3;\n",
       "      LDAvis_load_lib(\"https://cdn.rawgit.com/bmabey/pyLDAvis/files/ldavis.v1.0.0.js\", function(){\n",
       "        new LDAvis(\"#\" + \"ldavis_el2138021016515847127796556082\", ldavis_el2138021016515847127796556082_data);\n",
       "      });\n",
       "    });\n",
       "}else{\n",
       "    // require.js not available: dynamically load d3 & LDAvis\n",
       "    LDAvis_load_lib(\"https://cdnjs.cloudflare.com/ajax/libs/d3/3.5.5/d3.min.js\", function(){\n",
       "         LDAvis_load_lib(\"https://cdn.rawgit.com/bmabey/pyLDAvis/files/ldavis.v1.0.0.js\", function(){\n",
       "                 new LDAvis(\"#\" + \"ldavis_el2138021016515847127796556082\", ldavis_el2138021016515847127796556082_data);\n",
       "            })\n",
       "         });\n",
       "}\n",
       "</script>"
      ],
      "text/plain": [
       "PreparedData(topic_coordinates=              x         y  topics  cluster       Freq\n",
       "topic                                                \n",
       "7      0.097466 -0.003261       1        1  22.971840\n",
       "3     -0.107307  0.068495       2        1  15.308831\n",
       "4     -0.094668  0.109091       3        1  11.678823\n",
       "1     -0.126499 -0.179767       4        1  10.776625\n",
       "2     -0.024921  0.044574       5        1   9.807044\n",
       "0      0.210737 -0.017894       6        1   8.945444\n",
       "6      0.052798  0.051193       7        1   8.873747\n",
       "8     -0.110685 -0.022921       8        1   6.891340\n",
       "5      0.103080 -0.049510       9        1   4.746306, topic_info=              Term        Freq       Total Category  logprob  loglift\n",
       "328            iso  416.000000  416.000000  Default  30.0000  30.0000\n",
       "340           room  319.000000  319.000000  Default  29.0000  29.0000\n",
       "267        sterile  423.000000  423.000000  Default  28.0000  28.0000\n",
       "132  investigation  224.000000  224.000000  Default  27.0000  27.0000\n",
       "15            area  295.000000  295.000000  Default  26.0000  26.0000\n",
       "..             ...         ...         ...      ...      ...      ...\n",
       "330        located    8.142744   83.228124   Topic9  -5.4613   0.7233\n",
       "863   manufacturer    7.014792   51.438959   Topic9  -5.6104   1.0554\n",
       "204      procedure    7.104736  113.821910   Topic9  -5.5977   0.2739\n",
       "205        process    6.759655  133.583736   Topic9  -5.6475   0.0640\n",
       "89          failed    6.730605  129.867127   Topic9  -5.6518   0.0880\n",
       "\n",
       "[673 rows x 6 columns], token_table=      Topic      Freq           Term\n",
       "term                                \n",
       "3669      5  0.768118        aborted\n",
       "1161      6  0.912576  acetaminophen\n",
       "2986      1  0.142339        achieve\n",
       "2986      5  0.711694        achieve\n",
       "3         1  0.041707         action\n",
       "...     ...       ...            ...\n",
       "1002      2  0.324570       zip_code\n",
       "1002      3  0.027048       zip_code\n",
       "1002      4  0.540951       zip_code\n",
       "1002      5  0.027048       zip_code\n",
       "1002      8  0.027048       zip_code\n",
       "\n",
       "[1599 rows x 3 columns], R=30, lambda_step=0.01, plot_opts={'xlab': 'PC1', 'ylab': 'PC2'}, topic_order=[8, 4, 5, 2, 3, 1, 7, 9, 6])"
      ]
     },
     "execution_count": 44,
     "metadata": {},
     "output_type": "execute_result"
    }
   ],
   "source": [
    "# Visualize the topics\n",
    "pyLDAvis.enable_notebook()\n",
    "vis = pyLDAvis.gensim.prepare(lda_model, corpus, id2word)\n",
    "vis"
   ]
  },
  {
   "cell_type": "code",
   "execution_count": 45,
   "metadata": {},
   "outputs": [
    {
     "name": "stdout",
     "output_type": "stream",
     "text": [
      "[(0,\n",
      "  '0.018*\"sample\" + 0.018*\"investigation\" + 0.017*\"cleaning\" + 0.015*\"batch\" + '\n",
      "  '0.014*\"product\" + 0.013*\"result\" + 0.013*\"oos\" + 0.010*\"tablet\" + '\n",
      "  '0.010*\"equipment\" + 0.008*\"initiated\"'),\n",
      " (1,\n",
      "  '0.028*\"drug\" + 0.027*\"product\" + 0.023*\"non\" + 0.015*\"produced\" + '\n",
      "  '0.015*\"sterile\" + 0.014*\"made\" + 0.013*\"used\" + 0.013*\"observed\" + '\n",
      "  '0.012*\"hood\" + 0.012*\"lot\"'),\n",
      " (2,\n",
      "  '0.019*\"sterile\" + 0.015*\"iso\" + 0.013*\"production\" + 0.012*\"product\" + '\n",
      "  '0.012*\"used\" + 0.011*\"lot\" + 0.011*\"cleaning\" + 0.010*\"observed\" + '\n",
      "  '0.009*\"drug\" + 0.008*\"area\"'),\n",
      " (3,\n",
      "  '0.036*\"iso\" + 0.034*\"room\" + 0.019*\"area\" + 0.016*\"drug\" + 0.014*\"air\" + '\n",
      "  '0.013*\"product\" + 0.013*\"sterile\" + 0.011*\"hood\" + 0.011*\"hazardous\" + '\n",
      "  '0.011*\"classified\"'),\n",
      " (4,\n",
      "  '0.028*\"sterile\" + 0.019*\"iso\" + 0.014*\"product\" + 0.013*\"technician\" + '\n",
      "  '0.012*\"drug\" + 0.011*\"lot\" + 0.009*\"hood\" + 0.009*\"area\" + 0.008*\"sample\" + '\n",
      "  '0.008*\"tn\"'),\n",
      " (5,\n",
      "  '0.020*\"product\" + 0.011*\"review\" + 0.011*\"usp\" + 0.011*\"drug\" + 0.008*\"lot\" '\n",
      "  '+ 0.007*\"observed\" + 0.007*\"sop\" + 0.006*\"vial\" + 0.006*\"batch\" + '\n",
      "  '0.006*\"powder\"'),\n",
      " (6,\n",
      "  '0.016*\"lot\" + 0.014*\"product\" + 0.012*\"vial\" + 0.009*\"observed\" + '\n",
      "  '0.008*\"sterile\" + 0.008*\"report\" + 0.007*\"failure\" + 0.007*\"media_fill\" + '\n",
      "  '0.007*\"batch\" + 0.007*\"failed\"'),\n",
      " (7,\n",
      "  '0.034*\"drug\" + 0.027*\"product\" + 0.014*\"batch\" + 0.014*\"lot\" + '\n",
      "  '0.014*\"quality\" + 0.012*\"investigation\" + 0.009*\"testing\" + 0.008*\"control\" '\n",
      "  '+ 0.008*\"inspection\" + 0.008*\"specification\"'),\n",
      " (8,\n",
      "  '0.018*\"product\" + 0.017*\"area\" + 0.014*\"injection\" + 0.013*\"drug\" + '\n",
      "  '0.013*\"information\" + 0.011*\"iso\" + 0.010*\"observed\" + 0.009*\"label\" + '\n",
      "  '0.009*\"room\" + 0.009*\"observation\"')]\n"
     ]
    }
   ],
   "source": [
    "# Print the Keywords in the 10 topics\n",
    "pprint(lda_model.print_topics())\n",
    "doc_lda = lda_model[corpus]"
   ]
  },
  {
   "cell_type": "markdown",
   "metadata": {},
   "source": [
    "### Assigning Observations to Topics"
   ]
  },
  {
   "cell_type": "markdown",
   "metadata": {},
   "source": [
    "Since we have a list of topics which observations can be grouped in, it is now possible to assign each observation from the original dataframe to the topic it most strongly fits into. This will in turn allow us to compare the prevalence of each topic against the other topics, as well as evaluate if any of these topics are surging in popularity at any given time in the past two years."
   ]
  },
  {
   "cell_type": "code",
   "execution_count": 46,
   "metadata": {},
   "outputs": [
    {
     "name": "stderr",
     "output_type": "stream",
     "text": [
      "C:\\Users\\ncruickshank\\Anaconda3\\envs\\pyr\\lib\\site-packages\\ipykernel_launcher.py:14: SettingWithCopyWarning:\n",
      "\n",
      "\n",
      "A value is trying to be set on a copy of a slice from a DataFrame.\n",
      "Try using .loc[row_indexer,col_indexer] = value instead\n",
      "\n",
      "See the caveats in the documentation: https://pandas.pydata.org/pandas-docs/stable/user_guide/indexing.html#returning-a-view-versus-a-copy\n",
      "\n",
      "C:\\Users\\ncruickshank\\Anaconda3\\envs\\pyr\\lib\\site-packages\\ipykernel_launcher.py:15: SettingWithCopyWarning:\n",
      "\n",
      "\n",
      "A value is trying to be set on a copy of a slice from a DataFrame.\n",
      "Try using .loc[row_indexer,col_indexer] = value instead\n",
      "\n",
      "See the caveats in the documentation: https://pandas.pydata.org/pandas-docs/stable/user_guide/indexing.html#returning-a-view-versus-a-copy\n",
      "\n",
      "C:\\Users\\ncruickshank\\Anaconda3\\envs\\pyr\\lib\\site-packages\\ipykernel_launcher.py:16: SettingWithCopyWarning:\n",
      "\n",
      "\n",
      "A value is trying to be set on a copy of a slice from a DataFrame.\n",
      "Try using .loc[row_indexer,col_indexer] = value instead\n",
      "\n",
      "See the caveats in the documentation: https://pandas.pydata.org/pandas-docs/stable/user_guide/indexing.html#returning-a-view-versus-a-copy\n",
      "\n"
     ]
    }
   ],
   "source": [
    "# assign each citation to the most probable topic\n",
    "topics = []\n",
    "for line in obs_lem:\n",
    "    t = [line]\n",
    "    corpus2 = [id2word.doc2bow(w) for w in t]\n",
    "    T_dis = list(lda_model[corpus2])[0]\n",
    "    topics.append(max(T_dis))\n",
    "\n",
    "# reformat the topics list for compatible df reshaping\n",
    "s_topics = pd.Series(topics)\n",
    "\n",
    "# join the prediced topics to the observations df\n",
    "rr2 = rr1\n",
    "rr2['topic_number'] = [n for (n,p) in s_topics.values]\n",
    "rr2['topic_number'] = rr2['topic_number'].astype(str)\n",
    "rr2['topic_probability'] = [p for (n,p) in s_topics.values]"
   ]
  },
  {
   "cell_type": "markdown",
   "metadata": {},
   "source": [
    "#### Observation Topic Prominence"
   ]
  },
  {
   "cell_type": "code",
   "execution_count": 47,
   "metadata": {},
   "outputs": [
    {
     "data": {
      "application/vnd.plotly.v1+json": {
       "config": {
        "plotlyServerURL": "https://plot.ly"
       },
       "data": [
        {
         "alignmentgroup": "True",
         "hovertemplate": "topic_number=%{x}<br>count=%{y}<extra></extra>",
         "legendgroup": "",
         "marker": {
          "color": "#636efa"
         },
         "name": "",
         "offsetgroup": "",
         "orientation": "v",
         "showlegend": false,
         "textposition": "auto",
         "type": "bar",
         "x": [
          "7",
          "8",
          "3",
          "4",
          "2",
          "5",
          "6",
          "1"
         ],
         "xaxis": "x",
         "y": [
          136,
          62,
          42,
          35,
          24,
          16,
          15,
          13
         ],
         "yaxis": "y"
        }
       ],
       "layout": {
        "autosize": true,
        "barmode": "relative",
        "legend": {
         "tracegroupgap": 0
        },
        "template": {
         "data": {
          "bar": [
           {
            "error_x": {
             "color": "#2a3f5f"
            },
            "error_y": {
             "color": "#2a3f5f"
            },
            "marker": {
             "line": {
              "color": "#E5ECF6",
              "width": 0.5
             }
            },
            "type": "bar"
           }
          ],
          "barpolar": [
           {
            "marker": {
             "line": {
              "color": "#E5ECF6",
              "width": 0.5
             }
            },
            "type": "barpolar"
           }
          ],
          "carpet": [
           {
            "aaxis": {
             "endlinecolor": "#2a3f5f",
             "gridcolor": "white",
             "linecolor": "white",
             "minorgridcolor": "white",
             "startlinecolor": "#2a3f5f"
            },
            "baxis": {
             "endlinecolor": "#2a3f5f",
             "gridcolor": "white",
             "linecolor": "white",
             "minorgridcolor": "white",
             "startlinecolor": "#2a3f5f"
            },
            "type": "carpet"
           }
          ],
          "choropleth": [
           {
            "colorbar": {
             "outlinewidth": 0,
             "ticks": ""
            },
            "type": "choropleth"
           }
          ],
          "contour": [
           {
            "colorbar": {
             "outlinewidth": 0,
             "ticks": ""
            },
            "colorscale": [
             [
              0,
              "#0d0887"
             ],
             [
              0.1111111111111111,
              "#46039f"
             ],
             [
              0.2222222222222222,
              "#7201a8"
             ],
             [
              0.3333333333333333,
              "#9c179e"
             ],
             [
              0.4444444444444444,
              "#bd3786"
             ],
             [
              0.5555555555555556,
              "#d8576b"
             ],
             [
              0.6666666666666666,
              "#ed7953"
             ],
             [
              0.7777777777777778,
              "#fb9f3a"
             ],
             [
              0.8888888888888888,
              "#fdca26"
             ],
             [
              1,
              "#f0f921"
             ]
            ],
            "type": "contour"
           }
          ],
          "contourcarpet": [
           {
            "colorbar": {
             "outlinewidth": 0,
             "ticks": ""
            },
            "type": "contourcarpet"
           }
          ],
          "heatmap": [
           {
            "colorbar": {
             "outlinewidth": 0,
             "ticks": ""
            },
            "colorscale": [
             [
              0,
              "#0d0887"
             ],
             [
              0.1111111111111111,
              "#46039f"
             ],
             [
              0.2222222222222222,
              "#7201a8"
             ],
             [
              0.3333333333333333,
              "#9c179e"
             ],
             [
              0.4444444444444444,
              "#bd3786"
             ],
             [
              0.5555555555555556,
              "#d8576b"
             ],
             [
              0.6666666666666666,
              "#ed7953"
             ],
             [
              0.7777777777777778,
              "#fb9f3a"
             ],
             [
              0.8888888888888888,
              "#fdca26"
             ],
             [
              1,
              "#f0f921"
             ]
            ],
            "type": "heatmap"
           }
          ],
          "heatmapgl": [
           {
            "colorbar": {
             "outlinewidth": 0,
             "ticks": ""
            },
            "colorscale": [
             [
              0,
              "#0d0887"
             ],
             [
              0.1111111111111111,
              "#46039f"
             ],
             [
              0.2222222222222222,
              "#7201a8"
             ],
             [
              0.3333333333333333,
              "#9c179e"
             ],
             [
              0.4444444444444444,
              "#bd3786"
             ],
             [
              0.5555555555555556,
              "#d8576b"
             ],
             [
              0.6666666666666666,
              "#ed7953"
             ],
             [
              0.7777777777777778,
              "#fb9f3a"
             ],
             [
              0.8888888888888888,
              "#fdca26"
             ],
             [
              1,
              "#f0f921"
             ]
            ],
            "type": "heatmapgl"
           }
          ],
          "histogram": [
           {
            "marker": {
             "colorbar": {
              "outlinewidth": 0,
              "ticks": ""
             }
            },
            "type": "histogram"
           }
          ],
          "histogram2d": [
           {
            "colorbar": {
             "outlinewidth": 0,
             "ticks": ""
            },
            "colorscale": [
             [
              0,
              "#0d0887"
             ],
             [
              0.1111111111111111,
              "#46039f"
             ],
             [
              0.2222222222222222,
              "#7201a8"
             ],
             [
              0.3333333333333333,
              "#9c179e"
             ],
             [
              0.4444444444444444,
              "#bd3786"
             ],
             [
              0.5555555555555556,
              "#d8576b"
             ],
             [
              0.6666666666666666,
              "#ed7953"
             ],
             [
              0.7777777777777778,
              "#fb9f3a"
             ],
             [
              0.8888888888888888,
              "#fdca26"
             ],
             [
              1,
              "#f0f921"
             ]
            ],
            "type": "histogram2d"
           }
          ],
          "histogram2dcontour": [
           {
            "colorbar": {
             "outlinewidth": 0,
             "ticks": ""
            },
            "colorscale": [
             [
              0,
              "#0d0887"
             ],
             [
              0.1111111111111111,
              "#46039f"
             ],
             [
              0.2222222222222222,
              "#7201a8"
             ],
             [
              0.3333333333333333,
              "#9c179e"
             ],
             [
              0.4444444444444444,
              "#bd3786"
             ],
             [
              0.5555555555555556,
              "#d8576b"
             ],
             [
              0.6666666666666666,
              "#ed7953"
             ],
             [
              0.7777777777777778,
              "#fb9f3a"
             ],
             [
              0.8888888888888888,
              "#fdca26"
             ],
             [
              1,
              "#f0f921"
             ]
            ],
            "type": "histogram2dcontour"
           }
          ],
          "mesh3d": [
           {
            "colorbar": {
             "outlinewidth": 0,
             "ticks": ""
            },
            "type": "mesh3d"
           }
          ],
          "parcoords": [
           {
            "line": {
             "colorbar": {
              "outlinewidth": 0,
              "ticks": ""
             }
            },
            "type": "parcoords"
           }
          ],
          "pie": [
           {
            "automargin": true,
            "type": "pie"
           }
          ],
          "scatter": [
           {
            "marker": {
             "colorbar": {
              "outlinewidth": 0,
              "ticks": ""
             }
            },
            "type": "scatter"
           }
          ],
          "scatter3d": [
           {
            "line": {
             "colorbar": {
              "outlinewidth": 0,
              "ticks": ""
             }
            },
            "marker": {
             "colorbar": {
              "outlinewidth": 0,
              "ticks": ""
             }
            },
            "type": "scatter3d"
           }
          ],
          "scattercarpet": [
           {
            "marker": {
             "colorbar": {
              "outlinewidth": 0,
              "ticks": ""
             }
            },
            "type": "scattercarpet"
           }
          ],
          "scattergeo": [
           {
            "marker": {
             "colorbar": {
              "outlinewidth": 0,
              "ticks": ""
             }
            },
            "type": "scattergeo"
           }
          ],
          "scattergl": [
           {
            "marker": {
             "colorbar": {
              "outlinewidth": 0,
              "ticks": ""
             }
            },
            "type": "scattergl"
           }
          ],
          "scattermapbox": [
           {
            "marker": {
             "colorbar": {
              "outlinewidth": 0,
              "ticks": ""
             }
            },
            "type": "scattermapbox"
           }
          ],
          "scatterpolar": [
           {
            "marker": {
             "colorbar": {
              "outlinewidth": 0,
              "ticks": ""
             }
            },
            "type": "scatterpolar"
           }
          ],
          "scatterpolargl": [
           {
            "marker": {
             "colorbar": {
              "outlinewidth": 0,
              "ticks": ""
             }
            },
            "type": "scatterpolargl"
           }
          ],
          "scatterternary": [
           {
            "marker": {
             "colorbar": {
              "outlinewidth": 0,
              "ticks": ""
             }
            },
            "type": "scatterternary"
           }
          ],
          "surface": [
           {
            "colorbar": {
             "outlinewidth": 0,
             "ticks": ""
            },
            "colorscale": [
             [
              0,
              "#0d0887"
             ],
             [
              0.1111111111111111,
              "#46039f"
             ],
             [
              0.2222222222222222,
              "#7201a8"
             ],
             [
              0.3333333333333333,
              "#9c179e"
             ],
             [
              0.4444444444444444,
              "#bd3786"
             ],
             [
              0.5555555555555556,
              "#d8576b"
             ],
             [
              0.6666666666666666,
              "#ed7953"
             ],
             [
              0.7777777777777778,
              "#fb9f3a"
             ],
             [
              0.8888888888888888,
              "#fdca26"
             ],
             [
              1,
              "#f0f921"
             ]
            ],
            "type": "surface"
           }
          ],
          "table": [
           {
            "cells": {
             "fill": {
              "color": "#EBF0F8"
             },
             "line": {
              "color": "white"
             }
            },
            "header": {
             "fill": {
              "color": "#C8D4E3"
             },
             "line": {
              "color": "white"
             }
            },
            "type": "table"
           }
          ]
         },
         "layout": {
          "annotationdefaults": {
           "arrowcolor": "#2a3f5f",
           "arrowhead": 0,
           "arrowwidth": 1
          },
          "autotypenumbers": "strict",
          "coloraxis": {
           "colorbar": {
            "outlinewidth": 0,
            "ticks": ""
           }
          },
          "colorscale": {
           "diverging": [
            [
             0,
             "#8e0152"
            ],
            [
             0.1,
             "#c51b7d"
            ],
            [
             0.2,
             "#de77ae"
            ],
            [
             0.3,
             "#f1b6da"
            ],
            [
             0.4,
             "#fde0ef"
            ],
            [
             0.5,
             "#f7f7f7"
            ],
            [
             0.6,
             "#e6f5d0"
            ],
            [
             0.7,
             "#b8e186"
            ],
            [
             0.8,
             "#7fbc41"
            ],
            [
             0.9,
             "#4d9221"
            ],
            [
             1,
             "#276419"
            ]
           ],
           "sequential": [
            [
             0,
             "#0d0887"
            ],
            [
             0.1111111111111111,
             "#46039f"
            ],
            [
             0.2222222222222222,
             "#7201a8"
            ],
            [
             0.3333333333333333,
             "#9c179e"
            ],
            [
             0.4444444444444444,
             "#bd3786"
            ],
            [
             0.5555555555555556,
             "#d8576b"
            ],
            [
             0.6666666666666666,
             "#ed7953"
            ],
            [
             0.7777777777777778,
             "#fb9f3a"
            ],
            [
             0.8888888888888888,
             "#fdca26"
            ],
            [
             1,
             "#f0f921"
            ]
           ],
           "sequentialminus": [
            [
             0,
             "#0d0887"
            ],
            [
             0.1111111111111111,
             "#46039f"
            ],
            [
             0.2222222222222222,
             "#7201a8"
            ],
            [
             0.3333333333333333,
             "#9c179e"
            ],
            [
             0.4444444444444444,
             "#bd3786"
            ],
            [
             0.5555555555555556,
             "#d8576b"
            ],
            [
             0.6666666666666666,
             "#ed7953"
            ],
            [
             0.7777777777777778,
             "#fb9f3a"
            ],
            [
             0.8888888888888888,
             "#fdca26"
            ],
            [
             1,
             "#f0f921"
            ]
           ]
          },
          "colorway": [
           "#636efa",
           "#EF553B",
           "#00cc96",
           "#ab63fa",
           "#FFA15A",
           "#19d3f3",
           "#FF6692",
           "#B6E880",
           "#FF97FF",
           "#FECB52"
          ],
          "font": {
           "color": "#2a3f5f"
          },
          "geo": {
           "bgcolor": "white",
           "lakecolor": "white",
           "landcolor": "#E5ECF6",
           "showlakes": true,
           "showland": true,
           "subunitcolor": "white"
          },
          "hoverlabel": {
           "align": "left"
          },
          "hovermode": "closest",
          "mapbox": {
           "style": "light"
          },
          "paper_bgcolor": "white",
          "plot_bgcolor": "#E5ECF6",
          "polar": {
           "angularaxis": {
            "gridcolor": "white",
            "linecolor": "white",
            "ticks": ""
           },
           "bgcolor": "#E5ECF6",
           "radialaxis": {
            "gridcolor": "white",
            "linecolor": "white",
            "ticks": ""
           }
          },
          "scene": {
           "xaxis": {
            "backgroundcolor": "#E5ECF6",
            "gridcolor": "white",
            "gridwidth": 2,
            "linecolor": "white",
            "showbackground": true,
            "ticks": "",
            "zerolinecolor": "white"
           },
           "yaxis": {
            "backgroundcolor": "#E5ECF6",
            "gridcolor": "white",
            "gridwidth": 2,
            "linecolor": "white",
            "showbackground": true,
            "ticks": "",
            "zerolinecolor": "white"
           },
           "zaxis": {
            "backgroundcolor": "#E5ECF6",
            "gridcolor": "white",
            "gridwidth": 2,
            "linecolor": "white",
            "showbackground": true,
            "ticks": "",
            "zerolinecolor": "white"
           }
          },
          "shapedefaults": {
           "line": {
            "color": "#2a3f5f"
           }
          },
          "ternary": {
           "aaxis": {
            "gridcolor": "white",
            "linecolor": "white",
            "ticks": ""
           },
           "baxis": {
            "gridcolor": "white",
            "linecolor": "white",
            "ticks": ""
           },
           "bgcolor": "#E5ECF6",
           "caxis": {
            "gridcolor": "white",
            "linecolor": "white",
            "ticks": ""
           }
          },
          "title": {
           "x": 0.05
          },
          "xaxis": {
           "automargin": true,
           "gridcolor": "white",
           "linecolor": "white",
           "ticks": "",
           "title": {
            "standoff": 15
           },
           "zerolinecolor": "white",
           "zerolinewidth": 2
          },
          "yaxis": {
           "automargin": true,
           "gridcolor": "white",
           "linecolor": "white",
           "ticks": "",
           "title": {
            "standoff": 15
           },
           "zerolinecolor": "white",
           "zerolinewidth": 2
          }
         }
        },
        "title": {
         "text": "Prominence of obervation topics during FDA Audits from 05/20/2019 to 05/19/2021"
        },
        "xaxis": {
         "anchor": "y",
         "autorange": true,
         "domain": [
          0,
          1
         ],
         "range": [
          -0.5,
          7.5
         ],
         "title": {
          "text": "topic_number"
         },
         "type": "category"
        },
        "yaxis": {
         "anchor": "x",
         "autorange": true,
         "domain": [
          0,
          1
         ],
         "range": [
          0,
          143.1578947368421
         ],
         "title": {
          "text": "count"
         },
         "type": "linear"
        }
       }
      },
      "image/png": "[encoded data removed]",
      "text/html": [
       "<div>                            <div id=\"ddb07f28-16bf-4b5f-8623-19d40b21799f\" class=\"plotly-graph-div\" style=\"height:525px; width:100%;\"></div>            <script type=\"text/javascript\">                require([\"plotly\"], function(Plotly) {                    window.PLOTLYENV=window.PLOTLYENV || {};                                    if (document.getElementById(\"ddb07f28-16bf-4b5f-8623-19d40b21799f\")) {                    Plotly.newPlot(                        \"ddb07f28-16bf-4b5f-8623-19d40b21799f\",                        [{\"alignmentgroup\": \"True\", \"hovertemplate\": \"topic_number=%{x}<br>count=%{y}<extra></extra>\", \"legendgroup\": \"\", \"marker\": {\"color\": \"#636efa\"}, \"name\": \"\", \"offsetgroup\": \"\", \"orientation\": \"v\", \"showlegend\": false, \"textposition\": \"auto\", \"type\": \"bar\", \"x\": [\"7\", \"8\", \"3\", \"4\", \"2\", \"5\", \"6\", \"1\"], \"xaxis\": \"x\", \"y\": [136, 62, 42, 35, 24, 16, 15, 13], \"yaxis\": \"y\"}],                        {\"barmode\": \"relative\", \"legend\": {\"tracegroupgap\": 0}, \"template\": {\"data\": {\"bar\": [{\"error_x\": {\"color\": \"#2a3f5f\"}, \"error_y\": {\"color\": \"#2a3f5f\"}, \"marker\": {\"line\": {\"color\": \"#E5ECF6\", \"width\": 0.5}}, \"type\": \"bar\"}], \"barpolar\": [{\"marker\": {\"line\": {\"color\": \"#E5ECF6\", \"width\": 0.5}}, \"type\": \"barpolar\"}], \"carpet\": [{\"aaxis\": {\"endlinecolor\": \"#2a3f5f\", \"gridcolor\": \"white\", \"linecolor\": \"white\", \"minorgridcolor\": \"white\", \"startlinecolor\": \"#2a3f5f\"}, \"baxis\": {\"endlinecolor\": \"#2a3f5f\", \"gridcolor\": \"white\", \"linecolor\": \"white\", \"minorgridcolor\": \"white\", \"startlinecolor\": \"#2a3f5f\"}, \"type\": \"carpet\"}], \"choropleth\": [{\"colorbar\": {\"outlinewidth\": 0, \"ticks\": \"\"}, \"type\": \"choropleth\"}], \"contour\": [{\"colorbar\": {\"outlinewidth\": 0, \"ticks\": \"\"}, \"colorscale\": [[0.0, \"#0d0887\"], [0.1111111111111111, \"#46039f\"], [0.2222222222222222, \"#7201a8\"], [0.3333333333333333, \"#9c179e\"], [0.4444444444444444, \"#bd3786\"], [0.5555555555555556, \"#d8576b\"], [0.6666666666666666, \"#ed7953\"], [0.7777777777777778, \"#fb9f3a\"], [0.8888888888888888, \"#fdca26\"], [1.0, \"#f0f921\"]], \"type\": \"contour\"}], \"contourcarpet\": [{\"colorbar\": {\"outlinewidth\": 0, \"ticks\": \"\"}, \"type\": \"contourcarpet\"}], \"heatmap\": [{\"colorbar\": {\"outlinewidth\": 0, \"ticks\": \"\"}, \"colorscale\": [[0.0, \"#0d0887\"], [0.1111111111111111, \"#46039f\"], [0.2222222222222222, \"#7201a8\"], [0.3333333333333333, \"#9c179e\"], [0.4444444444444444, \"#bd3786\"], [0.5555555555555556, \"#d8576b\"], [0.6666666666666666, \"#ed7953\"], [0.7777777777777778, \"#fb9f3a\"], [0.8888888888888888, \"#fdca26\"], [1.0, \"#f0f921\"]], \"type\": \"heatmap\"}], \"heatmapgl\": [{\"colorbar\": {\"outlinewidth\": 0, \"ticks\": \"\"}, \"colorscale\": [[0.0, \"#0d0887\"], [0.1111111111111111, \"#46039f\"], [0.2222222222222222, \"#7201a8\"], [0.3333333333333333, \"#9c179e\"], [0.4444444444444444, \"#bd3786\"], [0.5555555555555556, \"#d8576b\"], [0.6666666666666666, \"#ed7953\"], [0.7777777777777778, \"#fb9f3a\"], [0.8888888888888888, \"#fdca26\"], [1.0, \"#f0f921\"]], \"type\": \"heatmapgl\"}], \"histogram\": [{\"marker\": {\"colorbar\": {\"outlinewidth\": 0, \"ticks\": \"\"}}, \"type\": \"histogram\"}], \"histogram2d\": [{\"colorbar\": {\"outlinewidth\": 0, \"ticks\": \"\"}, \"colorscale\": [[0.0, \"#0d0887\"], [0.1111111111111111, \"#46039f\"], [0.2222222222222222, \"#7201a8\"], [0.3333333333333333, \"#9c179e\"], [0.4444444444444444, \"#bd3786\"], [0.5555555555555556, \"#d8576b\"], [0.6666666666666666, \"#ed7953\"], [0.7777777777777778, \"#fb9f3a\"], [0.8888888888888888, \"#fdca26\"], [1.0, \"#f0f921\"]], \"type\": \"histogram2d\"}], \"histogram2dcontour\": [{\"colorbar\": {\"outlinewidth\": 0, \"ticks\": \"\"}, \"colorscale\": [[0.0, \"#0d0887\"], [0.1111111111111111, \"#46039f\"], [0.2222222222222222, \"#7201a8\"], [0.3333333333333333, \"#9c179e\"], [0.4444444444444444, \"#bd3786\"], [0.5555555555555556, \"#d8576b\"], [0.6666666666666666, \"#ed7953\"], [0.7777777777777778, \"#fb9f3a\"], [0.8888888888888888, \"#fdca26\"], [1.0, \"#f0f921\"]], \"type\": \"histogram2dcontour\"}], \"mesh3d\": [{\"colorbar\": {\"outlinewidth\": 0, \"ticks\": \"\"}, \"type\": \"mesh3d\"}], \"parcoords\": [{\"line\": {\"colorbar\": {\"outlinewidth\": 0, \"ticks\": \"\"}}, \"type\": \"parcoords\"}], \"pie\": [{\"automargin\": true, \"type\": \"pie\"}], \"scatter\": [{\"marker\": {\"colorbar\": {\"outlinewidth\": 0, \"ticks\": \"\"}}, \"type\": \"scatter\"}], \"scatter3d\": [{\"line\": {\"colorbar\": {\"outlinewidth\": 0, \"ticks\": \"\"}}, \"marker\": {\"colorbar\": {\"outlinewidth\": 0, \"ticks\": \"\"}}, \"type\": \"scatter3d\"}], \"scattercarpet\": [{\"marker\": {\"colorbar\": {\"outlinewidth\": 0, \"ticks\": \"\"}}, \"type\": \"scattercarpet\"}], \"scattergeo\": [{\"marker\": {\"colorbar\": {\"outlinewidth\": 0, \"ticks\": \"\"}}, \"type\": \"scattergeo\"}], \"scattergl\": [{\"marker\": {\"colorbar\": {\"outlinewidth\": 0, \"ticks\": \"\"}}, \"type\": \"scattergl\"}], \"scattermapbox\": [{\"marker\": {\"colorbar\": {\"outlinewidth\": 0, \"ticks\": \"\"}}, \"type\": \"scattermapbox\"}], \"scatterpolar\": [{\"marker\": {\"colorbar\": {\"outlinewidth\": 0, \"ticks\": \"\"}}, \"type\": \"scatterpolar\"}], \"scatterpolargl\": [{\"marker\": {\"colorbar\": {\"outlinewidth\": 0, \"ticks\": \"\"}}, \"type\": \"scatterpolargl\"}], \"scatterternary\": [{\"marker\": {\"colorbar\": {\"outlinewidth\": 0, \"ticks\": \"\"}}, \"type\": \"scatterternary\"}], \"surface\": [{\"colorbar\": {\"outlinewidth\": 0, \"ticks\": \"\"}, \"colorscale\": [[0.0, \"#0d0887\"], [0.1111111111111111, \"#46039f\"], [0.2222222222222222, \"#7201a8\"], [0.3333333333333333, \"#9c179e\"], [0.4444444444444444, \"#bd3786\"], [0.5555555555555556, \"#d8576b\"], [0.6666666666666666, \"#ed7953\"], [0.7777777777777778, \"#fb9f3a\"], [0.8888888888888888, \"#fdca26\"], [1.0, \"#f0f921\"]], \"type\": \"surface\"}], \"table\": [{\"cells\": {\"fill\": {\"color\": \"#EBF0F8\"}, \"line\": {\"color\": \"white\"}}, \"header\": {\"fill\": {\"color\": \"#C8D4E3\"}, \"line\": {\"color\": \"white\"}}, \"type\": \"table\"}]}, \"layout\": {\"annotationdefaults\": {\"arrowcolor\": \"#2a3f5f\", \"arrowhead\": 0, \"arrowwidth\": 1}, \"autotypenumbers\": \"strict\", \"coloraxis\": {\"colorbar\": {\"outlinewidth\": 0, \"ticks\": \"\"}}, \"colorscale\": {\"diverging\": [[0, \"#8e0152\"], [0.1, \"#c51b7d\"], [0.2, \"#de77ae\"], [0.3, \"#f1b6da\"], [0.4, \"#fde0ef\"], [0.5, \"#f7f7f7\"], [0.6, \"#e6f5d0\"], [0.7, \"#b8e186\"], [0.8, \"#7fbc41\"], [0.9, \"#4d9221\"], [1, \"#276419\"]], \"sequential\": [[0.0, \"#0d0887\"], [0.1111111111111111, \"#46039f\"], [0.2222222222222222, \"#7201a8\"], [0.3333333333333333, \"#9c179e\"], [0.4444444444444444, \"#bd3786\"], [0.5555555555555556, \"#d8576b\"], [0.6666666666666666, \"#ed7953\"], [0.7777777777777778, \"#fb9f3a\"], [0.8888888888888888, \"#fdca26\"], [1.0, \"#f0f921\"]], \"sequentialminus\": [[0.0, \"#0d0887\"], [0.1111111111111111, \"#46039f\"], [0.2222222222222222, \"#7201a8\"], [0.3333333333333333, \"#9c179e\"], [0.4444444444444444, \"#bd3786\"], [0.5555555555555556, \"#d8576b\"], [0.6666666666666666, \"#ed7953\"], [0.7777777777777778, \"#fb9f3a\"], [0.8888888888888888, \"#fdca26\"], [1.0, \"#f0f921\"]]}, \"colorway\": [\"#636efa\", \"#EF553B\", \"#00cc96\", \"#ab63fa\", \"#FFA15A\", \"#19d3f3\", \"#FF6692\", \"#B6E880\", \"#FF97FF\", \"#FECB52\"], \"font\": {\"color\": \"#2a3f5f\"}, \"geo\": {\"bgcolor\": \"white\", \"lakecolor\": \"white\", \"landcolor\": \"#E5ECF6\", \"showlakes\": true, \"showland\": true, \"subunitcolor\": \"white\"}, \"hoverlabel\": {\"align\": \"left\"}, \"hovermode\": \"closest\", \"mapbox\": {\"style\": \"light\"}, \"paper_bgcolor\": \"white\", \"plot_bgcolor\": \"#E5ECF6\", \"polar\": {\"angularaxis\": {\"gridcolor\": \"white\", \"linecolor\": \"white\", \"ticks\": \"\"}, \"bgcolor\": \"#E5ECF6\", \"radialaxis\": {\"gridcolor\": \"white\", \"linecolor\": \"white\", \"ticks\": \"\"}}, \"scene\": {\"xaxis\": {\"backgroundcolor\": \"#E5ECF6\", \"gridcolor\": \"white\", \"gridwidth\": 2, \"linecolor\": \"white\", \"showbackground\": true, \"ticks\": \"\", \"zerolinecolor\": \"white\"}, \"yaxis\": {\"backgroundcolor\": \"#E5ECF6\", \"gridcolor\": \"white\", \"gridwidth\": 2, \"linecolor\": \"white\", \"showbackground\": true, \"ticks\": \"\", \"zerolinecolor\": \"white\"}, \"zaxis\": {\"backgroundcolor\": \"#E5ECF6\", \"gridcolor\": \"white\", \"gridwidth\": 2, \"linecolor\": \"white\", \"showbackground\": true, \"ticks\": \"\", \"zerolinecolor\": \"white\"}}, \"shapedefaults\": {\"line\": {\"color\": \"#2a3f5f\"}}, \"ternary\": {\"aaxis\": {\"gridcolor\": \"white\", \"linecolor\": \"white\", \"ticks\": \"\"}, \"baxis\": {\"gridcolor\": \"white\", \"linecolor\": \"white\", \"ticks\": \"\"}, \"bgcolor\": \"#E5ECF6\", \"caxis\": {\"gridcolor\": \"white\", \"linecolor\": \"white\", \"ticks\": \"\"}}, \"title\": {\"x\": 0.05}, \"xaxis\": {\"automargin\": true, \"gridcolor\": \"white\", \"linecolor\": \"white\", \"ticks\": \"\", \"title\": {\"standoff\": 15}, \"zerolinecolor\": \"white\", \"zerolinewidth\": 2}, \"yaxis\": {\"automargin\": true, \"gridcolor\": \"white\", \"linecolor\": \"white\", \"ticks\": \"\", \"title\": {\"standoff\": 15}, \"zerolinecolor\": \"white\", \"zerolinewidth\": 2}}}, \"title\": {\"text\": \"Prominence of obervation topics during FDA Audits from 05/20/2019 to 05/19/2021\"}, \"xaxis\": {\"anchor\": \"y\", \"domain\": [0.0, 1.0], \"title\": {\"text\": \"topic_number\"}}, \"yaxis\": {\"anchor\": \"x\", \"domain\": [0.0, 1.0], \"title\": {\"text\": \"count\"}}},                        {\"responsive\": true}                    ).then(function(){\n",
       "                            \n",
       "var gd = document.getElementById('ddb07f28-16bf-4b5f-8623-19d40b21799f');\n",
       "var x = new MutationObserver(function (mutations, observer) {{\n",
       "        var display = window.getComputedStyle(gd).display;\n",
       "        if (!display || display === 'none') {{\n",
       "            console.log([gd, 'removed!']);\n",
       "            Plotly.purge(gd);\n",
       "            observer.disconnect();\n",
       "        }}\n",
       "}});\n",
       "\n",
       "// Listen for the removal of the full notebook cells\n",
       "var notebookContainer = gd.closest('#notebook-container');\n",
       "if (notebookContainer) {{\n",
       "    x.observe(notebookContainer, {childList: true});\n",
       "}}\n",
       "\n",
       "// Listen for the clearing of the current output cell\n",
       "var outputEl = gd.closest('.output');\n",
       "if (outputEl) {{\n",
       "    x.observe(outputEl, {childList: true});\n",
       "}}\n",
       "\n",
       "                        })                };                });            </script>        </div>"
      ]
     },
     "metadata": {},
     "output_type": "display_data"
    }
   ],
   "source": [
    "rr2_groups = rr2.groupby('topic_number').size().reset_index(name = 'count').sort_values(by = 'count', ascending = False)\n",
    "fig = px.bar(rr2_groups, x = 'topic_number', y = 'count',\n",
    "             title = \"Prominence of obervation topics during FDA Audits from {} to {}\".format(two_years_ago_formatted, today_formatted))\n",
    "fig"
   ]
  },
  {
   "cell_type": "markdown",
   "metadata": {},
   "source": [
    "#### Timeline of Observation Topic Popularity"
   ]
  },
  {
   "cell_type": "code",
   "execution_count": 48,
   "metadata": {},
   "outputs": [
    {
     "name": "stderr",
     "output_type": "stream",
     "text": [
      "C:\\Users\\ncruickshank\\Anaconda3\\envs\\pyr\\lib\\site-packages\\ipykernel_launcher.py:1: SettingWithCopyWarning:\n",
      "\n",
      "\n",
      "A value is trying to be set on a copy of a slice from a DataFrame.\n",
      "Try using .loc[row_indexer,col_indexer] = value instead\n",
      "\n",
      "See the caveats in the documentation: https://pandas.pydata.org/pandas-docs/stable/user_guide/indexing.html#returning-a-view-versus-a-copy\n",
      "\n"
     ]
    },
    {
     "data": {
      "application/vnd.plotly.v1+json": {
       "config": {
        "plotlyServerURL": "https://plot.ly"
       },
       "data": [
        {
         "hovertemplate": "topic_number=8<br>month=%{x}<br>count=%{y}<extra></extra>",
         "legendgroup": "8",
         "line": {
          "color": "#636efa",
          "dash": "solid"
         },
         "mode": "lines",
         "name": "8",
         "orientation": "v",
         "showlegend": true,
         "type": "scatter",
         "x": [
          "2019-05-01T00:00:00",
          "2019-06-01T00:00:00",
          "2019-07-01T00:00:00",
          "2019-08-01T00:00:00",
          "2019-09-01T00:00:00",
          "2019-10-01T00:00:00",
          "2019-11-01T00:00:00",
          "2019-12-01T00:00:00",
          "2020-01-01T00:00:00",
          "2020-02-01T00:00:00",
          "2020-03-01T00:00:00",
          "2020-05-01T00:00:00",
          "2020-09-01T00:00:00",
          "2020-11-01T00:00:00",
          "2021-01-01T00:00:00"
         ],
         "xaxis": "x",
         "y": [
          2,
          8,
          10,
          3,
          3,
          1,
          8,
          6,
          9,
          3,
          3,
          1,
          1,
          1,
          3
         ],
         "yaxis": "y"
        },
        {
         "hovertemplate": "topic_number=1<br>month=%{x}<br>count=%{y}<extra></extra>",
         "legendgroup": "1",
         "line": {
          "color": "#EF553B",
          "dash": "solid"
         },
         "mode": "lines",
         "name": "1",
         "orientation": "v",
         "showlegend": true,
         "type": "scatter",
         "x": [
          "2019-06-01T00:00:00",
          "2019-07-01T00:00:00",
          "2019-08-01T00:00:00",
          "2019-10-01T00:00:00",
          "2019-11-01T00:00:00",
          "2020-02-01T00:00:00",
          "2020-10-01T00:00:00",
          "2020-11-01T00:00:00"
         ],
         "xaxis": "x",
         "y": [
          1,
          2,
          1,
          3,
          2,
          2,
          1,
          1
         ],
         "yaxis": "y"
        },
        {
         "hovertemplate": "topic_number=3<br>month=%{x}<br>count=%{y}<extra></extra>",
         "legendgroup": "3",
         "line": {
          "color": "#00cc96",
          "dash": "solid"
         },
         "mode": "lines",
         "name": "3",
         "orientation": "v",
         "showlegend": true,
         "type": "scatter",
         "x": [
          "2019-06-01T00:00:00",
          "2019-07-01T00:00:00",
          "2019-08-01T00:00:00",
          "2019-09-01T00:00:00",
          "2019-11-01T00:00:00",
          "2019-12-01T00:00:00",
          "2020-01-01T00:00:00",
          "2020-02-01T00:00:00",
          "2020-03-01T00:00:00",
          "2020-09-01T00:00:00",
          "2020-10-01T00:00:00",
          "2021-01-01T00:00:00"
         ],
         "xaxis": "x",
         "y": [
          1,
          11,
          4,
          2,
          4,
          5,
          1,
          3,
          4,
          5,
          1,
          1
         ],
         "yaxis": "y"
        },
        {
         "hovertemplate": "topic_number=7<br>month=%{x}<br>count=%{y}<extra></extra>",
         "legendgroup": "7",
         "line": {
          "color": "#ab63fa",
          "dash": "solid"
         },
         "mode": "lines",
         "name": "7",
         "orientation": "v",
         "showlegend": true,
         "type": "scatter",
         "x": [
          "2019-06-01T00:00:00",
          "2019-07-01T00:00:00",
          "2019-08-01T00:00:00",
          "2019-09-01T00:00:00",
          "2019-10-01T00:00:00",
          "2019-11-01T00:00:00",
          "2019-12-01T00:00:00",
          "2020-01-01T00:00:00",
          "2020-02-01T00:00:00",
          "2020-03-01T00:00:00",
          "2020-05-01T00:00:00",
          "2020-08-01T00:00:00",
          "2020-09-01T00:00:00",
          "2020-10-01T00:00:00",
          "2020-11-01T00:00:00",
          "2020-12-01T00:00:00",
          "2021-01-01T00:00:00"
         ],
         "xaxis": "x",
         "y": [
          12,
          27,
          8,
          6,
          4,
          13,
          9,
          10,
          1,
          11,
          4,
          2,
          1,
          8,
          8,
          4,
          8
         ],
         "yaxis": "y"
        },
        {
         "hovertemplate": "topic_number=2<br>month=%{x}<br>count=%{y}<extra></extra>",
         "legendgroup": "2",
         "line": {
          "color": "#FFA15A",
          "dash": "solid"
         },
         "mode": "lines",
         "name": "2",
         "orientation": "v",
         "showlegend": true,
         "type": "scatter",
         "x": [
          "2019-06-01T00:00:00",
          "2019-07-01T00:00:00",
          "2019-08-01T00:00:00",
          "2019-09-01T00:00:00",
          "2019-10-01T00:00:00",
          "2019-11-01T00:00:00",
          "2019-12-01T00:00:00",
          "2020-02-01T00:00:00",
          "2020-03-01T00:00:00",
          "2020-09-01T00:00:00"
         ],
         "xaxis": "x",
         "y": [
          1,
          5,
          4,
          2,
          1,
          3,
          3,
          2,
          2,
          1
         ],
         "yaxis": "y"
        },
        {
         "hovertemplate": "topic_number=4<br>month=%{x}<br>count=%{y}<extra></extra>",
         "legendgroup": "4",
         "line": {
          "color": "#19d3f3",
          "dash": "solid"
         },
         "mode": "lines",
         "name": "4",
         "orientation": "v",
         "showlegend": true,
         "type": "scatter",
         "x": [
          "2019-06-01T00:00:00",
          "2019-07-01T00:00:00",
          "2019-08-01T00:00:00",
          "2019-11-01T00:00:00",
          "2019-12-01T00:00:00",
          "2020-01-01T00:00:00",
          "2020-02-01T00:00:00",
          "2020-03-01T00:00:00",
          "2020-05-01T00:00:00",
          "2020-10-01T00:00:00",
          "2021-01-01T00:00:00"
         ],
         "xaxis": "x",
         "y": [
          1,
          5,
          5,
          4,
          3,
          1,
          1,
          1,
          1,
          12,
          1
         ],
         "yaxis": "y"
        },
        {
         "hovertemplate": "topic_number=5<br>month=%{x}<br>count=%{y}<extra></extra>",
         "legendgroup": "5",
         "line": {
          "color": "#FF6692",
          "dash": "solid"
         },
         "mode": "lines",
         "name": "5",
         "orientation": "v",
         "showlegend": true,
         "type": "scatter",
         "x": [
          "2019-07-01T00:00:00",
          "2019-08-01T00:00:00",
          "2019-10-01T00:00:00",
          "2019-11-01T00:00:00",
          "2019-12-01T00:00:00",
          "2020-01-01T00:00:00",
          "2020-02-01T00:00:00",
          "2020-11-01T00:00:00"
         ],
         "xaxis": "x",
         "y": [
          2,
          2,
          1,
          1,
          2,
          1,
          4,
          3
         ],
         "yaxis": "y"
        },
        {
         "hovertemplate": "topic_number=6<br>month=%{x}<br>count=%{y}<extra></extra>",
         "legendgroup": "6",
         "line": {
          "color": "#B6E880",
          "dash": "solid"
         },
         "mode": "lines",
         "name": "6",
         "orientation": "v",
         "showlegend": true,
         "type": "scatter",
         "x": [
          "2019-07-01T00:00:00",
          "2019-08-01T00:00:00",
          "2019-12-01T00:00:00",
          "2020-01-01T00:00:00",
          "2020-03-01T00:00:00",
          "2020-11-01T00:00:00"
         ],
         "xaxis": "x",
         "y": [
          5,
          1,
          1,
          5,
          1,
          2
         ],
         "yaxis": "y"
        }
       ],
       "layout": {
        "autosize": true,
        "legend": {
         "title": {
          "text": "topic_number"
         },
         "tracegroupgap": 0
        },
        "template": {
         "data": {
          "bar": [
           {
            "error_x": {
             "color": "#2a3f5f"
            },
            "error_y": {
             "color": "#2a3f5f"
            },
            "marker": {
             "line": {
              "color": "#E5ECF6",
              "width": 0.5
             }
            },
            "type": "bar"
           }
          ],
          "barpolar": [
           {
            "marker": {
             "line": {
              "color": "#E5ECF6",
              "width": 0.5
             }
            },
            "type": "barpolar"
           }
          ],
          "carpet": [
           {
            "aaxis": {
             "endlinecolor": "#2a3f5f",
             "gridcolor": "white",
             "linecolor": "white",
             "minorgridcolor": "white",
             "startlinecolor": "#2a3f5f"
            },
            "baxis": {
             "endlinecolor": "#2a3f5f",
             "gridcolor": "white",
             "linecolor": "white",
             "minorgridcolor": "white",
             "startlinecolor": "#2a3f5f"
            },
            "type": "carpet"
           }
          ],
          "choropleth": [
           {
            "colorbar": {
             "outlinewidth": 0,
             "ticks": ""
            },
            "type": "choropleth"
           }
          ],
          "contour": [
           {
            "colorbar": {
             "outlinewidth": 0,
             "ticks": ""
            },
            "colorscale": [
             [
              0,
              "#0d0887"
             ],
             [
              0.1111111111111111,
              "#46039f"
             ],
             [
              0.2222222222222222,
              "#7201a8"
             ],
             [
              0.3333333333333333,
              "#9c179e"
             ],
             [
              0.4444444444444444,
              "#bd3786"
             ],
             [
              0.5555555555555556,
              "#d8576b"
             ],
             [
              0.6666666666666666,
              "#ed7953"
             ],
             [
              0.7777777777777778,
              "#fb9f3a"
             ],
             [
              0.8888888888888888,
              "#fdca26"
             ],
             [
              1,
              "#f0f921"
             ]
            ],
            "type": "contour"
           }
          ],
          "contourcarpet": [
           {
            "colorbar": {
             "outlinewidth": 0,
             "ticks": ""
            },
            "type": "contourcarpet"
           }
          ],
          "heatmap": [
           {
            "colorbar": {
             "outlinewidth": 0,
             "ticks": ""
            },
            "colorscale": [
             [
              0,
              "#0d0887"
             ],
             [
              0.1111111111111111,
              "#46039f"
             ],
             [
              0.2222222222222222,
              "#7201a8"
             ],
             [
              0.3333333333333333,
              "#9c179e"
             ],
             [
              0.4444444444444444,
              "#bd3786"
             ],
             [
              0.5555555555555556,
              "#d8576b"
             ],
             [
              0.6666666666666666,
              "#ed7953"
             ],
             [
              0.7777777777777778,
              "#fb9f3a"
             ],
             [
              0.8888888888888888,
              "#fdca26"
             ],
             [
              1,
              "#f0f921"
             ]
            ],
            "type": "heatmap"
           }
          ],
          "heatmapgl": [
           {
            "colorbar": {
             "outlinewidth": 0,
             "ticks": ""
            },
            "colorscale": [
             [
              0,
              "#0d0887"
             ],
             [
              0.1111111111111111,
              "#46039f"
             ],
             [
              0.2222222222222222,
              "#7201a8"
             ],
             [
              0.3333333333333333,
              "#9c179e"
             ],
             [
              0.4444444444444444,
              "#bd3786"
             ],
             [
              0.5555555555555556,
              "#d8576b"
             ],
             [
              0.6666666666666666,
              "#ed7953"
             ],
             [
              0.7777777777777778,
              "#fb9f3a"
             ],
             [
              0.8888888888888888,
              "#fdca26"
             ],
             [
              1,
              "#f0f921"
             ]
            ],
            "type": "heatmapgl"
           }
          ],
          "histogram": [
           {
            "marker": {
             "colorbar": {
              "outlinewidth": 0,
              "ticks": ""
             }
            },
            "type": "histogram"
           }
          ],
          "histogram2d": [
           {
            "colorbar": {
             "outlinewidth": 0,
             "ticks": ""
            },
            "colorscale": [
             [
              0,
              "#0d0887"
             ],
             [
              0.1111111111111111,
              "#46039f"
             ],
             [
              0.2222222222222222,
              "#7201a8"
             ],
             [
              0.3333333333333333,
              "#9c179e"
             ],
             [
              0.4444444444444444,
              "#bd3786"
             ],
             [
              0.5555555555555556,
              "#d8576b"
             ],
             [
              0.6666666666666666,
              "#ed7953"
             ],
             [
              0.7777777777777778,
              "#fb9f3a"
             ],
             [
              0.8888888888888888,
              "#fdca26"
             ],
             [
              1,
              "#f0f921"
             ]
            ],
            "type": "histogram2d"
           }
          ],
          "histogram2dcontour": [
           {
            "colorbar": {
             "outlinewidth": 0,
             "ticks": ""
            },
            "colorscale": [
             [
              0,
              "#0d0887"
             ],
             [
              0.1111111111111111,
              "#46039f"
             ],
             [
              0.2222222222222222,
              "#7201a8"
             ],
             [
              0.3333333333333333,
              "#9c179e"
             ],
             [
              0.4444444444444444,
              "#bd3786"
             ],
             [
              0.5555555555555556,
              "#d8576b"
             ],
             [
              0.6666666666666666,
              "#ed7953"
             ],
             [
              0.7777777777777778,
              "#fb9f3a"
             ],
             [
              0.8888888888888888,
              "#fdca26"
             ],
             [
              1,
              "#f0f921"
             ]
            ],
            "type": "histogram2dcontour"
           }
          ],
          "mesh3d": [
           {
            "colorbar": {
             "outlinewidth": 0,
             "ticks": ""
            },
            "type": "mesh3d"
           }
          ],
          "parcoords": [
           {
            "line": {
             "colorbar": {
              "outlinewidth": 0,
              "ticks": ""
             }
            },
            "type": "parcoords"
           }
          ],
          "pie": [
           {
            "automargin": true,
            "type": "pie"
           }
          ],
          "scatter": [
           {
            "marker": {
             "colorbar": {
              "outlinewidth": 0,
              "ticks": ""
             }
            },
            "type": "scatter"
           }
          ],
          "scatter3d": [
           {
            "line": {
             "colorbar": {
              "outlinewidth": 0,
              "ticks": ""
             }
            },
            "marker": {
             "colorbar": {
              "outlinewidth": 0,
              "ticks": ""
             }
            },
            "type": "scatter3d"
           }
          ],
          "scattercarpet": [
           {
            "marker": {
             "colorbar": {
              "outlinewidth": 0,
              "ticks": ""
             }
            },
            "type": "scattercarpet"
           }
          ],
          "scattergeo": [
           {
            "marker": {
             "colorbar": {
              "outlinewidth": 0,
              "ticks": ""
             }
            },
            "type": "scattergeo"
           }
          ],
          "scattergl": [
           {
            "marker": {
             "colorbar": {
              "outlinewidth": 0,
              "ticks": ""
             }
            },
            "type": "scattergl"
           }
          ],
          "scattermapbox": [
           {
            "marker": {
             "colorbar": {
              "outlinewidth": 0,
              "ticks": ""
             }
            },
            "type": "scattermapbox"
           }
          ],
          "scatterpolar": [
           {
            "marker": {
             "colorbar": {
              "outlinewidth": 0,
              "ticks": ""
             }
            },
            "type": "scatterpolar"
           }
          ],
          "scatterpolargl": [
           {
            "marker": {
             "colorbar": {
              "outlinewidth": 0,
              "ticks": ""
             }
            },
            "type": "scatterpolargl"
           }
          ],
          "scatterternary": [
           {
            "marker": {
             "colorbar": {
              "outlinewidth": 0,
              "ticks": ""
             }
            },
            "type": "scatterternary"
           }
          ],
          "surface": [
           {
            "colorbar": {
             "outlinewidth": 0,
             "ticks": ""
            },
            "colorscale": [
             [
              0,
              "#0d0887"
             ],
             [
              0.1111111111111111,
              "#46039f"
             ],
             [
              0.2222222222222222,
              "#7201a8"
             ],
             [
              0.3333333333333333,
              "#9c179e"
             ],
             [
              0.4444444444444444,
              "#bd3786"
             ],
             [
              0.5555555555555556,
              "#d8576b"
             ],
             [
              0.6666666666666666,
              "#ed7953"
             ],
             [
              0.7777777777777778,
              "#fb9f3a"
             ],
             [
              0.8888888888888888,
              "#fdca26"
             ],
             [
              1,
              "#f0f921"
             ]
            ],
            "type": "surface"
           }
          ],
          "table": [
           {
            "cells": {
             "fill": {
              "color": "#EBF0F8"
             },
             "line": {
              "color": "white"
             }
            },
            "header": {
             "fill": {
              "color": "#C8D4E3"
             },
             "line": {
              "color": "white"
             }
            },
            "type": "table"
           }
          ]
         },
         "layout": {
          "annotationdefaults": {
           "arrowcolor": "#2a3f5f",
           "arrowhead": 0,
           "arrowwidth": 1
          },
          "autotypenumbers": "strict",
          "coloraxis": {
           "colorbar": {
            "outlinewidth": 0,
            "ticks": ""
           }
          },
          "colorscale": {
           "diverging": [
            [
             0,
             "#8e0152"
            ],
            [
             0.1,
             "#c51b7d"
            ],
            [
             0.2,
             "#de77ae"
            ],
            [
             0.3,
             "#f1b6da"
            ],
            [
             0.4,
             "#fde0ef"
            ],
            [
             0.5,
             "#f7f7f7"
            ],
            [
             0.6,
             "#e6f5d0"
            ],
            [
             0.7,
             "#b8e186"
            ],
            [
             0.8,
             "#7fbc41"
            ],
            [
             0.9,
             "#4d9221"
            ],
            [
             1,
             "#276419"
            ]
           ],
           "sequential": [
            [
             0,
             "#0d0887"
            ],
            [
             0.1111111111111111,
             "#46039f"
            ],
            [
             0.2222222222222222,
             "#7201a8"
            ],
            [
             0.3333333333333333,
             "#9c179e"
            ],
            [
             0.4444444444444444,
             "#bd3786"
            ],
            [
             0.5555555555555556,
             "#d8576b"
            ],
            [
             0.6666666666666666,
             "#ed7953"
            ],
            [
             0.7777777777777778,
             "#fb9f3a"
            ],
            [
             0.8888888888888888,
             "#fdca26"
            ],
            [
             1,
             "#f0f921"
            ]
           ],
           "sequentialminus": [
            [
             0,
             "#0d0887"
            ],
            [
             0.1111111111111111,
             "#46039f"
            ],
            [
             0.2222222222222222,
             "#7201a8"
            ],
            [
             0.3333333333333333,
             "#9c179e"
            ],
            [
             0.4444444444444444,
             "#bd3786"
            ],
            [
             0.5555555555555556,
             "#d8576b"
            ],
            [
             0.6666666666666666,
             "#ed7953"
            ],
            [
             0.7777777777777778,
             "#fb9f3a"
            ],
            [
             0.8888888888888888,
             "#fdca26"
            ],
            [
             1,
             "#f0f921"
            ]
           ]
          },
          "colorway": [
           "#636efa",
           "#EF553B",
           "#00cc96",
           "#ab63fa",
           "#FFA15A",
           "#19d3f3",
           "#FF6692",
           "#B6E880",
           "#FF97FF",
           "#FECB52"
          ],
          "font": {
           "color": "#2a3f5f"
          },
          "geo": {
           "bgcolor": "white",
           "lakecolor": "white",
           "landcolor": "#E5ECF6",
           "showlakes": true,
           "showland": true,
           "subunitcolor": "white"
          },
          "hoverlabel": {
           "align": "left"
          },
          "hovermode": "closest",
          "mapbox": {
           "style": "light"
          },
          "paper_bgcolor": "white",
          "plot_bgcolor": "#E5ECF6",
          "polar": {
           "angularaxis": {
            "gridcolor": "white",
            "linecolor": "white",
            "ticks": ""
           },
           "bgcolor": "#E5ECF6",
           "radialaxis": {
            "gridcolor": "white",
            "linecolor": "white",
            "ticks": ""
           }
          },
          "scene": {
           "xaxis": {
            "backgroundcolor": "#E5ECF6",
            "gridcolor": "white",
            "gridwidth": 2,
            "linecolor": "white",
            "showbackground": true,
            "ticks": "",
            "zerolinecolor": "white"
           },
           "yaxis": {
            "backgroundcolor": "#E5ECF6",
            "gridcolor": "white",
            "gridwidth": 2,
            "linecolor": "white",
            "showbackground": true,
            "ticks": "",
            "zerolinecolor": "white"
           },
           "zaxis": {
            "backgroundcolor": "#E5ECF6",
            "gridcolor": "white",
            "gridwidth": 2,
            "linecolor": "white",
            "showbackground": true,
            "ticks": "",
            "zerolinecolor": "white"
           }
          },
          "shapedefaults": {
           "line": {
            "color": "#2a3f5f"
           }
          },
          "ternary": {
           "aaxis": {
            "gridcolor": "white",
            "linecolor": "white",
            "ticks": ""
           },
           "baxis": {
            "gridcolor": "white",
            "linecolor": "white",
            "ticks": ""
           },
           "bgcolor": "#E5ECF6",
           "caxis": {
            "gridcolor": "white",
            "linecolor": "white",
            "ticks": ""
           }
          },
          "title": {
           "x": 0.05
          },
          "xaxis": {
           "automargin": true,
           "gridcolor": "white",
           "linecolor": "white",
           "ticks": "",
           "title": {
            "standoff": 15
           },
           "zerolinecolor": "white",
           "zerolinewidth": 2
          },
          "yaxis": {
           "automargin": true,
           "gridcolor": "white",
           "linecolor": "white",
           "ticks": "",
           "title": {
            "standoff": 15
           },
           "zerolinecolor": "white",
           "zerolinewidth": 2
          }
         }
        },
        "title": {
         "text": "Timeline of number observations made each month grouped by topic number"
        },
        "xaxis": {
         "anchor": "y",
         "autorange": true,
         "domain": [
          0,
          1
         ],
         "range": [
          "2019-05-01",
          "2021-01-01"
         ],
         "title": {
          "text": "month"
         },
         "type": "date"
        },
        "yaxis": {
         "anchor": "x",
         "autorange": true,
         "domain": [
          0,
          1
         ],
         "range": [
          -0.4444444444444444,
          28.444444444444443
         ],
         "title": {
          "text": "count"
         },
         "type": "linear"
        }
       }
      },
      "image/png": "[encoded data removed]",
      "text/html": [
       "<div>                            <div id=\"26679337-aaf6-4292-a100-d22bcde08030\" class=\"plotly-graph-div\" style=\"height:525px; width:100%;\"></div>            <script type=\"text/javascript\">                require([\"plotly\"], function(Plotly) {                    window.PLOTLYENV=window.PLOTLYENV || {};                                    if (document.getElementById(\"26679337-aaf6-4292-a100-d22bcde08030\")) {                    Plotly.newPlot(                        \"26679337-aaf6-4292-a100-d22bcde08030\",                        [{\"hovertemplate\": \"topic_number=8<br>month=%{x}<br>count=%{y}<extra></extra>\", \"legendgroup\": \"8\", \"line\": {\"color\": \"#636efa\", \"dash\": \"solid\"}, \"mode\": \"lines\", \"name\": \"8\", \"orientation\": \"v\", \"showlegend\": true, \"type\": \"scatter\", \"x\": [\"2019-05-01T00:00:00\", \"2019-06-01T00:00:00\", \"2019-07-01T00:00:00\", \"2019-08-01T00:00:00\", \"2019-09-01T00:00:00\", \"2019-10-01T00:00:00\", \"2019-11-01T00:00:00\", \"2019-12-01T00:00:00\", \"2020-01-01T00:00:00\", \"2020-02-01T00:00:00\", \"2020-03-01T00:00:00\", \"2020-05-01T00:00:00\", \"2020-09-01T00:00:00\", \"2020-11-01T00:00:00\", \"2021-01-01T00:00:00\"], \"xaxis\": \"x\", \"y\": [2, 8, 10, 3, 3, 1, 8, 6, 9, 3, 3, 1, 1, 1, 3], \"yaxis\": \"y\"}, {\"hovertemplate\": \"topic_number=1<br>month=%{x}<br>count=%{y}<extra></extra>\", \"legendgroup\": \"1\", \"line\": {\"color\": \"#EF553B\", \"dash\": \"solid\"}, \"mode\": \"lines\", \"name\": \"1\", \"orientation\": \"v\", \"showlegend\": true, \"type\": \"scatter\", \"x\": [\"2019-06-01T00:00:00\", \"2019-07-01T00:00:00\", \"2019-08-01T00:00:00\", \"2019-10-01T00:00:00\", \"2019-11-01T00:00:00\", \"2020-02-01T00:00:00\", \"2020-10-01T00:00:00\", \"2020-11-01T00:00:00\"], \"xaxis\": \"x\", \"y\": [1, 2, 1, 3, 2, 2, 1, 1], \"yaxis\": \"y\"}, {\"hovertemplate\": \"topic_number=3<br>month=%{x}<br>count=%{y}<extra></extra>\", \"legendgroup\": \"3\", \"line\": {\"color\": \"#00cc96\", \"dash\": \"solid\"}, \"mode\": \"lines\", \"name\": \"3\", \"orientation\": \"v\", \"showlegend\": true, \"type\": \"scatter\", \"x\": [\"2019-06-01T00:00:00\", \"2019-07-01T00:00:00\", \"2019-08-01T00:00:00\", \"2019-09-01T00:00:00\", \"2019-11-01T00:00:00\", \"2019-12-01T00:00:00\", \"2020-01-01T00:00:00\", \"2020-02-01T00:00:00\", \"2020-03-01T00:00:00\", \"2020-09-01T00:00:00\", \"2020-10-01T00:00:00\", \"2021-01-01T00:00:00\"], \"xaxis\": \"x\", \"y\": [1, 11, 4, 2, 4, 5, 1, 3, 4, 5, 1, 1], \"yaxis\": \"y\"}, {\"hovertemplate\": \"topic_number=7<br>month=%{x}<br>count=%{y}<extra></extra>\", \"legendgroup\": \"7\", \"line\": {\"color\": \"#ab63fa\", \"dash\": \"solid\"}, \"mode\": \"lines\", \"name\": \"7\", \"orientation\": \"v\", \"showlegend\": true, \"type\": \"scatter\", \"x\": [\"2019-06-01T00:00:00\", \"2019-07-01T00:00:00\", \"2019-08-01T00:00:00\", \"2019-09-01T00:00:00\", \"2019-10-01T00:00:00\", \"2019-11-01T00:00:00\", \"2019-12-01T00:00:00\", \"2020-01-01T00:00:00\", \"2020-02-01T00:00:00\", \"2020-03-01T00:00:00\", \"2020-05-01T00:00:00\", \"2020-08-01T00:00:00\", \"2020-09-01T00:00:00\", \"2020-10-01T00:00:00\", \"2020-11-01T00:00:00\", \"2020-12-01T00:00:00\", \"2021-01-01T00:00:00\"], \"xaxis\": \"x\", \"y\": [12, 27, 8, 6, 4, 13, 9, 10, 1, 11, 4, 2, 1, 8, 8, 4, 8], \"yaxis\": \"y\"}, {\"hovertemplate\": \"topic_number=2<br>month=%{x}<br>count=%{y}<extra></extra>\", \"legendgroup\": \"2\", \"line\": {\"color\": \"#FFA15A\", \"dash\": \"solid\"}, \"mode\": \"lines\", \"name\": \"2\", \"orientation\": \"v\", \"showlegend\": true, \"type\": \"scatter\", \"x\": [\"2019-06-01T00:00:00\", \"2019-07-01T00:00:00\", \"2019-08-01T00:00:00\", \"2019-09-01T00:00:00\", \"2019-10-01T00:00:00\", \"2019-11-01T00:00:00\", \"2019-12-01T00:00:00\", \"2020-02-01T00:00:00\", \"2020-03-01T00:00:00\", \"2020-09-01T00:00:00\"], \"xaxis\": \"x\", \"y\": [1, 5, 4, 2, 1, 3, 3, 2, 2, 1], \"yaxis\": \"y\"}, {\"hovertemplate\": \"topic_number=4<br>month=%{x}<br>count=%{y}<extra></extra>\", \"legendgroup\": \"4\", \"line\": {\"color\": \"#19d3f3\", \"dash\": \"solid\"}, \"mode\": \"lines\", \"name\": \"4\", \"orientation\": \"v\", \"showlegend\": true, \"type\": \"scatter\", \"x\": [\"2019-06-01T00:00:00\", \"2019-07-01T00:00:00\", \"2019-08-01T00:00:00\", \"2019-11-01T00:00:00\", \"2019-12-01T00:00:00\", \"2020-01-01T00:00:00\", \"2020-02-01T00:00:00\", \"2020-03-01T00:00:00\", \"2020-05-01T00:00:00\", \"2020-10-01T00:00:00\", \"2021-01-01T00:00:00\"], \"xaxis\": \"x\", \"y\": [1, 5, 5, 4, 3, 1, 1, 1, 1, 12, 1], \"yaxis\": \"y\"}, {\"hovertemplate\": \"topic_number=5<br>month=%{x}<br>count=%{y}<extra></extra>\", \"legendgroup\": \"5\", \"line\": {\"color\": \"#FF6692\", \"dash\": \"solid\"}, \"mode\": \"lines\", \"name\": \"5\", \"orientation\": \"v\", \"showlegend\": true, \"type\": \"scatter\", \"x\": [\"2019-07-01T00:00:00\", \"2019-08-01T00:00:00\", \"2019-10-01T00:00:00\", \"2019-11-01T00:00:00\", \"2019-12-01T00:00:00\", \"2020-01-01T00:00:00\", \"2020-02-01T00:00:00\", \"2020-11-01T00:00:00\"], \"xaxis\": \"x\", \"y\": [2, 2, 1, 1, 2, 1, 4, 3], \"yaxis\": \"y\"}, {\"hovertemplate\": \"topic_number=6<br>month=%{x}<br>count=%{y}<extra></extra>\", \"legendgroup\": \"6\", \"line\": {\"color\": \"#B6E880\", \"dash\": \"solid\"}, \"mode\": \"lines\", \"name\": \"6\", \"orientation\": \"v\", \"showlegend\": true, \"type\": \"scatter\", \"x\": [\"2019-07-01T00:00:00\", \"2019-08-01T00:00:00\", \"2019-12-01T00:00:00\", \"2020-01-01T00:00:00\", \"2020-03-01T00:00:00\", \"2020-11-01T00:00:00\"], \"xaxis\": \"x\", \"y\": [5, 1, 1, 5, 1, 2], \"yaxis\": \"y\"}],                        {\"legend\": {\"title\": {\"text\": \"topic_number\"}, \"tracegroupgap\": 0}, \"template\": {\"data\": {\"bar\": [{\"error_x\": {\"color\": \"#2a3f5f\"}, \"error_y\": {\"color\": \"#2a3f5f\"}, \"marker\": {\"line\": {\"color\": \"#E5ECF6\", \"width\": 0.5}}, \"type\": \"bar\"}], \"barpolar\": [{\"marker\": {\"line\": {\"color\": \"#E5ECF6\", \"width\": 0.5}}, \"type\": \"barpolar\"}], \"carpet\": [{\"aaxis\": {\"endlinecolor\": \"#2a3f5f\", \"gridcolor\": \"white\", \"linecolor\": \"white\", \"minorgridcolor\": \"white\", \"startlinecolor\": \"#2a3f5f\"}, \"baxis\": {\"endlinecolor\": \"#2a3f5f\", \"gridcolor\": \"white\", \"linecolor\": \"white\", \"minorgridcolor\": \"white\", \"startlinecolor\": \"#2a3f5f\"}, \"type\": \"carpet\"}], \"choropleth\": [{\"colorbar\": {\"outlinewidth\": 0, \"ticks\": \"\"}, \"type\": \"choropleth\"}], \"contour\": [{\"colorbar\": {\"outlinewidth\": 0, \"ticks\": \"\"}, \"colorscale\": [[0.0, \"#0d0887\"], [0.1111111111111111, \"#46039f\"], [0.2222222222222222, \"#7201a8\"], [0.3333333333333333, \"#9c179e\"], [0.4444444444444444, \"#bd3786\"], [0.5555555555555556, \"#d8576b\"], [0.6666666666666666, \"#ed7953\"], [0.7777777777777778, \"#fb9f3a\"], [0.8888888888888888, \"#fdca26\"], [1.0, \"#f0f921\"]], \"type\": \"contour\"}], \"contourcarpet\": [{\"colorbar\": {\"outlinewidth\": 0, \"ticks\": \"\"}, \"type\": \"contourcarpet\"}], \"heatmap\": [{\"colorbar\": {\"outlinewidth\": 0, \"ticks\": \"\"}, \"colorscale\": [[0.0, \"#0d0887\"], [0.1111111111111111, \"#46039f\"], [0.2222222222222222, \"#7201a8\"], [0.3333333333333333, \"#9c179e\"], [0.4444444444444444, \"#bd3786\"], [0.5555555555555556, \"#d8576b\"], [0.6666666666666666, \"#ed7953\"], [0.7777777777777778, \"#fb9f3a\"], [0.8888888888888888, \"#fdca26\"], [1.0, \"#f0f921\"]], \"type\": \"heatmap\"}], \"heatmapgl\": [{\"colorbar\": {\"outlinewidth\": 0, \"ticks\": \"\"}, \"colorscale\": [[0.0, \"#0d0887\"], [0.1111111111111111, \"#46039f\"], [0.2222222222222222, \"#7201a8\"], [0.3333333333333333, \"#9c179e\"], [0.4444444444444444, \"#bd3786\"], [0.5555555555555556, \"#d8576b\"], [0.6666666666666666, \"#ed7953\"], [0.7777777777777778, \"#fb9f3a\"], [0.8888888888888888, \"#fdca26\"], [1.0, \"#f0f921\"]], \"type\": \"heatmapgl\"}], \"histogram\": [{\"marker\": {\"colorbar\": {\"outlinewidth\": 0, \"ticks\": \"\"}}, \"type\": \"histogram\"}], \"histogram2d\": [{\"colorbar\": {\"outlinewidth\": 0, \"ticks\": \"\"}, \"colorscale\": [[0.0, \"#0d0887\"], [0.1111111111111111, \"#46039f\"], [0.2222222222222222, \"#7201a8\"], [0.3333333333333333, \"#9c179e\"], [0.4444444444444444, \"#bd3786\"], [0.5555555555555556, \"#d8576b\"], [0.6666666666666666, \"#ed7953\"], [0.7777777777777778, \"#fb9f3a\"], [0.8888888888888888, \"#fdca26\"], [1.0, \"#f0f921\"]], \"type\": \"histogram2d\"}], \"histogram2dcontour\": [{\"colorbar\": {\"outlinewidth\": 0, \"ticks\": \"\"}, \"colorscale\": [[0.0, \"#0d0887\"], [0.1111111111111111, \"#46039f\"], [0.2222222222222222, \"#7201a8\"], [0.3333333333333333, \"#9c179e\"], [0.4444444444444444, \"#bd3786\"], [0.5555555555555556, \"#d8576b\"], [0.6666666666666666, \"#ed7953\"], [0.7777777777777778, \"#fb9f3a\"], [0.8888888888888888, \"#fdca26\"], [1.0, \"#f0f921\"]], \"type\": \"histogram2dcontour\"}], \"mesh3d\": [{\"colorbar\": {\"outlinewidth\": 0, \"ticks\": \"\"}, \"type\": \"mesh3d\"}], \"parcoords\": [{\"line\": {\"colorbar\": {\"outlinewidth\": 0, \"ticks\": \"\"}}, \"type\": \"parcoords\"}], \"pie\": [{\"automargin\": true, \"type\": \"pie\"}], \"scatter\": [{\"marker\": {\"colorbar\": {\"outlinewidth\": 0, \"ticks\": \"\"}}, \"type\": \"scatter\"}], \"scatter3d\": [{\"line\": {\"colorbar\": {\"outlinewidth\": 0, \"ticks\": \"\"}}, \"marker\": {\"colorbar\": {\"outlinewidth\": 0, \"ticks\": \"\"}}, \"type\": \"scatter3d\"}], \"scattercarpet\": [{\"marker\": {\"colorbar\": {\"outlinewidth\": 0, \"ticks\": \"\"}}, \"type\": \"scattercarpet\"}], \"scattergeo\": [{\"marker\": {\"colorbar\": {\"outlinewidth\": 0, \"ticks\": \"\"}}, \"type\": \"scattergeo\"}], \"scattergl\": [{\"marker\": {\"colorbar\": {\"outlinewidth\": 0, \"ticks\": \"\"}}, \"type\": \"scattergl\"}], \"scattermapbox\": [{\"marker\": {\"colorbar\": {\"outlinewidth\": 0, \"ticks\": \"\"}}, \"type\": \"scattermapbox\"}], \"scatterpolar\": [{\"marker\": {\"colorbar\": {\"outlinewidth\": 0, \"ticks\": \"\"}}, \"type\": \"scatterpolar\"}], \"scatterpolargl\": [{\"marker\": {\"colorbar\": {\"outlinewidth\": 0, \"ticks\": \"\"}}, \"type\": \"scatterpolargl\"}], \"scatterternary\": [{\"marker\": {\"colorbar\": {\"outlinewidth\": 0, \"ticks\": \"\"}}, \"type\": \"scatterternary\"}], \"surface\": [{\"colorbar\": {\"outlinewidth\": 0, \"ticks\": \"\"}, \"colorscale\": [[0.0, \"#0d0887\"], [0.1111111111111111, \"#46039f\"], [0.2222222222222222, \"#7201a8\"], [0.3333333333333333, \"#9c179e\"], [0.4444444444444444, \"#bd3786\"], [0.5555555555555556, \"#d8576b\"], [0.6666666666666666, \"#ed7953\"], [0.7777777777777778, \"#fb9f3a\"], [0.8888888888888888, \"#fdca26\"], [1.0, \"#f0f921\"]], \"type\": \"surface\"}], \"table\": [{\"cells\": {\"fill\": {\"color\": \"#EBF0F8\"}, \"line\": {\"color\": \"white\"}}, \"header\": {\"fill\": {\"color\": \"#C8D4E3\"}, \"line\": {\"color\": \"white\"}}, \"type\": \"table\"}]}, \"layout\": {\"annotationdefaults\": {\"arrowcolor\": \"#2a3f5f\", \"arrowhead\": 0, \"arrowwidth\": 1}, \"autotypenumbers\": \"strict\", \"coloraxis\": {\"colorbar\": {\"outlinewidth\": 0, \"ticks\": \"\"}}, \"colorscale\": {\"diverging\": [[0, \"#8e0152\"], [0.1, \"#c51b7d\"], [0.2, \"#de77ae\"], [0.3, \"#f1b6da\"], [0.4, \"#fde0ef\"], [0.5, \"#f7f7f7\"], [0.6, \"#e6f5d0\"], [0.7, \"#b8e186\"], [0.8, \"#7fbc41\"], [0.9, \"#4d9221\"], [1, \"#276419\"]], \"sequential\": [[0.0, \"#0d0887\"], [0.1111111111111111, \"#46039f\"], [0.2222222222222222, \"#7201a8\"], [0.3333333333333333, \"#9c179e\"], [0.4444444444444444, \"#bd3786\"], [0.5555555555555556, \"#d8576b\"], [0.6666666666666666, \"#ed7953\"], [0.7777777777777778, \"#fb9f3a\"], [0.8888888888888888, \"#fdca26\"], [1.0, \"#f0f921\"]], \"sequentialminus\": [[0.0, \"#0d0887\"], [0.1111111111111111, \"#46039f\"], [0.2222222222222222, \"#7201a8\"], [0.3333333333333333, \"#9c179e\"], [0.4444444444444444, \"#bd3786\"], [0.5555555555555556, \"#d8576b\"], [0.6666666666666666, \"#ed7953\"], [0.7777777777777778, \"#fb9f3a\"], [0.8888888888888888, \"#fdca26\"], [1.0, \"#f0f921\"]]}, \"colorway\": [\"#636efa\", \"#EF553B\", \"#00cc96\", \"#ab63fa\", \"#FFA15A\", \"#19d3f3\", \"#FF6692\", \"#B6E880\", \"#FF97FF\", \"#FECB52\"], \"font\": {\"color\": \"#2a3f5f\"}, \"geo\": {\"bgcolor\": \"white\", \"lakecolor\": \"white\", \"landcolor\": \"#E5ECF6\", \"showlakes\": true, \"showland\": true, \"subunitcolor\": \"white\"}, \"hoverlabel\": {\"align\": \"left\"}, \"hovermode\": \"closest\", \"mapbox\": {\"style\": \"light\"}, \"paper_bgcolor\": \"white\", \"plot_bgcolor\": \"#E5ECF6\", \"polar\": {\"angularaxis\": {\"gridcolor\": \"white\", \"linecolor\": \"white\", \"ticks\": \"\"}, \"bgcolor\": \"#E5ECF6\", \"radialaxis\": {\"gridcolor\": \"white\", \"linecolor\": \"white\", \"ticks\": \"\"}}, \"scene\": {\"xaxis\": {\"backgroundcolor\": \"#E5ECF6\", \"gridcolor\": \"white\", \"gridwidth\": 2, \"linecolor\": \"white\", \"showbackground\": true, \"ticks\": \"\", \"zerolinecolor\": \"white\"}, \"yaxis\": {\"backgroundcolor\": \"#E5ECF6\", \"gridcolor\": \"white\", \"gridwidth\": 2, \"linecolor\": \"white\", \"showbackground\": true, \"ticks\": \"\", \"zerolinecolor\": \"white\"}, \"zaxis\": {\"backgroundcolor\": \"#E5ECF6\", \"gridcolor\": \"white\", \"gridwidth\": 2, \"linecolor\": \"white\", \"showbackground\": true, \"ticks\": \"\", \"zerolinecolor\": \"white\"}}, \"shapedefaults\": {\"line\": {\"color\": \"#2a3f5f\"}}, \"ternary\": {\"aaxis\": {\"gridcolor\": \"white\", \"linecolor\": \"white\", \"ticks\": \"\"}, \"baxis\": {\"gridcolor\": \"white\", \"linecolor\": \"white\", \"ticks\": \"\"}, \"bgcolor\": \"#E5ECF6\", \"caxis\": {\"gridcolor\": \"white\", \"linecolor\": \"white\", \"ticks\": \"\"}}, \"title\": {\"x\": 0.05}, \"xaxis\": {\"automargin\": true, \"gridcolor\": \"white\", \"linecolor\": \"white\", \"ticks\": \"\", \"title\": {\"standoff\": 15}, \"zerolinecolor\": \"white\", \"zerolinewidth\": 2}, \"yaxis\": {\"automargin\": true, \"gridcolor\": \"white\", \"linecolor\": \"white\", \"ticks\": \"\", \"title\": {\"standoff\": 15}, \"zerolinecolor\": \"white\", \"zerolinewidth\": 2}}}, \"title\": {\"text\": \"Timeline of number observations made each month grouped by topic number\"}, \"xaxis\": {\"anchor\": \"y\", \"domain\": [0.0, 1.0], \"title\": {\"text\": \"month\"}}, \"yaxis\": {\"anchor\": \"x\", \"domain\": [0.0, 1.0], \"title\": {\"text\": \"count\"}}},                        {\"responsive\": true}                    ).then(function(){\n",
       "                            \n",
       "var gd = document.getElementById('26679337-aaf6-4292-a100-d22bcde08030');\n",
       "var x = new MutationObserver(function (mutations, observer) {{\n",
       "        var display = window.getComputedStyle(gd).display;\n",
       "        if (!display || display === 'none') {{\n",
       "            console.log([gd, 'removed!']);\n",
       "            Plotly.purge(gd);\n",
       "            observer.disconnect();\n",
       "        }}\n",
       "}});\n",
       "\n",
       "// Listen for the removal of the full notebook cells\n",
       "var notebookContainer = gd.closest('#notebook-container');\n",
       "if (notebookContainer) {{\n",
       "    x.observe(notebookContainer, {childList: true});\n",
       "}}\n",
       "\n",
       "// Listen for the clearing of the current output cell\n",
       "var outputEl = gd.closest('.output');\n",
       "if (outputEl) {{\n",
       "    x.observe(outputEl, {childList: true});\n",
       "}}\n",
       "\n",
       "                        })                };                });            </script>        </div>"
      ]
     },
     "metadata": {},
     "output_type": "display_data"
    }
   ],
   "source": [
    "rr2['month'] = pd.to_datetime(rr2['record_date']) + pd.offsets.MonthBegin(-1)\n",
    "rr2_time = rr2.groupby(['topic_number', 'month']).size().reset_index(name = 'count').sort_values(by = 'month')\n",
    "rr2_time['month'] = pd.to_datetime(rr2_time['month'])\n",
    "fig = px.line(rr2_time, x = \"month\", y = \"count\", color = \"topic_number\",\n",
    "              title = \"Timeline of number observations made each month grouped by topic number\")\n",
    "fig"
   ]
  },
  {
   "cell_type": "markdown",
   "metadata": {},
   "source": [
    "### Top 3 Observations Per Topic\n",
    "For each observation topic, which observations in the dataset have the highest probability of belonging to that topic?"
   ]
  },
  {
   "cell_type": "code",
   "execution_count": 49,
   "metadata": {
    "collapsed": true,
    "jupyter": {
     "outputs_hidden": true
    }
   },
   "outputs": [
    {
     "name": "stdout",
     "output_type": "stream",
     "text": [
      "\n",
      "===============================================================================\n",
      "\n",
      "TOPIC NUMBER  0\n",
      "\n",
      "===============================================================================\n",
      "\n",
      "\n",
      "===============================================================================\n",
      "\n",
      "TOPIC NUMBER  1\n",
      "\n",
      "===============================================================================\n",
      "\n",
      "\n",
      "Firm Name:  Pharmaview Inc dba Far Hills Pharmacy\n",
      "Record Date:  2019-11-14 00:00:00\n",
      "Topic Probability:  0.9955310821533203\n",
      "Observation: \n",
      "\n",
      "('ITY, STATE AND ZIP CODE 3edminster, NJ 07921-2605  TYPE OF ESTABLISHMENT '\n",
      " 'INSPECTED Producer of Non-Sterile Drugs  HIS DOCUMENT LISTS OBSERVATIONS '\n",
      " 'MADE BY THE FDA REPRESENTATIVE(S) DURING THE INSPECTION OF YOUR FACILITY. '\n",
      " 'THEY ARE INSPECTIONAL IBSERVATIONS; AND DO NOT REPRESENT A FINAL AGENCY '\n",
      " 'DETERMINATION REGARDING YOUR COMPLIANCE. IF YOU HAVE AN OBJECTION REGARDING '\n",
      " 'AN IBSERVATION, OR HAVE IMPLEMENTED, OR PLAN TO IMPLEMENT CORRECTIVE ACTION '\n",
      " 'IN RESPONSE TO AN OBSERVATION, YOU MAY DISCUSS THE IBJECTION OR ACTION WITH '\n",
      " 'THE FDA REPRESENTATIVE(S) DURING THE INSPECTION OR SUBMIT THIS INFORMATION '\n",
      " 'TO FDA AT THE ADDRESS ABOVE. IF ‘OU HAVE ANY QUESTIONS, PLEASE CONTACT FDA '\n",
      " 'AT THE PHONE NUMBER AND ADDRESS ABOVE.  JURING AN INSPECTION OF YOUR FIRM '\n",
      " '(1) (WE) '\n",
      " 'OBSERVED:                                                                                  '\n",
      " 'JBSERVATION |  jazardous drugs were compounded without providing adequate '\n",
      " 'containment or cleaning of multi-use equipment O prevent '\n",
      " 'cross-contamination. .  specifically,  Juring the compounding operations '\n",
      " 'observed on 10/29/2019 of Estradiol + Testosterone 0.01% + 0.01% in 30 g, ve '\n",
      " 'notice that once the Estradiol was collected and weighed it was placed on '\n",
      " 'the working surface next to other aw materials without proper containment. '\n",
      " 'Your firm compounds the following hazardous drugs: Progesterone Micro USP '\n",
      " 'Capsules, Biestrogen + Testosterone in Phyto Base, Estradiol + Estriol + '\n",
      " 'Progesterone in HRT, and {stradiol + Progesterone Capsules. In addition, '\n",
      " 'there is a lack of cleaning with an adequate deactivating agent to nsure '\n",
      " 'that residue of hazardous drugs is absent from multi-use equipment such '\n",
      " 'as(b) (4) (b) (4)  b) (4) and plastic syringe.  IBSERVATION 2 '\n",
      " 'Non-Pharmaceutical grade components are use in the formulation of '\n",
      " 'non-sterile drug products. specifically,  a. Non-pharmaceutical grade '\n",
      " 'component (b) (4) was observed on the shelf. This component was used in the '\n",
      " 'formulation of the following non-sterile drug products:  alam Iat 193N071D) '\n",
      " 'nraduced an Inlw 30 9N10 405 Main St TYPE OF ESTABLISHMENT INSPECTED  ~ '\n",
      " 'Riectrnaen + Tectnactarnne in Phuta Race 19 +1 9 harmaview Inc (DOB: Far '\n",
      " 'Hills Pharmacy) TY, STATE AND ZIP CODE edminster, NJ 07921-2605     Producer '\n",
      " 'of Non-Sterile Drugs     - Testosterone in Phyto Base 4mg/ml, lot 190306D, '\n",
      " 'produced on June 03, 2019.  b. There is no assurance that the (b) (4) used '\n",
      " 'as a component in the formulation of non-sterile drug products, complies as '\n",
      " 'pharmaceutical grade (b) (4) . Examples of products produced with this (6) '\n",
      " '(4) as a component are:  - Pyridoxine Suspension 50mg/ml, lot 193007F, '\n",
      " 'produced on July 30, 2019 - Minoxidil 5% Scalp Solution 30ml, lot 192708G, '\n",
      " 'produced on August 27, 2019. - Aminophyllin in HRT 10% 100mg/g, lot 192709A, '\n",
      " 'produced on September 27, 2019.  ')\n",
      "\n",
      "- - - - - - - - - - - - - - - - - - - - - - - - - - - - - - - - - - - - - - - -\n",
      "\n",
      "Firm Name:  Professional Pharmacy Services Inc dba Good Day Pharmacy\n",
      "Record Date:  2019-06-17 00:00:00\n",
      "Topic Probability:  0.9952446222305298\n",
      "Observation: \n",
      "\n",
      "('You produced highly potent drugs without providing adequate containment, '\n",
      " 'segregation, cleaning of work surfaces and cleaning of utensils to prevent '\n",
      " 'cross-contamination.  Specifically,  Equipment, work surfaces, and utensils '\n",
      " 'are used for the production of hormonal products as well as non-hormonal '\n",
      " 'products. Inadequate cross-contamination precautions are established to '\n",
      " 'protect drug products produced on these shared surfaces at the Good Day '\n",
      " 'Longmont location as well as the Good Day Fort Collins location. You have '\n",
      " 'failed to demonstrate that the use of the dish washer and manual cleaning '\n",
      " 'operations (soap and water) are adequate to mitigate cross-contamination of '\n",
      " 'products made on site. Non-dedicated equipment, utensils, and work surfaces '\n",
      " 'include the(b) (4) ‘hood, compounding counter adjacent to the hood, glass '\n",
      " 'stirrers, metal spatulas, glass mortar and pestle, mesh sieves, (b) (4) '\n",
      " 'capsule machines, unguator and mixing blades, ointment mill, troche mold, '\n",
      " 'stir bars, and beakers.  a. On 6/4/2019 you made the following hormone '\n",
      " 'containing prescription products and non-hormone containing prescription '\n",
      " 'products with mixed use equipment, utensils, and workstations:  Testosterone '\n",
      " '10mg Mini Troche Rx (b) (6) roches  Progesterone 100mg IR Capsule Rx (b) '\n",
      " '(6).) -apsules . BIEST (50:50) 0.1mg/gm(b)\\\\ (4) 01.me/em cream Rx (6)i(6).) '\n",
      " '@ Progesterone 75mg SR #1 75mg Capsule Rx (6)/(6). © @-apsules  Enrof '\n",
      " '20mg/Prednisolone eae Oral Suspension Rx (b) (6). (b) (4) Prazosin 0.5mg '\n",
      " 'Capsule Rx (b) (6), b) (4)  Ranitidine 30mg/mL Glycerin Oral Suspension Rx '\n",
      " '(6)\\\\(6) (B) (4)  Clonidine 0.1mg/mL Oral Suspension Rx(b) (6) (b) (4)  b. '\n",
      " 'On 6/7/2019 you made the following hormone containing products and '\n",
      " 'non-hormone containing products with mixed use equipment, utensils, and '\n",
      " 'workstations (b) (4) (B) (4) hood and compounding counter adjacent to the '\n",
      " 'hood):  Estradiol Smg/gm Cream Rx (b) (6) (b) (4)  Estradiol 15mg/gm Cream '\n",
      " 'Rx(b) (6). (®) (4)  ag ES bg Pregnenolone 65mg/ Progesterone 200mg/ '\n",
      " 'Testosterone 0.65mg Sugar Free Troche Rx (6) (6) © @)roches  Testosterone '\n",
      " '16% (160mg/gm) Cream Rx (b) (6) () (4)  Gabapentin 50mg #3 Capsule Rx (6) '\n",
      " '(6). capsules _  Omeprazole 2mg/ml Oral Suspension Rx (6) (6), (D) (4)  ')\n",
      "\n",
      "- - - - - - - - - - - - - - - - - - - - - - - - - - - - - - - - - - - - - - - -\n",
      "\n",
      "Firm Name:  Blount Discount Pharmacy, Inc.\n",
      "Record Date:  2020-02-13 00:00:00\n",
      "Topic Probability:  0.9939913749694824\n",
      "Observation: \n",
      "\n",
      "('Y, STATE AND ZIP CODE coa. TN 37701  TYPE OF ESTABLISHMENT INSPECTED '\n",
      " 'Non-sterile Drug Product Producer     S DOCUMENT LISTS OBSERVATIONS MADE BY '\n",
      " 'THE FDA REPRESENTATIVE(S) DURING THE INSPECTION OF YOUR FACILITY. THEY ARE '\n",
      " 'INSPECTIONAL SERVATIONS; AND DO NOT REPRESENT A FINAL AGENCY DETERMINATION '\n",
      " 'REGARDING YOUR COMPLIANCE. IF YOU HAVE AN OBJECTION REGARDING AN SERVATION, '\n",
      " 'OR HAVE IMPLEMENTED, OR PLAN TO MPLEMENT CORRECTIVE ACTION IN RESPONSE TO AN '\n",
      " 'OBSERVATION, YOU MAY DISCUSS THE JECTION OR ACTION WITH THE FDA '\n",
      " 'REPRESENTATIVE(S) DURING THE INSPECTION OR SUBMIT THIS INFORMATION TO FDA AT '\n",
      " 'THE ADDRESS ABOVE. IF U HAVE ANY QUESTIONS, PLEASE CONTACT FDA AT THE PHONE '\n",
      " 'NUMBER AND ADDRESS ABOVE.  RING AN INSPECTION OF YOUR FIRM (I) (WE) '\n",
      " 'OBSERVED:  bservation #1 wzardous and highly potent drugs are produced '\n",
      " 'without providing adequate cleaning of work surfaces, utensils, uipment '\n",
      " 'and/or personnel to prevent cross-contamination.  cifically, I observed '\n",
      " 'built-up residue on the scale, stained and nicked spatulas, scratched and '\n",
      " 'cloudy glassware ed to produce non-sterile drug products. You use these same '\n",
      " 'utensils and equipment to manufacture hazardous ugs and non-hazardous types '\n",
      " 'of drugs including but not limited to hormone, Fluorouracil, and opioid '\n",
      " 'products.  bservation #2 yents used for cleaning the laminar flow hood and '\n",
      " 'other equipment between products do not include a activating agent (e.g. '\n",
      " 'oxidizing agent) to prevent cross-contamination.  cifically, the cleaning '\n",
      " 'agents I observed used between batches for equipment and the hood were | | '\n",
      " 'and dish soap only.     bservation #3 n-pharmaceutical grade components are '\n",
      " 'used in the formulation of non-sterile drug products.     ecifically, you '\n",
      " 'use Sodium Hyaluronate, a as components in hormone creams, cough up and '\n",
      " 'suspensions. You do not have adequate documentation to demonstrate these '\n",
      " 'components meet suitability ‘use in non-sterile drug products.  ')\n",
      "\n",
      "- - - - - - - - - - - - - - - - - - - - - - - - - - - - - - - - - - - - - - - -\n",
      "\n",
      "===============================================================================\n",
      "\n",
      "TOPIC NUMBER  2\n",
      "\n",
      "===============================================================================\n",
      "\n",
      "\n",
      "Firm Name:  ImClone Systems, L.L .C. \n",
      "Record Date:  2019-11-26 00:00:00\n",
      "Topic Probability:  0.9971312284469604\n",
      "Observation: \n",
      "\n",
      "('Appropriate controls are not exercised over computers or related production '\n",
      " 'systems.  Specifically, electronic data obtained from manufacturing process '\n",
      " 'or related equipment are not appropriately controlled. For example,  A. We '\n",
      " 'observed from the audit trails of the(b) (4) units that electronic files '\n",
      " 'identified as Calibration Study, Qualification Study and Verification Study '\n",
      " 'have been deleted. These §) (4) (b) (4) | , units are used for the equipment '\n",
      " 'qualifications, involving (b) (4) — i processes. The deleted incidents and '\n",
      " 'related audit trail were not reviewed by the quality unit. For example, the '\n",
      " 'following are some of the actions observed in the audit trai] obtained from '\n",
      " 'the(b) (4)  ) units.  3 |-Jan-2018 Qualification Study : (b) ) (4) d '\n",
      " '‘deleted by at 15:57:48 User ID (6) (6)”. User Name: (b) 6)  01-Feb-2018 '\n",
      " 'Qualification Study :(b) (4) deleted by at 09:22:17 User ID : (b) (6). User '\n",
      " 'Name: (6))(4)  Branchburg, NJ 08876-3904 Biological Drug Substance '\n",
      " 'Manufacturer        05-Feb-2018 | Verification Study : (B)(4) =” deleted by '\n",
      " 'at 14:15:14 User ID : (6) (6). User Name: (6)(6)  05-Feb-2018 Calibration '\n",
      " 'Study :(b) (4) _” deleted by at 14:17:03 User ID : (6){4)\". User Name: '\n",
      " '(b)(@)  05-Feb-2018 Calibration Study : “(b) (4) deleted by at 14:17:19 User '\n",
      " 'ID : (b)(4)”. User Name: (b) (4)  05-Feb-2018 Verification Study : (6) 4) '\n",
      " 'deleted at 14:17:38 by User ID: ont User Name (b) (4)  05-Feb-2018 | '\n",
      " 'Verification Study : Jy (D)(4) deleted by  at 14:18:05 User ID : “(by {4y. '\n",
      " 'User (b) (4)  05-Feb-2018 Qualification Study : “(b) (4) i  at 14:20:22 '\n",
      " 'deleted by User ID : (6)(6)”. User Name: (b) (6)  22-Feb-2018 Qualification '\n",
      " 'Study : (b) (4) _  at 07:06:39 deleted by User ID : (6) (6). User Name: (b) '\n",
      " '(6)  23-Mar-2018 | Qualification Study : (B)4)NN deleted at 09:01:04 by User '\n",
      " 'ID : (B) (6) User Name: (6) (6)  13-Apr-2018 Qualification Study : “(B)(4) '\n",
      " 'at 09:57:49 deleted by User ID : (6)(6)\". User Name: (b) (6)              '\n",
      " 'Branchburg, NJ 08876-3904 | Biological Drug Substance '\n",
      " 'Manufacturer                  16-Aug-2018 | Qualification Study :{b) (4) '\n",
      " '—_—_ deleted by at 13:49:53 User ID : (b) (6). User Name: (6) (6)  '\n",
      " \"05-Feb-2018 Verification Study: (6) (4) ' deleted by at 14:15:14 User ID: \"\n",
      " '(6) ©)”. User Name (b) (6)  05-Feb-2018 Calibration Study: (6) (6) _ deleted '\n",
      " 'by at 14:17:03 User ID: (B)(6). User Name (b) (6)  05-Feb-2018 Calibration '\n",
      " 'Study: (6) (4) deleted by at 14:17:19 User ID: (6)(6)”. User Name: (b) (6)  '\n",
      " '05-Feb-2018 | Verification Study: (b) (4) deleted by  at 14:17:38 User ID: '\n",
      " '(6) (6)) User Name: (6) @)  05-Feb-2018 Verification Study: (6) (4) deleted '\n",
      " 'by at 14:18:05 User ID: (6) (6). User Name: ()(6)  05-Feb-2018 Qualification '\n",
      " 'Study: (6)(4)_ at 14:19:51 deleted by User ID: (6)(6) User Name: (b) (6)  '\n",
      " '13-Apr-2018 Qualification Study: “(b) (4)  at 09:57:49 deleted by User ID: '\n",
      " '(6)(6). User Name:                          * Full name withheld, and only '\n",
      " 'initials shown      Branchburg, NJ 08876-3904 Biological Drug Substance '\n",
      " 'Manufacturer     B. Review of the (b) (4) _unit’s (Serial No(b) (4) _) audit '\n",
      " 'trail also indicated users had logged into the system on multiple occasions '\n",
      " 'to do Audit Trail operations followed by adjusting the system clock. For '\n",
      " 'example, the following table shows three sequential actions recorded in the '\n",
      " 'audit trail: :  38- Sep-2018 User Td: OG) TPE in to ane,  at 10:50:13  '\n",
      " '28-Sep-2018 User Id : (6) (6) . User Name: \"* logged i in  at 11:03:47 to do '\n",
      " '“AuditTrail” operation in (b) (4 ee screen  28-Sep-2018 (6) (4) Clock '\n",
      " 'adjusted from  at 10:48:59 28/09/2018 11:03:47 to 28/09/2018 10:49:00 by '\n",
      " 'User Id : (6) (6), User Name:(6) ©)                    * Full name withheld, '\n",
      " 'and only initials shown  Similar actions were observed in (b) (4) > units, '\n",
      " '(6) (4) sand (B) (4) as well. The firm’s quality unit did not review the '\n",
      " 'audit trails from these (b) (4) = =————suunits. Operators were assigned '\n",
      " 'administrative privileges. In addition, the firm does not have sufficient '\n",
      " 'controls ta prevent the deletion of electronic data stored in these systems, '\n",
      " 'which is not backed-up on a periodic  basis.  C. We observed that test runs '\n",
      " 'have been aborted from(b) (4) — _ Test Instruments and the aborted tests '\n",
      " 'were not logged in the user logs, documented or reviewed. For example, '\n",
      " 'review of the run history on the(b) (4) Test Instruments (ID: (6)(4) ) '\n",
      " 'indicated an error     message “Test aborted by the operator” on multiple '\n",
      " 'occasions. However, these events were not  Branchburg, NJ 08876-3904 '\n",
      " 'Biological Drug Substance Manufacturer  documented in the user logs and '\n",
      " 'reviewed by the quality unit. We were unable to ascertain why the operators '\n",
      " 'had aborted the runs. These (6) (4) | Test Instruments are used to conduct '\n",
      " '(b) (4)) and (b) (4) _ testing of (6) (4) , that are used in the '\n",
      " 'manufacturing processes of biological drug substances such as Cetuximab, '\n",
      " 'Ramucirumab, Necitumumab and Galcanezumab, which are utilized in the '\n",
      " 'production of drug products that are distributed in the U.S. '\n",
      " 'market.              ')\n",
      "\n",
      "- - - - - - - - - - - - - - - - - - - - - - - - - - - - - - - - - - - - - - - -\n",
      "\n",
      "Firm Name:  Edge Pharma, LLC\n",
      "Record Date:  2020-03-30 00:00:00\n",
      "Topic Probability:  0.9946402907371521\n",
      "Observation: \n",
      "\n",
      "('Routine calibration and checking of automatic, mechanical and electronic '\n",
      " 'equipment is not performed according to a written program designed to assure '\n",
      " 'proper performance.  Specifically, the firm has not adequately qualified all '\n",
      " 'equipment as capable of performing its intended functions or operations '\n",
      " 'before first use and your firm does not perform routine maintenance for all '\n",
      " 'equipment. For example:  A. Your firm has not adequately qualified all '\n",
      " 'critical equipment used to produce, test, and store sterile drug products to '\n",
      " 'include: (B) (4) . temperature control chambers (incubators). and '\n",
      " 'refrigerators. For example, the firm’s initial qualification of refrigerator '\n",
      " 'Model (b) (4) (ID# NS-FRIG- 022) was inadequate. The firm failed to conduct '\n",
      " 'an installation qualification (IQ) or operational qualification (OQ) (i.e. '\n",
      " 'empty chamber mapping). The firm’s performance qualification (PQ) only '\n",
      " 'consisted of an(b) (4) chamber mapping. The PQ failed to include open door '\n",
      " 'and recovery testing, power-loss simulation or alarms testing. The '\n",
      " 'aforementioned refrigeration unit is located within the QC Laboratory and is '\n",
      " 'utilized for the storage of samples awaiting QC analysis and for the storage '\n",
      " 'of stability samples.  B. The firm uses a(b) (4) water system to generate '\n",
      " 'water which is subsequently (b) (4) into plastic buckets and used for '\n",
      " 'dilution of disinfecting agents used in ISO-7 and ISO-8 classified spaces; '\n",
      " 'however, there is no assurance the water used for the dilution of '\n",
      " 'disinfecting agents and used for cleaning of ceilings, walls, and floors is '\n",
      " 'appropriate for use. For example: the fe (4) (b) (4) water system has not '\n",
      " 'been qualified and the firm does not perform(b) (4 of (b) (4) (6) (4)used on '\n",
      " 'the water system. In addition, on 3/6/20, the(b) (4) (Lot  (b) (4)) used '\n",
      " 'every (b) (4) for sanitizing and disinfecting the system were observed '\n",
      " 'expired (expiry date of 11/05/2018), and the (Bb) (4) _ located on the water '\n",
      " 'hold tank was observed as expired. Further, plastic buckets used to transpor '\n",
      " '(fb) (4) water to classified spaces are(b) (4) with non-  sterile™™ and '\n",
      " 'filled in a non-classified environment.  ')\n",
      "\n",
      "- - - - - - - - - - - - - - - - - - - - - - - - - - - - - - - - - - - - - - - -\n",
      "\n",
      "Firm Name:  Edge Pharma, LLC\n",
      "Record Date:  2020-03-30 00:00:00\n",
      "Topic Probability:  0.9946087598800659\n",
      "Observation: \n",
      "\n",
      "('Procedures designed to prevent microbiological contamination of drug '\n",
      " 'products purporting to be sterile are not established and followed.  '\n",
      " 'Specifically,  A. The firm failed to follow standard operating procedure '\n",
      " '(SOP), S-CMP-012, Aseptic Technique, which states \"cleanroom technicians '\n",
      " 'must move slowly, deliberately and avoid excess or unnecessary movements '\n",
      " 'while working within classified areas\". For example, on 3/4/20 through '\n",
      " '3/6/20, firm personnel were observed to qove rapidly within the ISO-7 Clean '\n",
      " 'Room 202, immediately adjacent to the open ISO-5_ LFHs during sterile '\n",
      " 'compounding. In addition, (SOP), S-CMP-012, Aseptic Technique, fails to '\n",
      " 'address personnel controls to prevent unnecessary activities that could '\n",
      " 'increase the potential for introducing contaminants into ISO-5 environments. '\n",
      " 'For example, on 3/9/20, firm personnel operating within ISO- | LFHs were '\n",
      " 'observed to place their forearms and elbows on the deck of the ISO-5|_ '\n",
      " 'LFHs.  B. The firm’s production & operations staff failed to follow '\n",
      " 'procedure, P#.2.1.1 — Deproygenating Reusable Devices and Glassware, to '\n",
      " 'store depyrogenated, aluminum sealed glassware and reusable devices in an '\n",
      " 'ISO class 8, or better, environment. During the current inspection, aluminum '\n",
      " 'sealed glassware to include 20L beakers used during sterile drug production '\n",
      " 'was found stored on a cart in a non-classified environment.  C. The firm has '\n",
      " 'not performed an assessment to determine if non-sterile hand sanitizer is '\n",
      " 'adequate to be used during sterile gowning. For example, the firm utilizes '\n",
      " 'non-sterile (b) (4) (b) (4) ) on non-sterile gloved hands during the gowning '\n",
      " 'process to enter the ISO-7 Clean Room 202 prior to the final step of putting '\n",
      " 'on sterile gloves. During the inspection, employees were observed touching '\n",
      " 'their sterile garments after utilizing the non-sterile hand sanitizer.  '\n",
      " 'Deficiencies regarding prevention of microbiological contamination of drug '\n",
      " 'products were also noted during the 2014 and 2018 FDA inspections  ')\n",
      "\n",
      "- - - - - - - - - - - - - - - - - - - - - - - - - - - - - - - - - - - - - - - -\n",
      "\n",
      "===============================================================================\n",
      "\n",
      "TOPIC NUMBER  3\n",
      "\n",
      "===============================================================================\n",
      "\n",
      "\n",
      "Firm Name:  Hawaii Health Systems Corporation dba Kona Community Hospital Pharmacy\n",
      "Record Date:  2019-12-13 00:00:00\n",
      "Topic Probability:  0.9967184066772461\n",
      "Observation: \n",
      "\n",
      "('Your facility design allowed the influx of poor quality air into a higher '\n",
      " 'classified area.  Specifically, the air balance between rooms is not '\n",
      " 'controlled to ensure cascading flow of air between areas of lesser '\n",
      " 'classifications. For example:  COLT (°C) | area does not seal completely '\n",
      " 'when the doors on either side of (b) (4) j The ISO 7 Hazardous Drug Room is '\n",
      " 'maintained at a negative pressure relative to adjacent spaces, allowing air '\n",
      " 'from the unclassified area to continuously enter the room. The differential '\n",
      " 'pressure between the ISO 7 Hazardous Drug Room and the unclassified office '\n",
      " 'area is not monitored. Additionally, during the transfer of finished sterile '\n",
      " 'hazardous drugs, we observed (b) (4) open at the same time. The ISO 7  '\n",
      " 'Hazardous Drug Room contains the ISO 5 Biosafety Cabinet, which is used in '\n",
      " 'the production of sterile hazardous drug products, including but not limited '\n",
      " 'to Leucovorin, Oxaliplatin, Fluorouracil, Gemcitabine, and Cisplatin.  b.) '\n",
      " 'The air pressure differential between the ISO 8 Ante Room and the '\n",
      " 'unclassified office area has been below the specified range of (b) (4) '\n",
      " 'inches water column (” w.c.) on 39 of the 44 days between 10/09/19 and '\n",
      " '12/05/19 for which data was recorded. Of the 39 instances, the pressure '\n",
      " 'differential was measured as negative once on 11/13/19 at -0.003” w.c. '\n",
      " 'allowing air from the ISO 8 Ante Room into the ISO 7 Non-Hazardous Drug '\n",
      " 'Room. The ISO 8 Ante Room is used by operators performing production '\n",
      " 'operations to don sterile garbing materials prior to entering one of the ISO '\n",
      " '7 areas and the Ante Room is also used for storage of materials used for '\n",
      " 'production operations.  c.) The air pressure differential between the ISO 7 '\n",
      " 'Non-Hazardous Drug Room and the ISO 8 Ante Room has been below and above the '\n",
      " 'specified range of (b) (4) _” w.c. on 8 of the 44 days between 10/09/19 and '\n",
      " '12/05/19 for which data was recorded. The ISO 7 Non-Hazardous Drug Room '\n",
      " 'contains the ISO 5 Laminar Airflow Hood, which is used in the production of '\n",
      " 'sterile non-hazardous drug products, including but not limited to '\n",
      " 'Vancomycin, Phenylephrine, Penicillin, Ceftriaxone, and Fentanyl.  d.) The '\n",
      " 'air pressure differential between the ISO 7 Hazardous Drug Room and the ISO '\n",
      " '7 Non-Hazardous Drug Room has been below the specified range of negative (b) '\n",
      " '(4) ” w.c. on 38 of the 44 days between 10/09/19 and 12/05/19 for which data '\n",
      " 'was recorded.  e.) During the cleanroom certification performed on 12/11/18, '\n",
      " 'the following air pressure differentials were out of specification: between '\n",
      " 'the ISO 8 Ante Room and unclassified office area was measured at 0.138” w.c. '\n",
      " 'using a calibrated instrument while the firm’s wall gauge reading was 0.108” '\n",
      " 'w.c., and between the ISO 7 Non- Hazardous Drug Room and ISO 8 Ante Room was '\n",
      " 'measured at 0.00556” w.c. using a calibrated instrument while the firm’s '\n",
      " 'wall gauge reading was 0.044. The subsequent and most recent certification '\n",
      " 'performed on 06/05/19 also had air pressure differentials out of '\n",
      " 'specification: between the ISO 8 Ante Room and unclassified office area was '\n",
      " 'measured at 0.145” w.c. (-0.132” w.c. wall gauge), between the ISO 7 Non- '\n",
      " 'Hazardous Room and the ISO 8 Ante Room was measured at 0.00573” w.c. (0.01” '\n",
      " 'w.c. wall gauge), and between the ISO 7 Hazardous Drug Room and ISO 7 '\n",
      " 'Non-Hazardous Drug Room was measured at -0.0719” w.c. (-0.084” w.c.). The '\n",
      " 'wall gauges used for daily readings have never been calibrated.  ')\n",
      "\n",
      "- - - - - - - - - - - - - - - - - - - - - - - - - - - - - - - - - - - - - - - -\n",
      "\n",
      "Firm Name:  Roger Williams Medical Center\n",
      "Record Date:  2019-08-14 00:00:00\n",
      "Topic Probability:  0.9959396719932556\n",
      "Observation: \n",
      "\n",
      "('Your facility design allowed the influx of poor quality air into a higher '\n",
      " 'classified area.  Specifically,  A. There is an|(®))/@) the unclassified '\n",
      " 'pharmacy area and the ISO 7 classified Clean Room |\\\\*)) <5) the  '\n",
      " 'unclassified pharmacy area and the ISO 7 classified Chemo Room. Components '\n",
      " 'used in production are|(®)) G5 (b) (4) were observed to be cluttered with '\n",
      " 'papers, supplies and equipment. You do not have information or data to '\n",
      " 'provide assurance that the unclassified air from the pharmacy area is not '\n",
      " 'entering the ISO 7 classified Clean Room and Chemo Room  though the|(s))@5 '\n",
      " 'during production.  B. You do not monitor the pressure differential between '\n",
      " 'the ISO 7 Ante Room and the ISO 7 Chemo Room. On 07/22/2019, it was observed '\n",
      " 'that the differential pressure gauge between the two rooms was not operating '\n",
      " 'properly, and the needle on the pressure gauge was resting on the     pin '\n",
      " 'below the pressure gauge’s minimum scale reading of 0.0 inches of water  . '\n",
      " 'You have also been documenting a reading of -0.01 inches of water as the '\n",
      " 'pressure reading between the ISO 7 Chemo Room and ISO 7 Ante Room on your '\n",
      " '(5/5) “Temperature, Humidity, and Pressure Log,” which is a reading below '\n",
      " 'the capability of your differential pressure gauge. The documented pressure '\n",
      " 'reading does not indicate the actual daily pressure differential between the '\n",
      " 'ISO 7 Ante Room and the ISO 7 Chemo Room. Instead, - 0.01 inches of water '\n",
      " 'pressure is documented, which was the differential pressure between the two '\n",
      " 'rooms when the pressure between the rooms was last balanced approximately '\n",
      " 'one year ago.  C. You failed to appropriately monitor the pressure '\n",
      " 'differential between the ISO 7 Clean Room and the ISO 7 Chemo Room. You '\n",
      " 'document 0.01 inches of water as the pressure reading between the ISO 7 '\n",
      " 'Clean Room and ISO 7 Chemo Room on youl() Ca} “Temperature, Humidity, and '\n",
      " 'Pressure Log,” when there is no pressure differential gauge installed '\n",
      " 'between the ISO 7 Clean Room and the ISO 7 Chemo Room. You document a 0.01 '\n",
      " 'inches of water pressure reading, which was the differential pressure '\n",
      " 'between the two rooms when the pressure between the rooms was last balanced '\n",
      " 'approximately one year ago.  D. On 08/05/2019, the pharmacy replaced the '\n",
      " 'pressure differential gauge between the ISO 7 Ante Room and the ISO 7 Chemo '\n",
      " 'Room. On 08/05/2019, it was observed that the pressure gauge between the two '\n",
      " 'rooms indicated an Ante Room pressure of 0.025 inches of water      was '\n",
      " 'opened, the needle on the pressure gauge was resting on the pin below the '\n",
      " 'pressure gauge’s minimum scale reading of 0.0 inches of water pressure. The '\n",
      " 'minimum acceptance criteria for the pressure differential between the two '\n",
      " 'rooms are        is lost  ')\n",
      "\n",
      "- - - - - - - - - - - - - - - - - - - - - - - - - - - - - - - - - - - - - - - -\n",
      "\n",
      "Firm Name:  Hawaii Health Systems Corporation dba Kona Community Hospital Pharmacy\n",
      "Record Date:  2019-12-13 00:00:00\n",
      "Topic Probability:  0.9957447648048401\n",
      "Observation: \n",
      "\n",
      "('Your facility was designed and/or operated in a way that permits poor flow '\n",
      " 'of personnel and materials.  Specifically, the design of the cleanrooms was '\n",
      " 'deficient in the following ways:  a.) Smoke studies performed in the ISO 5 '\n",
      " 'Biological Safety Cabinet used to produce sterile hazardous drug products '\n",
      " 'were not conducted under dynamic conditions to show unidirectional airflow '\n",
      " 'during routine production operations.  b.) HEPA filtered air supply vents '\n",
      " 'and air returns are all located on the ceilings of the ISO 7 Hazardous Drug '\n",
      " 'Room, ISO 7 Non-Hazardous Drug Room, and ISO 8 Ante Room. The metal air '\n",
      " 'vents are not designed to provide unidirectional air to the rooms with air '\n",
      " 'dispersing in two to four different directions from each vent. The firm has '\n",
      " 'not evaluated the air patterns in each room.  c.) The ISO 7 Hazardous Drug '\n",
      " 'Room, ISO 7 Non-Hazardous Drug Room, and ISO 8 Ante Room share  air handling '\n",
      " 'units ((b) (4) ) and a common final HEPA filter with the unclassified office '\n",
      " 'area of the pharmacy. There are no HEPA filters located directly at the air '\n",
      " 'supply vents to each ISO- classified room.  d.) Operators entering the ISO 7 '\n",
      " 'Hazardous Drug Room must first enter the ISO 8 Ante Room to perform initial '\n",
      " 'gowning and pass through the ISO 7 Non-Hazardous Drug Room to enter the ISO '\n",
      " '7 Hazardous Drug Room, where additional gowning and gloves are donned. On '\n",
      " '12/03/19, we observed the operator go back and forth between the ISO 7 '\n",
      " 'Hazardous Drug Room and ISO 8 Ante Room on at least two occasions to obtain '\n",
      " 'more supplies needed for production and cleaning. Upon exiting the ISO 7 '\n",
      " 'Hazardous Drug Room, the secondary gowning was removed and redonned upon '\n",
      " 'reentry; however, there are no restrictions of products being made in both '\n",
      " 'rooms simultaneously and there has been no evaluation of the air patterns '\n",
      " 'created by the movement between rooms.  e.) Room light fixtures located in '\n",
      " 'the ISO 7 Hazardous Drug Room, ISO 7 Non-Hazardous Drug Room, and ISO 8 Ante '\n",
      " 'Room protrude from the ceiling and are not completely sealed around the '\n",
      " 'edges. Gaps of approximately 1/8\" in width were observed along the length of '\n",
      " 'each side of the various light fixtures in each room.  ')\n",
      "\n",
      "- - - - - - - - - - - - - - - - - - - - - - - - - - - - - - - - - - - - - - - -\n",
      "\n",
      "===============================================================================\n",
      "\n",
      "TOPIC NUMBER  4\n",
      "\n",
      "===============================================================================\n",
      "\n",
      "\n",
      "Firm Name:  Edge Pharma, LLC\n",
      "Record Date:  2020-03-30 00:00:00\n",
      "Topic Probability:  0.997157871723175\n",
      "Observation: \n",
      "\n",
      "('Aseptic processing areas are deficient regarding the system for monitoring '\n",
      " 'environmental conditions.  Specifically, the firm’s environmental monitoring '\n",
      " 'practices of classified and aseptic processing areas do not ensure '\n",
      " 'appropriate levels of environmental cleanliness. For example:  A. The firm '\n",
      " 'failed to conduct investigations of environmental excursions to include '\n",
      " 'microbial species identification and perform corrective and preventive '\n",
      " 'actions following identification of objectionable microbes recovered from '\n",
      " 'classified environments such as additional sporicidal cleanings. For '\n",
      " 'example, on 9/25/2019, the firm recovered airborne mold from two locations '\n",
      " 'in ISO-8 room 300 (the firm’s (B) (4) ) and airborne mold from 3 locations '\n",
      " 'in ISO-7 room 302 (the firm’s (b) (4)  ); however, the firm failed to '\n",
      " 'initiate an EEI, only performed microbial species identification for 2 of '\n",
      " 'the 5 mold recoveries (Talaromyces wortmannii and Irpex lacteus, both '\n",
      " 'filamentous fungi), and failed to perform corrective actions such as '\n",
      " 'additional sporicidal cleanings.  B. Objectionable microorganisms such as '\n",
      " 'mold and fungus are not identified to species level. For example, from '\n",
      " '9/1/18 to 3/11/20 a total of 294 environmental monitoring sample recoveries '\n",
      " 'from classified environments were phenotypically identified as mold or '\n",
      " 'fungus and documented by the firm’s staff; however, only 270 of these '\n",
      " 'recoveries were microbially identified to species level.  C. Not all ISO-5 '\n",
      " 'microbial recoveries are identified and investigated. The firm does not '\n",
      " 'perform microbial species identification on all recoveries found on '\n",
      " 'operator’s sleeves unless the recovery is CFUs. Operator’s sleeves were '\n",
      " 'observed to routinely enter ISO-5 environments during the inspection. From '\n",
      " '4/1/19 to 12/31/19, the firm failed to conduct investigations including '\n",
      " 'microbial species identification on 73 microbial recoveries from operator’s '\n",
      " 'sleeves and it is unknown if these recoveries represent objectionable '\n",
      " 'organisms such as spore formers.  D. The firm’s environmental monitoring '\n",
      " 'practices of the il (b) (4)iaminar flow hoods” @ FH) located in the firm’s '\n",
      " 'ISO-7 Clean Room 202 are not supported by scientific justification for '\n",
      " 'sampling locations. For example, the stainless-steel decks of the LFHs ((b) '\n",
      " '(4) in dimension) are perforated with approximately (b) (4) diameter holes '\n",
      " 'except for an approximate (B) (4)-wide non-perforated strip of '\n",
      " 'stainless-steel surface located in the center of the deck. The firm was '\n",
      " 'observed to perform surface sampling of the perforated portion of the VLFH '\n",
      " 'deck instead of the uniform portion of the deck, therefore not allowing for '\n",
      " 'complete contact of sample media to the deck surface.  E. The firm lacks '\n",
      " 'scientific rationale for environmental monitoring alert and action levels. '\n",
      " 'For example, the firm’s ISO-7 surface sampling alert level is ™@ CFUs and '\n",
      " 'action level is” CFUs, and the firm’s ISO-7 viable air alert level is ’CFUs '\n",
      " 'and action level is” CFUs. In addition, the firm does not perform EEIs to '\n",
      " 'include microbial species identification (firm personnel morphologically '\n",
      " 'identify mold and or fungus) and corrective actions for ISO-7 microbial '\n",
      " 'recoveries unless the recovery is ()4) CFUs for surface sampling o1!®) @) '\n",
      " 'CFUs for viable air sampling. It is unknown if these recoveries represent '\n",
      " 'objectionable organisms.  F. The firm’s personnel monitoring practices are — '\n",
      " 'For example, on 3/6/20, two technicians were observed to spray their hands '\n",
      " 'witht )) (4) approximately 90 seconds prior to performing gloved fingertip '\n",
      " 'monitoring, and on 3/11/20 a technician was observed spraying  their hands '\n",
      " 'with immediately before fingertip personnel monitoring.  G. The firm’s '\n",
      " 'environmental monitoring personnel procedures and sampling methods are '\n",
      " 'inadequate and do not ensure recovery of microbes. For example, firm '\n",
      " 'procedure, S-QMR-008 — Personnel Monitoring, states “() (4) . — -  On '\n",
      " '3/6/2020 during a pump to syringe media fill a technician was observed to '\n",
      " 'quickly and lightly tap their fingertips on the agar surface while '\n",
      " 'performing gloved fingertip monitoring instead of (b) (4) with adequate '\n",
      " 'pressure to ensure recovery of potential microbes.  Environmental monitoring '\n",
      " 'deficiencies were also noted during the 2014 and 2018 FDA inspections.  ')\n",
      "\n",
      "- - - - - - - - - - - - - - - - - - - - - - - - - - - - - - - - - - - - - - - -\n",
      "\n",
      "Firm Name:  Hawaii Health Systems Corporation dba Kona Community Hospital Pharmacy\n",
      "Record Date:  2019-12-13 00:00:00\n",
      "Topic Probability:  0.9971029162406921\n",
      "Observation: \n",
      "\n",
      "('You did not make adequate product evaluation and take remedial action where '\n",
      " 'actionable microbial contamination was found to be present in an area '\n",
      " 'adjacent to the ISO 5 classified aseptic processing area during aseptic '\n",
      " 'production.  Specifically, actionable microbial contamination was discovered '\n",
      " 'inside (Db) (4) rooms, where the ISO 5 Biological Safety Cabinet (BSC) and '\n",
      " 'ISO 5 Laminar Airflow (LAF) Hood are located, during (B) (4) cleanroom '\n",
      " 'certifications and periodic settling plate samples and no evaluation of '\n",
      " 'product impact was made. For example:  a.) During the 12/11/18 (b) (4) '\n",
      " 'recertification, the ISO 7 Non-Hazardous Drug Room Viable Air Sample, ID (®) '\n",
      " '(4) had a calculated 44 colony forming units (cfu) /m? identified as '\n",
      " 'Coagulase-negative Staphylococcus species, Dermabacter hominis, and '\n",
      " 'Micrococcus luteus, and the ISO 7 Hazardous Drug Room Viable Air Sample, ID '\n",
      " '(b) (4) had a calculated 18 cfu/m? identified as Bacillus species, '\n",
      " 'Micrococcus luteus, Micrococcus species, and Staphylococcus haemolyticus. '\n",
      " 'The firm did not evaluate any products filled in the ISO 5 LAF Hood and ISO '\n",
      " '5 BSC on 12/11/18 for product impact, including but not limited to: Morphine '\n",
      " 'Img/mL SOmL, Vancomycin 750mg, Vancomycin 1000mg, Vancomycin 1250mg, '\n",
      " 'Vancomycin 1500mg, Acyclovir 600mg, Ertapenem 500mg, Ceftriaxone 473mg, '\n",
      " 'Azithromycin 94.6mg, Ampicillin 473mg, Vasopressin 40 units, and Azacitidine '\n",
      " '150mg.  On the 01/24/19 retest from the December recertification, the ISO 7 '\n",
      " 'Non-Hazardous Drug Room Viable Air Sample, ID (6) (4) had a calculated 27 '\n",
      " 'cfw/m? identified as C orynebacterium minutissimum, Corynebacterium species, '\n",
      " 'Micrococcus species, and Staphylococcus haemolyticus. The firm did not '\n",
      " 'evaluate any products filled in the ISO 5 LAF Hood on 01/24/19 for product '\n",
      " 'impact, including but not limited to: Octreocide 50mcg, Octreocide 500mcg, '\n",
      " 'Pantoprazole 80mg, Clindamycin 61.16lmg, Vancomycin 1000mg, Vancomycin '\n",
      " '1250mg, Ampicillin 80mg, and Gentamicin 7.2mg.  c.) On 01/29/19, a settling '\n",
      " 'plate located (b) (4) in the ISO 7 Non-Hazardous Drug Room had one colony of '\n",
      " 'mold, which was not identified. The firm did not evaluate any products '\n",
      " 'filled in the ISO 5 LAF Hood on 01/29/19 for product impact, which include: '\n",
      " 'Hydromorphone 0.2mg/mL, Midazolam Img/mL, Fentanyl 550mcg/S55mL, Vancomycin '\n",
      " '750mg, Vancomycin 1250mg. Vancomycin 2000mg. and Ferric Carboxymaltose '\n",
      " '750mg.  On 03/27/19, a settling plate located (b) (4) of the ISO 7 Hazardous '\n",
      " 'Drug Room had 2 cfu that were not identified. The firm did not evaluate any '\n",
      " 'products filled in the ISO 5 BSC on 03/27/19  b.  —  d.  —  for product '\n",
      " 'impact, which include: Nivolumab 480mg, Pertuzumab 420mg, Trastuzumab 450mg, '\n",
      " 'Obinutuzumab 1000mg, Bendamustine 125mg. Leucovorin 564mg, Oxaliplatin '\n",
      " '120mg, Fluorouracil 564mg, Fluorouracil 3384mg, Irinotecan 212mg. and '\n",
      " 'Carfilzomib 60mg.  e.) On 05/28/19, a settling plate located (b) (4) 7 in '\n",
      " 'the ISO 7 Non-Hazardous Drug Room had one colony of yeast that was not '\n",
      " 'identified. The firm did not evaluate any products filled in the ISO 5 LAF '\n",
      " 'Hood on 05/28/19 for product impact, which include: Penicillin G 2.5 million '\n",
      " 'Units/Saline 1000mL, Gentamicin 340mg, and Vancomycin 1250mg.  f.) During '\n",
      " 'the 06/05/19 (b) (4) __ recertification, the ISO 7 Hazardous Drug Room '\n",
      " 'Viable Air sample, ID (b) (4). had a calculated 56 cfu/m? identified as '\n",
      " 'Coagulase-negative Staphylococcus species, Corynebacterium minutissimum, '\n",
      " 'Corynebacterium tuberculostearicum, Corynebacterium-like bacteria, '\n",
      " 'gram-positive cocci, Micrococcus luteus, and Micrococcus species, and the '\n",
      " 'ISO 7 Hazardous Drug Room Surface Sample, ID (b) (4) had a calculated 9 cfu '\n",
      " 'on the plate identified as Cellumonas species, Coagulase-negative '\n",
      " 'Staphylococcus species, gram-positive rod, Micrococcus luteus, and '\n",
      " 'Staphylococcus saprophyticus. The firm did not evaluate any products filled '\n",
      " 'in the ISO 5 BSC on 06/05/19 for product impact, which include: Magnesium '\n",
      " 'Sulfate 6g/Saline 162mL, Vancomycin 750mg, Vancomycin 1000mg, Vancomycin '\n",
      " '1250mg. Vancomycin 1500mg. Ampicillin/Sulbactam 3000mg. Potassium Phosphate '\n",
      " '15mmol, Acyclovir 715mg. Nivolumab 240mg, Nivolumab 480mg, Leucovorin 600mg, '\n",
      " 'Leucovorin 664mg, Oxaliplatin 130mg. Oxaliplatin 141mg, Fluorouracil 600mg, '\n",
      " 'Fluorouracil 664mg, Fluorouracil 3700mg, Bevacizumab 585mg, and '\n",
      " 'Pembrolizumab 200mg.  ')\n",
      "\n",
      "- - - - - - - - - - - - - - - - - - - - - - - - - - - - - - - - - - - - - - - -\n",
      "\n",
      "Firm Name:  Advanced Nutriceuticals, LLC\n",
      "Record Date:  2020-10-29 00:00:00\n",
      "Topic Probability:  0.9954625964164734\n",
      "Observation: \n",
      "\n",
      "('Your employees touched equipment and other surface areas outside the ISO 5 '\n",
      " 'area with gloved hands and proceeded to aseptically process drug product '\n",
      " 'without changing or sanitizing gloves.  Specifically,  On 10/14/2020 and '\n",
      " '10/16/2020, we observed your sterile technician perform aseptic techniques '\n",
      " 'in the ISO 5 Cleanroom hood. Your sterile technician’s practice of '\n",
      " 'sanitizing sterile gloved hands and changing of gloves in between contacting '\n",
      " 'non-sterile and sterile materials is inadequate. For example:  A) On '\n",
      " '10/16/2020 while aseptically processing Selank 1000MCG/ML 5 ML, LOT '\n",
      " '1016202002 EXP 11/16/2020 from non-sterile to sterile in the ISO 5 Cleanroom '\n",
      " 'hood:  1. We observed your sterile technician touch or retrieve items '\n",
      " 'outside the ISO 5 Cleanroom hood a total of fourteen (14) times. These '\n",
      " 'include touching the staging cart handle bar, retrieving vials from a '\n",
      " 'non-sterile (4) bag outside the ISO 5 area, and retrieving a syringe outside '\n",
      " 'the ISO 5 area. In between retrieving items from outside of the ISO 5 area, '\n",
      " 'we observed your employee sanitize their gloved hands only once.  2. We '\n",
      " 'observed your sterile technician adjusted their face mask in between aseptic '\n",
      " '(b) (4) with gloved hands in the ISO 5 Cleanroom hood. This employee did not '\n",
      " 'sanitize their gloved hands after touching the face mask.  3. We observed '\n",
      " 'your sterile technician’s gloved hands were visually contaminated and wet '\n",
      " 'with drug product while attaching a (b) (4) to a syringe which contained '\n",
      " 'product. After the gloves were contaminated, your sterile technician did not '\n",
      " 'don a new pair of gloves and only sanitized this contaminated glove with '\n",
      " 'sterile before proceeding to aseptically (MAY Selank LOT 1016202002 EXP '\n",
      " '11/16/2020 from non-sterile to sterile in the ISO 5 Cleanroom hood.  B) On '\n",
      " '10/14/2020, we observed your sterile technician grabbing the trash bin '\n",
      " 'located outside the ISO 5 area with their gloved hands. Your sterile '\n",
      " 'technician neither donned a new pair of sterile gloves nor sanitized their '\n",
      " 'gloved hands before returning to admix a Myer’s Cocktail IV bag in the ISO '\n",
      " '5  Cleanroom hood. Your sterile technician added the 1 but not limited to '\n",
      " 'Ascorbic Acid LOT         EXP 11/20/2020, Potassium Phosphate LOT EXP '\n",
      " '11/10/2020, Glutathione LOT EXP 11/18/2020, and B Complex LOT EXP 11/28/2020 '\n",
      " 'into an IV bag in the Cleanroom hood on 10/14/2020.      ')\n",
      "\n",
      "- - - - - - - - - - - - - - - - - - - - - - - - - - - - - - - - - - - - - - - -\n",
      "\n",
      "===============================================================================\n",
      "\n",
      "TOPIC NUMBER  5\n",
      "\n",
      "===============================================================================\n",
      "\n",
      "\n",
      "Firm Name:  Novel Laboratories, Inc. d.b.a LUPIN\n",
      "Record Date:  2020-11-05 00:00:00\n",
      "Topic Probability:  0.9971585273742676\n",
      "Observation: \n",
      "\n",
      "('Laboratory controls do not include the establishment of scientifically sound '\n",
      " 'and appropriate test procedures designed to assure that drug products '\n",
      " 'conform to appropriate standards of identity, strength, quality and purity.  '\n",
      " 'Specifically,  A. There are no procedures to ensure that the Karl Fischer '\n",
      " '(KF) Moisture Analyzer operates as intended and can accurately assess water '\n",
      " 'content for release testing of the Raw Materials and Finished Products. The '\n",
      " 'firm’s SOP NL-QC-039.15 “OPERATION AND CALIBRATION OF THE KARL FISCHER '\n",
      " 'AUTO-TITRATOR AND POTENTIOMETRIC AUTO-TITRATOR” Effective Date 06/09/2020 '\n",
      " 'does not require analysis of a standard that is close to the sample results '\n",
      " 'for an accuracy check. Instead, the firm uses water to conduct the accuracy '\n",
      " 'check with an acceptance specification of However, the QC water content '\n",
      " 'specification for numerous samples is smaller than the range of error for '\n",
      " 'the water accuracy check. In addition, the firm currently only performs '\n",
      " 'accuracy at of the during the calibration of instrument. The intended used '\n",
      " 'is between therefore, the accuracy needs to be performed at different (b) '\n",
      " '(4) during the instrument calibration for accuracy of the:       The water '\n",
      " 'content specifications for following API, Raw Materials, and Finish '\n",
      " 'Products:           Product Water Content Specification Potassium Chloride '\n",
      " 'for Oral Solution, USP NMT PEG-3350, Sodium Sulfate, Sodium Chloride, NMT  '\n",
      " 'Potassium Chloride, Sodium Ascorbate and Ascorbic Acid for Oral Solution '\n",
      " '(Generic                 )@) > Polyethylene Glycol for Oral Solution '\n",
      " '(GaviLax) NM’ Quinapril HCL NMT     Somerset, NJ 08873-1145 [| Drug Product '\n",
      " 'Manufacturer        NMT nazole, USP NM’ PEG-3350 '\n",
      " 'NMT.                                   B. Your written procedure for '\n",
      " 'calibration of pH meters SOP NL-QC-035.8 “OPERATION, CALIBRATION AND '\n",
      " 'STANDARDIZATION OF pH METERS” Effective Date 03/04/2020, which is used to '\n",
      " 'measure pH in the preparation of mobile phases and diluents, Raw Material '\n",
      " 'release testing, in-process testing, and Finished Product release testing of '\n",
      " 'drug products, is deficient in that:  1. pH probe thermometers are not '\n",
      " 'calibrated as part of the calibration procedure nor are they verified at '\n",
      " 'time of use to ensure that they are reading the correct temperature when the '\n",
      " 'pH is taken. As a result, there is no assurance that the pH readings, which '\n",
      " 'are temperature dependent and automatically adjusted by the instrument, are '\n",
      " 'accurate.  2. During calibration of the pH probe, which is done at least '\n",
      " '(BJ{@J, the temperature and offset are not monitored or recorded.  C. Your '\n",
      " 'written procedure for calibration of HPLC SOP NL-QC-031.16 “OPERATION AND '\n",
      " 'CALIBRATION OF HIGH PERFORMANCE LIQUID CHROMATOGRAPHS” Effective Date '\n",
      " '02/21/2020, which is used to perform analyses for Assay,  Dissolution, and '\n",
      " 'Related Compound of Raw Materials, In-Process, Finish Product, and '\n",
      " 'Stability  Samples, is deficient in that the ow calibration only checks the '\n",
      " 'air temperature of the in one location (exact location not noted in '\n",
      " 'calibration document). There is no     Somerset, NJ 08873-1145 Drug Product '\n",
      " 'Manufacturer        assurance that the (EE is able to maintain SITS across '\n",
      " 'the (ey) vial locations within the instrument. The test methods for the '\n",
      " 'following products require a specific temperature for the sample solution '\n",
      " 'prior to injection:     Method # (6) (4) Title Temperature '\n",
      " 'RM-I16561-LC-HCOOH | - Method of Analysis for (B49)        RM-116561-LC-HCHO '\n",
      " '~ Method of Analysis for (N40     FP-834269-LC-RC FP-060-DEG  Azithromycin '\n",
      " 'Tablets, USP- and| for Oral Solution, USP        FP-358-LC-AS Hydrocodone '\n",
      " 'Bitartrate and Acetaminophen Tablets, USP —     FP-358-LC-RC Hydrocodone '\n",
      " 'Bitartrate and Acetaminophen Tablets, USP —        FP-123-AS-02              '\n",
      " 'i LLL OL  FP-123-DEG-00     Temazepam Capsules, Temazepam Capsules, USP — ')\n",
      "\n",
      "- - - - - - - - - - - - - - - - - - - - - - - - - - - - - - - - - - - - - - - -\n",
      "\n",
      "Firm Name:  Novel Laboratories, Inc. d.b.a LUPIN\n",
      "Record Date:  2020-11-05 00:00:00\n",
      "Topic Probability:  0.9970352649688721\n",
      "Observation: \n",
      "\n",
      "('Written procedures are not followed for evaluations done at least (S)(@YM '\n",
      " 'and including provisions for a review of complaints, recalls, returned or '\n",
      " 'salvaged drug products, and investigations conducted for each drug product.  '\n",
      " 'Specifically, control procedure for Annual Product Review (SOP No. '\n",
      " 'NL-QA-042.7, Version: 7, Effective Date: 4/26/2018) is not followed to '\n",
      " 'evaluate the products at least annually.  Somerset, NJ 08873-1145 [ Drug '\n",
      " 'Product Manufacturer     The review cycle for each drug product (based on '\n",
      " 'approval of the ANDA) is defined in Annual Product Review SOP. As per this '\n",
      " 'SOP the annual product review report should be completed after (BRAVE of the '\n",
      " 'review cycle. On 9/30/2020, significant deficiencies pertaining to timely '\n",
      " 'completion of annual product review reports were observed as '\n",
      " 'below:                    7 Total products for | # of products with # of '\n",
      " 'products with review Review Cycle 7 ? é review delayed review still pending '\n",
      " '20 Gi) 18 @§%) 39) 20 i) 36 @%) 0 @%)                 As of 9/30/202, the '\n",
      " 'Quality Unit failed to complete the annual review for about fff products for '\n",
      " 'more than  (B® as below:                                            a Number '\n",
      " 'of Produc Nome come | Magee | eee | See PP Delayed Potassium Chloride ER '\n",
      " 'Tablets 10 SHANG NS mEqK and (Sa 01/20/2019 09/29/2020* a 12/8/2017 to '\n",
      " 'Phenelzine Tablets, 15mg Denote 05/29/2019 Hydrocodone Bitartrate and '\n",
      " 'Homatropine Methylbromide an eg Pending Tablets, Smg and 1.5mg Review '\n",
      " 'Tinidazole Tablets, USP 250 mg & | 4/30/2018 to Pending 500 mg_ 4/29/2019 '\n",
      " 'Review Methylergonovine Tablets, USP 0.2 | 5/2/2018 to Pending L mg 3/1/2019 '\n",
      " 'Review Temazepam Capsules, USP 15 mg, | 4/21/2018 to 7.5mg, 22.5 mg, 30mg '\n",
      " '4/20/2019 09/11/2020*        EEE EERE EEEEeeeee ees                    '\n",
      " '06/15/2018 Pending to 6/14/2019 Review 06/19/2018 Orphenadrine ER Tablets, '\n",
      " '100mg to Pending 06/18/2019 Review : 05/27/2018 Gavitye to 5/26/2019 '\n",
      " '09/09/2020*  Somerset, NJ 08873-1145 | Drug Product Manufacturer a 6/1/2018 '\n",
      " 'to Saibpes 5/31/2019 09/12/2020* a 6/01/2018 to Seabee 5/31/2019 09/11/2020* '\n",
      " 'Doxycycline capsules, 50, 75, and | 5/28/2018 to Pending 100mg 5/27/2019 '\n",
      " 'Review Voriconazole for Oral 5/31/2018 to  Trimethoprim Tablets, '\n",
      " '100mg           Zolpidem Tartrate Sublingual 6/3/2018 to Pending Tablets, '\n",
      " '1.75 & 3.5 mg 6/2/2019 Review Suspension,40mg/SmL 5/30/2019 09/09/2020*  '\n",
      " '07/07/2018  si * Flucytosine Capsules 250 mg and oa Pending  aoe: 07/06/2019 '\n",
      " 'Review Oxycodone HCI Oral Solution, 4/29/2018 to 20mg/ml 4/28/2019 '\n",
      " '07/17/2020 Misoprostol Tablets, 100 mcg & 200 | 7/25/2018 to Pending meg. '\n",
      " '7/24/2019 Review Nystatin Topical Powder, 100,000 | 7/23/2018 to Units/g, '\n",
      " '7/22/2019 09/29/2020* Pentazocine and Naloxone HCl T/N//2018 to Tablets, '\n",
      " '50/0.5 mg CIV 7/10/2019 09/09/2020* *Review completed during inspection or '\n",
      " 'after inspection announced                                            '\n",
      " 'Specifically,  Your written procedure for laboratory analyst training SOP '\n",
      " 'NL-QC-002.3 “TRAINING OF LABORATORY PERSONNEL” Effective Date 08/11/2014 '\n",
      " 'does not contain a standard training procedure in place for the laboratory '\n",
      " 'analysts for consistent On-the-Job (OJT) training to assure that all '\n",
      " 'analysts receive similar training. Instead, the SOP states that “Assessment '\n",
      " 'of instrument skills based on past experience” and “Extent of Hands-on eee '\n",
      " 'necessary will be determined on the basis o:  (LT ac OJTs for a new employee '\n",
      " 'with previous experiences are skipped. During review of training records for '\n",
      " '{MJ analysts, no OJT records were available. Instead, a Memo was provided '\n",
      " 'for one of the analysts stating that “practical training” had been given on '\n",
      " 'various instruments: Karl Fischer, UV-Vis, Dissolution, HPLC, GC, Density '\n",
      " 'Meter, and Viscometer however, no records of “practical training” were '\n",
      " 'documented and the SOP does not explain what “practical training” consists '\n",
      " 'of.     *DATES OF INSPECTION  09/10/2020(Thu), 09/1 1/2020(Fri), '\n",
      " '09/14/2020(Mon), 09/15/2020(Tue), 09/16/2020( Wed), 09/17/2020(Thu), '\n",
      " '09/18/2020(Fri), 09/24/2020(Thu), 09/25/2020(Fri), 09/28/2020(Mon), '\n",
      " '09/29/2020(Tue), 09/30/2020(Wed), 10/01/2020(Thu), 10/06/2020(Tue), '\n",
      " '10/07/2020( Wed), 10/08/2020(Thu), 10/20/2020(Tue), 10/21/2020(Wed),  '\n",
      " 'Somerset, NJ 08873-1145 l Drug Product Manufacturer a ')\n",
      "\n",
      "- - - - - - - - - - - - - - - - - - - - - - - - - - - - - - - - - - - - - - - -\n",
      "\n",
      "Firm Name:  Fusion IV Pharmaceuticals, Inc. dba Axia Pharmaceuticals\n",
      "Record Date:  2019-12-20 00:00:00\n",
      "Topic Probability:  0.9967412948608398\n",
      "Observation: \n",
      "\n",
      "('Laboratory controls do not include the establishment of scientifically sound '\n",
      " 'and appropriate test procedures designed to assure that conform to '\n",
      " 'appropriate standards of identity, strength, quality and purity.  '\n",
      " 'Specifically,  A. Growth Promotion testing of the OI used in the Aseptic '\n",
      " 'Process Simulations are challenged with only two organisms; Bacillus '\n",
      " 'subtilis and Candida Albicans. The testing of only two  organisms does not '\n",
      " 'demonstrate the media can support growth of a wide range of microorganisms. '\n",
      " 'Your firm is not following the Policy on Aseptic Process Simulations as '\n",
      " 'stated in SOP 4.72 section 8.4.8 which states the selection of 5 '\n",
      " 'microorganisms.  B. Your firm has not performed an antimicrobial '\n",
      " 'effectiveness study to verify that the preservative system is effective and '\n",
      " 'protects the product over its shelf life under expected conditions of use. '\n",
      " 'For example, the following drug stock solutions have a shelf life of six '\n",
      " 'months and contain a preservative. You have not verified through '\n",
      " 'antimicrobial effectiveness studies the content of the preservative. In '\n",
      " 'addition, stability studies have not been provided to show the drug product '\n",
      " 'is stable in its container.  Papaverine HCL; lot 10142019+53116, discard '\n",
      " 'after April 11, 2020 Phentolamine Mesylate; lot 10142019+53114, discard '\n",
      " 'after April 11, 2020  This is a repeat objectionable observation from the '\n",
      " 'March 2017 FDA inspection.  Your firm’s manual visual inspection is '\n",
      " 'inadequate and does not ensure your drug product is contamination free prior '\n",
      " 'to distribution.  1. I observed on 12/5/2019 in the cleanroom suite (ISO 7), '\n",
      " 'aseptic fill technician performing visual inspections at a metal table on '\n",
      " 'finished drugs vial without assistance from light magnification or '\n",
      " 'contrasting white background. I observed the fill technician hold the vial '\n",
      " 'O@9yyyand shake the vial MY hen label the vials. The fill technician '\n",
      " 'conducted visual inspection and labeling on the following drug lots:  '\n",
      " 'Alprostadil 150 meg/ml lot 12042019+53331 Papaverine HCL/Phentolamine '\n",
      " 'mesylate 60mg/40mg/ml lot 12042019+53329  Alprostadil/Papaverme '\n",
      " 'HCL/Phentolamine mesylate/Atropine 18mcg/1.8mg/0.2mg/0.2mg/ml _ lot '\n",
      " '12042019+53327  Alprostadil/Papaverme HCL/Phentolamine mesylate/Atropme '\n",
      " '40mcg/25mg/0.5mg/0.lmg/ml _ lot 12042019+53325  Alprostadil/Papaverine '\n",
      " 'HCL/Phentolamine mesylate/Atropine 60mcg/30mg/2mg/0.15mg/ml lot '\n",
      " '12042019+53323.  2. On 12/5/2019 in the visual inspection room, I observed '\n",
      " 'an employee maneuver Triamcinolone Acetonide (Preservative Free) 2 ml vials '\n",
      " 'lot 12032019+53303 onto the table for labeling and inadvertently drop a vial '\n",
      " 'on the concrete floor. He picked up the vial held it up for approximately '\n",
      " 'one second to the light asked the process engineer if it was ok. The process '\n",
      " 'engineer nodded and the  employee placed it back on the table for labeling. '\n",
      " 'There was no additional examination of the integrity of the glass vial. This '\n",
      " 'visual inspection practice does not adhere to your firm’s SOP 2.87, titled, '\n",
      " '‘Visual Inspection of Finished Drug Products” section 8.5.2 that “if the '\n",
      " 'inspector is uncertain about a potential defect, the unit should be '\n",
      " 'segregated and evaluated more thoroughly by another qualified inspector '\n",
      " 'and/or a Quality Unit representative...”  3. Prior to the fo ll visual '\n",
      " 'inspection of Triamcinolone Acetonide (Preservative Free) 2 ml vials lot '\n",
      " '12032019+53303, your firm failed to measure the intensity of the light '\n",
      " 'source using a calibrated  on the visual inspection machine. SOP 2.87, '\n",
      " 'titled, ‘Visual Inspection of Finished Drug Products” section 8.4 requires '\n",
      " 'the measurement to be recorded in the batch production record; however, '\n",
      " 'there is no allotted space in the batch record to record this measurement.  ')\n",
      "\n",
      "- - - - - - - - - - - - - - - - - - - - - - - - - - - - - - - - - - - - - - - -\n",
      "\n",
      "===============================================================================\n",
      "\n",
      "TOPIC NUMBER  6\n",
      "\n",
      "===============================================================================\n",
      "\n",
      "\n",
      "Firm Name:  Fusion IV Pharmaceuticals, Inc. dba Axia Pharmaceuticals\n",
      "Record Date:  2019-12-20 00:00:00\n",
      "Topic Probability:  0.9982351660728455\n",
      "Observation: \n",
      "\n",
      "('Procedures designed to prevent microbiological contamination of drug '\n",
      " 'products purporting to be sterile are not followed.  Specifically, A.  '\n",
      " 'Observed on 12/3/2019, during the aseptic processing of Methylpredinsolone '\n",
      " 'Acetate batch 12022019+53297, technician dispensed from the ie | bag onto '\n",
      " 'the table top of the laminar flow workstation and use each vial (Theoretical '\n",
      " 'yield ™™ unit vials). Your firm is not followmg your standard operating '\n",
      " 'procedure document number 4.71 titled, “Aseptic Processing Requirements and '\n",
      " 'Technique” which reads in section 7.1.10, “Compounding personnel shall not '\n",
      " 'use a gloved hand to touch any product contact surfaces, but should use '\n",
      " 'appropriately sterilized utensils (e.g., forceps), as needed.”        B.  '\n",
      " 'Observed on 12/11/2019 in the ISO 5 aseptic filling room, aseptic filling '\n",
      " 'operator performed Pee interventions during the ‘it filling of Glutathione '\n",
      " 'batch 12102019+53365 without routinely sanitizing hands. I observed the '\n",
      " 'operator open the cabinet door of the filling machine (ISO 5) and perform '\n",
      " 'interventions at least nissan stopping and starting the machine, dispensing '\n",
      " 'components in the hopper, manipulate capped vials inside the filling machine '\n",
      " 'for approximately a ae period. Your firm is not following your standard '\n",
      " 'operating procedure document number 4.71 tiled, “Aseptic  Processing '\n",
      " 'Requirements and Technique” which reads in section 7.1.11, “Compounding '\n",
      " 'personnel shall change sterile gloves on a frequent basis or disinfect them '\n",
      " 'routinely with OI during prolonged compounding manipulations.”  C.  You did '\n",
      " 'not perform investigations into the root cause of media fill sterility '\n",
      " 'failures for media fill runs performed in ISO 5 Laminar Flow Workstations '\n",
      " '(LAFWs) from Pe. Turbidity was observed in the solutions. You failed to '\n",
      " 'investigate the root cause for the following media fill failures prior to '\n",
      " 'producing and distributing sterile products. See four examples found below:  '\n",
      " '1  Run cil (ail syringe); Summary report PO) RPT notes the following fill '\n",
      " 'runs passed:  Resa                   However, the “Summary of Validation '\n",
      " 'Discrepancies” reads “there was a failure noted”. Media fill number @ 5 is '\n",
      " 'noted as failed. Your firm failed to investigate the failure per your SOP '\n",
      " '4.80, titled, “Validation Protocol for Aseptic Process Simulations”. It '\n",
      " 'reads in section 9.1.1.1., “Any positive units, deviations, or discrepancies '\n",
      " 'must be investigated and shown to have no impact on the validation. In '\n",
      " 'addition, your firm could not provide the batch production record for this '\n",
      " 'failed trial run  a:  Run Type sail Onl vial); Summary report Ln RPT notes '\n",
      " 'the following media fill runs passed:               The “Summary of '\n",
      " 'Validation Discrepancies” reads “there was a failure noted”. The summary '\n",
      " 'report does not list the failure. However, it was found media fill run me] '\n",
      " 'PRD contained the failure. The batch production record for media fill run '\n",
      " 'PO) POW reads the media solution was aseptically The solution “turned turbid '\n",
      " 'after 2 and was not filled into the vials”. Media fill run was replaced with '\n",
      " 'media fill     Your firm failed to investigate the failure per your SOP '\n",
      " '4.80, titled, “Validation Protocol for Aseptic Process Simulations”. It '\n",
      " 'reads in section 9.1.1.1., “Any positive units, deviations, or discrepancies '\n",
      " 'must be investigated and shown to have no impact on the validation.  3. Run '\n",
      " 'Typ validation 2@ 7) filling machine Aseptic Processing Simulation (al '\n",
      " 'vial); Summary report RPT notes the following fill runs passed:      The '\n",
      " '“Summary of Validation Discrepancies” reads “there was a failure noted”. The '\n",
      " 'summary report does not list the failure. Your firm failed to investigate '\n",
      " 'the failure per your SOP 4.80, titled, “Validation Protocol for Aseptic '\n",
      " 'Process Simulations”. It reads in section 9.1.1.1., “Any positive units, '\n",
      " 'deviations, or discrepancies must be investigated and shown to have no '\n",
      " 'impact on the validation.  4. Run Typ mo vial); Summary report = | RPT notes '\n",
      " 'the following media fill runs  passed:  The “Summary of Validation '\n",
      " 'Discrepancies” reads “there was a failure noted”. The summary report does '\n",
      " 'not list the failure. However, it was found media fill run ) contained the '\n",
      " 'failure. The batch production record for media fill run eee 3) reads “AP has '\n",
      " 'been  cancelled due to turbidity of solution after approximately in room '\n",
      " 'temperature.” Media fill run was replaced with media '\n",
      " 'fill                     Your firm failed to investigate the failure per '\n",
      " 'your SOP 4.80, titled, “Validation Protocol for Aseptic Process '\n",
      " 'Simulations”. It reads in section 9.1.1.1., “Any positive units, deviations, '\n",
      " 'or discrepancies must be investigated and shown to have no impact on the '\n",
      " 'validation.  Failure to perform investigations into the root cause of media '\n",
      " 'fill sterility failures for media fill runs is a repeat objectionable '\n",
      " 'observation listed on the FDA 483 inspection dated March 2017.  D.  All '\n",
      " 'media vials from the Aseptic Process Simulation are not being incubated. For '\n",
      " 'example; the Aseptic  Processing simulations for th ial filler Report ID# '\n",
      " 'details Run POW lot  number III yielded a) ] vials; however onl were '\n",
      " 'incubated.  Run lot numbe ielded Pe only PA vials were incubated. Ruy lot '\n",
      " 'number ielded vials only? vials incubated. Justification provided  in the '\n",
      " 'batch record stated it was due to “space constraints”. Therefore, your firm '\n",
      " 'selected every 20) vial  to be incubated.            EB.  Your firm is not '\n",
      " 'following SOP 3.40 Cleaning and Disinfection in Sterile Compounding Areas, '\n",
      " 'version 4 section 4.3. Quality Unit is responsible for reviewing '\n",
      " 'documentation of the cleaning of the contracted cleaning personnel '\n",
      " 'performing the cleaning of the cleanroom suites and laminar flow '\n",
      " 'workstations. There is no review by signature on they cleaning logs '\n",
      " 'completed by the cleaning contractor for the months of October and November '\n",
      " '2019. There is no Check By signature on the an  cleaning logs completed by '\n",
      " 'the cleaning contractor for the months of October and November 2019.  ')\n",
      "\n",
      "- - - - - - - - - - - - - - - - - - - - - - - - - - - - - - - - - - - - - - - -\n",
      "\n",
      "Firm Name:  Hospira Inc\n",
      "Record Date:  2020-01-17 00:00:00\n",
      "Topic Probability:  0.9973527193069458\n",
      "Observation: \n",
      "\n",
      "('Written records of investigations into unexplained discrepancies do not '\n",
      " 'always include the conclusions and follow-up.  Specifically,  A. On August '\n",
      " '21, 2019, an NDA Field- Alert Report McPfar# 2019-043 was initiated for the '\n",
      " 'recovery of 2 species of mold (Cladsporium species and Sarocladium '\n",
      " 'terricola) equaling 62 cfu from the multi-product aseptic filling lin ®)@ '\n",
      " 'Grade A zone where lyophilized product is transferred to the lyophilizer '\n",
      " 'trayer. Furthermore, 6 cfu of bacterial colonies (Brachybacterium rhamnosum) '\n",
      " 'were recovered from the Grade A zone from the same settle plate. In '\n",
      " 'addition, on August 16, 2019, a recovery of 2 cfu of mold colonies '\n",
      " '(Aspergillus species) were isolated from the personnel/material Grade B (b) '\n",
      " '(4) Grade A/B aseptic area.  The mold and bacteria recoveries were '\n",
      " 'identified in the Grade A aseptic zone where lyophilized and sterile '\n",
      " 'solutions are produced. The firm has failed to identify product associated '\n",
      " 'within the filed NDA Field- Alert. However, according to PR#4138900, there '\n",
      " 'wer (6) (4) lots manufactured during the time of the event and (6) (4) lots '\n",
      " 'were released into market. Excursions were due to a missed cleaning and room '\n",
      " 'pressure excursions.  B. On 12/02/2018, an NDA Field-Alert Report McPfar# '\n",
      " '2019-150 was initiated for the recovery of 2 species of mold (Tritirachium '\n",
      " 'oryae and Asperigillus sydowii) equaling 14 cfu from the multi- product '\n",
      " 'aseptic filling lin ()()Grade A zone where the aseptic solution connection '\n",
      " 'is performed. Investigation PR# 2514531 determined that there was no impact '\n",
      " 'to Plazomicin Lot# 951003F and released the batch. Root causes and '\n",
      " 'corrective actions are not robust to mitigate risk and re-  occurrence.  C. '\n",
      " 'On 08/06/2019, an ANDA Field-Alert Report McPfar #2019-037 was initiated for '\n",
      " 'the recovery of 1 cfu of mold growth found on a viable passive air site in '\n",
      " 'the Grade A(6)(4) isolator on July 26, 2019. Investigation PR#4097952 '\n",
      " 'rejected Glatiramer Acetate Injection 20 mg/mL, Lot 070653F. However, the '\n",
      " 'investigation failed to implement an effective CAPA to control contamination '\n",
      " 'within the aseptic isolator barrier Grade A zone.  D. Investigation PR# '\n",
      " '4146395 failed to adequately address the air reversal excursions affecting '\n",
      " 'Grade A/B (b) (4) (room 338A) from the Grade D area supporting the asepti ©) '\n",
      " 'filling line. The room air pressure increases when Grade D room doors are '\n",
      " 'open at the same time as the Grade B doors leading to the asepti ®) filling '\n",
      " 'area. Corrective actions implemented did not mitigate future occurrences  E. '\n",
      " 'On 12/22/2018, Field Alert McPfar 2018-169 was initiated for 23 cfu of mold '\n",
      " 'contamination detected inside a HEPA car (b) (4), used to transport aseptic '\n",
      " 'product from th © filling line. The field alert did not indicate that '\n",
      " 'Vancomycin Hydrochloride for Injection, Lot 96170DD was implicated and later '\n",
      " 'rejected as a batch disposition. Furthermore, the the Field Alert and CAPA '\n",
      " 'PR#2543245, failed to evaluate the (Db) (4)sanitation process of the HEPA '\n",
      " 'carts from the dates of closure, June 2019, to address the interim process '\n",
      " 'that will be used to mitigate risk. HEPA Carts are still being (b) (4) '\n",
      " 'sanitized to be reintroduced back into the clean rooms.  F. On 01/23/2019, '\n",
      " 'Field Alert Report McPfar 2019-006 was initiated in response to '\n",
      " 'investigation PR#4322158 initiated for lcfu for a Class 1, Grade A personnel '\n",
      " 'that was working in the Grade A zone o © filling line. The investigation '\n",
      " 'identifies the cause of the mold species being due to gowning. However, the '\n",
      " 'firm has failed to implement appropriate corrective actions that prevent '\n",
      " 'mold excursions identified on Class 1 employee working inside a Grade A '\n",
      " 'zone. All product batches associated with this personnel excursion were '\n",
      " 'released for distribution.  G. The firm has not initiated an overall '\n",
      " 'effective corrective action plan to mitigate the re-occurrence of bacterial '\n",
      " 'and/or mold colonies isolated from points throughout the aseptic '\n",
      " 'manufacturing suites and supporting areas. Since the last inspection in '\n",
      " 'August 2018, the firm continues to recover bacterial and/or mold isolates '\n",
      " 'from critical zones Grade A and B, supporting areas, and Class 1 '\n",
      " 'personnel.  ')\n",
      "\n",
      "- - - - - - - - - - - - - - - - - - - - - - - - - - - - - - - - - - - - - - - -\n",
      "\n",
      "Firm Name:  Legacy Pharmaceutical Packaging LLC\n",
      "Record Date:  2020-01-16 00:00:00\n",
      "Topic Probability:  0.9959757924079895\n",
      "Observation: \n",
      "\n",
      "('A process whose results cannot be fully verified by subsequent inspection '\n",
      " 'and test has not been adequately validated according to established '\n",
      " 'procedures.  Specifically, the following was noted from review of the Final '\n",
      " 'Report for Performance Qualification for  | Packaging (b) (4), dated on or '\n",
      " 'about 12/23/19:  A. The process control verification protocol (QP '\n",
      " '19-416,-417 and -418, part 8.0) documents the Vision System Challenge tests '\n",
      " 'for incorrect/illegible carton part code and /or UDI barcode on the carton '\n",
      " 'label was a critical quality classification. The final report-(part 4.0) '\n",
      " 'reads.as follows:  “*** Ail PQ tests of the *** Vision System with *** '\n",
      " 'camera arid critical quality attribute checks were performed, verified and '\n",
      " 'demonstrated to meet all acceptance criteria***”.  i. However, the vision '\n",
      " 'system atin as described in part 9 of the (b) (4) packaging instructions '\n",
      " '(Document Number MBR-0602, revision 01), does not include using a challenge '\n",
      " 'carton with either an incorrect carton part code or incorrect UDI barcode. '\n",
      " 'The packaging project manager stated the optical character recognition (OCR) '\n",
      " 'capability of the vision system was never tested (challenged) to detect and '\n",
      " 'reject incorrect part codes or incorrect UDI bar codes during any of the (b) '\n",
      " '(4) performance qualification (PQ) lots. .  ii. | He said the vision system '\n",
      " 'was challenged: for missing / illegible codes, only. The challenge devices '\n",
      " 'for missing / illegible codes were not a controlled/standardized set of test '\n",
      " 'articles used for all performance qualification (PQ) lot tests. The test '\n",
      " 'articles were  (b) (4) to each challenge S saul lot (b) (4) vision '\n",
      " 'challenges were performed per lot).  B. The final report (part 5.0) reads-as '\n",
      " 'follows: “There were no exceptions initiated during the — execution of the '\n",
      " 'PQ protocols”. However Sane occurred and were not included in the  final PQ '\n",
      " 'evaluation: i. | Maintenance was required to adjust the vision system during '\n",
      " '(b) (4) production lot number (b) (4). The engineering technician said he '\n",
      " 'adjusted®  on the vision system because the-system was rejecting too many '\n",
      " 'packages. This maintenance activity was not documented or evaluated as a '\n",
      " 'process exception in the final report.  ii. | Vision system labeling rejects '\n",
      " 'was a statéed critical quality attribute check for the performance '\n",
      " 'qualification, however the number of labeling rejects (nonconformances) '\n",
      " 'detected were not recorded or evaluated as process exceptions in the final '\n",
      " 'report.  iii. | The packaging project manager stated rejected/mislabeled '\n",
      " 'cartons were reworked during (b) (4) of the production lots: However, the '\n",
      " 'amount of rework was not recorded or included the final report as a process '\n",
      " 'exceptions.  ')\n",
      "\n",
      "- - - - - - - - - - - - - - - - - - - - - - - - - - - - - - - - - - - - - - - -\n",
      "\n",
      "===============================================================================\n",
      "\n",
      "TOPIC NUMBER  7\n",
      "\n",
      "===============================================================================\n",
      "\n",
      "\n",
      "Firm Name:  SCA Pharmaceuticals\n",
      "Record Date:  2019-11-19 00:00:00\n",
      "Topic Probability:  0.9985273480415344\n",
      "Observation: \n",
      "\n",
      "('There is a failure to thoroughly review any unexplained discrepancy and the '\n",
      " 'failure of a batch or any of its components to meet any of its '\n",
      " 'specifications whether or not the batch has been already distributed.  '\n",
      " 'Specifically, The firm failed to adequately investigate the following:  A. '\n",
      " 'There have been seven confirmed failures for in-house sterility testing of '\n",
      " 'finished sterile drug products since October 2018 using a(b) (4) method for '\n",
      " 'detection of fluorescence in individual microorganisms ((b) (4) ). All '\n",
      " 'associated batches (1218003930, 1219007440, 1219008117, 1219008696, '\n",
      " '1219009160, 1219009289, & 1219012541) were rejected; however, the '\n",
      " 'investigations did not take into account the identity of the contaminating '\n",
      " 'microorganism(s) to determine its source. For example:  e '\n",
      " 'Out-of-Specification Laboratory Investigation Report OOS 18-087-W was '\n",
      " 'initiated on 10/15/2018 for the sterility test failure of Buffered Lidocaine '\n",
      " '1% in Sodium Bicarbonate 8.4% (b) (4) Syringe lot number 1218003930. The '\n",
      " 'potential root cause(s) was determined to be human error; however, the '\n",
      " 'investigation did not identify the contaminating microorganism(s). The '\n",
      " 'investigation was approved by Quality Assurance 12/10/2018.  e '\n",
      " 'Out-of-Specification Laboratory Investigation Report OOS 19-049-W was '\n",
      " 'initiated on 03/22/2019 for the sterility test failure of Buffered Lidocaine '\n",
      " '1% in Sodium Bicarbonate 8.4% (b) (4) Syringe lot number 1219007440. A '\n",
      " 'definitive root  cause had not been determined but the Deviation '\n",
      " 'Investigation (DV-19-312-W) indicated the possible root cause was human '\n",
      " 'error; however, the investigation did not identify the contaminating '\n",
      " 'microorganism(s). The investigation was approved by Quality Assurance on '\n",
      " '06/17/2019.  e Out-of-Specification Laboratory Investigation Report OOS '\n",
      " '19-055-W was initiated on 04/18/2019 for the sels test failure of Ob) ( hone '\n",
      " 'HC] 0.2mg/mL in 0.9% Sodium Chloride( b) (4 \\\\b) (4) ) (4) lot number '\n",
      " '1219008117. The potential root cause | in eee Investigation (DV-19- 385-W) '\n",
      " 'was human error; however, the investigation did not identify the '\n",
      " 'contaminating microorganism(s). The investigation was approved by Quality '\n",
      " 'Assurance on 09/05/2019.  e Out-of-Specification Laboratory Investigation '\n",
      " 'Report OOS 19-066-W was initiated on 05/11/2019 for the sterility test '\n",
      " 'failure of Vancomycin HCI 1.25g added to 0.9% Sodium Chloride (b) (4) lot '\n",
      " 'number 1219008696. The potential root cause identified in Deviation '\n",
      " 'Investigation (DV-19-472-W) was human error; however, the investigation did '\n",
      " 'not identify the contaminating microorganism(s). The investigation was '\n",
      " 'approved by Quality Assurance on 08/05/2019.  e Out-of-Specification '\n",
      " 'Laboratory Investigation Report OOS 19-071-W was initiated on 05/28/2019 for '\n",
      " 'the sterility test failure of Glycopyrrolate 0.2mg/mL (b) (4) Syringe(b) (4) '\n",
      " 'lot number 1219009160. The potential root cause identified in Deviation '\n",
      " 'Investigation (DV-19-553-W) was human error; however, the investigation did '\n",
      " 'not identify the contaminating microorganism(s). The investigation was '\n",
      " 'approved by Quality Assurance on 08/30/2019.  e Out-of-Specification '\n",
      " 'Laboratory Investigation Report OOS 19-074-W was initiated on 05/31/2019 for '\n",
      " 'the sterility test failure of Phenylephrine HCl 40mcg/mL in 0.9% Sodium '\n",
      " 'Chloride (b) (4) Syringe (b) (4) lot number 1219009289. The potential root '\n",
      " 'cause identified in Deviation Investigation (DV-19-554-W) was  human error; '\n",
      " 'however, the investigation did not identify the contaminating '\n",
      " 'microorganism(s). The investigation was approved by Quality Assurance on '\n",
      " '08/30/2019. e Out-of-Specification Laboratory Investigation Report OOS '\n",
      " '19-123-W was initiated on 09/25/2019 for the sterility test failure of Me '\n",
      " 'HCl 100mcg/mL in 0.9% Sodium Chloride (6) (4) Syringe (b) (4) lot number '\n",
      " '1219012541. A definitive root cause had not been determined but the '\n",
      " 'Deviation Investigation (DV- 19-810-W) indicated the possible root cause was '\n",
      " 'human error; however, the investigation did not identify the contaminating '\n",
      " 'microorganism(s). The investigation was approved by Quality Assurance on '\n",
      " '10/18/2019. Furthermore, it was noted that from January 2019 to October 2019 '\n",
      " 'the firm had approximately 105 occasions in which Personnel Exit Monitoring '\n",
      " 'had exceeded the action limit specification for zero objectionable organisms '\n",
      " 'mostly concerning samples taken from operator hoods (32 occurrences) and '\n",
      " 'chests (50 occurrences); however, the firm had not identified a potential '\n",
      " 'cause for this trend until the Environmental and Personnel Monitoring (b) '\n",
      " '(4) Trend Report which was approved by Quality on 10/29/2019 during the '\n",
      " 'inspection. Examples of the objectionable organisms recovered were Bacillus '\n",
      " 'cereus, Staphylococcus aureus, Moraxella osloensis, and Roseomonas mucosa.  '\n",
      " 'B. On 08/14/2019 the firm had initiated an Out-of-Specification '\n",
      " 'Investigation Report OOS-19- 111-W for a potency failure for the T90 (90 '\n",
      " 'days) stability sample of Heparin Sodium 10units/mL in 0.9% Sodium Chloride '\n",
      " '(b) (4) _ lot number 1219008741, result 82%, specification (b) (4)%. The OOS '\n",
      " 'result was confirmed and the firm had initiated a Deviation Investigation '\n",
      " '(DV-19-711-W) on 08/15/2019 to investigate this failure. The firm had Na) '\n",
      " 'the root cause as inconclusive and took the following corrective actions: (b '\n",
      " '(4  _ The firm had not conducted a health hazard  evaluation of the '\n",
      " 'sub-potent product nor had they notified the customers who had received OM '\n",
      " 'lots of this product with the 90 day BUD, some of which are currently within '\n",
      " 'expiry.  c. On 08/16/2019, the firm initiated a Deviation Investigation '\n",
      " 'Report DV-19-716-W to espeate — within the (6) (4) (b) (4) assembly (SCA '\n",
      " 'part# (Db) (4)) at the (b) (4) side during (| b) (4) testing. The im '\n",
      " 'isolated this leaking (®) @)to one lot of ©)  (lot number (b) (4) » This) '\n",
      " '@)iot was used to manufacture ™™ batches of products in which ~ batches had '\n",
      " '(aye istributed. The investigation indicated that the leaking would occur '\n",
      " 'between(b) (4 The firm concluded that based on investigational  testing, '\n",
      " 'ster te testing, successful ib) (4) testing and risk assessment that the '\n",
      " 'leaking of the (6) (4) (©) @ had no impact to patient safety; however, the '\n",
      " 'firm had not provided samples from the lot of defective (b) (4) (©) (4)... '\n",
      " 'their vendor for evaluation and confirmation that the’ (b) (4) would '\n",
      " 'function as designed. The manufacturer of the  (b) (4)(b) (4) 4)(b) ( ) (4) '\n",
      " ') had provided a written assessment of the functionality of the (®) @) on '\n",
      " 'October 21, 2019 (during the inspection) without an evaluation of this lot '\n",
      " 'of defective(b) (4)  D. The Quality Unit failed to adequately investigate '\n",
      " 'consumer complaints by not evaluating retentions samples and returned '\n",
      " 'product when applicable for confirmation of the reported complaint. For '\n",
      " 'example:  e Customer Complaint Form CUS-18-189-W, dated 11/13/2018, '\n",
      " 'indicated that a customer called stating the nurse from the floor was '\n",
      " 'reporting more hemorrhages on the L&D floor than normal. They had five '\n",
      " 'patients in one day hemorrhage. The customer was requesting potency data on '\n",
      " 'Oxytocin 20units added to 0.9% Sodium Chloride 1000ml Bag lot number '\n",
      " '1218004043. The investigation concluded that there was no impact to product '\n",
      " 'identified as the potency of lot number 1218004043 was confirmed to be '\n",
      " 'within specification via batch record review. The firm did not conduct an '\n",
      " 'evaluation of retain samples. The investigation was approved by Quality on '\n",
      " '12/27/2018.  e Customer Complaint Form CUS-19-028-W, dated 2/26/2019, '\n",
      " 'indicated that a customer had administered © different ba gs of Oxytocin '\n",
      " '20units added to 0.9% Sodium Chloride 500mL Bag lot number 1219006051 to ©) '\n",
      " '@)different pregnant patients and in which their cervixes did not dilate '\n",
      " 'after receiving this product. The investigation concluded that there was no '\n",
      " 'impact to product identified as the potency of lot number 1219006051 was '\n",
      " 'confirmed to be within specification via batch record review. The firm did '\n",
      " 'not conduct an evaluation of retain samples. On 05/22/2019 the firm '\n",
      " 'received) @nnits from lot number 1219006051 from their customer. The units '\n",
      " 'were not evaluated but instead were destroyed. The investigation was '\n",
      " 'approved by Quality on 04/03/2019.  e Customer Complaint Form CUS-19-051-W, '\n",
      " 'dated 04/25/2019, indicated that a customer stated that Oxytocin 20units '\n",
      " 'added to 0.9% Sodium Chloride 1000mL Bag lot number 1219007516 was not '\n",
      " 'working on patients. The investigation concluded that there was no impact to '\n",
      " 'product identified as the potency of lot number 1219007516 was confirmed to '\n",
      " 'be within specification via batch record review. The firm did not conduct an '\n",
      " 'evaluation of retain samples. The investigation was approved by Quality on '\n",
      " '05/20/2019.  Furthermore, the firm has had sixteen Out-of-Specification '\n",
      " 'Investigations involving sub- potent Oxytocin 20 and 30 unit products '\n",
      " 'compounded from October 2018 to March 2019. Each of these investigations '\n",
      " 'confirmed the potency out-of-specification result and the batches were '\n",
      " 'rejected; however, the above mentioned complaint investigations did not '\n",
      " 'contain an evaluation of these Out-of-Specification Investigations within '\n",
      " 'the investigation summary. As a result of these investigations the firm '\n",
      " 'initiated Change Control TCC#19- 073-W (3/18/2019) to update the compounding '\n",
      " 'process to (b) (4)  (Oxytocin 20 units (F008446-A-W-02-05) & Oxytocin 30 '\n",
      " 'units (F08544-A-W-02-04)).  ')\n",
      "\n",
      "- - - - - - - - - - - - - - - - - - - - - - - - - - - - - - - - - - - - - - - -\n",
      "\n",
      "Firm Name:  Lonza Houston, Inc\n",
      "Record Date:  2020-12-10 00:00:00\n",
      "Topic Probability:  0.9964690804481506\n",
      "Observation: \n",
      "\n",
      "('Physical and electronic control of material storage areas is not adequate. '\n",
      " 'Specifically:  a) There is no separate storage area for different (Db) (4) '\n",
      " 'products to prevent mix-ups. Bottles of (B) (4) _ intended for the U.S. '\n",
      " 'market, EU market, and material derived from engineering runs are stored '\n",
      " 'together in the same bin within freezer (D) (4) . This bin is also used to '\n",
      " 'store () (4) material that has been rejected by the Quality Unit but is '\n",
      " 'being released to the client for non-clinical use. Of note, there are '\n",
      " 'differences between the U.S. and EU (b) (4) manufacturing processes.  b) '\n",
      " 'Bottles of different status materials are stored immediately adjacent to one '\n",
      " 'another and primary bottle  labels for the (D) (4) are not adequately '\n",
      " 'designed to prevent mix-ups. Master U.S.  label (#02-00263 v1), Master EU '\n",
      " 'label (#02-00318 v1), and Master Engineering label (#02-00316 v1) are  the '\n",
      " 'same dimensions (~2inch x 3inch), font, and colors (black text on white '\n",
      " 'background). There is no barcode present for direct electronic control. '\n",
      " 'Bottles of both accepted and rejected material are designated by a '\n",
      " '“RELEASED” label that has green background and black text with identical '\n",
      " 'font.  Freezer unit (Db) (4) in room (b) (4). which is used to store the '\n",
      " '(BD) (4) and (b) (4)  (b) (4) is poorly maintained and organized. During '\n",
      " 'inspection of the freezer on December 3, 2020, it was noted that the bottom '\n",
      " 'of the freezer was filled with bottles of (b) (4) . many of which were '\n",
      " 'overturned. The bin containing the (b) (4) was stored directly on top of the '\n",
      " 'bottles. There was substantial frost build-up on the © bottles at the bottom '\n",
      " 'of the unit and on the shelves.  d) , and  )in  On December 3, 2020, we '\n",
      " 'observed materials including” bags of media, bottles of (b) (4) samples '\n",
      " 'located in 15mL conical tubes stored on a metal rack (marked with location '\n",
      " 'code (D) (4) the °C storage room Ab) (4) used for incoming materials '\n",
      " 'storage.  The metal rack does not have locations allocated in SAP material '\n",
      " 'inventory management software and there is no physical control such as '\n",
      " 'labels to indicate the status of materials stored on the rack. Your QC '\n",
      " 'Project Lead stated these materials are samples under test, including '\n",
      " 'material acceptance and stability protocol samples, but there is no visual '\n",
      " 'or physical indication of this.  e) On December 3. 2020 we observed freezer '\n",
      " '(1D) (4) in the warehouse storage room(b) (4) to be  unlocked. This freezer '\n",
      " 'is used to store quarantined materials and contained several quarantined '\n",
      " 'items at the time of inspection. Procedure USWV-16230, “Receiving and '\n",
      " 'Release of Materials, Supplies and Equipment for GMP Use” states “Freezers '\n",
      " 'and refrigerators that can be locked will be kept locked.”  f) During review '\n",
      " 'of the SAP materials management system on December 9, 2020, we noted that '\n",
      " 'there were five expired batches of (D) (4) —_ (part number (1) (4) ) that '\n",
      " 'had not been discarded. Batches (b) (4) expired on April 30, 2020. Batches '\n",
      " '(DB) (4) and (b) (4) expired on September 30, 2020. Procedure USWV-27862, '\n",
      " '“Disposition of Expired and Recalled Materials from GMP Inventory” states '\n",
      " 'that materials should be disposed of within (b) (4) of expiration.  ')\n",
      "\n",
      "- - - - - - - - - - - - - - - - - - - - - - - - - - - - - - - - - - - - - - - -\n",
      "\n",
      "Firm Name:  Hospira Inc\n",
      "Record Date:  2020-01-17 00:00:00\n",
      "Topic Probability:  0.9958623647689819\n",
      "Observation: \n",
      "\n",
      "('Acceptance criteria for the sampling and testing conducted by the quality '\n",
      " 'control unit is not adequate to assure that batches of drug products meet '\n",
      " 'each appropriate specification and appropriate statistical quality control '\n",
      " 'criteria as a condition for their approval and release.  Specifically, your '\n",
      " 'overall endotoxin control strategy is inadequate and does not meet the '\n",
      " 'requirements established in SOP-9605 (6) (4) Monitoring Program and cGMPs.  '\n",
      " 'A. There is no direct/formal confirmation of endotoxin sample hold time '\n",
      " 'during the manufacture of the Nivestim™ biologic drug product, including but '\n",
      " 'not limited to bulk samples from lot 01320DD, during  compounding (BPR — '\n",
      " 'Compounding (b) (4) ) and unit samples from vial filling (BPR — Filling (b) '\n",
      " '(4) operations, ensuring conformance to time limitations established during '\n",
      " 'the (b) (4) validation (PQR0056.00-16-08).  B. The (b) (4) systems '\n",
      " 'supporting the CPM (CARPUJECT™) componentry workflow fail to achieve  your '\n",
      " 'targeted (b) (4) reduction of endotoxin. The performance qualifications '\n",
      " 'report minimum endotoxin log reductions o an © @olass cartridge, '\n",
      " 'PQR0254.00-19-02 (b)(4)il PQR0254.00-19-02 (BY (4), 2.9 (plunger/rubber '\n",
      " 'component, PQRO130.20-19-07) and 1.8 ™I cap, PQRO130.20-19-06). The routine  '\n",
      " '(b) (4) monitoring program for componentry (SOP-96954 Sampling of '\n",
      " 'Manufacturing and Packaging Components), in absence of (b) (A) eduction in '\n",
      " 'endotoxin, does not employ a statistically valid/acceptable sampling plan. '\n",
      " 'For example (6) (4) glass cartridges (SOP-96954) will be assessed for '\n",
      " 'endotoxin from\" (6) (4) batch which routinely exceeds (b) (4) units (6) (4) '\n",
      " '?  (b) (4) ).  C. The Morphine Sulfate endotoxin specifications for '\n",
      " 'componentry (SOP-96054), raw materials/excipient (6)(4) ) and drug substance '\n",
      " '(b) (4) do not ensure the finished drug product will meet specification (b) '\n",
      " '(4) , If the drug substance, raw materials and componentry approach the '\n",
      " 'specification limits for endotoxin, the combined endotoxin load will exceed '\n",
      " 'the drug product specification. An endotoxin value in excess of the drug '\n",
      " 'product specification may not be detected through finished drug product '\n",
      " 'testing due to the very limited/inadequate sampling plan (e.g () (4)  out of '\n",
      " 'approximately (b) (4) units for drug product, Contro (b) (4) ; (b) (4) ) D. '\n",
      " 'The endotoxin control strategy does not include an evaluation (e.g. (b) (4) '\n",
      " 'an (Db) (4) )  of the effect of hold time on the ability to detect endotoxin '\n",
      " 'in all applicable sterile drug products (in-process / bulk and finished). '\n",
      " 'Further, you have not demonstrated your ability to detect endotoxin over '\n",
      " 'your specified sample storage time and conditions in complex '\n",
      " 'formulations/matrices including but not limited to solubilization and/or '\n",
      " 'stabilization agents.  ')\n",
      "\n",
      "- - - - - - - - - - - - - - - - - - - - - - - - - - - - - - - - - - - - - - - -\n",
      "\n",
      "===============================================================================\n",
      "\n",
      "TOPIC NUMBER  8\n",
      "\n",
      "===============================================================================\n",
      "\n",
      "\n",
      "Firm Name:  Roger Williams Medical Center\n",
      "Record Date:  2019-08-14 00:00:00\n",
      "Topic Probability:  0.995243489742279\n",
      "Observation: \n",
      "\n",
      "('You did not make adequate product evaluation and take remedial action where '\n",
      " 'actionable microbial contamination was found to be present in an area '\n",
      " 'adjacent to the ISO 5 classified aseptic processing area during aseptic '\n",
      " 'production.  Specifically, you failed to present any documentation that the '\n",
      " 'pharmacy has adequately investigated or taken remedial action to control '\n",
      " 'objectionable organisms found in the ISO 7 Clean rooms.  A. Routine '\n",
      " 'environmental monitoring done during production on 5/13/2019, resulted in an '\n",
      " 'airborne viable recovery of 2 CFU/m? of “Inpex (mold)” in the Chemo Room. '\n",
      " 'You received the May 2019 environmental monitoring report on 5/21/2019 and '\n",
      " 'you did not respond to the excursion until a (2)@5) of the Chemo Room was '\n",
      " 'performed on 5/24/2019. You continued to produce in the ISO 5 hoods from '\n",
      " '5/21/2019 to 5/23/2019 before performing|(*) |) of the Chemo Room. For '\n",
      " 'example, you produced the chemotherapy treatments Carboplatin 623 MG in NS '\n",
      " '250 MLS and Irmotecan 300 MG IV D5W500 on 5/21/2019 and Oxaliplatin 160 MG '\n",
      " 'in DSW 250 MLS on 5/22/2019. You did not investigate the root cause of the '\n",
      " 'excursion and assess the potential impact on drug products produced during '\n",
      " 'that period.  B. Routine environmental monitoring done during production on '\n",
      " '7/23/2019, resulted in an airborne viable recovery of 3 CFU/m’ of “Irpex '\n",
      " '(mold)” fungal growth in the Center of the Chemo Room. During the '\n",
      " 'environmental monitoring you produced the drug Palonosetron 25MG/S5ML IV. '\n",
      " 'You received the July 2019 environmental monitoring report on 07/30/2019 and '\n",
      " 'you failed to investigate the root cause of the microbial contamination, '\n",
      " 'implement corrective actions, or assess the potential impact on drug '\n",
      " 'products produced during that period.  C. Routine environmental monitoring '\n",
      " 'done on 8/08/2018, resulted in an airborne viable recovery of 1 CFU/m? of '\n",
      " '“Aspergillus fumigatus (mold)” in the center of the Chemo Room and a surface '\n",
      " 'viable recovery of 2 CFU/25cm* of gram-negative rod bacteria '\n",
      " '“Methylobacterium (bact, GNR)” in the wash sink counter of the Ante Room. '\n",
      " 'You received the environmental monitoring report on 8/15/2018 and the '\n",
      " 'next/(®)) 5) of the Chemo Room was performed 9 days later on 8/24/2018. You '\n",
      " 'failed to investigate the root cause of the microbial contamination and  '\n",
      " 'implement corrective actions. In addition, you failed to present any '\n",
      " 'assurance objectionable organisms present in the ISO 7 Ante Room are not '\n",
      " 'transferred to the (4) ISO 7  Chemo Room from personnel movement between the '\n",
      " 'two rooms.  ')\n",
      "\n",
      "- - - - - - - - - - - - - - - - - - - - - - - - - - - - - - - - - - - - - - - -\n",
      "\n",
      "Firm Name:  John L. McClellan Memorial Veterans Hospital\n",
      "Record Date:  2020-01-23 00:00:00\n",
      "Topic Probability:  0.9942987561225891\n",
      "Observation: \n",
      "\n",
      "('he facility design of your cleanroom does not have a suitable construction '\n",
      " 'to facilitate cleaning, maintenance, and proper operations.  Specifically, '\n",
      " 'A. Your firm ground floor inpatient pharmacy was observed to have two (2) '\n",
      " 'wooden doors:  ¢ Wooden door that separates the anteroom from the general '\n",
      " 'pharmacy area; and a observations, and dd‘not représent ‘a final Agericy '\n",
      " 'determination régardiig your comphance. If you have an objection regarding '\n",
      " 'an observation, or have implemented, or plan to implement, corrective action '\n",
      " 'in response to an observation, you may discuss the objection or action with '\n",
      " 'the FDA representative(s) during the inspection or submit this information '\n",
      " 'to FDA at the address above. If you have any questions, please contact FDA '\n",
      " 'at the phone number and address above.  According to your most recent '\n",
      " 'certification report, dated 11 November 2019, this compounding area is a '\n",
      " 'segregated compounding area (SCA) and contains (b) (4), LAFH (1SO-5 '\n",
      " \"Classified) in an unclassified area. Your firm's Chief of Pharmacy stated \"\n",
      " 'STAT Gammediate use) for low-nsk Compounded Sterile Product (CSP) orders are '\n",
      " 'prepared in  the LAFHs ([SO-5 Classified) of this area as a contingency '\n",
      " 'compounding area. This area was converted to a SCA in  September '\n",
      " '2019.            B. Your firm utilizes(b) (4 Refrigerators to store drug '\n",
      " 'products, located in your “(b) (4) Mobile Unit Hazardous and Non- azardous '\n",
      " '(ISO-7 Classified) Areas. According to the Service Manual provided by your '\n",
      " 'firm’s HVAC Supervisor for Engineering, preventative maintenance and routine '\n",
      " 'cleanings are to be performed on this equipment. For example, but are not '\n",
      " 'mae to os condenser grill is to be cleaned (6)(4) the high and low '\n",
      " 'temperature alarms are to be tested (B (4 b) ( ‘3 addition, a condensation '\n",
      " 'evaporation water tray i is eat on the backside of the refrigerators, which '\n",
      " '1 is  Pooling of water may occur if the (BYP is not working properly (i.e. { '\n",
      " 'alarms are to be tested             However, according to your firm’s Chief '\n",
      " 'of Pharmacy, preventative maintenance has not been performed since September '\n",
      " '2018.  ')\n",
      "\n",
      "- - - - - - - - - - - - - - - - - - - - - - - - - - - - - - - - - - - - - - - -\n",
      "\n",
      "Firm Name:  John L. McClellan Memorial Veterans Hospital\n",
      "Record Date:  2020-01-23 00:00:00\n",
      "Topic Probability:  0.9932112693786621\n",
      "Observation: \n",
      "\n",
      "('& 8): the condensation unit or water evaporation tray of the refrigerators '\n",
      " 'located in the [SO-7 Classified areas (Please refer to OBSERVATION 4, 7, & '\n",
      " '8); inadequate cleaning practices (Please refer to OBSERVATIONS 1, 3, 6); '\n",
      " 'non-sterile gowning, and/or exposed skin (Please refer to OBSERVATION 5). In '\n",
      " 'addition, your firm’s inpatient pharmacy supervisor stated (6)(@)) cleanings '\n",
      " 'are routinely scheduled to occur prior to EM sampling.  Your firm continued '\n",
      " 'aseptic operations in this room from 18 September 2019 — present, with the '\n",
      " 'exception of the following closures: « 15 —30 October 2019  ¢ 04-18 December '\n",
      " '2019 observations, and do not represent a tinal Agency determination '\n",
      " 'regarding your compliance. lt you have an objection regarding an '\n",
      " 'observation, or have implemented, or plan to implement, corrective action in '\n",
      " 'response to an observation, you may discuss the objection or action with the '\n",
      " 'FDA representative(s) during the inspection or submit this information to '\n",
      " 'FDA at the address above. If you have any questions, please contact FDA at '\n",
      " 'the phone number and address above.  fu) Count 07/08/2019 Trailer- Hazard '\n",
      " 'Room corner — between BSCs) 09/18/2019 Trailer-?*: Hazard Room Gram-positive '\n",
      " 'rods;  (corner — between BSCs) Micrococcus: Staphylococcus  Colagulase (-); '\n",
      " 'and Other Fungi  09/18/2019 Trailer™® Hazard AnteRoom Gram-positive rods; '\n",
      " '(Shelf) Micrococcus; Staphylococcus  09/30/2019 Trailer-~~ Hazard Room Near '\n",
      " 'Gram-negative rods; Staphylococcus  Colagulase (- ); and Other  10/08/2019 '\n",
      " 'Trailer}: Hazard Room Near Gram-negative rods; ae  11/26/2019 aes Hazard '\n",
      " 'Room Near Other Fungi  According to your firm’s 6-month prescription log, '\n",
      " 'your firm compounded approximately (6) (A)units of sterile drug products in '\n",
      " 'your firm’s Hazardous Room.           ')\n",
      "\n",
      "- - - - - - - - - - - - - - - - - - - - - - - - - - - - - - - - - - - - - - - -\n"
     ]
    }
   ],
   "source": [
    "for topic in range(0, selected_topic_number):\n",
    "    print(\"\\n===============================================================================\\n\")\n",
    "    print(\"TOPIC NUMBER \", topic)\n",
    "    print(\"\\n===============================================================================\\n\")\n",
    "    top_obs = rr2[rr2['topic_number'] == str(topic)].sort_values(by = 'topic_probability', ascending = False)[:3]\n",
    "    for index, row in top_obs.iterrows():\n",
    "        print(\"\\nFirm Name: \", row['company_name'])\n",
    "        print(\"Record Date: \", row['record_date'])\n",
    "        print(\"Topic Probability: \", row['topic_probability'])\n",
    "        print(\"Observation: \\n\")\n",
    "        pprint(row['observations'])\n",
    "        print(\"\\n- - - - - - - - - - - - - - - - - - - - - - - - - - - - - - - - - - - - - - - -\")"
   ]
  },
  {
   "cell_type": "markdown",
   "metadata": {},
   "source": [
    "### Identify Which Topics Particular Auditors Care About"
   ]
  },
  {
   "cell_type": "markdown",
   "metadata": {},
   "source": [
    "Expanding on the methodology used above, a similar approach can be used to evaluate which topics individual auditors have cared about in the past two years. This can be done by separating each obersvation into unique rows for each Investigator assigned to each Audit.   \n",
    "  \n",
    "__NOTE:__ _This portion of the analysis is somewhat difficult to clean the text from. There is a severe limitation in trying to extract auditors associated with each audit from the scanned in PDF of the Form 483 available in the FDA Reading Room. Specifically, extracting auditor information requires cropping the first page of the Form 483 to the section which contains the names of the auditors. Since not all documents are scanned in with identical margins, there is room for error when cropping algorithm attempts to parse information from documents which weren't properly aligned._"
   ]
  },
  {
   "cell_type": "code",
   "execution_count": 50,
   "metadata": {},
   "outputs": [
    {
     "name": "stdout",
     "output_type": "stream",
     "text": [
      "(510, 20)\n"
     ]
    },
    {
     "data": {
      "text/html": [
       "<div>\n",
       "<style scoped>\n",
       "    .dataframe tbody tr th:only-of-type {\n",
       "        vertical-align: middle;\n",
       "    }\n",
       "\n",
       "    .dataframe tbody tr th {\n",
       "        vertical-align: top;\n",
       "    }\n",
       "\n",
       "    .dataframe thead th {\n",
       "        text-align: right;\n",
       "    }\n",
       "</style>\n",
       "<table border=\"1\" class=\"dataframe\">\n",
       "  <thead>\n",
       "    <tr style=\"text-align: right;\">\n",
       "      <th></th>\n",
       "      <th>index</th>\n",
       "      <th>record_date</th>\n",
       "      <th>fei_number</th>\n",
       "      <th>company_name</th>\n",
       "      <th>record_type</th>\n",
       "      <th>state</th>\n",
       "      <th>establishment_type_x</th>\n",
       "      <th>publish_date</th>\n",
       "      <th>href</th>\n",
       "      <th>pdf_url</th>\n",
       "      <th>pdf_name</th>\n",
       "      <th>firm_name</th>\n",
       "      <th>establishment_type_y</th>\n",
       "      <th>facility_city</th>\n",
       "      <th>auditors</th>\n",
       "      <th>audit_dates</th>\n",
       "      <th>observations</th>\n",
       "      <th>topic_number</th>\n",
       "      <th>topic_probability</th>\n",
       "      <th>month</th>\n",
       "    </tr>\n",
       "  </thead>\n",
       "  <tbody>\n",
       "    <tr>\n",
       "      <th>0</th>\n",
       "      <td>2</td>\n",
       "      <td>2021-01-28</td>\n",
       "      <td>3011761321</td>\n",
       "      <td>Wells Pharmacy, Inc</td>\n",
       "      <td>483</td>\n",
       "      <td>Tennessee</td>\n",
       "      <td>Outsourcing Facility</td>\n",
       "      <td>2021-03-31</td>\n",
       "      <td>/media/147184/download</td>\n",
       "      <td>https://www.fda.gov/media/147184/download</td>\n",
       "      <td>WellsPharmacy508ed_0</td>\n",
       "      <td>Wells Pharmacy, Ine     CIty STATE ZIP CODE, C...</td>\n",
       "      <td>490 Us Highway ol Byp N     TYPE ESTABLISHMENT...</td>\n",
       "      <td>Wells Pharmacy, Ine     CITY, STATE, ZIP CODE,...</td>\n",
       "      <td>June P Page</td>\n",
       "      <td>JIN  DATE(S) OF INSPEGTION 12/1/2020-1/28/2021+</td>\n",
       "      <td>There is a failure to thoroughly review the fa...</td>\n",
       "      <td>7</td>\n",
       "      <td>0.138574</td>\n",
       "      <td>2021-01-01</td>\n",
       "    </tr>\n",
       "    <tr>\n",
       "      <th>0</th>\n",
       "      <td>2</td>\n",
       "      <td>2021-01-28</td>\n",
       "      <td>3011761321</td>\n",
       "      <td>Wells Pharmacy, Inc</td>\n",
       "      <td>483</td>\n",
       "      <td>Tennessee</td>\n",
       "      <td>Outsourcing Facility</td>\n",
       "      <td>2021-03-31</td>\n",
       "      <td>/media/147184/download</td>\n",
       "      <td>https://www.fda.gov/media/147184/download</td>\n",
       "      <td>WellsPharmacy508ed_0</td>\n",
       "      <td>Wells Pharmacy, Ine     CIty STATE ZIP CODE, C...</td>\n",
       "      <td>490 Us Highway ol Byp N     TYPE ESTABLISHMENT...</td>\n",
       "      <td>Wells Pharmacy, Ine     CITY, STATE, ZIP CODE,...</td>\n",
       "      <td>Julius I Jones</td>\n",
       "      <td>JIN  DATE(S) OF INSPEGTION 12/1/2020-1/28/2021+</td>\n",
       "      <td>There is a failure to thoroughly review the fa...</td>\n",
       "      <td>7</td>\n",
       "      <td>0.138574</td>\n",
       "      <td>2021-01-01</td>\n",
       "    </tr>\n",
       "    <tr>\n",
       "      <th>0</th>\n",
       "      <td>2</td>\n",
       "      <td>2021-01-28</td>\n",
       "      <td>3011761321</td>\n",
       "      <td>Wells Pharmacy, Inc</td>\n",
       "      <td>483</td>\n",
       "      <td>Tennessee</td>\n",
       "      <td>Outsourcing Facility</td>\n",
       "      <td>2021-03-31</td>\n",
       "      <td>/media/147184/download</td>\n",
       "      <td>https://www.fda.gov/media/147184/download</td>\n",
       "      <td>WellsPharmacy508ed_0</td>\n",
       "      <td>Wells Pharmacy, Ine     CIty STATE ZIP CODE, C...</td>\n",
       "      <td>490 Us Highway ol Byp N     TYPE ESTABLISHMENT...</td>\n",
       "      <td>Wells Pharmacy, Ine     CITY, STATE, ZIP CODE,...</td>\n",
       "      <td>June P Page</td>\n",
       "      <td>JIN  DATE(S) OF INSPEGTION 12/1/2020-1/28/2021+</td>\n",
       "      <td>Buildings used in the manufacture, processing,...</td>\n",
       "      <td>7</td>\n",
       "      <td>0.184301</td>\n",
       "      <td>2021-01-01</td>\n",
       "    </tr>\n",
       "    <tr>\n",
       "      <th>0</th>\n",
       "      <td>2</td>\n",
       "      <td>2021-01-28</td>\n",
       "      <td>3011761321</td>\n",
       "      <td>Wells Pharmacy, Inc</td>\n",
       "      <td>483</td>\n",
       "      <td>Tennessee</td>\n",
       "      <td>Outsourcing Facility</td>\n",
       "      <td>2021-03-31</td>\n",
       "      <td>/media/147184/download</td>\n",
       "      <td>https://www.fda.gov/media/147184/download</td>\n",
       "      <td>WellsPharmacy508ed_0</td>\n",
       "      <td>Wells Pharmacy, Ine     CIty STATE ZIP CODE, C...</td>\n",
       "      <td>490 Us Highway ol Byp N     TYPE ESTABLISHMENT...</td>\n",
       "      <td>Wells Pharmacy, Ine     CITY, STATE, ZIP CODE,...</td>\n",
       "      <td>Julius I Jones</td>\n",
       "      <td>JIN  DATE(S) OF INSPEGTION 12/1/2020-1/28/2021+</td>\n",
       "      <td>Buildings used in the manufacture, processing,...</td>\n",
       "      <td>7</td>\n",
       "      <td>0.184301</td>\n",
       "      <td>2021-01-01</td>\n",
       "    </tr>\n",
       "    <tr>\n",
       "      <th>0</th>\n",
       "      <td>2</td>\n",
       "      <td>2021-01-28</td>\n",
       "      <td>3011761321</td>\n",
       "      <td>Wells Pharmacy, Inc</td>\n",
       "      <td>483</td>\n",
       "      <td>Tennessee</td>\n",
       "      <td>Outsourcing Facility</td>\n",
       "      <td>2021-03-31</td>\n",
       "      <td>/media/147184/download</td>\n",
       "      <td>https://www.fda.gov/media/147184/download</td>\n",
       "      <td>WellsPharmacy508ed_0</td>\n",
       "      <td>Wells Pharmacy, Ine     CIty STATE ZIP CODE, C...</td>\n",
       "      <td>490 Us Highway ol Byp N     TYPE ESTABLISHMENT...</td>\n",
       "      <td>Wells Pharmacy, Ine     CITY, STATE, ZIP CODE,...</td>\n",
       "      <td>June P Page</td>\n",
       "      <td>JIN  DATE(S) OF INSPEGTION 12/1/2020-1/28/2021+</td>\n",
       "      <td>for additional Quality Unit concerns.</td>\n",
       "      <td>8</td>\n",
       "      <td>0.022227</td>\n",
       "      <td>2021-01-01</td>\n",
       "    </tr>\n",
       "  </tbody>\n",
       "</table>\n",
       "</div>"
      ],
      "text/plain": [
       "   index record_date  fei_number          company_name record_type      state  \\\n",
       "0      2  2021-01-28  3011761321  Wells Pharmacy, Inc          483  Tennessee   \n",
       "0      2  2021-01-28  3011761321  Wells Pharmacy, Inc          483  Tennessee   \n",
       "0      2  2021-01-28  3011761321  Wells Pharmacy, Inc          483  Tennessee   \n",
       "0      2  2021-01-28  3011761321  Wells Pharmacy, Inc          483  Tennessee   \n",
       "0      2  2021-01-28  3011761321  Wells Pharmacy, Inc          483  Tennessee   \n",
       "\n",
       "   establishment_type_x publish_date                    href  \\\n",
       "0  Outsourcing Facility   2021-03-31  /media/147184/download   \n",
       "0  Outsourcing Facility   2021-03-31  /media/147184/download   \n",
       "0  Outsourcing Facility   2021-03-31  /media/147184/download   \n",
       "0  Outsourcing Facility   2021-03-31  /media/147184/download   \n",
       "0  Outsourcing Facility   2021-03-31  /media/147184/download   \n",
       "\n",
       "                                     pdf_url              pdf_name  \\\n",
       "0  https://www.fda.gov/media/147184/download  WellsPharmacy508ed_0   \n",
       "0  https://www.fda.gov/media/147184/download  WellsPharmacy508ed_0   \n",
       "0  https://www.fda.gov/media/147184/download  WellsPharmacy508ed_0   \n",
       "0  https://www.fda.gov/media/147184/download  WellsPharmacy508ed_0   \n",
       "0  https://www.fda.gov/media/147184/download  WellsPharmacy508ed_0   \n",
       "\n",
       "                                           firm_name  \\\n",
       "0  Wells Pharmacy, Ine     CIty STATE ZIP CODE, C...   \n",
       "0  Wells Pharmacy, Ine     CIty STATE ZIP CODE, C...   \n",
       "0  Wells Pharmacy, Ine     CIty STATE ZIP CODE, C...   \n",
       "0  Wells Pharmacy, Ine     CIty STATE ZIP CODE, C...   \n",
       "0  Wells Pharmacy, Ine     CIty STATE ZIP CODE, C...   \n",
       "\n",
       "                                establishment_type_y  \\\n",
       "0  490 Us Highway ol Byp N     TYPE ESTABLISHMENT...   \n",
       "0  490 Us Highway ol Byp N     TYPE ESTABLISHMENT...   \n",
       "0  490 Us Highway ol Byp N     TYPE ESTABLISHMENT...   \n",
       "0  490 Us Highway ol Byp N     TYPE ESTABLISHMENT...   \n",
       "0  490 Us Highway ol Byp N     TYPE ESTABLISHMENT...   \n",
       "\n",
       "                                       facility_city        auditors  \\\n",
       "0  Wells Pharmacy, Ine     CITY, STATE, ZIP CODE,...     June P Page   \n",
       "0  Wells Pharmacy, Ine     CITY, STATE, ZIP CODE,...  Julius I Jones   \n",
       "0  Wells Pharmacy, Ine     CITY, STATE, ZIP CODE,...     June P Page   \n",
       "0  Wells Pharmacy, Ine     CITY, STATE, ZIP CODE,...  Julius I Jones   \n",
       "0  Wells Pharmacy, Ine     CITY, STATE, ZIP CODE,...     June P Page   \n",
       "\n",
       "                                         audit_dates  \\\n",
       "0  JIN  DATE(S) OF INSPEGTION 12/1/2020-1/28/2021+     \n",
       "0  JIN  DATE(S) OF INSPEGTION 12/1/2020-1/28/2021+     \n",
       "0  JIN  DATE(S) OF INSPEGTION 12/1/2020-1/28/2021+     \n",
       "0  JIN  DATE(S) OF INSPEGTION 12/1/2020-1/28/2021+     \n",
       "0  JIN  DATE(S) OF INSPEGTION 12/1/2020-1/28/2021+     \n",
       "\n",
       "                                        observations topic_number  \\\n",
       "0  There is a failure to thoroughly review the fa...            7   \n",
       "0  There is a failure to thoroughly review the fa...            7   \n",
       "0  Buildings used in the manufacture, processing,...            7   \n",
       "0  Buildings used in the manufacture, processing,...            7   \n",
       "0            for additional Quality Unit concerns.              8   \n",
       "\n",
       "   topic_probability      month  \n",
       "0           0.138574 2021-01-01  \n",
       "0           0.138574 2021-01-01  \n",
       "0           0.184301 2021-01-01  \n",
       "0           0.184301 2021-01-01  \n",
       "0           0.022227 2021-01-01  "
      ]
     },
     "execution_count": 50,
     "metadata": {},
     "output_type": "execute_result"
    }
   ],
   "source": [
    "# filter out rows which don't contain Investigator\n",
    "ad = rr2[~rr2['auditors'].isnull()]\n",
    "ad = ad[ad['auditors'].str.contains(\"Investigator\")]\n",
    "\n",
    "# separate into rows where each row has an auditor\n",
    "titles = ['Investigator - Team Biologics', 'National Expert']\n",
    "ad = ad.assign(auditors = ad['auditors'].str.replace(r'National Expert', 'Investigator').str.replace(r'Investigator - Team Biologics', 'Investigator').str.split(r'Investigator')).explode('auditors')\n",
    "ad['auditors'] = ad['auditors'].str.replace(',', ' ').str.strip()\n",
    "ad = ad[ad['auditors'] != '']\n",
    "print(ad.shape)\n",
    "ad.head()"
   ]
  },
  {
   "cell_type": "markdown",
   "metadata": {},
   "source": [
    "#### Most Prevalent Auditors"
   ]
  },
  {
   "cell_type": "code",
   "execution_count": 51,
   "metadata": {},
   "outputs": [
    {
     "data": {
      "application/vnd.plotly.v1+json": {
       "config": {
        "plotlyServerURL": "https://plot.ly"
       },
       "data": [
        {
         "alignmentgroup": "True",
         "hovertemplate": "count=%{x}<br>auditors=%{y}<extra></extra>",
         "legendgroup": "",
         "marker": {
          "color": "#636efa"
         },
         "name": "",
         "offsetgroup": "",
         "orientation": "h",
         "showlegend": false,
         "textposition": "auto",
         "type": "bar",
         "x": [
          14,
          14,
          15,
          15,
          16,
          16,
          16,
          16,
          20,
          21
         ],
         "xaxis": "x",
         "y": [
          "John P Mistler",
          "Camerson E Moore",
          "Jon P Antoniou",
          "Se hee) a gee ee Peele het a 9 ew  Bei Y He",
          "Djamila Harouaka  FDA Center Employee or Employee of Other Federal Agencies",
          "As haan a ge ee Oe ee emt Sg ew  Jessica L Pressley",
          "Joanne E King",
          "Erik W Koester",
          "Erika V Butler",
          "Jonah S Ufferfilge"
         ],
         "yaxis": "y"
        }
       ],
       "layout": {
        "autosize": true,
        "barmode": "relative",
        "legend": {
         "tracegroupgap": 0
        },
        "template": {
         "data": {
          "bar": [
           {
            "error_x": {
             "color": "#2a3f5f"
            },
            "error_y": {
             "color": "#2a3f5f"
            },
            "marker": {
             "line": {
              "color": "#E5ECF6",
              "width": 0.5
             }
            },
            "type": "bar"
           }
          ],
          "barpolar": [
           {
            "marker": {
             "line": {
              "color": "#E5ECF6",
              "width": 0.5
             }
            },
            "type": "barpolar"
           }
          ],
          "carpet": [
           {
            "aaxis": {
             "endlinecolor": "#2a3f5f",
             "gridcolor": "white",
             "linecolor": "white",
             "minorgridcolor": "white",
             "startlinecolor": "#2a3f5f"
            },
            "baxis": {
             "endlinecolor": "#2a3f5f",
             "gridcolor": "white",
             "linecolor": "white",
             "minorgridcolor": "white",
             "startlinecolor": "#2a3f5f"
            },
            "type": "carpet"
           }
          ],
          "choropleth": [
           {
            "colorbar": {
             "outlinewidth": 0,
             "ticks": ""
            },
            "type": "choropleth"
           }
          ],
          "contour": [
           {
            "colorbar": {
             "outlinewidth": 0,
             "ticks": ""
            },
            "colorscale": [
             [
              0,
              "#0d0887"
             ],
             [
              0.1111111111111111,
              "#46039f"
             ],
             [
              0.2222222222222222,
              "#7201a8"
             ],
             [
              0.3333333333333333,
              "#9c179e"
             ],
             [
              0.4444444444444444,
              "#bd3786"
             ],
             [
              0.5555555555555556,
              "#d8576b"
             ],
             [
              0.6666666666666666,
              "#ed7953"
             ],
             [
              0.7777777777777778,
              "#fb9f3a"
             ],
             [
              0.8888888888888888,
              "#fdca26"
             ],
             [
              1,
              "#f0f921"
             ]
            ],
            "type": "contour"
           }
          ],
          "contourcarpet": [
           {
            "colorbar": {
             "outlinewidth": 0,
             "ticks": ""
            },
            "type": "contourcarpet"
           }
          ],
          "heatmap": [
           {
            "colorbar": {
             "outlinewidth": 0,
             "ticks": ""
            },
            "colorscale": [
             [
              0,
              "#0d0887"
             ],
             [
              0.1111111111111111,
              "#46039f"
             ],
             [
              0.2222222222222222,
              "#7201a8"
             ],
             [
              0.3333333333333333,
              "#9c179e"
             ],
             [
              0.4444444444444444,
              "#bd3786"
             ],
             [
              0.5555555555555556,
              "#d8576b"
             ],
             [
              0.6666666666666666,
              "#ed7953"
             ],
             [
              0.7777777777777778,
              "#fb9f3a"
             ],
             [
              0.8888888888888888,
              "#fdca26"
             ],
             [
              1,
              "#f0f921"
             ]
            ],
            "type": "heatmap"
           }
          ],
          "heatmapgl": [
           {
            "colorbar": {
             "outlinewidth": 0,
             "ticks": ""
            },
            "colorscale": [
             [
              0,
              "#0d0887"
             ],
             [
              0.1111111111111111,
              "#46039f"
             ],
             [
              0.2222222222222222,
              "#7201a8"
             ],
             [
              0.3333333333333333,
              "#9c179e"
             ],
             [
              0.4444444444444444,
              "#bd3786"
             ],
             [
              0.5555555555555556,
              "#d8576b"
             ],
             [
              0.6666666666666666,
              "#ed7953"
             ],
             [
              0.7777777777777778,
              "#fb9f3a"
             ],
             [
              0.8888888888888888,
              "#fdca26"
             ],
             [
              1,
              "#f0f921"
             ]
            ],
            "type": "heatmapgl"
           }
          ],
          "histogram": [
           {
            "marker": {
             "colorbar": {
              "outlinewidth": 0,
              "ticks": ""
             }
            },
            "type": "histogram"
           }
          ],
          "histogram2d": [
           {
            "colorbar": {
             "outlinewidth": 0,
             "ticks": ""
            },
            "colorscale": [
             [
              0,
              "#0d0887"
             ],
             [
              0.1111111111111111,
              "#46039f"
             ],
             [
              0.2222222222222222,
              "#7201a8"
             ],
             [
              0.3333333333333333,
              "#9c179e"
             ],
             [
              0.4444444444444444,
              "#bd3786"
             ],
             [
              0.5555555555555556,
              "#d8576b"
             ],
             [
              0.6666666666666666,
              "#ed7953"
             ],
             [
              0.7777777777777778,
              "#fb9f3a"
             ],
             [
              0.8888888888888888,
              "#fdca26"
             ],
             [
              1,
              "#f0f921"
             ]
            ],
            "type": "histogram2d"
           }
          ],
          "histogram2dcontour": [
           {
            "colorbar": {
             "outlinewidth": 0,
             "ticks": ""
            },
            "colorscale": [
             [
              0,
              "#0d0887"
             ],
             [
              0.1111111111111111,
              "#46039f"
             ],
             [
              0.2222222222222222,
              "#7201a8"
             ],
             [
              0.3333333333333333,
              "#9c179e"
             ],
             [
              0.4444444444444444,
              "#bd3786"
             ],
             [
              0.5555555555555556,
              "#d8576b"
             ],
             [
              0.6666666666666666,
              "#ed7953"
             ],
             [
              0.7777777777777778,
              "#fb9f3a"
             ],
             [
              0.8888888888888888,
              "#fdca26"
             ],
             [
              1,
              "#f0f921"
             ]
            ],
            "type": "histogram2dcontour"
           }
          ],
          "mesh3d": [
           {
            "colorbar": {
             "outlinewidth": 0,
             "ticks": ""
            },
            "type": "mesh3d"
           }
          ],
          "parcoords": [
           {
            "line": {
             "colorbar": {
              "outlinewidth": 0,
              "ticks": ""
             }
            },
            "type": "parcoords"
           }
          ],
          "pie": [
           {
            "automargin": true,
            "type": "pie"
           }
          ],
          "scatter": [
           {
            "marker": {
             "colorbar": {
              "outlinewidth": 0,
              "ticks": ""
             }
            },
            "type": "scatter"
           }
          ],
          "scatter3d": [
           {
            "line": {
             "colorbar": {
              "outlinewidth": 0,
              "ticks": ""
             }
            },
            "marker": {
             "colorbar": {
              "outlinewidth": 0,
              "ticks": ""
             }
            },
            "type": "scatter3d"
           }
          ],
          "scattercarpet": [
           {
            "marker": {
             "colorbar": {
              "outlinewidth": 0,
              "ticks": ""
             }
            },
            "type": "scattercarpet"
           }
          ],
          "scattergeo": [
           {
            "marker": {
             "colorbar": {
              "outlinewidth": 0,
              "ticks": ""
             }
            },
            "type": "scattergeo"
           }
          ],
          "scattergl": [
           {
            "marker": {
             "colorbar": {
              "outlinewidth": 0,
              "ticks": ""
             }
            },
            "type": "scattergl"
           }
          ],
          "scattermapbox": [
           {
            "marker": {
             "colorbar": {
              "outlinewidth": 0,
              "ticks": ""
             }
            },
            "type": "scattermapbox"
           }
          ],
          "scatterpolar": [
           {
            "marker": {
             "colorbar": {
              "outlinewidth": 0,
              "ticks": ""
             }
            },
            "type": "scatterpolar"
           }
          ],
          "scatterpolargl": [
           {
            "marker": {
             "colorbar": {
              "outlinewidth": 0,
              "ticks": ""
             }
            },
            "type": "scatterpolargl"
           }
          ],
          "scatterternary": [
           {
            "marker": {
             "colorbar": {
              "outlinewidth": 0,
              "ticks": ""
             }
            },
            "type": "scatterternary"
           }
          ],
          "surface": [
           {
            "colorbar": {
             "outlinewidth": 0,
             "ticks": ""
            },
            "colorscale": [
             [
              0,
              "#0d0887"
             ],
             [
              0.1111111111111111,
              "#46039f"
             ],
             [
              0.2222222222222222,
              "#7201a8"
             ],
             [
              0.3333333333333333,
              "#9c179e"
             ],
             [
              0.4444444444444444,
              "#bd3786"
             ],
             [
              0.5555555555555556,
              "#d8576b"
             ],
             [
              0.6666666666666666,
              "#ed7953"
             ],
             [
              0.7777777777777778,
              "#fb9f3a"
             ],
             [
              0.8888888888888888,
              "#fdca26"
             ],
             [
              1,
              "#f0f921"
             ]
            ],
            "type": "surface"
           }
          ],
          "table": [
           {
            "cells": {
             "fill": {
              "color": "#EBF0F8"
             },
             "line": {
              "color": "white"
             }
            },
            "header": {
             "fill": {
              "color": "#C8D4E3"
             },
             "line": {
              "color": "white"
             }
            },
            "type": "table"
           }
          ]
         },
         "layout": {
          "annotationdefaults": {
           "arrowcolor": "#2a3f5f",
           "arrowhead": 0,
           "arrowwidth": 1
          },
          "autotypenumbers": "strict",
          "coloraxis": {
           "colorbar": {
            "outlinewidth": 0,
            "ticks": ""
           }
          },
          "colorscale": {
           "diverging": [
            [
             0,
             "#8e0152"
            ],
            [
             0.1,
             "#c51b7d"
            ],
            [
             0.2,
             "#de77ae"
            ],
            [
             0.3,
             "#f1b6da"
            ],
            [
             0.4,
             "#fde0ef"
            ],
            [
             0.5,
             "#f7f7f7"
            ],
            [
             0.6,
             "#e6f5d0"
            ],
            [
             0.7,
             "#b8e186"
            ],
            [
             0.8,
             "#7fbc41"
            ],
            [
             0.9,
             "#4d9221"
            ],
            [
             1,
             "#276419"
            ]
           ],
           "sequential": [
            [
             0,
             "#0d0887"
            ],
            [
             0.1111111111111111,
             "#46039f"
            ],
            [
             0.2222222222222222,
             "#7201a8"
            ],
            [
             0.3333333333333333,
             "#9c179e"
            ],
            [
             0.4444444444444444,
             "#bd3786"
            ],
            [
             0.5555555555555556,
             "#d8576b"
            ],
            [
             0.6666666666666666,
             "#ed7953"
            ],
            [
             0.7777777777777778,
             "#fb9f3a"
            ],
            [
             0.8888888888888888,
             "#fdca26"
            ],
            [
             1,
             "#f0f921"
            ]
           ],
           "sequentialminus": [
            [
             0,
             "#0d0887"
            ],
            [
             0.1111111111111111,
             "#46039f"
            ],
            [
             0.2222222222222222,
             "#7201a8"
            ],
            [
             0.3333333333333333,
             "#9c179e"
            ],
            [
             0.4444444444444444,
             "#bd3786"
            ],
            [
             0.5555555555555556,
             "#d8576b"
            ],
            [
             0.6666666666666666,
             "#ed7953"
            ],
            [
             0.7777777777777778,
             "#fb9f3a"
            ],
            [
             0.8888888888888888,
             "#fdca26"
            ],
            [
             1,
             "#f0f921"
            ]
           ]
          },
          "colorway": [
           "#636efa",
           "#EF553B",
           "#00cc96",
           "#ab63fa",
           "#FFA15A",
           "#19d3f3",
           "#FF6692",
           "#B6E880",
           "#FF97FF",
           "#FECB52"
          ],
          "font": {
           "color": "#2a3f5f"
          },
          "geo": {
           "bgcolor": "white",
           "lakecolor": "white",
           "landcolor": "#E5ECF6",
           "showlakes": true,
           "showland": true,
           "subunitcolor": "white"
          },
          "hoverlabel": {
           "align": "left"
          },
          "hovermode": "closest",
          "mapbox": {
           "style": "light"
          },
          "paper_bgcolor": "white",
          "plot_bgcolor": "#E5ECF6",
          "polar": {
           "angularaxis": {
            "gridcolor": "white",
            "linecolor": "white",
            "ticks": ""
           },
           "bgcolor": "#E5ECF6",
           "radialaxis": {
            "gridcolor": "white",
            "linecolor": "white",
            "ticks": ""
           }
          },
          "scene": {
           "xaxis": {
            "backgroundcolor": "#E5ECF6",
            "gridcolor": "white",
            "gridwidth": 2,
            "linecolor": "white",
            "showbackground": true,
            "ticks": "",
            "zerolinecolor": "white"
           },
           "yaxis": {
            "backgroundcolor": "#E5ECF6",
            "gridcolor": "white",
            "gridwidth": 2,
            "linecolor": "white",
            "showbackground": true,
            "ticks": "",
            "zerolinecolor": "white"
           },
           "zaxis": {
            "backgroundcolor": "#E5ECF6",
            "gridcolor": "white",
            "gridwidth": 2,
            "linecolor": "white",
            "showbackground": true,
            "ticks": "",
            "zerolinecolor": "white"
           }
          },
          "shapedefaults": {
           "line": {
            "color": "#2a3f5f"
           }
          },
          "ternary": {
           "aaxis": {
            "gridcolor": "white",
            "linecolor": "white",
            "ticks": ""
           },
           "baxis": {
            "gridcolor": "white",
            "linecolor": "white",
            "ticks": ""
           },
           "bgcolor": "#E5ECF6",
           "caxis": {
            "gridcolor": "white",
            "linecolor": "white",
            "ticks": ""
           }
          },
          "title": {
           "x": 0.05
          },
          "xaxis": {
           "automargin": true,
           "gridcolor": "white",
           "linecolor": "white",
           "ticks": "",
           "title": {
            "standoff": 15
           },
           "zerolinecolor": "white",
           "zerolinewidth": 2
          },
          "yaxis": {
           "automargin": true,
           "gridcolor": "white",
           "linecolor": "white",
           "ticks": "",
           "title": {
            "standoff": 15
           },
           "zerolinecolor": "white",
           "zerolinewidth": 2
          }
         }
        },
        "title": {
         "text": "Auditors with the most observations attributed to their audits"
        },
        "xaxis": {
         "anchor": "y",
         "autorange": true,
         "domain": [
          0,
          1
         ],
         "range": [
          0,
          22.105263157894736
         ],
         "title": {
          "text": "count"
         },
         "type": "linear"
        },
        "yaxis": {
         "anchor": "x",
         "autorange": true,
         "domain": [
          0,
          1
         ],
         "range": [
          -0.5,
          9.5
         ],
         "title": {
          "text": "auditors"
         },
         "type": "category"
        }
       }
      },
      "image/png": "[encoded data removed]",
      "text/html": [
       "<div>                            <div id=\"a7e2a982-a3e3-41d8-8c4b-e10b2d40e5a9\" class=\"plotly-graph-div\" style=\"height:525px; width:100%;\"></div>            <script type=\"text/javascript\">                require([\"plotly\"], function(Plotly) {                    window.PLOTLYENV=window.PLOTLYENV || {};                                    if (document.getElementById(\"a7e2a982-a3e3-41d8-8c4b-e10b2d40e5a9\")) {                    Plotly.newPlot(                        \"a7e2a982-a3e3-41d8-8c4b-e10b2d40e5a9\",                        [{\"alignmentgroup\": \"True\", \"hovertemplate\": \"count=%{x}<br>auditors=%{y}<extra></extra>\", \"legendgroup\": \"\", \"marker\": {\"color\": \"#636efa\"}, \"name\": \"\", \"offsetgroup\": \"\", \"orientation\": \"h\", \"showlegend\": false, \"textposition\": \"auto\", \"type\": \"bar\", \"x\": [14, 14, 15, 15, 16, 16, 16, 16, 20, 21], \"xaxis\": \"x\", \"y\": [\"John P Mistler\", \"Camerson E Moore\", \"Jon P Antoniou\", \"Se hee) a gee ee Peele het a 9 ew  Bei Y He\", \"Djamila Harouaka  FDA Center Employee or Employee of Other Federal Agencies\", \"As haan a ge ee Oe ee emt Sg ew  Jessica L Pressley\", \"Joanne E King\", \"Erik W Koester\", \"Erika V Butler\", \"Jonah S Ufferfilge\"], \"yaxis\": \"y\"}],                        {\"barmode\": \"relative\", \"legend\": {\"tracegroupgap\": 0}, \"template\": {\"data\": {\"bar\": [{\"error_x\": {\"color\": \"#2a3f5f\"}, \"error_y\": {\"color\": \"#2a3f5f\"}, \"marker\": {\"line\": {\"color\": \"#E5ECF6\", \"width\": 0.5}}, \"type\": \"bar\"}], \"barpolar\": [{\"marker\": {\"line\": {\"color\": \"#E5ECF6\", \"width\": 0.5}}, \"type\": \"barpolar\"}], \"carpet\": [{\"aaxis\": {\"endlinecolor\": \"#2a3f5f\", \"gridcolor\": \"white\", \"linecolor\": \"white\", \"minorgridcolor\": \"white\", \"startlinecolor\": \"#2a3f5f\"}, \"baxis\": {\"endlinecolor\": \"#2a3f5f\", \"gridcolor\": \"white\", \"linecolor\": \"white\", \"minorgridcolor\": \"white\", \"startlinecolor\": \"#2a3f5f\"}, \"type\": \"carpet\"}], \"choropleth\": [{\"colorbar\": {\"outlinewidth\": 0, \"ticks\": \"\"}, \"type\": \"choropleth\"}], \"contour\": [{\"colorbar\": {\"outlinewidth\": 0, \"ticks\": \"\"}, \"colorscale\": [[0.0, \"#0d0887\"], [0.1111111111111111, \"#46039f\"], [0.2222222222222222, \"#7201a8\"], [0.3333333333333333, \"#9c179e\"], [0.4444444444444444, \"#bd3786\"], [0.5555555555555556, \"#d8576b\"], [0.6666666666666666, \"#ed7953\"], [0.7777777777777778, \"#fb9f3a\"], [0.8888888888888888, \"#fdca26\"], [1.0, \"#f0f921\"]], \"type\": \"contour\"}], \"contourcarpet\": [{\"colorbar\": {\"outlinewidth\": 0, \"ticks\": \"\"}, \"type\": \"contourcarpet\"}], \"heatmap\": [{\"colorbar\": {\"outlinewidth\": 0, \"ticks\": \"\"}, \"colorscale\": [[0.0, \"#0d0887\"], [0.1111111111111111, \"#46039f\"], [0.2222222222222222, \"#7201a8\"], [0.3333333333333333, \"#9c179e\"], [0.4444444444444444, \"#bd3786\"], [0.5555555555555556, \"#d8576b\"], [0.6666666666666666, \"#ed7953\"], [0.7777777777777778, \"#fb9f3a\"], [0.8888888888888888, \"#fdca26\"], [1.0, \"#f0f921\"]], \"type\": \"heatmap\"}], \"heatmapgl\": [{\"colorbar\": {\"outlinewidth\": 0, \"ticks\": \"\"}, \"colorscale\": [[0.0, \"#0d0887\"], [0.1111111111111111, \"#46039f\"], [0.2222222222222222, \"#7201a8\"], [0.3333333333333333, \"#9c179e\"], [0.4444444444444444, \"#bd3786\"], [0.5555555555555556, \"#d8576b\"], [0.6666666666666666, \"#ed7953\"], [0.7777777777777778, \"#fb9f3a\"], [0.8888888888888888, \"#fdca26\"], [1.0, \"#f0f921\"]], \"type\": \"heatmapgl\"}], \"histogram\": [{\"marker\": {\"colorbar\": {\"outlinewidth\": 0, \"ticks\": \"\"}}, \"type\": \"histogram\"}], \"histogram2d\": [{\"colorbar\": {\"outlinewidth\": 0, \"ticks\": \"\"}, \"colorscale\": [[0.0, \"#0d0887\"], [0.1111111111111111, \"#46039f\"], [0.2222222222222222, \"#7201a8\"], [0.3333333333333333, \"#9c179e\"], [0.4444444444444444, \"#bd3786\"], [0.5555555555555556, \"#d8576b\"], [0.6666666666666666, \"#ed7953\"], [0.7777777777777778, \"#fb9f3a\"], [0.8888888888888888, \"#fdca26\"], [1.0, \"#f0f921\"]], \"type\": \"histogram2d\"}], \"histogram2dcontour\": [{\"colorbar\": {\"outlinewidth\": 0, \"ticks\": \"\"}, \"colorscale\": [[0.0, \"#0d0887\"], [0.1111111111111111, \"#46039f\"], [0.2222222222222222, \"#7201a8\"], [0.3333333333333333, \"#9c179e\"], [0.4444444444444444, \"#bd3786\"], [0.5555555555555556, \"#d8576b\"], [0.6666666666666666, \"#ed7953\"], [0.7777777777777778, \"#fb9f3a\"], [0.8888888888888888, \"#fdca26\"], [1.0, \"#f0f921\"]], \"type\": \"histogram2dcontour\"}], \"mesh3d\": [{\"colorbar\": {\"outlinewidth\": 0, \"ticks\": \"\"}, \"type\": \"mesh3d\"}], \"parcoords\": [{\"line\": {\"colorbar\": {\"outlinewidth\": 0, \"ticks\": \"\"}}, \"type\": \"parcoords\"}], \"pie\": [{\"automargin\": true, \"type\": \"pie\"}], \"scatter\": [{\"marker\": {\"colorbar\": {\"outlinewidth\": 0, \"ticks\": \"\"}}, \"type\": \"scatter\"}], \"scatter3d\": [{\"line\": {\"colorbar\": {\"outlinewidth\": 0, \"ticks\": \"\"}}, \"marker\": {\"colorbar\": {\"outlinewidth\": 0, \"ticks\": \"\"}}, \"type\": \"scatter3d\"}], \"scattercarpet\": [{\"marker\": {\"colorbar\": {\"outlinewidth\": 0, \"ticks\": \"\"}}, \"type\": \"scattercarpet\"}], \"scattergeo\": [{\"marker\": {\"colorbar\": {\"outlinewidth\": 0, \"ticks\": \"\"}}, \"type\": \"scattergeo\"}], \"scattergl\": [{\"marker\": {\"colorbar\": {\"outlinewidth\": 0, \"ticks\": \"\"}}, \"type\": \"scattergl\"}], \"scattermapbox\": [{\"marker\": {\"colorbar\": {\"outlinewidth\": 0, \"ticks\": \"\"}}, \"type\": \"scattermapbox\"}], \"scatterpolar\": [{\"marker\": {\"colorbar\": {\"outlinewidth\": 0, \"ticks\": \"\"}}, \"type\": \"scatterpolar\"}], \"scatterpolargl\": [{\"marker\": {\"colorbar\": {\"outlinewidth\": 0, \"ticks\": \"\"}}, \"type\": \"scatterpolargl\"}], \"scatterternary\": [{\"marker\": {\"colorbar\": {\"outlinewidth\": 0, \"ticks\": \"\"}}, \"type\": \"scatterternary\"}], \"surface\": [{\"colorbar\": {\"outlinewidth\": 0, \"ticks\": \"\"}, \"colorscale\": [[0.0, \"#0d0887\"], [0.1111111111111111, \"#46039f\"], [0.2222222222222222, \"#7201a8\"], [0.3333333333333333, \"#9c179e\"], [0.4444444444444444, \"#bd3786\"], [0.5555555555555556, \"#d8576b\"], [0.6666666666666666, \"#ed7953\"], [0.7777777777777778, \"#fb9f3a\"], [0.8888888888888888, \"#fdca26\"], [1.0, \"#f0f921\"]], \"type\": \"surface\"}], \"table\": [{\"cells\": {\"fill\": {\"color\": \"#EBF0F8\"}, \"line\": {\"color\": \"white\"}}, \"header\": {\"fill\": {\"color\": \"#C8D4E3\"}, \"line\": {\"color\": \"white\"}}, \"type\": \"table\"}]}, \"layout\": {\"annotationdefaults\": {\"arrowcolor\": \"#2a3f5f\", \"arrowhead\": 0, \"arrowwidth\": 1}, \"autotypenumbers\": \"strict\", \"coloraxis\": {\"colorbar\": {\"outlinewidth\": 0, \"ticks\": \"\"}}, \"colorscale\": {\"diverging\": [[0, \"#8e0152\"], [0.1, \"#c51b7d\"], [0.2, \"#de77ae\"], [0.3, \"#f1b6da\"], [0.4, \"#fde0ef\"], [0.5, \"#f7f7f7\"], [0.6, \"#e6f5d0\"], [0.7, \"#b8e186\"], [0.8, \"#7fbc41\"], [0.9, \"#4d9221\"], [1, \"#276419\"]], \"sequential\": [[0.0, \"#0d0887\"], [0.1111111111111111, \"#46039f\"], [0.2222222222222222, \"#7201a8\"], [0.3333333333333333, \"#9c179e\"], [0.4444444444444444, \"#bd3786\"], [0.5555555555555556, \"#d8576b\"], [0.6666666666666666, \"#ed7953\"], [0.7777777777777778, \"#fb9f3a\"], [0.8888888888888888, \"#fdca26\"], [1.0, \"#f0f921\"]], \"sequentialminus\": [[0.0, \"#0d0887\"], [0.1111111111111111, \"#46039f\"], [0.2222222222222222, \"#7201a8\"], [0.3333333333333333, \"#9c179e\"], [0.4444444444444444, \"#bd3786\"], [0.5555555555555556, \"#d8576b\"], [0.6666666666666666, \"#ed7953\"], [0.7777777777777778, \"#fb9f3a\"], [0.8888888888888888, \"#fdca26\"], [1.0, \"#f0f921\"]]}, \"colorway\": [\"#636efa\", \"#EF553B\", \"#00cc96\", \"#ab63fa\", \"#FFA15A\", \"#19d3f3\", \"#FF6692\", \"#B6E880\", \"#FF97FF\", \"#FECB52\"], \"font\": {\"color\": \"#2a3f5f\"}, \"geo\": {\"bgcolor\": \"white\", \"lakecolor\": \"white\", \"landcolor\": \"#E5ECF6\", \"showlakes\": true, \"showland\": true, \"subunitcolor\": \"white\"}, \"hoverlabel\": {\"align\": \"left\"}, \"hovermode\": \"closest\", \"mapbox\": {\"style\": \"light\"}, \"paper_bgcolor\": \"white\", \"plot_bgcolor\": \"#E5ECF6\", \"polar\": {\"angularaxis\": {\"gridcolor\": \"white\", \"linecolor\": \"white\", \"ticks\": \"\"}, \"bgcolor\": \"#E5ECF6\", \"radialaxis\": {\"gridcolor\": \"white\", \"linecolor\": \"white\", \"ticks\": \"\"}}, \"scene\": {\"xaxis\": {\"backgroundcolor\": \"#E5ECF6\", \"gridcolor\": \"white\", \"gridwidth\": 2, \"linecolor\": \"white\", \"showbackground\": true, \"ticks\": \"\", \"zerolinecolor\": \"white\"}, \"yaxis\": {\"backgroundcolor\": \"#E5ECF6\", \"gridcolor\": \"white\", \"gridwidth\": 2, \"linecolor\": \"white\", \"showbackground\": true, \"ticks\": \"\", \"zerolinecolor\": \"white\"}, \"zaxis\": {\"backgroundcolor\": \"#E5ECF6\", \"gridcolor\": \"white\", \"gridwidth\": 2, \"linecolor\": \"white\", \"showbackground\": true, \"ticks\": \"\", \"zerolinecolor\": \"white\"}}, \"shapedefaults\": {\"line\": {\"color\": \"#2a3f5f\"}}, \"ternary\": {\"aaxis\": {\"gridcolor\": \"white\", \"linecolor\": \"white\", \"ticks\": \"\"}, \"baxis\": {\"gridcolor\": \"white\", \"linecolor\": \"white\", \"ticks\": \"\"}, \"bgcolor\": \"#E5ECF6\", \"caxis\": {\"gridcolor\": \"white\", \"linecolor\": \"white\", \"ticks\": \"\"}}, \"title\": {\"x\": 0.05}, \"xaxis\": {\"automargin\": true, \"gridcolor\": \"white\", \"linecolor\": \"white\", \"ticks\": \"\", \"title\": {\"standoff\": 15}, \"zerolinecolor\": \"white\", \"zerolinewidth\": 2}, \"yaxis\": {\"automargin\": true, \"gridcolor\": \"white\", \"linecolor\": \"white\", \"ticks\": \"\", \"title\": {\"standoff\": 15}, \"zerolinecolor\": \"white\", \"zerolinewidth\": 2}}}, \"title\": {\"text\": \"Auditors with the most observations attributed to their audits\"}, \"xaxis\": {\"anchor\": \"y\", \"domain\": [0.0, 1.0], \"title\": {\"text\": \"count\"}}, \"yaxis\": {\"anchor\": \"x\", \"domain\": [0.0, 1.0], \"title\": {\"text\": \"auditors\"}}},                        {\"responsive\": true}                    ).then(function(){\n",
       "                            \n",
       "var gd = document.getElementById('a7e2a982-a3e3-41d8-8c4b-e10b2d40e5a9');\n",
       "var x = new MutationObserver(function (mutations, observer) {{\n",
       "        var display = window.getComputedStyle(gd).display;\n",
       "        if (!display || display === 'none') {{\n",
       "            console.log([gd, 'removed!']);\n",
       "            Plotly.purge(gd);\n",
       "            observer.disconnect();\n",
       "        }}\n",
       "}});\n",
       "\n",
       "// Listen for the removal of the full notebook cells\n",
       "var notebookContainer = gd.closest('#notebook-container');\n",
       "if (notebookContainer) {{\n",
       "    x.observe(notebookContainer, {childList: true});\n",
       "}}\n",
       "\n",
       "// Listen for the clearing of the current output cell\n",
       "var outputEl = gd.closest('.output');\n",
       "if (outputEl) {{\n",
       "    x.observe(outputEl, {childList: true});\n",
       "}}\n",
       "\n",
       "                        })                };                });            </script>        </div>"
      ]
     },
     "metadata": {},
     "output_type": "display_data"
    }
   ],
   "source": [
    "top_auditors = ad.groupby('auditors').size().reset_index(name = 'count').sort_values(by = 'count', ascending = False)[:10].sort_values(by = 'count')\n",
    "fig = px.bar(top_auditors, x = 'count', y = 'auditors', orientation = 'h', \n",
    "            title = 'Auditors with the most observations attributed to their audits')\n",
    "fig"
   ]
  },
  {
   "cell_type": "markdown",
   "metadata": {},
   "source": [
    "#### Top 3 Observation Topics for Each Auditor"
   ]
  },
  {
   "cell_type": "code",
   "execution_count": 52,
   "metadata": {},
   "outputs": [
    {
     "name": "stdout",
     "output_type": "stream",
     "text": [
      "\n",
      "===============================================================================\n",
      "\n",
      "AUDITOR:  Jonah S Ufferfilge\n",
      "Total Observations:  21\n",
      "Top Topics: \n",
      "\tTopic Number  7  ( 7  Observations )\n",
      "\tTopic Number  3  ( 6  Observations )\n",
      "\tTopic Number  2  ( 4  Observations )\n",
      "\n",
      "===============================================================================\n",
      "\n",
      "\n",
      "===============================================================================\n",
      "\n",
      "AUDITOR:  Erika V Butler\n",
      "Total Observations:  20\n",
      "Top Topics: \n",
      "\tTopic Number  7  ( 11  Observations )\n",
      "\tTopic Number  8  ( 6  Observations )\n",
      "\tTopic Number  5  ( 1  Observations )\n",
      "\n",
      "===============================================================================\n",
      "\n",
      "\n",
      "===============================================================================\n",
      "\n",
      "AUDITOR:  Djamila Harouaka  FDA Center Employee or Employee of Other Federal Agencies\n",
      "Total Observations:  16\n",
      "Top Topics: \n",
      "\tTopic Number  7  ( 8  Observations )\n",
      "\tTopic Number  3  ( 3  Observations )\n",
      "\tTopic Number  6  ( 2  Observations )\n",
      "\n",
      "===============================================================================\n",
      "\n",
      "\n",
      "===============================================================================\n",
      "\n",
      "AUDITOR:  Erik W Koester\n",
      "Total Observations:  16\n",
      "Top Topics: \n",
      "\tTopic Number  7  ( 8  Observations )\n",
      "\tTopic Number  3  ( 3  Observations )\n",
      "\tTopic Number  2  ( 2  Observations )\n",
      "\n",
      "===============================================================================\n",
      "\n",
      "\n",
      "===============================================================================\n",
      "\n",
      "AUDITOR:  Joanne E King\n",
      "Total Observations:  16\n",
      "Top Topics: \n",
      "\tTopic Number  7  ( 8  Observations )\n",
      "\tTopic Number  3  ( 3  Observations )\n",
      "\tTopic Number  6  ( 2  Observations )\n",
      "\n",
      "===============================================================================\n",
      "\n",
      "\n",
      "===============================================================================\n",
      "\n",
      "AUDITOR:  As haan a ge ee Oe ee emt Sg ew  Jessica L Pressley\n",
      "Total Observations:  16\n",
      "Top Topics: \n",
      "\tTopic Number  7  ( 6  Observations )\n",
      "\tTopic Number  8  ( 4  Observations )\n",
      "\tTopic Number  5  ( 3  Observations )\n",
      "\n",
      "===============================================================================\n",
      "\n",
      "\n",
      "===============================================================================\n",
      "\n",
      "AUDITOR:  Jon P Antoniou\n",
      "Total Observations:  15\n",
      "Top Topics: \n",
      "\tTopic Number  4  ( 12  Observations )\n",
      "\tTopic Number  7  ( 1  Observations )\n",
      "\tTopic Number  3  ( 1  Observations )\n",
      "\n",
      "===============================================================================\n",
      "\n",
      "\n",
      "===============================================================================\n",
      "\n",
      "AUDITOR:  Se hee) a gee ee Peele het a 9 ew  Bei Y He\n",
      "Total Observations:  15\n",
      "Top Topics: \n",
      "\tTopic Number  4  ( 12  Observations )\n",
      "\tTopic Number  3  ( 1  Observations )\n",
      "\tTopic Number  7  ( 1  Observations )\n",
      "\n",
      "===============================================================================\n",
      "\n",
      "\n",
      "===============================================================================\n",
      "\n",
      "AUDITOR:  John P Mistler\n",
      "Total Observations:  14\n",
      "Top Topics: \n",
      "\tTopic Number  7  ( 7  Observations )\n",
      "\tTopic Number  3  ( 3  Observations )\n",
      "\tTopic Number  2  ( 2  Observations )\n",
      "\n",
      "===============================================================================\n",
      "\n",
      "\n",
      "===============================================================================\n",
      "\n",
      "AUDITOR:  Samir C Gala\n",
      "Total Observations:  14\n",
      "Top Topics: \n",
      "\tTopic Number  7  ( 7  Observations )\n",
      "\tTopic Number  3  ( 3  Observations )\n",
      "\tTopic Number  2  ( 2  Observations )\n",
      "\n",
      "===============================================================================\n",
      "\n",
      "\n",
      "===============================================================================\n",
      "\n",
      "AUDITOR:  Camerson E Moore\n",
      "Total Observations:  14\n",
      "Top Topics: \n",
      "\tTopic Number  7  ( 5  Observations )\n",
      "\tTopic Number  8  ( 5  Observations )\n",
      "\tTopic Number  3  ( 2  Observations )\n",
      "\n",
      "===============================================================================\n",
      "\n",
      "\n",
      "===============================================================================\n",
      "\n",
      "AUDITOR:  Julius I Jones\n",
      "Total Observations:  13\n",
      "Top Topics: \n",
      "\tTopic Number  7  ( 8  Observations )\n",
      "\tTopic Number  8  ( 3  Observations )\n",
      "\tTopic Number  3  ( 1  Observations )\n",
      "\n",
      "===============================================================================\n",
      "\n",
      "\n",
      "===============================================================================\n",
      "\n",
      "AUDITOR:  -\n",
      "Total Observations:  13\n",
      "Top Topics: \n",
      "\tTopic Number  7  ( 7  Observations )\n",
      "\tTopic Number  5  ( 3  Observations )\n",
      "\tTopic Number  6  ( 2  Observations )\n",
      "\n",
      "===============================================================================\n",
      "\n",
      "\n",
      "===============================================================================\n",
      "\n",
      "AUDITOR:  een ener Sr merge = d > “et Unnee Ranjan\n",
      "Total Observations:  13\n",
      "Top Topics: \n",
      "\tTopic Number  7  ( 7  Observations )\n",
      "\tTopic Number  5  ( 3  Observations )\n",
      "\tTopic Number  6  ( 2  Observations )\n",
      "\n",
      "===============================================================================\n",
      "\n",
      "\n",
      "===============================================================================\n",
      "\n",
      "AUDITOR:  s Rciw it Lata Mathew\n",
      "Total Observations:  13\n",
      "Top Topics: \n",
      "\tTopic Number  7  ( 7  Observations )\n",
      "\tTopic Number  5  ( 3  Observations )\n",
      "\tTopic Number  6  ( 2  Observations )\n",
      "\n",
      "===============================================================================\n",
      "\n",
      "\n",
      "===============================================================================\n",
      "\n",
      "AUDITOR:  xf a sal Saleem Akhtar\n",
      "Total Observations:  13\n",
      "Top Topics: \n",
      "\tTopic Number  7  ( 7  Observations )\n",
      "\tTopic Number  5  ( 3  Observations )\n",
      "\tTopic Number  6  ( 2  Observations )\n",
      "\n",
      "===============================================================================\n",
      "\n",
      "\n",
      "===============================================================================\n",
      "\n",
      "AUDITOR:  pee >  Ko Min\n",
      "Total Observations:  13\n",
      "Top Topics: \n",
      "\tTopic Number  7  ( 7  Observations )\n",
      "\tTopic Number  5  ( 3  Observations )\n",
      "\tTopic Number  6  ( 2  Observations )\n",
      "\n",
      "===============================================================================\n",
      "\n",
      "\n",
      "===============================================================================\n",
      "\n",
      "AUDITOR:  June P Page\n",
      "Total Observations:  13\n",
      "Top Topics: \n",
      "\tTopic Number  7  ( 8  Observations )\n",
      "\tTopic Number  8  ( 3  Observations )\n",
      "\tTopic Number  3  ( 1  Observations )\n",
      "\n",
      "===============================================================================\n",
      "\n",
      "\n",
      "===============================================================================\n",
      "\n",
      "AUDITOR:  John M Mastalski\n",
      "Total Observations:  11\n",
      "Top Topics: \n",
      "\tTopic Number  7  ( 8  Observations )\n",
      "\tTopic Number  3  ( 1  Observations )\n",
      "\tTopic Number  5  ( 1  Observations )\n",
      "\n",
      "===============================================================================\n",
      "\n",
      "\n",
      "===============================================================================\n",
      "\n",
      "AUDITOR:  TRICTHOSOOTIMaAi.sr mMNnonrmtri. TIT\n",
      "Total Observations:  11\n",
      "Top Topics: \n",
      "\tTopic Number  7  ( 8  Observations )\n",
      "\tTopic Number  5  ( 1  Observations )\n",
      "\tTopic Number  8  ( 1  Observations )\n",
      "\n",
      "===============================================================================\n",
      "\n",
      "\n",
      "===============================================================================\n",
      "\n",
      "AUDITOR:  Mindy M Chou\n",
      "Total Observations:  11\n",
      "Top Topics: \n",
      "\tTopic Number  7  ( 6  Observations )\n",
      "\tTopic Number  3  ( 3  Observations )\n",
      "\tTopic Number  5  ( 1  Observations )\n",
      "\n",
      "===============================================================================\n",
      "\n",
      "\n",
      "===============================================================================\n",
      "\n",
      "AUDITOR:  Se Ei Te Go ee Se te ee ee  Jazmine N Still\n",
      "Total Observations:  10\n",
      "Top Topics: \n",
      "\tTopic Number  7  ( 7  Observations )\n",
      "\tTopic Number  6  ( 2  Observations )\n",
      "\tTopic Number  8  ( 1  Observations )\n",
      "\n",
      "===============================================================================\n",
      "\n",
      "\n",
      "===============================================================================\n",
      "\n",
      "AUDITOR:  Simone E Pitts\n",
      "Total Observations:  10\n",
      "Top Topics: \n",
      "\tTopic Number  7  ( 7  Observations )\n",
      "\tTopic Number  6  ( 2  Observations )\n",
      "\tTopic Number  8  ( 1  Observations )\n",
      "\n",
      "===============================================================================\n",
      "\n",
      "\n",
      "===============================================================================\n",
      "\n",
      "AUDITOR:  Scott A Golladay\n",
      "Total Observations:  10\n",
      "Top Topics: \n",
      "\tTopic Number  7  ( 7  Observations )\n",
      "\tTopic Number  6  ( 2  Observations )\n",
      "\tTopic Number  8  ( 1  Observations )\n",
      "\n",
      "===============================================================================\n",
      "\n",
      "\n",
      "===============================================================================\n",
      "\n",
      "AUDITOR:  Seneca D Toms\n",
      "Total Observations:  9\n",
      "Top Topics: \n",
      "\tTopic Number  7  ( 4  Observations )\n",
      "\tTopic Number  8  ( 2  Observations )\n",
      "\tTopic Number  4  ( 1  Observations )\n",
      "\n",
      "===============================================================================\n",
      "\n",
      "\n",
      "===============================================================================\n",
      "\n",
      "AUDITOR:  a ee  SS See ee OR eS eee eee  Jared P Stevens\n",
      "Total Observations:  9\n",
      "Top Topics: \n",
      "\tTopic Number  7  ( 4  Observations )\n",
      "\tTopic Number  8  ( 2  Observations )\n",
      "\tTopic Number  3  ( 1  Observations )\n",
      "\n",
      "===============================================================================\n",
      "\n",
      "\n",
      "===============================================================================\n",
      "\n",
      "AUDITOR:  Jonathan G Matrisciano\n",
      "Total Observations:  9\n",
      "Top Topics: \n",
      "\tTopic Number  3  ( 3  Observations )\n",
      "\tTopic Number  8  ( 2  Observations )\n",
      "\tTopic Number  2  ( 2  Observations )\n",
      "\n",
      "===============================================================================\n",
      "\n",
      "\n",
      "===============================================================================\n",
      "\n",
      "AUDITOR:  CAS e te Aes Page ee Peet eed a a wy  Patty P Kaewussdangkul\n",
      "Total Observations:  9\n",
      "Top Topics: \n",
      "\tTopic Number  7  ( 4  Observations )\n",
      "\tTopic Number  4  ( 2  Observations )\n",
      "\tTopic Number  3  ( 2  Observations )\n",
      "\n",
      "===============================================================================\n",
      "\n",
      "\n",
      "===============================================================================\n",
      "\n",
      "AUDITOR:  Marcus F Yambot\n",
      "Total Observations:  8\n",
      "Top Topics: \n",
      "\tTopic Number  3  ( 4  Observations )\n",
      "\tTopic Number  4  ( 3  Observations )\n",
      "\tTopic Number  7  ( 1  Observations )\n",
      "\n",
      "===============================================================================\n",
      "\n",
      "\n",
      "===============================================================================\n",
      "\n",
      "AUDITOR:  Christopher R Czajka\n",
      "Total Observations:  8\n",
      "Top Topics: \n",
      "\tTopic Number  3  ( 4  Observations )\n",
      "\tTopic Number  4  ( 3  Observations )\n",
      "\tTopic Number  7  ( 1  Observations )\n",
      "\n",
      "===============================================================================\n",
      "\n",
      "\n",
      "===============================================================================\n",
      "\n",
      "AUDITOR:  EMPLOYEE(S) SIGNATURE Bryan L Mcguckin\n",
      "Total Observations:  7\n",
      "Top Topics: \n",
      "\tTopic Number  2  ( 3  Observations )\n",
      "\tTopic Number  7  ( 3  Observations )\n",
      "\tTopic Number  4  ( 1  Observations )\n",
      "\n",
      "===============================================================================\n",
      "\n",
      "\n",
      "===============================================================================\n",
      "\n",
      "AUDITOR:  SE Sane a ge ee eee et a pe Ty  Samantha J Bradley  Drug\n",
      "Total Observations:  7\n",
      "Top Topics: \n",
      "\tTopic Number  8  ( 3  Observations )\n",
      "\tTopic Number  6  ( 3  Observations )\n",
      "\tTopic Number  7  ( 1  Observations )\n",
      "\n",
      "===============================================================================\n",
      "\n",
      "\n",
      "===============================================================================\n",
      "\n",
      "AUDITOR:  Brian D Nicholson\n",
      "Total Observations:  6\n",
      "Top Topics: \n",
      "\tTopic Number  7  ( 4  Observations )\n",
      "\tTopic Number  4  ( 1  Observations )\n",
      "\tTopic Number  8  ( 1  Observations )\n",
      "\n",
      "===============================================================================\n",
      "\n",
      "\n",
      "===============================================================================\n",
      "\n",
      "AUDITOR:  SE San a gS ee Ot eB ee en ge We  Margaret M Annes  CSO Shanna N Purdy\n",
      "Total Observations:  6\n",
      "Top Topics: \n",
      "\tTopic Number  1  ( 3  Observations )\n",
      "\tTopic Number  7  ( 2  Observations )\n",
      "\tTopic Number  5  ( 1  Observations )\n",
      "\n",
      "===============================================================================\n",
      "\n",
      "\n",
      "===============================================================================\n",
      "\n",
      "AUDITOR:  Michele L Glendenning\n",
      "Total Observations:  6\n",
      "Top Topics: \n",
      "\tTopic Number  7  ( 4  Observations )\n",
      "\tTopic Number  8  ( 1  Observations )\n",
      "\tTopic Number  4  ( 1  Observations )\n",
      "\n",
      "===============================================================================\n",
      "\n",
      "\n",
      "===============================================================================\n",
      "\n",
      "AUDITOR:  Zachery L Miller\n",
      "Total Observations:  5\n",
      "Top Topics: \n",
      "\tTopic Number  7  ( 2  Observations )\n",
      "\tTopic Number  8  ( 1  Observations )\n",
      "\tTopic Number  3  ( 1  Observations )\n",
      "\n",
      "===============================================================================\n",
      "\n",
      "\n",
      "===============================================================================\n",
      "\n",
      "AUDITOR:  Jason R Caballero\n",
      "Total Observations:  5\n",
      "Top Topics: \n",
      "\tTopic Number  4  ( 2  Observations )\n",
      "\tTopic Number  5  ( 1  Observations )\n",
      "\tTopic Number  7  ( 1  Observations )\n",
      "\n",
      "===============================================================================\n",
      "\n",
      "\n",
      "===============================================================================\n",
      "\n",
      "AUDITOR:  Eas Se ay Fi am Pace ae  Michael A Charles\n",
      "Total Observations:  5\n",
      "Top Topics: \n",
      "\tTopic Number  3  ( 3  Observations )\n",
      "\tTopic Number  8  ( 1  Observations )\n",
      "\tTopic Number  2  ( 1  Observations )\n",
      "\n",
      "===============================================================================\n",
      "\n",
      "\n",
      "===============================================================================\n",
      "\n",
      "AUDITOR:  ay anaes PR are of dhe a sth ei EE  Russell J Glapion\n",
      "Total Observations:  4\n",
      "Top Topics: \n",
      "\tTopic Number  7  ( 4  Observations )\n",
      "\n",
      "===============================================================================\n",
      "\n",
      "\n",
      "===============================================================================\n",
      "\n",
      "AUDITOR:  Lauren M Lilly\n",
      "Total Observations:  4\n",
      "Top Topics: \n",
      "\tTopic Number  7  ( 4  Observations )\n",
      "\n",
      "===============================================================================\n",
      "\n",
      "\n",
      "===============================================================================\n",
      "\n",
      "AUDITOR:  rr tT Cc CTW TIOCAN ODOoOrW CTC SRI OFFA At See rts A Sa\n",
      "Total Observations:  4\n",
      "Top Topics: \n",
      "\tTopic Number  7  ( 2  Observations )\n",
      "\tTopic Number  2  ( 1  Observations )\n",
      "\tTopic Number  8  ( 1  Observations )\n",
      "\n",
      "===============================================================================\n",
      "\n",
      "\n",
      "===============================================================================\n",
      "\n",
      "AUDITOR:  Steven E Bowen\n",
      "Total Observations:  4\n",
      "Top Topics: \n",
      "\tTopic Number  7  ( 4  Observations )\n",
      "\n",
      "===============================================================================\n",
      "\n",
      "\n",
      "===============================================================================\n",
      "\n",
      "AUDITOR:  en ee em se ee ee ae re ee  Miu. iz | Andrew K. Haack\n",
      "Total Observations:  4\n",
      "Top Topics: \n",
      "\tTopic Number  7  ( 2  Observations )\n",
      "\tTopic Number  2  ( 1  Observations )\n",
      "\tTopic Number  8  ( 1  Observations )\n",
      "\n",
      "===============================================================================\n",
      "\n",
      "\n",
      "===============================================================================\n",
      "\n",
      "AUDITOR:  Scott T Ballard\n",
      "Total Observations:  4\n",
      "Top Topics: \n",
      "\tTopic Number  7  ( 4  Observations )\n",
      "\n",
      "===============================================================================\n",
      "\n",
      "\n",
      "===============================================================================\n",
      "\n",
      "AUDITOR:  (Biotechnology)  tun. 4\n",
      "Total Observations:  3\n",
      "Top Topics: \n",
      "\tTopic Number  7  ( 2  Observations )\n",
      "\tTopic Number  8  ( 1  Observations )\n",
      "\n",
      "===============================================================================\n",
      "\n",
      "\n",
      "===============================================================================\n",
      "\n",
      "AUDITOR:  FE | Gideon N Esuzor\n",
      "Total Observations:  3\n",
      "Top Topics: \n",
      "\tTopic Number  4  ( 2  Observations )\n",
      "\tTopic Number  2  ( 1  Observations )\n",
      "\n",
      "===============================================================================\n",
      "\n",
      "\n",
      "===============================================================================\n",
      "\n",
      "AUDITOR:  See Soe a ge ee Ont seed a a  Nancy M Espinal\n",
      "Total Observations:  3\n",
      "Top Topics: \n",
      "\tTopic Number  7  ( 3  Observations )\n",
      "\n",
      "===============================================================================\n",
      "\n",
      "\n",
      "===============================================================================\n",
      "\n",
      "AUDITOR:  EMPLOYEE(S) SIGNATURE FE | Johnetta F Walters\n",
      "Total Observations:  3\n",
      "Top Topics: \n",
      "\tTopic Number  4  ( 2  Observations )\n",
      "\tTopic Number  2  ( 1  Observations )\n",
      "\n",
      "===============================================================================\n",
      "\n",
      "\n",
      "===============================================================================\n",
      "\n",
      "AUDITOR:  Francis A Guidry\n",
      "Total Observations:  3\n",
      "Top Topics: \n",
      "\tTopic Number  7  ( 2  Observations )\n",
      "\tTopic Number  8  ( 1  Observations )\n",
      "\n",
      "===============================================================================\n",
      "\n",
      "\n",
      "===============================================================================\n",
      "\n",
      "AUDITOR:  TS le ee ee Ne  Zachery L Miller\n",
      "Total Observations:  3\n",
      "Top Topics: \n",
      "\tTopic Number  7  ( 2  Observations )\n",
      "\tTopic Number  3  ( 1  Observations )\n",
      "\n",
      "===============================================================================\n",
      "\n",
      "\n",
      "===============================================================================\n",
      "\n",
      "AUDITOR:  William J Muszynski\n",
      "Total Observations:  3\n",
      "Top Topics: \n",
      "\tTopic Number  7  ( 3  Observations )\n",
      "\n",
      "===============================================================================\n",
      "\n",
      "\n",
      "===============================================================================\n",
      "\n",
      "AUDITOR:  / ‘\n",
      "Total Observations:  2\n",
      "Top Topics: \n",
      "\tTopic Number  7  ( 1  Observations )\n",
      "\tTopic Number  2  ( 1  Observations )\n",
      "\n",
      "===============================================================================\n",
      "\n",
      "\n",
      "===============================================================================\n",
      "\n",
      "AUDITOR:  /. 1\n",
      "Total Observations:  2\n",
      "Top Topics: \n",
      "\tTopic Number  7  ( 2  Observations )\n",
      "\n",
      "===============================================================================\n",
      "\n",
      "\n",
      "===============================================================================\n",
      "\n",
      "AUDITOR:  As haan) a gS ee ee eee Ree 9 a  Joshua P Wireman\n",
      "Total Observations:  2\n",
      "Top Topics: \n",
      "\tTopic Number  1  ( 1  Observations )\n",
      "\tTopic Number  3  ( 1  Observations )\n",
      "\n",
      "===============================================================================\n",
      "\n",
      "\n",
      "===============================================================================\n",
      "\n",
      "AUDITOR:  EMPLOYEES) SIGNATURE  Tamil Arasu\n",
      "Total Observations:  2\n",
      "Top Topics: \n",
      "\tTopic Number  2  ( 1  Observations )\n",
      "\tTopic Number  7  ( 1  Observations )\n",
      "\n",
      "===============================================================================\n",
      "\n",
      "\n",
      "===============================================================================\n",
      "\n",
      "AUDITOR:  Daniel L Zheng\n",
      "Total Observations:  2\n",
      "Top Topics: \n",
      "\tTopic Number  1  ( 1  Observations )\n",
      "\tTopic Number  7  ( 1  Observations )\n",
      "\n",
      "===============================================================================\n",
      "\n",
      "\n",
      "===============================================================================\n",
      "\n",
      "AUDITOR:  EMPLOYEE(S) NAME AND TITLE (Prin     . Jones -S &: oa Marvin D. Jones -\n",
      "Total Observations:  2\n",
      "Top Topics: \n",
      "\tTopic Number  8  ( 2  Observations )\n",
      "\n",
      "===============================================================================\n",
      "\n",
      "\n",
      "===============================================================================\n",
      "\n",
      "AUDITOR:  ‘ { wit! tyre «  Guerlain Ulysse\n",
      "Total Observations:  2\n",
      "Top Topics: \n",
      "\tTopic Number  2  ( 1  Observations )\n",
      "\tTopic Number  7  ( 1  Observations )\n",
      "\n",
      "===============================================================================\n",
      "\n",
      "\n",
      "===============================================================================\n",
      "\n",
      "AUDITOR:  wer A: Ko Min\n",
      "Total Observations:  2\n",
      "Top Topics: \n",
      "\tTopic Number  7  ( 2  Observations )\n",
      "\n",
      "===============================================================================\n",
      "\n",
      "\n",
      "===============================================================================\n",
      "\n",
      "AUDITOR:  Zachary A Bogorad\n",
      "Total Observations:  2\n",
      "Top Topics: \n",
      "\tTopic Number  1  ( 1  Observations )\n",
      "\tTopic Number  7  ( 1  Observations )\n",
      "\n",
      "===============================================================================\n",
      "\n",
      "\n",
      "===============================================================================\n",
      "\n",
      "AUDITOR:  ENPLOYEE(S) SIGNATURE Tamil Arasu\n",
      "Total Observations:  2\n",
      "Top Topics: \n",
      "\tTopic Number  7  ( 2  Observations )\n",
      "\n",
      "===============================================================================\n",
      "\n",
      "\n",
      "===============================================================================\n",
      "\n",
      "AUDITOR:  Joey V Quitania\n",
      "Total Observations:  2\n",
      "Top Topics: \n",
      "\tTopic Number  7  ( 2  Observations )\n",
      "\n",
      "===============================================================================\n",
      "\n",
      "\n",
      "===============================================================================\n",
      "\n",
      "AUDITOR:  Robert J Martin\n",
      "Total Observations:  2\n",
      "Top Topics: \n",
      "\tTopic Number  7  ( 2  Observations )\n",
      "\n",
      "===============================================================================\n",
      "\n",
      "\n",
      "===============================================================================\n",
      "\n",
      "AUDITOR:  SE ean a gS i ee Pt eRe eg  Alan P Kurtzberg\n",
      "Total Observations:  2\n",
      "Top Topics: \n",
      "\tTopic Number  7  ( 1  Observations )\n",
      "\tTopic Number  8  ( 1  Observations )\n",
      "\n",
      "===============================================================================\n",
      "\n",
      "\n",
      "===============================================================================\n",
      "\n",
      "AUDITOR:  Santiago Gallardo Johnson  Generic Drug User Fee Amendments (GDUFA)\n",
      "Total Observations:  2\n",
      "Top Topics: \n",
      "\tTopic Number  7  ( 2  Observations )\n",
      "\n",
      "===============================================================================\n",
      "\n",
      "\n",
      "===============================================================================\n",
      "\n",
      "AUDITOR:  iIGNATURE EMPLOYEE(S) NAME AND TITLE (Print c  Stephen D. Brown\n",
      "Total Observations:  1\n",
      "Top Topics: \n",
      "\tTopic Number  3  ( 1  Observations )\n",
      "\n",
      "===============================================================================\n",
      "\n",
      "\n",
      "===============================================================================\n",
      "\n",
      "AUDITOR:  David A Oluwo\n",
      "Total Observations:  1\n",
      "Top Topics: \n",
      "\tTopic Number  8  ( 1  Observations )\n",
      "\n",
      "===============================================================================\n",
      "\n",
      "\n",
      "===============================================================================\n",
      "\n",
      "AUDITOR:  Jolanna A Norton  Generic Drug User Fee Amendments (GDUFA)\n",
      "Total Observations:  1\n",
      "Top Topics: \n",
      "\tTopic Number  1  ( 1  Observations )\n",
      "\n",
      "===============================================================================\n",
      "\n",
      "\n",
      "===============================================================================\n",
      "\n",
      "AUDITOR:  Bryan L Mcguckin\n",
      "Total Observations:  1\n",
      "Top Topics: \n",
      "\tTopic Number  2  ( 1  Observations )\n",
      "\n",
      "===============================================================================\n",
      "\n",
      "\n",
      "===============================================================================\n",
      "\n",
      "AUDITOR:  PREVIOUS EDITION DBSULETE INSPECTIONAIL OBSERVATIO\n",
      "Total Observations:  1\n",
      "Top Topics: \n",
      "\tTopic Number  8  ( 1  Observations )\n",
      "\n",
      "===============================================================================\n",
      "\n",
      "\n",
      "===============================================================================\n",
      "\n",
      "AUDITOR:  Tonia F Bernard\n",
      "Total Observations:  1\n",
      "Top Topics: \n",
      "\tTopic Number  2  ( 1  Observations )\n",
      "\n",
      "===============================================================================\n",
      "\n",
      "\n",
      "===============================================================================\n",
      "\n",
      "AUDITOR:  Zachary L Stamm\n",
      "Total Observations:  1\n",
      "Top Topics: \n",
      "\tTopic Number  1  ( 1  Observations )\n",
      "\n",
      "===============================================================================\n",
      "\n"
     ]
    }
   ],
   "source": [
    "ad2 = ad.groupby(['auditors', 'topic_number']).size().reset_index(name = 'observations')\n",
    "ad3 = ad.groupby('auditors').size().reset_index(name = 'total_observations')\n",
    "ad_merged = ad2.merge(ad3, how = 'left').sort_values(by = 'total_observations', ascending = False)\n",
    "ad_merged[ad_merged['auditors'] == \"John P Mistler\"].sort_values(by = 'observations', ascending = False)\n",
    "\n",
    "auditor_list = list(ad_merged['auditors'].unique())\n",
    "for auditor in auditor_list:\n",
    "    ad_x = ad_merged[ad_merged['auditors'] == auditor]\n",
    "    print(\"\\n===============================================================================\\n\")\n",
    "    print(\"AUDITOR: \", auditor)\n",
    "    top_topics = ad_x[ad_x['auditors'] == auditor].sort_values(by = 'observations', ascending = False)[:3]\n",
    "    print(\"Total Observations: \", top_topics['total_observations'].iloc[0])\n",
    "    print(\"Top Topics: \")\n",
    "    for index, row in top_topics.iterrows():\n",
    "        print(\"\\tTopic Number \", row['topic_number'], \" (\", row['observations'], \" Observations )\")\n",
    "    print(\"\\n===============================================================================\\n\")"
   ]
  },
  {
   "cell_type": "markdown",
   "metadata": {},
   "source": [
    "## Create New Dataframe\n",
    "\n",
    "Each row is an audit. Columns include \"number of observations\", \"average observation word count\", \"total observations word count\", and columns for each topic (where the values are counting the number of observations for that topic).  \n",
    "\n",
    "Might be able to do something fancy with that."
   ]
  },
  {
   "cell_type": "code",
   "execution_count": 36,
   "metadata": {},
   "outputs": [],
   "source": [
    "# creation of new df"
   ]
  },
  {
   "cell_type": "markdown",
   "metadata": {},
   "source": [
    "## References"
   ]
  },
  {
   "cell_type": "markdown",
   "metadata": {},
   "source": [
    "__Useful Links__  \n",
    "https://medium.com/@sarfrazarshad/scraping-dynamically-created-tables-196b7cbe6c84  \n",
    "https://stackoverflow.com/questions/56757261/extract-href-using-pandas-read-html/56757977  \n",
    "https://stackoverflow.com/questions/60757571/python-pandas-parse-html-table-to-get-hidden-values-and-links  \n",
    "https://stackoverflow.com/questions/51092362/selenium-clicking-to-next-page-until-on-last-page  \n",
    "https://stackoverflow.com/questions/34548041/selenium-give-file-name-when-downloading  "
   ]
  }
 ],
 "metadata": {
  "kernelspec": {
   "display_name": "Python 3",
   "language": "python",
   "name": "python3"
  },
  "language_info": {
   "codemirror_mode": {
    "name": "ipython",
    "version": 3
   },
   "file_extension": ".py",
   "mimetype": "text/x-python",
   "name": "python",
   "nbconvert_exporter": "python",
   "pygments_lexer": "ipython3",
   "version": "3.7.7"
  }
 },
 "nbformat": 4,
 "nbformat_minor": 4
}
