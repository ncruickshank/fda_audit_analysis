{
 "cells": [
  {
   "cell_type": "markdown",
   "metadata": {},
   "source": [
    "# FDA Reading Room 483 Analysis"
   ]
  },
  {
   "cell_type": "code",
   "execution_count": 1,
   "metadata": {},
   "outputs": [
    {
     "name": "stdout",
     "output_type": "stream",
     "text": [
      "Script last ran on 05/04/2021\n"
     ]
    }
   ],
   "source": [
    "from datetime import date\n",
    "print(\"Script last ran on {}\".format(date.today().strftime(\"%m/%d/%Y\")))"
   ]
  },
  {
   "cell_type": "code",
   "execution_count": 11,
   "metadata": {},
   "outputs": [],
   "source": [
    "# import packages\n",
    "import numpy as np\n",
    "import pandas as pd\n",
    "import requests\n",
    "import lxml\n",
    "import html5lib \n",
    "from bs4 import BeautifulSoup\n",
    "import janitor\n",
    "\n",
    "# selenium functions\n",
    "from selenium import webdriver\n",
    "from selenium.webdriver.common.keys import Keys #allow  you to enter keystrokes into fields\n",
    "from selenium.webdriver.support.ui import Select #allow you to select a dropdown item\n",
    "from selenium.webdriver.support.ui import WebDriverWait #lets you modify a field before proceeding\n",
    "from selenium.common.exceptions import NoSuchElementException "
   ]
  },
  {
   "cell_type": "markdown",
   "metadata": {},
   "source": [
    "## Step 1: Scrape Data Table and List of URLs to Form 483s from URL"
   ]
  },
  {
   "cell_type": "markdown",
   "metadata": {},
   "source": [
    "__Establishment Types to Filter By__  \n",
    "Outsourcing Facility, Producer of Sterile and Non Sterile Drug Products, Producer of Sterile Drug Products, Producer of Non Sterile Drug Products, Manufacturer"
   ]
  },
  {
   "cell_type": "code",
   "execution_count": 5,
   "metadata": {},
   "outputs": [],
   "source": [
    "url = 'https://www.fda.gov/about-fda/office-regulatory-affairs/ora-foia-electronic-reading-room'\n",
    "driver = webdriver.Chrome()\n",
    "driver.get(url)"
   ]
  },
  {
   "cell_type": "markdown",
   "metadata": {},
   "source": [
    "table class = lcsd-datatable--ora-foia-reading table table-bordered dataTable no footer dtr-inline"
   ]
  },
  {
   "cell_type": "code",
   "execution_count": 6,
   "metadata": {},
   "outputs": [
    {
     "data": {
      "text/plain": [
       "1463"
      ]
     },
     "execution_count": 6,
     "metadata": {},
     "output_type": "execute_result"
    }
   ],
   "source": [
    "# utilize the filter box to select only 483s (value = 0)\n",
    "select = Select(driver.find_element_by_css_selector('#lcds-datatable-filter--record-filter'))\n",
    "select.select_by_value('0')\n",
    "\n",
    "# get the table headers\n",
    "## read the datatable of page 1 for the sake of retrieving headers\n",
    "datatable_xpath = '//*[@id=\"DataTables_Table_0\"]'\n",
    "records = driver.find_element_by_xpath(datatable_xpath)\n",
    "records_innerhtml = records.get_attribute('innerHTML')\n",
    "soup = BeautifulSoup(records_innerhtml, 'html.parser')\n",
    "trs = soup.findAll('tr')\n",
    "headers = []\n",
    "for th in trs[0].findAll('th'):\n",
    "    headers.append(th.text)\n",
    "headers\n",
    "\n",
    "# scrape all rows in each page of the paginated datatable\n",
    "final_page = int(driver.find_element_by_xpath('//*[@id=\"DataTables_Table_0_paginate\"]/ul/li[8]').text)\n",
    "rows = []\n",
    "for page in range(1, final_page + 1):\n",
    "    \n",
    "    datatable_xpath = '//*[@id=\"DataTables_Table_0\"]'\n",
    "    records = driver.find_element_by_xpath(datatable_xpath)\n",
    "    records_innerhtml = records.get_attribute('innerHTML')\n",
    "    soup = BeautifulSoup(records_innerhtml, 'html.parser')\n",
    "    trs = soup.findAll('tr')\n",
    "    \n",
    "    for i in range(1, len(trs)):\n",
    "        tds = []\n",
    "        #page_rows = []\n",
    "        for td in trs[i].findAll('td'):\n",
    "            a = td.findAll('a')\n",
    "            spans = td.findAll('span')\n",
    "            inputs = td.findAll('input')\n",
    "            ret = \"\"\n",
    "            if len(a) != 0 or len(spans) != 0 or len(inputs) != 0:\n",
    "                if len(a) != 0:\n",
    "                    for link in a:\n",
    "                        ret += link.text + ' - '+link['href']\n",
    "                if len(spans) != 0:\n",
    "                    for span in spans:\n",
    "                        ret += span.text + ' - '+span['title']\n",
    "                if len(inputs) != 0:\n",
    "                    for inp in inputs:\n",
    "                        if inp.has_attr('value'):\n",
    "                            if inp.has_attr('type'):\n",
    "                                if inp['type'] == 'hidden':\n",
    "                                    ret += inp['value']\n",
    "            else: \n",
    "                ret = td.text if td.text != '' and td.text != '\\n' else \"NaN\"\n",
    "            tds.append(ret)\n",
    "        rows.append(tds)\n",
    "        \n",
    "    driver.find_element_by_xpath('//*[@id=\"DataTables_Table_0_next\"]/a').click()\n",
    "\n",
    "len(rows)"
   ]
  },
  {
   "cell_type": "code",
   "execution_count": 19,
   "metadata": {},
   "outputs": [],
   "source": [
    "df = pd.DataFrame(rows, columns = headers)\n",
    "df[['Record Type', 'HREF']] = df['Record Type'].str.split(' - ', 1, expand = True)\n",
    "df = df.clean_names()\n",
    "df['pdf_url'] = 'https://www.fda.gov' + df['href']"
   ]
  },
  {
   "cell_type": "markdown",
   "metadata": {},
   "source": [
    "## Step 2: Read each 483 PDF through an OCR machine into notebook"
   ]
  },
  {
   "cell_type": "code",
   "execution_count": 27,
   "metadata": {},
   "outputs": [],
   "source": [
    "list_urls = list(df.pdf_url)\n",
    "test_pdf = list_urls[0]"
   ]
  },
  {
   "cell_type": "code",
   "execution_count": 9,
   "metadata": {},
   "outputs": [],
   "source": [
    "driver.quit()"
   ]
  },
  {
   "cell_type": "markdown",
   "metadata": {},
   "source": [
    "## Step 3: Tidy each document into a corpus"
   ]
  },
  {
   "cell_type": "markdown",
   "metadata": {},
   "source": [
    "## Step 4: Perform Topic Modeling on Most Recent 1 Year of Drug Observations"
   ]
  },
  {
   "cell_type": "markdown",
   "metadata": {},
   "source": [
    "## References"
   ]
  },
  {
   "cell_type": "markdown",
   "metadata": {},
   "source": [
    "__Useful Links__  \n",
    "https://medium.com/@sarfrazarshad/scraping-dynamically-created-tables-196b7cbe6c84  \n",
    "https://stackoverflow.com/questions/56757261/extract-href-using-pandas-read-html/56757977  \n",
    "https://stackoverflow.com/questions/60757571/python-pandas-parse-html-table-to-get-hidden-values-and-links  \n",
    "https://stackoverflow.com/questions/51092362/selenium-clicking-to-next-page-until-on-last-page"
   ]
  }
 ],
 "metadata": {
  "kernelspec": {
   "display_name": "Python 3",
   "language": "python",
   "name": "python3"
  },
  "language_info": {
   "codemirror_mode": {
    "name": "ipython",
    "version": 3
   },
   "file_extension": ".py",
   "mimetype": "text/x-python",
   "name": "python",
   "nbconvert_exporter": "python",
   "pygments_lexer": "ipython3",
   "version": "3.7.7"
  }
 },
 "nbformat": 4,
 "nbformat_minor": 4
}
