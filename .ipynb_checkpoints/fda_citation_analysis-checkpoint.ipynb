{
 "cells": [
  {
   "cell_type": "markdown",
   "metadata": {},
   "source": [
    "# Analysis of FDA Citations"
   ]
  },
  {
   "cell_type": "markdown",
   "metadata": {},
   "source": [
    "Source: https://www.fda.gov/inspections-compliance-enforcement-and-criminal-investigations/inspection-references/inspection-citation"
   ]
  },
  {
   "cell_type": "markdown",
   "metadata": {},
   "source": [
    "The dataset pulled from fda.gov details citations made during FDA inspections conducted of clinical trials, Institutional Review Boards (IRBs), and facilities that manufacture, process, pack, or hold an FDA-regulated product that is currently marketed. Specifically, the information comes from the electronic inspection tool of FDA Form 483."
   ]
  },
  {
   "cell_type": "code",
   "execution_count": 17,
   "metadata": {},
   "outputs": [],
   "source": [
    "# import packages\n",
    "import gensim\n",
    "import matplotlib as mpl\n",
    "import numpy as np\n",
    "import nltk\n",
    "from nltk.corpus import wordnet as wn\n",
    "import pandas as pd\n",
    "import re\n",
    "from sklearn.feature_extraction.text import CountVectorizer"
   ]
  },
  {
   "cell_type": "code",
   "execution_count": 9,
   "metadata": {},
   "outputs": [],
   "source": [
    "# read dataframe into python\n",
    "df = pd.read_excel(\"Inspection_Citation_(10-1-2008_through_7-22-2020)_0.xlsx\")"
   ]
  },
  {
   "cell_type": "code",
   "execution_count": 39,
   "metadata": {},
   "outputs": [
    {
     "data": {
      "text/html": [
       "<div>\n",
       "<style scoped>\n",
       "    .dataframe tbody tr th:only-of-type {\n",
       "        vertical-align: middle;\n",
       "    }\n",
       "\n",
       "    .dataframe tbody tr th {\n",
       "        vertical-align: top;\n",
       "    }\n",
       "\n",
       "    .dataframe thead th {\n",
       "        text-align: right;\n",
       "    }\n",
       "</style>\n",
       "<table border=\"1\" class=\"dataframe\">\n",
       "  <thead>\n",
       "    <tr style=\"text-align: right;\">\n",
       "      <th></th>\n",
       "      <th>Firm Name</th>\n",
       "      <th>City</th>\n",
       "      <th>State</th>\n",
       "      <th>Country/Area</th>\n",
       "      <th>Inspection End Date</th>\n",
       "      <th>Program Area</th>\n",
       "      <th>CFR/Act Number</th>\n",
       "      <th>Short Description</th>\n",
       "      <th>Long Description</th>\n",
       "    </tr>\n",
       "  </thead>\n",
       "  <tbody>\n",
       "    <tr>\n",
       "      <th>0</th>\n",
       "      <td>A &amp; M Bakery, Inc.</td>\n",
       "      <td>Clarksburg</td>\n",
       "      <td>WV</td>\n",
       "      <td>United States</td>\n",
       "      <td>2008-10-01</td>\n",
       "      <td>Foods</td>\n",
       "      <td>21 CFR 110.20(b)(4)</td>\n",
       "      <td>Floors, walls and ceilings</td>\n",
       "      <td>The plant is not constructed in such a manner ...</td>\n",
       "    </tr>\n",
       "    <tr>\n",
       "      <th>1</th>\n",
       "      <td>A &amp; M Bakery, Inc.</td>\n",
       "      <td>Clarksburg</td>\n",
       "      <td>WV</td>\n",
       "      <td>United States</td>\n",
       "      <td>2008-10-01</td>\n",
       "      <td>Foods</td>\n",
       "      <td>21 CFR 110.20(b)(5)</td>\n",
       "      <td>Safety lighting and glass</td>\n",
       "      <td>Failure to provide safety-type lighting fixtur...</td>\n",
       "    </tr>\n",
       "    <tr>\n",
       "      <th>2</th>\n",
       "      <td>A &amp; M Bakery, Inc.</td>\n",
       "      <td>Clarksburg</td>\n",
       "      <td>WV</td>\n",
       "      <td>United States</td>\n",
       "      <td>2008-10-01</td>\n",
       "      <td>Foods</td>\n",
       "      <td>21 CFR 110.35(a)</td>\n",
       "      <td>Buildings/good repair</td>\n",
       "      <td>Failure to maintain buildings in repair suffic...</td>\n",
       "    </tr>\n",
       "    <tr>\n",
       "      <th>3</th>\n",
       "      <td>A &amp; M Bakery, Inc.</td>\n",
       "      <td>Clarksburg</td>\n",
       "      <td>WV</td>\n",
       "      <td>United States</td>\n",
       "      <td>2008-10-01</td>\n",
       "      <td>Foods</td>\n",
       "      <td>21 CFR 110.35(a)</td>\n",
       "      <td>Cleaning and sanitizing operations</td>\n",
       "      <td>Failure to conduct cleaning and sanitizing ope...</td>\n",
       "    </tr>\n",
       "    <tr>\n",
       "      <th>4</th>\n",
       "      <td>A &amp; M Bakery, Inc.</td>\n",
       "      <td>Clarksburg</td>\n",
       "      <td>WV</td>\n",
       "      <td>United States</td>\n",
       "      <td>2008-10-01</td>\n",
       "      <td>Foods</td>\n",
       "      <td>21 CFR 110.80(a)(1)</td>\n",
       "      <td>Storage</td>\n",
       "      <td>Failure to store raw materials in a manner tha...</td>\n",
       "    </tr>\n",
       "  </tbody>\n",
       "</table>\n",
       "</div>"
      ],
      "text/plain": [
       "            Firm Name        City State   Country/Area Inspection End Date  \\\n",
       "0  A & M Bakery, Inc.  Clarksburg    WV  United States          2008-10-01   \n",
       "1  A & M Bakery, Inc.  Clarksburg    WV  United States          2008-10-01   \n",
       "2  A & M Bakery, Inc.  Clarksburg    WV  United States          2008-10-01   \n",
       "3  A & M Bakery, Inc.  Clarksburg    WV  United States          2008-10-01   \n",
       "4  A & M Bakery, Inc.  Clarksburg    WV  United States          2008-10-01   \n",
       "\n",
       "  Program Area       CFR/Act Number                   Short Description  \\\n",
       "0        Foods  21 CFR 110.20(b)(4)          Floors, walls and ceilings   \n",
       "1        Foods  21 CFR 110.20(b)(5)           Safety lighting and glass   \n",
       "2        Foods     21 CFR 110.35(a)               Buildings/good repair   \n",
       "3        Foods     21 CFR 110.35(a)  Cleaning and sanitizing operations   \n",
       "4        Foods  21 CFR 110.80(a)(1)                             Storage   \n",
       "\n",
       "                                    Long Description  \n",
       "0  The plant is not constructed in such a manner ...  \n",
       "1  Failure to provide safety-type lighting fixtur...  \n",
       "2  Failure to maintain buildings in repair suffic...  \n",
       "3  Failure to conduct cleaning and sanitizing ope...  \n",
       "4  Failure to store raw materials in a manner tha...  "
      ]
     },
     "execution_count": 39,
     "metadata": {},
     "output_type": "execute_result"
    }
   ],
   "source": [
    "df.head()"
   ]
  },
  {
   "cell_type": "code",
   "execution_count": 58,
   "metadata": {},
   "outputs": [
    {
     "data": {
      "text/plain": [
       "0        Routine calibration of mechanical equipment is...\n",
       "1        Drug products are not stored under appropriate...\n",
       "2        Returned drug products held, stored or shipped...\n",
       "3        Samples taken of in-process materials for dete...\n",
       "4        Procedures describing the calibration of instr...\n",
       "                               ...                        \n",
       "28374    Separate or defined areas to prevent contamina...\n",
       "28375    The responsibilities and procedures applicable...\n",
       "28376    Written procedures are not followed for  evalu...\n",
       "28377    There is no written testing program designed t...\n",
       "28378    Buildings used in the manufacture, processing,...\n",
       "Name: Long Description, Length: 28379, dtype: object"
      ]
     },
     "execution_count": 58,
     "metadata": {},
     "output_type": "execute_result"
    }
   ],
   "source": [
    "# tidy dataframe to only contain citations from the Drugs 'Program Area'\n",
    "## filter for only observations from the Drug program area in USA.\n",
    "drugs = df[(df['Program Area'] == \"Drugs\") &\n",
    "           (df['Country/Area'] == \"United States\")].reset_index().drop('index', axis = 1)\n",
    "\n",
    "## tidy up the CFR/Act Number column to generalize to the CFR chapter.\n",
    "CFR = []\n",
    "for values in drugs['CFR/Act Number']:\n",
    "    try:\n",
    "        x = re.search(r'21 CFR [0-9]+\\.[0-9]+', values).group()\n",
    "    except:\n",
    "        x = None\n",
    "    CFR.append(x)\n",
    "    \n",
    "drugs['CFR'] = CFR\n",
    "\n",
    "citations = drugs['Long Description']\n",
    "\n",
    "citations"
   ]
  },
  {
   "cell_type": "markdown",
   "metadata": {},
   "source": [
    "## Topic Modeling of Long Descriptions"
   ]
  },
  {
   "cell_type": "markdown",
   "metadata": {},
   "source": [
    "For each long description in df, extract a list of topics that are most likely to be cited during an FDA audit."
   ]
  }
 ],
 "metadata": {
  "kernelspec": {
   "display_name": "Python 3",
   "language": "python",
   "name": "python3"
  },
  "language_info": {
   "codemirror_mode": {
    "name": "ipython",
    "version": 3
   },
   "file_extension": ".py",
   "mimetype": "text/x-python",
   "name": "python",
   "nbconvert_exporter": "python",
   "pygments_lexer": "ipython3",
   "version": "3.7.7"
  }
 },
 "nbformat": 4,
 "nbformat_minor": 4
}
