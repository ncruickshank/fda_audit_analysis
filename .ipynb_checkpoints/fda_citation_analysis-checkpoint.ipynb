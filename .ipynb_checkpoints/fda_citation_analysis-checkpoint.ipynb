{
 "cells": [
  {
   "cell_type": "markdown",
   "metadata": {},
   "source": [
    "# Analysis of FDA Citations"
   ]
  },
  {
   "cell_type": "markdown",
   "metadata": {},
   "source": [
    "Source: https://www.fda.gov/inspections-compliance-enforcement-and-criminal-investigations/inspection-references/inspection-citation"
   ]
  },
  {
   "cell_type": "markdown",
   "metadata": {},
   "source": [
    "The dataset pulled from fda.gov details citations made during FDA inspections conducted of clinical trials, Institutional Review Boards (IRBs), and facilities that manufacture, process, pack, or hold an FDA-regulated product that is currently marketed. Specifically, the information comes from the electronic inspection tool of FDA Form 483."
   ]
  },
  {
   "cell_type": "code",
   "execution_count": 1,
   "metadata": {},
   "outputs": [],
   "source": [
    "# import packages\n",
    "import gensim\n",
    "import matplotlib as mpl\n",
    "import numpy as np\n",
    "import nltk\n",
    "from nltk.corpus import wordnet as wn\n",
    "import pandas as pd\n",
    "import pickle\n",
    "import re\n",
    "from sklearn.feature_extraction.text import CountVectorizer"
   ]
  },
  {
   "cell_type": "code",
   "execution_count": 2,
   "metadata": {},
   "outputs": [],
   "source": [
    "# read dataframe into python\n",
    "df = pd.read_excel(\"Inspection_Citation_(10-1-2008_through_7-22-2020)_0.xlsx\")"
   ]
  },
  {
   "cell_type": "code",
   "execution_count": 3,
   "metadata": {},
   "outputs": [
    {
     "data": {
      "text/html": [
       "<div>\n",
       "<style scoped>\n",
       "    .dataframe tbody tr th:only-of-type {\n",
       "        vertical-align: middle;\n",
       "    }\n",
       "\n",
       "    .dataframe tbody tr th {\n",
       "        vertical-align: top;\n",
       "    }\n",
       "\n",
       "    .dataframe thead th {\n",
       "        text-align: right;\n",
       "    }\n",
       "</style>\n",
       "<table border=\"1\" class=\"dataframe\">\n",
       "  <thead>\n",
       "    <tr style=\"text-align: right;\">\n",
       "      <th></th>\n",
       "      <th>Firm Name</th>\n",
       "      <th>City</th>\n",
       "      <th>State</th>\n",
       "      <th>Country/Area</th>\n",
       "      <th>Inspection End Date</th>\n",
       "      <th>Program Area</th>\n",
       "      <th>CFR/Act Number</th>\n",
       "      <th>Short Description</th>\n",
       "      <th>Long Description</th>\n",
       "    </tr>\n",
       "  </thead>\n",
       "  <tbody>\n",
       "    <tr>\n",
       "      <th>0</th>\n",
       "      <td>A &amp; M Bakery, Inc.</td>\n",
       "      <td>Clarksburg</td>\n",
       "      <td>WV</td>\n",
       "      <td>United States</td>\n",
       "      <td>2008-10-01</td>\n",
       "      <td>Foods</td>\n",
       "      <td>21 CFR 110.20(b)(4)</td>\n",
       "      <td>Floors, walls and ceilings</td>\n",
       "      <td>The plant is not constructed in such a manner ...</td>\n",
       "    </tr>\n",
       "    <tr>\n",
       "      <th>1</th>\n",
       "      <td>A &amp; M Bakery, Inc.</td>\n",
       "      <td>Clarksburg</td>\n",
       "      <td>WV</td>\n",
       "      <td>United States</td>\n",
       "      <td>2008-10-01</td>\n",
       "      <td>Foods</td>\n",
       "      <td>21 CFR 110.20(b)(5)</td>\n",
       "      <td>Safety lighting and glass</td>\n",
       "      <td>Failure to provide safety-type lighting fixtur...</td>\n",
       "    </tr>\n",
       "    <tr>\n",
       "      <th>2</th>\n",
       "      <td>A &amp; M Bakery, Inc.</td>\n",
       "      <td>Clarksburg</td>\n",
       "      <td>WV</td>\n",
       "      <td>United States</td>\n",
       "      <td>2008-10-01</td>\n",
       "      <td>Foods</td>\n",
       "      <td>21 CFR 110.35(a)</td>\n",
       "      <td>Buildings/good repair</td>\n",
       "      <td>Failure to maintain buildings in repair suffic...</td>\n",
       "    </tr>\n",
       "    <tr>\n",
       "      <th>3</th>\n",
       "      <td>A &amp; M Bakery, Inc.</td>\n",
       "      <td>Clarksburg</td>\n",
       "      <td>WV</td>\n",
       "      <td>United States</td>\n",
       "      <td>2008-10-01</td>\n",
       "      <td>Foods</td>\n",
       "      <td>21 CFR 110.35(a)</td>\n",
       "      <td>Cleaning and sanitizing operations</td>\n",
       "      <td>Failure to conduct cleaning and sanitizing ope...</td>\n",
       "    </tr>\n",
       "    <tr>\n",
       "      <th>4</th>\n",
       "      <td>A &amp; M Bakery, Inc.</td>\n",
       "      <td>Clarksburg</td>\n",
       "      <td>WV</td>\n",
       "      <td>United States</td>\n",
       "      <td>2008-10-01</td>\n",
       "      <td>Foods</td>\n",
       "      <td>21 CFR 110.80(a)(1)</td>\n",
       "      <td>Storage</td>\n",
       "      <td>Failure to store raw materials in a manner tha...</td>\n",
       "    </tr>\n",
       "  </tbody>\n",
       "</table>\n",
       "</div>"
      ],
      "text/plain": [
       "            Firm Name        City State   Country/Area Inspection End Date  \\\n",
       "0  A & M Bakery, Inc.  Clarksburg    WV  United States          2008-10-01   \n",
       "1  A & M Bakery, Inc.  Clarksburg    WV  United States          2008-10-01   \n",
       "2  A & M Bakery, Inc.  Clarksburg    WV  United States          2008-10-01   \n",
       "3  A & M Bakery, Inc.  Clarksburg    WV  United States          2008-10-01   \n",
       "4  A & M Bakery, Inc.  Clarksburg    WV  United States          2008-10-01   \n",
       "\n",
       "  Program Area       CFR/Act Number                   Short Description  \\\n",
       "0        Foods  21 CFR 110.20(b)(4)          Floors, walls and ceilings   \n",
       "1        Foods  21 CFR 110.20(b)(5)           Safety lighting and glass   \n",
       "2        Foods     21 CFR 110.35(a)               Buildings/good repair   \n",
       "3        Foods     21 CFR 110.35(a)  Cleaning and sanitizing operations   \n",
       "4        Foods  21 CFR 110.80(a)(1)                             Storage   \n",
       "\n",
       "                                    Long Description  \n",
       "0  The plant is not constructed in such a manner ...  \n",
       "1  Failure to provide safety-type lighting fixtur...  \n",
       "2  Failure to maintain buildings in repair suffic...  \n",
       "3  Failure to conduct cleaning and sanitizing ope...  \n",
       "4  Failure to store raw materials in a manner tha...  "
      ]
     },
     "execution_count": 3,
     "metadata": {},
     "output_type": "execute_result"
    }
   ],
   "source": [
    "df.head()"
   ]
  },
  {
   "cell_type": "code",
   "execution_count": 4,
   "metadata": {},
   "outputs": [],
   "source": [
    "# tidy dataframe to only contain citations from the Drugs 'Program Area'\n",
    "## filter for only observations from the Drug program area in USA.\n",
    "drugs = df[(df['Program Area'] == \"Drugs\") &\n",
    "           (df['Country/Area'] == \"United States\")].reset_index().drop('index', axis = 1)\n",
    "\n",
    "## tidy up the CFR/Act Number column to generalize to the CFR chapter.\n",
    "CFR = []\n",
    "for values in drugs['CFR/Act Number']:\n",
    "    try:\n",
    "        x = re.search(r'21 CFR [0-9]+\\.[0-9]+', values).group()\n",
    "    except:\n",
    "        x = None\n",
    "    CFR.append(x)\n",
    "drugs['CFR'] = CFR\n",
    "\n",
    "# create a series of citations\n",
    "citations = drugs['Long Description']"
   ]
  },
  {
   "cell_type": "code",
   "execution_count": 5,
   "metadata": {},
   "outputs": [
    {
     "data": {
      "text/plain": [
       "(28379, 10)"
      ]
     },
     "execution_count": 5,
     "metadata": {},
     "output_type": "execute_result"
    }
   ],
   "source": [
    "drugs.shape"
   ]
  },
  {
   "cell_type": "markdown",
   "metadata": {},
   "source": [
    "## Topic Modeling of Long Descriptions"
   ]
  },
  {
   "cell_type": "markdown",
   "metadata": {},
   "source": [
    "For each long description in df, extract a list of topics that are most likely to be cited during an FDA audit."
   ]
  },
  {
   "cell_type": "code",
   "execution_count": 6,
   "metadata": {},
   "outputs": [
    {
     "data": {
      "text/plain": [
       "[['Routine',\n",
       "  'calibration',\n",
       "  'of',\n",
       "  'mechanical',\n",
       "  'equipment',\n",
       "  'is',\n",
       "  'not',\n",
       "  'performed',\n",
       "  'according',\n",
       "  'to',\n",
       "  'a',\n",
       "  'written',\n",
       "  'program',\n",
       "  'designed',\n",
       "  'to',\n",
       "  'assure',\n",
       "  'proper',\n",
       "  'performance',\n",
       "  '.']]"
      ]
     },
     "execution_count": 6,
     "metadata": {},
     "output_type": "execute_result"
    }
   ],
   "source": [
    "cites = list(citations)\n",
    "tokens = []\n",
    "for i in cites:\n",
    "    token = nltk.word_tokenize(i)\n",
    "    tokens.append(token)\n",
    "    \n",
    "tokens[:1]"
   ]
  },
  {
   "cell_type": "code",
   "execution_count": 7,
   "metadata": {},
   "outputs": [
    {
     "data": {
      "text/plain": [
       "['meet', 'purporting', 'used', 'deficient']"
      ]
     },
     "execution_count": 7,
     "metadata": {},
     "output_type": "execute_result"
    }
   ],
   "source": [
    "# determine stop words\n",
    "from nltk.corpus import stopwords\n",
    "stop_words = stopwords.words('english')\n",
    "stop_words[:5]\n",
    "stop_words.extend(['deficient', 'used', 'purporting', 'meet'])\n",
    "stop_words[:-5:-1]"
   ]
  },
  {
   "cell_type": "code",
   "execution_count": 8,
   "metadata": {},
   "outputs": [],
   "source": [
    "# Use CountVectorizer to find tokens, remove stop words,\n",
    "# remove tokens that don't appear in at least 25 documents,\n",
    "# remove tokens that appear in more than 20% of the documents\n",
    "vect = CountVectorizer(min_df = 25, max_df = 0.2, ngram_range = (1,2),\n",
    "                       stop_words = stop_words)\n",
    "\n",
    "# Fit and transform\n",
    "X = vect.fit_transform(cites)\n",
    "\n",
    "# Convert sparse matrix to gensim corpus.\n",
    "corpus = gensim.matutils.Sparse2Corpus(X, documents_columns = False)\n",
    "\n",
    "# Mapping from word IDs to words (TO be used in LdaModel's id2word parameter)\n",
    "id_map = dict((v, k) for k, v in vect.vocabulary_.items())"
   ]
  },
  {
   "cell_type": "code",
   "execution_count": 9,
   "metadata": {},
   "outputs": [],
   "source": [
    "# Use the gensim.models.ldamodel.LdaModel constructor to estimate \n",
    "# LDA model parameters on the corpus, and save to variable 'ldamodel'\n",
    "\n",
    "ldamodel = gensim.models.ldamodel.LdaModel(corpus, num_topics = 10,\n",
    "                                          id2word = id_map, passes = 25,\n",
    "                                          random_state = 4)"
   ]
  },
  {
   "cell_type": "code",
   "execution_count": 10,
   "metadata": {},
   "outputs": [
    {
     "data": {
      "text/plain": [
       "[(0,\n",
       "  '0.043*\"quality control\" + 0.041*\"control unit\" + 0.041*\"unit\" + 0.029*\"applicable\" + 0.024*\"applicable quality\" + 0.024*\"procedures applicable\" + 0.024*\"responsibilities procedures\" + 0.024*\"responsibilities\" + 0.023*\"purity\" + 0.023*\"quality purity\"'),\n",
       " (1,\n",
       "  '0.028*\"established\" + 0.017*\"may\" + 0.016*\"material\" + 0.016*\"process\" + 0.016*\"procedures established\" + 0.016*\"manufacturing\" + 0.015*\"control procedures\" + 0.015*\"process material\" + 0.014*\"processes\" + 0.014*\"responsible\"'),\n",
       " (2,\n",
       "  '0.027*\"appropriate\" + 0.019*\"followed\" + 0.018*\"appropriate intervals\" + 0.018*\"intervals\" + 0.018*\"process\" + 0.017*\"component\" + 0.016*\"process control\" + 0.016*\"procedures describing\" + 0.016*\"describing\" + 0.016*\"production process\"'),\n",
       " (3,\n",
       "  '0.033*\"equipment\" + 0.022*\"processing\" + 0.021*\"holding\" + 0.021*\"packing\" + 0.020*\"processing packing\" + 0.020*\"manufacture\" + 0.020*\"holding drug\" + 0.020*\"packing holding\" + 0.020*\"cleaning\" + 0.019*\"manufacture processing\"'),\n",
       " (4,\n",
       "  '0.027*\"records\" + 0.021*\"appropriate\" + 0.017*\"production\" + 0.017*\"personnel\" + 0.017*\"changes\" + 0.015*\"master production\" + 0.015*\"master\" + 0.014*\"systems\" + 0.013*\"production control\" + 0.013*\"control records\"'),\n",
       " (5,\n",
       "  '0.024*\"release\" + 0.016*\"distribution\" + 0.016*\"manufacturing\" + 0.015*\"laboratory\" + 0.014*\"specifications\" + 0.014*\"conformance\" + 0.014*\"training\" + 0.014*\"employees\" + 0.013*\"appropriate\" + 0.013*\"determination\"'),\n",
       " (6,\n",
       "  '0.030*\"batch\" + 0.028*\"appropriate\" + 0.028*\"failure\" + 0.022*\"specifications\" + 0.018*\"components\" + 0.017*\"include\" + 0.016*\"standards\" + 0.016*\"identity\" + 0.015*\"laboratory\" + 0.015*\"discrepancy\"'),\n",
       " (7,\n",
       "  '0.035*\"batch\" + 0.034*\"production\" + 0.033*\"records\" + 0.028*\"production control\" + 0.024*\"control records\" + 0.018*\"aseptic\" + 0.016*\"batch production\" + 0.016*\"include\" + 0.015*\"processing\" + 0.015*\"records include\"'),\n",
       " (8,\n",
       "  '0.031*\"designed\" + 0.024*\"prevent\" + 0.021*\"sterile\" + 0.020*\"contamination\" + 0.020*\"designed prevent\" + 0.020*\"procedures designed\" + 0.019*\"stability\" + 0.018*\"program\" + 0.015*\"testing\" + 0.015*\"contamination drug\"'),\n",
       " (9,\n",
       "  '0.017*\"records\" + 0.015*\"labeling\" + 0.014*\"least\" + 0.012*\"conducted\" + 0.012*\"established\" + 0.012*\"review\" + 0.010*\"least annually\" + 0.010*\"annually\" + 0.010*\"evaluations\" + 0.010*\"laboratory\"')]"
      ]
     },
     "execution_count": 10,
     "metadata": {},
     "output_type": "execute_result"
    }
   ],
   "source": [
    "ldamodel.print_topics(10)"
   ]
  },
  {
   "cell_type": "code",
   "execution_count": 11,
   "metadata": {},
   "outputs": [
    {
     "data": {
      "text/plain": [
       "[(7, 0.9437485)]"
      ]
     },
     "execution_count": 11,
     "metadata": {},
     "output_type": "execute_result"
    }
   ],
   "source": [
    "new_doc = ['Aseptic processing areas are deficient regarding the system for monitoring environmental conditions.']\n",
    "\n",
    "X = vect.transform(new_doc)\n",
    "corpus = gensim.matutils.Sparse2Corpus(X, documents_columns = False)\n",
    "topic_dis = list(ldamodel[corpus])[0]\n",
    "\n",
    "topic_dis"
   ]
  },
  {
   "cell_type": "code",
   "execution_count": 12,
   "metadata": {},
   "outputs": [
    {
     "name": "stderr",
     "output_type": "stream",
     "text": [
      "C:\\Users\\nccru\\anaconda3\\envs\\r-tutorial\\lib\\site-packages\\gensim\\models\\ldamodel.py:824: RuntimeWarning: overflow encountered in exp2\n",
      "  perwordbound, np.exp2(-perwordbound), len(chunk), corpus_words\n"
     ]
    },
    {
     "data": {
      "text/plain": [
       "-1407.9982700665792"
      ]
     },
     "execution_count": 12,
     "metadata": {},
     "output_type": "execute_result"
    }
   ],
   "source": [
    "ldamodel.log_perplexity(corpus)"
   ]
  },
  {
   "cell_type": "code",
   "execution_count": 13,
   "metadata": {},
   "outputs": [],
   "source": [
    "#import pyLDAvis.gensim\n",
    "#from gensim.corpora.dictionary import Dictionary\n",
    "\n",
    "#id_map = dict((v, k) for k, v in vect.vocabulary_.items())\n",
    "\n",
    "#pyLDAvis.gensim.prepare(ldamodel, corpus, dictionary) # needs to have a defined dictionary"
   ]
  },
  {
   "cell_type": "code",
   "execution_count": 20,
   "metadata": {},
   "outputs": [
    {
     "name": "stdout",
     "output_type": "stream",
     "text": [
      "['Routine calibration of mechanical equipment is not performed according to a written program designed to assure proper performance.']\n",
      "[\"\\n\\nIt's my understanding that the freezing will start to occur because of the\\ngrowing distance of Pluto and Charon from the Sun, due to it's\\nelliptical orbit. It is not due to shadowing effects. \\n\\n\\nPluto can shadow Charon, and vice-versa.\\n\\nGeorge Krumins\\n-- \"]\n"
     ]
    },
    {
     "data": {
      "text/plain": [
       "28379"
      ]
     },
     "execution_count": 20,
     "metadata": {},
     "output_type": "execute_result"
    }
   ],
   "source": [
    "#topic = []\n",
    "#for line in cites:\n",
    "    #X = vect.transform(line)\n",
    "    #corpus = gensim.matutils.Sparse2Corpus(X, documents_columns = False)\n",
    "    #topic_dis = list(ldamodel[corpus])[0]\n",
    "    #topic.append(topic_dis)\n",
    "\n",
    "#topic[:5]\n",
    "\n",
    "topic = [cites[0]] # this format for each line of cites allows the topic prediction to work.\n",
    "new_doc = [\"\\n\\nIt's my understanding that the freezing will start to occur because \\\n",
    "of the\\ngrowing distance of Pluto and Charon from the Sun, due to it's\\nelliptical orbit. \\\n",
    "It is not due to shadowing effects. \\n\\n\\nPluto can shadow Charon, and vice-versa.\\n\\nGeorge \\\n",
    "Krumins\\n-- \"]\n",
    "print(topic)\n",
    "print(new_doc)\n",
    "X = vect.transform(topic)\n",
    "corpus = gensim.matutils.Sparse2Corpus(X, documents_columns = False)\n",
    "topic_dis = list(ldamodel[corpus])[0]\n",
    "\n",
    "\n",
    "# assign each citation to the most probable topic\n",
    "t2 = []\n",
    "for line in cites:\n",
    "    t = [line]\n",
    "    T = vect.transform(t)\n",
    "    corpus = gensim.matutils.Sparse2Corpus(T, documents_columns = False)\n",
    "    T_dis = list(ldamodel[corpus])[0]\n",
    "    t2.append(max(T_dis))"
   ]
  },
  {
   "cell_type": "code",
   "execution_count": 58,
   "metadata": {},
   "outputs": [
    {
     "data": {
      "text/html": [
       "<div>\n",
       "<style scoped>\n",
       "    .dataframe tbody tr th:only-of-type {\n",
       "        vertical-align: middle;\n",
       "    }\n",
       "\n",
       "    .dataframe tbody tr th {\n",
       "        vertical-align: top;\n",
       "    }\n",
       "\n",
       "    .dataframe thead th {\n",
       "        text-align: right;\n",
       "    }\n",
       "</style>\n",
       "<table border=\"1\" class=\"dataframe\">\n",
       "  <thead>\n",
       "    <tr style=\"text-align: right;\">\n",
       "      <th></th>\n",
       "      <th>Firm Name</th>\n",
       "      <th>City</th>\n",
       "      <th>State</th>\n",
       "      <th>Country/Area</th>\n",
       "      <th>Inspection End Date</th>\n",
       "      <th>Program Area</th>\n",
       "      <th>CFR/Act Number</th>\n",
       "      <th>Short Description</th>\n",
       "      <th>Long Description</th>\n",
       "      <th>CFR</th>\n",
       "      <th>Routine calibration of mechanical equipment is not performed according to a written program designed to assure proper performance.</th>\n",
       "      <th>topic</th>\n",
       "      <th>topic_number</th>\n",
       "      <th>topic_probability</th>\n",
       "    </tr>\n",
       "  </thead>\n",
       "  <tbody>\n",
       "    <tr>\n",
       "      <th>0</th>\n",
       "      <td>AmerisourceBergen Drug Corporation</td>\n",
       "      <td>Des Moines</td>\n",
       "      <td>WA</td>\n",
       "      <td>United States</td>\n",
       "      <td>2008-10-07</td>\n",
       "      <td>Drugs</td>\n",
       "      <td>21 CFR 211.68(a)</td>\n",
       "      <td>Calibration/Inspection/Checking not done</td>\n",
       "      <td>Routine calibration of mechanical equipment is...</td>\n",
       "      <td>21 CFR 211.68</td>\n",
       "      <td>NaN</td>\n",
       "      <td>(3, 0.96086705)</td>\n",
       "      <td>(3</td>\n",
       "      <td>0.96086705)</td>\n",
       "    </tr>\n",
       "    <tr>\n",
       "      <th>1</th>\n",
       "      <td>AmerisourceBergen Drug Corporation</td>\n",
       "      <td>Des Moines</td>\n",
       "      <td>WA</td>\n",
       "      <td>United States</td>\n",
       "      <td>2008-10-07</td>\n",
       "      <td>Drugs</td>\n",
       "      <td>21 CFR 211.142(b)</td>\n",
       "      <td>Storage under appropriate conditions</td>\n",
       "      <td>Drug products are not stored under appropriate...</td>\n",
       "      <td>21 CFR 211.142</td>\n",
       "      <td>NaN</td>\n",
       "      <td>(0, 0.9499952)</td>\n",
       "      <td>(0</td>\n",
       "      <td>0.9499952)</td>\n",
       "    </tr>\n",
       "    <tr>\n",
       "      <th>2</th>\n",
       "      <td>AmerisourceBergen Drug Corporation</td>\n",
       "      <td>Des Moines</td>\n",
       "      <td>WA</td>\n",
       "      <td>United States</td>\n",
       "      <td>2008-10-07</td>\n",
       "      <td>Drugs</td>\n",
       "      <td>21 CFR 211.204</td>\n",
       "      <td>Returned drug products with doubt cast as to s...</td>\n",
       "      <td>Returned drug products held, stored or shipped...</td>\n",
       "      <td>21 CFR 211.204</td>\n",
       "      <td>NaN</td>\n",
       "      <td>(9, 0.32356438)</td>\n",
       "      <td>(9</td>\n",
       "      <td>0.32356438)</td>\n",
       "    </tr>\n",
       "    <tr>\n",
       "      <th>3</th>\n",
       "      <td>IPR Pharmaceuticals, Inc.</td>\n",
       "      <td>Canovanas</td>\n",
       "      <td>PR</td>\n",
       "      <td>United States</td>\n",
       "      <td>2008-10-08</td>\n",
       "      <td>Drugs</td>\n",
       "      <td>21 CFR 211.160(b)(2)</td>\n",
       "      <td>In-process samples representative, identified ...</td>\n",
       "      <td>Samples taken of in-process materials for dete...</td>\n",
       "      <td>21 CFR 211.160</td>\n",
       "      <td>NaN</td>\n",
       "      <td>(9, 0.32835144)</td>\n",
       "      <td>(9</td>\n",
       "      <td>0.32835144)</td>\n",
       "    </tr>\n",
       "    <tr>\n",
       "      <th>4</th>\n",
       "      <td>IPR Pharmaceuticals, Inc.</td>\n",
       "      <td>Canovanas</td>\n",
       "      <td>PR</td>\n",
       "      <td>United States</td>\n",
       "      <td>2008-10-08</td>\n",
       "      <td>Drugs</td>\n",
       "      <td>21 CFR 211.160(b)(4)</td>\n",
       "      <td>Establishment of calibration procedures</td>\n",
       "      <td>Procedures describing the calibration of instr...</td>\n",
       "      <td>21 CFR 211.160</td>\n",
       "      <td>NaN</td>\n",
       "      <td>(7, 0.6549899)</td>\n",
       "      <td>(7</td>\n",
       "      <td>0.6549899)</td>\n",
       "    </tr>\n",
       "  </tbody>\n",
       "</table>\n",
       "</div>"
      ],
      "text/plain": [
       "                            Firm Name        City State   Country/Area  \\\n",
       "0  AmerisourceBergen Drug Corporation  Des Moines    WA  United States   \n",
       "1  AmerisourceBergen Drug Corporation  Des Moines    WA  United States   \n",
       "2  AmerisourceBergen Drug Corporation  Des Moines    WA  United States   \n",
       "3           IPR Pharmaceuticals, Inc.   Canovanas    PR  United States   \n",
       "4           IPR Pharmaceuticals, Inc.   Canovanas    PR  United States   \n",
       "\n",
       "  Inspection End Date Program Area        CFR/Act Number  \\\n",
       "0          2008-10-07        Drugs      21 CFR 211.68(a)   \n",
       "1          2008-10-07        Drugs     21 CFR 211.142(b)   \n",
       "2          2008-10-07        Drugs        21 CFR 211.204   \n",
       "3          2008-10-08        Drugs  21 CFR 211.160(b)(2)   \n",
       "4          2008-10-08        Drugs  21 CFR 211.160(b)(4)   \n",
       "\n",
       "                                   Short Description  \\\n",
       "0           Calibration/Inspection/Checking not done   \n",
       "1               Storage under appropriate conditions   \n",
       "2  Returned drug products with doubt cast as to s...   \n",
       "3  In-process samples representative, identified ...   \n",
       "4            Establishment of calibration procedures   \n",
       "\n",
       "                                    Long Description             CFR  \\\n",
       "0  Routine calibration of mechanical equipment is...   21 CFR 211.68   \n",
       "1  Drug products are not stored under appropriate...  21 CFR 211.142   \n",
       "2  Returned drug products held, stored or shipped...  21 CFR 211.204   \n",
       "3  Samples taken of in-process materials for dete...  21 CFR 211.160   \n",
       "4  Procedures describing the calibration of instr...  21 CFR 211.160   \n",
       "\n",
       "   Routine calibration of mechanical equipment is not performed according to a written program designed to assure proper performance.  \\\n",
       "0                                                NaN                                                                                    \n",
       "1                                                NaN                                                                                    \n",
       "2                                                NaN                                                                                    \n",
       "3                                                NaN                                                                                    \n",
       "4                                                NaN                                                                                    \n",
       "\n",
       "             topic topic_number topic_probability  \n",
       "0  (3, 0.96086705)           (3       0.96086705)  \n",
       "1   (0, 0.9499952)           (0        0.9499952)  \n",
       "2  (9, 0.32356438)           (9       0.32356438)  \n",
       "3  (9, 0.32835144)           (9       0.32835144)  \n",
       "4   (7, 0.6549899)           (7        0.6549899)  "
      ]
     },
     "execution_count": 58,
     "metadata": {},
     "output_type": "execute_result"
    }
   ],
   "source": [
    "# join the predicted topics to the drugs df.\n",
    "s_t2 = pd.Series(t2)\n",
    "drugs['topic'] = s_t2.values\n",
    "\n",
    "\n",
    "\n",
    "drugs['topic'] = drugs['topic'].astype(str)\n",
    "drugs[['topic_number', 'topic_probability']] = drugs.topic.str.split(',', expand = True)\n",
    "\n",
    "drugs.head()"
   ]
  }
 ],
 "metadata": {
  "kernelspec": {
   "display_name": "Python 3",
   "language": "python",
   "name": "python3"
  },
  "language_info": {
   "codemirror_mode": {
    "name": "ipython",
    "version": 3
   },
   "file_extension": ".py",
   "mimetype": "text/x-python",
   "name": "python",
   "nbconvert_exporter": "python",
   "pygments_lexer": "ipython3",
   "version": "3.7.7"
  }
 },
 "nbformat": 4,
 "nbformat_minor": 4
}
