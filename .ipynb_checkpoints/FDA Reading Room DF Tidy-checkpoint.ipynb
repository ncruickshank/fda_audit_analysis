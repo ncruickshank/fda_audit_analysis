{
 "cells": [
  {
   "cell_type": "markdown",
   "metadata": {},
   "source": [
    "# FDA Reading Room Dataframe Tidying"
   ]
  },
  {
   "cell_type": "code",
   "execution_count": 1,
   "metadata": {},
   "outputs": [],
   "source": [
    "# import packages\n",
    "import numpy as np\n",
    "import pandas as pd\n",
    "import matplotlib.pyplot as plt\n",
    "%matplotlib inline\n",
    "import datetime\n",
    "import requests\n",
    "import lxml\n",
    "import html5lib \n",
    "from bs4 import BeautifulSoup\n",
    "import janitor\n",
    "import tempfile\n",
    "import os # to get current opperating system\n",
    "import shutil\n",
    "import time\n",
    "\n",
    "import cv2\n",
    "from PIL import Image\n",
    "from pathlib import Path\n",
    "from pdf2image import convert_from_path\n",
    "\n",
    "import pytesseract\n",
    "pytesseract.pytesseract.tesseract_cmd = r'C:\\Users\\ncruickshank\\AppData\\Local\\Programs\\Tesseract-OCR\\tesseract.exe'\n",
    "\n",
    "# selenium functions\n",
    "from selenium import webdriver\n",
    "from selenium.webdriver.common.keys import Keys #allow  you to enter keystrokes into fields\n",
    "from selenium.webdriver.support.ui import Select #allow you to select a dropdown item\n",
    "from selenium.webdriver.support.ui import WebDriverWait #lets you modify a field before proceeding\n",
    "from selenium.common.exceptions import NoSuchElementException \n",
    "\n",
    "# fir machine learning / topic modeling phase\n",
    "import nltk\n",
    "import re\n",
    "from pprint import pprint\n",
    "import gensim\n",
    "import gensim.corpora as corpora\n",
    "from gensim.utils import simple_preprocess\n",
    "from gensim.models import CoherenceModel\n",
    "import pyLDAvis\n",
    "import pyLDAvis.gensim\n",
    "\n",
    "import warnings\n",
    "warnings.filterwarnings(\"ignore\",category=DeprecationWarning)"
   ]
  },
  {
   "cell_type": "code",
   "execution_count": 2,
   "metadata": {},
   "outputs": [],
   "source": [
    "reading_room = pd.read_csv(\"data/FDA Reading Room Form 483 Dataset - Last Updated 20210512.csv\")"
   ]
  },
  {
   "cell_type": "markdown",
   "metadata": {},
   "source": [
    "## Observation Topic Modeling"
   ]
  },
  {
   "cell_type": "markdown",
   "metadata": {},
   "source": [
    "### Create Observations Dataframe\n",
    "__Goal:__ Identify common topics for observations.  \n",
    "__Method:__ Separate 'observations' column into one observation per column and clean the strings. Then perform topic modeling."
   ]
  },
  {
   "cell_type": "code",
   "execution_count": 4,
   "metadata": {},
   "outputs": [
    {
     "name": "stdout",
     "output_type": "stream",
     "text": [
      "(352, 18)\n"
     ]
    },
    {
     "data": {
      "text/html": [
       "<div>\n",
       "<style scoped>\n",
       "    .dataframe tbody tr th:only-of-type {\n",
       "        vertical-align: middle;\n",
       "    }\n",
       "\n",
       "    .dataframe tbody tr th {\n",
       "        vertical-align: top;\n",
       "    }\n",
       "\n",
       "    .dataframe thead th {\n",
       "        text-align: right;\n",
       "    }\n",
       "</style>\n",
       "<table border=\"1\" class=\"dataframe\">\n",
       "  <thead>\n",
       "    <tr style=\"text-align: right;\">\n",
       "      <th></th>\n",
       "      <th>Unnamed: 0</th>\n",
       "      <th>index</th>\n",
       "      <th>record_date</th>\n",
       "      <th>fei_number</th>\n",
       "      <th>company_name</th>\n",
       "      <th>record_type</th>\n",
       "      <th>state</th>\n",
       "      <th>establishment_type_x</th>\n",
       "      <th>publish_date</th>\n",
       "      <th>href</th>\n",
       "      <th>pdf_url</th>\n",
       "      <th>pdf_name</th>\n",
       "      <th>firm_name</th>\n",
       "      <th>establishment_type_y</th>\n",
       "      <th>facility_city</th>\n",
       "      <th>auditors</th>\n",
       "      <th>audit_dates</th>\n",
       "      <th>observations</th>\n",
       "    </tr>\n",
       "  </thead>\n",
       "  <tbody>\n",
       "    <tr>\n",
       "      <th>0</th>\n",
       "      <td>0</td>\n",
       "      <td>2</td>\n",
       "      <td>2021-01-28</td>\n",
       "      <td>3011761321</td>\n",
       "      <td>Wells Pharmacy, Inc</td>\n",
       "      <td>483</td>\n",
       "      <td>Tennessee</td>\n",
       "      <td>Outsourcing Facility</td>\n",
       "      <td>2021-03-31</td>\n",
       "      <td>/media/147184/download</td>\n",
       "      <td>https://www.fda.gov/media/147184/download</td>\n",
       "      <td>WellsPharmacy508ed_0</td>\n",
       "      <td>Wells Pharmacy, Ine     CIty STATE ZIP CODE, C...</td>\n",
       "      <td>490 Us Highway ol Byp N     TYPE ESTABLISHMENT...</td>\n",
       "      <td>Wells Pharmacy, Ine     CITY, STATE, ZIP CODE,...</td>\n",
       "      <td>June P Page, Investigator Julius I Jones, Inve...</td>\n",
       "      <td>JIN  DATE(S) OF INSPEGTION 12/1/2020-1/28/2021+</td>\n",
       "      <td>There is a failure to thoroughly review the fa...</td>\n",
       "    </tr>\n",
       "    <tr>\n",
       "      <th>0</th>\n",
       "      <td>0</td>\n",
       "      <td>2</td>\n",
       "      <td>2021-01-28</td>\n",
       "      <td>3011761321</td>\n",
       "      <td>Wells Pharmacy, Inc</td>\n",
       "      <td>483</td>\n",
       "      <td>Tennessee</td>\n",
       "      <td>Outsourcing Facility</td>\n",
       "      <td>2021-03-31</td>\n",
       "      <td>/media/147184/download</td>\n",
       "      <td>https://www.fda.gov/media/147184/download</td>\n",
       "      <td>WellsPharmacy508ed_0</td>\n",
       "      <td>Wells Pharmacy, Ine     CIty STATE ZIP CODE, C...</td>\n",
       "      <td>490 Us Highway ol Byp N     TYPE ESTABLISHMENT...</td>\n",
       "      <td>Wells Pharmacy, Ine     CITY, STATE, ZIP CODE,...</td>\n",
       "      <td>June P Page, Investigator Julius I Jones, Inve...</td>\n",
       "      <td>JIN  DATE(S) OF INSPEGTION 12/1/2020-1/28/2021+</td>\n",
       "      <td>Buildings used in the manufacture, processing,...</td>\n",
       "    </tr>\n",
       "    <tr>\n",
       "      <th>0</th>\n",
       "      <td>0</td>\n",
       "      <td>2</td>\n",
       "      <td>2021-01-28</td>\n",
       "      <td>3011761321</td>\n",
       "      <td>Wells Pharmacy, Inc</td>\n",
       "      <td>483</td>\n",
       "      <td>Tennessee</td>\n",
       "      <td>Outsourcing Facility</td>\n",
       "      <td>2021-03-31</td>\n",
       "      <td>/media/147184/download</td>\n",
       "      <td>https://www.fda.gov/media/147184/download</td>\n",
       "      <td>WellsPharmacy508ed_0</td>\n",
       "      <td>Wells Pharmacy, Ine     CIty STATE ZIP CODE, C...</td>\n",
       "      <td>490 Us Highway ol Byp N     TYPE ESTABLISHMENT...</td>\n",
       "      <td>Wells Pharmacy, Ine     CITY, STATE, ZIP CODE,...</td>\n",
       "      <td>June P Page, Investigator Julius I Jones, Inve...</td>\n",
       "      <td>JIN  DATE(S) OF INSPEGTION 12/1/2020-1/28/2021+</td>\n",
       "      <td>for additional Quality Unit concerns.</td>\n",
       "    </tr>\n",
       "    <tr>\n",
       "      <th>0</th>\n",
       "      <td>0</td>\n",
       "      <td>2</td>\n",
       "      <td>2021-01-28</td>\n",
       "      <td>3011761321</td>\n",
       "      <td>Wells Pharmacy, Inc</td>\n",
       "      <td>483</td>\n",
       "      <td>Tennessee</td>\n",
       "      <td>Outsourcing Facility</td>\n",
       "      <td>2021-03-31</td>\n",
       "      <td>/media/147184/download</td>\n",
       "      <td>https://www.fda.gov/media/147184/download</td>\n",
       "      <td>WellsPharmacy508ed_0</td>\n",
       "      <td>Wells Pharmacy, Ine     CIty STATE ZIP CODE, C...</td>\n",
       "      <td>490 Us Highway ol Byp N     TYPE ESTABLISHMENT...</td>\n",
       "      <td>Wells Pharmacy, Ine     CITY, STATE, ZIP CODE,...</td>\n",
       "      <td>June P Page, Investigator Julius I Jones, Inve...</td>\n",
       "      <td>JIN  DATE(S) OF INSPEGTION 12/1/2020-1/28/2021+</td>\n",
       "      <td>Equipment and utensils are not maintained at a...</td>\n",
       "    </tr>\n",
       "    <tr>\n",
       "      <th>0</th>\n",
       "      <td>0</td>\n",
       "      <td>2</td>\n",
       "      <td>2021-01-28</td>\n",
       "      <td>3011761321</td>\n",
       "      <td>Wells Pharmacy, Inc</td>\n",
       "      <td>483</td>\n",
       "      <td>Tennessee</td>\n",
       "      <td>Outsourcing Facility</td>\n",
       "      <td>2021-03-31</td>\n",
       "      <td>/media/147184/download</td>\n",
       "      <td>https://www.fda.gov/media/147184/download</td>\n",
       "      <td>WellsPharmacy508ed_0</td>\n",
       "      <td>Wells Pharmacy, Ine     CIty STATE ZIP CODE, C...</td>\n",
       "      <td>490 Us Highway ol Byp N     TYPE ESTABLISHMENT...</td>\n",
       "      <td>Wells Pharmacy, Ine     CITY, STATE, ZIP CODE,...</td>\n",
       "      <td>June P Page, Investigator Julius I Jones, Inve...</td>\n",
       "      <td>JIN  DATE(S) OF INSPEGTION 12/1/2020-1/28/2021+</td>\n",
       "      <td>for additional Quality Unit concerns.</td>\n",
       "    </tr>\n",
       "  </tbody>\n",
       "</table>\n",
       "</div>"
      ],
      "text/plain": [
       "   Unnamed: 0  index record_date  fei_number          company_name  \\\n",
       "0           0      2  2021-01-28  3011761321  Wells Pharmacy, Inc    \n",
       "0           0      2  2021-01-28  3011761321  Wells Pharmacy, Inc    \n",
       "0           0      2  2021-01-28  3011761321  Wells Pharmacy, Inc    \n",
       "0           0      2  2021-01-28  3011761321  Wells Pharmacy, Inc    \n",
       "0           0      2  2021-01-28  3011761321  Wells Pharmacy, Inc    \n",
       "\n",
       "   record_type      state  establishment_type_x publish_date  \\\n",
       "0          483  Tennessee  Outsourcing Facility   2021-03-31   \n",
       "0          483  Tennessee  Outsourcing Facility   2021-03-31   \n",
       "0          483  Tennessee  Outsourcing Facility   2021-03-31   \n",
       "0          483  Tennessee  Outsourcing Facility   2021-03-31   \n",
       "0          483  Tennessee  Outsourcing Facility   2021-03-31   \n",
       "\n",
       "                     href                                    pdf_url  \\\n",
       "0  /media/147184/download  https://www.fda.gov/media/147184/download   \n",
       "0  /media/147184/download  https://www.fda.gov/media/147184/download   \n",
       "0  /media/147184/download  https://www.fda.gov/media/147184/download   \n",
       "0  /media/147184/download  https://www.fda.gov/media/147184/download   \n",
       "0  /media/147184/download  https://www.fda.gov/media/147184/download   \n",
       "\n",
       "               pdf_name                                          firm_name  \\\n",
       "0  WellsPharmacy508ed_0  Wells Pharmacy, Ine     CIty STATE ZIP CODE, C...   \n",
       "0  WellsPharmacy508ed_0  Wells Pharmacy, Ine     CIty STATE ZIP CODE, C...   \n",
       "0  WellsPharmacy508ed_0  Wells Pharmacy, Ine     CIty STATE ZIP CODE, C...   \n",
       "0  WellsPharmacy508ed_0  Wells Pharmacy, Ine     CIty STATE ZIP CODE, C...   \n",
       "0  WellsPharmacy508ed_0  Wells Pharmacy, Ine     CIty STATE ZIP CODE, C...   \n",
       "\n",
       "                                establishment_type_y  \\\n",
       "0  490 Us Highway ol Byp N     TYPE ESTABLISHMENT...   \n",
       "0  490 Us Highway ol Byp N     TYPE ESTABLISHMENT...   \n",
       "0  490 Us Highway ol Byp N     TYPE ESTABLISHMENT...   \n",
       "0  490 Us Highway ol Byp N     TYPE ESTABLISHMENT...   \n",
       "0  490 Us Highway ol Byp N     TYPE ESTABLISHMENT...   \n",
       "\n",
       "                                       facility_city  \\\n",
       "0  Wells Pharmacy, Ine     CITY, STATE, ZIP CODE,...   \n",
       "0  Wells Pharmacy, Ine     CITY, STATE, ZIP CODE,...   \n",
       "0  Wells Pharmacy, Ine     CITY, STATE, ZIP CODE,...   \n",
       "0  Wells Pharmacy, Ine     CITY, STATE, ZIP CODE,...   \n",
       "0  Wells Pharmacy, Ine     CITY, STATE, ZIP CODE,...   \n",
       "\n",
       "                                            auditors  \\\n",
       "0  June P Page, Investigator Julius I Jones, Inve...   \n",
       "0  June P Page, Investigator Julius I Jones, Inve...   \n",
       "0  June P Page, Investigator Julius I Jones, Inve...   \n",
       "0  June P Page, Investigator Julius I Jones, Inve...   \n",
       "0  June P Page, Investigator Julius I Jones, Inve...   \n",
       "\n",
       "                                         audit_dates  \\\n",
       "0  JIN  DATE(S) OF INSPEGTION 12/1/2020-1/28/2021+     \n",
       "0  JIN  DATE(S) OF INSPEGTION 12/1/2020-1/28/2021+     \n",
       "0  JIN  DATE(S) OF INSPEGTION 12/1/2020-1/28/2021+     \n",
       "0  JIN  DATE(S) OF INSPEGTION 12/1/2020-1/28/2021+     \n",
       "0  JIN  DATE(S) OF INSPEGTION 12/1/2020-1/28/2021+     \n",
       "\n",
       "                                        observations  \n",
       "0  There is a failure to thoroughly review the fa...  \n",
       "0  Buildings used in the manufacture, processing,...  \n",
       "0            for additional Quality Unit concerns.    \n",
       "0  Equipment and utensils are not maintained at a...  \n",
       "0            for additional Quality Unit concerns.    "
      ]
     },
     "execution_count": 4,
     "metadata": {},
     "output_type": "execute_result"
    }
   ],
   "source": [
    "# separate each row into multiple rows based on the occurence of the substring OBSERVATION\n",
    "rr = reading_room.assign(observations=reading_room['observations'].str.split(r'OBSERVATION [0-9]+\\s+')).explode('observations').replace(r'(\\n|\\x0c)', ' ', regex = True)\n",
    "\n",
    "# filter out the preamble rows (before OBSERVATION 1 starts)\n",
    "rr1 = rr[~rr['observations'].str.contains(\"This document lists observations made by the FDA\", na = False)]\n",
    "#rr1['observations'] = rr1['observations'].str.lower()\n",
    "print(rr1.shape)\n",
    "rr1.head()"
   ]
  },
  {
   "cell_type": "code",
   "execution_count": 5,
   "metadata": {},
   "outputs": [
    {
     "name": "stdout",
     "output_type": "stream",
     "text": [
      "Number of observations:  352\n",
      "('The quality control unit lacks responsibility to approve and reject all '\n",
      " 'procedures or specifications impacting on the identity, strength, quality '\n",
      " 'and purity of drug products.  *** THIS IS A REPEAT OBSERVATION FROM FDA 483 '\n",
      " 'issued in 2018 (Observation 2)***  Specifically, during an interview with '\n",
      " 'your firm’s Quality Assurance Supervisor, who is onsite daily, is '\n",
      " 'responsible for, but not limited to: review and release of your firm’s batch '\n",
      " 'records; routine monitoring reviews; and oversees your firm’s environmental '\n",
      " 'monitoring program, stated they do not make quality decisions due to lack of '\n",
      " 'experience or authority. For example, but not limited to:  A. On 12/07/2020, '\n",
      " 'your firm’s Quality Assurance Supervisor stated they acknowledged the gaps '\n",
      " \"in your firm's ISO 7-2 Packaging Room and ISO 7-1 Pellet Room ceilings and \"\n",
      " 'stated these gaps may cause disruption in the quality of air. However, the '\n",
      " 'Quality Assurance Supervisor does not review your firm’s cleanroom '\n",
      " 'certification reports and explained this review was conducted by the Quality '\n",
      " 'Unit located in Ocala, Florida. Your firm’s Director of Operations stated '\n",
      " 'the Vice President of Quality Assurance, located in Ocala, Florida, visits '\n",
      " 'their facility approximately (b) (4) and the Senior Quality Assurance '\n",
      " 'Manager, also located in Ocala, Florida visits approximately (b) (4) -  B. '\n",
      " 'On 12/01/2020, we observed obvious surface abrasions located on the '\n",
      " \"faceplate of your firm's pellet press, EQOO01, that comes in direct contact \"\n",
      " 'with drug components during processing for implantable hormonal pellets that '\n",
      " 'are intended to be sterile. On 12/01/2020 and 12/07/2020, your firm’s '\n",
      " 'Quality Assurance Supervisor, who routinely reviews and authorizes the '\n",
      " 'release of batch records, stated your firm did not have any assurances '\n",
      " 'currently in place that would ensure the implantable hormonal pellets '\n",
      " 'produced on EQ001 and released to the public were not free of metal '\n",
      " 'inclusions (e.g., no metal detection devices). However, your firm’s Quality '\n",
      " 'Assurance Supervisor, stated they lack the authority to initiate an '\n",
      " 'investigation (deviation) and defers to the Quality Unit located in Ocala, '\n",
      " 'Florida for such determinations. On 12/10/2020, your firm’s Director of '\n",
      " 'Operations provided a dispensing, report documenting at least 0  lots '\n",
      " '(approximately (b) (4) implantable hormonal pellets) within expiry were '\n",
      " \"distributed to the public. As of 12/10/2020, your firm's Vice President of \"\n",
      " 'Quality Assurance (located in Ocala, Florida) stated they were “still '\n",
      " 'determining whether or not this constitutes a deviation due to a surface '\n",
      " 'abrasion”. Please refer to ')\n"
     ]
    }
   ],
   "source": [
    "observations = rr1['observations'].tolist()\n",
    "print(\"Number of observations: \", len(observations))\n",
    "pprint(observations[5])"
   ]
  },
  {
   "cell_type": "markdown",
   "metadata": {},
   "source": [
    "#### Tokenize words and clean up text"
   ]
  },
  {
   "cell_type": "code",
   "execution_count": 6,
   "metadata": {},
   "outputs": [
    {
     "data": {
      "text/plain": [
       "['for', 'additional', 'quality', 'unit', 'concerns']"
      ]
     },
     "execution_count": 6,
     "metadata": {},
     "output_type": "execute_result"
    }
   ],
   "source": [
    "def sent_to_words(sentences):\n",
    "    for observation in observations:\n",
    "        yield(gensim.utils.simple_preprocess(str(observation), deacc = True))\n",
    "\n",
    "obs_words = list(sent_to_words(observations))\n",
    "\n",
    "obs_words[4][:10]"
   ]
  },
  {
   "cell_type": "markdown",
   "metadata": {},
   "source": [
    "### Bigram and Trigram Models"
   ]
  },
  {
   "cell_type": "code",
   "execution_count": 7,
   "metadata": {},
   "outputs": [
    {
     "data": {
      "text/plain": [
       "['for', 'additional', 'quality', 'unit', 'concerns']"
      ]
     },
     "execution_count": 7,
     "metadata": {},
     "output_type": "execute_result"
    }
   ],
   "source": [
    "# bigram\n",
    "bigram = gensim.models.Phrases(obs_words, min_count = 5, threshold = 100)\n",
    "bigram_mod = gensim.models.phrases.Phraser(bigram)\n",
    "\n",
    "# trigram\n",
    "trigram = gensim.models.Phrases(obs_words, min_count = 5, threshold = 100)\n",
    "trigram_mod = gensim.models.phrases.Phraser(trigram)\n",
    "trigram_mod[bigram_mod[obs_words[4]]][:10]"
   ]
  },
  {
   "cell_type": "markdown",
   "metadata": {},
   "source": [
    "### Remove Stop Words and Make Bigrams"
   ]
  },
  {
   "cell_type": "code",
   "execution_count": 8,
   "metadata": {},
   "outputs": [],
   "source": [
    "from nltk.stem import WordNetLemmatizer\n",
    "lemmatizer = WordNetLemmatizer()\n",
    "from nltk.corpus import stopwords\n",
    "\n",
    "# modify list of stop words\n",
    "custom_stopwords = ['firm', 'within', 'example', 'specifically', 'following', 'mg', 'ml', 'stated', 'however']\n",
    "chemical_stopwords = ['olive_oil', 'vancomycin', 'testosterone_cypionate', 'hcl', 'succinylcholine_chloride', 'sodium', \n",
    "                     'alprostadil', 'lido_tetr', 'prilo_phenyl', 'betamethasone']\n",
    "new_stop_words = custom_stopwords + chemical_stopwords\n",
    "stop_words = stopwords.words('english')\n",
    "for word in new_stop_words:\n",
    "    if word in stop_words:\n",
    "        continue\n",
    "    else:\n",
    "        stop_words.append(word)\n",
    "        \n",
    "# define functions for stopwords, bigrams, trigrams and lemmatization\n",
    "def remove_stopwords(texts):\n",
    "    return [[word for word in simple_preprocess(str(doc)) if word not in stop_words] for doc in texts]\n",
    "\n",
    "def make_bigrams(texts):\n",
    "    return [bigram_mod[doc] for doc in texts]\n",
    "\n",
    "def make_trigrams(texts):\n",
    "    return [trigram_mod[bigram_mod[doc]] for doc in texts]\n",
    "\n",
    "def lemmatization(texts): #, allowed_postags=['NOUN', 'ADJ', 'VERB', 'ADV']):\n",
    "    texts_out = []\n",
    "    for sent in texts:\n",
    "        #doc = join(sent) # nlp(\" \".join(sent))\n",
    "        texts_out.append([lemmatizer.lemmatize(token) for token in sent]) # if token.pos_ in allowed_postags])\n",
    "    return texts_out"
   ]
  },
  {
   "cell_type": "code",
   "execution_count": 9,
   "metadata": {},
   "outputs": [
    {
     "data": {
      "text/plain": [
       "352"
      ]
     },
     "execution_count": 9,
     "metadata": {},
     "output_type": "execute_result"
    }
   ],
   "source": [
    "obs_words_nostops = remove_stopwords(obs_words)\n",
    "obs_words_bigrams = make_bigrams(obs_words_nostops)\n",
    "obs_lem = lemmatization(obs_words_bigrams)\n",
    "len(obs_lem)"
   ]
  },
  {
   "cell_type": "markdown",
   "metadata": {},
   "source": [
    "### Create Dictionary and Corpus for Topic Modeling"
   ]
  },
  {
   "cell_type": "code",
   "execution_count": 10,
   "metadata": {},
   "outputs": [
    {
     "name": "stdout",
     "output_type": "stream",
     "text": [
      "[[('according', 6), ('accurate', 1), ('acrodontium', 1), ('action', 1), ('activity', 1), ('addition', 2), ('address', 1), ('addressed', 1), ('aefomium', 1), ('aes', 1), ('aetomtum', 2), ('air', 19), ('al', 1), ('already_distributed', 1), ('approved', 1), ('area', 4), ('aspergillus', 2), ('assistant', 2), ('associated', 3), ('assurance', 4), ('aureobasidium', 1), ('automatically', 2), ('batch', 10), ('bench', 1), ('bipolaris', 1), ('blister', 1), ('camemberti', 1), ('cd', 1), ('ceiling', 1), ('ceu', 3), ('cfu', 28), ('cfus', 5), ('chaetominm', 1), ('chaetomium', 10), ('chaetomium_globosum', 13), ('chaetomtum', 1), ('chazetomium', 1), ('che', 1), ('chetomium', 1), ('chrysogemim', 1), ('chrysogenum', 2), ('ckfu', 1), ('cku', 1), ('cladosporioides', 3), ('cladosporium', 3), ('cleaning', 1), ('cleanroom', 1), ('company', 1), ('compared', 1), ('complaint', 2), ('completed', 1), ('component', 1), ('compounding', 2), ('concern', 1), ('concluded', 1), ('conduct', 3), ('conducted', 2), ('contaminated', 1), ('contamination', 3), ('continues', 2), ('contract', 1), ('contractor', 2), ('control', 1), ('count', 3), ('cpaefomtum', 1), ('cpaetomrium', 1), ('creetomium', 1), ('crusty', 1), ('curvylerig', 1), ('cynodontis', 1), ('data', 1), ('demonsirated', 1), ('description', 3), ('deviation', 2), ('director', 2), ('discard', 1), ('dispensed', 2), ('dissolution', 1), ('distribution', 4), ('document', 1), ('drug', 2), ('em', 1), ('employee', 1), ('environmental', 7), ('eradicate', 1), ('exiting', 1), ('extremely', 1), ('face', 1), ('facility', 1), ('failed', 4), ('failure', 2), ('fda', 1), ('fi', 2), ('fingertip', 9), ('floor', 1), ('fomturn', 1), ('forearm', 1), ('forte', 1), ('frequency', 1), ('fungus', 13), ('funguy', 1), ('furthermore', 1), ('fusarien', 1), ('fusarium', 14), ('fusarivn', 1), ('gertips', 1), ('globostem', 1), ('globosum', 11), ('globsum', 5), ('gloved', 1), ('gowning', 5), ('grand', 2), ('growth', 1), ('gy', 1), ('hand', 2), ('hard', 1), ('hardness', 1), ('herbarum', 1), ('hormonal_pellets', 1), ('hvac', 1), ('hyaline', 4), ('id', 1), ('identified', 2), ('identify', 1), ('il', 1), ('implantable_hormonal', 1), ('including', 1), ('increasing', 1), ('ind', 1), ('initial', 3), ('initiate', 1), ('intended', 1), ('investigation', 7), ('involved', 1), ('issued', 1), ('ius', 1), ('janitorial', 1), ('jormosus', 1), ('laboratory', 1), ('last', 2), ('left', 7), ('leftfingertips', 2), ('level', 1), ('limited', 4), ('listed', 1), ('log', 2), ('lot', 21), ('machine', 1), ('manager', 1), ('mc', 1), ('meet', 1), ('met', 1), ('micro', 1), ('microorganism', 1), ('mixer', 1), ('mixing', 1), ('mold', 8), ('monitoring', 17), ('month', 2), ('mplantable', 1), ('mucilaginosa', 1), ('nag', 1), ('near', 1), ('ng', 1), ('nie', 1), ('nim', 1), ('nluus', 1), ('nn', 1), ('non', 1), ('noted', 2), ('number', 3), ('o', 3), ('observation', 3), ('occasion', 1), ('operation', 2), ('organism', 2), ('otn', 1), ('oume', 1), ('ox', 1), ('pack', 1), ('packaging', 1), ('paecilomyces', 1), ('party', 1), ('pean', 1), ('pedobacter', 1), ('pellet', 15), ('pellet_press', 8), ('penicifium', 1), ('penicillaan', 1), ('penicillium', 3), ('penicillium_chrysogenum', 8), ('penicillium_spp', 7), ('performed', 4), ('persistent', 1), ('person', 1), ('personnel', 11), ('pharmacist', 1), ('physician', 1), ('placed', 1), ('please_refer', 2), ('pm', 1), ('prescribing', 1), ('present', 1), ('prior', 2), ('procedure', 2), ('process', 1), ('produce', 1), ('produced', 1), ('product', 2), ('production', 5), ('proliferakium', 1), ('proliferatim', 1), ('proliferatum', 7), ('provide', 1), ('provided', 3), ('public', 2), ('pullulans', 1), ('qty', 2), ('qualification', 1), ('quality', 13), ('quisquiliarum', 1), ('rack', 2), ('rd', 1), ('received', 4), ('record', 5), ('recovered', 5), ('recovery', 4), ('recto', 1), ('reference', 1), ('rejected', 1), ('related', 1), ('released', 6), ('repeat_observation', 1), ('report', 5), ('requires', 1), ('result', 2), ('retain', 1), ('return', 1), ('review', 4), ('reviewed', 3), ('rhodotorula', 1), ('right', 2), ('right_fingertips', 7), ('root_cause', 1), ('routine', 5), ('s', 2), ('sample', 28), ('sampling', 2), ('sarten', 1), ('scfu', 1), ('scopulariopsis', 1), ('senior', 1), ('several', 1), ('show', 1), ('signed', 1), ('sisi', 1), ('site', 2), ('slo', 1), ('source', 2), ('specie', 1), ('specifications_whether', 1), ('sporulating', 1), ('spp', 14), ('ss', 1), ('ssssssd', 1), ('state', 1), ('stating', 1), ('sterile', 1), ('sterility', 2), ('sterilization', 1), ('suite', 1), ('sum', 2), ('supervisor', 1), ('supply', 2), ('surface', 5), ('sydowii', 2), ('system', 1), ('t', 1), ('table', 2), ('taken', 1), ('technician', 4), ('testing', 4), ('testosterone', 15), ('third_party', 3), ('thorough', 3), ('thoroughly_review', 1), ('tl', 1), ('tn', 37), ('tno', 1), ('tomium', 1), ('total', 11), ('tqolotn', 1), ('trend', 1), ('unidentifiabie', 1), ('unidentifiable', 2), ('unit', 9), ('upgrade', 1), ('various', 1), ('vice_president', 2), ('wall', 1), ('weighing', 1), ('woliferahum', 1), ('written', 2), ('written_procedures', 1), ('yellow', 1)], [('air', 1), ('area', 1), ('assurance', 1), ('ceiling', 2), ('cleaning', 1), ('contractor', 1), ('document', 1), ('drug', 1), ('facility', 2), ('fda', 1), ('implantable_hormonal', 1), ('including', 1), ('intended', 1), ('issued', 1), ('limited', 1), ('observation', 1), ('operation', 1), ('pellet', 3), ('performed', 1), ('please_refer', 1), ('produced', 1), ('product', 1), ('provided', 1), ('quality', 1), ('repeat_observation', 1), ('report', 2), ('sterile', 1), ('suite', 1), ('system', 1), ('third_party', 1), ('vice_president', 1), ('ac', 1), ('around', 1), ('building', 1), ('caulking', 1), ('classified', 1), ('clean', 1), ('cleanable', 2), ('construction', 1), ('damage', 1), ('dated', 1), ('deficiency', 1), ('easily', 2), ('ensure', 1), ('equipment', 1), ('excess', 1), ('excessive', 1), ('facilitate', 1), ('fixture', 1), ('flow', 1), ('gap', 1), ('hepa_filter', 1), ('holding', 1), ('hv', 1), ('iso', 3), ('light', 1), ('located', 2), ('maintenance', 2), ('manufacture', 1), ('observed', 1), ('package', 2), ('perimeter', 1), ('preventative', 1), ('processing_packing', 1), ('proper', 1), ('referred', 1), ('room', 3), ('rust', 1), ('schematic', 1), ('screen', 1), ('smooth', 2), ('structural', 1), ('suitable', 1), ('used', 1)]]\n"
     ]
    }
   ],
   "source": [
    "# dictionary\n",
    "id2word = corpora.Dictionary(obs_lem)\n",
    "\n",
    "# corpus\n",
    "texts = obs_lem\n",
    "\n",
    "# Term Document Frequency\n",
    "corpus = [id2word.doc2bow(text) for text in texts]\n",
    "\n",
    "# human readable version of corpus\n",
    "print([[(id2word[id], freq) for id, freq in cp] for cp in corpus[:2]])"
   ]
  },
  {
   "cell_type": "markdown",
   "metadata": {},
   "source": [
    "### Determining the Number of Topics"
   ]
  },
  {
   "cell_type": "code",
   "execution_count": 11,
   "metadata": {},
   "outputs": [],
   "source": [
    "def compute_coherence_values(dictionary, corpus, texts, limit, start=2, step=3):\n",
    "    \"\"\"\n",
    "    Compute c_v coherence for various number of topics\n",
    "\n",
    "    Parameters:\n",
    "    ----------\n",
    "    dictionary : Gensim dictionary\n",
    "    corpus : Gensim corpus\n",
    "    texts : List of input texts\n",
    "    limit : Max num of topics\n",
    "\n",
    "    Returns:\n",
    "    -------\n",
    "    model_list : List of LDA topic models\n",
    "    coherence_values : Coherence values corresponding to the LDA model with respective number of topics\n",
    "    \"\"\"\n",
    "    coherence_values = []\n",
    "    model_list = []\n",
    "    for num_topics in range(start, limit, step):\n",
    "        #model = gensim.models.wrappers.LdaMallet(mallet_path, corpus=corpus, num_topics=num_topics, id2word=id2word)\n",
    "        model = gensim.models.ldamodel.LdaModel(corpus = corpus, num_topics = num_topics, id2word = id2word,\n",
    "                                               random_state = 4,\n",
    "                                               passes = 25)\n",
    "        model_list.append(model)\n",
    "        coherencemodel = CoherenceModel(model=model, texts=texts, dictionary=dictionary, coherence='c_v')\n",
    "        coherence_values.append(coherencemodel.get_coherence())\n",
    "\n",
    "    return model_list, coherence_values"
   ]
  },
  {
   "cell_type": "code",
   "execution_count": 12,
   "metadata": {},
   "outputs": [],
   "source": [
    "# Can take a long time to run.\n",
    "start_point = 3\n",
    "step_size = 3\n",
    "steps_limit = 50\n",
    "model_list, coherence_values = compute_coherence_values(dictionary=id2word, corpus=corpus, texts=obs_lem, start=start_point, limit=50, step=step_size)"
   ]
  },
  {
   "cell_type": "code",
   "execution_count": 13,
   "metadata": {},
   "outputs": [
    {
     "data": {
      "image/png": "[encoded data removed]",
      "text/plain": [
       "<Figure size 720x360 with 1 Axes>"
      ]
     },
     "metadata": {
      "needs_background": "light"
     },
     "output_type": "display_data"
    }
   ],
   "source": [
    "import operator\n",
    "# Show graph\n",
    "#limit=steps_limit; start=start_point; step=step_size;\n",
    "x = range(start_point, steps_limit, step_size)\n",
    "topic_dic = dict(zip(x, coherence_values))\n",
    "max_topic_n = max(topic_dic.items(), key = operator.itemgetter(1))[0]\n",
    "max_topic_score = max(topic_dic.values())\n",
    "plt.figure(figsize=(10,5))\n",
    "plt.plot(x, coherence_values)\n",
    "plt.xlabel(\"Num Topics\")\n",
    "plt.ylabel(\"Coherence score\")\n",
    "plt.legend((\"coherence_values\"), loc='best')\n",
    "plt.title(\"Highest coherence score of {} achieved with {} topics\".format(max_topic_score, max_topic_n))\n",
    "plt.show()"
   ]
  },
  {
   "cell_type": "markdown",
   "metadata": {},
   "source": [
    "### Build the Topic Model"
   ]
  },
  {
   "cell_type": "code",
   "execution_count": 14,
   "metadata": {},
   "outputs": [],
   "source": [
    "lda_model = gensim.models.ldamodel.LdaModel(corpus = corpus,\n",
    "                                           id2word = id2word,\n",
    "                                           num_topics = max_topic_n,\n",
    "                                           # choose a random number to ensure the program learns the same way each time\n",
    "                                           random_state = 1906, # year the fda was founded.\n",
    "                                           passes = 25)"
   ]
  },
  {
   "cell_type": "markdown",
   "metadata": {},
   "source": [
    "### View LDA Model Topics"
   ]
  },
  {
   "cell_type": "code",
   "execution_count": 15,
   "metadata": {},
   "outputs": [
    {
     "name": "stdout",
     "output_type": "stream",
     "text": [
      "[(0,\n",
      "  '0.013*\"aseptic\" + 0.012*\"observed\" + 0.011*\"hood\" + 0.010*\"iv\" + '\n",
      "  '0.010*\"grade\" + 0.008*\"product\" + 0.008*\"operator\" + 0.007*\"lot\" + '\n",
      "  '0.007*\"grade_zone\" + 0.007*\"mold\"'),\n",
      " (1,\n",
      "  '0.038*\"iso\" + 0.027*\"room\" + 0.024*\"sterile\" + 0.024*\"area\" + '\n",
      "  '0.016*\"observed\" + 0.015*\"hood\" + 0.014*\"drug\" + 0.014*\"non\" + '\n",
      "  '0.013*\"product\" + 0.012*\"classified\"'),\n",
      " (2,\n",
      "  '0.014*\"tn\" + 0.011*\"sample\" + 0.010*\"drug\" + 0.010*\"cfu\" + 0.009*\"section\" '\n",
      "  '+ 0.009*\"lot\" + 0.008*\"record\" + 0.008*\"air\" + 0.007*\"monitoring\" + '\n",
      "  '0.006*\"quality\"'),\n",
      " (3,\n",
      "  '0.025*\"product\" + 0.024*\"lot\" + 0.022*\"made\" + 0.017*\"drug\" + 0.014*\"rx\" + '\n",
      "  '0.012*\"non\" + 0.011*\"used\" + 0.011*\"produced\" + 0.006*\"bud\" + '\n",
      "  '0.006*\"cream\"'),\n",
      " (4,\n",
      "  '0.022*\"product\" + 0.015*\"batch\" + 0.013*\"investigation\" + 0.012*\"sample\" + '\n",
      "  '0.011*\"cleaning\" + 0.010*\"result\" + 0.009*\"oos\" + 0.008*\"drug\" + '\n",
      "  '0.008*\"tablet\" + 0.008*\"procedure\"'),\n",
      " (5,\n",
      "  '0.050*\"drug\" + 0.019*\"product\" + 0.017*\"inspection\" + 0.013*\"observed\" + '\n",
      "  '0.011*\"equipment\" + 0.010*\"mon_tue\" + 0.010*\"approved\" + 0.009*\"used\" + '\n",
      "  '0.009*\"date\" + 0.008*\"non\"'),\n",
      " (6,\n",
      "  '0.024*\"product\" + 0.020*\"lot\" + 0.018*\"testing\" + 0.017*\"drug\" + '\n",
      "  '0.015*\"batch\" + 0.013*\"stability\" + 0.010*\"date\" + 0.010*\"kit\" + '\n",
      "  '0.008*\"release\" + 0.008*\"expiration\"'),\n",
      " (7,\n",
      "  '0.032*\"product\" + 0.025*\"drug\" + 0.021*\"sterile\" + 0.019*\"lot\" + '\n",
      "  '0.016*\"vial\" + 0.011*\"injection\" + 0.009*\"batch\" + 0.008*\"process\" + '\n",
      "  '0.007*\"include\" + 0.007*\"aseptic\"'),\n",
      " (8,\n",
      "  '0.027*\"investigation\" + 0.021*\"lot\" + 0.018*\"quality\" + 0.016*\"report\" + '\n",
      "  '0.014*\"sterility\" + 0.013*\"complaint\" + 0.013*\"test\" + 0.011*\"testing\" + '\n",
      "  '0.010*\"unit\" + 0.009*\"number\"')]\n"
     ]
    }
   ],
   "source": [
    "# Print the Keywords in the 10 topics\n",
    "pprint(lda_model.print_topics())\n",
    "doc_lda = lda_model[corpus]"
   ]
  },
  {
   "cell_type": "code",
   "execution_count": 16,
   "metadata": {},
   "outputs": [
    {
     "name": "stdout",
     "output_type": "stream",
     "text": [
      "\n",
      "Perplexity:  -7.153146327876869\n",
      "\n",
      "Coherence Score:  0.426192892405151\n"
     ]
    }
   ],
   "source": [
    "# Compute Perplexity\n",
    "print('\\nPerplexity: ', lda_model.log_perplexity(corpus))\n",
    "\n",
    "# Compute Coherence Score\n",
    "coherence_model_lda = CoherenceModel(model=lda_model, texts = obs_lem,\n",
    "                                     dictionary = id2word, coherence = 'c_v')\n",
    "coherence_lda = coherence_model_lda.get_coherence()\n",
    "print('\\nCoherence Score: ', coherence_lda)"
   ]
  },
  {
   "cell_type": "markdown",
   "metadata": {},
   "source": [
    "### Visualize Topics"
   ]
  },
  {
   "cell_type": "code",
   "execution_count": 17,
   "metadata": {},
   "outputs": [
    {
     "data": {
      "text/html": [
       "\n",
       "<link rel=\"stylesheet\" type=\"text/css\" href=\"https://cdn.rawgit.com/bmabey/pyLDAvis/files/ldavis.v1.0.0.css\">\n",
       "\n",
       "\n",
       "<div id=\"ldavis_el336419111443327447922293778\"></div>\n",
       "<script type=\"text/javascript\">\n",
       "\n",
       "var ldavis_el336419111443327447922293778_data = {\"mdsDat\": {\"x\": [0.21752055731708986, 0.004868246735354359, -0.09502616709884132, 0.06212108338672304, -0.15589191712576217, 0.020981330394436958, -0.12654674083850653, -0.020168061412708282, 0.09214166864221385], \"y\": [0.08613854480262675, 0.06838620175260159, 0.030051008227807336, -0.1961815446439792, 0.055694985496564396, -0.04445372165310526, 0.028501697033950123, -0.10495364990128107, 0.07681647888481517], \"topics\": [1, 2, 3, 4, 5, 6, 7, 8, 9], \"cluster\": [1, 1, 1, 1, 1, 1, 1, 1, 1], \"Freq\": [26.478346391425063, 17.79765483895288, 14.867280851650246, 9.128910917159573, 9.096015229417187, 7.333224037987172, 6.837588568371615, 5.47475147113544, 2.9862276939008265]}, \"tinfo\": {\"Term\": [\"iso\", \"drug\", \"lot\", \"room\", \"investigation\", \"area\", \"hood\", \"aseptic\", \"sterile\", \"made\", \"product\", \"hazardous\", \"air\", \"classified\", \"testing\", \"batch\", \"non\", \"observed\", \"sample\", \"rx\", \"report\", \"equipment\", \"sterility\", \"complaint\", \"quality\", \"vial\", \"injection\", \"inspection\", \"tn\", \"test\", \"ante\", \"disinfectant\", \"classified\", \"deficient_regarding\", \"vent\", \"buffer\", \"producer\", \"implement_corrective\", \"disinfecting\", \"laf_hood\", \"dynamic_conditions\", \"chemo\", \"bsc\", \"sporicidal\", \"inch\", \"anteroom\", \"disinfecting_agents\", \"differential_pressure\", \"pressure_differential\", \"unidirectional_airflow\", \"lfh\", \"pressure\", \"ibservation\", \"disinfected\", \"objection\", \"influx\", \"design\", \"iso\", \"mobile_unit\", \"corner\", \"viable\", \"room\", \"aseptic_processing\", \"area\", \"gauge\", \"hazardous\", \"unclassified\", \"ceiling\", \"contact\", \"air\", \"hood\", \"cleanroom\", \"surface\", \"pharmacy\", \"located\", \"sterile\", \"door\", \"non\", \"observed\", \"production\", \"facility\", \"action\", \"clean\", \"wipe\", \"cleaning\", \"used\", \"drug\", \"technician\", \"product\", \"operation\", \"personnel\", \"aseptic\", \"equipment\", \"inspection\", \"performed\", \"stock_solutions\", \"dispensary\", \"inv\", \"ns_oh\", \"dispensary_staff\", \"media_fill\", \"stoppering\", \"olive_oil\", \"pyrogen_free\", \"quantity\", \"burkholderia\", \"ketorolac\", \"ctl\", \"container\", \"utilize\", \"componentry\", \"qre\", \"nandrolone\", \"bupivacaine\", \"apparel\", \"mor\", \"sod\", \"dispense\", \"closely\", \"morphine_sulfate\", \"testosterone_cypionate\", \"syrinx\", \"witnessed\", \"cifically\", \"endotoxin\", \"purporting\", \"vial\", \"outsourcing_facility\", \"label\", \"simulation\", \"oil\", \"summary\", \"injection\", \"media_fills\", \"injectable\", \"fill\", \"syringe\", \"filling\", \"run\", \"ascorbic_acid\", \"filled\", \"information\", \"product\", \"sterile\", \"lot\", \"solution\", \"mcg\", \"drug\", \"process\", \"aseptic\", \"include\", \"bulk\", \"technician\", \"failure\", \"batch\", \"unit\", \"using\", \"control\", \"quality\", \"production\", \"record\", \"non\", \"observed\", \"failed\", \"swab\", \"mac\", \"toc\", \"weight\", \"hydrocodone_bitartrate\", \"temazepam_capsules\", \"ooe\", \"nmt\", \"acetaminophen_tablets\", \"tablet\", \"extraneous_peaks\", \"homatropine\", \"somerset\", \"relative_humidity\", \"linearity\", \"apap\", \"extraneous_peak\", \"ppb\", \"potent_drugs\", \"swabbed\", \"cfi\", \"quinapril\", \"cv\", \"nov\", \"collection\", \"start\", \"methylphenidate_chewable\", \"tablet_press\", \"mm\", \"vessel\", \"somerset_nj\", \"oos\", \"peak\", \"site\", \"accuracy\", \"lab\", \"limit\", \"oxycodone\", \"dissolution\", \"dev\", \"tank\", \"based\", \"result\", \"manufacturing\", \"building\", \"contract\", \"sample\", \"review\", \"batch\", \"validation\", \"procedure\", \"investigation\", \"initiated\", \"cleaning\", \"water\", \"usp\", \"analysis\", \"product\", \"specification\", \"manufacturer\", \"sop\", \"equipment\", \"laboratory\", \"process\", \"record\", \"identified\", \"testing\", \"drug\", \"observed\", \"used\", \"time\", \"essentially_copy\", \"identical\", \"nearly_identical\", \"usc_provides\", \"wed\", \"prescribing_practitioner\", \"individual_patient\", \"shortage_list\", \"exercised\", \"status_label\", \"clinical_difference\", \"cus_lr\", \"comparable_approved\", \"blender\", \"sent_promptly\", \"rendered_injurious\", \"health_copy\", \"computer_system\", \"password\", \"instituted\", \"cosmetic_act\", \"mon\", \"bservation\", \"thu\", \"whereby\", \"inspectional_walkthrough\", \"folder\", \"yecifically\", \"scan\", \"meaning\", \"decomposed_substance\", \"judgment_indicate\", \"whole\", \"premise\", \"fri_mon\", \"mon_tue\", \"writing_setting\", \"tue_wed\", \"thu_fri\", \"leaving\", \"establishment_consists\", \"shall_give\", \"wed_thu\", \"prepared_packed\", \"charge_report\", \"federal_food\", \"compound\", \"approved\", \"drug\", \"inspection\", \"compounded\", \"equipment\", \"cleaned\", \"section\", \"date\", \"observed\", \"product\", \"one\", \"agent\", \"substance\", \"may\", \"used\", \"establishment\", \"hazardous\", \"non\", \"cleaning\", \"control\", \"utensil\", \"customer\", \"rapid_sterility\", \"culture\", \"contaminating_microorganism\", \"subculture\", \"human_error\", \"subculturing\", \"ocala\", \"reaction\", \"florida\", \"subcultured\", \"guidance\", \"vision_system\", \"adverse_event\", \"incursion\", \"dibutyl\", \"squaric\", \"cfr\", \"format\", \"adverse\", \"illegible\", \"udi\", \"handwritten\", \"oversees\", \"ead\", \"sepsis\", \"cgmp\", \"deemed\", \"customer_complaints\", \"via\", \"complaint\", \"dv\", \"sterility\", \"oxytocin_units\", \"submitted\", \"report\", \"vice_president\", \"investigation\", \"performance_qualification\", \"test\", \"medium\", \"number\", \"event\", \"quality\", \"received\", \"positive\", \"method\", \"pellet\", \"lot\", \"assurance\", \"unit\", \"testing\", \"review\", \"evaluation\", \"approved\", \"failure\", \"deviation\", \"conduct\", \"specification\", \"result\", \"distributed\", \"sample\", \"conducted\", \"batch\", \"performed\", \"bud\", \"day\", \"product\", \"procedure\", \"failed\", \"ointment\", \"tetracaine\", \"niacinamide\", \"pharmaceutical_grade\", \"hormone_containing\", \"prilocaine\", \"hydrocortisone\", \"hrt\", \"cyanocobalamin\", \"castle_rock\", \"co_producer\", \"eu\", \"inc\", \"rch\", \"topeka\", \"itc\", \"benzocaine\", \"ccc\", \"tar\", \"jungle\", \"coal\", \"guaifenesin\", \"otc\", \"hormonal\", \"cya\", \"washer\", \"lipoderm\", \"retinoic\", \"spearmint\", \"bpo\", \"cream\", \"made\", \"sr\", \"rx\", \"troche\", \"suspension\", \"progesterone\", \"utensil\", \"meg\", \"gm\", \"cross_contamination\", \"gel\", \"class\", \"formulation\", \"produced\", \"work_surface\", \"lot\", \"lidocaine\", \"bud\", \"product\", \"containing\", \"component\", \"non\", \"used\", \"drug\", \"established\", \"material\", \"phenylephrine\", \"capsule\", \"use\", \"equipment\", \"released\", \"specification\", \"including\", \"include\", \"cleaning\", \"production\", \"compounding\", \"solution\", \"control\", \"quality\", \"calibration\", \"user_name\", \"study_deleted\", \"papaverine\", \"assigned_year\", \"active_ingredient\", \"phentolamine\", \"atropine\", \"satisfactory_conformance\", \"mci\", \"dtpa\", \"kit\", \"pyp\", \"dexmedetomidine\", \"fp\", \"units_gram\", \"lc\", \"gpa\", \"aborted\", \"ph\", \"user_id\", \"expiration\", \"year_expiration\", \"oot\", \"rh\", \"iml\", \"nuclear\", \"sulfur\", \"dmsa\", \"colloid\", \"phentolamine_mesylate\", \"stability\", \"nystatin_topical\", \"dating\", \"preservative\", \"mertiatide\", \"feb\", \"testing\", \"release\", \"powder\", \"month\", \"assigned\", \"data\", \"lot\", \"batch\", \"product\", \"day\", \"date\", \"appropriate\", \"distribution\", \"bud\", \"drug\", \"lidocaine\", \"injection\", \"potency\", \"test\", \"usp\", \"mcg\", \"include\", \"failed\", \"laboratory\", \"spp\", \"fusarium\", \"chaetomium_globosum\", \"globosum\", \"chaetomium\", \"penicillium_chrysogenum\", \"reasonable\", \"penicillium_spp\", \"right_fingertips\", \"proliferatum\", \"subsection\", \"globsum\", \"subpart\", \"sec\", \"business\", \"registered\", \"hyaline\", \"copy\", \"respect\", \"act\", \"enforcement\", \"prescribed\", \"view\", \"purpose\", \"tn\", \"penicillium\", \"cladosporioides\", \"thorough\", \"cladosporium\", \"ceu\", \"person\", \"fungus\", \"pellet_press\", \"secretary\", \"cfu\", \"regulation\", \"pursuant\", \"shall\", \"pellet\", \"device\", \"fingertip\", \"total\", \"section\", \"sample\", \"monitoring\", \"testosterone\", \"officer\", \"effect\", \"record\", \"may\", \"air\", \"drug\", \"lot\", \"fda\", \"quality\", \"employee\", \"inspection\", \"personnel\", \"batch\", \"product\", \"injection\", \"grade_zone\", \"field_alert\", \"hepa\", \"mcpfar\", \"grate\", \"naturopathy\", \"luer\", \"lock\", \"nan\", \"additive\", \"nda\", \"asepti\", \"proximity\", \"mp\", \"tote\", \"grade\", \"flurbiprofen\", \"manipulated\", \"compounder\", \"equaling\", \"isolator\", \"lin\", \"cefazolin\", \"wrapping\", \"oct\", \"feeder\", \"worksurface\", \"therapy\", \"scoop\", \"arrived\", \"filling_line\", \"loading\", \"iv\", \"tpn\", \"iv_bag\", \"doctor\", \"close\", \"lyophilized\", \"pr\", \"pqr\", \"phlebotomist\", \"mold\", \"july\", \"cart\", \"connection\", \"aseptic\", \"cap\", \"operator\", \"supporting\", \"line\", \"th\", \"hood\", \"observed\", \"inside\", \"rx\", \"zone\", \"initiated\", \"product\", \"patient\", \"area\", \"lot\", \"air\", \"laminar_flow\", \"production\", \"batch\", \"produced\", \"used\", \"record\", \"contamination\", \"investigation\", \"room\"], \"Freq\": [446.0, 718.0, 422.0, 333.0, 220.0, 311.0, 213.0, 115.0, 455.0, 83.0, 771.0, 141.0, 154.0, 137.0, 159.0, 257.0, 269.0, 337.0, 164.0, 66.0, 107.0, 158.0, 87.0, 67.0, 188.0, 168.0, 126.0, 179.0, 39.0, 101.0, 38.04786603055515, 28.561102172836218, 134.09303154141574, 30.199664191658876, 23.773080062151042, 20.965830199209105, 20.00179583216809, 18.121921362088713, 18.112967298673144, 18.986483121993977, 17.1418007617463, 16.23014267506261, 16.230012539810485, 15.279507185194175, 14.328869168427643, 33.16515599428561, 13.383279894063906, 14.273191495703324, 12.43496283320176, 11.48326604613154, 10.538256694881637, 31.272911094560154, 10.497962146062532, 20.153974479863148, 9.588149958440523, 9.589102599024034, 9.588139850848124, 412.1972808482895, 8.639481658742548, 8.56899004590993, 20.18876733979512, 288.56187773719665, 90.98510007768168, 255.72024808728395, 16.230501494592737, 114.69483333137643, 39.155640469087956, 31.10267649649514, 45.03190662289492, 118.03520057465595, 158.00418889641762, 85.54581041222073, 66.96145027308641, 48.28094671506243, 66.9700872107905, 263.67761192407846, 33.2330840689963, 152.65185484835655, 174.73722725054782, 128.7537666103253, 38.62708919361616, 50.24394728847191, 54.012729889336356, 34.355570108264374, 99.85910125386496, 108.22937034770973, 155.9468794321387, 54.744686354225266, 139.37886773909045, 48.77447518287519, 47.403046723538964, 49.117567299232505, 51.86520005531301, 50.93973878776082, 45.54128884938394, 13.069067377421106, 13.927298422757536, 11.211759088274833, 11.211221520330103, 8.436059701335958, 37.6876334306617, 6.58517929808806, 18.165071369127112, 6.551771530957241, 13.930028724404156, 5.6585786121094905, 5.6547689283811104, 5.571404284263269, 47.81213205199083, 4.73291166381691, 4.732424625560507, 4.732544792802496, 4.730010240620743, 4.731290467598124, 4.729959286313186, 4.730111299997398, 4.72964252036787, 4.728561439809193, 4.723725876021989, 13.353348253191848, 18.16638768873901, 36.12263641615722, 9.290378305090435, 13.061805539355708, 27.399673390688232, 18.612361868681845, 113.43888193659008, 32.51923610649343, 38.53008817313988, 9.034264121298996, 8.309015326302944, 10.289682295568907, 80.21365691411886, 12.957004418048443, 17.953402080102666, 22.853900338379916, 45.05954638819848, 38.34963519140205, 20.47680206240924, 11.883579744081512, 32.153482689892144, 38.08788291347938, 230.07872706175513, 153.16279216930903, 140.77262045329894, 38.38330579783602, 37.10526645872598, 184.23489197163224, 55.48327927608955, 47.90299717018113, 48.98178478501848, 26.5847815316448, 40.35615807479959, 37.50724159409294, 62.593073084689244, 43.23833073357208, 31.03596300740345, 35.843036542774094, 43.07905096510129, 42.15840513919927, 34.703419675574644, 39.31212469467026, 39.56213710013169, 32.91605126898174, 27.545328691016568, 17.474064492054556, 16.569578611705925, 11.995139391901404, 10.158741060889188, 10.155115966496664, 9.25016400258328, 12.54741507377849, 8.317816682474957, 49.976819723680904, 7.420430595605854, 7.415293035216291, 7.398937545740819, 7.385851735336804, 7.3643026419381075, 6.505490822699835, 6.505413496811619, 6.505284383860653, 5.590387530369654, 5.590399590370568, 5.590277571537786, 5.589966139749466, 5.5894152814724025, 5.587326418372835, 5.579626817200766, 5.57839740651931, 5.547951224798919, 6.285044647160662, 4.675605246887343, 4.675348085103137, 24.017145628192964, 53.89364128185593, 14.736160519743219, 22.80293906082991, 13.185295479793735, 26.643286024970845, 31.997829950986734, 8.326404821949694, 10.164903721356481, 15.539118218275684, 13.629688068784553, 17.360540156387586, 62.45677540881478, 42.97375312678109, 25.014589995590303, 16.87077642513291, 74.52549357570716, 45.12424992513968, 92.58029109532603, 32.95447178823134, 48.81743082635683, 77.3035389063564, 29.161924992420804, 70.07243046157674, 29.496548871911784, 34.804745505001556, 20.894961786743064, 131.88880563359697, 37.44745492421228, 25.039555616306888, 26.84412051078764, 40.262034963514154, 27.07658341312035, 35.46078401592308, 34.086673187023294, 28.1341887403736, 34.52509536614963, 51.50728775502493, 37.888762990616264, 34.41643333908665, 26.77267139007579, 15.726992738903498, 14.855148637706387, 13.989897747318297, 10.515363641754982, 9.567487658034695, 7.043234472560365, 7.043181329608548, 7.042934781159955, 7.041439373343666, 6.1751961907896815, 6.174842049643558, 6.174874283893021, 6.174760157226004, 6.157992249133884, 11.359718026531935, 11.359677951519089, 11.359562953656141, 5.307324307441901, 5.307055543497056, 5.306807252656601, 10.500850388733388, 10.356155198875017, 11.198966695657417, 19.289661380869333, 22.54570216041927, 10.269248177539872, 3.570140453871695, 3.569513846198018, 3.5695266963380066, 7.901213054910893, 11.32679814587121, 11.326518491977223, 11.326421789228837, 11.326444440323053, 17.749615227445506, 39.041387659847395, 11.326415690857315, 25.31759845217446, 21.49771269623938, 11.32641917564104, 11.326377358236334, 11.326268458744906, 28.84337368883635, 11.326263231569317, 11.326257133197796, 10.480060169025883, 19.22645960082824, 36.70544652413615, 188.45506877197192, 63.720204346399335, 21.281063692012825, 41.38394639985374, 20.144970183288013, 28.79141207870249, 32.677482589547864, 49.37177462546275, 71.00796739978571, 21.92334243810409, 19.450208851895898, 18.85933066575866, 22.600998708578622, 34.815885274984275, 13.7069516039063, 26.307162032409327, 30.37030485870852, 24.477939813467888, 18.56263792174472, 14.713237790044849, 17.611030064774212, 8.054344849444295, 8.050506303116668, 7.181948824858386, 6.296807559102105, 6.296324051570561, 5.4111736712198795, 5.410966639718492, 5.357162320914298, 4.525427804035016, 4.525096206410151, 4.524840563738626, 8.280121165260178, 9.836320971544705, 3.640228595500045, 3.6400803748339565, 3.640058890432869, 3.6393742107820515, 3.639359887847993, 7.534378940297162, 2.7546248725850027, 2.7546155409764492, 2.754508987027622, 2.754478822060438, 2.7544894557539057, 2.7543108531064817, 2.738093168483579, 6.847001803565149, 5.418714913015732, 10.00189322120216, 50.04152604077295, 7.192012205133416, 53.70224576358493, 5.196531049478655, 5.703888436371428, 57.855268167509486, 8.245725290161605, 101.12525473593087, 11.620758902189925, 47.64676966071434, 15.509662929852805, 35.169608676970284, 13.834493361053518, 66.23267764534658, 18.34519241456524, 18.039692043610973, 21.043508190999063, 19.385896803242044, 78.35873403609472, 22.984764020393975, 37.734524985868056, 40.480319986620266, 28.45081232421768, 14.349839472924389, 23.44801284678342, 27.59192586464689, 17.737155217921863, 16.109529977686677, 27.54328344447165, 26.365900070387745, 13.43520207760239, 28.973814695385173, 19.881352265960665, 31.99166384592397, 24.596279866068304, 17.88323699252409, 18.979398045761453, 33.903107139118966, 18.86231457025934, 18.8259134843926, 11.967638266968011, 11.128598799436913, 9.433331368750707, 11.61907312741991, 7.728002499133416, 6.037073307296331, 5.188892325816752, 5.188188647939225, 5.18741253777893, 5.187961203573043, 5.187835934214438, 4.339113635143346, 4.339108036512794, 4.339031055342701, 4.339011460135769, 4.33896002271757, 4.338691988279885, 3.490579590024571, 3.4905620943040954, 3.490545648326848, 3.490540049696296, 3.490520804403773, 3.490497010223926, 3.4904917615077835, 3.490350396086341, 3.490307006699562, 3.490149195300872, 3.4900652158425896, 3.4900522690094378, 3.489887809236967, 18.3122471498108, 64.9197267705891, 8.322496583460621, 40.603782549518776, 5.179913871983105, 8.93773079466837, 11.277203250183396, 17.79581827041672, 7.597553007610012, 5.482071962884197, 5.871492409058004, 6.930208842709038, 11.49872076609736, 17.459102632432305, 32.73102185882822, 10.411755042337669, 72.01613096123957, 15.630736858142697, 18.358729779970265, 76.1933140052646, 14.947628349264425, 17.715728460710167, 37.43795852296153, 33.745544102558, 52.304998784400254, 16.733424936150545, 17.71395089550985, 10.03987300619738, 12.306167861251332, 16.152578213623094, 17.85383687882895, 13.409856694470381, 14.965073682065015, 11.769026848129467, 14.737462756623822, 16.046776693105656, 15.916721905036182, 12.78526087315057, 12.907728117164204, 12.608923605963868, 11.821812136633048, 20.9487578921249, 16.807644261165446, 15.135820526739991, 14.299558903969778, 10.12260903147774, 10.116693855864694, 9.280866164896212, 10.691214341122057, 7.614200672414619, 6.7763710223969555, 5.934496344952345, 26.640685054852526, 6.606539250606469, 5.1065378277627405, 5.106612868600633, 10.121923223472301, 4.270984198984824, 4.270227591580154, 4.2695877868709875, 8.446487088363577, 17.55319912920666, 22.82212696149249, 3.4356602604237616, 3.4355636861280385, 3.434657975841121, 3.433484402389376, 3.43304198771032, 3.4329871752722068, 3.432985217685131, 3.4329424770339836, 6.84821446806672, 35.11360739908326, 10.12196237521381, 4.104903816559963, 8.969846687932545, 7.233730573716439, 11.79309834404675, 50.09770709712599, 23.106449518449914, 10.93416133765234, 10.990812602558403, 15.432903941313384, 19.196379449543834, 56.263448635600476, 42.30277546061369, 67.74799601998573, 20.533936055426363, 27.635718734965845, 17.90452728164134, 12.78364392952504, 16.876076285091692, 46.454893341053385, 13.585371106167852, 18.00385785996681, 13.476239541884528, 16.187718196221574, 15.302231088851581, 14.51303899478203, 15.808352176633958, 14.38532731903639, 12.679898339815358, 11.376624365814221, 11.376493748338312, 10.570300743288382, 8.957875025475845, 8.151654851990925, 6.539178977067638, 6.5389726014557015, 5.732947309244839, 5.73292588797879, 5.732915961050621, 5.732756085260108, 4.120497819051686, 4.120375561094235, 4.120351788713619, 4.120315215820365, 4.005660762876639, 3.3142348030346684, 3.31418333974916, 3.314164008362725, 3.3141504241452306, 3.314133966343266, 3.3141193371859643, 3.3122695324921327, 6.538926101634278, 30.66743683265651, 2.5079890285244706, 2.507973876897265, 2.5079767504817347, 2.507970742077843, 2.507952978101119, 12.98885781470222, 10.570384338472964, 6.5391883815259035, 13.38826724711721, 23.05646727502438, 7.18597111674664, 5.732799972732013, 10.909337733398152, 13.87397512339576, 9.901459851205939, 7.345625902490737, 9.192271743284925, 20.195298779803508, 24.65766197978831, 15.33239970229147, 12.573519319865104, 8.403617530430232, 7.839909077297704, 17.822932227630528, 13.614288772370967, 17.50299046755893, 23.48834298725146, 19.16890456422635, 11.23521475157508, 14.267125366365162, 9.693435324252906, 12.606156969805586, 9.376562552395281, 10.401611930440474, 11.531167828491025, 8.417860582473317, 8.371949133214192, 6.97654486226328, 4.913913171480025, 4.221287162951173, 3.5332898571994797, 3.531551172576684, 3.5267301059050187, 3.5179577423484063, 2.8418297163631134, 2.84158178067686, 2.8358276778709492, 2.1505026628433916, 2.1485491006258433, 2.147667219038359, 2.1473582968729583, 11.707305377455981, 1.4592850430058784, 1.459169197193853, 1.4591673448007947, 1.4592363108192699, 1.459233745967343, 1.4592251964609206, 1.4590064715882773, 1.4591049334039103, 1.4583108267490308, 1.4582136473593614, 1.4579461903001099, 1.4580413748049474, 1.4579614369198968, 1.4579555947571745, 6.616441361647537, 3.4195888313520433, 12.228621221010453, 4.9509199950135, 7.621281950500511, 3.4873257157871183, 2.1485156150590217, 2.150514774644157, 6.009946785605384, 3.3645798821117383, 2.150578468467005, 8.362179327241618, 6.5359859464747565, 4.842793817320649, 4.0315029395154385, 16.33097420523296, 5.982714897748337, 9.518880808908357, 3.5233610304074463, 5.226602249410598, 4.425701301777143, 12.974476741509532, 14.094651311936646, 6.508866342135391, 6.918156863101243, 4.0482024054270225, 5.726974082098246, 9.985003888834438, 5.096066105483007, 8.121485072928088, 8.493822347267379, 6.080820483946885, 4.916616525410829, 6.052781522683551, 5.865562151174577, 5.354258349607985, 5.560660533660741, 5.296168443236547, 5.180723888046009, 5.256644645012279, 5.258499887905968], \"Total\": [446.0, 718.0, 422.0, 333.0, 220.0, 311.0, 213.0, 115.0, 455.0, 83.0, 771.0, 141.0, 154.0, 137.0, 159.0, 257.0, 269.0, 337.0, 164.0, 66.0, 107.0, 158.0, 87.0, 67.0, 188.0, 168.0, 126.0, 179.0, 39.0, 101.0, 38.80294278031739, 29.31642396095145, 137.98916174233088, 31.199979732296054, 24.57106331142103, 21.726248699945515, 20.77593748397707, 18.87984394238609, 18.878702129062994, 19.82765314549013, 17.929667189062677, 16.98418919213133, 16.984162684847288, 16.03513369403563, 15.084713934038644, 34.98149130367031, 14.13795254081869, 15.08397561475422, 13.188950515571577, 12.240389069350833, 11.292086548157375, 33.510173202004566, 11.28702357731168, 21.70557860279221, 10.342164285965909, 10.343237360337195, 10.343226147069618, 446.3222810140215, 9.394648680266165, 9.384612942182113, 22.20643703774809, 333.57634788393017, 102.99737180170949, 311.27311144422316, 17.819547386464453, 141.68500695891942, 45.3100562273657, 35.56561553763601, 53.828387055139366, 154.37795635680303, 213.70613700855057, 110.18871066899979, 83.9488579598453, 58.950381264119244, 86.67002701119544, 455.83606080111895, 39.47473885663958, 269.0146293962805, 337.05522550542526, 242.61506118452994, 52.84325199991923, 76.3601949333837, 86.00031796181962, 45.06335213216647, 227.42847906808842, 262.924270049563, 718.1356619605053, 107.27755669448308, 771.714956715923, 94.49401220575174, 89.03146579893995, 115.8017918033799, 158.80392183416913, 179.45442959623796, 132.96972759619692, 13.825624069215793, 14.739987539449848, 11.973031781921435, 11.973036184028315, 9.192872675932044, 41.5427643205036, 7.341278486812358, 20.339485454694255, 7.339206789018493, 15.61331408261824, 6.415093641398086, 6.4125226148113645, 6.410244154574321, 55.18681785794317, 5.488811991191369, 5.488442762120009, 5.488811486480804, 5.486436023162931, 5.488414546729924, 5.48787650039769, 5.4882990235328215, 5.488290705782258, 5.487659010394541, 5.487108106639747, 15.513865279404584, 21.223733141627573, 42.40109605605361, 10.918259068088032, 15.562157507546628, 32.82464203178217, 23.1155358599135, 168.3099099440366, 43.754740368342624, 53.344759924588175, 11.074948337026091, 10.143056759029228, 12.845651618760463, 126.20690213957081, 16.672692642237045, 24.445025418738297, 32.11287613929958, 70.80511950543224, 60.03717039932062, 29.879521848040177, 15.555640136927542, 55.60731256900232, 71.66909879179025, 771.714956715923, 455.83606080111895, 422.5879017688784, 73.07528090111262, 72.07819007011975, 718.1356619605053, 135.78580068854393, 115.8017918033799, 130.22383575116348, 49.38774136825625, 107.27755669448308, 97.9948216251134, 257.92288393462246, 139.8194593036883, 72.66190939361043, 113.61135986025579, 188.88759329006146, 242.61506118452994, 127.56122822062508, 269.0146293962805, 337.05522550542526, 133.28150675524572, 28.307759718300467, 18.242205034854738, 17.327970338403066, 12.752832203887596, 10.922181967564574, 10.921841757148576, 10.007856974576637, 13.636259407562887, 9.091210794161704, 54.65859052974234, 8.177864076011767, 8.177398433385155, 8.176722319475441, 8.172335156327161, 8.175815469445059, 7.262844665905509, 7.2628456493600995, 7.262835835026488, 6.347709282459812, 6.347805991918461, 6.3477938095066095, 6.347633231541158, 6.347713313380917, 6.347459562152048, 6.346638148025288, 6.346055725080045, 6.3449146557233265, 7.251190808061903, 5.432799283369683, 5.432504756481487, 28.883964298081604, 69.91786607011416, 18.102844968745046, 29.360655865173303, 16.266275435522655, 36.217328949276144, 45.447045015619224, 9.960291002994419, 12.613661577199766, 20.671083365727572, 17.98160468571933, 24.52004239799423, 117.23390090617781, 74.18703023156905, 38.82470367846205, 23.974792012362634, 164.93111789780272, 93.1979578606607, 257.92288393462246, 63.28964111650357, 113.50571639242185, 220.7645291144697, 57.66328784446391, 227.42847906808842, 60.807604548427946, 80.78580076044784, 35.70570220004966, 771.714956715923, 112.01428950609841, 52.02235800471571, 65.68112936265746, 158.80392183416913, 70.70656769366107, 135.78580068854393, 127.56122822062508, 79.06237793529998, 159.18518536345664, 718.1356619605053, 337.05522550542526, 262.924270049563, 117.2714514841376, 16.492787006419185, 15.62167086110777, 14.755561706531926, 11.28121772274703, 10.416680925140897, 7.806706187772839, 7.806695421644858, 7.80671213852249, 7.805628473017415, 6.938080928658793, 6.938098619539399, 6.9381389444610955, 6.938092656902507, 6.936370517312241, 12.95407069759298, 12.95407755187335, 12.95407561226171, 6.069693740353907, 6.069707106232105, 6.069630488412684, 12.086137850398078, 12.11730740169103, 13.11364261166088, 22.60425351034562, 26.65794562948255, 12.208517896612982, 4.3324785759505176, 4.332137463844663, 4.332284145022977, 9.589607704204658, 13.758106099731384, 13.758114173272963, 13.758089710614518, 13.758119213312721, 21.771745371107592, 50.28115429030047, 13.758086410933505, 33.13628482738344, 27.82830914403936, 13.758102318686621, 13.758098188354381, 13.758092442424012, 41.8898962979286, 13.758094741797308, 13.75810549556592, 12.891055115976965, 28.363673700373997, 69.23602896703879, 718.1356619605053, 179.45442959623796, 41.21436554610343, 158.80392183416913, 44.271231623073405, 101.64325818093037, 135.90824626160887, 337.05522550542526, 771.714956715923, 60.09482213043029, 46.7663317374838, 45.18659728508128, 70.12611088197353, 262.924270049563, 22.9465965683759, 141.68500695891942, 269.0146293962805, 227.42847906808842, 113.61135986025579, 35.28586304147935, 18.559446102031337, 8.828131231528454, 8.82855511574344, 7.943089546128139, 7.05749117562764, 7.057455523366579, 6.171868867332953, 6.171792693233993, 6.16670285366714, 5.286128963270409, 5.286098068804385, 5.286052674121165, 9.677600253139657, 11.524513784435413, 4.4005757128639935, 4.400590875760807, 4.400591293700492, 4.400407924824976, 4.400407202131481, 9.594997225169896, 3.514939973727405, 3.514939404633222, 3.5149350844980387, 3.5149136563767875, 3.514945968518509, 3.5148643582799926, 3.5137376674266845, 8.879888364743673, 7.096221742786931, 13.386643352583791, 67.00370985498289, 9.73524455484343, 87.21562264599504, 7.092015338300126, 7.871756424130908, 107.13970917088662, 12.085426194721233, 220.7645291144697, 18.2490930205625, 101.64294117286812, 26.086714288088498, 76.07059774119206, 23.627126546656342, 188.88759329006146, 36.06155166441324, 35.4721810142977, 50.12689591915651, 46.1338800565424, 422.5879017688784, 60.94373814063973, 139.8194593036883, 159.18518536345664, 93.1979578606607, 29.988729771274127, 69.23602896703879, 97.9948216251134, 44.944261239959545, 37.859298570722224, 112.01428950609841, 117.23390090617781, 28.158754442859383, 164.93111789780272, 73.26687358932159, 257.92288393462246, 132.96972759619692, 59.53812918430602, 75.67288642795513, 771.714956715923, 113.50571639242185, 133.28150675524572, 12.748484441189904, 11.898186629343549, 10.19961086884968, 12.761083283984634, 8.500510293997577, 6.802679838291554, 5.953470027995262, 5.953409006219466, 5.952706765501739, 5.953469074873803, 5.953444274918406, 5.103914827638517, 5.10419973584461, 5.104230272457367, 5.104220844320503, 5.104233233315041, 5.104219795097765, 4.255011534854183, 4.255012231892606, 4.255010024306571, 4.25501026333964, 4.255009885175394, 4.2550115389808765, 4.255023059608091, 4.254860279939475, 4.254825841406529, 4.255007497553283, 4.254999790241823, 4.254995791177967, 4.255011552776461, 22.96599077950938, 83.8331179664949, 11.154517279075407, 66.75486753661512, 6.900715620823245, 13.90137376438297, 18.93312021215311, 35.28586304147935, 12.04469414713809, 7.771756458874524, 8.693546518139302, 11.121451853715842, 22.873152042182404, 42.60898612219581, 113.60777211678726, 20.705701642944515, 422.5879017688784, 44.88829726200833, 59.53812918430602, 771.714956715923, 47.0908092369318, 64.86877723302445, 269.0146293962805, 262.924270049563, 718.1356619605053, 66.87882768045172, 79.22956466269011, 24.152169423039346, 45.85993940123583, 96.01348328382483, 158.80392183416913, 68.01657343408324, 112.01428950609841, 45.547340021632245, 130.22383575116348, 227.42847906808842, 242.61506118452994, 66.3824251862847, 73.07528090111262, 113.61135986025579, 188.88759329006146, 21.758378591019184, 17.57588414161665, 15.904088840180851, 15.068177565707446, 10.888804765919637, 10.884155746099404, 10.048054922331541, 11.75152707381518, 8.380804449065034, 7.5453689516968225, 6.710020941131056, 30.405789310448, 7.560376273000234, 5.87310688940784, 5.873223880531298, 11.802714534489185, 5.0373220082187355, 5.037524246521397, 5.037137458852306, 10.065430407604007, 21.02060101882249, 27.35463090942545, 4.201707225632182, 4.201599135190892, 4.20168398663572, 4.200877870369503, 4.201723619938373, 4.2017255161713845, 4.201726855396495, 4.201731500233332, 8.463465351103121, 45.72125968599675, 12.717893513125716, 5.042943796533988, 12.86504557397203, 10.274141839909209, 21.70985714008502, 159.18518536345664, 60.18519769796105, 21.56608657693923, 22.538840404958446, 39.69538910559592, 59.65361835892434, 422.5879017688784, 257.92288393462246, 771.714956715923, 75.67288642795513, 135.90824626160887, 61.097197109919044, 30.59180601121927, 59.53812918430602, 718.1356619605053, 44.88829726200833, 126.20690213957081, 45.301484483536036, 101.64294117286812, 80.78580076044784, 72.07819007011975, 130.22383575116348, 133.28150675524572, 70.70656769366107, 12.14686308469109, 12.146889322437794, 11.340561158749663, 9.72789751831462, 8.921565976652731, 7.308903712226302, 7.308948853990897, 6.50257600437751, 6.502568653255718, 6.50256307197804, 6.502616236844063, 4.8899114187204, 4.889927073766946, 4.889935045579753, 4.88993938861782, 4.906099310198691, 4.083571534046562, 4.083589307869858, 4.083592587570511, 4.083589949532502, 4.08359074111724, 4.08359407020999, 4.082940189642822, 8.231180033634866, 39.72409507802882, 3.2772356145889363, 3.277230948432334, 3.277234930090388, 3.277233917571718, 3.277233619860352, 17.193080164988896, 14.184959187157935, 10.27076590463941, 25.020140840644853, 51.70083504050018, 12.558280188046627, 9.232857438686755, 27.194254705229167, 46.1338800565424, 27.30577478726897, 16.476514861686233, 24.42229029951033, 101.64325818093037, 164.93111789780272, 65.42891527704572, 45.3261824881784, 21.06209370401667, 18.61371192230536, 127.56122822062508, 70.12611088197353, 154.37795635680303, 718.1356619605053, 422.5879017688784, 71.27235447740485, 188.88759329006146, 48.39690875406343, 179.45442959623796, 89.03146579893995, 257.92288393462246, 771.714956715923, 126.20690213957081, 9.155227800398437, 7.774958294842719, 5.6978836821469825, 5.007312841630117, 4.31530596697722, 4.315616491168865, 4.316901287074123, 4.319891883442924, 3.623716919013621, 3.623848997488258, 3.625037944642165, 2.9325652930591417, 2.9313476470099142, 2.9330595126555945, 2.9331639653588675, 17.799534559594925, 2.2411388181582605, 2.2410190707701023, 2.2410202405712765, 2.2411679045616686, 2.241168694288418, 2.241171784864341, 2.2408843515596137, 2.241125896938601, 2.241028914036724, 2.240986098252456, 2.2409356923264308, 2.2411289810527446, 2.2410752279894863, 2.2411608993352496, 12.523793982143017, 6.102635444328568, 29.39819043549419, 10.425996037480607, 18.918791354643275, 7.025962145040058, 3.7663093344026715, 3.7812380581333853, 15.464273378266046, 7.150550298743628, 3.856693942360149, 30.52465255764573, 22.058424787983746, 14.101233753343879, 10.698480662846999, 115.8017918033799, 22.05655353727582, 75.31310037089543, 8.97048313709197, 22.871833923788977, 15.80159113047888, 213.70613700855057, 337.05522550542526, 50.975014076613114, 66.75486753661512, 13.511903313192878, 57.66328784446391, 771.714956715923, 37.413972875232, 311.27311144422316, 422.5879017688784, 154.37795635680303, 37.76287083877646, 242.61506118452994, 257.92288393462246, 113.60777211678726, 262.924270049563, 127.56122822062508, 99.13405827638748, 220.7645291144697, 333.57634788393017], \"Category\": [\"Default\", \"Default\", \"Default\", \"Default\", \"Default\", \"Default\", \"Default\", \"Default\", \"Default\", \"Default\", \"Default\", \"Default\", \"Default\", \"Default\", \"Default\", \"Default\", \"Default\", \"Default\", \"Default\", \"Default\", \"Default\", \"Default\", \"Default\", \"Default\", \"Default\", \"Default\", \"Default\", \"Default\", \"Default\", \"Default\", \"Topic1\", \"Topic1\", \"Topic1\", \"Topic1\", \"Topic1\", \"Topic1\", \"Topic1\", \"Topic1\", \"Topic1\", \"Topic1\", \"Topic1\", \"Topic1\", \"Topic1\", \"Topic1\", \"Topic1\", \"Topic1\", \"Topic1\", \"Topic1\", \"Topic1\", \"Topic1\", \"Topic1\", \"Topic1\", \"Topic1\", \"Topic1\", \"Topic1\", \"Topic1\", \"Topic1\", \"Topic1\", \"Topic1\", \"Topic1\", \"Topic1\", \"Topic1\", \"Topic1\", \"Topic1\", \"Topic1\", \"Topic1\", \"Topic1\", \"Topic1\", \"Topic1\", \"Topic1\", \"Topic1\", \"Topic1\", \"Topic1\", \"Topic1\", \"Topic1\", \"Topic1\", \"Topic1\", \"Topic1\", \"Topic1\", \"Topic1\", \"Topic1\", \"Topic1\", \"Topic1\", \"Topic1\", \"Topic1\", \"Topic1\", \"Topic1\", \"Topic1\", \"Topic1\", \"Topic1\", \"Topic1\", \"Topic1\", \"Topic1\", \"Topic1\", \"Topic1\", \"Topic2\", \"Topic2\", \"Topic2\", \"Topic2\", \"Topic2\", \"Topic2\", \"Topic2\", \"Topic2\", \"Topic2\", \"Topic2\", \"Topic2\", \"Topic2\", \"Topic2\", \"Topic2\", \"Topic2\", \"Topic2\", \"Topic2\", \"Topic2\", \"Topic2\", \"Topic2\", \"Topic2\", \"Topic2\", \"Topic2\", \"Topic2\", \"Topic2\", \"Topic2\", \"Topic2\", \"Topic2\", \"Topic2\", \"Topic2\", \"Topic2\", \"Topic2\", \"Topic2\", \"Topic2\", \"Topic2\", \"Topic2\", \"Topic2\", \"Topic2\", \"Topic2\", \"Topic2\", \"Topic2\", \"Topic2\", \"Topic2\", \"Topic2\", \"Topic2\", \"Topic2\", \"Topic2\", \"Topic2\", \"Topic2\", \"Topic2\", \"Topic2\", \"Topic2\", \"Topic2\", \"Topic2\", \"Topic2\", \"Topic2\", \"Topic2\", \"Topic2\", \"Topic2\", \"Topic2\", \"Topic2\", \"Topic2\", \"Topic2\", \"Topic2\", \"Topic2\", \"Topic2\", \"Topic2\", \"Topic2\", \"Topic2\", \"Topic3\", \"Topic3\", \"Topic3\", \"Topic3\", \"Topic3\", \"Topic3\", \"Topic3\", \"Topic3\", \"Topic3\", \"Topic3\", \"Topic3\", \"Topic3\", \"Topic3\", \"Topic3\", \"Topic3\", \"Topic3\", \"Topic3\", \"Topic3\", \"Topic3\", \"Topic3\", \"Topic3\", \"Topic3\", \"Topic3\", \"Topic3\", \"Topic3\", \"Topic3\", \"Topic3\", \"Topic3\", \"Topic3\", \"Topic3\", \"Topic3\", \"Topic3\", \"Topic3\", \"Topic3\", \"Topic3\", \"Topic3\", \"Topic3\", \"Topic3\", \"Topic3\", \"Topic3\", \"Topic3\", \"Topic3\", \"Topic3\", \"Topic3\", \"Topic3\", \"Topic3\", \"Topic3\", \"Topic3\", \"Topic3\", \"Topic3\", \"Topic3\", \"Topic3\", \"Topic3\", \"Topic3\", \"Topic3\", \"Topic3\", \"Topic3\", \"Topic3\", \"Topic3\", \"Topic3\", \"Topic3\", \"Topic3\", \"Topic3\", \"Topic3\", \"Topic3\", \"Topic3\", \"Topic3\", \"Topic3\", \"Topic3\", \"Topic3\", \"Topic3\", \"Topic4\", \"Topic4\", \"Topic4\", \"Topic4\", \"Topic4\", \"Topic4\", \"Topic4\", \"Topic4\", \"Topic4\", \"Topic4\", \"Topic4\", \"Topic4\", \"Topic4\", \"Topic4\", \"Topic4\", \"Topic4\", \"Topic4\", \"Topic4\", \"Topic4\", \"Topic4\", \"Topic4\", \"Topic4\", \"Topic4\", \"Topic4\", \"Topic4\", \"Topic4\", \"Topic4\", \"Topic4\", \"Topic4\", \"Topic4\", \"Topic4\", \"Topic4\", \"Topic4\", \"Topic4\", \"Topic4\", \"Topic4\", \"Topic4\", \"Topic4\", \"Topic4\", \"Topic4\", \"Topic4\", \"Topic4\", \"Topic4\", \"Topic4\", \"Topic4\", \"Topic4\", \"Topic4\", \"Topic4\", \"Topic4\", \"Topic4\", \"Topic4\", \"Topic4\", \"Topic4\", \"Topic4\", \"Topic4\", \"Topic4\", \"Topic4\", \"Topic4\", \"Topic4\", \"Topic4\", \"Topic4\", \"Topic4\", \"Topic4\", \"Topic4\", \"Topic4\", \"Topic4\", \"Topic4\", \"Topic4\", \"Topic5\", \"Topic5\", \"Topic5\", \"Topic5\", \"Topic5\", \"Topic5\", \"Topic5\", \"Topic5\", \"Topic5\", \"Topic5\", \"Topic5\", \"Topic5\", \"Topic5\", \"Topic5\", \"Topic5\", \"Topic5\", \"Topic5\", \"Topic5\", \"Topic5\", \"Topic5\", \"Topic5\", \"Topic5\", \"Topic5\", \"Topic5\", \"Topic5\", \"Topic5\", \"Topic5\", \"Topic5\", \"Topic5\", \"Topic5\", \"Topic5\", \"Topic5\", \"Topic5\", \"Topic5\", \"Topic5\", \"Topic5\", \"Topic5\", \"Topic5\", \"Topic5\", \"Topic5\", \"Topic5\", \"Topic5\", \"Topic5\", \"Topic5\", \"Topic5\", \"Topic5\", \"Topic5\", \"Topic5\", \"Topic5\", \"Topic5\", \"Topic5\", \"Topic5\", \"Topic5\", \"Topic5\", \"Topic5\", \"Topic5\", \"Topic5\", \"Topic5\", \"Topic5\", \"Topic5\", \"Topic5\", \"Topic5\", \"Topic5\", \"Topic5\", \"Topic5\", \"Topic5\", \"Topic5\", \"Topic5\", \"Topic5\", \"Topic5\", \"Topic6\", \"Topic6\", \"Topic6\", \"Topic6\", \"Topic6\", \"Topic6\", \"Topic6\", \"Topic6\", \"Topic6\", \"Topic6\", \"Topic6\", \"Topic6\", \"Topic6\", \"Topic6\", \"Topic6\", \"Topic6\", \"Topic6\", \"Topic6\", \"Topic6\", \"Topic6\", \"Topic6\", \"Topic6\", \"Topic6\", \"Topic6\", \"Topic6\", \"Topic6\", \"Topic6\", \"Topic6\", \"Topic6\", \"Topic6\", \"Topic6\", \"Topic6\", \"Topic6\", \"Topic6\", \"Topic6\", \"Topic6\", \"Topic6\", \"Topic6\", \"Topic6\", \"Topic6\", \"Topic6\", \"Topic6\", \"Topic6\", \"Topic6\", \"Topic6\", \"Topic6\", \"Topic6\", \"Topic6\", \"Topic6\", \"Topic6\", \"Topic6\", \"Topic6\", \"Topic6\", \"Topic6\", \"Topic6\", \"Topic6\", \"Topic6\", \"Topic6\", \"Topic6\", \"Topic6\", \"Topic6\", \"Topic6\", \"Topic6\", \"Topic6\", \"Topic6\", \"Topic6\", \"Topic6\", \"Topic6\", \"Topic6\", \"Topic6\", \"Topic6\", \"Topic7\", \"Topic7\", \"Topic7\", \"Topic7\", \"Topic7\", \"Topic7\", \"Topic7\", \"Topic7\", \"Topic7\", \"Topic7\", \"Topic7\", \"Topic7\", \"Topic7\", \"Topic7\", \"Topic7\", \"Topic7\", \"Topic7\", \"Topic7\", \"Topic7\", \"Topic7\", \"Topic7\", \"Topic7\", \"Topic7\", \"Topic7\", \"Topic7\", \"Topic7\", \"Topic7\", \"Topic7\", \"Topic7\", \"Topic7\", \"Topic7\", \"Topic7\", \"Topic7\", \"Topic7\", \"Topic7\", \"Topic7\", \"Topic7\", \"Topic7\", \"Topic7\", \"Topic7\", \"Topic7\", \"Topic7\", \"Topic7\", \"Topic7\", \"Topic7\", \"Topic7\", \"Topic7\", \"Topic7\", \"Topic7\", \"Topic7\", \"Topic7\", \"Topic7\", \"Topic7\", \"Topic7\", \"Topic7\", \"Topic7\", \"Topic7\", \"Topic7\", \"Topic7\", \"Topic7\", \"Topic7\", \"Topic8\", \"Topic8\", \"Topic8\", \"Topic8\", \"Topic8\", \"Topic8\", \"Topic8\", \"Topic8\", \"Topic8\", \"Topic8\", \"Topic8\", \"Topic8\", \"Topic8\", \"Topic8\", \"Topic8\", \"Topic8\", \"Topic8\", \"Topic8\", \"Topic8\", \"Topic8\", \"Topic8\", \"Topic8\", \"Topic8\", \"Topic8\", \"Topic8\", \"Topic8\", \"Topic8\", \"Topic8\", \"Topic8\", \"Topic8\", \"Topic8\", \"Topic8\", \"Topic8\", \"Topic8\", \"Topic8\", \"Topic8\", \"Topic8\", \"Topic8\", \"Topic8\", \"Topic8\", \"Topic8\", \"Topic8\", \"Topic8\", \"Topic8\", \"Topic8\", \"Topic8\", \"Topic8\", \"Topic8\", \"Topic8\", \"Topic8\", \"Topic8\", \"Topic8\", \"Topic8\", \"Topic8\", \"Topic8\", \"Topic8\", \"Topic8\", \"Topic8\", \"Topic8\", \"Topic8\", \"Topic8\", \"Topic9\", \"Topic9\", \"Topic9\", \"Topic9\", \"Topic9\", \"Topic9\", \"Topic9\", \"Topic9\", \"Topic9\", \"Topic9\", \"Topic9\", \"Topic9\", \"Topic9\", \"Topic9\", \"Topic9\", \"Topic9\", \"Topic9\", \"Topic9\", \"Topic9\", \"Topic9\", \"Topic9\", \"Topic9\", \"Topic9\", \"Topic9\", \"Topic9\", \"Topic9\", \"Topic9\", \"Topic9\", \"Topic9\", \"Topic9\", \"Topic9\", \"Topic9\", \"Topic9\", \"Topic9\", \"Topic9\", \"Topic9\", \"Topic9\", \"Topic9\", \"Topic9\", \"Topic9\", \"Topic9\", \"Topic9\", \"Topic9\", \"Topic9\", \"Topic9\", \"Topic9\", \"Topic9\", \"Topic9\", \"Topic9\", \"Topic9\", \"Topic9\", \"Topic9\", \"Topic9\", \"Topic9\", \"Topic9\", \"Topic9\", \"Topic9\", \"Topic9\", \"Topic9\", \"Topic9\", \"Topic9\", \"Topic9\", \"Topic9\", \"Topic9\", \"Topic9\", \"Topic9\", \"Topic9\", \"Topic9\", \"Topic9\", \"Topic9\", \"Topic9\"], \"logprob\": [30.0, 29.0, 28.0, 27.0, 26.0, 25.0, 24.0, 23.0, 22.0, 21.0, 20.0, 19.0, 18.0, 17.0, 16.0, 15.0, 14.0, 13.0, 12.0, 11.0, 10.0, 9.0, 8.0, 7.0, 6.0, 5.0, 4.0, 3.0, 2.0, 1.0, -5.653299808502197, -5.940100193023682, -4.393700122833252, -5.884399890899658, -6.123600006103516, -6.249300003051758, -6.29640007019043, -6.395100116729736, -6.395599842071533, -6.348499774932861, -6.450699806213379, -6.505300045013428, -6.505300045013428, -6.565700054168701, -6.629899978637695, -5.7906999588012695, -6.698200225830078, -6.633800029754639, -6.771699905395508, -6.85129976272583, -6.93720006942749, -5.849400043487549, -6.940999984741211, -6.28879976272583, -7.031700134277344, -7.031599998474121, -7.031700134277344, -3.270699977874756, -7.135799884796143, -7.144000053405762, -6.287099838256836, -3.6273000240325928, -4.781499862670898, -3.7481000423431396, -6.505300045013428, -4.549900054931641, -5.624599933624268, -5.854899883270264, -5.484799861907959, -4.521200180053711, -4.229599952697754, -4.843100070953369, -5.088099956512451, -5.415200233459473, -5.087900161743164, -3.7174999713897705, -5.788599967956543, -4.263999938964844, -4.128900051116943, -4.434299945831299, -5.638199806213379, -5.37529993057251, -5.302999973297119, -5.75540018081665, -4.688399791717529, -4.607900142669678, -4.242700099945068, -5.2895002365112305, -4.355000019073486, -5.40500020980835, -5.433499813079834, -5.3979997634887695, -5.343500137329102, -5.361499786376953, -5.473599910736084, -6.324699878692627, -6.261099815368652, -6.478000164031982, -6.478000164031982, -6.762400150299072, -5.265600204467773, -7.0100998878479, -5.9953999519348145, -7.015200138092041, -6.260900020599365, -7.161799907684326, -7.162399768829346, -7.177299976348877, -5.027699947357178, -7.340400218963623, -7.3404998779296875, -7.3404998779296875, -7.341000080108643, -7.340700149536133, -7.341000080108643, -7.341000080108643, -7.341100215911865, -7.341300010681152, -7.342299938201904, -6.303199768066406, -5.9953999519348145, -5.308000087738037, -6.665999889373779, -6.325200080871582, -5.584400177001953, -5.971099853515625, -4.163700103759766, -5.413099765777588, -5.243500232696533, -6.693900108337402, -6.777599811553955, -6.563799858093262, -4.510200023651123, -6.3333001136779785, -6.007199764251709, -5.7657999992370605, -5.086900234222412, -5.248199939727783, -5.8755998611450195, -6.4197998046875, -5.4243998527526855, -5.255000114440918, -3.4565000534057617, -3.8633999824523926, -3.9477999210357666, -5.247300148010254, -5.281199932098389, -3.6786999702453613, -4.878799915313721, -5.0258002281188965, -5.003499984741211, -5.61460018157959, -5.197199821472168, -5.270400047302246, -4.758299827575684, -5.128200054168701, -5.459799766540527, -5.315800189971924, -5.131899833679199, -5.153500080108643, -5.348100185394287, -5.223400115966797, -5.217100143432617, -5.401000022888184, -5.399199962615967, -5.854300022125244, -5.90749979019165, -6.230500221252441, -6.396699905395508, -6.396999835968018, -6.4903998374938965, -6.185500144958496, -6.59660005569458, -4.803500175476074, -6.7108001708984375, -6.71150016784668, -6.713699817657471, -6.7154998779296875, -6.718400001525879, -6.842400074005127, -6.842400074005127, -6.842400074005127, -6.99399995803833, -6.99399995803833, -6.99399995803833, -6.994100093841553, -6.994200229644775, -6.994500160217285, -6.9959001541137695, -6.996099948883057, -7.0015997886657715, -6.8769001960754395, -7.172699928283691, -7.172699928283691, -5.536300182342529, -4.728000164031982, -6.024700164794922, -5.588099956512451, -6.135900020599365, -5.432499885559082, -5.2494001388549805, -6.595600128173828, -6.396100044250488, -5.971700191497803, -6.102799892425537, -5.860799789428711, -4.580599784851074, -4.954400062561035, -5.49560022354126, -5.889400005340576, -4.403900146484375, -4.905600070953369, -4.186999797821045, -5.219900131225586, -4.826900005340576, -4.367300033569336, -5.342199802398682, -4.4654998779296875, -5.3308000564575195, -5.165299892425537, -5.67549991607666, -3.8331000804901123, -5.092100143432617, -5.49459981918335, -5.425000190734863, -5.019599914550781, -5.416399955749512, -5.146599769592285, -5.186100006103516, -5.377999782562256, -5.173299789428711, -4.7733001708984375, -5.080399990081787, -5.176499843597412, -5.427599906921387, -5.47189998626709, -5.5289998054504395, -5.589000225067139, -5.874499797821045, -5.968900203704834, -6.275199890136719, -6.275300025939941, -6.275300025939941, -6.2754998207092285, -6.406799793243408, -6.406799793243408, -6.406799793243408, -6.406799793243408, -6.409599781036377, -5.7972002029418945, -5.7972002029418945, -5.797299861907959, -6.558199882507324, -6.558300018310547, -6.558300018310547, -5.875899791717529, -5.889699935913086, -5.811500072479248, -5.2677001953125, -5.111800193786621, -5.898200035095215, -6.954699993133545, -6.954899787902832, -6.954899787902832, -6.160299777984619, -5.800099849700928, -5.80019998550415, -5.80019998550415, -5.80019998550415, -5.350900173187256, -4.562699794769287, -5.80019998550415, -4.995800018310547, -5.15939998626709, -5.80019998550415, -5.80019998550415, -5.80019998550415, -4.8653998374938965, -5.80019998550415, -5.80019998550415, -5.877799987792969, -5.270999908447266, -4.6244001388549805, -2.9885001182556152, -4.072800159454346, -5.16949987411499, -4.50439977645874, -5.224400043487549, -4.867199897766113, -4.740600109100342, -4.327899932861328, -3.9644999504089355, -5.139800071716309, -5.259500026702881, -5.290299892425537, -5.109300136566162, -4.677199840545654, -5.609399795532227, -4.957499980926514, -4.813799858093262, -5.0295000076293945, -5.30620002746582, -5.538599967956543, -5.355199813842773, -6.137499809265137, -6.138000011444092, -6.252099990844727, -6.383699893951416, -6.383699893951416, -6.535200119018555, -6.535299777984619, -6.545300006866455, -6.714000225067139, -6.714099884033203, -6.714099884033203, -6.109799861907959, -5.937600135803223, -6.931700229644775, -6.931700229644775, -6.931700229644775, -6.9319000244140625, -6.9319000244140625, -6.20419979095459, -7.210400104522705, -7.210400104522705, -7.2104997634887695, -7.2104997634887695, -7.2104997634887695, -7.2104997634887695, -7.216400146484375, -6.299900054931641, -6.53380012512207, -5.920899868011475, -4.310800075531006, -6.250699996948242, -4.240200042724609, -6.575699806213379, -6.482600212097168, -4.165800094604492, -6.113999843597412, -3.607300043106079, -5.770899772644043, -4.359899997711182, -5.4822001457214355, -4.66349983215332, -5.596499919891357, -4.0304999351501465, -5.314300060272217, -5.331099987030029, -5.17710018157959, -5.259200096130371, -3.8624000549316406, -5.088900089263916, -4.593100070953369, -4.522900104522705, -4.875500202178955, -5.559999942779541, -5.068900108337402, -4.906199932098389, -5.3480000495910645, -5.444300174713135, -4.907899856567383, -4.951600074768066, -5.625800132751465, -4.8572998046875, -5.23390007019043, -4.758200168609619, -5.021100044250488, -5.339799880981445, -5.280300140380859, -4.700200080871582, -5.286499977111816, -5.28849983215332, -5.526100158691406, -5.598800182342529, -5.763999938964844, -5.555600166320801, -5.963399887084961, -6.210400104522705, -6.361800193786621, -6.3618998527526855, -6.361999988555908, -6.3618998527526855, -6.361999988555908, -6.540599822998047, -6.540599822998047, -6.540599822998047, -6.540599822998047, -6.540599822998047, -6.5406999588012695, -6.758200168609619, -6.758200168609619, -6.758200168609619, -6.758200168609619, -6.758200168609619, -6.758200168609619, -6.758200168609619, -6.758299827575684, -6.758299827575684, -6.758299827575684, -6.758399963378906, -6.758399963378906, -6.758399963378906, -5.1006999015808105, -3.835099935531616, -5.8892998695373535, -4.3043999671936035, -6.363500118255615, -5.817999839782715, -5.5854997634887695, -5.129300117492676, -5.980500221252441, -6.30679988861084, -6.2382001876831055, -6.072400093078613, -5.565999984741211, -5.148399829864502, -4.519999980926514, -5.665299892425537, -3.7314000129699707, -5.258999824523926, -5.098199844360352, -3.674999952316284, -5.303699970245361, -5.133800029754639, -4.3856000900268555, -4.4893999099731445, -4.051199913024902, -5.190899848937988, -5.133900165557861, -5.701700210571289, -5.498199939727783, -5.226200103759766, -5.126100063323975, -5.412300109863281, -5.302599906921387, -5.542799949645996, -5.31790018081665, -5.232800006866455, -5.240900039672852, -5.460000038146973, -5.450500011444092, -5.473899841308594, -5.538300037384033, -4.896200180053711, -5.116499900817871, -5.221199989318848, -5.27810001373291, -5.623499870300293, -5.624100208282471, -5.710299968719482, -5.568900108337402, -5.908299922943115, -6.024899959564209, -6.15749979019165, -4.655900001525879, -6.05019998550415, -6.307799816131592, -6.307799816131592, -5.623600006103516, -6.486499786376953, -6.486599922180176, -6.486800193786621, -5.804500102996826, -5.0731000900268555, -4.8105998039245605, -6.704100131988525, -6.704100131988525, -6.704400062561035, -6.704699993133545, -6.704899787902832, -6.704899787902832, -6.704899787902832, -6.704899787902832, -6.0142998695373535, -4.379700183868408, -5.623600006103516, -6.526100158691406, -5.7444000244140625, -5.959499835968018, -5.470799922943115, -4.0243000984191895, -4.7982001304626465, -5.54640007019043, -5.541200160980225, -5.2017998695373535, -4.98360013961792, -3.9082999229431152, -4.193399906158447, -3.7225000858306885, -4.916200160980225, -4.619200229644775, -5.053199768066406, -5.390100002288818, -5.112400054931641, -4.099800109863281, -5.3292999267578125, -5.047699928283691, -5.337399959564209, -5.1539998054504395, -5.210299968719482, -5.263299942016602, -5.177800178527832, -5.27209997177124, -5.3983001708984375, -5.2845001220703125, -5.2845001220703125, -5.357999801635742, -5.523499965667725, -5.617800235748291, -5.838200092315674, -5.838200092315674, -5.969799995422363, -5.969799995422363, -5.969799995422363, -5.969799995422363, -6.300000190734863, -6.300099849700928, -6.300099849700928, -6.300099849700928, -6.3282999992370605, -6.5177998542785645, -6.5177998542785645, -6.5177998542785645, -6.5177998542785645, -6.5177998542785645, -6.5177998542785645, -6.518400192260742, -5.838200092315674, -4.292799949645996, -6.796500205993652, -6.796500205993652, -6.796500205993652, -6.796500205993652, -6.796500205993652, -5.151899814605713, -5.357999801635742, -5.838200092315674, -5.121600151062012, -4.578100204467773, -5.743899822235107, -5.969799995422363, -5.326399803161621, -5.085999965667725, -5.423299789428711, -5.72189998626709, -5.497600078582764, -4.710599899291992, -4.510900020599365, -4.986000061035156, -5.1844000816345215, -5.587299823760986, -5.656799793243408, -4.8354997634887695, -5.104899883270264, -4.853600025177002, -4.559500217437744, -4.762700080871582, -5.296999931335449, -5.05810022354126, -5.4446001052856445, -5.18179988861084, -5.477799892425537, -5.374100208282471, -5.270999908447266, -5.585700035095215, -4.985000133514404, -5.167300224304199, -5.5177998542785645, -5.6697001457214355, -5.847599983215332, -5.848100185394287, -5.8495001792907715, -5.8520002365112305, -6.065400123596191, -6.065499782562256, -6.067500114440918, -6.344200134277344, -6.345099925994873, -6.3454999923706055, -6.345600128173828, -4.649700164794922, -6.731900215148926, -6.73199987411499, -6.73199987411499, -6.73199987411499, -6.73199987411499, -6.73199987411499, -6.732100009918213, -6.732100009918213, -6.732600212097168, -6.732699871063232, -6.732800006866455, -6.732800006866455, -6.732800006866455, -6.732800006866455, -5.220300197601318, -5.88040018081665, -4.606100082397461, -5.510300159454346, -5.07889986038208, -5.8607001304626465, -6.345099925994873, -6.344200134277344, -5.316500186920166, -5.896599769592285, -6.344099998474121, -4.986199855804443, -5.232600212097168, -5.532400131225586, -5.715700149536133, -4.316800117492676, -5.321000099182129, -4.856599807739258, -5.850500106811523, -5.456099987030029, -5.622399806976318, -4.546899795532227, -4.464099884033203, -5.236700057983398, -5.1757001876831055, -5.711599826812744, -5.364699840545654, -4.808800220489502, -5.481400012969971, -5.015399932861328, -4.9704999923706055, -5.304699897766113, -5.517300128936768, -5.3094000816345215, -5.340799808502197, -5.432000160217285, -5.394199848175049, -5.44290018081665, -5.464900016784668, -5.450399875640869, -5.449999809265137], \"loglift\": [30.0, 29.0, 28.0, 27.0, 26.0, 25.0, 24.0, 23.0, 22.0, 21.0, 20.0, 19.0, 18.0, 17.0, 16.0, 15.0, 14.0, 13.0, 12.0, 11.0, 10.0, 9.0, 8.0, 7.0, 6.0, 5.0, 4.0, 3.0, 2.0, 1.0, 1.3092, 1.3027, 1.3002, 1.2963, 1.2958, 1.2932, 1.2909, 1.2879, 1.2874, 1.2855, 1.2839, 1.2834, 1.2834, 1.2806, 1.2774, 1.2755, 1.274, 1.2736, 1.27, 1.265, 1.2598, 1.2597, 1.2564, 1.2547, 1.2531, 1.2531, 1.253, 1.2493, 1.245, 1.2379, 1.2336, 1.1839, 1.2048, 1.1323, 1.2354, 1.1175, 1.1829, 1.1948, 1.1504, 1.0604, 1.0269, 1.0757, 1.1028, 1.1292, 1.071, 0.7814, 1.1567, 0.7622, 0.6719, 0.6953, 1.0155, 0.9103, 0.8637, 1.0575, 0.5058, 0.4412, -0.1983, 0.6561, -0.3826, 0.6675, 0.6985, 0.4712, 0.2098, 0.0696, 0.2573, 1.6698, 1.6694, 1.6604, 1.6604, 1.6402, 1.6287, 1.6174, 1.613, 1.6126, 1.612, 1.6006, 1.6003, 1.5859, 1.5827, 1.5779, 1.5779, 1.5779, 1.5778, 1.5777, 1.5775, 1.5774, 1.5773, 1.5772, 1.5763, 1.5761, 1.5706, 1.5658, 1.5646, 1.551, 1.5455, 1.5094, 1.3316, 1.4293, 1.4008, 1.5224, 1.5267, 1.5042, 1.2729, 1.474, 1.4175, 1.386, 1.2742, 1.2779, 1.3482, 1.4568, 1.1783, 1.0939, 0.5159, 0.6355, 0.6269, 1.0822, 1.0621, 0.3657, 0.8311, 0.8434, 0.7483, 1.1067, 0.7484, 0.7657, 0.3101, 0.5525, 0.8754, 0.5725, 0.248, -0.0239, 0.4243, -0.1971, -0.4163, 0.3276, 1.8787, 1.863, 1.8613, 1.8448, 1.8335, 1.8332, 1.8273, 1.8228, 1.8171, 1.8165, 1.8088, 1.8082, 1.8061, 1.8048, 1.8015, 1.7959, 1.7959, 1.7959, 1.779, 1.7789, 1.7789, 1.7789, 1.7788, 1.7785, 1.7772, 1.7771, 1.7718, 1.763, 1.7559, 1.7559, 1.7215, 1.6457, 1.7002, 1.6532, 1.696, 1.599, 1.5551, 1.7268, 1.6902, 1.6206, 1.6289, 1.5607, 1.2763, 1.36, 1.4664, 1.5546, 1.1116, 1.1807, 0.8814, 1.2534, 1.0622, 0.8567, 1.2243, 0.7287, 1.1826, 1.064, 1.3702, 0.1394, 0.8103, 1.1748, 1.0112, 0.5337, 0.9461, 0.5634, 0.5863, 0.8728, 0.3776, -0.7289, -0.2796, -0.1273, 0.4289, 2.3462, 2.3434, 2.3404, 2.3234, 2.3087, 2.2908, 2.2908, 2.2908, 2.2907, 2.2772, 2.2772, 2.2772, 2.2772, 2.2747, 2.2624, 2.2624, 2.2624, 2.2595, 2.2595, 2.2594, 2.2531, 2.2367, 2.2359, 2.2352, 2.2262, 2.2207, 2.2002, 2.2001, 2.2001, 2.2001, 2.1993, 2.1992, 2.1992, 2.1992, 2.1895, 2.1407, 2.1992, 2.1246, 2.1356, 2.1992, 2.1992, 2.1992, 2.0206, 2.1992, 2.1992, 2.1867, 2.0049, 1.7591, 1.0559, 1.3583, 1.7328, 1.0489, 1.6063, 1.1323, 0.9684, 0.4729, 0.0079, 1.3854, 1.5164, 1.5199, 1.2614, 0.3719, 1.8785, 0.71, 0.2124, 0.1647, 0.5821, 1.519, 2.3449, 2.3056, 2.3051, 2.2966, 2.2833, 2.2832, 2.2658, 2.2658, 2.2566, 2.242, 2.2419, 2.2418, 2.2414, 2.2389, 2.2076, 2.2076, 2.2076, 2.2074, 2.2074, 2.1556, 2.1536, 2.1536, 2.1536, 2.1535, 2.1535, 2.1535, 2.1479, 2.1374, 2.1276, 2.1059, 2.1054, 2.0946, 1.9124, 2.0864, 2.0752, 1.7811, 2.015, 1.6166, 1.946, 1.6397, 1.8774, 1.6259, 1.8621, 1.3494, 1.7215, 1.7212, 1.5294, 1.5303, 0.7122, 1.4222, 1.0876, 1.0281, 1.2108, 1.6603, 1.3146, 1.1299, 1.4676, 1.5429, 0.9945, 0.9052, 1.6574, 0.6582, 1.093, 0.3101, 0.7098, 1.1946, 1.0143, -0.7278, 0.6026, 0.4401, 2.5495, 2.5459, 2.5347, 2.519, 2.5175, 2.4934, 2.4753, 2.4752, 2.4751, 2.4751, 2.4751, 2.4504, 2.4504, 2.4503, 2.4503, 2.4503, 2.4503, 2.4147, 2.4147, 2.4147, 2.4147, 2.4147, 2.4147, 2.4147, 2.4147, 2.4147, 2.4146, 2.4146, 2.4146, 2.4145, 2.3863, 2.3571, 2.3199, 2.1156, 2.3259, 2.171, 2.0946, 1.9282, 2.152, 2.2637, 2.2203, 2.1398, 1.925, 1.7206, 1.3683, 1.9253, 0.8432, 1.5578, 1.4362, 0.2974, 1.4652, 1.3148, 0.6407, 0.5597, -0.0068, 1.2273, 1.1148, 1.7349, 1.2973, 0.8303, 0.4273, 0.989, 0.5998, 1.2595, 0.4339, -0.0386, -0.1114, 0.9656, 0.8791, 0.4144, -0.1585, 2.6448, 2.638, 2.6332, 2.6304, 2.6098, 2.6096, 2.6033, 2.5882, 2.5868, 2.5752, 2.5599, 2.5505, 2.5479, 2.5429, 2.5429, 2.5291, 2.5177, 2.5175, 2.5174, 2.5074, 2.5025, 2.5016, 2.4815, 2.4815, 2.4812, 2.481, 2.4807, 2.4807, 2.4807, 2.4807, 2.471, 2.4188, 2.4544, 2.4769, 2.3221, 2.3319, 2.0725, 1.5266, 1.7254, 2.0035, 1.9646, 1.738, 1.5489, 0.6664, 0.8749, 0.2499, 1.3784, 1.0899, 1.4553, 1.8102, 1.422, -0.0554, 1.4876, 0.7354, 1.4703, 0.8455, 1.0189, 1.08, 0.574, 0.4565, 0.9642, 2.8395, 2.8395, 2.8347, 2.8226, 2.8148, 2.7937, 2.7937, 2.7791, 2.7791, 2.7791, 2.779, 2.7338, 2.7338, 2.7338, 2.7338, 2.7023, 2.6963, 2.6963, 2.6963, 2.6962, 2.6962, 2.6962, 2.6958, 2.6749, 2.6463, 2.6375, 2.6375, 2.6375, 2.6375, 2.6375, 2.6246, 2.6109, 2.4535, 2.2797, 2.0975, 2.3468, 2.4285, 1.9916, 1.7035, 1.8906, 2.0972, 1.9279, 1.289, 1.0046, 1.454, 1.6227, 1.9862, 2.0404, 0.9369, 1.2658, 0.728, -0.5151, -0.1881, 1.0576, 0.3218, 1.297, 0.2493, 0.6542, -0.3057, -1.2985, 0.1975, 3.4217, 3.4028, 3.3631, 3.3404, 3.3112, 3.3107, 3.309, 3.3058, 3.2681, 3.268, 3.2656, 3.201, 3.2005, 3.1995, 3.1993, 3.0922, 3.0821, 3.0821, 3.0821, 3.0821, 3.0821, 3.0821, 3.082, 3.082, 3.0815, 3.0815, 3.0813, 3.0813, 3.0812, 3.0812, 2.8731, 2.932, 2.634, 2.7664, 2.6019, 2.8107, 2.9498, 2.9468, 2.566, 2.7573, 2.9271, 2.2163, 2.2948, 2.4424, 2.5352, 1.5523, 2.2064, 1.4428, 2.5766, 2.035, 2.2385, 0.7095, 0.3367, 1.453, 1.2443, 2.3059, 1.2017, -0.8364, 1.5176, -0.135, -0.3959, 0.2769, 1.4725, -0.1798, -0.2724, 0.4563, -0.345, 0.3295, 0.5596, -0.2264, -0.6389]}, \"token.table\": {\"Topic\": [7, 3, 5, 7, 3, 8, 1, 2, 3, 5, 6, 7, 8, 7, 9, 5, 8, 2, 5, 1, 2, 4, 8, 1, 2, 5, 7, 8, 9, 1, 3, 4, 6, 8, 9, 1, 1, 2, 3, 2, 1, 2, 3, 4, 5, 6, 7, 8, 9, 2, 3, 4, 5, 7, 8, 1, 2, 3, 4, 8, 9, 9, 1, 2, 4, 7, 9, 1, 2, 5, 8, 9, 1, 2, 2, 4, 5, 6, 7, 9, 7, 1, 2, 3, 5, 6, 8, 9, 7, 2, 3, 5, 6, 2, 3, 4, 5, 6, 7, 8, 9, 6, 4, 6, 1, 1, 4, 1, 2, 5, 6, 7, 1, 1, 3, 4, 6, 1, 2, 3, 4, 6, 2, 2, 8, 7, 1, 2, 9, 2, 3, 4, 6, 1, 3, 9, 6, 6, 9, 1, 4, 8, 8, 3, 5, 1, 2, 3, 7, 8, 9, 5, 8, 8, 4, 8, 1, 2, 4, 8, 8, 1, 3, 5, 6, 8, 9, 1, 3, 5, 9, 1, 2, 3, 4, 6, 9, 1, 2, 3, 4, 6, 9, 1, 2, 3, 4, 6, 8, 9, 1, 2, 8, 4, 7, 9, 2, 6, 6, 3, 7, 4, 2, 3, 4, 5, 6, 8, 1, 2, 3, 4, 5, 6, 7, 8, 9, 2, 3, 4, 7, 8, 1, 2, 3, 4, 5, 6, 7, 9, 1, 2, 3, 4, 5, 6, 8, 4, 1, 2, 3, 5, 6, 7, 8, 1, 2, 3, 4, 5, 7, 8, 1, 3, 9, 1, 2, 4, 7, 9, 1, 2, 4, 5, 6, 1, 2, 3, 4, 6, 7, 8, 9, 5, 1, 2, 3, 4, 5, 6, 7, 8, 9, 3, 6, 7, 8, 1, 2, 3, 4, 5, 6, 7, 8, 9, 8, 1, 4, 8, 2, 4, 6, 9, 1, 6, 2, 5, 4, 5, 2, 5, 3, 6, 6, 1, 2, 3, 4, 5, 7, 8, 1, 2, 3, 4, 5, 6, 7, 8, 9, 7, 1, 2, 3, 4, 5, 6, 7, 9, 4, 8, 1, 5, 1, 1, 2, 3, 7, 2, 3, 5, 8, 1, 4, 5, 6, 8, 7, 5, 1, 1, 1, 2, 1, 1, 2, 2, 2, 3, 5, 8, 1, 2, 4, 5, 7, 2, 3, 4, 7, 8, 9, 7, 2, 5, 9, 1, 2, 4, 7, 9, 1, 2, 3, 4, 5, 6, 7, 8, 9, 7, 2, 4, 5, 1, 5, 2, 4, 8, 1, 2, 4, 5, 6, 7, 8, 9, 2, 4, 6, 7, 8, 9, 1, 2, 3, 4, 6, 9, 4, 1, 2, 3, 4, 5, 6, 8, 4, 6, 7, 8, 4, 8, 6, 1, 2, 3, 5, 2, 3, 5, 7, 8, 9, 4, 6, 7, 9, 3, 3, 1, 2, 3, 4, 5, 8, 1, 2, 3, 5, 6, 7, 8, 9, 2, 3, 5, 7, 8, 1, 2, 4, 5, 7, 8, 3, 7, 4, 8, 9, 9, 2, 3, 6, 7, 1, 2, 3, 6, 7, 1, 2, 3, 4, 6, 7, 9, 2, 3, 9, 1, 2, 5, 8, 5, 9, 4, 5, 1, 2, 3, 5, 6, 7, 4, 5, 1, 8, 8, 1, 7, 1, 6, 7, 8, 8, 1, 4, 6, 7, 5, 6, 7, 9, 9, 9, 6, 5, 5, 1, 4, 4, 8, 9, 3, 1, 2, 4, 5, 6, 9, 6, 6, 6, 5, 8, 3, 6, 1, 4, 1, 2, 3, 4, 5, 7, 8, 9, 5, 7, 1, 6, 1, 1, 2, 3, 4, 5, 6, 7, 9, 1, 2, 3, 4, 6, 8, 5, 4, 1, 1, 2, 3, 4, 5, 7, 8, 2, 3, 4, 5, 7, 9, 1, 2, 4, 7, 1, 2, 4, 5, 7, 8, 9, 1, 2, 3, 4, 9, 1, 2, 3, 4, 5, 6, 7, 8, 9, 3, 4, 4, 2, 2, 3, 5, 6, 7, 8, 9, 1, 2, 9, 9, 6, 1, 2, 3, 9, 1, 9, 4, 8, 1, 2, 3, 9, 6, 2, 2, 7, 1, 2, 3, 4, 5, 6, 7, 2, 3, 5, 6, 7, 1, 2, 3, 4, 5, 6, 7, 8, 1, 1, 2, 9, 7, 4, 8, 1, 2, 5, 6, 7, 9, 2, 3, 4, 5, 6, 8, 9, 2, 3, 6, 7, 9, 3, 6, 3, 6, 9, 1, 3, 4, 5, 7, 9, 9, 1, 2, 3, 4, 5, 6, 7, 8, 9, 9, 6, 9, 3, 1, 2, 3, 5, 6, 8, 9, 1, 2, 3, 4, 5, 6, 7, 8, 1, 2, 3, 4, 5, 6, 7, 8, 9, 1, 2, 3, 4, 6, 7, 9, 1, 2, 3, 4, 5, 6, 8, 1, 2, 3, 5, 6, 7, 8, 7, 9, 3, 4, 1, 2, 5, 1, 2, 1, 2, 3, 5, 6, 1, 3, 6, 7, 8, 2, 7, 2, 3, 4, 5, 7, 3, 3, 1, 1, 4, 6, 8, 9, 4, 7, 3, 4, 5, 6, 8, 9, 1, 2, 3, 5, 8, 9, 1, 2, 3, 6, 7, 8, 2, 2, 7, 9, 9, 2, 9, 9, 4, 6, 3, 1, 2, 3, 4, 6, 8, 9, 3, 2, 7, 1, 2, 3, 5, 6, 8, 3, 7, 1, 1, 2, 3, 4, 5, 6, 7, 8, 9, 5, 9, 4, 8, 1, 2, 6, 1, 2, 1, 2, 3, 4, 5, 7, 8, 9, 3, 2, 3, 5, 7, 7, 1, 2, 3, 5, 6, 7, 8, 9, 1, 2, 3, 4, 5, 7, 8, 9, 6, 2, 4, 5, 5, 3, 4, 3, 5, 7, 4, 1, 2, 5, 7, 8, 9, 3, 4, 4, 5, 8, 5, 8, 9, 8, 8, 8, 1, 5, 6, 9, 1, 2, 3, 4, 5, 6, 7, 8, 9, 3, 6, 7, 8, 1, 2, 3, 4, 5, 8, 9, 6, 7, 6, 1, 2, 6, 7, 8, 7, 2, 7, 1, 2, 5, 6, 7, 8, 2, 9, 1, 2, 3, 5, 2, 5, 6, 7, 3, 1, 3, 4, 7, 9, 3, 2, 9, 2, 3, 9, 4, 8, 4, 8, 8, 4, 2, 7, 1, 9, 1, 6, 1, 2, 3, 4, 5, 6, 8, 1, 2, 3, 4, 5, 6, 7, 8, 9, 1, 2, 3, 4, 6, 7, 8, 9, 1, 1, 2, 3, 4, 5, 6, 7, 8, 9, 1, 2, 3, 4, 5, 6, 7, 8, 9, 1, 4, 6, 8, 9, 1, 2, 7, 2, 8, 1, 7, 8, 7, 2, 2, 1, 2, 3, 4, 5, 6, 7, 8, 9, 2, 4, 3, 5, 6, 5, 8, 1, 2, 3, 5, 8, 1, 2, 3, 4, 5, 7, 8, 9, 8, 5, 8, 3, 2, 3, 4, 5, 6, 7, 2, 3, 5, 6, 7, 8, 9, 4, 8, 1, 2, 3, 4, 5, 7, 8, 9, 8, 1, 2, 3, 4, 5, 6, 7, 8, 6, 1, 2, 3, 4, 5, 6, 7, 8, 7, 8, 1, 2, 3, 4, 6, 9, 2, 3, 4, 6, 7, 1, 6, 7, 9, 1, 2, 3, 4, 5, 6, 7, 8, 7, 4, 9, 8, 4, 8, 2, 3, 4, 5, 7, 8, 4, 8, 5, 2, 3, 4, 5, 8, 4, 8, 4, 1, 2, 3, 6, 7, 8, 9, 2, 1, 2, 4, 5, 6, 7, 9, 3, 3, 4, 7, 1, 2, 3, 5, 7, 6, 1, 2, 3, 5, 6, 7, 1, 8, 5, 2, 4, 6, 3, 5, 6, 7, 3, 4, 1, 2, 4, 5, 6, 8, 9, 1, 2, 4, 5, 7, 8, 2, 2, 7, 5, 5, 5, 5, 7, 8, 8, 2, 3, 4, 6, 7, 8, 7, 2, 3, 5, 1, 2, 5, 9, 1, 2, 3, 6, 7, 8, 9, 2, 3, 4, 6, 3, 3, 1, 2, 3, 5, 6, 7, 1, 2, 5, 2, 3, 4, 7, 3, 3, 4, 7, 6, 1, 2, 4, 5, 6, 8, 9, 3, 2, 3, 4, 5, 6, 7, 8, 1, 2, 3, 4, 5, 6, 7, 8, 2, 4, 5, 6, 8, 1, 2, 5, 6, 2, 3, 6, 7, 9, 9, 8, 4, 5, 3, 4, 5, 8, 1, 2, 3, 4, 5, 7, 8, 9, 1, 5, 8, 3, 6, 1, 2, 3, 4, 8, 9, 1, 9, 1, 6, 2, 3, 4, 5, 7, 5, 1, 2, 1, 1, 2, 3, 5, 6, 7, 8, 3, 7, 4, 1, 2, 3, 4, 6, 8, 1, 2, 3, 4, 5, 6, 7, 8, 9, 4, 7, 7, 1, 2, 3, 4, 5, 6, 9, 2, 3, 4, 6, 7, 2, 4, 6, 2, 2, 3, 5, 6, 1, 3, 1, 2, 5, 1, 9, 1, 2, 3, 4, 5, 6, 7, 3, 5, 8, 9, 8, 5, 7, 6, 1, 2, 3, 6, 4, 2, 3, 4, 5, 6, 8, 3, 4, 8, 4, 8, 1, 2, 4, 2, 8, 1, 4, 6, 9, 9, 4, 8, 7, 4, 1, 5, 9], \"Freq\": [0.7941018153019366, 0.7991995494930764, 0.06147688842254433, 0.06147688842254433, 0.8799707960943476, 0.7346477087748358, 0.6547914138199854, 0.013095828276399709, 0.1309582827639971, 0.03928748482919913, 0.026191656552799418, 0.06547914138199855, 0.052383313105598836, 0.9187667131264395, 0.8278490638211866, 0.8337678284068859, 0.10422097855086074, 0.08677155658840578, 0.8677155658840578, 0.4704238964794992, 0.021382904385431785, 0.4062751833232039, 0.08553161754172714, 0.7643578318090622, 0.05182086995315676, 0.02591043497657838, 0.006477608744144595, 0.11659695739460271, 0.038865652464867576, 0.14003365546450577, 0.5881413529509243, 0.08402019327870347, 0.11202692437160464, 0.02800673109290116, 0.02800673109290116, 0.9793071678902489, 0.9433560082825169, 0.028586545705530812, 0.9638096809175337, 0.9110992201879297, 0.09820417766801136, 0.22914308122535984, 0.06546945177867423, 0.1636736294466856, 0.04910208883400568, 0.03273472588933712, 0.29461253300403406, 0.06546945177867423, 0.01636736294466856, 0.04333004137814158, 0.04333004137814158, 0.5344038436637462, 0.3321969838990855, 0.028886694252094388, 0.014443347126047194, 0.8224288915037639, 0.06746487000616813, 0.05461441857642182, 0.006425225714873155, 0.022488290002056044, 0.02570090285949262, 0.4461973258129793, 0.06428536474214902, 0.7714243769057882, 0.06428536474214902, 0.06428536474214902, 0.6819967503310643, 0.42313680329918557, 0.41450135833389606, 0.008635444965289502, 0.008635444965289502, 0.13816711944463203, 0.8835176898998275, 0.10679884163624288, 0.30230211292495784, 0.050383685487492974, 0.025191842743746487, 0.2015347419499719, 0.3778776411561973, 0.025191842743746487, 0.9183744419129025, 0.14767719005405805, 0.24612865009009674, 0.0984514600360387, 0.37739726347148167, 0.04922573001801935, 0.04922573001801935, 0.016408576672673116, 0.9360485604045676, 0.1223488912174721, 0.6933103835656752, 0.1223488912174721, 0.040782963739157366, 0.24425905541583917, 0.3605728913281435, 0.03101702290994783, 0.12406809163979132, 0.015508511454973915, 0.16283937027722611, 0.038771278637434785, 0.023262767182460873, 0.7836653123444471, 0.8650056949848358, 0.7050509646777465, 0.9420540945639124, 0.07625646280086835, 0.8388210908095518, 0.016795959391071955, 0.08397979695535977, 0.3023272690392952, 0.3023272690392952, 0.28553130964822326, 0.9665727521591274, 0.07727039013215305, 0.643919917767942, 0.25756796710717683, 0.02575679671071768, 0.020247939514859967, 0.5466943669012191, 0.04049587902971993, 0.28347115320803956, 0.1214876370891598, 0.9110099023003049, 0.9352942194453109, 0.8180060491773563, 0.9651454455649463, 0.0906759977990205, 0.5893939856936332, 0.27202799339706146, 0.10902761899125538, 0.30527733317551503, 0.3270828569737661, 0.2616662855790129, 0.2836631226719056, 0.2836631226719056, 0.35457890333988196, 0.8398464722193901, 0.7050509676474493, 0.44625239107230974, 0.8716283840833678, 0.08435113394355173, 0.028117044647850576, 0.9154062077905311, 0.945210285660863, 0.9090066349153523, 0.1934204736183939, 0.15473637889471512, 0.09671023680919695, 0.01934204736183939, 0.44486708932230595, 0.07736818944735756, 0.8537916839412418, 0.8967035631340483, 0.9699696378351694, 0.7995286853662501, 0.14536885188477275, 0.9420526242967608, 0.8353597496809714, 0.12851688456630328, 0.915406953982005, 0.9154061246329539, 0.0874387577327175, 0.174877515465435, 0.0874387577327175, 0.4809131675299463, 0.0874387577327175, 0.0874387577327175, 0.9710907603759497, 0.007246945972954848, 0.007246945972954848, 0.007246945972954848, 0.6279046552359683, 0.13953436783021517, 0.10465077587266139, 0.08139504790095886, 0.02325572797170253, 0.02325572797170253, 0.18070425661775666, 0.045176064154439165, 0.1581162245405371, 0.45176064154439166, 0.1355281924633175, 0.022588032077219582, 0.4396986710273062, 0.06155781394382286, 0.30778906971911435, 0.10552768104655348, 0.07035178736436899, 0.004396986710273062, 0.008793973420546124, 0.7804792294769543, 0.20873281718569706, 0.009075339877639003, 0.8647902442756461, 0.2655119139752226, 0.5310238279504452, 0.9112268070588375, 0.8398499707244722, 0.7050511783361441, 0.9453823993206322, 0.7139913628068341, 0.8647909874813756, 0.059698186990798846, 0.07462273373849856, 0.014924546747699712, 0.7462273373849856, 0.014924546747699712, 0.08954728048619827, 0.12332589484864269, 0.15415736856080337, 0.046247210568241014, 0.18498884227296405, 0.061662947424321345, 0.27748326340944607, 0.07707868428040168, 0.030831473712160672, 0.061662947424321345, 0.9110052189136179, 0.07051272769273285, 0.669870913080962, 0.07051272769273285, 0.1410254553854657, 0.09705353817773803, 0.12131692272217254, 0.024263384544434507, 0.5095310754331246, 0.024263384544434507, 0.16984369181104156, 0.048526769088869014, 0.44622533161283806, 0.27115610719987654, 0.2410276508443347, 0.015064228177770918, 0.21089919448879285, 0.030128456355541837, 0.19583496631102193, 0.030128456355541837, 0.8237647917485312, 0.1848951318240565, 0.026413590260579503, 0.052827180521159006, 0.42261744416927205, 0.052827180521159006, 0.15848154156347702, 0.07924077078173851, 0.21837972901210226, 0.2593259282018714, 0.10918986450605113, 0.013648733063256391, 0.2729746612651278, 0.09554113144279473, 0.027297466126512782, 0.37388486515575475, 0.18694243257787738, 0.37388486515575475, 0.8359901245769084, 0.05573267497179389, 0.018577558323931296, 0.05573267497179389, 0.03715511664786259, 0.01812026927470448, 0.869772925185815, 0.03624053854940896, 0.054360807824113434, 0.01812026927470448, 0.16988453011603502, 0.36100462649657444, 0.042471132529008755, 0.021235566264504378, 0.31853349396756564, 0.021235566264504378, 0.021235566264504378, 0.021235566264504378, 0.8812691786172991, 0.3328825690560899, 0.22192171270405997, 0.10087350577457271, 0.12104820692948726, 0.010087350577457271, 0.09078615519711544, 0.030262051732371814, 0.040349402309829085, 0.05043675288728636, 0.709078101333848, 0.08342095309809976, 0.08342095309809976, 0.12513142964714963, 0.07921743046707809, 0.31686972186831236, 0.17603873437128464, 0.16723679765272043, 0.08801936718564232, 0.11442517734133502, 0.03520774687425693, 0.026405810155692697, 0.008801936718564232, 0.7346478242115155, 0.959016643035607, 0.9101335874336147, 0.08273941703941952, 0.08708529142946586, 0.04354264571473293, 0.7837676228651926, 0.04354264571473293, 0.2300557080849513, 0.6901671242548539, 0.9360017895290973, 0.9061505416366574, 0.8647852180576411, 0.9698565302565735, 0.14092006087837744, 0.7046003043918871, 0.9452222719876241, 0.7050760313198051, 0.8399540237689773, 0.11734409735017828, 0.06705376991438759, 0.23468819470035657, 0.20116130974316276, 0.033526884957193796, 0.318505407093341, 0.05029032743579069, 0.04414743155798391, 0.11772648415462376, 0.16923182097227166, 0.2428108735689115, 0.11036857889495977, 0.05886324207731188, 0.20602134727059157, 0.022073715778991955, 0.02943162103865594, 0.7931875034477277, 0.21143636453239964, 0.05285909113309991, 0.06607386391637489, 0.013214772783274977, 0.25108068288222457, 0.13214772783274978, 0.27751022844877454, 0.013214772783274977, 0.7995286502562127, 0.14536884550112958, 0.11261402834413516, 0.7882981984089461, 0.9615390861599209, 0.9668163354267508, 0.048376758116992984, 0.7740281298718877, 0.19350703246797193, 0.11124890836017445, 0.4449956334406978, 0.400496070096628, 0.04449956334406978, 0.10986686967764484, 0.40284518881803105, 0.07324457978509656, 0.03662228989254828, 0.36622289892548276, 0.851338157835593, 0.9089688437143001, 0.9281372734589983, 0.989206597592772, 0.9214221083895545, 0.046071105419477724, 0.9534553740476541, 0.919510796380648, 0.949797275101532, 0.8702393998064265, 0.9111353293871151, 0.792791208072034, 0.0792791208072034, 0.0792791208072034, 0.07102586884865458, 0.14205173769730917, 0.03551293442432729, 0.4616681475162548, 0.24859054097029104, 0.16344245900900048, 0.0326884918018001, 0.1961309508108006, 0.42495039342340124, 0.1307539672072004, 0.0326884918018001, 0.7139921520950238, 0.14232926101173843, 0.28465852202347686, 0.4269877830352153, 0.8359776645982664, 0.02533265650297777, 0.02533265650297777, 0.02533265650297777, 0.07599796950893331, 0.2172291507904246, 0.2562189983681931, 0.07240971693014153, 0.26178897659358863, 0.020887418345233135, 0.07240971693014153, 0.06405474959204828, 0.03202737479602414, 0.0013924945563488756, 0.8941849887861344, 0.10271955618233392, 0.10271955618233392, 0.7190368932763374, 0.948149222221493, 0.8534981837187244, 0.10744767128384215, 0.4297906851353686, 0.4297906851353686, 0.22728724381753895, 0.16529981368548285, 0.1859622903961682, 0.08264990684274143, 0.041324953421370714, 0.020662476710685357, 0.20662476710685357, 0.08264990684274143, 0.8225527630692054, 0.030464917150711313, 0.030464917150711313, 0.09139475145213394, 0.7346475663668546, 0.4461959311324252, 0.3274478325182734, 0.018891221106823466, 0.25188294809097955, 0.25818002179325406, 0.1133473266409408, 0.025188294809097955, 0.9701210592104665, 0.08971449123881345, 0.28409588892290927, 0.11961932165175126, 0.05980966082587563, 0.14952415206468908, 0.2541910585099714, 0.029904830412937816, 0.6101122647222661, 0.08715889496032374, 0.08715889496032374, 0.21789723740080932, 0.7995291100125315, 0.14536892909318755, 0.7837121376593823, 0.30011274464252236, 0.06669172103167163, 0.13338344206334327, 0.4668420472217015, 0.12697269784693954, 0.08464846523129303, 0.5925392566190513, 0.042324232615646516, 0.08464846523129303, 0.042324232615646516, 0.8967887754583349, 0.07311376295378455, 0.8408082739685222, 0.036556881476892275, 0.9638095504090387, 0.8559692280204545, 0.7380317925940593, 0.018923892117796392, 0.07569556847118557, 0.018923892117796392, 0.09461946058898196, 0.05677167635338918, 0.22508749135835573, 0.2475962404941913, 0.16506416032946086, 0.1425554111936253, 0.052520414650283, 0.105040829300566, 0.022508749135835573, 0.037514581893059284, 0.38777559232029496, 0.20409241701068156, 0.28572938381495416, 0.11225082935587485, 0.020409241701068156, 0.49107399715686245, 0.1122454850644257, 0.04209205689915964, 0.16836822759663855, 0.028061371266106427, 0.15433754196358535, 0.41455823232399003, 0.5527443097653201, 0.7757316922496252, 0.15514633844992506, 0.4462321300340999, 0.9003263727656566, 0.7162236076342198, 0.2179810979756321, 0.031140156853661727, 0.031140156853661727, 0.30571518770854, 0.5754638827454871, 0.05394973900738941, 0.017983246335796472, 0.017983246335796472, 0.16656347948259, 0.632941222033842, 0.016656347948259, 0.049969043844776996, 0.016656347948259, 0.033312695896518, 0.083281739741295, 0.39924003917097506, 0.07984800783419502, 0.5589360548393651, 0.3034622334864505, 0.060692446697290105, 0.12138489339458021, 0.42484712688103077, 0.9458717399332257, 0.4462017220431652, 0.9232590374950501, 0.9090067842045322, 0.0234692277617721, 0.3989768719501257, 0.0938769110470884, 0.0704076832853163, 0.3989768719501257, 0.8513211996862777, 0.8267596232264904, 0.1377932705377484, 0.21149162013211778, 0.7754692738177652, 0.9055816438271769, 0.8978903702208192, 0.0561181481388012, 0.08991631786508927, 0.6294142250556249, 0.17983263573017855, 0.9251742201288393, 0.8180107281057305, 0.12867104177693392, 0.12867104177693392, 0.6433552088846697, 0.7940408431308599, 0.11236248865405811, 0.16854373298108716, 0.056181244327029055, 0.6741749319243486, 0.8738176891296837, 0.9269331145021718, 0.7050512409976079, 0.945885390903956, 0.8535008265816734, 0.8116596277074218, 0.18350565495993884, 0.8491536045681195, 0.0771957822334654, 0.8775187909971484, 0.8560179691650718, 0.739333002840617, 0.11698307006971788, 0.02807593681673229, 0.004679322802788715, 0.05147255083067587, 0.060831196436253294, 0.7050490580129347, 0.9411199708385742, 0.8398549460950107, 0.8501647626590855, 0.7346510217802379, 0.9155679725623357, 0.8398463377640739, 0.8859731648032739, 0.9602045858836072, 0.2023718539441536, 0.126482408715096, 0.3541507444022688, 0.0126482408715096, 0.1517788904581152, 0.1011859269720768, 0.0379447226145288, 0.0252964817430192, 0.8534996393746836, 0.7141364478030219, 0.9533977110684269, 0.7836683921104639, 0.9280918459056099, 0.17661897199794707, 0.37627520121301766, 0.053753600173288237, 0.0998281146075353, 0.04607451443424706, 0.11518628608561765, 0.12286537182465883, 0.007679085739041177, 0.3073725050321455, 0.08782071572347015, 0.19759661037780782, 0.043910357861735076, 0.26346214717041044, 0.08782071572347015, 0.9089719757137663, 0.8966662104674645, 0.9668152872858363, 0.20929522280693533, 0.5302145644442362, 0.027906029707591377, 0.04185904456138707, 0.04185904456138707, 0.04185904456138707, 0.1116241188303655, 0.05202616971983885, 0.5029196406251089, 0.017342056573279616, 0.2601308485991943, 0.06936822629311847, 0.1040523394396777, 0.04090811864050882, 0.7363461355291587, 0.08181623728101764, 0.16363247456203528, 0.007923496916944456, 0.6338797533555565, 0.09508196300333346, 0.023770490750833366, 0.1426229445050002, 0.06338797533555565, 0.031693987667777826, 0.41196653655530063, 0.07846981648672392, 0.09808727060840491, 0.27464435770353374, 0.13732217885176687, 0.28419471235537086, 0.07244178942391806, 0.07244178942391806, 0.35663650177928896, 0.05572445340301389, 0.03900711738210973, 0.03900711738210973, 0.07244178942391806, 0.01114489068060278, 0.08191002449834069, 0.8191002449834068, 0.8237733762451145, 0.918731379015409, 0.10871311662371107, 0.3487879158344063, 0.4575010324581174, 0.004529713192654628, 0.022648565963273137, 0.027178279155927767, 0.022648565963273137, 0.9230997813148764, 0.07169707039338845, 0.004481066899586778, 0.44619577390514326, 0.7836632491423446, 0.4081883892251982, 0.10204709730629954, 0.06803139820419969, 0.4081883892251982, 0.5814324918436319, 0.42285999406809593, 0.7995281810765185, 0.1453687601957306, 0.49867568086694086, 0.1360024584182566, 0.045334152806085534, 0.3173390696425987, 0.7050512179436998, 0.9356692148174982, 0.0986654208963141, 0.8879887880668269, 0.0552221839109417, 0.02761109195547085, 0.7454994827977129, 0.08283327586641255, 0.0552221839109417, 0.02761109195547085, 0.02761109195547085, 0.7310933642804482, 0.01874598369949867, 0.01874598369949867, 0.11247590219699204, 0.11247590219699204, 0.01414295775652042, 0.04242887326956126, 0.38185985942605133, 0.15557253532172463, 0.16971549307824504, 0.04242887326956126, 0.18385845083476546, 0.01414295775652042, 0.958257634455423, 0.6885069758335782, 0.15888622519236423, 0.1324051876603035, 0.794072722266658, 0.79952886998518, 0.14536888545185092, 0.974133518467848, 0.267330256034379, 0.044555042672396496, 0.35644034137917197, 0.3118852987067755, 0.022277521336198248, 0.1760290464924741, 0.7041161859698964, 0.04400726162311853, 0.022003630811559264, 0.022003630811559264, 0.022003630811559264, 0.44619515860116465, 0.0874437968841581, 0.5683846797470277, 0.04372189844207905, 0.04372189844207905, 0.21860949221039525, 0.8561837074430854, 0.7050516366246268, 0.1638636305777271, 0.1638636305777271, 0.4915908917331813, 0.7730469495682215, 0.1038421275539402, 0.011538014172660023, 0.04615205669064009, 0.011538014172660023, 0.04615205669064009, 0.9259490996362685, 0.06862477576525763, 0.33365839251383883, 0.02129734420301099, 0.02366371578112332, 0.1845769830927619, 0.17037875362408791, 0.1325168083742906, 0.04496105998413431, 0.018930972624898658, 0.9265905643886265, 0.26446364514104453, 0.5289272902820891, 0.931904885813897, 0.08349922047272118, 0.07157076040518957, 0.04771384027012639, 0.011928460067531597, 0.7753499043895538, 0.011928460067531597, 0.44622556454031453, 0.05766751287452323, 0.05766751287452323, 0.48056260728769357, 0.05766751287452323, 0.019222504291507743, 0.019222504291507743, 0.17300253862356968, 0.1345575300405542, 0.040438335253961954, 0.08087667050792391, 0.5796161386401213, 0.13479445084653985, 0.040438335253961954, 0.06739722542326992, 0.02695889016930797, 0.013479445084653985, 0.02695889016930797, 0.4796189422695961, 0.08835085778650455, 0.10097240889886235, 0.025243102224715586, 0.22718792002244026, 0.03786465333707338, 0.03786465333707338, 0.07130011827428019, 0.12834021289370434, 0.2139003548228406, 0.32798054406168886, 0.028520047309712075, 0.042780070964568116, 0.19964033116798455, 0.16648586747705588, 0.5133314247209223, 0.013873822289754655, 0.02774764457950931, 0.04162146686926397, 0.20810733434631984, 0.02774764457950931, 0.9277213672137028, 0.798831654124852, 0.10427955249530595, 0.8342364199624476, 0.02407158060751499, 0.9147200630855695, 0.04814316121502998, 0.17993494298575863, 0.7797180862716206, 0.11500106785659225, 0.2300021357131845, 0.03833368928553075, 0.613339028568492, 0.03833368928553075, 0.08302410902128284, 0.08302410902128284, 0.6641928721702627, 0.08302410902128284, 0.08302410902128284, 0.1946634600888159, 0.6813221103108557, 0.039898740253646536, 0.4189367726632886, 0.09974685063411633, 0.4189367726632886, 0.019949370126823268, 0.9456391969886936, 0.9203358598771496, 0.9579921832420258, 0.42588527340154103, 0.03276040564627239, 0.06552081129254478, 0.2293228395239067, 0.2620832451701791, 0.8252658506133509, 0.08252658506133509, 0.01988816712970541, 0.775638518058511, 0.13921716990793787, 0.01988816712970541, 0.01988816712970541, 0.01988816712970541, 0.5349316865761792, 0.06113504989442047, 0.0764188123680256, 0.06113504989442047, 0.22925643710407678, 0.015283762473605118, 0.08873570973775602, 0.17747141947551204, 0.08873570973775602, 0.04436785486887801, 0.4880464035576581, 0.08873570973775602, 0.9110290781462371, 0.8379600934950838, 0.06445846873039106, 0.6818818340952102, 0.8278792375472316, 0.9113384315228922, 0.926866418317124, 0.8275775442389572, 0.9487947852098739, 0.882386604324938, 0.9533406201402997, 0.5687423035072882, 0.14497352834499502, 0.026020889702947823, 0.11151809872691924, 0.13753898842986706, 0.0037172699575639748, 0.0037172699575639748, 0.9452600589653469, 0.9187310412269265, 0.7139927018912303, 0.013145683479472677, 0.2760593530689262, 0.13145683479472678, 0.4600989217815437, 0.05258273391789071, 0.03943705043841803, 0.15725874712945712, 0.7862937356472856, 0.9669156013668997, 0.5192027500466186, 0.11867491429636998, 0.11274116858155149, 0.14537677001305324, 0.0029668728574092497, 0.029668728574092494, 0.023734982859273997, 0.008900618572227749, 0.041536220003729495, 0.8101373860922768, 0.44622360458469873, 0.569743928055525, 0.37982928537035, 0.09858960900616197, 0.7887168720492957, 0.9412883590482665, 0.09833090441028879, 0.8849781396925991, 0.23296516244967472, 0.08320184373202669, 0.16640368746405337, 0.36608811242091743, 0.06656147498562136, 0.01664036874640534, 0.01664036874640534, 0.049921106239216015, 0.8992934274403664, 0.028604992005825593, 0.7723347841572911, 0.18593244803786635, 0.014302496002912796, 0.714013856027629, 0.5185513754385532, 0.17990557923378375, 0.12699217357678855, 0.03174804339419714, 0.052913405656995226, 0.052913405656995226, 0.03174804339419714, 0.010582681131399044, 0.4381707808798796, 0.22572434166539251, 0.07966741470543266, 0.05311160980362177, 0.013277902450905443, 0.03983370735271633, 0.013277902450905443, 0.13277902450905443, 0.7050509669636604, 0.7542039953201533, 0.1599826656739719, 0.09141866609941252, 0.8535060298159454, 0.8031893844863484, 0.10039867306079354, 0.14100364315338446, 0.7050182157669223, 0.9291103677900351, 0.8237629777664597, 0.34746376823846964, 0.08018394651656992, 0.34746376823846964, 0.05345596434437994, 0.02672798217218997, 0.13363991086094987, 0.8285990420786249, 0.16571980841572498, 0.2601125243593778, 0.4118448302356815, 0.30346461175260747, 0.09736372236351817, 0.6815460565446272, 0.19472744472703635, 0.9154056506176136, 0.9577359718517608, 0.9227112448913818, 0.054797243834158314, 0.6575669260098997, 0.21918897533663326, 0.054797243834158314, 0.34594340254417166, 0.2256152625288076, 0.1128076312644038, 0.015041017501920507, 0.18801271877400633, 0.07520508750960253, 0.007520508750960254, 0.02256152625288076, 0.007520508750960254, 0.058162934762344014, 0.058162934762344014, 0.11632586952468803, 0.7561181519104722, 0.5279032483430101, 0.11231984007298086, 0.022463968014596172, 0.08985587205838469, 0.08985587205838469, 0.10108785606568277, 0.044927936029192345, 0.09934994923262719, 0.7947995938610175, 0.9403590379399995, 0.8142440976750001, 0.10178051220937501, 0.0169634187015625, 0.033926837403125, 0.0169634187015625, 0.8956957410730044, 0.11815491155400794, 0.8270843808780556, 0.04140414811126968, 0.20702074055634842, 0.08280829622253937, 0.41404148111269684, 0.12421244433380906, 0.12421244433380906, 0.2592894367417805, 0.518578873483561, 0.31010216134063623, 0.14095552788210738, 0.028191105576421478, 0.5074399003755866, 0.22074331810548747, 0.2869663135371337, 0.17659465448438996, 0.2869663135371337, 0.9452228722224861, 0.13910729650913678, 0.23184549418189462, 0.09273819767275784, 0.5100600872001682, 0.04636909883637892, 0.9638108528133172, 0.419548129117714, 0.419548129117714, 0.32332589302431436, 0.2586607144194515, 0.38799107162917723, 0.7995278881837358, 0.1453687069424974, 0.7995293103035428, 0.14536896550973505, 0.7346469674557371, 0.8966649738866396, 0.23319000175712262, 0.6995700052713678, 0.9250922044815212, 0.059683368031065887, 0.9098525304065825, 0.8820053482785776, 0.11453167658142668, 0.11453167658142668, 0.4316963194223006, 0.03524051587120821, 0.167392450388239, 0.08810128967802053, 0.044050644839010264, 0.05891632232113758, 0.4050497159578209, 0.25775891015497693, 0.03682270145071099, 0.06628086261127979, 0.05891632232113758, 0.051551782030995384, 0.044187241740853186, 0.014729080580284395, 0.325681943326593, 0.22885758179706533, 0.008802214684502513, 0.05281328810701508, 0.29047308458858295, 0.03520885873801005, 0.008802214684502513, 0.044011073422512564, 0.9626521072959767, 0.1801183180270633, 0.2980375046490975, 0.1710476113638299, 0.09200288186993881, 0.04405771807856224, 0.09848195805796266, 0.08811543615712449, 0.015549782851257262, 0.01295815237604772, 0.531706479268755, 0.17311373743633884, 0.06594809045193861, 0.04946106783895396, 0.020608778266230816, 0.06594809045193861, 0.04121755653246163, 0.02473053391947698, 0.02473053391947698, 0.05281749594333126, 0.3169049756599876, 0.5809924553766439, 0.9227130799939841, 0.6822800434605824, 0.12978284467125592, 0.8219580162512875, 0.043260948223751976, 0.12148926349730232, 0.8504248444811162, 0.21661766287214243, 0.10830883143607122, 0.6498529886164273, 0.9258798434409329, 0.9537815463210492, 0.9109440199058085, 0.05294153959939391, 0.2276486202773938, 0.13235384899848476, 0.05294153959939391, 0.3494141613559998, 0.0635298475192727, 0.037059077719575735, 0.07411815543915147, 0.010588307919878782, 0.8966706188012776, 0.06404790134294841, 0.9452341969265362, 0.9061940506082535, 0.7836637037290738, 0.8108060528693483, 0.9577300566520996, 0.055460730547922256, 0.027730365273961128, 0.22184292219168902, 0.4991465749313003, 0.16638219164376677, 0.02351811786267308, 0.2743780417311859, 0.2665386691102949, 0.10191184407158334, 0.12542996193425643, 0.02351811786267308, 0.14110870717603846, 0.03919686310445513, 0.8153116655598244, 0.398143688875421, 0.5574011644255894, 0.8565483262859674, 0.03323076232194143, 0.348923004380385, 0.03323076232194143, 0.08307690580485357, 0.09969228696582429, 0.3821537667023264, 0.29404598012251465, 0.1764275880735088, 0.11761839204900587, 0.19112988707963455, 0.07351149503062866, 0.07351149503062866, 0.0441068970183772, 0.849153477424507, 0.07719577067495519, 0.07466886051781316, 0.11200329077671974, 0.04666803782363322, 0.10266968321199309, 0.5413492387541454, 0.009333607564726645, 0.07466886051781316, 0.03733443025890658, 0.7346472341857241, 0.0170599117195682, 0.11088942617719331, 0.5288572633066142, 0.042649779298920505, 0.22177885235438663, 0.0085299558597841, 0.042649779298920505, 0.0170599117195682, 0.7050529137228235, 0.03218954651866159, 0.053649244197769314, 0.48284319777992385, 0.03218954651866159, 0.30043576750750817, 0.010729848839553864, 0.042919395358215456, 0.042919395358215456, 0.7139994367834631, 0.9227122880118934, 0.8663683796327167, 0.03897158801116027, 0.03597377354876333, 0.04196940247355721, 0.0029978144623969438, 0.014989072311984718, 0.6693547541260878, 0.06693547541260877, 0.10040321311891316, 0.06693547541260877, 0.06693547541260877, 0.19474235332531348, 0.6141874220259886, 0.08988108615014467, 0.10486126717516879, 0.10307333277480005, 0.06063137222047062, 0.4547352916535296, 0.018189411666141186, 0.1758309794393648, 0.012126274444094124, 0.03031568611023531, 0.15157843055117654, 0.9545623034901481, 0.9233004729376506, 0.4462143829491704, 0.8180067756964977, 0.43964580655480007, 0.5195814077465819, 0.29514992471609297, 0.09838330823869765, 0.2853115938922232, 0.09838330823869765, 0.029514992471609297, 0.1967666164773953, 0.8491539267300687, 0.07719581152091534, 0.8535180007538207, 0.11031741934163512, 0.03677247311387837, 0.4044972042526621, 0.03677247311387837, 0.4044972042526621, 0.7995294439279063, 0.14536898980507387, 0.8966642903941928, 0.09029387493003202, 0.8126448743702882, 0.7833612472969953, 0.06811836933017351, 0.06811836933017351, 0.06811836933017351, 0.034059184665086756, 0.9110304588516398, 0.08210710825893858, 0.5200116856399443, 0.08210710825893858, 0.013684518043156428, 0.17789873456103356, 0.08210710825893858, 0.027369036086312856, 0.8560887512747368, 0.830910873324754, 0.034621286388531416, 0.10386385916559425, 0.0913504389802904, 0.3197265364310164, 0.4110769754113068, 0.12180058530705386, 0.0456752194901452, 0.7050535763678089, 0.026782297269641393, 0.19640351331070355, 0.33031499965891054, 0.24996810784998635, 0.13391148634820696, 0.053564594539282785, 0.9354458956322482, 0.905583599922477, 0.9089687573863212, 0.08964977820025302, 0.08964977820025302, 0.7171982256020242, 0.10935831677296004, 0.043743326709184016, 0.06561499006377602, 0.7655082174107203, 0.9454691638284219, 0.8647924493379852, 0.5791555839966401, 0.335646986179871, 0.019743940363521822, 0.026325253818029096, 0.019743940363521822, 0.0087750846060097, 0.010968855757512124, 0.045863342812283193, 0.19491920695220358, 0.05732917851535399, 0.6191551279658232, 0.05732917851535399, 0.022931671406141597, 0.9402830523177517, 0.9535123905971664, 0.9431536852399417, 0.8501604678898383, 0.9458772680566073, 0.8101273872593874, 0.7622187065655348, 0.1270364510942558, 0.8180081092535819, 0.9227055359662437, 0.11065227966724529, 0.1549131915341434, 0.4204786627355321, 0.13278273560069434, 0.08852182373379623, 0.08852182373379623, 0.713992379667295, 0.7784735486205678, 0.07784735486205678, 0.07784735486205678, 0.33443014764671114, 0.11147671588223705, 0.11147671588223705, 0.4459068635289482, 0.7981049609042646, 0.023824028683709392, 0.03573604302556409, 0.03573604302556409, 0.011912014341854696, 0.07147208605112818, 0.023824028683709392, 0.2158060095964306, 0.07193533653214354, 0.07193533653214354, 0.6474180287892918, 0.9891280793194841, 0.9452084716575678, 0.1836025430195429, 0.6355472642984178, 0.01412327253996484, 0.09886290777975387, 0.01412327253996484, 0.042369817619894515, 0.04716859199479254, 0.8490346559062658, 0.09433718398958509, 0.01829538578123145, 0.9147692890615725, 0.0365907715624629, 0.01829538578123145, 0.8274502986915164, 0.7785734501837064, 0.11122477859767234, 0.11122477859767234, 0.7050508521489294, 0.5126887831406814, 0.37286456955685926, 0.018643228477842964, 0.009321614238921482, 0.027964842716764443, 0.04660807119460741, 0.009321614238921482, 0.91559649208933, 0.13773706111268125, 0.1475754226207299, 0.039353446032194636, 0.4722413523863357, 0.02951508452414598, 0.15741378412877854, 0.009838361508048659, 0.018845974850927903, 0.08166589102068757, 0.21986970659415883, 0.031409958084879834, 0.2512796646790387, 0.04397394131883177, 0.31409958084879835, 0.031409958084879834, 0.11031151810113413, 0.2647476434427219, 0.1544361253415878, 0.1764984289618146, 0.2868099470629487, 0.04711706434145796, 0.8481071581462433, 0.04711706434145796, 0.9245106286088652, 0.37970859709354887, 0.18985429854677444, 0.06328476618225815, 0.06328476618225815, 0.2531390647290326, 0.446203680579893, 0.9154058418135005, 0.8405497660563748, 0.08847892274277629, 0.035934630265317194, 0.7546272355716611, 0.14373852106126878, 0.035934630265317194, 0.32403453286446243, 0.21318061372662003, 0.23023506282474965, 0.10232669458877762, 0.04263612274532401, 0.04263612274532401, 0.04263612274532401, 0.008527224549064802, 0.10069455307019387, 0.12586819133774235, 0.7803827862940025, 0.9810727781732057, 0.7836651512543436, 0.20473100346777268, 0.08189240138710907, 0.24567720416132718, 0.08189240138710907, 0.3685158062419908, 0.681857551647408, 0.4795704872729097, 0.4795704872729097, 0.14491250689746601, 0.7245625344873301, 0.030178398248605454, 0.030178398248605454, 0.7544599562151364, 0.18107038949163273, 0.030178398248605454, 0.8534997775624655, 0.8607360759893596, 0.11035077897299482, 0.8986642448762769, 0.11443328474935632, 0.3075394527638951, 0.10728120445252155, 0.27177905127972124, 0.06436872267151293, 0.07867288326518247, 0.05006456207784339, 0.08472627183160789, 0.8472627183160788, 0.9750720418966835, 0.30204091142358924, 0.3332865229501674, 0.052076019210963664, 0.09373683457973458, 0.1666432614750837, 0.04166081536877093, 0.4107646661133309, 0.11410129614259192, 0.1293148022949375, 0.1331181788330239, 0.022820259228518384, 0.1293148022949375, 0.03042701230469118, 0.007606753076172795, 0.022820259228518384, 0.14271713721761373, 0.8563028233056823, 0.967234414099655, 0.19267316420439537, 0.4266334350240183, 0.17891079533265283, 0.055049475486970104, 0.041287106615227574, 0.06881184435871263, 0.027524737743485052, 0.17329778089981254, 0.4332444522495314, 0.06189206460707591, 0.14854095505698217, 0.18567619382122774, 0.05667992299491027, 0.425099422461827, 0.5101193069541924, 0.9109439361421322, 0.4424104720148057, 0.5214123420174496, 0.015800374000528777, 0.015800374000528777, 0.9767587057921261, 0.9203857565029339, 0.07470132531819393, 0.14940265063638786, 0.7470132531819393, 0.9006397544100646, 0.04503198772050323, 0.09506273282018886, 0.6713805505425838, 0.08317989121766525, 0.005941420801261804, 0.017824262403785412, 0.05347278721135623, 0.07129704961514165, 0.0827442891866559, 0.6619543134932472, 0.1654885783733118, 0.0827442891866559, 0.7347646207529779, 0.8266512142206534, 0.10333140177758167, 0.7050817382006598, 0.4111327881710861, 0.016445311526843445, 0.4769140342784599, 0.08222655763421723, 0.9599986859408136, 0.04774420986329578, 0.02387210493164789, 0.6922910430177888, 0.1909768394531831, 0.02387210493164789, 0.02387210493164789, 0.9409674500650842, 0.8627821633248055, 0.11253680391193116, 0.7995296026826586, 0.1453690186695743, 0.7544933608197028, 0.17752784960463594, 0.044381962401158985, 0.824307240181291, 0.09158969335347678, 0.04829587604633291, 0.3863670083706633, 0.4829587604633291, 0.44624216724481214, 0.4462042946208463, 0.799529794438443, 0.14536905353426235, 0.713995487762388, 0.923331734826831, 0.5180617295540647, 0.07400881850772353, 0.29603527403089414], \"Term\": [\"aborted\", \"accuracy\", \"accuracy\", \"accuracy\", \"acetaminophen_tablets\", \"act\", \"action\", \"action\", \"action\", \"action\", \"action\", \"action\", \"action\", \"active_ingredient\", \"additive\", \"adverse\", \"adverse\", \"adverse_event\", \"adverse_event\", \"agent\", \"agent\", \"agent\", \"agent\", \"air\", \"air\", \"air\", \"air\", \"air\", \"air\", \"analysis\", \"analysis\", \"analysis\", \"analysis\", \"analysis\", \"analysis\", \"ante\", \"anteroom\", \"anteroom\", \"apap\", \"apparel\", \"appropriate\", \"appropriate\", \"appropriate\", \"appropriate\", \"appropriate\", \"appropriate\", \"appropriate\", \"appropriate\", \"appropriate\", \"approved\", \"approved\", \"approved\", \"approved\", \"approved\", \"approved\", \"area\", \"area\", \"area\", \"area\", \"area\", \"area\", \"arrived\", \"ascorbic_acid\", \"ascorbic_acid\", \"ascorbic_acid\", \"ascorbic_acid\", \"asepti\", \"aseptic\", \"aseptic\", \"aseptic\", \"aseptic\", \"aseptic\", \"aseptic_processing\", \"aseptic_processing\", \"assigned\", \"assigned\", \"assigned\", \"assigned\", \"assigned\", \"assigned\", \"assigned_year\", \"assurance\", \"assurance\", \"assurance\", \"assurance\", \"assurance\", \"assurance\", \"assurance\", \"atropine\", \"based\", \"based\", \"based\", \"based\", \"batch\", \"batch\", \"batch\", \"batch\", \"batch\", \"batch\", \"batch\", \"batch\", \"benzocaine\", \"blender\", \"bpo\", \"bsc\", \"bservation\", \"bservation\", \"bud\", \"bud\", \"bud\", \"bud\", \"bud\", \"buffer\", \"building\", \"building\", \"building\", \"building\", \"bulk\", \"bulk\", \"bulk\", \"bulk\", \"bulk\", \"bupivacaine\", \"burkholderia\", \"business\", \"calibration\", \"cap\", \"cap\", \"cap\", \"capsule\", \"capsule\", \"capsule\", \"capsule\", \"cart\", \"cart\", \"cart\", \"castle_rock\", \"ccc\", \"cefazolin\", \"ceiling\", \"ceiling\", \"ceiling\", \"ceu\", \"cfi\", \"cfr\", \"cfu\", \"cfu\", \"cfu\", \"cfu\", \"cfu\", \"cfu\", \"cgmp\", \"chaetomium\", \"chaetomium_globosum\", \"charge_report\", \"charge_report\", \"chemo\", \"cifically\", \"cifically\", \"cladosporioides\", \"cladosporium\", \"class\", \"class\", \"class\", \"class\", \"class\", \"class\", \"classified\", \"classified\", \"classified\", \"classified\", \"clean\", \"clean\", \"clean\", \"clean\", \"clean\", \"clean\", \"cleaned\", \"cleaned\", \"cleaned\", \"cleaned\", \"cleaned\", \"cleaned\", \"cleaning\", \"cleaning\", \"cleaning\", \"cleaning\", \"cleaning\", \"cleaning\", \"cleaning\", \"cleanroom\", \"cleanroom\", \"cleanroom\", \"clinical_difference\", \"close\", \"close\", \"closely\", \"co_producer\", \"coal\", \"collection\", \"colloid\", \"comparable_approved\", \"complaint\", \"complaint\", \"complaint\", \"complaint\", \"complaint\", \"complaint\", \"component\", \"component\", \"component\", \"component\", \"component\", \"component\", \"component\", \"component\", \"component\", \"componentry\", \"compound\", \"compound\", \"compound\", \"compound\", \"compounded\", \"compounded\", \"compounded\", \"compounded\", \"compounded\", \"compounded\", \"compounded\", \"compounder\", \"compounding\", \"compounding\", \"compounding\", \"compounding\", \"compounding\", \"compounding\", \"compounding\", \"computer_system\", \"conduct\", \"conduct\", \"conduct\", \"conduct\", \"conduct\", \"conduct\", \"conduct\", \"conducted\", \"conducted\", \"conducted\", \"conducted\", \"conducted\", \"conducted\", \"conducted\", \"connection\", \"connection\", \"connection\", \"contact\", \"contact\", \"contact\", \"contact\", \"contact\", \"container\", \"container\", \"container\", \"container\", \"container\", \"containing\", \"containing\", \"containing\", \"containing\", \"containing\", \"containing\", \"containing\", \"containing\", \"contaminating_microorganism\", \"contamination\", \"contamination\", \"contamination\", \"contamination\", \"contamination\", \"contamination\", \"contamination\", \"contamination\", \"contamination\", \"contract\", \"contract\", \"contract\", \"contract\", \"control\", \"control\", \"control\", \"control\", \"control\", \"control\", \"control\", \"control\", \"control\", \"copy\", \"corner\", \"cosmetic_act\", \"cosmetic_act\", \"cream\", \"cream\", \"cream\", \"cream\", \"cross_contamination\", \"cross_contamination\", \"ctl\", \"culture\", \"cus_lr\", \"customer\", \"customer_complaints\", \"customer_complaints\", \"cv\", \"cya\", \"cyanocobalamin\", \"data\", \"data\", \"data\", \"data\", \"data\", \"data\", \"data\", \"date\", \"date\", \"date\", \"date\", \"date\", \"date\", \"date\", \"date\", \"date\", \"dating\", \"day\", \"day\", \"day\", \"day\", \"day\", \"day\", \"day\", \"day\", \"decomposed_substance\", \"decomposed_substance\", \"deemed\", \"deemed\", \"deficient_regarding\", \"design\", \"dev\", \"dev\", \"dev\", \"deviation\", \"deviation\", \"deviation\", \"deviation\", \"device\", \"device\", \"device\", \"device\", \"device\", \"dexmedetomidine\", \"dibutyl\", \"differential_pressure\", \"disinfectant\", \"disinfected\", \"disinfected\", \"disinfecting\", \"disinfecting_agents\", \"dispensary\", \"dispensary_staff\", \"dispense\", \"dissolution\", \"dissolution\", \"dissolution\", \"distributed\", \"distributed\", \"distributed\", \"distributed\", \"distributed\", \"distribution\", \"distribution\", \"distribution\", \"distribution\", \"distribution\", \"distribution\", \"dmsa\", \"doctor\", \"doctor\", \"doctor\", \"door\", \"door\", \"door\", \"door\", \"door\", \"drug\", \"drug\", \"drug\", \"drug\", \"drug\", \"drug\", \"drug\", \"drug\", \"drug\", \"dtpa\", \"dv\", \"dv\", \"dv\", \"dynamic_conditions\", \"ead\", \"effect\", \"effect\", \"effect\", \"employee\", \"employee\", \"employee\", \"employee\", \"employee\", \"employee\", \"employee\", \"employee\", \"endotoxin\", \"endotoxin\", \"endotoxin\", \"endotoxin\", \"enforcement\", \"equaling\", \"equipment\", \"equipment\", \"equipment\", \"equipment\", \"equipment\", \"equipment\", \"essentially_copy\", \"established\", \"established\", \"established\", \"established\", \"established\", \"established\", \"established\", \"establishment\", \"establishment\", \"establishment\", \"establishment\", \"establishment_consists\", \"establishment_consists\", \"eu\", \"evaluation\", \"evaluation\", \"evaluation\", \"evaluation\", \"event\", \"event\", \"event\", \"event\", \"event\", \"event\", \"exercised\", \"expiration\", \"expiration\", \"expiration\", \"extraneous_peak\", \"extraneous_peaks\", \"facility\", \"facility\", \"facility\", \"facility\", \"facility\", \"facility\", \"failed\", \"failed\", \"failed\", \"failed\", \"failed\", \"failed\", \"failed\", \"failed\", \"failure\", \"failure\", \"failure\", \"failure\", \"failure\", \"fda\", \"fda\", \"fda\", \"fda\", \"fda\", \"fda\", \"feb\", \"feb\", \"federal_food\", \"federal_food\", \"feeder\", \"field_alert\", \"fill\", \"fill\", \"fill\", \"fill\", \"filled\", \"filled\", \"filled\", \"filled\", \"filled\", \"filling\", \"filling\", \"filling\", \"filling\", \"filling\", \"filling\", \"filling\", \"filling_line\", \"filling_line\", \"filling_line\", \"fingertip\", \"fingertip\", \"fingertip\", \"fingertip\", \"florida\", \"flurbiprofen\", \"folder\", \"format\", \"formulation\", \"formulation\", \"formulation\", \"formulation\", \"formulation\", \"fp\", \"fri_mon\", \"fri_mon\", \"fungus\", \"fungus\", \"fusarium\", \"gauge\", \"gauge\", \"gel\", \"gel\", \"gel\", \"globosum\", \"globsum\", \"gm\", \"gm\", \"gm\", \"gpa\", \"grade\", \"grade\", \"grade\", \"grade\", \"grade_zone\", \"grate\", \"guaifenesin\", \"guidance\", \"handwritten\", \"hazardous\", \"hazardous\", \"health_copy\", \"health_copy\", \"hepa\", \"homatropine\", \"hood\", \"hood\", \"hood\", \"hood\", \"hood\", \"hood\", \"hormonal\", \"hormone_containing\", \"hrt\", \"human_error\", \"hyaline\", \"hydrocodone_bitartrate\", \"hydrocortisone\", \"ibservation\", \"identical\", \"identified\", \"identified\", \"identified\", \"identified\", \"identified\", \"identified\", \"identified\", \"identified\", \"illegible\", \"iml\", \"implement_corrective\", \"inc\", \"inch\", \"include\", \"include\", \"include\", \"include\", \"include\", \"include\", \"include\", \"include\", \"including\", \"including\", \"including\", \"including\", \"including\", \"including\", \"incursion\", \"individual_patient\", \"influx\", \"information\", \"information\", \"information\", \"information\", \"information\", \"information\", \"information\", \"initiated\", \"initiated\", \"initiated\", \"initiated\", \"initiated\", \"initiated\", \"injectable\", \"injectable\", \"injectable\", \"injectable\", \"injection\", \"injection\", \"injection\", \"injection\", \"injection\", \"injection\", \"injection\", \"inside\", \"inside\", \"inside\", \"inside\", \"inside\", \"inspection\", \"inspection\", \"inspection\", \"inspection\", \"inspection\", \"inspection\", \"inspection\", \"inspection\", \"inspection\", \"inspectional_walkthrough\", \"inspectional_walkthrough\", \"instituted\", \"inv\", \"investigation\", \"investigation\", \"investigation\", \"investigation\", \"investigation\", \"investigation\", \"investigation\", \"iso\", \"iso\", \"iso\", \"isolator\", \"itc\", \"iv\", \"iv\", \"iv\", \"iv\", \"iv_bag\", \"iv_bag\", \"judgment_indicate\", \"judgment_indicate\", \"july\", \"july\", \"july\", \"july\", \"jungle\", \"ketorolac\", \"kit\", \"kit\", \"lab\", \"lab\", \"lab\", \"lab\", \"lab\", \"lab\", \"lab\", \"label\", \"label\", \"label\", \"label\", \"label\", \"laboratory\", \"laboratory\", \"laboratory\", \"laboratory\", \"laboratory\", \"laboratory\", \"laboratory\", \"laboratory\", \"laf_hood\", \"laminar_flow\", \"laminar_flow\", \"laminar_flow\", \"lc\", \"leaving\", \"leaving\", \"lfh\", \"lidocaine\", \"lidocaine\", \"lidocaine\", \"lidocaine\", \"lidocaine\", \"limit\", \"limit\", \"limit\", \"limit\", \"limit\", \"limit\", \"lin\", \"line\", \"line\", \"line\", \"line\", \"line\", \"linearity\", \"lipoderm\", \"loading\", \"loading\", \"loading\", \"located\", \"located\", \"located\", \"located\", \"located\", \"located\", \"lock\", \"lot\", \"lot\", \"lot\", \"lot\", \"lot\", \"lot\", \"lot\", \"lot\", \"lot\", \"luer\", \"lyophilized\", \"lyophilized\", \"mac\", \"made\", \"made\", \"made\", \"made\", \"made\", \"made\", \"manipulated\", \"manufacturer\", \"manufacturer\", \"manufacturer\", \"manufacturer\", \"manufacturer\", \"manufacturer\", \"manufacturer\", \"manufacturer\", \"manufacturing\", \"manufacturing\", \"manufacturing\", \"manufacturing\", \"manufacturing\", \"manufacturing\", \"manufacturing\", \"manufacturing\", \"manufacturing\", \"material\", \"material\", \"material\", \"material\", \"material\", \"material\", \"material\", \"may\", \"may\", \"may\", \"may\", \"may\", \"may\", \"may\", \"mcg\", \"mcg\", \"mcg\", \"mcg\", \"mcg\", \"mcg\", \"mcg\", \"mci\", \"mcpfar\", \"meaning\", \"meaning\", \"media_fill\", \"media_fill\", \"media_fill\", \"media_fills\", \"media_fills\", \"medium\", \"medium\", \"medium\", \"medium\", \"medium\", \"meg\", \"meg\", \"meg\", \"meg\", \"meg\", \"mertiatide\", \"mertiatide\", \"method\", \"method\", \"method\", \"method\", \"method\", \"methylphenidate_chewable\", \"mm\", \"mobile_unit\", \"mold\", \"mold\", \"mold\", \"mold\", \"mold\", \"mon\", \"mon\", \"mon_tue\", \"mon_tue\", \"mon_tue\", \"mon_tue\", \"mon_tue\", \"mon_tue\", \"monitoring\", \"monitoring\", \"monitoring\", \"monitoring\", \"monitoring\", \"monitoring\", \"month\", \"month\", \"month\", \"month\", \"month\", \"month\", \"mor\", \"morphine_sulfate\", \"morphine_sulfate\", \"mp\", \"nan\", \"nandrolone\", \"naturopathy\", \"nda\", \"nearly_identical\", \"niacinamide\", \"nmt\", \"non\", \"non\", \"non\", \"non\", \"non\", \"non\", \"non\", \"nov\", \"ns_oh\", \"nuclear\", \"number\", \"number\", \"number\", \"number\", \"number\", \"number\", \"nystatin_topical\", \"nystatin_topical\", \"objection\", \"observed\", \"observed\", \"observed\", \"observed\", \"observed\", \"observed\", \"observed\", \"observed\", \"observed\", \"ocala\", \"oct\", \"officer\", \"officer\", \"oil\", \"oil\", \"ointment\", \"olive_oil\", \"olive_oil\", \"one\", \"one\", \"one\", \"one\", \"one\", \"one\", \"one\", \"one\", \"ooe\", \"oos\", \"oos\", \"oos\", \"oos\", \"oot\", \"operation\", \"operation\", \"operation\", \"operation\", \"operation\", \"operation\", \"operation\", \"operation\", \"operator\", \"operator\", \"operator\", \"operator\", \"operator\", \"operator\", \"operator\", \"operator\", \"otc\", \"outsourcing_facility\", \"outsourcing_facility\", \"outsourcing_facility\", \"oversees\", \"oxycodone\", \"oxycodone\", \"oxytocin_units\", \"oxytocin_units\", \"papaverine\", \"password\", \"patient\", \"patient\", \"patient\", \"patient\", \"patient\", \"patient\", \"peak\", \"peak\", \"pellet\", \"pellet\", \"pellet\", \"pellet_press\", \"pellet_press\", \"pellet_press\", \"penicillium\", \"penicillium_chrysogenum\", \"penicillium_spp\", \"performance_qualification\", \"performance_qualification\", \"performance_qualification\", \"performance_qualification\", \"performed\", \"performed\", \"performed\", \"performed\", \"performed\", \"performed\", \"performed\", \"performed\", \"performed\", \"person\", \"person\", \"person\", \"person\", \"personnel\", \"personnel\", \"personnel\", \"personnel\", \"personnel\", \"personnel\", \"personnel\", \"ph\", \"ph\", \"pharmaceutical_grade\", \"pharmacy\", \"pharmacy\", \"pharmacy\", \"pharmacy\", \"pharmacy\", \"phentolamine\", \"phentolamine_mesylate\", \"phentolamine_mesylate\", \"phenylephrine\", \"phenylephrine\", \"phenylephrine\", \"phenylephrine\", \"phenylephrine\", \"phenylephrine\", \"phlebotomist\", \"phlebotomist\", \"positive\", \"positive\", \"positive\", \"positive\", \"potency\", \"potency\", \"potency\", \"potency\", \"potent_drugs\", \"powder\", \"powder\", \"powder\", \"powder\", \"powder\", \"ppb\", \"pqr\", \"pqr\", \"pr\", \"pr\", \"pr\", \"premise\", \"premise\", \"prepared_packed\", \"prepared_packed\", \"prescribed\", \"prescribing_practitioner\", \"preservative\", \"preservative\", \"pressure\", \"pressure\", \"pressure_differential\", \"prilocaine\", \"procedure\", \"procedure\", \"procedure\", \"procedure\", \"procedure\", \"procedure\", \"procedure\", \"process\", \"process\", \"process\", \"process\", \"process\", \"process\", \"process\", \"process\", \"process\", \"produced\", \"produced\", \"produced\", \"produced\", \"produced\", \"produced\", \"produced\", \"produced\", \"producer\", \"product\", \"product\", \"product\", \"product\", \"product\", \"product\", \"product\", \"product\", \"product\", \"production\", \"production\", \"production\", \"production\", \"production\", \"production\", \"production\", \"production\", \"production\", \"progesterone\", \"progesterone\", \"progesterone\", \"proliferatum\", \"proximity\", \"purporting\", \"purporting\", \"purporting\", \"purpose\", \"purpose\", \"pursuant\", \"pursuant\", \"pursuant\", \"pyp\", \"pyrogen_free\", \"qre\", \"quality\", \"quality\", \"quality\", \"quality\", \"quality\", \"quality\", \"quality\", \"quality\", \"quality\", \"quantity\", \"quantity\", \"quinapril\", \"rapid_sterility\", \"rch\", \"reaction\", \"reasonable\", \"received\", \"received\", \"received\", \"received\", \"received\", \"record\", \"record\", \"record\", \"record\", \"record\", \"record\", \"record\", \"record\", \"registered\", \"regulation\", \"regulation\", \"relative_humidity\", \"release\", \"release\", \"release\", \"release\", \"release\", \"release\", \"released\", \"released\", \"released\", \"released\", \"released\", \"released\", \"released\", \"rendered_injurious\", \"rendered_injurious\", \"report\", \"report\", \"report\", \"report\", \"report\", \"report\", \"report\", \"report\", \"respect\", \"result\", \"result\", \"result\", \"result\", \"result\", \"result\", \"result\", \"result\", \"retinoic\", \"review\", \"review\", \"review\", \"review\", \"review\", \"review\", \"review\", \"review\", \"rh\", \"right_fingertips\", \"room\", \"room\", \"room\", \"room\", \"room\", \"room\", \"run\", \"run\", \"run\", \"run\", \"run\", \"rx\", \"rx\", \"rx\", \"rx\", \"sample\", \"sample\", \"sample\", \"sample\", \"sample\", \"sample\", \"sample\", \"sample\", \"satisfactory_conformance\", \"scan\", \"scoop\", \"sec\", \"secretary\", \"secretary\", \"section\", \"section\", \"section\", \"section\", \"section\", \"section\", \"sent_promptly\", \"sent_promptly\", \"sepsis\", \"shall\", \"shall\", \"shall\", \"shall\", \"shall\", \"shall_give\", \"shall_give\", \"shortage_list\", \"simulation\", \"simulation\", \"site\", \"site\", \"site\", \"site\", \"site\", \"sod\", \"solution\", \"solution\", \"solution\", \"solution\", \"solution\", \"solution\", \"solution\", \"somerset\", \"somerset_nj\", \"somerset_nj\", \"somerset_nj\", \"sop\", \"sop\", \"sop\", \"sop\", \"sop\", \"spearmint\", \"specification\", \"specification\", \"specification\", \"specification\", \"specification\", \"specification\", \"sporicidal\", \"spp\", \"squaric\", \"sr\", \"sr\", \"sr\", \"stability\", \"stability\", \"stability\", \"stability\", \"start\", \"status_label\", \"sterile\", \"sterile\", \"sterile\", \"sterile\", \"sterile\", \"sterile\", \"sterile\", \"sterility\", \"sterility\", \"sterility\", \"sterility\", \"sterility\", \"sterility\", \"stock_solutions\", \"stoppering\", \"study_deleted\", \"subculture\", \"subcultured\", \"subculturing\", \"submitted\", \"submitted\", \"subpart\", \"subsection\", \"substance\", \"substance\", \"substance\", \"substance\", \"substance\", \"substance\", \"sulfur\", \"summary\", \"summary\", \"summary\", \"supporting\", \"supporting\", \"supporting\", \"supporting\", \"surface\", \"surface\", \"surface\", \"surface\", \"surface\", \"surface\", \"surface\", \"suspension\", \"suspension\", \"suspension\", \"suspension\", \"swab\", \"swabbed\", \"syringe\", \"syringe\", \"syringe\", \"syringe\", \"syringe\", \"syringe\", \"syrinx\", \"syrinx\", \"syrinx\", \"tablet\", \"tablet\", \"tablet\", \"tablet\", \"tablet_press\", \"tank\", \"tank\", \"tank\", \"tar\", \"technician\", \"technician\", \"technician\", \"technician\", \"technician\", \"technician\", \"technician\", \"temazepam_capsules\", \"test\", \"test\", \"test\", \"test\", \"test\", \"test\", \"test\", \"testing\", \"testing\", \"testing\", \"testing\", \"testing\", \"testing\", \"testing\", \"testing\", \"testosterone\", \"testosterone\", \"testosterone\", \"testosterone\", \"testosterone\", \"testosterone_cypionate\", \"testosterone_cypionate\", \"testosterone_cypionate\", \"tetracaine\", \"th\", \"th\", \"th\", \"th\", \"th\", \"therapy\", \"thorough\", \"thu\", \"thu\", \"thu_fri\", \"thu_fri\", \"thu_fri\", \"thu_fri\", \"time\", \"time\", \"time\", \"time\", \"time\", \"time\", \"time\", \"time\", \"tn\", \"tn\", \"tn\", \"toc\", \"topeka\", \"total\", \"total\", \"total\", \"total\", \"total\", \"tote\", \"tpn\", \"tpn\", \"troche\", \"troche\", \"tue_wed\", \"tue_wed\", \"tue_wed\", \"tue_wed\", \"tue_wed\", \"udi\", \"unclassified\", \"unclassified\", \"unidirectional_airflow\", \"unit\", \"unit\", \"unit\", \"unit\", \"unit\", \"unit\", \"unit\", \"units_gram\", \"units_gram\", \"usc_provides\", \"use\", \"use\", \"use\", \"use\", \"use\", \"use\", \"used\", \"used\", \"used\", \"used\", \"used\", \"used\", \"used\", \"used\", \"used\", \"user_id\", \"user_id\", \"user_name\", \"using\", \"using\", \"using\", \"using\", \"using\", \"using\", \"using\", \"usp\", \"usp\", \"usp\", \"usp\", \"usp\", \"utensil\", \"utensil\", \"utensil\", \"utilize\", \"validation\", \"validation\", \"validation\", \"validation\", \"vent\", \"vessel\", \"via\", \"via\", \"via\", \"viable\", \"viable\", \"vial\", \"vial\", \"vial\", \"vial\", \"vial\", \"vial\", \"vial\", \"vice_president\", \"vice_president\", \"vice_president\", \"vice_president\", \"view\", \"vision_system\", \"vision_system\", \"washer\", \"water\", \"water\", \"water\", \"water\", \"wed\", \"wed_thu\", \"wed_thu\", \"wed_thu\", \"wed_thu\", \"wed_thu\", \"wed_thu\", \"weight\", \"whereby\", \"whereby\", \"whole\", \"whole\", \"wipe\", \"wipe\", \"wipe\", \"witnessed\", \"witnessed\", \"work_surface\", \"work_surface\", \"work_surface\", \"worksurface\", \"wrapping\", \"writing_setting\", \"writing_setting\", \"year_expiration\", \"yecifically\", \"zone\", \"zone\", \"zone\"]}, \"R\": 30, \"lambda.step\": 0.01, \"plot.opts\": {\"xlab\": \"PC1\", \"ylab\": \"PC2\"}, \"topic.order\": [2, 8, 5, 6, 9, 4, 7, 3, 1]};\n",
       "\n",
       "function LDAvis_load_lib(url, callback){\n",
       "  var s = document.createElement('script');\n",
       "  s.src = url;\n",
       "  s.async = true;\n",
       "  s.onreadystatechange = s.onload = callback;\n",
       "  s.onerror = function(){console.warn(\"failed to load library \" + url);};\n",
       "  document.getElementsByTagName(\"head\")[0].appendChild(s);\n",
       "}\n",
       "\n",
       "if(typeof(LDAvis) !== \"undefined\"){\n",
       "   // already loaded: just create the visualization\n",
       "   !function(LDAvis){\n",
       "       new LDAvis(\"#\" + \"ldavis_el336419111443327447922293778\", ldavis_el336419111443327447922293778_data);\n",
       "   }(LDAvis);\n",
       "}else if(typeof define === \"function\" && define.amd){\n",
       "   // require.js is available: use it to load d3/LDAvis\n",
       "   require.config({paths: {d3: \"https://cdnjs.cloudflare.com/ajax/libs/d3/3.5.5/d3.min\"}});\n",
       "   require([\"d3\"], function(d3){\n",
       "      window.d3 = d3;\n",
       "      LDAvis_load_lib(\"https://cdn.rawgit.com/bmabey/pyLDAvis/files/ldavis.v1.0.0.js\", function(){\n",
       "        new LDAvis(\"#\" + \"ldavis_el336419111443327447922293778\", ldavis_el336419111443327447922293778_data);\n",
       "      });\n",
       "    });\n",
       "}else{\n",
       "    // require.js not available: dynamically load d3 & LDAvis\n",
       "    LDAvis_load_lib(\"https://cdnjs.cloudflare.com/ajax/libs/d3/3.5.5/d3.min.js\", function(){\n",
       "         LDAvis_load_lib(\"https://cdn.rawgit.com/bmabey/pyLDAvis/files/ldavis.v1.0.0.js\", function(){\n",
       "                 new LDAvis(\"#\" + \"ldavis_el336419111443327447922293778\", ldavis_el336419111443327447922293778_data);\n",
       "            })\n",
       "         });\n",
       "}\n",
       "</script>"
      ],
      "text/plain": [
       "PreparedData(topic_coordinates=              x         y  topics  cluster       Freq\n",
       "topic                                                \n",
       "1      0.217521  0.086139       1        1  26.478346\n",
       "7      0.004868  0.068386       2        1  17.797655\n",
       "4     -0.095026  0.030051       3        1  14.867281\n",
       "5      0.062121 -0.196182       4        1   9.128911\n",
       "8     -0.155892  0.055695       5        1   9.096015\n",
       "3      0.020981 -0.044454       6        1   7.333224\n",
       "6     -0.126547  0.028502       7        1   6.837589\n",
       "2     -0.020168 -0.104954       8        1   5.474751\n",
       "0      0.092142  0.076816       9        1   2.986228, topic_info=              Term        Freq       Total Category  logprob  loglift\n",
       "328            iso  446.000000  446.000000  Default  30.0000  30.0000\n",
       "80            drug  718.000000  718.000000  Default  29.0000  29.0000\n",
       "146            lot  422.000000  422.000000  Default  28.0000  28.0000\n",
       "340           room  333.000000  333.000000  Default  27.0000  27.0000\n",
       "132  investigation  220.000000  220.000000  Default  26.0000  26.0000\n",
       "..             ...         ...         ...      ...      ...      ...\n",
       "347           used    5.560661  262.924270   Topic9  -5.3942  -0.3450\n",
       "224         record    5.296168  127.561228   Topic9  -5.4429   0.3295\n",
       "58   contamination    5.180724   99.134058   Topic9  -5.4649   0.5596\n",
       "132  investigation    5.256645  220.764529   Topic9  -5.4504  -0.2264\n",
       "340           room    5.258500  333.576348   Topic9  -5.4500  -0.6389\n",
       "\n",
       "[637 rows x 6 columns], token_table=      Topic      Freq                   Term\n",
       "term                                        \n",
       "3671      7  0.794102                aborted\n",
       "1162      3  0.799200               accuracy\n",
       "1162      5  0.061477               accuracy\n",
       "1162      7  0.061477               accuracy\n",
       "1006      3  0.879971  acetaminophen_tablets\n",
       "...     ...       ...                    ...\n",
       "4528      7  0.713995        year_expiration\n",
       "2969      4  0.923332            yecifically\n",
       "3154      1  0.518062                   zone\n",
       "3154      5  0.074009                   zone\n",
       "3154      9  0.296035                   zone\n",
       "\n",
       "[1493 rows x 3 columns], R=30, lambda_step=0.01, plot_opts={'xlab': 'PC1', 'ylab': 'PC2'}, topic_order=[2, 8, 5, 6, 9, 4, 7, 3, 1])"
      ]
     },
     "execution_count": 17,
     "metadata": {},
     "output_type": "execute_result"
    }
   ],
   "source": [
    "# Visualize the topics\n",
    "pyLDAvis.enable_notebook()\n",
    "vis = pyLDAvis.gensim.prepare(lda_model, corpus, id2word)\n",
    "vis"
   ]
  },
  {
   "cell_type": "markdown",
   "metadata": {},
   "source": [
    "### Predict Topics with Original DF"
   ]
  },
  {
   "cell_type": "code",
   "execution_count": 18,
   "metadata": {},
   "outputs": [
    {
     "data": {
      "text/plain": [
       "[(2, 0.99892193),\n",
       " (8, 0.18200903),\n",
       " (8, 0.82218677),\n",
       " (8, 0.0981492),\n",
       " (8, 0.8221868)]"
      ]
     },
     "execution_count": 18,
     "metadata": {},
     "output_type": "execute_result"
    }
   ],
   "source": [
    "# assign each citation to the most probable topic\n",
    "topics = []\n",
    "for line in obs_lem:\n",
    "    t = [line]\n",
    "    corpus2 = [id2word.doc2bow(w) for w in t]\n",
    "    T_dis = list(lda_model[corpus2])[0]\n",
    "    topics.append(max(T_dis))\n",
    "    \n",
    "topics[:5]"
   ]
  },
  {
   "cell_type": "code",
   "execution_count": 56,
   "metadata": {},
   "outputs": [
    {
     "name": "stderr",
     "output_type": "stream",
     "text": [
      "C:\\Users\\ncruickshank\\Anaconda3\\envs\\pyr\\lib\\site-packages\\ipykernel_launcher.py:5: SettingWithCopyWarning: \n",
      "A value is trying to be set on a copy of a slice from a DataFrame.\n",
      "Try using .loc[row_indexer,col_indexer] = value instead\n",
      "\n",
      "See the caveats in the documentation: https://pandas.pydata.org/pandas-docs/stable/user_guide/indexing.html#returning-a-view-versus-a-copy\n",
      "  \"\"\"\n",
      "C:\\Users\\ncruickshank\\Anaconda3\\envs\\pyr\\lib\\site-packages\\ipykernel_launcher.py:6: SettingWithCopyWarning: \n",
      "A value is trying to be set on a copy of a slice from a DataFrame.\n",
      "Try using .loc[row_indexer,col_indexer] = value instead\n",
      "\n",
      "See the caveats in the documentation: https://pandas.pydata.org/pandas-docs/stable/user_guide/indexing.html#returning-a-view-versus-a-copy\n",
      "  \n",
      "C:\\Users\\ncruickshank\\Anaconda3\\envs\\pyr\\lib\\site-packages\\ipykernel_launcher.py:7: SettingWithCopyWarning: \n",
      "A value is trying to be set on a copy of a slice from a DataFrame.\n",
      "Try using .loc[row_indexer,col_indexer] = value instead\n",
      "\n",
      "See the caveats in the documentation: https://pandas.pydata.org/pandas-docs/stable/user_guide/indexing.html#returning-a-view-versus-a-copy\n",
      "  import sys\n"
     ]
    },
    {
     "data": {
      "text/plain": [
       "(352, 20)"
      ]
     },
     "execution_count": 56,
     "metadata": {},
     "output_type": "execute_result"
    }
   ],
   "source": [
    "# join the prediced topics to the observations df\n",
    "s_topics = pd.Series(topics)\n",
    "\n",
    "rr2 = rr1\n",
    "rr2['topic_number'] = [n for (n,p) in s_topics.values]\n",
    "rr2['topic_number'] = rr2['topic_number'].astype(str)\n",
    "rr2['topic_probability'] = [p for (n,p) in s_topics.values]"
   ]
  },
  {
   "cell_type": "markdown",
   "metadata": {},
   "source": [
    "### Top 3 Observations Per Topic\n",
    "For each observation topic, which observations in the dataset have the highest probability of belonging to that topic?"
   ]
  },
  {
   "cell_type": "code",
   "execution_count": 77,
   "metadata": {},
   "outputs": [
    {
     "name": "stdout",
     "output_type": "stream",
     "text": [
      "\n",
      "===============================================================================\n",
      "\n",
      "TOPIC NUMBER  0\n",
      "\n",
      "===============================================================================\n",
      "\n",
      "\n",
      "Firm Name:  Hospira Inc\n",
      "Record Date:  2020-01-17\n",
      "Topic Probability:  0.9973531365394592\n",
      "Observation: \n",
      "\n",
      "('Written records of investigations into unexplained discrepancies do not '\n",
      " 'always include the conclusions and follow-up.  Specifically,  A. On August '\n",
      " '21, 2019, an NDA Field- Alert Report McPfar# 2019-043 was initiated for the '\n",
      " 'recovery of 2 species of mold (Cladsporium species and Sarocladium '\n",
      " 'terricola) equaling 62 cfu from the multi-product aseptic filling lin ®)@ '\n",
      " 'Grade A zone where lyophilized product is transferred to the lyophilizer '\n",
      " 'trayer. Furthermore, 6 cfu of bacterial colonies (Brachybacterium rhamnosum) '\n",
      " 'were recovered from the Grade A zone from the same settle plate. In '\n",
      " 'addition, on August 16, 2019, a recovery of 2 cfu of mold colonies '\n",
      " '(Aspergillus species) were isolated from the personnel/material Grade B (b) '\n",
      " '(4) Grade A/B aseptic area.  The mold and bacteria recoveries were '\n",
      " 'identified in the Grade A aseptic zone where lyophilized and sterile '\n",
      " 'solutions are produced. The firm has failed to identify product associated '\n",
      " 'within the filed NDA Field- Alert. However, according to PR#4138900, there '\n",
      " 'wer (6) (4) lots manufactured during the time of the event and (6) (4) lots '\n",
      " 'were released into market. Excursions were due to a missed cleaning and room '\n",
      " 'pressure excursions.  B. On 12/02/2018, an NDA Field-Alert Report McPfar# '\n",
      " '2019-150 was initiated for the recovery of 2 species of mold (Tritirachium '\n",
      " 'oryae and Asperigillus sydowii) equaling 14 cfu from the multi- product '\n",
      " 'aseptic filling lin ()()Grade A zone where the aseptic solution connection '\n",
      " 'is performed. Investigation PR# 2514531 determined that there was no impact '\n",
      " 'to Plazomicin Lot# 951003F and released the batch. Root causes and '\n",
      " 'corrective actions are not robust to mitigate risk and re-  occurrence.  C. '\n",
      " 'On 08/06/2019, an ANDA Field-Alert Report McPfar #2019-037 was initiated for '\n",
      " 'the recovery of 1 cfu of mold growth found on a viable passive air site in '\n",
      " 'the Grade A(6)(4) isolator on July 26, 2019. Investigation PR#4097952 '\n",
      " 'rejected Glatiramer Acetate Injection 20 mg/mL, Lot 070653F. However, the '\n",
      " 'investigation failed to implement an effective CAPA to control contamination '\n",
      " 'within the aseptic isolator barrier Grade A zone.  D. Investigation PR# '\n",
      " '4146395 failed to adequately address the air reversal excursions affecting '\n",
      " 'Grade A/B (b) (4) (room 338A) from the Grade D area supporting the asepti ©) '\n",
      " 'filling line. The room air pressure increases when Grade D room doors are '\n",
      " 'open at the same time as the Grade B doors leading to the asepti ®) filling '\n",
      " 'area. Corrective actions implemented did not mitigate future occurrences  E. '\n",
      " 'On 12/22/2018, Field Alert McPfar 2018-169 was initiated for 23 cfu of mold '\n",
      " 'contamination detected inside a HEPA car (b) (4), used to transport aseptic '\n",
      " 'product from th © filling line. The field alert did not indicate that '\n",
      " 'Vancomycin Hydrochloride for Injection, Lot 96170DD was implicated and later '\n",
      " 'rejected as a batch disposition. Furthermore, the the Field Alert and CAPA '\n",
      " 'PR#2543245, failed to evaluate the (Db) (4)sanitation process of the HEPA '\n",
      " 'carts from the dates of closure, June 2019, to address the interim process '\n",
      " 'that will be used to mitigate risk. HEPA Carts are still being (b) (4) '\n",
      " 'sanitized to be reintroduced back into the clean rooms.  F. On 01/23/2019, '\n",
      " 'Field Alert Report McPfar 2019-006 was initiated in response to '\n",
      " 'investigation PR#4322158 initiated for lcfu for a Class 1, Grade A personnel '\n",
      " 'that was working in the Grade A zone o © filling line. The investigation '\n",
      " 'identifies the cause of the mold species being due to gowning. However, the '\n",
      " 'firm has failed to implement appropriate corrective actions that prevent '\n",
      " 'mold excursions identified on Class 1 employee working inside a Grade A '\n",
      " 'zone. All product batches associated with this personnel excursion were '\n",
      " 'released for distribution.  G. The firm has not initiated an overall '\n",
      " 'effective corrective action plan to mitigate the re-occurrence of bacterial '\n",
      " 'and/or mold colonies isolated from points throughout the aseptic '\n",
      " 'manufacturing suites and supporting areas. Since the last inspection in '\n",
      " 'August 2018, the firm continues to recover bacterial and/or mold isolates '\n",
      " 'from critical zones Grade A and B, supporting areas, and Class 1 '\n",
      " 'personnel.  ')\n",
      "\n",
      "- - - - - - - - - - - - - - - - - - - - - - - - - - - - - - - - - - - - - - - -\n",
      "\n",
      "Firm Name:  Keystone Rx LLC \n",
      "Record Date:  2019-07-12\n",
      "Topic Probability:  0.9923983216285706\n",
      "Observation: \n",
      "\n",
      "('Non-microbial contamination was observed in your production area.  '\n",
      " 'Specifically, on July 9, 2019, after producing Rx [(B)(6)), 5% Flurbiprofen/ '\n",
      " '2% Cyclobenzaprine/ 5% Lidocaine cream, and subsequent cleaning, the '\n",
      " 'following were observed:  A) Apparent dried powder residue in the front '\n",
      " 'grate of the biological safety cabinet (hood). There were approximately six '\n",
      " 'grate holes observed with yellow residue near the scale inside the hood, '\n",
      " 'approximately three grate holes observed with white residue, and '\n",
      " 'approximately another four grate holes observed with yellow residue.  B) '\n",
      " 'Apparent white powder residue remained on the hood’s processing surface. We '\n",
      " 'observed Flurbiprofen powder spillage during weighing operations for Rx) (b) '\n",
      " '(6)  C) Smeared residue remained immediately in front of the grate.  D) '\n",
      " 'Yellow staining remained on scale (BJM) located inside the hood. The scale '\n",
      " 'is used to weigh raw materials for production.  *DATES OF INSPECTION '\n",
      " '7/08/2019(Mon), 7/09/2019(Tue), 7/12/20 19(Fri)     EMPLOYEE(S) SIGNATURE '\n",
      " 'DATE SSVED  David A one investiga’  x 3 Signed By: \"20019877 76 Oate Signed; '\n",
      " '07-12-2019 10:29:56  EMPLOYEE(S) SIGNATURE DATE ISSUED eer emuywemer | =~. '\n",
      " 'FR Reb ee ee ge Te OTe eT teh eT 1 ean Form? Oo  ')\n",
      "\n",
      "- - - - - - - - - - - - - - - - - - - - - - - - - - - - - - - - - - - - - - - -\n",
      "\n",
      "===============================================================================\n",
      "\n",
      "TOPIC NUMBER  1\n",
      "\n",
      "===============================================================================\n",
      "\n",
      "\n",
      "Firm Name:  Hawaii Health Systems Corporation dba Kona Community Hospital Pharmacy\n",
      "Record Date:  2019-12-13\n",
      "Topic Probability:  0.9971025586128235\n",
      "Observation: \n",
      "\n",
      "('You did not make adequate product evaluation and take remedial action where '\n",
      " 'actionable microbial contamination was found to be present in an area '\n",
      " 'adjacent to the ISO 5 classified aseptic processing area during aseptic '\n",
      " 'production.  Specifically, actionable microbial contamination was discovered '\n",
      " 'inside (Db) (4) rooms, where the ISO 5 Biological Safety Cabinet (BSC) and '\n",
      " 'ISO 5 Laminar Airflow (LAF) Hood are located, during (B) (4) cleanroom '\n",
      " 'certifications and periodic settling plate samples and no evaluation of '\n",
      " 'product impact was made. For example:  a.) During the 12/11/18 (b) (4) '\n",
      " 'recertification, the ISO 7 Non-Hazardous Drug Room Viable Air Sample, ID (®) '\n",
      " '(4) had a calculated 44 colony forming units (cfu) /m? identified as '\n",
      " 'Coagulase-negative Staphylococcus species, Dermabacter hominis, and '\n",
      " 'Micrococcus luteus, and the ISO 7 Hazardous Drug Room Viable Air Sample, ID '\n",
      " '(b) (4) had a calculated 18 cfu/m? identified as Bacillus species, '\n",
      " 'Micrococcus luteus, Micrococcus species, and Staphylococcus haemolyticus. '\n",
      " 'The firm did not evaluate any products filled in the ISO 5 LAF Hood and ISO '\n",
      " '5 BSC on 12/11/18 for product impact, including but not limited to: Morphine '\n",
      " 'Img/mL SOmL, Vancomycin 750mg, Vancomycin 1000mg, Vancomycin 1250mg, '\n",
      " 'Vancomycin 1500mg, Acyclovir 600mg, Ertapenem 500mg, Ceftriaxone 473mg, '\n",
      " 'Azithromycin 94.6mg, Ampicillin 473mg, Vasopressin 40 units, and Azacitidine '\n",
      " '150mg.  On the 01/24/19 retest from the December recertification, the ISO 7 '\n",
      " 'Non-Hazardous Drug Room Viable Air Sample, ID (6) (4) had a calculated 27 '\n",
      " 'cfw/m? identified as C orynebacterium minutissimum, Corynebacterium species, '\n",
      " 'Micrococcus species, and Staphylococcus haemolyticus. The firm did not '\n",
      " 'evaluate any products filled in the ISO 5 LAF Hood on 01/24/19 for product '\n",
      " 'impact, including but not limited to: Octreocide 50mcg, Octreocide 500mcg, '\n",
      " 'Pantoprazole 80mg, Clindamycin 61.16lmg, Vancomycin 1000mg, Vancomycin '\n",
      " '1250mg, Ampicillin 80mg, and Gentamicin 7.2mg.  c.) On 01/29/19, a settling '\n",
      " 'plate located (b) (4) in the ISO 7 Non-Hazardous Drug Room had one colony of '\n",
      " 'mold, which was not identified. The firm did not evaluate any products '\n",
      " 'filled in the ISO 5 LAF Hood on 01/29/19 for product impact, which include: '\n",
      " 'Hydromorphone 0.2mg/mL, Midazolam Img/mL, Fentanyl 550mcg/S55mL, Vancomycin '\n",
      " '750mg, Vancomycin 1250mg. Vancomycin 2000mg. and Ferric Carboxymaltose '\n",
      " '750mg.  On 03/27/19, a settling plate located (b) (4) of the ISO 7 Hazardous '\n",
      " 'Drug Room had 2 cfu that were not identified. The firm did not evaluate any '\n",
      " 'products filled in the ISO 5 BSC on 03/27/19  b.  —  d.  —  for product '\n",
      " 'impact, which include: Nivolumab 480mg, Pertuzumab 420mg, Trastuzumab 450mg, '\n",
      " 'Obinutuzumab 1000mg, Bendamustine 125mg. Leucovorin 564mg, Oxaliplatin '\n",
      " '120mg, Fluorouracil 564mg, Fluorouracil 3384mg, Irinotecan 212mg. and '\n",
      " 'Carfilzomib 60mg.  e.) On 05/28/19, a settling plate located (b) (4) 7 in '\n",
      " 'the ISO 7 Non-Hazardous Drug Room had one colony of yeast that was not '\n",
      " 'identified. The firm did not evaluate any products filled in the ISO 5 LAF '\n",
      " 'Hood on 05/28/19 for product impact, which include: Penicillin G 2.5 million '\n",
      " 'Units/Saline 1000mL, Gentamicin 340mg, and Vancomycin 1250mg.  f.) During '\n",
      " 'the 06/05/19 (b) (4) __ recertification, the ISO 7 Hazardous Drug Room '\n",
      " 'Viable Air sample, ID (b) (4). had a calculated 56 cfu/m? identified as '\n",
      " 'Coagulase-negative Staphylococcus species, Corynebacterium minutissimum, '\n",
      " 'Corynebacterium tuberculostearicum, Corynebacterium-like bacteria, '\n",
      " 'gram-positive cocci, Micrococcus luteus, and Micrococcus species, and the '\n",
      " 'ISO 7 Hazardous Drug Room Surface Sample, ID (b) (4) had a calculated 9 cfu '\n",
      " 'on the plate identified as Cellumonas species, Coagulase-negative '\n",
      " 'Staphylococcus species, gram-positive rod, Micrococcus luteus, and '\n",
      " 'Staphylococcus saprophyticus. The firm did not evaluate any products filled '\n",
      " 'in the ISO 5 BSC on 06/05/19 for product impact, which include: Magnesium '\n",
      " 'Sulfate 6g/Saline 162mL, Vancomycin 750mg, Vancomycin 1000mg, Vancomycin '\n",
      " '1250mg. Vancomycin 1500mg. Ampicillin/Sulbactam 3000mg. Potassium Phosphate '\n",
      " '15mmol, Acyclovir 715mg. Nivolumab 240mg, Nivolumab 480mg, Leucovorin 600mg, '\n",
      " 'Leucovorin 664mg, Oxaliplatin 130mg. Oxaliplatin 141mg, Fluorouracil 600mg, '\n",
      " 'Fluorouracil 664mg, Fluorouracil 3700mg, Bevacizumab 585mg, and '\n",
      " 'Pembrolizumab 200mg.  ')\n",
      "\n",
      "- - - - - - - - - - - - - - - - - - - - - - - - - - - - - - - - - - - - - - - -\n",
      "\n",
      "Firm Name:  Hawaii Health Systems Corporation dba Kona Community Hospital Pharmacy\n",
      "Record Date:  2019-12-13\n",
      "Topic Probability:  0.9967182278633118\n",
      "Observation: \n",
      "\n",
      "('Your facility design allowed the influx of poor quality air into a higher '\n",
      " 'classified area.  Specifically, the air balance between rooms is not '\n",
      " 'controlled to ensure cascading flow of air between areas of lesser '\n",
      " 'classifications. For example:  COLT (°C) | area does not seal completely '\n",
      " 'when the doors on either side of (b) (4) j The ISO 7 Hazardous Drug Room is '\n",
      " 'maintained at a negative pressure relative to adjacent spaces, allowing air '\n",
      " 'from the unclassified area to continuously enter the room. The differential '\n",
      " 'pressure between the ISO 7 Hazardous Drug Room and the unclassified office '\n",
      " 'area is not monitored. Additionally, during the transfer of finished sterile '\n",
      " 'hazardous drugs, we observed (b) (4) open at the same time. The ISO 7  '\n",
      " 'Hazardous Drug Room contains the ISO 5 Biosafety Cabinet, which is used in '\n",
      " 'the production of sterile hazardous drug products, including but not limited '\n",
      " 'to Leucovorin, Oxaliplatin, Fluorouracil, Gemcitabine, and Cisplatin.  b.) '\n",
      " 'The air pressure differential between the ISO 8 Ante Room and the '\n",
      " 'unclassified office area has been below the specified range of (b) (4) '\n",
      " 'inches water column (” w.c.) on 39 of the 44 days between 10/09/19 and '\n",
      " '12/05/19 for which data was recorded. Of the 39 instances, the pressure '\n",
      " 'differential was measured as negative once on 11/13/19 at -0.003” w.c. '\n",
      " 'allowing air from the ISO 8 Ante Room into the ISO 7 Non-Hazardous Drug '\n",
      " 'Room. The ISO 8 Ante Room is used by operators performing production '\n",
      " 'operations to don sterile garbing materials prior to entering one of the ISO '\n",
      " '7 areas and the Ante Room is also used for storage of materials used for '\n",
      " 'production operations.  c.) The air pressure differential between the ISO 7 '\n",
      " 'Non-Hazardous Drug Room and the ISO 8 Ante Room has been below and above the '\n",
      " 'specified range of (b) (4) _” w.c. on 8 of the 44 days between 10/09/19 and '\n",
      " '12/05/19 for which data was recorded. The ISO 7 Non-Hazardous Drug Room '\n",
      " 'contains the ISO 5 Laminar Airflow Hood, which is used in the production of '\n",
      " 'sterile non-hazardous drug products, including but not limited to '\n",
      " 'Vancomycin, Phenylephrine, Penicillin, Ceftriaxone, and Fentanyl.  d.) The '\n",
      " 'air pressure differential between the ISO 7 Hazardous Drug Room and the ISO '\n",
      " '7 Non-Hazardous Drug Room has been below the specified range of negative (b) '\n",
      " '(4) ” w.c. on 38 of the 44 days between 10/09/19 and 12/05/19 for which data '\n",
      " 'was recorded.  e.) During the cleanroom certification performed on 12/11/18, '\n",
      " 'the following air pressure differentials were out of specification: between '\n",
      " 'the ISO 8 Ante Room and unclassified office area was measured at 0.138” w.c. '\n",
      " 'using a calibrated instrument while the firm’s wall gauge reading was 0.108” '\n",
      " 'w.c., and between the ISO 7 Non- Hazardous Drug Room and ISO 8 Ante Room was '\n",
      " 'measured at 0.00556” w.c. using a calibrated instrument while the firm’s '\n",
      " 'wall gauge reading was 0.044. The subsequent and most recent certification '\n",
      " 'performed on 06/05/19 also had air pressure differentials out of '\n",
      " 'specification: between the ISO 8 Ante Room and unclassified office area was '\n",
      " 'measured at 0.145” w.c. (-0.132” w.c. wall gauge), between the ISO 7 Non- '\n",
      " 'Hazardous Room and the ISO 8 Ante Room was measured at 0.00573” w.c. (0.01” '\n",
      " 'w.c. wall gauge), and between the ISO 7 Hazardous Drug Room and ISO 7 '\n",
      " 'Non-Hazardous Drug Room was measured at -0.0719” w.c. (-0.084” w.c.). The '\n",
      " 'wall gauges used for daily readings have never been calibrated.  ')\n",
      "\n",
      "- - - - - - - - - - - - - - - - - - - - - - - - - - - - - - - - - - - - - - - -\n",
      "\n",
      "Firm Name:  VA New Jersey Health Care System\n",
      "Record Date:  2020-02-27\n",
      "Topic Probability:  0.9964565634727478\n",
      "Observation: \n",
      "\n",
      "('The ISO classified aseptic processing areas are difficult to clean and '\n",
      " 'contained visibly dirty equipment or surfaces.          '\n",
      " 'Specifically,             Producer oF Brerdie Drug Products  CITY, STATE, '\n",
      " 'Z)P CODE, CO East Orange, NJ, 07018  We observed the following in your '\n",
      " 'firm’s ISO classified areas, where aseptic human drug production takes place '\n",
      " '(this includes, but is not limited to, the following observations in the '\n",
      " 'areas designated below):  A. Inside your firm’s Laminar Air Flow Hood and '\n",
      " 'Biological Safety Cabinet (ISO 5 classified):  1.) On 02/07/2020, visible '\n",
      " 'white cluster powder buildup was observed on the florescent light cover '\n",
      " 'located on the ceiling of the Laminar Air Flow Hood (ISO 5 Hood). In '\n",
      " 'addition, on 02/07/2020, we observed pharmacy technician producing the '\n",
      " 'following drugs while the white cluster powder build-up was visibly present: '\n",
      " 'Vasopressin, Ferric Gluconate, and Meropenem.  2.) On 02/11/2020, visible '\n",
      " 'white dusty powder residue was observed on the stainless-steel rod located '\n",
      " 'in the Biological Safety Cabinet (ISO 5 Cabinet). In addition, on '\n",
      " '02/11/2020, we observed pharmacy technician®® producing Cisplatin in the '\n",
      " 'Biological Safety Cabinet while the white dusty powder residue remained on '\n",
      " 'the stainless-steel rod in the Biological Safety Cabinet.  B. Visible '\n",
      " 'reddish-brown discoloration that appears to be rust was observed in the '\n",
      " 'Ante-Room, Non- Hazardous and Hazardous areas:  1.) On 02/07/2020, visible '\n",
      " 'reddish-brown rust-like material appeared on the grating of the HEPA filters '\n",
      " 'that face the work surface were observed in the Laminar Flow Hood (ISO 5 '\n",
      " 'Hood)  2.) On 02/07/2020, visible brown stains were observed alongside the '\n",
      " 'windowsills located in Non- Hazardous and Hazardous rooms. The windowsills '\n",
      " 'are located approximately 2 to 5 feet away from Biological Safety Cabinet '\n",
      " 'and Laminar Flow Hood.  3.) On 02/07/2020, visible reddish-brown rust-like '\n",
      " 'material was observed on the sink located in the ante- room. The sink is '\n",
      " 'used as a hand washing station.  C. Visible signs of debris and residue '\n",
      " 'build-up were observed in the ante-room. The following are examples '\n",
      " 'observed:  SOE, COUNTE  East Orange, Nd, 07018 Producer of Sterile Drug '\n",
      " 'Products     1.) On 02/07/2020, dust accumulation located on the upper right '\n",
      " 'corner of the main door entering the ante room.  2.) On 02/07/2020, dust on '\n",
      " 'the air vent above the entry door in the ante room. The air vent is located '\n",
      " 'approximately 5 feet from the Hazardous Room.  3.) On 02/14/2020, off-white '\n",
      " 'residue on the sink faucet and on both computers, CPUs located in the ante '\n",
      " 'room, which is approximately 3 to 5 feet away from the Hazardous Room.  4.) '\n",
      " 'On 02/14/2020, dust, black dirt particles and a vial of Vancomycin | gm Lot '\n",
      " '#: 53100 EXP: 05/01/2017 were found underneath the “medication supply shelf '\n",
      " 'and computer stations” located approximately 2 to 4 feet away from the Non- '\n",
      " 'Hazardous Area.  ')\n",
      "\n",
      "- - - - - - - - - - - - - - - - - - - - - - - - - - - - - - - - - - - - - - - -\n",
      "\n",
      "===============================================================================\n",
      "\n",
      "TOPIC NUMBER  2\n",
      "\n",
      "===============================================================================\n",
      "\n",
      "\n",
      "Firm Name:  Lonza Houston, Inc\n",
      "Record Date:  2020-12-10\n",
      "Topic Probability:  0.999060869216919\n",
      "Observation: \n",
      "\n",
      "('Microbial contamination controls are not adequate. Specifically:  On '\n",
      " 'December 8, 2020, we observed manufacturing of (b) (4) product (batch #() '\n",
      " '(4) including (b) (4) identified in master batch documents for part (b) (4). '\n",
      " 'At the end of the ©) operations in the biological safety cabinet aseptic '\n",
      " 'core, operator () (4)  (b) (4)  ) steps 4” (4)  The written procedures '\n",
      " '#USWV-30403 v 4.0 and USWV16240 v 2.0 related to microbial monitoring do not '\n",
      " 'give specific instructions for how to collect (BD) (4) samples.  *DATES OF '\n",
      " 'INSPECTION 12/03/2020(Thu), 12/04/2020(Fri), 12/07/2020(Mon), '\n",
      " '12/08/2020(Tue), 12/09/2020(Wed), 12/10/2020(Thu)  Steven E Bowen Lauren M '\n",
      " 'Lilly fi i - Team Biologics hs i Signed By: Steven E. Bowen -S Si By- Lauren '\n",
      " 'M. Lilly -S X Date Signed: 12-10-2020 16-24-23 XX. Date Signed: 12-10-2020 '\n",
      " '16:25:45  ET Ey eg, A rr re Qe Ty ee,  \"Upon completion of any such '\n",
      " 'inspection of a factory, warehouse, consulting laboratory, or other '\n",
      " 'establishment, and prior to leaving the premises, the officer or employee '\n",
      " 'making the inspection shall give to the owner, operator, or agent in charge '\n",
      " 'a report in writing setting forth any conditions or practices observed by '\n",
      " 'him which, in his judgment, indicate that any food, drug, device, or '\n",
      " 'cosmetic in such establishment (1) consists in whole or in part of any '\n",
      " 'filthy, putrid, or decomposed substance, or (2) has been prepared, packed, '\n",
      " 'or held under insanitary conditions whereby it may have become contaminated '\n",
      " 'with filth, or whereby it may have been rendered injurious to health. A copy '\n",
      " 'of such report shall be sent promptly to the Secretary.\"     6. NUMBER AND '\n",
      " 'STREET oe  f *y  ite) p.m.     7. CITY AND STATE & ZIP CODE  {7 é4 i al ; € '\n",
      " '€ + #  8. PHONE NO. & AREA CODE  Zu { a it i  Notice of Inspection is hereby '\n",
      " 'given pursuant to Section 704(a)(1) of the Federal Food, Drug, and Cosmetics '\n",
      " 'Act [21 U.S.C. 374(a)]‘ and/or Part F or G, Title Ill of the Public Health '\n",
      " 'Service Act [42 U.S.C. 262-264]?     As a small business that is subject to '\n",
      " 'FDA regulation, you have the right to seek assistance from the U.S. Smail '\n",
      " 'Business Administration (SBA). This assistance includes a mechanism to '\n",
      " 'address the enforcement actions of Federal agencies. SBA has a National '\n",
      " 'Ombudsman’s Office that receives comments from small businesses about '\n",
      " 'Federal agency enforcement actions. If you wish to comment on the '\n",
      " 'enforcement actions of FDA, CALL (888) 734-3247. The website address is '\n",
      " 'www.sba.gov/ombudsman.  FDA has an Office of the Ombudsman that can directly '\n",
      " 'assist small business with complaints or disputes about actions of the FDA.  '\n",
      " 'That office can be reached by calling (301) 796-8530 or by email at '\n",
      " 'ombuds@oc.fda.gov.  For industry information, go to '\n",
      " 'www.fda.gov/oc/industry.        9. SIGNATURE(S) (Food and Drug '\n",
      " 'Administration Employee(s))     10. TYPE OR PRINT NAME(S) AND TITLE(S) (FDA '\n",
      " 'Employee(s))                                1 Applicable portions of Section '\n",
      " '704 and other Sections of the Federal Food, Drug, and Cosmetic Act [21 '\n",
      " 'U.S.C. 374] are quoted below:  Sec. 704(a)(1) For purposes of enforcement of '\n",
      " 'this Act, officers or employees duly designated by the Secretary, upon '\n",
      " 'presenting appropriate credentials and a written notice to the owner, '\n",
      " 'operator, or agent in charge, are authorized (A) to enter, at estapisnments '\n",
      " 'in contérmance with any appiicapie local iaws regulating the practice of '\n",
      " 'pharmacy and medicine and which are regularly engaged in dispensing '\n",
      " 'prescription drugs or devices, upon prescriptions of practitioners licensed '\n",
      " 'to administer such drugs or devices to patients under the care of such '\n",
      " 'practitioners in the course of their professional practice, and which do '\n",
      " 'not, either through a subsidiary or otherwise, manufacture, prepare, '\n",
      " 'propagate, compound, or process drugs or devices for sale other than in the '\n",
      " 'regular course of their business of dispensing or selling drugs or devices '\n",
      " 'at retail: (B) practitioners licensed by law to prescribe or administer '\n",
      " 'drugs, or prescribe or use devices, as the case may be, and who manufacture, '\n",
      " 'prepare, propagate, compound, or process drugs, or manufacture or process '\n",
      " 'devices solely for use in the course of their professional practice; (C) '\n",
      " 'persons who manufacture, prepare, propagate, compound, or process drugs, or '\n",
      " 'manufacture or process devices solely for use in research, teaching, or '\n",
      " 'chemical analysis and not for sale; (D) such other classes of persons as the '\n",
      " 'Secretary may by regulation exempt from the application of this section upon '\n",
      " 'a finding that inspection as applied to such classes of persons in '\n",
      " 'accordance with this section is not necessary for the protection of the '\n",
      " 'public health.  Sec. 704. (a)(3) An officer or employee making an inspection '\n",
      " 'under paragraph (1) for purposes of enforcing the requirements of section '\n",
      " '412 applicable to infant formulas shall be permitted, at all reasonable '\n",
      " 'times, to have access to and to copy and verify any records (A) hearing on '\n",
      " 'whether the infant formula manufactured or held in the facility inspected '\n",
      " 'meets the requirements of section 412, or (B) required to be maintained '\n",
      " 'under section 412.  Sec, 704(b) Upon completion of any such inspection of a '\n",
      " 'factory, warehouse, consulting laboratory, or other establishment, and prior '\n",
      " 'to leaving the premises, the officer or employee making the inspection shall '\n",
      " 'give to the owner, operator, or agent in charge a report in writing setting '\n",
      " 'forth any conditions or practices observed by him which, in his judgment, '\n",
      " 'indicate that any food, drug, device, tobacco product, or cosmetic in such '\n",
      " 'establishment (1) consists in whole or in part of any filthy, putrid, or '\n",
      " 'decomposed substance, or (2) has been prepared, packed, or held under '\n",
      " 'insanitary conditions whereby it may have become contaminated with filth, or '\n",
      " 'whereby “pecretary, upon presenting appropriate creaénudis ana a ‘writen '\n",
      " 'notice to the owner, operator, or agent in charge, are thereafter authorized '\n",
      " '(1) to enter, at reasonable times any area in such factory, warehouse, or '\n",
      " 'establishment in which the manufacturer’s tests (or testing programs) '\n",
      " 'required by section 358(h) are carried out, and (2) to inspect, at '\n",
      " 'reasonable times and within reasonable limits and in a reasonable manner, '\n",
      " 'the facilities and procedures within such area which are related to '\n",
      " 'electronic product radiation safety. Each such inspection shall be commenced '\n",
      " 'and completed with reasonable promptness. In addition to other grounds upon '\n",
      " 'which good cause may be found for purposes of this subsection, good cause '\n",
      " 'will be considered to exist in any case where the manufacturer has '\n",
      " 'introduced into commerce any electronic product which does not comply with '\n",
      " 'an applicable standard prescribed under this subpart and with respect to '\n",
      " 'which no exemption from the notification requirements has been granted by '\n",
      " 'the Secretary under section 359(a)(2) or 359(e),\"  (b}) “Every manufacturer '\n",
      " 'of electronic products shall establish and maintain such records (including '\n",
      " 'testing records), make such reports, and provide such information, as the '\n",
      " 'Secretary may reasonably require to enable him to determine whether such '\n",
      " 'manufacturer has acted or is acting in compliance with this subpart and '\n",
      " 'standards prescribed pursuant to this subpart and shall, upon request of an '\n",
      " 'officer or employee duly designated by the Secretary, permit such officer or '\n",
      " 'employee to inspect appropriate books, papers, records, and documents '\n",
      " 'relevant to determining whether such manufacturer has acted or is acting in '\n",
      " 'compliance with standards prescribed pursuant to section 359(a).”  RARE  (f) '\n",
      " '\"The Secretary may by regulation (1) require dealers and distributors of '\n",
      " 'electronic products, to which there are applicable standards prescribed '\n",
      " 'under this subpart and the retail prices of which is not less than $50, to '\n",
      " 'furnish manufacturers of such  described in section 414, when the standard '\n",
      " 'for records inspection under paragraph (1) or (2) of section 414(a) applies, '\n",
      " 'subject to the limitations established in section 414(d). In the case of any '\n",
      " 'factory, warehouse, establishment, or consulting laboratory in which '\n",
      " 'prescription drugs, nonprescription drugs intended for human use, restricted '\n",
      " 'devices, or tobacco products are manufactured, processed, packed, or held, '\n",
      " 'inspection shall extend to all things therein (including records, files, '\n",
      " 'papers, processes, controls, and ‘an iGasbhavre anes to -fave-access tw alia '\n",
      " 'to copy ana Vverny, such records.  Section 704 (f\\\\(1) An accredited person '\n",
      " 'described in paragraph (3) shall maintain records documenting the training '\n",
      " 'qualifications of the person and the employees of the person, the procedures '\n",
      " 'used by the person for handling confidential information, the compensation '\n",
      " 'arrangements made by the person, and the procedures used by the person to '\n",
      " 'identify and avoid conflicts of interest. Upon the request of an officer or '\n",
      " 'employee designated by the Secretary, the person shail permit the officer or '\n",
      " 'employee, at all reasonable times, to have access to, to copy, and to '\n",
      " 'verify, the records.  Section 512 (1)(1) In the case of any new animal drug '\n",
      " 'for which an approval of an application filed pursuant to subsection (b) is '\n",
      " 'in effect, the applicant shall establish and maintain such records, and make '\n",
      " 'such reports to the Secretary, of data relating to experience, including '\n",
      " 'experience with uses authorized under subsection (a)(4)(A), and other data '\n",
      " 'or information, received or otherwise obtained by such applicant with '\n",
      " 'respect to such drug, or with respect to animal feeds bearing or containing '\n",
      " 'such drug, as the Secretary may by general regulation, or by order with '\n",
      " 'respect to such application, prescribe on the basis of a finding that such '\n",
      " 'records and reports are necessary in order to enable the Secretary to '\n",
      " 'determine, or facilitate a determination, whether there is or may be ground '\n",
      " 'for invoking subsection (e) or subsection (m) (4) of this section. Such '\n",
      " 'regulation or order shall provide, where the Secretary deems it to be '\n",
      " 'appropriate, for the examination, upon request, by the persons to whom such '\n",
      " 'regulation or order is applicable, of similar information received or '\n",
      " 'otherwise obtained by the Secretary.  (2) Every person required under this '\n",
      " 'subsection to maintain records, and every person in charge or custody '\n",
      " 'thereof, shall, upon request of an officer or employee designated by the '\n",
      " 'Secretary, permit such officer or employee at all reasonable times to have '\n",
      " 'access to and copy and verify such records.  2 Applicable sections of Parts '\n",
      " 'F and G of Title Ill Public Health Service Act [42 U.S.C. 262-264] are '\n",
      " 'quoted below: tnerefore tor tne purposes or Section Joy, Immediately Turnisn '\n",
      " 'tne manufacturer with the required information. If a dealer or distributor '\n",
      " 'discontinues the dealing in or distribution of electronic products, he shall '\n",
      " 'turn the information over to the manufacturer. Any manufacturer receiving '\n",
      " 'information pursuant to this subsection concerning first purchasers of '\n",
      " 'products for purposes other than resale shall treat it as confidential and '\n",
      " 'may use it only if necessary for the purpose of notifying persons pursuant '\n",
      " 'to section 359(a).\"  a ae ae  Sec. 360 B.(a) It shall be unlawful-  4) ) eX  '\n",
      " '(2) kEK  (3) “for any person to fail or to refuse to establish or maintain '\n",
      " 'records required by this subpart or to permit access by the Secretary or any '\n",
      " 'of his duly authorized representatives to, or the copying of, such records, '\n",
      " 'or to permit entry or inspection, as required or pursuant to section 360A.\"  '\n",
      " 'wR K RK K  Part G - Quarantine and Inspection  Sec. 361(a) \"The Surgeon '\n",
      " 'General, with the approval of the Secretary, is authorized to make and '\n",
      " 'enforce such regulations as in his judgment are necessary to prevent the '\n",
      " 'introduction, transmission, or spread of communicable diseases from foreign '\n",
      " 'countries into the States or possessions, or from one State or possession '\n",
      " 'into any other State or possession. For purposes of carrying out and '\n",
      " 'enforcing such regulations, the Surgeon General may provide for such '\n",
      " 'inspection, fumigation, disinfection, sanitation, pest extermination, '\n",
      " 'destruction of animals or articles found to be so infected or contaminated '\n",
      " 'as to be sources of dangerous infection to human beings, and other measures, '\n",
      " 'as in his judgment may be necessary.”  ')\n",
      "\n",
      "- - - - - - - - - - - - - - - - - - - - - - - - - - - - - - - - - - - - - - - -\n",
      "\n",
      "Firm Name:  Wells Pharmacy, Inc \n",
      "Record Date:  2021-01-28\n",
      "Topic Probability:  0.9989219307899475\n",
      "Observation: \n",
      "\n",
      "('There is a failure to thoroughly review the failure of a batch or any of its '\n",
      " 'components to meet any of its specifications whether or not the batch has '\n",
      " 'been already distributed.  Specifically,  A. Testosterone 100mg (Lot# '\n",
      " '03182020TN  © mplantable hormonal pellets intended to be sterile, failed  '\n",
      " 'sterility testing for Chaetomium globosum (fungus) after (b) (4) _ '\n",
      " 'sterilization from your third-party contract testing laboratory. Your '\n",
      " 'quality unit noted an 81% recovery of Chaetominm globosum over the last 30 '\n",
      " 'months, with an increasing frequency over the last 12 months. In addition, a '\n",
      " 'third-party janitorial company concluded, “the HVAC system including the(b) '\n",
      " '(4) the air returns, walls, ceilings, and floors of the suite were all '\n",
      " 'contaminated with mold.” Your firm’s quality unit failed to conduct a '\n",
      " 'thorough investigation to address the source of this contamination. For '\n",
      " 'example, but not limited to, your firm’s Vice President of Quality Assurance '\n",
      " 'stated on 09/02/2020, a third-party contractor performed cleanings to '\n",
      " 'eradicate your firm’s fungus/mold concerns. However, Chaetomium globosum was '\n",
      " 'recovered at your facility on 10/07/2020.  According to your firm’s '\n",
      " 'investigation report, provided by your firm’s Vice President of Quality '\n",
      " 'Assurance, various fungus species have been recovered on several occasions '\n",
      " 'between 2018-2020. For example, but not limited to:  Sample Site/Description '\n",
      " '| 1D(Funguy CdS A2: Air Sample -Pellet Press é Penicillium camemberti     '\n",
      " 'A2: Air Sample -Pellet Press 05292018T Nie { sarten spp, Penicillium '\n",
      " 'chrysogemim, Chaetomium globsum Right Fingertips  2: Air Sample -Pellet '\n",
      " 'Press  7: Air Sample -(b) (4) £ mc i p.; Penicillium spp. 5: Air Sample — '\n",
      " 'Supply Rack : Air Sample — Blister Pack Machine  A4; Air Sample — Pellet '\n",
      " 'Press  A15: Air Sample — Bench  (b) (4) Gowning- 06/13/2018           Right '\n",
      " 'Fi  Left Fingertips O6112019TN CReetomium globosum Right Fingertips  Gowning '\n",
      " 'Qualification                                   met Unidentifiable hyaline '\n",
      " 'fungus, Fusarium ., Penicillium chrysogenum, 4) Scopulariopsis spp; '\n",
      " 'Chaetomium     Penicillium spp.; Fusarium proliferatum  /A Penicillium '\n",
      " 'chrysogenum: Fusarium woliferahum                         | Non-sporulating '\n",
      " 'hyaline fi Rhodotorula mucilaginosa 05232019TN@ Pedobacter quisquiliarum  '\n",
      " 'nLuUS  gertips               06132019T . | Chaetomium globosum     IN/A '\n",
      " 'Cladosporium          cladosporioides‘herbarum §21: Surface Sample — Near '\n",
      " 'Supply Rack [A Acrodontium spp.  | LeftFingertips == ——sisi—i<—sSSSsSd TL '\n",
      " \"TQOLOTN'  Chaetomium globosum OF172019TN  Chaetomium globosum  | Right \"\n",
      " 'Fingertips = ——s—~—sSs«*d7222019T NN Chetomium gy  | Right Fingertips = '\n",
      " '————S—Ss«*d8082019TN © Che tomium globosum O9052019TN  Chaetomium globosum  '\n",
      " '| Right Fingertips ——Ss«*(91 2201 9T NO Chazetomium globosum  | '\n",
      " 'LeftFingertips SLO 02019TN Aspergillus sydowii 10102019TN  Chaetomium '\n",
      " 'globosum  A8: Air Sample — Pellet Press area O1082020TN — Aureobasidium '\n",
      " 'pullulans $8: Surface Sample — Pellet Press area 02192020TN  Paecilomyces '\n",
      " 'jormosus        03182020TN a Chaetomtum globosum 043020201TN  Chaetomium '\n",
      " 'globosum  Left Fingertips  06172020TN Chaetomium globosum  Left Fingertips '\n",
      " '06182020T Nim © fomturn globostem  Air sample of pellet press 07 142020TN  '\n",
      " 'Chaetomium globosum  Surface sample of table 07/24/2020 | CPaetomrium '\n",
      " 'globosum  Left Fingertips 08072020T Nag —aetomtum globosum  i Face  Left '\n",
      " 'Fingertips 0731 2020TN Chaetomium globosum  Right Hand Fingertips 08082020TN '\n",
      " '| C#aetomtum globosum a 4 4 r        Left Hand Ox0g2020TN  C#aefomium '\n",
      " 'globosum  Surface sample of the (b) (4) (b) (4) mixer Chaetomium globosum '\n",
      " 'Right Fingertips 10072020 Ng <P 9e forte globosum  During our review of your '\n",
      " 'firm’s investigation report, which references the table listed above, we '\n",
      " 'noted your Quality Unit failed to provide an accurate CFU count when '\n",
      " 'compared to your firm’s Micro ID reports. For example, but not limited to:  '\n",
      " \"Sample Lot Organism Identified by your firm's 3-rd | Your Firm’s \"\n",
      " 'Investigation Site/Description | Number/EM party contractor and CFU Count '\n",
      " 'Report Organism and CFU Description Count  Air Sample (A9) | (b) (4) Total 5 '\n",
      " 'CFUs: 2 CEU: Fusarium spp.,  Surface Sample of the Pellet Press 080820201N  '\n",
      " 'CPaefomtum globosum     Environmental | e 3 CFU: Penicillium chrysogenum '\n",
      " 'Penicillium chrysogenum Monitoring © = 2CKFU: Fusarivn proliferakium  Air '\n",
      " 'Sample (A10) Total 5 CFUs: 1 CFU: Chaetomium  Environmental 3 CFU; Fusarium '\n",
      " 'spp. globsum Monitoring 2CFU: Chaetomium globsum  Air Sample (A?) i Total 7 '\n",
      " 'CFUs: 1 CFU: Fusarium spp.,  © = SCFU: Fusarium spp. Penicillium '\n",
      " 'chrysogenum, © 1CFU: Penicillium chrysogenum Chaetomium globsum © = 1CKU: '\n",
      " 'Chaetomium globsum  Personnel 05292018TN Total 9 CFUs: 3 CFU: Unidentifiabie '\n",
      " 'Monitoring © 6 CFU: Penicillium chrysogenum hyaline fungus, Fusarium (Right '\n",
      " 'Fingertips) © = 2CEU: Fusarium proliferatum spp., Penicillium  ©  1CEU: '\n",
      " 'Unidentifiable hyaline fungus | chrysogenum  Air Sample (A7) 05312018TN™™ '\n",
      " 'Total 6 CFUs: 2 CFU: Chaetomium spp.,  & pm © 5 CFU: Chaetomium spp. '\n",
      " 'Penicillium spp. 05312018TN © 1CFU: Penicillium spp.  Air Sample (45) | (b) '\n",
      " '(4) Total 14 CFU: 2. CFU: Penicillium spp.; Environmental |e 11CFU: '\n",
      " 'Penicillium spp. Fusarium proliferatum Monitoring © 3 CFU: Fusarien '\n",
      " 'proliferatum     Air Sample (A4)_ | (b) (4) Total 7 CFU: 2 CFU: Penicifium '\n",
      " 'Environmental |e 4 CFU: Penicillium chrysogenum. chrysogenum; Fusarium '\n",
      " 'Monitoring © 3 CFU: Fusarium proliferatim proliferatum  Air Sample (A12) | '\n",
      " '(b) (4) Total 15 CFU: I: Chaetomium spp Environmental | © 15 CFU: Chaetomium '\n",
      " 'spp. Monitoring  Your firm continues to present with persistent fungus mold '\n",
      " 'recoveries in your firm’s production areas — please refer to OBSERVATION '\n",
      " '1.B.  Air Sample (Al) | (b) (4) Total 8 CFU: 2 CFU: Penicillium spp.; '\n",
      " 'Environmental |e 6 CFU: Penicillaan spp. Fusarium proliferatum Monitoring © '\n",
      " '2CFU: Fusarium proliferatum        B. Your firm’s environmental and '\n",
      " 'personnel monitoring data show a trend for mold and fungus recoveries in '\n",
      " 'your firm’s production areas. However, your firm has not conducted a '\n",
      " 'thorough investigation, addressed the source of the contamination, or '\n",
      " 'demonsirated the contamination is in a state of control. Your firm continues '\n",
      " 'to produce implantable hormonal pellets.  For example, but not limited to in '\n",
      " '2020:     (b) (4) Fungus/Mold Microorganisms Identified  [Recto aes | a  '\n",
      " 'Bipolaris cynodontis  | pean Cladosporium cladosporioides 7 |  C. Your '\n",
      " 'firm’s quality unit failed to conduct a thorough review of your firm’s (b) '\n",
      " '(4) | gowning results and associated released batch records: *** THIS TS A '\n",
      " 'REPEAT OBSERVATION FROM FDA 483 issued in 2018 (Observation 1)***  IL  '\n",
      " '10/10/2019 -(b) (4) _Routine Personnel Monitoring: Cladosporium '\n",
      " \"cladosporioides (mold) and  ius spp. were recovered on your firm's Pellet \"\n",
      " 'Assistant/Technician (left forearm), initials:  during (b) (4) routine '\n",
      " 'personnel monitoring for gowning on 10/10/2019. According to  your firm’s '\n",
      " 'written procedure for personnel monitoring, routine personnel monitoring is '\n",
      " 'conducted prior to exiting the cleanroom after compounding activities. '\n",
      " 'Personnel monitoring samples were taken after your technician placed each '\n",
      " 'pellet (b) (4) during packaging of Testosterone oume, Lot#10102019TN?4 '\n",
      " 'review of your firm’s batch record for Lot# = 10102019TN documents “n/a” for '\n",
      " 'associated deviations related to Lot# 10102019TN by your firm’s Quality '\n",
      " 'Assurance Supervisor.     According to your firm’s written procedures, '\n",
      " '“growth of fungus or mold automatically upgrades a sample to action level, '\n",
      " '(b) (4) ” and “Lots associated with mold recovery will automatically result '\n",
      " 'in a discard of the lot, after an investigation is completed to identify the '\n",
      " 'root cause.” This batch record was reviewed and approved by your firm’s '\n",
      " 'pharmacist and Senior Quality Assurance Manager and released for '\n",
      " 'distribution.  10/10/2019 - Batch Routine Personnel Monitoring: Chaetomium '\n",
      " 'Globosum (fungus) & Aspergillus Sydowii. (fungus) was recovered on your '\n",
      " \"firm's Pellet Assistant/Technician (gloved fingertips), initials: during \"\n",
      " 'batch routine personnel monitoring on 10/10/2019 during the production of '\n",
      " 'Lot# 10102019TN” “which was produced prior to Lot# 10102019TN™ Your Quality '\n",
      " 'Unit rejected Lot# 1010201 9TN? However, your Quality Unit released Lot# '\n",
      " \"10102019TN?'®  01/20/2020 — Complaint received for Testosterone 50mg, \"\n",
      " 'Lot#10102019TN” ’ complaint was received from the prescribing physician '\n",
      " 'stating the Testosterone 50mg pellets received were “extremely yellow, hard '\n",
      " 'and ‘crusty’”. Your firm’s Quality Unit did not initiate an '\n",
      " 'investigation     (deviation) or conduct any testing on your firm’s retain '\n",
      " 'samples (¢.g., sterility, hardness testing, dissolution). Please refer to '\n",
      " 'OBSERVATION 5.  According to the distribution log, provided by your firm’s '\n",
      " 'Director of Operations, your firm released the following to the public:  Sum '\n",
      " 'of  Qty Lot Number & Drug Product Dispensed  Lot # 10102019T  **(OS) '\n",
      " 'Testosterone 50 mg Pellet  **Testosterone (TN) 50 mg Pellet  Grand Total  '\n",
      " '09/06/2019 -(b) (4)__Routine Personnel Monitoring: Curvylerig '\n",
      " \"pseudobrachyspora (fungus) was recovered on your firm's production employee, \"\n",
      " 'initials: during (b) (4) routine personnel monitoring for gowning on '\n",
      " '09/06/2019 after the production of Testosterone 12.5 mg Pellet (Lot# '\n",
      " '09062019TN? “ind Testosterone (TN) 50 mg Pellet (Lot# 09062019TN This report '\n",
      " 'was received, reviewed, and signed by your Quality Unit on 10/08/2019.     '\n",
      " 'In addition, batch record reviews for Testosterone 12.5 mg Pellet (Lot# '\n",
      " '09062019TN? and  Testosterone (TN) 50 mg Pellet (Lot# 0906201 OTN” Were '\n",
      " 'reviewed and released for distribution by your Quality Unit.  Furthermore, '\n",
      " \"according to your. firm's batch records for these lots, batch fingertip \"\n",
      " 'sampling was not performed on technician ™® who performed weighing and '\n",
      " 'mixing of Testosterone for each  lot. Your firm’s written procedure requires '\n",
      " 'fingertip sampling to be performed on each person involved in the '\n",
      " 'compounding process.  According to the distribution log, provided by your '\n",
      " 'firm’s Director of Operations, your firm released the following to the '\n",
      " 'public:  Sum of Qty Lot Number & Drug Product Dispensed  09062019TN  **(OS) '\n",
      " 'Testosterone 12.5 mg Pellet  **Testosterone (TN) 12.5 mg Pellet  '\n",
      " '09062019TNO)  **(OS) Testosterone 50 mg Pellet **Testosterone (TN) 50 mg '\n",
      " 'Pellet Grand Total     ')\n",
      "\n",
      "- - - - - - - - - - - - - - - - - - - - - - - - - - - - - - - - - - - - - - - -\n",
      "\n",
      "Firm Name:  Fagron Compounding Service LLC dba Fagron Sterile Services\n",
      "Record Date:  2019-06-21\n",
      "Topic Probability:  0.9856562614440918\n",
      "Observation: \n",
      "\n",
      "('Adverse drug event information has not been reported to FDA.  Specifically,  '\n",
      " 'Your firm has received 16 complaints of serious unexpected events concerning '\n",
      " 'lack of pharmacological effect which has not been reported to the FDA.  Year '\n",
      " '2019:  0319- Lack of effect Rocuronium bromide C274-  023,0319-032 injection '\n",
      " '10mg/ml 000008848, C274- 000008698  injection 10mg/ml 000009444 injection '\n",
      " '10mg/ml 000008690 injection 10mg/ml 000008796 20mg/ml 000009398 injection '\n",
      " '10mg/ml 000009443 0519-024 Lack of effect Rocuronium bromide C274- cee ees '\n",
      " '[feels Necon1omgfed | oooooss7 0519-025 Lack of effect Rocuronium bromide -  '\n",
      " 'injection 10mg/ml 000009588  0519-033 Lack of effect C274-     | YL '\n",
      " 'injection 10mg/ml 000009325  0619-002 Lack of effect Phenylephrine HCL C274- '\n",
      " '100mcg/ml 000009992  Year 2018: Complaint #  20mg/ml 000006623 100mcg/ml '\n",
      " '000006801 20mg/ml 000007436 1218-003 Succinylcholine Chloride C274- 20mg/ml '\n",
      " '000006774  Year 2017: Complaint #  0417-001 Lack of effect Rocuronium '\n",
      " 'bromide 161117 @002F injection 10mg/ml        1217-007 Lack of effect '\n",
      " 'Rocuronium bromide C274- injection 10mg/ml 000002186  ')\n",
      "\n",
      "- - - - - - - - - - - - - - - - - - - - - - - - - - - - - - - - - - - - - - - -\n",
      "\n",
      "===============================================================================\n",
      "\n",
      "TOPIC NUMBER  3\n",
      "\n",
      "===============================================================================\n",
      "\n",
      "\n",
      "Firm Name:  Professional Pharmacy Services Inc dba Good Day Pharmacy\n",
      "Record Date:  2019-06-17\n",
      "Topic Probability:  0.9952449202537537\n",
      "Observation: \n",
      "\n",
      "('You produced highly potent drugs without providing adequate containment, '\n",
      " 'segregation, cleaning of work surfaces and cleaning of utensils to prevent '\n",
      " 'cross-contamination.  Specifically,  Equipment, work surfaces, and utensils '\n",
      " 'are used for the production of hormonal products as well as non-hormonal '\n",
      " 'products. Inadequate cross-contamination precautions are established to '\n",
      " 'protect drug products produced on these shared surfaces at the Good Day '\n",
      " 'Longmont location as well as the Good Day Fort Collins location. You have '\n",
      " 'failed to demonstrate that the use of the dish washer and manual cleaning '\n",
      " 'operations (soap and water) are adequate to mitigate cross-contamination of '\n",
      " 'products made on site. Non-dedicated equipment, utensils, and work surfaces '\n",
      " 'include the(b) (4) ‘hood, compounding counter adjacent to the hood, glass '\n",
      " 'stirrers, metal spatulas, glass mortar and pestle, mesh sieves, (b) (4) '\n",
      " 'capsule machines, unguator and mixing blades, ointment mill, troche mold, '\n",
      " 'stir bars, and beakers.  a. On 6/4/2019 you made the following hormone '\n",
      " 'containing prescription products and non-hormone containing prescription '\n",
      " 'products with mixed use equipment, utensils, and workstations:  Testosterone '\n",
      " '10mg Mini Troche Rx (b) (6) roches  Progesterone 100mg IR Capsule Rx (b) '\n",
      " '(6).) -apsules . BIEST (50:50) 0.1mg/gm(b)\\\\ (4) 01.me/em cream Rx (6)i(6).) '\n",
      " '@ Progesterone 75mg SR #1 75mg Capsule Rx (6)/(6). © @-apsules  Enrof '\n",
      " '20mg/Prednisolone eae Oral Suspension Rx (b) (6). (b) (4) Prazosin 0.5mg '\n",
      " 'Capsule Rx (b) (6), b) (4)  Ranitidine 30mg/mL Glycerin Oral Suspension Rx '\n",
      " '(6)\\\\(6) (B) (4)  Clonidine 0.1mg/mL Oral Suspension Rx(b) (6) (b) (4)  b. '\n",
      " 'On 6/7/2019 you made the following hormone containing products and '\n",
      " 'non-hormone containing products with mixed use equipment, utensils, and '\n",
      " 'workstations (b) (4) (B) (4) hood and compounding counter adjacent to the '\n",
      " 'hood):  Estradiol Smg/gm Cream Rx (b) (6) (b) (4)  Estradiol 15mg/gm Cream '\n",
      " 'Rx(b) (6). (®) (4)  ag ES bg Pregnenolone 65mg/ Progesterone 200mg/ '\n",
      " 'Testosterone 0.65mg Sugar Free Troche Rx (6) (6) © @)roches  Testosterone '\n",
      " '16% (160mg/gm) Cream Rx (b) (6) () (4)  Gabapentin 50mg #3 Capsule Rx (6) '\n",
      " '(6). capsules _  Omeprazole 2mg/ml Oral Suspension Rx (6) (6), (D) (4)  ')\n",
      "\n",
      "- - - - - - - - - - - - - - - - - - - - - - - - - - - - - - - - - - - - - - - -\n",
      "\n",
      "Firm Name:  Claremore Compounding Center, Inc.\n",
      "Record Date:  2020-01-24\n",
      "Topic Probability:  0.9919891953468323\n",
      "Observation: \n",
      "\n",
      "('There is no written testing program designed to assess the stability '\n",
      " 'characteristics of drug products.  Specifically, your firm does not have a '\n",
      " 'written stability testing program to determine Beyond Use Dates '\n",
      " '(BUD)/expiration dates placed on all your drug products. For example,  a) '\n",
      " 'Lot #95371 of Dry Skin Moisturizing (OTC) 5% - 1% Cream (containing © and '\n",
      " 'hydrocortisone) made on 11/20/19 was assigned a BUD of 360 days.  b) Lot '\n",
      " '#94404 of CCC Cold Max 100-5-10-2mg per 5mL suspension (containing '\n",
      " 'guaifenesin, phenylephrine HCl, chlorpheniramine Maleate and '\n",
      " 'dextromethorphan hydrobromide) made on 10/1/19 was assigned a BUD of 180 '\n",
      " 'days.  c) Lot #94402 of CCC Coughist PE 100-5-2mg per 5mL suspension '\n",
      " '(containing guaifenesin, phenylephrine HCl, and chlorpheniramine maleate) '\n",
      " 'made on 10/1/19 was assigned a BUD of  180 days.  d) Jungle Juice Liquid '\n",
      " '(containing (b) (4) and lidocaine): Lot #92698 made on 7/9/19, lot #93496 '\n",
      " 'made on 8/16/19, and lot #94749 made on 10/17/19 were each assigned a BUD of '\n",
      " '360 days.  e) Jungle Ointment (containing (DB) (4) hydrocortisone and '\n",
      " 'lidocaine): Lot #92655 made on 7/5/19 and lot #92915 made on 7/19/19 were '\n",
      " 'each assigned a BUD of 360 days.  f) Psoria-Stop (Coal Tar/HC) OTC 5%-1% '\n",
      " 'Ointment (containing coal tar topical solution and hydrocortisone): Lot '\n",
      " '#92724 made on 7/10/19 and lot #94694 made on 10/15/19 were each assigned a '\n",
      " 'BUD of 180 days.  ')\n",
      "\n",
      "- - - - - - - - - - - - - - - - - - - - - - - - - - - - - - - - - - - - - - - -\n",
      "\n",
      "Firm Name:  Hospira Inc\n",
      "Record Date:  2020-01-17\n",
      "Topic Probability:  0.9882946610450745\n",
      "Observation: \n",
      "\n",
      "('Control procedures are not established which monitor the output and validate '\n",
      " 'the performance of those manufacturing processes that may be responsible for '\n",
      " 'causing variability in the characteristics of in- process material and the '\n",
      " 'drug product.  Specifically, th (6) (4) System used to wash, rinse (b)(4) '\n",
      " 'and sterilize components that are used in the manufacturing of aseptically '\n",
      " 'produced products (liquid, lyophilized vials, and carpujects) has not been '\n",
      " 'adequately qualified. There is no assurance that an adequate amount of (b) '\n",
      " '(4)  used to wash components (i.e.: stoppers, plungers and other (b)(4) ) '\n",
      " 'has been dispensed properly; there is a lack of assurance the proper amount '\n",
      " 'of (b)(4) is dispensed properly as is not  monitored, and at various points '\n",
      " 'during the cycle, the required temperature (i.e. \"C) is not maintained '\n",
      " 'and/or the temperature falls below the specification limit. The '\n",
      " 'abovementioned parameters were established during the qualification '\n",
      " 'performed on October 25, 1996, Operational Qualification Procedure, QP2840QP '\n",
      " 'and has not been reassessed.  ')\n",
      "\n",
      "- - - - - - - - - - - - - - - - - - - - - - - - - - - - - - - - - - - - - - - -\n",
      "\n",
      "===============================================================================\n",
      "\n",
      "TOPIC NUMBER  4\n",
      "\n",
      "===============================================================================\n",
      "\n",
      "\n",
      "Firm Name:  Novel Laboratories, Inc. d.b.a LUPIN\n",
      "Record Date:  2020-11-05\n",
      "Topic Probability:  0.9995096921920776\n",
      "Observation: \n",
      "\n",
      "('REPEAT OBSERVATION  There is a failure to thoroughly review any unexplained '\n",
      " 'discrepancy and the failure of a batch or any of its components to meet any '\n",
      " 'of its specifications whether or not the batch has been already '\n",
      " 'distributed.  Specifically,  A. The firm’s contract testing laboratory '\n",
      " 'reported an OOS result of MM ppb for TOC analysis (specification: NMT (BN) '\n",
      " \"for (ET collected on 06/24/2019 from the' | § Site# a located in \"\n",
      " 'manufacturing area of Building! The firm failed to initiate an investigation '\n",
      " 'for this OOS result until approximately 1 year later on (# LAB-00046) and '\n",
      " 'concluded in the investigation report stating, “As per the investigation, a '\n",
      " 'review of online TOC readings, for 06/23/2019, 06/24/2019 and 06/25/2019, '\n",
      " 'revealed that the TOC readings were within limit. The root cause does not '\n",
      " 'seem to be related to the operation of SNAG system or method used for '\n",
      " 'testing. It is more likely that the sample was contaminated during '\n",
      " 'collection / transportation. Based on the acceptable results for other '\n",
      " 'POU’s, it can be concluded from the investigation that it is an isolated '\n",
      " 'event and that the OOS TOC result was most likely due to sample '\n",
      " 'contamination during collection / transportation. There was no impact as no '\n",
      " 'product was processed with QS from (AE since the last passing TOC result.”  '\n",
      " 'The Quality Unit failed to investigate the following:  Somerset, NJ '\n",
      " '08873-1145 [ Brug Product Manufacturer     1. The Quality Unit failed to '\n",
      " 'review the TOC print outs collected from the return loop.  The Quality Unit '\n",
      " 'reviewed the (G)@MH entered TOC data by the operators into the * -8@) log '\n",
      " 'book”, book # 027 issued from 04/24/2019 to 09/17/2019 but never compared '\n",
      " 'the accuracy with the print outs. A review of TOC print outs, which are the '\n",
      " 'raw data of TOC readings, revealed that failed TOC results were disregarded, '\n",
      " 'and incorrect data was entered into the logbook. This discrepancy was '\n",
      " 'identified at the time of inspection.     Reading as per Return loop On-line '\n",
      " 'TOC | Documented reading of TOC on “I Date analyzer print-out - Equipment # '\n",
      " '(54) (B® system - logbook” (Action Li ww (Action Limit — 06/13/2019 | _ b. '\n",
      " '06/20/2019 ppb pb                            2. The Quality Unit failed to '\n",
      " 'perform an impact assessment of all products manufactured at the facility '\n",
      " 'during this period. A review of on-line TOC analyzer print-outs revealed '\n",
      " 'multiple failures from 06/13/2019 to 07/26/2019 in the return loop of '\n",
      " '{S)N4YH Water System as shown below:  Reading as per Return loop On-line TOC '\n",
      " 'analyzer - Date Time (Action Limit —  06/13/2019 7:11AM to 8:02 AM pb '\n",
      " '06/19/2019 8:15 AM to 10:38 AM 1b 06/20/2019 3:52 AM to 8:22 AM b b '\n",
      " 'b                    07/1/2019 9:57 AM to 10:44 AM           07/26/2019 6:43 '\n",
      " 'AM to 7:20 AM        3. The Quality Unit shared the responsibility with '\n",
      " 'Operations for the review of (G)(@) Water analytical results received from '\n",
      " 'the Contract Testing Laboratory. The OOS result received by the Validation '\n",
      " 'Manager were not logged in and hence no investigation was initiated for (54) '\n",
      " 'by the Quality Unit.     Somerset, NJ 088/3-1145 | brug Product '\n",
      " 'Manutacturer     B. OOS-19-023 was initiated on 06/13/2019 to probe the OOS '\n",
      " 'results obtained during cleaning verification analysis associated with '\n",
      " 'Orphenadrine Citrate ER Tablets, 100 mg USP, batch# $900734. Orphenadrine '\n",
      " 'citrate residue results o: g/swab for the  Lig/swab for samples of the  '\n",
      " 'cleaning limit of NMT              Tablet Press (Equipment ID# 0626), did '\n",
      " 'not meet the established ug/swab. The reinjection of the original vial and '\n",
      " '(G4) samples confirmed the initial OOS and no assignable cause could be '\n",
      " 'identified for the failure. During the review of chromatograms from initial '\n",
      " 'analysis a peak was observed at run time (~ that was not integrated in '\n",
      " 'sample swabbed from . Also peak at ~ n@e@is sample was not integrated. No '\n",
      " 'further investigation was performed to identify the peaks. Multiple unknown '\n",
      " 'peaks were also observed in samples swabbed from  and 4 The investigation is '\n",
      " 'silent on the identity of the unknown peaks in cleaning validation analysis. '\n",
      " 'From 4 the firm conducted fi cleaning validation studies and ff failed to '\n",
      " 'meet acceptance criteria. Manufacturing investigation CFI-OOS-19-023 was '\n",
      " 'initiated along with CFI-OOS-19-060 to investigate CV failures for '\n",
      " 'Orphenadrine citrate residue results generated on (SQ respectively. The '\n",
      " 'manufacturing investigation focused on the cleaning method and attributed '\n",
      " 'the failure to steps related to the cleaning of the (B)X@)ENNF for the (JR '\n",
      " 'Tablet Press and did not address to investigate the source of unknown peaks '\n",
      " 'in the chromatograms. The investigation concluded that Orphenadrine Citrate '\n",
      " 'tablets is a (BE. based product and is hard to clean from the (4) CAPA-00202 '\n",
      " 'was initiated on 5/31/20 to update SOP NL-PR-106 to provide an improved '\n",
      " 'cleaning method for removing Orphenadrine Citrate from the BI (b) (4). SOP '\n",
      " 'NL-PR-106 was updated in June of 2020. The Hydrocodone bitartrate/APAP '\n",
      " 'Tablets USP (7.5/325mg-S900294, $900295 and $900471; 10/325mg — $900472) '\n",
      " 'batches were manufactured  (between (STG) without verifying cleaning through '\n",
      " 'swab results remains questionable.     Swab Result - Root Date Manufactured '\n",
      " 'Ee pgm? | Limit Bevan Cause/CAPA  Failed a) RBMP-076-098 om | ow '\n",
      " 'DEV-19-002,  Somerset, NJ 08873-1145 [brug Product Manutacturer Insufficient '\n",
      " 'om Recleaned, passed | Cleaning/3 CV to be continued RBMP-076-098 oo | Oe '\n",
      " 'Pass NA batches of Hydrocodone bitartrate/APAP Tablets USP Failure to '\n",
      " 'implement a ee She No swab taken and not reported CAPA, No deviation '\n",
      " 'initiated batches of Hydrocodone bitartrate/APAP Tablets USP $900473 $900474 '\n",
      " 'oo | o@ Pass NA of Hydrocodone bitartrate/APAP Tablets '\n",
      " 'USP                                                                                 '\n",
      " 'Failed, $900732, $900733, oy og OOS-19-023 No CAPA $900734 wore) Recleaned, '\n",
      " 'Fail initiated Recleaned, Pass  oe Pass N/A Failed, Difficult to '\n",
      " 'wa)           $900858, 900859     OOS-19-060 clean the ‘based formulation/ '\n",
      " 'CAPA to update cleaning procedure     $901106, $901107, $901108, 900906  '\n",
      " 'Recleaned, Pass                          C. OOS-19-028 was initiated on '\n",
      " '06/20/2019 to probe the OOS results obtained in swab samples from and the '\n",
      " '(5) Pan on the SG Capsule Weight Checker (ID #2017)  following cleaning '\n",
      " 'verification testing for Trimethobenzamide HCI] Capsules, USP 300mg batch '\n",
      " '$801333. Samples were swabbed after cleaning Capsule weight checker. OOS '\n",
      " 'results of tg/swab and (B)KA) j1g/swab were obtained for samples swabbed '\n",
      " 'from (4) and Pan, respectively, against a specification of (S)4)MB/swab '\n",
      " 'cleaning limit.  somerset, NU Us8s/3-114> [.vrug vroauct manuracturer     '\n",
      " 'The (BRA of the original vial and (@)MBYI samples confirmed the initial OOS '\n",
      " 'and no assignable laboratory error could be identified for the failure. '\n",
      " 'During the review of chromatograms from initial analysis unknown peaks at '\n",
      " 'and were observed in multiple samples. Additionally, unknown peaks at and '\n",
      " 'were observed in swab samples from (ora)  and Pan along with OOS results for '\n",
      " 'Trimethobenzamide HCI residue. The residue limits were at of the '\n",
      " 'specification for swab sample from (OM swab). The investigation concluded '\n",
      " 'that the failure is due to improper cleaning of equipment. The equipment was '\n",
      " 'recleaned and again samples were swabbed for determination of '\n",
      " 'Trimethobenzamide HCI residue. Unknown peaks were again observed at a. O24 '\n",
      " 'and (60 in chromatograms from (SRG after recleaning. No further '\n",
      " 'investigation was performed to identify the peaks. The firm’s procedure SOP '\n",
      " 'No. NL- QC-023. 14- Laboratory Investigations, Section 2.6.3 deficiently '\n",
      " 'states that investigation is only required when  A cross-functional '\n",
      " 'investigation (CFI-OOS-19-028) was initiated to identify the root cause. '\n",
      " 'Based on investigation it was identified that the capsule weight checker '\n",
      " 'would accumulate powder and should be completely dismantled during each '\n",
      " 'cleaning.  The equipment was utilized for the processing of Flucytosine '\n",
      " 'Capsules, USP 250mg (Batch $900123) and the weight checker parts were not '\n",
      " 'dismantled for cleaning prior to the processing of Trimethobenzamide HCI '\n",
      " 'Capsules, USP 300mg, Batch $801333. The investigation was not extended to '\n",
      " 'evaluate the presence of Flucytosine contamination in Trimethobenzamide.  In '\n",
      " 'addition, the analytical method used in determination of Trimethobenzamide '\n",
      " 'HCI residue was not validated in appropriate ranges for linearity and '\n",
      " 'accuracy to cover the initial and current MAC concentrations of, am rom '\n",
      " '01/21/11-05/27/20) and (ONY (since 05/27/20) as detailed in Observation 4A, '\n",
      " 'thus giving no assurance that the residue amounts reported from cleaning '\n",
      " 'verification residues are accurate.  Somerset, NJ 08873-1145 [ Drug Product '\n",
      " 'Manufacturer     D. On 3/17/2020, the firm received a complaint regarding '\n",
      " 'the presence of a foreign particle embedded on Hydrocodone/Acetaminophen '\n",
      " 'Tablets 10mg/325mg, batch $901339. Based on the firm’s investigation, '\n",
      " 'CN-000073, the black particle was identified as (BY rubber containing a '\n",
      " 'filler. The root cause was identified as loose black particles shedding from '\n",
      " 'a mount of the| used during manufacturing process. Upon examination of the '\n",
      " 'Equipment ID # 819, which was utilized for manufacturing of the subject bulk '\n",
      " 'batch $901086 on , the firm identified that the mounts under the {J had an '\n",
      " 'appearance of shedding particles. During handling of drums while (b) (4) '\n",
      " 'operation, the particles could fall into the blend, and move forward to '\n",
      " 'compression, encapsulation or packaging of finished product. This (J) was '\n",
      " 'identified as a non-dedicated machine utilized for multiple products. The '\n",
      " 'firm neither expanded the investigation to {MM other batches of '\n",
      " 'Hydrocodone/Acetaminophen Tablets 10mg/325mg of the same campaign, nor other '\n",
      " 'products manufactured using this (JM@. It was noted that (EN i is also used '\n",
      " 'in GaviLyte N manufacturing and similar contaminants were observed during '\n",
      " 'in-process inspection of packaging operation (DEV- SO-859-19-0024 and '\n",
      " 'DEV-SO-859-19-0025).  The firm received a complaint (DPC-SO-851-19-0007) on '\n",
      " 'January 7, 2019 regarding the presence of ” dark grayish-blue specks in the '\n",
      " 'product GaviLyte N (Lemon), batch $801021 (Expiry September 2021). Based on '\n",
      " 'the investigation, the external laboratory identified the dark specks as '\n",
      " 'red-brown particles of metallic nature primarily found in tin corrosion '\n",
      " 'products. The investigation concluded that the foreign material was most '\n",
      " 'likely introduced after the batch left from the facility. It was noted that '\n",
      " 'multiple (five) incidents were reported during in-process check during '\n",
      " 'packaging of GaviLyte products which were identified as metal contaminants. '\n",
      " 'The firm could not identify a proper root cause  on 3 out of 5 incidents, '\n",
      " 'The firm does not have in the packaging line utilized for GaviLyte products. '\n",
      " 'The firm manufactured about batches between 2019 to 2020.  Date of '\n",
      " 'packaging     Deviation # | Batch Nature of observation                    '\n",
      " 'Somerset, NU U8873-1145 [Prug product Manutacturer        DEV-SO- Black '\n",
      " 'specks found during in-process check. Inspection of filler $900913 | '\n",
      " '07/18/2019 | showed that the {B)N@Jl was scrapping the inside of the (B)N4). '\n",
      " 'Batch  was destroyed. Additional in-process check initiated.  DEV-SO- Black '\n",
      " 'specks found during in-process check. Inspection of filler  $900958 | '\n",
      " '07/25/2019 | showed that the (GJ was scrapping the inside of the (MBP. '\n",
      " 'Batch  was destroyed. Additional in-process check initiated.  A single black '\n",
      " 'particle during in-process check. The black particle was  DEV-SO- 901141 | '\n",
      " '08/28/2019 | !aer discarded inadvertently, so could not identify the '\n",
      " 'particle. A  859-19-0013     859-19-0015     859-19-0020 definitive root '\n",
      " 'cause could not determine. Batch was released after  discarding the bottles '\n",
      " 'prior to the observation.  Foreign particles were identified during '\n",
      " 'in-process checks which was DEV-sO- identified as fibrous plant matter, '\n",
      " 'rusted steel, black piece $901503 | 11/12/2019 | of {BM} and (BPA) filler, '\n",
      " 'and steel particle. Discarded  859-19-0024     the prior filled bottles and '\n",
      " 'rest of the batch was released. A definitive root could not be determined.  '\n",
      " 'Foreign particles were identified during in-process checks which was '\n",
      " 'identified as fibrous plant matter, rusted steel, black piece $901502 | '\n",
      " '11/14/2019 | of {JR and (BYNB filler, and plain steel particle. Discarded '\n",
      " 'the prior filled bottles and rest of the batch was released. A definitive '\n",
      " 'root could not be determined.     DEV-SO- 859-19-0025                 F. The '\n",
      " 'site initiated an OOS investigation (# LAB-00014) on 2/20/2020 when Nystatin '\n",
      " 'Topical Powder, USP 100,000 units/gram (15g and 30g) batches $801331 (CRT, '\n",
      " '(S)N4J—E. TB502205) and $800703 CRT 18M (185023002) failed specifications '\n",
      " 'for antimicrobial assay. The contract testing lab generated the microbial '\n",
      " 'assay value of: (8% and (9%, (Limit: (NM). Since then the site has not '\n",
      " 'tested any Nystatin subsequent batches for ongoing stability and the '\n",
      " 'investigation remains open. These are (54) stability batches that represent '\n",
      " 'the actual product in the market. Deficiencies observed in LAB-00014 '\n",
      " 'include:     1. OOS results were discovered on 2/18/2020. The site completed '\n",
      " '(} hypotheses tests and did not find a conclusive root cause. During '\n",
      " 'Hypothesis fl the site prepared the new samples from the same impacted '\n",
      " 'batches and confirmed the original results with some variability. However, '\n",
      " 'the site     Somerset, NJ U88/3-1145 | brug Proauct Manufacturer     '\n",
      " 'continued testing of the samples (expired and R&D batches) for Hypothesis '\n",
      " '(4. The investigation remains open as of 09/24/2020.  2. The site did not '\n",
      " 'qualify this particular contract testing lab and did not have a quality '\n",
      " 'agreement in place at the start of inspection on 9/10/2020.  G. Out of '\n",
      " 'Expectation OOE LAB00009 was initiated on 2/14/2020 when extraneous peaks '\n",
      " 'were observed greater than the unknow limit (NMT (§)M@)) during dissolution '\n",
      " 'testing of Quinapril HCl and Hydrochlorothiazide Tablets, 10 mg, /12.5 mg, '\n",
      " 'Batch # $900101 12M CRT, $900102 12M CRT, 800861 18M CRT samples. These '\n",
      " 'peaks were observed in all the dissolution samples. The extraneous peaks '\n",
      " 'were observed at nm for hydrochlorothiazide and at  time at b] nm for '\n",
      " 'quinapril. The site concluded  the analyst did not the dissolution samples '\n",
      " 'as per test procedure. However, the analyst’s notebook  pages indicated the '\n",
      " 'samples were (JN) as per test procedure.        H. Multiple OOSs were '\n",
      " 'reported for microbiological tests, TOC and (S)(@NII from routine water '\n",
      " 'sampling of (BBY) Water System of building (BY) between 6/24/2019 to '\n",
      " '9/9/2020. Each OOS investigation was concluded as isolated incidents. The '\n",
      " 'incidents were not evaluated in the context of multiple related or similar '\n",
      " 'OOS excursions. (SJB) Water from building manufacturing of Potassium '\n",
      " 'Chloride Oral Solution USP 20%, and for cleaning of many manufacturing and '\n",
      " 'packaging equipment utilized for [BJ and oral products. The firm’s on-line '\n",
      " 'conductivity analyzer of return loop, (©) 4) recorded numerous excursions '\n",
      " 'above (b) (4) (action limit: (RAY from June 2019 to June 2020. The firm did '\n",
      " 'not consistently track the actions taken during online TOC excursions those '\n",
      " 'are above alert and action limits. The Quality Unit never initiated any '\n",
      " 'deviation nor investigated these excursions.          is utilized for the  '\n",
      " 'The following OOSs listed below indicates a continuous trend of microbial '\n",
      " 'contamination in the  (b) (4) Water System:     Somerset, NU U8s73s-1145 '\n",
      " '[preg _Froauct manuracturer     1. 06/24/2019: The firm’s Contract Testing '\n",
      " 'Laboratory reported an Out of specification result of (M9 ppb for TOC '\n",
      " 'analysis (specification: NMT (BNE) for (PAP Water collected on 06/24/2019 '\n",
      " 'from a Point of Use, (IG. Site# fH located at Production Room # (4M in '\n",
      " 'Building (BM). The firm initiated an investigation, LAB-00046 only on '\n",
      " '7/25/2019 due to the delay in receiving the results from the Contract '\n",
      " 'Testing Laboratory. Based on the firm’s investigation, the root cause does '\n",
      " 'not seem to be related to the operation of (5)MAYH Water System or method '\n",
      " 'used for testing and it was more likely that the sample was contaminated '\n",
      " 'during collection / transportation. It was noted that the on-line TOC '\n",
      " 'readings were above specification on multiple days between 6/13/2019 and '\n",
      " '7/26/2019 as detailed under observation 1(2A). These excursions were not '\n",
      " 'evaluated in the investigation, LAB-00046. No CAPA was proposed. The '\n",
      " 'investigation remains open as of 10/2/2020 (approximately (S)I@M).  2. '\n",
      " '04/01/2020: The firm’s Contract Testing Laboratory reported an OOS for ) in '\n",
      " 'water samples taken from the samplq®J{@ Site 4/SV-601 which is located . The '\n",
      " 'sample (SV601-040120) was collected on 04/01/2020 and the reported was fu/mL '\n",
      " '(Specification: NMT (@)@0). The firm was made aware of the OOS result on '\n",
      " '04/06/2020, however, the firm failed to initiate an investigation.     3. '\n",
      " '4/23/2020: Water sample collected on 04/22/2020, from Site /SV-304, located '\n",
      " \", tested positive for total (b) 4) (Li '). The firm’s  investigation, \"\n",
      " 'LAB-00044 does not identify the source of, complex. During review of '\n",
      " 'maintenance records of (SK) Water System, it was noticed that on 5/6/2020, a '\n",
      " 'service was performed by the external service company for (S)4jl Water '\n",
      " 'System and fixed a steady leak from (GJ tank. In addition, the service '\n",
      " 'company noted that the PM) was leaking from (BMG). This activity was never '\n",
      " 'logged into the Equipment/Utility/Facility Logbook (4) # 0697, which is used '\n",
      " 'for the documentation of maintenance activities of (BJM) Water System. The '\n",
      " 'Quality Unit was aware of these defects and still concluded that “There were '\n",
      " 'also no known physical defects in the water distribution system which could '\n",
      " 'have caused contamination of the incoming water supply”. No CAPA was '\n",
      " 'proposed.          Somerset, NJ 08873-1145 [Drug Product Manufacturer     4. '\n",
      " '06/03/2020: The firm’s Contract Testing Laboratory reported an OOS for  }) '\n",
      " 'in water samples taken from the sample {MM Site Hisv-co which is located pa '\n",
      " '. The sample (SV601-060320) was collected on 06/03/2020 and the reported was '\n",
      " 'greater than [MM cfu/mL (Specification: NMT (O@N).  Investigation, LAB-00049 '\n",
      " 'was initiated to probe the Out of specification results obtained for plate '\n",
      " 'count for the water sample site #9 SV601-040120 collected on 04/01/2020 '\n",
      " 'cfwmL) and $V601-060320 on 06/03/2020. The contract testing laboratory '\n",
      " 'identified (Gram-negative) in the sample collected on 04/01/2020 and  in the '\n",
      " 'sample collected on 06/03/2020 from the same sampling oe. The firm '\n",
      " 'deficiently concluded that the risk is minimal since the organisms were '\n",
      " 'detected prior to PJ. However, historical data shows that water samples '\n",
      " 'collected on 10/31/2019 from user points after area, (4) @ CFU/ mL), (BY GB '\n",
      " 'CFv/ mL), °FU/ mL) and (I G2 CFU/ mL). This contradicts the firm’s '\n",
      " 'conclusion that disinfection can eliminate the gram- negative organisms from '\n",
      " 'the water system. No CAPA is initiated. The investigation remains open as of '\n",
      " '10/2/2020 (approximately (BN).  5. 09/09/2020: The firm’s contract '\n",
      " 'laboratory reported an OOS for on 09/17/20 for sample collected on 09/09/20 '\n",
      " '(Result Mj CFU/ml, Limit NUT FU/ml) from a Point of Use - (ey). An OOS was '\n",
      " 'opened (LAB-00096) to investigate the root cause of the failure. The '\n",
      " 'investigation remains open.           }) was identified in the located in '\n",
      " 'the manufacturing          The site initiated BM Out of Expectation '\n",
      " 'Investigations (LAB 00051 and OOE 19-016) for extraneous peaks observed in '\n",
      " 'Hydrocodone and Homatropine Tablets, Smg /1.5 mg commercial release and '\n",
      " 'stability samples as below:  a. LAB 00051 was initiated on 6/19/2020 when '\n",
      " 'extraneous peaks were observed during release testing (for dissolution) in '\n",
      " 'three batches of Hydrocodone and Homatropine Tablets, Smg /1.5 mg CII USP '\n",
      " 'for batch # $000577, S000579 and $000580.     Somerset, NJ 08873-1145 Drug '\n",
      " 'Product Manufacturer        b. OOE 19-016 was initiated on 9/6/2019 when an '\n",
      " 'extraneous peak was observed during stability testing (for dissolution) in '\n",
      " 'one batch (S900437 3M CRT) of Hydrocodone Bitartrate and Homatropine '\n",
      " 'Methylbromide Tabs USP Smg/1.5 mg. Based upon further spectra studies '\n",
      " 'utilizing a (BMH detector, the site concluded the spectra of the extraneous '\n",
      " 'peak matches with the spectra of Acetaminophen.  In LAB 00051, the site '\n",
      " 'identified contaminated glassware as the potential root cause; however, the '\n",
      " 'investigation does not explain how a single contaminated pipette can produce '\n",
      " 'extraneous peaks with different peak areas in some samples but not others. '\n",
      " 'The investigation did not include a historical review of similar OOE '\n",
      " 'investigations, such as OOE 19-016 pertaining to the same product.  Other '\n",
      " 'investigations initiated for extraneous peaks include:     Batches  OOS No. '\n",
      " 'Product Involved Impacted  Brief Summary     900762, | OOS result for % '\n",
      " 'Chloride was observed during cts Cavite. | 3900753, | (BINA Analysis and 9 '\n",
      " 'for CU (Chloride) did not o0s-19-027 | Gavilste-C, Gavilyte- | soo907 3M | '\n",
      " 'meet the specification. Extraneous peak of % was CRT observed during PEG '\n",
      " 'analysis during CU and (Gavliyte G) | Assay analysis     Cleaning '\n",
      " 'verification  tiegai ag © pry Extraneous peak at R (GIG) min did not meet '\n",
      " 'the CFI-DEV-17-212 e $700755 specification for APAP residue. Sample Area:  '\n",
      " '[Equipment 409821; Standard Area: (B)N@)  1D#0340           merset, NJ '\n",
      " '08873-1145 | Drug Product Manufacturer     Cleaning Verification  . HCB/APAP '\n",
      " '10 Z ‘ CFLDEV-17-216 | 167395 mg $700837 | the APAP eo ug/swab did not meet  '\n",
      " 'uipmentIDH0894 specification of | iswab  OOS result obtained during cleaning '\n",
      " 'verification,     Dexmethylphenidate | S701150A- | An Extraneous peak '\n",
      " 'with(ij% at fiiJmin found  Cone HCL, USP 2.5 mg I8MCRT | during Dissolution '\n",
      " 'analysis     Oxycodone HCI Tabs,  OOB-19-024 + | sooisoo BU | At extraneous '\n",
      " 'peak (at ff\") at about (b) (4). 30 mg during] analysis     5 extraneous '\n",
      " 'peaks ranging from approx. if OOE-19-025 Denreetiyipneniiae M65 904 r= '\n",
      " 'observed during dissolution testing of  HCL, USP 2.5 mg. CRT 63M  vessel | '\n",
      " 'Out of Expectation (extraneous peak) during dissolution analysis for '\n",
      " 'Quinapril HCl and $900101 Hydrochlorothiazide Tablets, 10 mg /12.5 mg, Batch '\n",
      " '# $900101 12M CRT, $900102 12M CRT,  $800861 18M CRT Extraneous peaks were '\n",
      " 'observed at (BJA) time Hydrocodone about (BE and during LAB-00051 '\n",
      " 'Homatropine Tabs $000577 dissolution testing for Hydrocodone and 5/1.Smg CII '\n",
      " 'Homatropine Tablets, Smg /1.5 mg CII USP for batch # $000577, $000579 and '\n",
      " 'S000580.     Quinapril HCTZ  LAB O0009) 10/12.5mg x 500ct                    '\n",
      " 'J. Deviation DEV-00302: This Deviation investigation was initiated after the '\n",
      " 'temperature excursion of 102°F was observed for the (b) (4) Refrigerator '\n",
      " 'ID#0493 (normal temp OCG i in the | Building QM Warehouse from 07/31/2020 to '\n",
      " '08/18/2020. The warehouse is maintained at a controlled room temperature but '\n",
      " 'the cooling fan in the refrigerator malfunctioned and the refrigerator '\n",
      " 'reached | over 100°F. The Deviation DEV-00302 was created on 08/07/2020 and '\n",
      " 'it stated that the Date of Discovery as 08/05/2020 and the Date of '\n",
      " 'Occurrence as 08/01/2020 however, the samples from the Refrigerator ID#0493 '\n",
      " 'were removed on 08/04/2020 (1 day earlier than the noted Date of Discovery) '\n",
      " 'and the Work Order was requested on 08/07/2020 (8 days after the excursion). '\n",
      " 'As of the deviation  Somerset, NJ 08873-1145 [ Drug Product Manufacturer     '\n",
      " 'due date 09/18/2020, no investigation was performed and the impact analyses '\n",
      " 'of the retain samples that were stored above (b) (4) for (b) (4) © were not '\n",
      " 'conducted. The retain refrigerator contained & Batches of various Raw '\n",
      " 'Materials and APIs and fj batches of Finished Product Voriconazole for Oral  '\n",
      " 'Suspension (G58.  ')\n",
      "\n",
      "- - - - - - - - - - - - - - - - - - - - - - - - - - - - - - - - - - - - - - - -\n",
      "\n",
      "Firm Name:  ImClone Systems, L.L .C. \n",
      "Record Date:  2020-08-21\n",
      "Topic Probability:  0.998195469379425\n",
      "Observation: \n",
      "\n",
      "('There is a failure to thoroughly review any unexplained discrepancy and the '\n",
      " 'failure of a batch or any of its components to meet any of its '\n",
      " 'specifications whether or not the batch has been already distributed.  '\n",
      " 'Specifically,  Incidents that occur during GMP activities that may have '\n",
      " 'impact on the quality of products are classified as either “Observation” or '\n",
      " '“Deviation” in the (6)(4))) system (SOP# QAS-NC-0001). While an '\n",
      " '“Observation” does not require investigation, a “Deviation” requires '\n",
      " 'investigation to find the root cause and potential corrective actions are '\n",
      " 'taken. Below are instances where the firm failed to conduct a detailed '\n",
      " 'investigation when serious GMP violations occurred in the production area. '\n",
      " 'Instead, the firm recorded these occurrences as an “Observation” and closed '\n",
      " 'the incident without documenting all the investigation details, the root '\n",
      " 'causes surrounding the issue and implementing CAPAs, In other instances, we '\n",
      " 'observed that the firm’s “Deviation” investigations are deficient in finding '\n",
      " 'root causes that are supported by scientifically sound evidence.  For '\n",
      " 'example,  A. TRA An “Observation” titled, * :; Batch Discarded” in(6)\\\\(4))) '\n",
      " 'was opened on 5/27/2020 and closed on 5/28/2020. This Observation documented '\n",
      " 'very limited information and did not provide any investigative details. '\n",
      " 'However, upon further inquiry during this inspection, the firm’s Vice '\n",
      " 'President, Manufacturing stated that the firm conducted an investigation and '\n",
      " 'identified potential data However, no such details were provided in the '\n",
      " 'closed (b) (4) document. He also stated that the CITY, STATE ZIP CODE '\n",
      " 'COUNTRY TYPE ESTABUSHMENT (NSPECTED Branchburg, NJ 08876-3904 Biological '\n",
      " 'Drug Substance Manufacturer  personnel involved in these GMP violations are '\n",
      " 'no longer employed with the firm due to the firm’s investigative findings '\n",
      " 'and the severity of the issue. This (6)(4) 7) record was not elevated as a '\n",
      " '“Deviation” despite the firm’s Deviation Management procedure, QAS-NC-0001, '\n",
      " 'requiring classification as “Deviation” when there is a departure from '\n",
      " 'quality standards like “controls in place to protect or assure product '\n",
      " 'quality” and “GMP compliance requirements”. The firm’s rationale for not '\n",
      " 'opening a Deviation investigation is documented in this (BY) Observation '\n",
      " 'report as “This was an isolated occurrence”. However, we found similar '\n",
      " 'incidents, where incorrect materials or material lots were used by '\n",
      " 'operators, second person verified and signed, and have been reported as an '\n",
      " '“Observation” and closed without further investigation:  1. TRH PX@MEXC). '\n",
      " '‘This Observation record was opened approximately four months earlier on '\n",
      " '1/20/2020 and closed on 1/21/2020 (Observation Title: een SS > batch '\n",
      " 'discarded”). 2. TR# @XOM@XC): This Observation record was opened '\n",
      " 'approximately four months earlier on 1/24/2020 and closed on the same day '\n",
      " '(Observation Title: ~ 24 3. TR# PXGNMPOX): This Observation record was '\n",
      " 'opened on 5/8/2020 and closed on 6/17/2020 (Observation Title: * ey,  It '\n",
      " 'cannot be determined from the (b) (4) 7) Observation write-up for the four '\n",
      " 'TR#s mentioned above  who the Operators are and if any corrective and '\n",
      " 'preventive actions were put in place. are used during critical purification '\n",
      " 'steps of drug substances for anc(b) (4)  of the columns and for formulation '\n",
      " 'of drug substances.             B. M2): A Deviation titled, “Atypical resuft '\n",
      " '(unexpected peaks) in (6)(4)) profile for Caleanenateb Drug Substance” in '\n",
      " '(b) (4) was opened on 2/19/2019 and closed on 10/21/2019. On 2/13/2019, '\n",
      " 'Galcanezumab drug substance, (LOT# D039975, Run# R2Y1I8R05S1) showed an '\n",
      " 'unexpected increased peak area in the electropherogram when tested for '\n",
      " '(6)(4) 7) by ) Non-reduced method QCA-GN.- cunt srave cw ean O49, ). The '\n",
      " 'analyst. without conducting an investigation. retested Branchburg, NJ '\n",
      " '08876-3904 Biological Drug Substance Manufacturer  using a different sample '\n",
      " 'on 2/28/2019 ((b) (4)  the original result and the new data was released i '\n",
      " 'in LIMS. The product was released on 3/18/2019. However, on 3/25/2019, after '\n",
      " 'identifying the missing root cause investigation, the firm added a '\n",
      " 'hypothesis study with a rationale, *             . This study was based upon '\n",
      " 'the hypothesis that the root cause was a laboratory error if a retest of '\n",
      " 'different sample gave a passing result. However, the investigation did not '\n",
      " 'extend to find what caused a potential sample contamination and the source '\n",
      " 'of the extra peak and prevent future recurrence. According to the firm’s '\n",
      " 'written procedure, QCA-GN-0001, “Investigations of Out of Specification and '\n",
      " 'Atypical Test Results”, a minimum of (6)(@) I) retest is required if a root '\n",
      " 'cause cannot be identified.  C. TR# @@HMXC): This Deviation investigation '\n",
      " 'was initiated after Out of Specification (OOS) results  were obtained for '\n",
      " 'from the swab samples taken during the (6)(4) Cleaning Monitoring o and on '\n",
      " '11/01/2018. The root cause, identified in this Deviation Record for the OOS '\n",
      " 'results for (6)(@), that cleaning of the!) with IPA prior  to use, had no '\n",
      " 'scientific justification. The tanks were cleaned using the validated '\n",
      " 'cleaning cycle however, samples gave the following OOS results '\n",
      " '(specification: |) ppb):  5 SA DO i  a rr a — a a  Due to an ongoing trend '\n",
      " 'of (®)(4) OOS samples, the firm previously conducted a study on 10/26/2018 '\n",
      " 'to identify the sampling process that may have caused the (6)(4) failures '\n",
      " 'and reported that the IPA  wit) DENIS Gr UY¥US MAUI IThe DS AOUOnMEN) Mer '\n",
      " 'EVIGU  Branchburg, NJ 08876-3904 Biological Drug Substance Manufacturer  '\n",
      " 'cleaned sample . which is used to carry the stoppered vials containing the '\n",
      " 'swab back to the lab, contains (6) (4) results between {/)(6) (4) ppb(b) (4) '\n",
      " 'The firm proposed in TR# OOMME that  the IPA cleaned was the most probable '\n",
      " 'root cause for this recent set of OOS '\n",
      " 'results.                                                      ppb. In '\n",
      " 'addition, the Deviation Record and the study lack details and do not explain '\n",
      " 'how the samples are prepared, what samples are filled in the vials for Test '\n",
      " '()@) and the descriptions of the different modes of transport for Test ® '\n",
      " 'Furthermore, when the Cleaning Monitoring was repeated on | 1/16/2018, only '\n",
      " 'the S areas were re-sampled (out of \"® areas) yet the tanks were released '\n",
      " 'and used in the subsequent processing and re-cleaned. These are used in '\n",
      " 'support of US commercial product Galcanezumab, and Dulaglutide which is '\n",
      " 'pending approval.  However, the OOS samples were observed se ppb above the '\n",
      " 'specification of(6) (4)  LABORATORY CONTROL SYSTEM ')\n",
      "\n",
      "- - - - - - - - - - - - - - - - - - - - - - - - - - - - - - - - - - - - - - - -\n",
      "\n",
      "Firm Name:  Novel Laboratories, Inc. d.b.a LUPIN\n",
      "Record Date:  2020-11-05\n",
      "Topic Probability:  0.98989337682724\n",
      "Observation: \n",
      "\n",
      "('The quality control unit lacks responsibility to approve and reject all '\n",
      " 'procedures or specifications impacting on the identity, strength, quality '\n",
      " 'and purity of drug products.  Specifically,  The MAC values for the products '\n",
      " 'listed in Table below were updated on 5/27/2020. The analytical method '\n",
      " 'validations were performed covering the initial range. On revision of MAC '\n",
      " 'values the analytical methods  Somerset, NJ 08873-1145 | Drug Product '\n",
      " 'Manufacturer Despite the failure in acceptance criteria this method was '\n",
      " 'adopted at the Somerset location and were not revalidated as of 10/27/2020 '\n",
      " 'to cover the linearity and accuracy range to meet the '\n",
      " 'current                       Oxycodone/Acetamin ophen Tablets y     '\n",
      " 'Temazepam Capsules  )  Trimethobenzamide HCI Capsules *     Carbidopa '\n",
      " 'Tablets *     Oxycodone HCI Oral Solution*              )     The products '\n",
      " 'marked with an asterisk are still being manufactured after the revision of '\n",
      " 'MAC values without ensuring that the analytical method covers appropriate '\n",
      " 'validated range to cover the MAC concentration.     fomerset, NJ U8873-1145 '\n",
      " 'Drug Product Manutacturer        ')\n",
      "\n",
      "- - - - - - - - - - - - - - - - - - - - - - - - - - - - - - - - - - - - - - - -\n",
      "\n",
      "===============================================================================\n",
      "\n",
      "TOPIC NUMBER  5\n",
      "\n",
      "===============================================================================\n",
      "\n",
      "\n",
      "Firm Name:  ImClone Systems, L.L .C. \n",
      "Record Date:  2020-08-21\n",
      "Topic Probability:  0.9948580861091614\n",
      "Observation: \n",
      "\n",
      "('Laboratory controls do not include the establishment of scientifically sound '\n",
      " 'and appropriate test procedures designed to assure that drug substances '\n",
      " 'conform to appropriate standards of identity, strength, quality and purity.  '\n",
      " 'Specifically,  The! (6) (4) obtained for purity method by (6)(4) — _—) are '\n",
      " 'not consistently  cannot be reproduced, and remain uncontrolled. The Quality '\n",
      " 'Control Laboratory analysts routinely perform  to process their methods for '\n",
      " 'three commercial products, Galcanezumab, Necitumumab, and Ramucirumab. The '\n",
      " 'techniques are used to                      at the analyst’s discretion. '\n",
      " 'However, there is no describes the requirements  Branchburg, NJ 08876-3904 '\n",
      " 'Biological Drug Substance Manufacturer  and conditions under which!) '\n",
      " ')))))))(6)(4) can be performed using to ensure consistency. Furthermore, the '\n",
      " 'firm does not require analysts to justify for the need to perform  The '\n",
      " 'current practice is to apply the (yi) and use to (BY A).  For example, the '\n",
      " 'purity method by® for Galcanezumab, “Determination of Purity of (6) 4)  ), '\n",
      " 'showed that the analyst reported eaks and utilized for the Sample, and '\n",
      " 'reported \"peaks and utilized for the Reference  Standard (b) (4) total '\n",
      " 'Reference Standard injections). Every injection with the exception of the '\n",
      " 'blank in the sequence run contained |) (6) (4) to \" YY (YA) peaks. However, '\n",
      " 'review of | (6) A) indicated  no justification for the 77 (6) (4) of | (6) '\n",
      " '(4) to ™ out of a total of peaks. In addition, different  ))@) are performed '\n",
      " 'for each injection, yet the sequence run shows one processing '\n",
      " 'method.            *DATES OF INSPECTION 07/27/2020(Mon), 07/28/2020(Tue), '\n",
      " '07/29/2020( Wed), 07/30/2020 (Thu), 08/03/2020(Mon), 08/07/2020(Fri), '\n",
      " '08/10/2020(Mon), 08/11/2020(Tue), 08/13/2020(Thu), 08/19/2020(Wed) and '\n",
      " '08/21/2020(Fri)     Section 704(b) of the Federal Food, Drug, and Cosmetic '\n",
      " 'Act (21 USC 374(b)) provides:                                           '\n",
      " '“Upon completion of any such inspection of a factory, warehouse, consulting '\n",
      " 'laboratory, or other establishment, and prior to leaving the premises, the '\n",
      " 'officer or employee making the inspection shall give to the owner, operator, '\n",
      " 'or agent in charge a report in writing setting forth any conditions or '\n",
      " 'practices observed by him which, in his judgment, indicate that any food, '\n",
      " 'drug, device, or cosmetic in such establishment (1) consists in whole or in '\n",
      " 'part of any filthy, putrid, or decomposed substance, or (2) has been '\n",
      " 'prepared, packed, or held under insanitary conditions whereby it may have '\n",
      " 'become | contaminated with filth, or whereby it may have been rendered '\n",
      " 'injurious to health. A copy of such report shall be sent promptly to the '\n",
      " 'Secretary.”  ')\n",
      "\n",
      "- - - - - - - - - - - - - - - - - - - - - - - - - - - - - - - - - - - - - - - -\n",
      "\n",
      "Firm Name:  Edge Pharma, LLC\n",
      "Record Date:  2020-03-30\n",
      "Topic Probability:  0.9939889311790466\n",
      "Observation: \n",
      "\n",
      "('Appropriate controls are not exercised over computers or related systems to '\n",
      " 'assure that changes in master production and control records or other '\n",
      " 'records are instituted only by authorized personnel.  Specifically,  A. '\n",
      " 'Appropriate controls are not exercised over computers or related systems to '\n",
      " 'assure that changes are instituted only by authorized personnel. For '\n",
      " 'example, on 3/9/20, the admin login and password for the firm’s (b) (4) '\n",
      " 'software were observed on a sticky note immediately adjacent to the (b) (4) '\n",
      " 'computer system. This software is used to perform endotoxin release testing '\n",
      " 'of drug products purported to be sterile.  B. Numerous examples of a lack of '\n",
      " 'GMP document control were observed during the inspection. For example, all '\n",
      " 'firm personnel have access to a central data folder containing numerous GMP '\n",
      " 'documents and forms. In addition, blank forms such as QC Chemistry loose '\n",
      " 'sheets and OJT training forms, and OC Microbiology forms such as sterility '\n",
      " 'testing and (b) (4) _ ____ were observed uncontrolled and throughout the '\n",
      " 'firm.  C. Complete record of all GMP data is not maintained. For example, '\n",
      " 'partial GMP documents to include QC Chemistry loose sheets and OJT training '\n",
      " 'forms were found located in the firm’s shred bin. Further, a Sterility '\n",
      " 'Testing of Sterile Batches and Preparations from (Form Code F- QMR-005.A), '\n",
      " 'was found completed, reviewed and signed off by Quality, in the firm’s shred '\n",
      " 'bin. A different original F-QMR-005.A form was noted in the sterile drug '\n",
      " 'product’s batch record. The firm’s procedure, S-GEN-005 — Good Documentation '\n",
      " 'Practices (GDP) Procedure, prohibits this practice.  Deficiencies regarding '\n",
      " 'controls over computers or related systems were also noted during the 2018 '\n",
      " 'inspection.  ')\n",
      "\n",
      "- - - - - - - - - - - - - - - - - - - - - - - - - - - - - - - - - - - - - - - -\n",
      "\n",
      "Firm Name:  ImClone Systems, L.L .C. \n",
      "Record Date:  2019-11-26\n",
      "Topic Probability:  0.9939093589782715\n",
      "Observation: \n",
      "\n",
      "('Appropriate controls are not exercised over computers or related laboratory '\n",
      " 'systems.  Specifically, Quality Control (QC) laboratory data stored on '\n",
      " 'multiple stand-alone equipment computer systems are not secured from '\n",
      " 'modification or deletion. We observed that QC laboratory personnel could '\n",
      " \"delete an entire folder found within the firm’s shared drive “(b) (4) _ ' \"\n",
      " 'where data derived from stand-alone QC laboratory equipment computer systems '\n",
      " 'are stored. For example, a QC laboratory employee demonstrated that they '\n",
      " 'could create a test data folder and delete that folder from the computer '\n",
      " 'ayotemn attached to the UV spectrometer Guliwere: (b) (4) ~~ Other computer '\n",
      " 'systems where data is not : (b) (4) m), UV- Vis (Software: (b) (4) _), qPCR  '\n",
      " '4) (0) (4) _ Densitometer (Software: yk ) and FTIR (Software: (b) (4) _). '\n",
      " 'These berate instruments are routinely. used for testing of drug substances '\n",
      " 'such as Cetuximab, Ramucirumab, Necitumumab and Galcanezumab, which are '\n",
      " 'utilized in the production of drug products that are distributed in the U.S. '\n",
      " 'market.     a y m 7 DB Lo] =p = a = a ——        *DATES OF INSPECTION '\n",
      " '11/12/2019(Tue), 11/13/2019(Wed), 11/14/2019(Thu), 11/15/2019(Fri), '\n",
      " '£1/18/2019(Mon), | 1/19/2019(Tue), 11/20/2019(Wed), 11/21/2019 Thu), '\n",
      " '11/25/2019(Mon) and | 1/26/2019(Tue)  Section 704(b) of the Federal Food, '\n",
      " 'Drug, and Cosmetic Act (21 USC 374(b)) provides:  “Upon completion of any '\n",
      " 'such inspection of a factory, warehouse, consulting laboratory, or other '\n",
      " 'establishment, and prior to leaving the premises, the officer or employee '\n",
      " 'making the inspection shall give to the owner, operator, or agent in charge '\n",
      " 'a report in writing setting forth any conditions or practices observed by '\n",
      " 'him which, in his judgment, indicate that any food, drug, device, or '\n",
      " 'cosmetic in such establishment (1) consists in whole or in part of any '\n",
      " 'filthy, putrid, or decomposed substance, or (2) has been prepared, packed, '\n",
      " 'or held under insanitary conditions whereby it may have become contaminated '\n",
      " 'with filth, or whereby it may have been rendered injurious to health. A copy '\n",
      " 'of such report shall be sent promptly to the '\n",
      " 'Secretary.”                                                                  ')\n",
      "\n",
      "- - - - - - - - - - - - - - - - - - - - - - - - - - - - - - - - - - - - - - - -\n",
      "\n",
      "===============================================================================\n",
      "\n",
      "TOPIC NUMBER  6\n",
      "\n",
      "===============================================================================\n",
      "\n",
      "\n",
      "Firm Name:  Novel Laboratories, Inc. d.b.a LUPIN\n",
      "Record Date:  2020-11-05\n",
      "Topic Probability:  0.9960824847221375\n",
      "Observation: \n",
      "\n",
      "('The written stability program is not followed.  Specifically, analytical '\n",
      " 'testing of the (SJ) stability batches is not completed as required under SOP '\n",
      " '(No. NL-ST-001.4, Administration of Stability Program, Effective Date: '\n",
      " '2/6/2020). Section 6.10.1 of this SOP requires that testing of the stability '\n",
      " 'samples must be completed within ()@ of the pull date. However, as of '\n",
      " '9/28/2020 stability testing of the following (S)M4J batches is still '\n",
      " 'pending.     Days since pulled and 9/28/2020  Storage | time point | '\n",
      " 'Scheduled Date  Name of the Product | Batch# Condition pull date '\n",
      " 'pulled        | Nystatin Topical = Powder, USP 100,000 | sgo1331 | MPCAEPRH  '\n",
      " 'Units/Gram ‘Nystatin Topical  Powder, USP 100,000 | sgo0703 | MPCAEPORH '\n",
      " 'Units/Gram Nystatin Topical pmo Powder, USP 100,000 | 17023 | MPCAEPRH '\n",
      " 'Units/Gram ‘Nystatin Topical  Powder, USP 100,000 | sgoo14s | MPCAPRH '\n",
      " 'Units/Gram  (CRT)     (CRT)     (CRT)                       '\n",
      " '(CRT)                 (CRT)     Tablets, USP 10mg cH  Nystatin Topical '\n",
      " 'Powder, USP 100,000 | soo1z64 | MPCHEPORH Units/Gram  Somerset, NJ '\n",
      " '08873-1145 Drug Product Manufacturer Nystatin Topical Z Powder, USP 100,000 '\n",
      " '| mi7024a | fi oe Units/Gram Eecmry (CRT) Nystatin Topical romper     '\n",
      " '(CRT)     Nystatin Topical Powder, USP 100,000 | ssoo290 | fi’CfMPsRH '\n",
      " 'Powder, USP 100,000 | $901265  Units/Gram.  Units/Gram (CRT) Nystatin '\n",
      " 'Topical Mirc#oru     Methylphenidate  Hydrochloride 901607 | M°CHRH Powder, '\n",
      " 'USP 100,000 | $900493  Units/Gram (RT)  (CRT) Nystatin Topical @ec@eru  '\n",
      " 'Powder, USP 100,000 | $900492 Units/Gram CEQ  Ec@ru CR BPcaprn CR cm ri CR  '\n",
      " 'tc -fFc (Long Term)                                            Somerset, NJ '\n",
      " '08873-1145 Drug Product Manufacturer WecHru (CRT ‘Nystatin Topical a Powder, '\n",
      " 'USP 100,000 | ssoo703 | M\"cfMyRH Units/Gram (CRT) . ecwp“re Generic Osmoprep '\n",
      " '$090002 (CRT) me 7 Becmra Generic Osmoprep $090002 (Acc) Nystatin Topical \" '\n",
      " 'Powder, USP 100,000} sgoo14s | El ae Units/Gram              Other '\n",
      " 'deficiencies observed in stability testing include:  e Approximately {4M '\n",
      " 'stability samples were not tested within the (BJIBV period. © Approximately '\n",
      " 'fi samples were tested (5) days after the scheduled test completion date.  '\n",
      " 'Most of the batches in the aforementioned table are (b) (4) stability '\n",
      " 'batches that represent the actual product in the market. During the year of '\n",
      " '2019, the site manufactured fii Nystatin commercial batches as below:     '\n",
      " 'Product Info Batch No. Expiry date Jun/2021  Jun/2021 Jul/2021 Jul/2021 '\n",
      " 'JuV/2021 Jan/2021                 Somerset, NJ 08873-1145 Drug Product '\n",
      " 'Manufacturer     Jan/2021 Jan/2021 Apr/2021  ‘Apr/2021 Apr/2021           ')\n",
      "\n",
      "- - - - - - - - - - - - - - - - - - - - - - - - - - - - - - - - - - - - - - - -\n",
      "\n",
      "Firm Name:  US Specialty Formulations LLC\n",
      "Record Date:  2019-07-23\n",
      "Topic Probability:  0.9908322095870972\n",
      "Observation: \n",
      "\n",
      "('Results of stability testing are not used in determining expiration dates.  '\n",
      " 'Specifically,  a) Multivitamin lot 01RH0413A was retested after having been '\n",
      " 'expired for 5 months and issued a new label with an additional 6 month '\n",
      " 'expiration date.  Lot 01RH0413A was filled on April 13, 2016 and issued an '\n",
      " 'expiration date of October 13, 2016. On February 21, 2017 the expired '\n",
      " 'product was relabeled as lot 01RJ1506A and issued an expiration date of '\n",
      " 'November 3, 2017. The relabeled lot was released on February 27, 2017.     '\n",
      " 'EMPLOYEEIS) SIGNATURE DATE ISSUED  b) Expiration dating is not supported by '\n",
      " 'stability data. For example:  e Lot 01RMI1504A, Ethanol was labeled with a 2 '\n",
      " 'year expiration; stability data for this drug product is only available for '\n",
      " '18 months.  e Lot 01RMI1514A, Monsel’s Paste was labeled with a3 year '\n",
      " 'expiration; stability data for this drug product is only available for 18 '\n",
      " 'months.  e Lot 0IRK1507A, Pyridoxine was labeled with a 1 year expiration; '\n",
      " 'stability data for this drug product is only available for 9 months.  e Lot '\n",
      " '01RKI514A, Methylcobalamin was labeled with a 1 year expiration; stability '\n",
      " 'data for this drug product is only available for 6 months.  ')\n",
      "\n",
      "- - - - - - - - - - - - - - - - - - - - - - - - - - - - - - - - - - - - - - - -\n",
      "\n",
      "Firm Name:  Maitland Labs of Central Florida\n",
      "Record Date:  2020-02-28\n",
      "Topic Probability:  0.9890178442001343\n",
      "Observation: \n",
      "\n",
      "('There is a failure to thoroughly review any unexplained discrepancy and the '\n",
      " 'failure of a batch or any of its components to meet any of its '\n",
      " 'specifications whether or not the batch has been already distributed.  '\n",
      " 'Specifically,  a. Your firm failed to follow your SOP #PRO-7.052 entitled, '\n",
      " '“Inspection Checks for Parenteral Products”, Section 6.4.10 which states, '\n",
      " '“(b) (4)  ”  . This failure is evidenced by your firm not investigating when '\n",
      " '93 vials of Nalbuphine HCL, 10mg/ImL, lot #20200108, compounded 1/8/20, exp: '\n",
      " '1/30/21 (b) (4) vials produced) failed visual inspection for fibers. Your '\n",
      " 'firm’s Owner stated he believes the fibers were generated by the vial '\n",
      " 'supplier, but no corrective or preventative actions have been taken by the '\n",
      " 'firm.  b. On 1/8/20, during the (D) (4) ((B) (4) of Nalbuphine HCL, '\n",
      " '10mg/ImL, lot 420200108 (®) (4) vials) the (DB) (4) ) alerted the following '\n",
      " 'alarms: exhaust rate too fast and door unsealed. The firm conducted '\n",
      " 'maintenance of the (b) (4) on 1/13/20 which resulted in the and(®) @) kit '\n",
      " 'being replaced on the (BD) (4) (b) (4) .(b) (4). repair kit and(b) (4) — kit '\n",
      " 'replacement, (b) (4) gauge replacement and the (Bb) (4) __ located on the '\n",
      " '(b) (4) repaired. The firm failed to evaluate the impact of the above listed '\n",
      " 'alarms on the batch of Nalbuphine HCL, 10mg/1mL, lot #20200108.  ')\n",
      "\n",
      "- - - - - - - - - - - - - - - - - - - - - - - - - - - - - - - - - - - - - - - -\n",
      "\n",
      "===============================================================================\n",
      "\n",
      "TOPIC NUMBER  7\n",
      "\n",
      "===============================================================================\n",
      "\n",
      "\n",
      "Firm Name:  Fusion IV Pharmaceuticals, Inc. dba Axia Pharmaceuticals\n",
      "Record Date:  2019-12-20\n",
      "Topic Probability:  0.9982351064682007\n",
      "Observation: \n",
      "\n",
      "('Procedures designed to prevent microbiological contamination of drug '\n",
      " 'products purporting to be sterile are not followed.  Specifically, A.  '\n",
      " 'Observed on 12/3/2019, during the aseptic processing of Methylpredinsolone '\n",
      " 'Acetate batch 12022019+53297, technician dispensed from the ie | bag onto '\n",
      " 'the table top of the laminar flow workstation and use each vial (Theoretical '\n",
      " 'yield ™™ unit vials). Your firm is not followmg your standard operating '\n",
      " 'procedure document number 4.71 titled, “Aseptic Processing Requirements and '\n",
      " 'Technique” which reads in section 7.1.10, “Compounding personnel shall not '\n",
      " 'use a gloved hand to touch any product contact surfaces, but should use '\n",
      " 'appropriately sterilized utensils (e.g., forceps), as needed.”        B.  '\n",
      " 'Observed on 12/11/2019 in the ISO 5 aseptic filling room, aseptic filling '\n",
      " 'operator performed Pee interventions during the ‘it filling of Glutathione '\n",
      " 'batch 12102019+53365 without routinely sanitizing hands. I observed the '\n",
      " 'operator open the cabinet door of the filling machine (ISO 5) and perform '\n",
      " 'interventions at least nissan stopping and starting the machine, dispensing '\n",
      " 'components in the hopper, manipulate capped vials inside the filling machine '\n",
      " 'for approximately a ae period. Your firm is not following your standard '\n",
      " 'operating procedure document number 4.71 tiled, “Aseptic  Processing '\n",
      " 'Requirements and Technique” which reads in section 7.1.11, “Compounding '\n",
      " 'personnel shall change sterile gloves on a frequent basis or disinfect them '\n",
      " 'routinely with OI during prolonged compounding manipulations.”  C.  You did '\n",
      " 'not perform investigations into the root cause of media fill sterility '\n",
      " 'failures for media fill runs performed in ISO 5 Laminar Flow Workstations '\n",
      " '(LAFWs) from Pe. Turbidity was observed in the solutions. You failed to '\n",
      " 'investigate the root cause for the following media fill failures prior to '\n",
      " 'producing and distributing sterile products. See four examples found below:  '\n",
      " '1  Run cil (ail syringe); Summary report PO) RPT notes the following fill '\n",
      " 'runs passed:  Resa                   However, the “Summary of Validation '\n",
      " 'Discrepancies” reads “there was a failure noted”. Media fill number @ 5 is '\n",
      " 'noted as failed. Your firm failed to investigate the failure per your SOP '\n",
      " '4.80, titled, “Validation Protocol for Aseptic Process Simulations”. It '\n",
      " 'reads in section 9.1.1.1., “Any positive units, deviations, or discrepancies '\n",
      " 'must be investigated and shown to have no impact on the validation. In '\n",
      " 'addition, your firm could not provide the batch production record for this '\n",
      " 'failed trial run  a:  Run Type sail Onl vial); Summary report Ln RPT notes '\n",
      " 'the following media fill runs passed:               The “Summary of '\n",
      " 'Validation Discrepancies” reads “there was a failure noted”. The summary '\n",
      " 'report does not list the failure. However, it was found media fill run me] '\n",
      " 'PRD contained the failure. The batch production record for media fill run '\n",
      " 'PO) POW reads the media solution was aseptically The solution “turned turbid '\n",
      " 'after 2 and was not filled into the vials”. Media fill run was replaced with '\n",
      " 'media fill     Your firm failed to investigate the failure per your SOP '\n",
      " '4.80, titled, “Validation Protocol for Aseptic Process Simulations”. It '\n",
      " 'reads in section 9.1.1.1., “Any positive units, deviations, or discrepancies '\n",
      " 'must be investigated and shown to have no impact on the validation.  3. Run '\n",
      " 'Typ validation 2@ 7) filling machine Aseptic Processing Simulation (al '\n",
      " 'vial); Summary report RPT notes the following fill runs passed:      The '\n",
      " '“Summary of Validation Discrepancies” reads “there was a failure noted”. The '\n",
      " 'summary report does not list the failure. Your firm failed to investigate '\n",
      " 'the failure per your SOP 4.80, titled, “Validation Protocol for Aseptic '\n",
      " 'Process Simulations”. It reads in section 9.1.1.1., “Any positive units, '\n",
      " 'deviations, or discrepancies must be investigated and shown to have no '\n",
      " 'impact on the validation.  4. Run Typ mo vial); Summary report = | RPT notes '\n",
      " 'the following media fill runs  passed:  The “Summary of Validation '\n",
      " 'Discrepancies” reads “there was a failure noted”. The summary report does '\n",
      " 'not list the failure. However, it was found media fill run ) contained the '\n",
      " 'failure. The batch production record for media fill run eee 3) reads “AP has '\n",
      " 'been  cancelled due to turbidity of solution after approximately in room '\n",
      " 'temperature.” Media fill run was replaced with media '\n",
      " 'fill                     Your firm failed to investigate the failure per '\n",
      " 'your SOP 4.80, titled, “Validation Protocol for Aseptic Process '\n",
      " 'Simulations”. It reads in section 9.1.1.1., “Any positive units, deviations, '\n",
      " 'or discrepancies must be investigated and shown to have no impact on the '\n",
      " 'validation.  Failure to perform investigations into the root cause of media '\n",
      " 'fill sterility failures for media fill runs is a repeat objectionable '\n",
      " 'observation listed on the FDA 483 inspection dated March 2017.  D.  All '\n",
      " 'media vials from the Aseptic Process Simulation are not being incubated. For '\n",
      " 'example; the Aseptic  Processing simulations for th ial filler Report ID# '\n",
      " 'details Run POW lot  number III yielded a) ] vials; however onl were '\n",
      " 'incubated.  Run lot numbe ielded Pe only PA vials were incubated. Ruy lot '\n",
      " 'number ielded vials only? vials incubated. Justification provided  in the '\n",
      " 'batch record stated it was due to “space constraints”. Therefore, your firm '\n",
      " 'selected every 20) vial  to be incubated.            EB.  Your firm is not '\n",
      " 'following SOP 3.40 Cleaning and Disinfection in Sterile Compounding Areas, '\n",
      " 'version 4 section 4.3. Quality Unit is responsible for reviewing '\n",
      " 'documentation of the cleaning of the contracted cleaning personnel '\n",
      " 'performing the cleaning of the cleanroom suites and laminar flow '\n",
      " 'workstations. There is no review by signature on they cleaning logs '\n",
      " 'completed by the cleaning contractor for the months of October and November '\n",
      " '2019. There is no Check By signature on the an  cleaning logs completed by '\n",
      " 'the cleaning contractor for the months of October and November 2019.  ')\n",
      "\n",
      "- - - - - - - - - - - - - - - - - - - - - - - - - - - - - - - - - - - - - - - -\n",
      "\n",
      "Firm Name:  Advanced Nutriceuticals, LLC\n",
      "Record Date:  2020-10-29\n",
      "Topic Probability:  0.9960649013519287\n",
      "Observation: \n",
      "\n",
      "('The final containers/closures used for drug product intended to be sterile '\n",
      " 'were not  sterilized or (b) (4) A) vials were not appropriately handled and '\n",
      " 'stored to ensure sterility at time of use, speciticall bags are reused for '\n",
      " 'storing sterile vials after the vials are  example, your vials are purchased '\n",
      " 'non-sterile and . Your sterile technician stated they wrap vials wit efore '\n",
      " 'placing it into th and after completing a cycle it is taken into the ISO 5 '\n",
      " 'Cleanroom hood  to be aseptically packed into non-sterile bags. According to '\n",
      " 'your sterile technican, the vials are wiped down with sterile and sterile '\n",
      " 'wipes inside the ISO 5 hood  before storing in a bag. When asked if the bags '\n",
      " 'are ever reused for storing (b) (4) vials, your sterile technician stated '\n",
      " 'yes.                      In addition, unused vials were stored in a '\n",
      " 'non-sterile (4) bag and reused in subsequent  batches without further '\n",
      " 'sterilization. For example, after your sterile technician aseptically '\n",
      " 'filled  Selank LOT 1016202002 on 10/16/2020, there were four unused opened '\n",
      " 'vials left in the ISO 5  Cleanroom hood. We observed your sterile-technician '\n",
      " 'place these four vials back into a  bag containing other HYG) vials. Your '\n",
      " 'sterile technician stated that vials that have been and have been brought '\n",
      " 'into the ISO 7 Cleanroom is considered stored regardless  of however many '\n",
      " 'times the vials are taken out of the (b) (4) bag.     You produced sterile '\n",
      " 'drug products using non-sterile (b) (4) the ISO 5 Cleanroom Hood. These '\n",
      " 'vials are used on following products but are not limited to: LL- 37 '\n",
      " '2000MCG/ML, Thymosin Beta 2000MCG/ML, Thymosin Alpha 2000MCG/ML, GHRP '\n",
      " '2000MCG/ML, Semax 1000MCG/ML, Selank 1O0OOMCG/ML, Ipamorelin 2000MCG/ML, '\n",
      " 'BPC-157 2000MCG/ML, and Testosterone Cypionate w/ Olive Oil 200MG/ML 10ML.  '\n",
      " 'B) Opened packages of tamper-evident sterile syringe caps are saved and '\n",
      " 'reused in a subsequent batch. Specifically, on 10/20/2020 we observed your '\n",
      " 'dispensary staff (b) G)use tamper-evident caps from an existing opened '\n",
      " 'package stored in the unclassified Dispensary Area to fill Testosterone '\n",
      " 'Cypionate w/ Olive Oil LOT (Om EXP 11/30/2020 into from a stock solution '\n",
      " 'into four 1ML syringes.  For example:  e From 08/03/2020 to 09/25/2020, '\n",
      " 'dispensary staff filled and dispensed approximateh batches of Testosterone '\n",
      " 'Cypionate w/ Olive Oil in the Dispensary Area from stock solutions into '\n",
      " 'syringes. The expiry dates for the stock solutions were assigned to these '\n",
      " 'repackaged drug products. Each batch contained (b) (4) syringes for a  '\n",
      " 'supplies. e From 08/03/2020 to 09/25/2020 dispensary staff filled and '\n",
      " 'dispensed approximately I batches of Nandrolone w/ Olive Oil in the '\n",
      " 'Dispensary Area from stock solutions into  syringes. The expiry dates for '\n",
      " 'the stock solutions were assigned to these filled dru products. Each batch '\n",
      " 'contained (b) (4) syringes for a supplies.  ')\n",
      "\n",
      "- - - - - - - - - - - - - - - - - - - - - - - - - - - - - - - - - - - - - - - -\n",
      "\n",
      "Firm Name:  Hospira Inc\n",
      "Record Date:  2020-01-17\n",
      "Topic Probability:  0.9958617091178894\n",
      "Observation: \n",
      "\n",
      "('Acceptance criteria for the sampling and testing conducted by the quality '\n",
      " 'control unit is not adequate to assure that batches of drug products meet '\n",
      " 'each appropriate specification and appropriate statistical quality control '\n",
      " 'criteria as a condition for their approval and release.  Specifically, your '\n",
      " 'overall endotoxin control strategy is inadequate and does not meet the '\n",
      " 'requirements established in SOP-9605 (6) (4) Monitoring Program and cGMPs.  '\n",
      " 'A. There is no direct/formal confirmation of endotoxin sample hold time '\n",
      " 'during the manufacture of the Nivestim™ biologic drug product, including but '\n",
      " 'not limited to bulk samples from lot 01320DD, during  compounding (BPR — '\n",
      " 'Compounding (b) (4) ) and unit samples from vial filling (BPR — Filling (b) '\n",
      " '(4) operations, ensuring conformance to time limitations established during '\n",
      " 'the (b) (4) validation (PQR0056.00-16-08).  B. The (b) (4) systems '\n",
      " 'supporting the CPM (CARPUJECT™) componentry workflow fail to achieve  your '\n",
      " 'targeted (b) (4) reduction of endotoxin. The performance qualifications '\n",
      " 'report minimum endotoxin log reductions o an © @olass cartridge, '\n",
      " 'PQR0254.00-19-02 (b)(4)il PQR0254.00-19-02 (BY (4), 2.9 (plunger/rubber '\n",
      " 'component, PQRO130.20-19-07) and 1.8 ™I cap, PQRO130.20-19-06). The routine  '\n",
      " '(b) (4) monitoring program for componentry (SOP-96954 Sampling of '\n",
      " 'Manufacturing and Packaging Components), in absence of (b) (A) eduction in '\n",
      " 'endotoxin, does not employ a statistically valid/acceptable sampling plan. '\n",
      " 'For example (6) (4) glass cartridges (SOP-96954) will be assessed for '\n",
      " 'endotoxin from\" (6) (4) batch which routinely exceeds (b) (4) units (6) (4) '\n",
      " '?  (b) (4) ).  C. The Morphine Sulfate endotoxin specifications for '\n",
      " 'componentry (SOP-96054), raw materials/excipient (6)(4) ) and drug substance '\n",
      " '(b) (4) do not ensure the finished drug product will meet specification (b) '\n",
      " '(4) , If the drug substance, raw materials and componentry approach the '\n",
      " 'specification limits for endotoxin, the combined endotoxin load will exceed '\n",
      " 'the drug product specification. An endotoxin value in excess of the drug '\n",
      " 'product specification may not be detected through finished drug product '\n",
      " 'testing due to the very limited/inadequate sampling plan (e.g () (4)  out of '\n",
      " 'approximately (b) (4) units for drug product, Contro (b) (4) ; (b) (4) ) D. '\n",
      " 'The endotoxin control strategy does not include an evaluation (e.g. (b) (4) '\n",
      " 'an (Db) (4) )  of the effect of hold time on the ability to detect endotoxin '\n",
      " 'in all applicable sterile drug products (in-process / bulk and finished). '\n",
      " 'Further, you have not demonstrated your ability to detect endotoxin over '\n",
      " 'your specified sample storage time and conditions in complex '\n",
      " 'formulations/matrices including but not limited to solubilization and/or '\n",
      " 'stabilization agents.  ')\n",
      "\n",
      "- - - - - - - - - - - - - - - - - - - - - - - - - - - - - - - - - - - - - - - -\n",
      "\n",
      "===============================================================================\n",
      "\n",
      "TOPIC NUMBER  8\n",
      "\n",
      "===============================================================================\n",
      "\n",
      "\n",
      "Firm Name:  SCA Pharmaceuticals\n",
      "Record Date:  2019-11-19\n",
      "Topic Probability:  0.9985275864601135\n",
      "Observation: \n",
      "\n",
      "('There is a failure to thoroughly review any unexplained discrepancy and the '\n",
      " 'failure of a batch or any of its components to meet any of its '\n",
      " 'specifications whether or not the batch has been already distributed.  '\n",
      " 'Specifically, The firm failed to adequately investigate the following:  A. '\n",
      " 'There have been seven confirmed failures for in-house sterility testing of '\n",
      " 'finished sterile drug products since October 2018 using a(b) (4) method for '\n",
      " 'detection of fluorescence in individual microorganisms ((b) (4) ). All '\n",
      " 'associated batches (1218003930, 1219007440, 1219008117, 1219008696, '\n",
      " '1219009160, 1219009289, & 1219012541) were rejected; however, the '\n",
      " 'investigations did not take into account the identity of the contaminating '\n",
      " 'microorganism(s) to determine its source. For example:  e '\n",
      " 'Out-of-Specification Laboratory Investigation Report OOS 18-087-W was '\n",
      " 'initiated on 10/15/2018 for the sterility test failure of Buffered Lidocaine '\n",
      " '1% in Sodium Bicarbonate 8.4% (b) (4) Syringe lot number 1218003930. The '\n",
      " 'potential root cause(s) was determined to be human error; however, the '\n",
      " 'investigation did not identify the contaminating microorganism(s). The '\n",
      " 'investigation was approved by Quality Assurance 12/10/2018.  e '\n",
      " 'Out-of-Specification Laboratory Investigation Report OOS 19-049-W was '\n",
      " 'initiated on 03/22/2019 for the sterility test failure of Buffered Lidocaine '\n",
      " '1% in Sodium Bicarbonate 8.4% (b) (4) Syringe lot number 1219007440. A '\n",
      " 'definitive root  cause had not been determined but the Deviation '\n",
      " 'Investigation (DV-19-312-W) indicated the possible root cause was human '\n",
      " 'error; however, the investigation did not identify the contaminating '\n",
      " 'microorganism(s). The investigation was approved by Quality Assurance on '\n",
      " '06/17/2019.  e Out-of-Specification Laboratory Investigation Report OOS '\n",
      " '19-055-W was initiated on 04/18/2019 for the sels test failure of Ob) ( hone '\n",
      " 'HC] 0.2mg/mL in 0.9% Sodium Chloride( b) (4 \\\\b) (4) ) (4) lot number '\n",
      " '1219008117. The potential root cause | in eee Investigation (DV-19- 385-W) '\n",
      " 'was human error; however, the investigation did not identify the '\n",
      " 'contaminating microorganism(s). The investigation was approved by Quality '\n",
      " 'Assurance on 09/05/2019.  e Out-of-Specification Laboratory Investigation '\n",
      " 'Report OOS 19-066-W was initiated on 05/11/2019 for the sterility test '\n",
      " 'failure of Vancomycin HCI 1.25g added to 0.9% Sodium Chloride (b) (4) lot '\n",
      " 'number 1219008696. The potential root cause identified in Deviation '\n",
      " 'Investigation (DV-19-472-W) was human error; however, the investigation did '\n",
      " 'not identify the contaminating microorganism(s). The investigation was '\n",
      " 'approved by Quality Assurance on 08/05/2019.  e Out-of-Specification '\n",
      " 'Laboratory Investigation Report OOS 19-071-W was initiated on 05/28/2019 for '\n",
      " 'the sterility test failure of Glycopyrrolate 0.2mg/mL (b) (4) Syringe(b) (4) '\n",
      " 'lot number 1219009160. The potential root cause identified in Deviation '\n",
      " 'Investigation (DV-19-553-W) was human error; however, the investigation did '\n",
      " 'not identify the contaminating microorganism(s). The investigation was '\n",
      " 'approved by Quality Assurance on 08/30/2019.  e Out-of-Specification '\n",
      " 'Laboratory Investigation Report OOS 19-074-W was initiated on 05/31/2019 for '\n",
      " 'the sterility test failure of Phenylephrine HCl 40mcg/mL in 0.9% Sodium '\n",
      " 'Chloride (b) (4) Syringe (b) (4) lot number 1219009289. The potential root '\n",
      " 'cause identified in Deviation Investigation (DV-19-554-W) was  human error; '\n",
      " 'however, the investigation did not identify the contaminating '\n",
      " 'microorganism(s). The investigation was approved by Quality Assurance on '\n",
      " '08/30/2019. e Out-of-Specification Laboratory Investigation Report OOS '\n",
      " '19-123-W was initiated on 09/25/2019 for the sterility test failure of Me '\n",
      " 'HCl 100mcg/mL in 0.9% Sodium Chloride (6) (4) Syringe (b) (4) lot number '\n",
      " '1219012541. A definitive root cause had not been determined but the '\n",
      " 'Deviation Investigation (DV- 19-810-W) indicated the possible root cause was '\n",
      " 'human error; however, the investigation did not identify the contaminating '\n",
      " 'microorganism(s). The investigation was approved by Quality Assurance on '\n",
      " '10/18/2019. Furthermore, it was noted that from January 2019 to October 2019 '\n",
      " 'the firm had approximately 105 occasions in which Personnel Exit Monitoring '\n",
      " 'had exceeded the action limit specification for zero objectionable organisms '\n",
      " 'mostly concerning samples taken from operator hoods (32 occurrences) and '\n",
      " 'chests (50 occurrences); however, the firm had not identified a potential '\n",
      " 'cause for this trend until the Environmental and Personnel Monitoring (b) '\n",
      " '(4) Trend Report which was approved by Quality on 10/29/2019 during the '\n",
      " 'inspection. Examples of the objectionable organisms recovered were Bacillus '\n",
      " 'cereus, Staphylococcus aureus, Moraxella osloensis, and Roseomonas mucosa.  '\n",
      " 'B. On 08/14/2019 the firm had initiated an Out-of-Specification '\n",
      " 'Investigation Report OOS-19- 111-W for a potency failure for the T90 (90 '\n",
      " 'days) stability sample of Heparin Sodium 10units/mL in 0.9% Sodium Chloride '\n",
      " '(b) (4) _ lot number 1219008741, result 82%, specification (b) (4)%. The OOS '\n",
      " 'result was confirmed and the firm had initiated a Deviation Investigation '\n",
      " '(DV-19-711-W) on 08/15/2019 to investigate this failure. The firm had Na) '\n",
      " 'the root cause as inconclusive and took the following corrective actions: (b '\n",
      " '(4  _ The firm had not conducted a health hazard  evaluation of the '\n",
      " 'sub-potent product nor had they notified the customers who had received OM '\n",
      " 'lots of this product with the 90 day BUD, some of which are currently within '\n",
      " 'expiry.  c. On 08/16/2019, the firm initiated a Deviation Investigation '\n",
      " 'Report DV-19-716-W to espeate — within the (6) (4) (b) (4) assembly (SCA '\n",
      " 'part# (Db) (4)) at the (b) (4) side during (| b) (4) testing. The im '\n",
      " 'isolated this leaking (®) @)to one lot of ©)  (lot number (b) (4) » This) '\n",
      " '@)iot was used to manufacture ™™ batches of products in which ~ batches had '\n",
      " '(aye istributed. The investigation indicated that the leaking would occur '\n",
      " 'between(b) (4 The firm concluded that based on investigational  testing, '\n",
      " 'ster te testing, successful ib) (4) testing and risk assessment that the '\n",
      " 'leaking of the (6) (4) (©) @ had no impact to patient safety; however, the '\n",
      " 'firm had not provided samples from the lot of defective (b) (4) (©) (4)... '\n",
      " 'their vendor for evaluation and confirmation that the’ (b) (4) would '\n",
      " 'function as designed. The manufacturer of the  (b) (4)(b) (4) 4)(b) ( ) (4) '\n",
      " ') had provided a written assessment of the functionality of the (®) @) on '\n",
      " 'October 21, 2019 (during the inspection) without an evaluation of this lot '\n",
      " 'of defective(b) (4)  D. The Quality Unit failed to adequately investigate '\n",
      " 'consumer complaints by not evaluating retentions samples and returned '\n",
      " 'product when applicable for confirmation of the reported complaint. For '\n",
      " 'example:  e Customer Complaint Form CUS-18-189-W, dated 11/13/2018, '\n",
      " 'indicated that a customer called stating the nurse from the floor was '\n",
      " 'reporting more hemorrhages on the L&D floor than normal. They had five '\n",
      " 'patients in one day hemorrhage. The customer was requesting potency data on '\n",
      " 'Oxytocin 20units added to 0.9% Sodium Chloride 1000ml Bag lot number '\n",
      " '1218004043. The investigation concluded that there was no impact to product '\n",
      " 'identified as the potency of lot number 1218004043 was confirmed to be '\n",
      " 'within specification via batch record review. The firm did not conduct an '\n",
      " 'evaluation of retain samples. The investigation was approved by Quality on '\n",
      " '12/27/2018.  e Customer Complaint Form CUS-19-028-W, dated 2/26/2019, '\n",
      " 'indicated that a customer had administered © different ba gs of Oxytocin '\n",
      " '20units added to 0.9% Sodium Chloride 500mL Bag lot number 1219006051 to ©) '\n",
      " '@)different pregnant patients and in which their cervixes did not dilate '\n",
      " 'after receiving this product. The investigation concluded that there was no '\n",
      " 'impact to product identified as the potency of lot number 1219006051 was '\n",
      " 'confirmed to be within specification via batch record review. The firm did '\n",
      " 'not conduct an evaluation of retain samples. On 05/22/2019 the firm '\n",
      " 'received) @nnits from lot number 1219006051 from their customer. The units '\n",
      " 'were not evaluated but instead were destroyed. The investigation was '\n",
      " 'approved by Quality on 04/03/2019.  e Customer Complaint Form CUS-19-051-W, '\n",
      " 'dated 04/25/2019, indicated that a customer stated that Oxytocin 20units '\n",
      " 'added to 0.9% Sodium Chloride 1000mL Bag lot number 1219007516 was not '\n",
      " 'working on patients. The investigation concluded that there was no impact to '\n",
      " 'product identified as the potency of lot number 1219007516 was confirmed to '\n",
      " 'be within specification via batch record review. The firm did not conduct an '\n",
      " 'evaluation of retain samples. The investigation was approved by Quality on '\n",
      " '05/20/2019.  Furthermore, the firm has had sixteen Out-of-Specification '\n",
      " 'Investigations involving sub- potent Oxytocin 20 and 30 unit products '\n",
      " 'compounded from October 2018 to March 2019. Each of these investigations '\n",
      " 'confirmed the potency out-of-specification result and the batches were '\n",
      " 'rejected; however, the above mentioned complaint investigations did not '\n",
      " 'contain an evaluation of these Out-of-Specification Investigations within '\n",
      " 'the investigation summary. As a result of these investigations the firm '\n",
      " 'initiated Change Control TCC#19- 073-W (3/18/2019) to update the compounding '\n",
      " 'process to (b) (4)  (Oxytocin 20 units (F008446-A-W-02-05) & Oxytocin 30 '\n",
      " 'units (F08544-A-W-02-04)).  ')\n",
      "\n",
      "- - - - - - - - - - - - - - - - - - - - - - - - - - - - - - - - - - - - - - - -\n",
      "\n",
      "Firm Name:  Edge Pharma, LLC\n",
      "Record Date:  2020-03-30\n",
      "Topic Probability:  0.9977485537528992\n",
      "Observation: \n",
      "\n",
      "('There is a failure to thoroughly review any unexplained discrepancy and the '\n",
      " 'failure of a batch or any of its components to meet any of its '\n",
      " 'specifications whether or not the batch has been already distributed.  '\n",
      " 'Specifically,  A. The firm failed to conduct and/or failed to conduct '\n",
      " 'adequate investigations for the following recalled sterile drug products:  1 '\n",
      " 'Neostigmine Methyl Sulfate Img/ml 5CC lot# 05-2018-11@5 with BUD of '\n",
      " '08/23/18. The product was recalled on 05/29/2018 by the firm via Recall# '\n",
      " 'RC-2018-003 after the firm determined that approximately 726 units out of ©) '\n",
      " '@) units were mislabeled with the incorrect lot number (05-2018-25@2) and '\n",
      " 'BUD (09/06/2018). An investigation was not conducted.  2 (b) (4) '\n",
      " '(Bevacizumab) Intraocular Injection (Ophthalmic Solution) 25mg/ml 1CC lot#s: '\n",
      " '01- 2019-22@4 with BUD 05/07/2019 ©) units), 01-2019-09@9 with BUD '\n",
      " '04/23/2019 ©) units), 12-2018-28@9 with BUD 04/11/2019 © units), '\n",
      " '12-2018-13@6 with BUD 03/27/2019 © @) units), 11-2018-28@5 with BUD '\n",
      " '03/12/2019 ™ units), 11-2018-28@6 with BUD 03/12/2019 © units), '\n",
      " '11-2018-21@23 with BUD 03/05/2019 ®™ units), and 11-2018-08@5 with BUD '\n",
      " '02/20/2019 © @ units). The products were recalled on 02/11/2019 via Recall# '\n",
      " 'RC-2019-001 for higher than acceptable number of subvisible particles. An '\n",
      " 'investigation was not conducted by the firm.  3 Dibutyl Squaric Acid 2% '\n",
      " 'lots# 12-2017-04@10 with BUD 02/02/2018 ®® units) and 12- 2017-27@7 with BUD '\n",
      " '02/25/2018\" units). The firm opened OOS investigation I-2018-004 on '\n",
      " '01/15/2018 for stability sample Dibutyl Squaric Acid 2% lot# 12-2017-04@10 '\n",
      " 'having sub-potent results of 0.05652, which was\"% of the expected amount '\n",
      " '(©)() at 30-day time point. The Dibutyl Squaric Acid specifications are (b) '\n",
      " '(4) %. An additional lot of Dibutyl Squaric Acid lot#12-2017-27@7 was '\n",
      " 'analyzed and was found to be M0, of expected (b) (4)) at 23 days post '\n",
      " 'compounding. The firm recalled the products on 01/22/2018 via Recall# '\n",
      " 'RC-2018-001 (lot# 12-2017-27@7) and Recall# RC-2018-002 (lot# 12-2017- '\n",
      " '04@10). The investigation did not include an evaluation to rule out '\n",
      " 'laboratory error and the root cause was noted to be a formulation issue '\n",
      " 'resulting in a change in the diluent from (b) (4) . No change control was '\n",
      " 'initiated for this formulation change. The OOS investigation report was '\n",
      " 'prepared on 04/04/2018; however, the report wasn’t approved by QA until '\n",
      " '10/26/2018 without any documentation to explain the delayed time frame.  B. '\n",
      " 'The firm failed to conduct investigations into presumptive sterility '\n",
      " 'positives for drug products purported to be sterile. For example: 1. On '\n",
      " '10/29/19, the firm found filaments during the day” @ ead of media (day? an '\n",
      " 'mrad passe results) used to conduct sterility testing of Cefuroxime PF '\n",
      " '3mg/0.3ml (Formula Id 14) Lot 10-2019-15@6, BUD 11/28/2019). A deviation '\n",
      " '(DR-2019-182) was initiated as the firm failed to follow procedure, '\n",
      " 'S-QMR-021 Sterility Failure Investigation, during subculturing (no growth '\n",
      " 'occurred during subculturing); however, the firm’s sterility testing method '\n",
      " 'is not validated, and no sterility failure investigation was conducted. This '\n",
      " 'batch of © 1 ml syringes was released by the firm’s Quality Unit on 11/4/19 '\n",
      " 'and distributed.  2. On 11/07/19, the firm found a contaminant (contaminant '\n",
      " 'type was not documented) during QA review of the day ead of media (day ond” '\n",
      " 'had passing results) used to conduct  sterility testing of Phenylephrine HC] '\n",
      " '0.1mg/ml (Formula Id (5) (4) Lot 10-2019-24@4, BUD 02/05/2020). The batch '\n",
      " 'record notes the media was subcultured on 11/07/2019; however, subculture '\n",
      " 'results were not documented, and no sterility failure investigation was '\n",
      " 'conducted. This batch of ©) @) 10m1 syringes was released by the firm’s '\n",
      " 'Quality Unit on 11/25/19 and distributed.  3. On 06/20/19, the firm found '\n",
      " 'contaminant (contaminant type was not documented but described as “most '\n",
      " 'likely a particle” by firm personnel) during the day ead (day *eand had '\n",
      " 'passing results) of a pump to bag Media Fill (Formula 1d) Lot 06-2019-06@1, '\n",
      " 'BUD 07/08/2019). The Media Fill batch record notes the media was subcultured '\n",
      " 'on 06/20/2019 and no growth occurred during subculturing; however, the '\n",
      " 'firm’s sterility testing method is not validated, and no sterility failure '\n",
      " 'investigation was conducted. This batch of me (50ml and 250ml) bags was '\n",
      " 'reviewed and approved by the firm’s Quality Unit on 06/25/2019.  4. On '\n",
      " '06/19/19, the firm found a contaminant (contaminant type was not documented) '\n",
      " 'during the day” read of media (day? an had passing results) used to conduct '\n",
      " 'sterility testing of Cefuroxime PF 3mg/0.3ml (Formula Id ©) @) Lot '\n",
      " '06-2019-05@3, BUD 9/1/2019). The batch record notes the media was '\n",
      " 'subcultured on 06/19/2019 and no growth occurred during subculturing; '\n",
      " 'however, the firm’s sterility testing method is not validated, and no '\n",
      " 'sterility failure investigation was conducted. This batch of ©) @) 1ml '\n",
      " 'syringes was released by the firm’s Quality Unit on 6/26/19 and '\n",
      " 'distributed.  C. The firm failed to conduct investigations of customer '\n",
      " 'complaints.  1. The firm updated their complaints procedure, S-QAC-018 - '\n",
      " 'Handling Customer Complaints, on 8/14/2019 and included training for the '\n",
      " 'processing of customer complaints by sales team members. The firm’s sales '\n",
      " 'team received 9 customer complaints (October 2018 — March 2020) regarding '\n",
      " 'leaking or broken container closure systems. None of the 9 complaints were  '\n",
      " 'investigated despite 2 of them occurring after the sales team was trained on '\n",
      " 'the customer complaint procedure.  Inadequate investigations into quality '\n",
      " 'related events were also noted during the 2018 FDA inspection.  ')\n",
      "\n",
      "- - - - - - - - - - - - - - - - - - - - - - - - - - - - - - - - - - - - - - - -\n",
      "\n",
      "Firm Name:  Fusion IV Pharmaceuticals, Inc. dba Axia Pharmaceuticals\n",
      "Record Date:  2019-12-20\n",
      "Topic Probability:  0.9977197051048279\n",
      "Observation: \n",
      "\n",
      "('The quality control unit lacks authority to fully investigate errors that '\n",
      " 'have occurred.  Specifically, A.  Your firm failed to perform investigations '\n",
      " 'into “Positive” sterility results as outlined in SOP 5.30, titled, Testing '\n",
      " 'of Sterile Preparations section 8.3.1.1. and SOP 5.54, “Investigating an Out '\n",
      " 'of Specification” section 7.1.  1. Triamcinolone Acetonide 40mg/ml '\n",
      " '(Preservative Free) lot number 08272019+52841 culture result was “Positive” '\n",
      " 'for media bottle PMN) utilizing the P| sterility test method. There was no  '\n",
      " 'subculture or gram staining performed. There was no out of specification '\n",
      " 'investigation or deviation performed. The lot was distributed to MA), Ffice '\n",
      " 'orders.  2. Levocarnitine 500mg/ml lot number 08212019 +52824 culture result '\n",
      " 'was “Positive” for media bottles ice A handwritten note on the Accession '\n",
      " 'report reads, “Plating (subculture) was performed on sample & corresponding™ '\n",
      " 'bottle; Result was negative”. However, three culture bottles were shown '\n",
      " 'positive and it is not stated by the handwritten note if all three bottles '\n",
      " 'were subcultured. Furthermore, there is no documentation of the '\n",
      " 'subculturing. There is no “Review By” Signature and date by the Quality Unit '\n",
      " 'on the Sterility Test Report. There was no out of specification '\n",
      " 'investigation or deviation performed. The lot was distributed to MO office '\n",
      " 'orders.  3. Levocamnitine 500mg/ml lot number 01292019+51387 culture result '\n",
      " 'was Positive for M)imedia  bottles and ‘ne Handwritten note on the petty EY '\n",
      " 'sterility report for bottle notes a subculture was performed on the '\n",
      " 'inoculated media bottle and results were negative. However, there was no '\n",
      " 'subculture of media bottle). There is no documentation of the  subculturing. '\n",
      " 'There is no “Review By” Signature and date by the Quality Unit on the '\n",
      " 'Sterility Test Report. There was no out of specification investigation or '\n",
      " 'deviation performed. The lot was distributed  te office orders.  4. '\n",
      " 'Methylprednisolone Acetate (Preservative Free) lot number 02272019+51657 '\n",
      " 'culture result was Positive fo) media bottle. There was no out of '\n",
      " 'specification investigation performed or deviation report generated. There '\n",
      " 'is no “Review By” Signature and date by the Quality Unit on the Sterility '\n",
      " 'Test Report. There was no subculture performed. The lot was distributed toll '\n",
      " 'office orders. The lot was distributed toa, office orders.         5. Zine '\n",
      " 'Chloride 02192019+51574 culture result was Positive. There was no out of '\n",
      " 'specification investigation performed or deviation report generated. There '\n",
      " 'is no “Review By” Signature and date by the Quality Unit on the Sterility '\n",
      " 'Test Report. There was no subculture performed. The lot was distributed til '\n",
      " 'office orders.  B.  Your firm failed to perform complaint investigations as '\n",
      " 'outlined in SOP 5.51, Handling of Customer Complaints and Adverse Drug '\n",
      " 'Reactions.  1. Complaint number CR 2018-004 dated November 27, 2018 on the '\n",
      " 'complaint log reads a patient had went into the hospital for sepsis after '\n",
      " 'injection of Testosterone cypionate lot number 09182018+50532. The log '\n",
      " 'details a review of the batch record, release testing and if there were '\n",
      " 'other complaints on this  lot. The complaint log does not provide '\n",
      " 'information on who the complainant is, if samples were returned or if '\n",
      " 'additional testing was performed on this lot. The complaint investigation is '\n",
      " 'incomplete. Furthermore, your firm failed to submit an adverse event '\n",
      " 'reporting to the FDA as required by section 8.1 in SOP 5.51, Handling of '\n",
      " 'Customer Complaints and Adverse Drug Reactions.  2. Complaint number '\n",
      " 'CR-2018-003 dated May 11, 2018 on the complaint log reads a customer '\n",
      " 'reported sediment in one vial of Methylcobalamin 10mg/ml 03012019+49188. '\n",
      " 'Complaint outcome reads, “Customer was resupplied; sedimenting attributed to '\n",
      " 'poor grade API reagent. There was no complaint investigation performed and '\n",
      " 'no investigation with the API supplier.  3. Complaint number CR-2017-006 '\n",
      " 'dated October 22, 2018 complainant from doctor reported black specs in '\n",
      " '“beta/beta”, no lot number reported on complaint log. Complaint outcome on '\n",
      " 'log reads, ““Administrator was coring the vial septa. Not traceable to AXIA” '\n",
      " 'There is no additional complaint information or complaint investigation '\n",
      " 'report regarding the review of batch records, testing records or the '\n",
      " 'manufacturing process.  4. Complaint number CR 2019-002 dated June 3, 2019 '\n",
      " 'does not show a completion date on the complaint log and appears to still be '\n",
      " 'an open complaint. Complaint log reads that Betamethasone '\n",
      " 'Acetate/Betamethasone Sodium Phosphate lot 03132019+51752 is clumping. Upon '\n",
      " 'review of the complaint sample, the sample was drawn into a syringe and '\n",
      " 'clumping was observed. There is no  complaint investigation into the '\n",
      " 'manufacturing process, testing or formulation. “No” is marked on the log for '\n",
      " 'whether an investigation is required.  ')\n",
      "\n",
      "- - - - - - - - - - - - - - - - - - - - - - - - - - - - - - - - - - - - - - - -\n"
     ]
    }
   ],
   "source": [
    "for topic in range(0, max_topic_n):\n",
    "    print(\"\\n===============================================================================\\n\")\n",
    "    print(\"TOPIC NUMBER \", topic)\n",
    "    print(\"\\n===============================================================================\\n\")\n",
    "    top_obs = rr2[rr2['topic_number'] == str(topic)].sort_values(by = 'topic_probability', ascending = False)[:3]\n",
    "    for index, row in top_obs.iterrows():\n",
    "        print(\"\\nFirm Name: \", row['company_name'])\n",
    "        print(\"Record Date: \", row['record_date'])\n",
    "        print(\"Topic Probability: \", row['topic_probability'])\n",
    "        print(\"Observation: \\n\")\n",
    "        pprint(row['observations'])\n",
    "        print(\"\\n- - - - - - - - - - - - - - - - - - - - - - - - - - - - - - - - - - - - - - - -\")"
   ]
  },
  {
   "cell_type": "markdown",
   "metadata": {},
   "source": [
    "### Plot Topic Trends"
   ]
  },
  {
   "cell_type": "code",
   "execution_count": 73,
   "metadata": {},
   "outputs": [],
   "source": [
    "import plotly.express as px"
   ]
  },
  {
   "cell_type": "markdown",
   "metadata": {},
   "source": [
    "#### Graph to compare size / prominence of each topic"
   ]
  },
  {
   "cell_type": "code",
   "execution_count": 81,
   "metadata": {},
   "outputs": [
    {
     "data": {
      "application/vnd.plotly.v1+json": {
       "config": {
        "plotlyServerURL": "https://plot.ly"
       },
       "data": [
        {
         "alignmentgroup": "True",
         "hovertemplate": "topic_number=%{x}<br>count=%{y}<extra></extra>",
         "legendgroup": "",
         "marker": {
          "color": "#636efa"
         },
         "name": "",
         "offsetgroup": "",
         "orientation": "v",
         "showlegend": false,
         "textposition": "auto",
         "type": "bar",
         "x": [
          "7",
          "8",
          "1",
          "5",
          "6",
          "4",
          "3",
          "2",
          "0"
         ],
         "xaxis": "x",
         "y": [
          100,
          79,
          65,
          41,
          27,
          17,
          14,
          7,
          2
         ],
         "yaxis": "y"
        }
       ],
       "layout": {
        "autosize": true,
        "barmode": "relative",
        "legend": {
         "tracegroupgap": 0
        },
        "margin": {
         "t": 60
        },
        "template": {
         "data": {
          "bar": [
           {
            "error_x": {
             "color": "#2a3f5f"
            },
            "error_y": {
             "color": "#2a3f5f"
            },
            "marker": {
             "line": {
              "color": "#E5ECF6",
              "width": 0.5
             }
            },
            "type": "bar"
           }
          ],
          "barpolar": [
           {
            "marker": {
             "line": {
              "color": "#E5ECF6",
              "width": 0.5
             }
            },
            "type": "barpolar"
           }
          ],
          "carpet": [
           {
            "aaxis": {
             "endlinecolor": "#2a3f5f",
             "gridcolor": "white",
             "linecolor": "white",
             "minorgridcolor": "white",
             "startlinecolor": "#2a3f5f"
            },
            "baxis": {
             "endlinecolor": "#2a3f5f",
             "gridcolor": "white",
             "linecolor": "white",
             "minorgridcolor": "white",
             "startlinecolor": "#2a3f5f"
            },
            "type": "carpet"
           }
          ],
          "choropleth": [
           {
            "colorbar": {
             "outlinewidth": 0,
             "ticks": ""
            },
            "type": "choropleth"
           }
          ],
          "contour": [
           {
            "colorbar": {
             "outlinewidth": 0,
             "ticks": ""
            },
            "colorscale": [
             [
              0,
              "#0d0887"
             ],
             [
              0.1111111111111111,
              "#46039f"
             ],
             [
              0.2222222222222222,
              "#7201a8"
             ],
             [
              0.3333333333333333,
              "#9c179e"
             ],
             [
              0.4444444444444444,
              "#bd3786"
             ],
             [
              0.5555555555555556,
              "#d8576b"
             ],
             [
              0.6666666666666666,
              "#ed7953"
             ],
             [
              0.7777777777777778,
              "#fb9f3a"
             ],
             [
              0.8888888888888888,
              "#fdca26"
             ],
             [
              1,
              "#f0f921"
             ]
            ],
            "type": "contour"
           }
          ],
          "contourcarpet": [
           {
            "colorbar": {
             "outlinewidth": 0,
             "ticks": ""
            },
            "type": "contourcarpet"
           }
          ],
          "heatmap": [
           {
            "colorbar": {
             "outlinewidth": 0,
             "ticks": ""
            },
            "colorscale": [
             [
              0,
              "#0d0887"
             ],
             [
              0.1111111111111111,
              "#46039f"
             ],
             [
              0.2222222222222222,
              "#7201a8"
             ],
             [
              0.3333333333333333,
              "#9c179e"
             ],
             [
              0.4444444444444444,
              "#bd3786"
             ],
             [
              0.5555555555555556,
              "#d8576b"
             ],
             [
              0.6666666666666666,
              "#ed7953"
             ],
             [
              0.7777777777777778,
              "#fb9f3a"
             ],
             [
              0.8888888888888888,
              "#fdca26"
             ],
             [
              1,
              "#f0f921"
             ]
            ],
            "type": "heatmap"
           }
          ],
          "heatmapgl": [
           {
            "colorbar": {
             "outlinewidth": 0,
             "ticks": ""
            },
            "colorscale": [
             [
              0,
              "#0d0887"
             ],
             [
              0.1111111111111111,
              "#46039f"
             ],
             [
              0.2222222222222222,
              "#7201a8"
             ],
             [
              0.3333333333333333,
              "#9c179e"
             ],
             [
              0.4444444444444444,
              "#bd3786"
             ],
             [
              0.5555555555555556,
              "#d8576b"
             ],
             [
              0.6666666666666666,
              "#ed7953"
             ],
             [
              0.7777777777777778,
              "#fb9f3a"
             ],
             [
              0.8888888888888888,
              "#fdca26"
             ],
             [
              1,
              "#f0f921"
             ]
            ],
            "type": "heatmapgl"
           }
          ],
          "histogram": [
           {
            "marker": {
             "colorbar": {
              "outlinewidth": 0,
              "ticks": ""
             }
            },
            "type": "histogram"
           }
          ],
          "histogram2d": [
           {
            "colorbar": {
             "outlinewidth": 0,
             "ticks": ""
            },
            "colorscale": [
             [
              0,
              "#0d0887"
             ],
             [
              0.1111111111111111,
              "#46039f"
             ],
             [
              0.2222222222222222,
              "#7201a8"
             ],
             [
              0.3333333333333333,
              "#9c179e"
             ],
             [
              0.4444444444444444,
              "#bd3786"
             ],
             [
              0.5555555555555556,
              "#d8576b"
             ],
             [
              0.6666666666666666,
              "#ed7953"
             ],
             [
              0.7777777777777778,
              "#fb9f3a"
             ],
             [
              0.8888888888888888,
              "#fdca26"
             ],
             [
              1,
              "#f0f921"
             ]
            ],
            "type": "histogram2d"
           }
          ],
          "histogram2dcontour": [
           {
            "colorbar": {
             "outlinewidth": 0,
             "ticks": ""
            },
            "colorscale": [
             [
              0,
              "#0d0887"
             ],
             [
              0.1111111111111111,
              "#46039f"
             ],
             [
              0.2222222222222222,
              "#7201a8"
             ],
             [
              0.3333333333333333,
              "#9c179e"
             ],
             [
              0.4444444444444444,
              "#bd3786"
             ],
             [
              0.5555555555555556,
              "#d8576b"
             ],
             [
              0.6666666666666666,
              "#ed7953"
             ],
             [
              0.7777777777777778,
              "#fb9f3a"
             ],
             [
              0.8888888888888888,
              "#fdca26"
             ],
             [
              1,
              "#f0f921"
             ]
            ],
            "type": "histogram2dcontour"
           }
          ],
          "mesh3d": [
           {
            "colorbar": {
             "outlinewidth": 0,
             "ticks": ""
            },
            "type": "mesh3d"
           }
          ],
          "parcoords": [
           {
            "line": {
             "colorbar": {
              "outlinewidth": 0,
              "ticks": ""
             }
            },
            "type": "parcoords"
           }
          ],
          "pie": [
           {
            "automargin": true,
            "type": "pie"
           }
          ],
          "scatter": [
           {
            "marker": {
             "colorbar": {
              "outlinewidth": 0,
              "ticks": ""
             }
            },
            "type": "scatter"
           }
          ],
          "scatter3d": [
           {
            "line": {
             "colorbar": {
              "outlinewidth": 0,
              "ticks": ""
             }
            },
            "marker": {
             "colorbar": {
              "outlinewidth": 0,
              "ticks": ""
             }
            },
            "type": "scatter3d"
           }
          ],
          "scattercarpet": [
           {
            "marker": {
             "colorbar": {
              "outlinewidth": 0,
              "ticks": ""
             }
            },
            "type": "scattercarpet"
           }
          ],
          "scattergeo": [
           {
            "marker": {
             "colorbar": {
              "outlinewidth": 0,
              "ticks": ""
             }
            },
            "type": "scattergeo"
           }
          ],
          "scattergl": [
           {
            "marker": {
             "colorbar": {
              "outlinewidth": 0,
              "ticks": ""
             }
            },
            "type": "scattergl"
           }
          ],
          "scattermapbox": [
           {
            "marker": {
             "colorbar": {
              "outlinewidth": 0,
              "ticks": ""
             }
            },
            "type": "scattermapbox"
           }
          ],
          "scatterpolar": [
           {
            "marker": {
             "colorbar": {
              "outlinewidth": 0,
              "ticks": ""
             }
            },
            "type": "scatterpolar"
           }
          ],
          "scatterpolargl": [
           {
            "marker": {
             "colorbar": {
              "outlinewidth": 0,
              "ticks": ""
             }
            },
            "type": "scatterpolargl"
           }
          ],
          "scatterternary": [
           {
            "marker": {
             "colorbar": {
              "outlinewidth": 0,
              "ticks": ""
             }
            },
            "type": "scatterternary"
           }
          ],
          "surface": [
           {
            "colorbar": {
             "outlinewidth": 0,
             "ticks": ""
            },
            "colorscale": [
             [
              0,
              "#0d0887"
             ],
             [
              0.1111111111111111,
              "#46039f"
             ],
             [
              0.2222222222222222,
              "#7201a8"
             ],
             [
              0.3333333333333333,
              "#9c179e"
             ],
             [
              0.4444444444444444,
              "#bd3786"
             ],
             [
              0.5555555555555556,
              "#d8576b"
             ],
             [
              0.6666666666666666,
              "#ed7953"
             ],
             [
              0.7777777777777778,
              "#fb9f3a"
             ],
             [
              0.8888888888888888,
              "#fdca26"
             ],
             [
              1,
              "#f0f921"
             ]
            ],
            "type": "surface"
           }
          ],
          "table": [
           {
            "cells": {
             "fill": {
              "color": "#EBF0F8"
             },
             "line": {
              "color": "white"
             }
            },
            "header": {
             "fill": {
              "color": "#C8D4E3"
             },
             "line": {
              "color": "white"
             }
            },
            "type": "table"
           }
          ]
         },
         "layout": {
          "annotationdefaults": {
           "arrowcolor": "#2a3f5f",
           "arrowhead": 0,
           "arrowwidth": 1
          },
          "autotypenumbers": "strict",
          "coloraxis": {
           "colorbar": {
            "outlinewidth": 0,
            "ticks": ""
           }
          },
          "colorscale": {
           "diverging": [
            [
             0,
             "#8e0152"
            ],
            [
             0.1,
             "#c51b7d"
            ],
            [
             0.2,
             "#de77ae"
            ],
            [
             0.3,
             "#f1b6da"
            ],
            [
             0.4,
             "#fde0ef"
            ],
            [
             0.5,
             "#f7f7f7"
            ],
            [
             0.6,
             "#e6f5d0"
            ],
            [
             0.7,
             "#b8e186"
            ],
            [
             0.8,
             "#7fbc41"
            ],
            [
             0.9,
             "#4d9221"
            ],
            [
             1,
             "#276419"
            ]
           ],
           "sequential": [
            [
             0,
             "#0d0887"
            ],
            [
             0.1111111111111111,
             "#46039f"
            ],
            [
             0.2222222222222222,
             "#7201a8"
            ],
            [
             0.3333333333333333,
             "#9c179e"
            ],
            [
             0.4444444444444444,
             "#bd3786"
            ],
            [
             0.5555555555555556,
             "#d8576b"
            ],
            [
             0.6666666666666666,
             "#ed7953"
            ],
            [
             0.7777777777777778,
             "#fb9f3a"
            ],
            [
             0.8888888888888888,
             "#fdca26"
            ],
            [
             1,
             "#f0f921"
            ]
           ],
           "sequentialminus": [
            [
             0,
             "#0d0887"
            ],
            [
             0.1111111111111111,
             "#46039f"
            ],
            [
             0.2222222222222222,
             "#7201a8"
            ],
            [
             0.3333333333333333,
             "#9c179e"
            ],
            [
             0.4444444444444444,
             "#bd3786"
            ],
            [
             0.5555555555555556,
             "#d8576b"
            ],
            [
             0.6666666666666666,
             "#ed7953"
            ],
            [
             0.7777777777777778,
             "#fb9f3a"
            ],
            [
             0.8888888888888888,
             "#fdca26"
            ],
            [
             1,
             "#f0f921"
            ]
           ]
          },
          "colorway": [
           "#636efa",
           "#EF553B",
           "#00cc96",
           "#ab63fa",
           "#FFA15A",
           "#19d3f3",
           "#FF6692",
           "#B6E880",
           "#FF97FF",
           "#FECB52"
          ],
          "font": {
           "color": "#2a3f5f"
          },
          "geo": {
           "bgcolor": "white",
           "lakecolor": "white",
           "landcolor": "#E5ECF6",
           "showlakes": true,
           "showland": true,
           "subunitcolor": "white"
          },
          "hoverlabel": {
           "align": "left"
          },
          "hovermode": "closest",
          "mapbox": {
           "style": "light"
          },
          "paper_bgcolor": "white",
          "plot_bgcolor": "#E5ECF6",
          "polar": {
           "angularaxis": {
            "gridcolor": "white",
            "linecolor": "white",
            "ticks": ""
           },
           "bgcolor": "#E5ECF6",
           "radialaxis": {
            "gridcolor": "white",
            "linecolor": "white",
            "ticks": ""
           }
          },
          "scene": {
           "xaxis": {
            "backgroundcolor": "#E5ECF6",
            "gridcolor": "white",
            "gridwidth": 2,
            "linecolor": "white",
            "showbackground": true,
            "ticks": "",
            "zerolinecolor": "white"
           },
           "yaxis": {
            "backgroundcolor": "#E5ECF6",
            "gridcolor": "white",
            "gridwidth": 2,
            "linecolor": "white",
            "showbackground": true,
            "ticks": "",
            "zerolinecolor": "white"
           },
           "zaxis": {
            "backgroundcolor": "#E5ECF6",
            "gridcolor": "white",
            "gridwidth": 2,
            "linecolor": "white",
            "showbackground": true,
            "ticks": "",
            "zerolinecolor": "white"
           }
          },
          "shapedefaults": {
           "line": {
            "color": "#2a3f5f"
           }
          },
          "ternary": {
           "aaxis": {
            "gridcolor": "white",
            "linecolor": "white",
            "ticks": ""
           },
           "baxis": {
            "gridcolor": "white",
            "linecolor": "white",
            "ticks": ""
           },
           "bgcolor": "#E5ECF6",
           "caxis": {
            "gridcolor": "white",
            "linecolor": "white",
            "ticks": ""
           }
          },
          "title": {
           "x": 0.05
          },
          "xaxis": {
           "automargin": true,
           "gridcolor": "white",
           "linecolor": "white",
           "ticks": "",
           "title": {
            "standoff": 15
           },
           "zerolinecolor": "white",
           "zerolinewidth": 2
          },
          "yaxis": {
           "automargin": true,
           "gridcolor": "white",
           "linecolor": "white",
           "ticks": "",
           "title": {
            "standoff": 15
           },
           "zerolinecolor": "white",
           "zerolinewidth": 2
          }
         }
        },
        "xaxis": {
         "anchor": "y",
         "autorange": true,
         "domain": [
          0,
          1
         ],
         "range": [
          -0.5,
          8.5
         ],
         "title": {
          "text": "topic_number"
         },
         "type": "category"
        },
        "yaxis": {
         "anchor": "x",
         "autorange": true,
         "domain": [
          0,
          1
         ],
         "range": [
          0,
          105.26315789473684
         ],
         "title": {
          "text": "count"
         },
         "type": "linear"
        }
       }
      },
      "image/png": "[encoded data removed]",
      "text/html": [
       "<div>                            <div id=\"7dc966ca-cf78-4b69-92c0-88edb272aed6\" class=\"plotly-graph-div\" style=\"height:525px; width:100%;\"></div>            <script type=\"text/javascript\">                require([\"plotly\"], function(Plotly) {                    window.PLOTLYENV=window.PLOTLYENV || {};                                    if (document.getElementById(\"7dc966ca-cf78-4b69-92c0-88edb272aed6\")) {                    Plotly.newPlot(                        \"7dc966ca-cf78-4b69-92c0-88edb272aed6\",                        [{\"alignmentgroup\": \"True\", \"hovertemplate\": \"topic_number=%{x}<br>count=%{y}<extra></extra>\", \"legendgroup\": \"\", \"marker\": {\"color\": \"#636efa\"}, \"name\": \"\", \"offsetgroup\": \"\", \"orientation\": \"v\", \"showlegend\": false, \"textposition\": \"auto\", \"type\": \"bar\", \"x\": [\"7\", \"8\", \"1\", \"5\", \"6\", \"4\", \"3\", \"2\", \"0\"], \"xaxis\": \"x\", \"y\": [100, 79, 65, 41, 27, 17, 14, 7, 2], \"yaxis\": \"y\"}],                        {\"barmode\": \"relative\", \"legend\": {\"tracegroupgap\": 0}, \"margin\": {\"t\": 60}, \"template\": {\"data\": {\"bar\": [{\"error_x\": {\"color\": \"#2a3f5f\"}, \"error_y\": {\"color\": \"#2a3f5f\"}, \"marker\": {\"line\": {\"color\": \"#E5ECF6\", \"width\": 0.5}}, \"type\": \"bar\"}], \"barpolar\": [{\"marker\": {\"line\": {\"color\": \"#E5ECF6\", \"width\": 0.5}}, \"type\": \"barpolar\"}], \"carpet\": [{\"aaxis\": {\"endlinecolor\": \"#2a3f5f\", \"gridcolor\": \"white\", \"linecolor\": \"white\", \"minorgridcolor\": \"white\", \"startlinecolor\": \"#2a3f5f\"}, \"baxis\": {\"endlinecolor\": \"#2a3f5f\", \"gridcolor\": \"white\", \"linecolor\": \"white\", \"minorgridcolor\": \"white\", \"startlinecolor\": \"#2a3f5f\"}, \"type\": \"carpet\"}], \"choropleth\": [{\"colorbar\": {\"outlinewidth\": 0, \"ticks\": \"\"}, \"type\": \"choropleth\"}], \"contour\": [{\"colorbar\": {\"outlinewidth\": 0, \"ticks\": \"\"}, \"colorscale\": [[0.0, \"#0d0887\"], [0.1111111111111111, \"#46039f\"], [0.2222222222222222, \"#7201a8\"], [0.3333333333333333, \"#9c179e\"], [0.4444444444444444, \"#bd3786\"], [0.5555555555555556, \"#d8576b\"], [0.6666666666666666, \"#ed7953\"], [0.7777777777777778, \"#fb9f3a\"], [0.8888888888888888, \"#fdca26\"], [1.0, \"#f0f921\"]], \"type\": \"contour\"}], \"contourcarpet\": [{\"colorbar\": {\"outlinewidth\": 0, \"ticks\": \"\"}, \"type\": \"contourcarpet\"}], \"heatmap\": [{\"colorbar\": {\"outlinewidth\": 0, \"ticks\": \"\"}, \"colorscale\": [[0.0, \"#0d0887\"], [0.1111111111111111, \"#46039f\"], [0.2222222222222222, \"#7201a8\"], [0.3333333333333333, \"#9c179e\"], [0.4444444444444444, \"#bd3786\"], [0.5555555555555556, \"#d8576b\"], [0.6666666666666666, \"#ed7953\"], [0.7777777777777778, \"#fb9f3a\"], [0.8888888888888888, \"#fdca26\"], [1.0, \"#f0f921\"]], \"type\": \"heatmap\"}], \"heatmapgl\": [{\"colorbar\": {\"outlinewidth\": 0, \"ticks\": \"\"}, \"colorscale\": [[0.0, \"#0d0887\"], [0.1111111111111111, \"#46039f\"], [0.2222222222222222, \"#7201a8\"], [0.3333333333333333, \"#9c179e\"], [0.4444444444444444, \"#bd3786\"], [0.5555555555555556, \"#d8576b\"], [0.6666666666666666, \"#ed7953\"], [0.7777777777777778, \"#fb9f3a\"], [0.8888888888888888, \"#fdca26\"], [1.0, \"#f0f921\"]], \"type\": \"heatmapgl\"}], \"histogram\": [{\"marker\": {\"colorbar\": {\"outlinewidth\": 0, \"ticks\": \"\"}}, \"type\": \"histogram\"}], \"histogram2d\": [{\"colorbar\": {\"outlinewidth\": 0, \"ticks\": \"\"}, \"colorscale\": [[0.0, \"#0d0887\"], [0.1111111111111111, \"#46039f\"], [0.2222222222222222, \"#7201a8\"], [0.3333333333333333, \"#9c179e\"], [0.4444444444444444, \"#bd3786\"], [0.5555555555555556, \"#d8576b\"], [0.6666666666666666, \"#ed7953\"], [0.7777777777777778, \"#fb9f3a\"], [0.8888888888888888, \"#fdca26\"], [1.0, \"#f0f921\"]], \"type\": \"histogram2d\"}], \"histogram2dcontour\": [{\"colorbar\": {\"outlinewidth\": 0, \"ticks\": \"\"}, \"colorscale\": [[0.0, \"#0d0887\"], [0.1111111111111111, \"#46039f\"], [0.2222222222222222, \"#7201a8\"], [0.3333333333333333, \"#9c179e\"], [0.4444444444444444, \"#bd3786\"], [0.5555555555555556, \"#d8576b\"], [0.6666666666666666, \"#ed7953\"], [0.7777777777777778, \"#fb9f3a\"], [0.8888888888888888, \"#fdca26\"], [1.0, \"#f0f921\"]], \"type\": \"histogram2dcontour\"}], \"mesh3d\": [{\"colorbar\": {\"outlinewidth\": 0, \"ticks\": \"\"}, \"type\": \"mesh3d\"}], \"parcoords\": [{\"line\": {\"colorbar\": {\"outlinewidth\": 0, \"ticks\": \"\"}}, \"type\": \"parcoords\"}], \"pie\": [{\"automargin\": true, \"type\": \"pie\"}], \"scatter\": [{\"marker\": {\"colorbar\": {\"outlinewidth\": 0, \"ticks\": \"\"}}, \"type\": \"scatter\"}], \"scatter3d\": [{\"line\": {\"colorbar\": {\"outlinewidth\": 0, \"ticks\": \"\"}}, \"marker\": {\"colorbar\": {\"outlinewidth\": 0, \"ticks\": \"\"}}, \"type\": \"scatter3d\"}], \"scattercarpet\": [{\"marker\": {\"colorbar\": {\"outlinewidth\": 0, \"ticks\": \"\"}}, \"type\": \"scattercarpet\"}], \"scattergeo\": [{\"marker\": {\"colorbar\": {\"outlinewidth\": 0, \"ticks\": \"\"}}, \"type\": \"scattergeo\"}], \"scattergl\": [{\"marker\": {\"colorbar\": {\"outlinewidth\": 0, \"ticks\": \"\"}}, \"type\": \"scattergl\"}], \"scattermapbox\": [{\"marker\": {\"colorbar\": {\"outlinewidth\": 0, \"ticks\": \"\"}}, \"type\": \"scattermapbox\"}], \"scatterpolar\": [{\"marker\": {\"colorbar\": {\"outlinewidth\": 0, \"ticks\": \"\"}}, \"type\": \"scatterpolar\"}], \"scatterpolargl\": [{\"marker\": {\"colorbar\": {\"outlinewidth\": 0, \"ticks\": \"\"}}, \"type\": \"scatterpolargl\"}], \"scatterternary\": [{\"marker\": {\"colorbar\": {\"outlinewidth\": 0, \"ticks\": \"\"}}, \"type\": \"scatterternary\"}], \"surface\": [{\"colorbar\": {\"outlinewidth\": 0, \"ticks\": \"\"}, \"colorscale\": [[0.0, \"#0d0887\"], [0.1111111111111111, \"#46039f\"], [0.2222222222222222, \"#7201a8\"], [0.3333333333333333, \"#9c179e\"], [0.4444444444444444, \"#bd3786\"], [0.5555555555555556, \"#d8576b\"], [0.6666666666666666, \"#ed7953\"], [0.7777777777777778, \"#fb9f3a\"], [0.8888888888888888, \"#fdca26\"], [1.0, \"#f0f921\"]], \"type\": \"surface\"}], \"table\": [{\"cells\": {\"fill\": {\"color\": \"#EBF0F8\"}, \"line\": {\"color\": \"white\"}}, \"header\": {\"fill\": {\"color\": \"#C8D4E3\"}, \"line\": {\"color\": \"white\"}}, \"type\": \"table\"}]}, \"layout\": {\"annotationdefaults\": {\"arrowcolor\": \"#2a3f5f\", \"arrowhead\": 0, \"arrowwidth\": 1}, \"autotypenumbers\": \"strict\", \"coloraxis\": {\"colorbar\": {\"outlinewidth\": 0, \"ticks\": \"\"}}, \"colorscale\": {\"diverging\": [[0, \"#8e0152\"], [0.1, \"#c51b7d\"], [0.2, \"#de77ae\"], [0.3, \"#f1b6da\"], [0.4, \"#fde0ef\"], [0.5, \"#f7f7f7\"], [0.6, \"#e6f5d0\"], [0.7, \"#b8e186\"], [0.8, \"#7fbc41\"], [0.9, \"#4d9221\"], [1, \"#276419\"]], \"sequential\": [[0.0, \"#0d0887\"], [0.1111111111111111, \"#46039f\"], [0.2222222222222222, \"#7201a8\"], [0.3333333333333333, \"#9c179e\"], [0.4444444444444444, \"#bd3786\"], [0.5555555555555556, \"#d8576b\"], [0.6666666666666666, \"#ed7953\"], [0.7777777777777778, \"#fb9f3a\"], [0.8888888888888888, \"#fdca26\"], [1.0, \"#f0f921\"]], \"sequentialminus\": [[0.0, \"#0d0887\"], [0.1111111111111111, \"#46039f\"], [0.2222222222222222, \"#7201a8\"], [0.3333333333333333, \"#9c179e\"], [0.4444444444444444, \"#bd3786\"], [0.5555555555555556, \"#d8576b\"], [0.6666666666666666, \"#ed7953\"], [0.7777777777777778, \"#fb9f3a\"], [0.8888888888888888, \"#fdca26\"], [1.0, \"#f0f921\"]]}, \"colorway\": [\"#636efa\", \"#EF553B\", \"#00cc96\", \"#ab63fa\", \"#FFA15A\", \"#19d3f3\", \"#FF6692\", \"#B6E880\", \"#FF97FF\", \"#FECB52\"], \"font\": {\"color\": \"#2a3f5f\"}, \"geo\": {\"bgcolor\": \"white\", \"lakecolor\": \"white\", \"landcolor\": \"#E5ECF6\", \"showlakes\": true, \"showland\": true, \"subunitcolor\": \"white\"}, \"hoverlabel\": {\"align\": \"left\"}, \"hovermode\": \"closest\", \"mapbox\": {\"style\": \"light\"}, \"paper_bgcolor\": \"white\", \"plot_bgcolor\": \"#E5ECF6\", \"polar\": {\"angularaxis\": {\"gridcolor\": \"white\", \"linecolor\": \"white\", \"ticks\": \"\"}, \"bgcolor\": \"#E5ECF6\", \"radialaxis\": {\"gridcolor\": \"white\", \"linecolor\": \"white\", \"ticks\": \"\"}}, \"scene\": {\"xaxis\": {\"backgroundcolor\": \"#E5ECF6\", \"gridcolor\": \"white\", \"gridwidth\": 2, \"linecolor\": \"white\", \"showbackground\": true, \"ticks\": \"\", \"zerolinecolor\": \"white\"}, \"yaxis\": {\"backgroundcolor\": \"#E5ECF6\", \"gridcolor\": \"white\", \"gridwidth\": 2, \"linecolor\": \"white\", \"showbackground\": true, \"ticks\": \"\", \"zerolinecolor\": \"white\"}, \"zaxis\": {\"backgroundcolor\": \"#E5ECF6\", \"gridcolor\": \"white\", \"gridwidth\": 2, \"linecolor\": \"white\", \"showbackground\": true, \"ticks\": \"\", \"zerolinecolor\": \"white\"}}, \"shapedefaults\": {\"line\": {\"color\": \"#2a3f5f\"}}, \"ternary\": {\"aaxis\": {\"gridcolor\": \"white\", \"linecolor\": \"white\", \"ticks\": \"\"}, \"baxis\": {\"gridcolor\": \"white\", \"linecolor\": \"white\", \"ticks\": \"\"}, \"bgcolor\": \"#E5ECF6\", \"caxis\": {\"gridcolor\": \"white\", \"linecolor\": \"white\", \"ticks\": \"\"}}, \"title\": {\"x\": 0.05}, \"xaxis\": {\"automargin\": true, \"gridcolor\": \"white\", \"linecolor\": \"white\", \"ticks\": \"\", \"title\": {\"standoff\": 15}, \"zerolinecolor\": \"white\", \"zerolinewidth\": 2}, \"yaxis\": {\"automargin\": true, \"gridcolor\": \"white\", \"linecolor\": \"white\", \"ticks\": \"\", \"title\": {\"standoff\": 15}, \"zerolinecolor\": \"white\", \"zerolinewidth\": 2}}}, \"xaxis\": {\"anchor\": \"y\", \"domain\": [0.0, 1.0], \"title\": {\"text\": \"topic_number\"}}, \"yaxis\": {\"anchor\": \"x\", \"domain\": [0.0, 1.0], \"title\": {\"text\": \"count\"}}},                        {\"responsive\": true}                    ).then(function(){\n",
       "                            \n",
       "var gd = document.getElementById('7dc966ca-cf78-4b69-92c0-88edb272aed6');\n",
       "var x = new MutationObserver(function (mutations, observer) {{\n",
       "        var display = window.getComputedStyle(gd).display;\n",
       "        if (!display || display === 'none') {{\n",
       "            console.log([gd, 'removed!']);\n",
       "            Plotly.purge(gd);\n",
       "            observer.disconnect();\n",
       "        }}\n",
       "}});\n",
       "\n",
       "// Listen for the removal of the full notebook cells\n",
       "var notebookContainer = gd.closest('#notebook-container');\n",
       "if (notebookContainer) {{\n",
       "    x.observe(notebookContainer, {childList: true});\n",
       "}}\n",
       "\n",
       "// Listen for the clearing of the current output cell\n",
       "var outputEl = gd.closest('.output');\n",
       "if (outputEl) {{\n",
       "    x.observe(outputEl, {childList: true});\n",
       "}}\n",
       "\n",
       "                        })                };                });            </script>        </div>"
      ]
     },
     "metadata": {},
     "output_type": "display_data"
    }
   ],
   "source": [
    "rr2_groups = rr2.groupby('topic_number').size().reset_index(name = 'count').sort_values(by = 'count', ascending = False)\n",
    "fig = px.bar(rr2_groups, x = 'topic_number', y = 'count')\n",
    "fig"
   ]
  },
  {
   "cell_type": "markdown",
   "metadata": {},
   "source": [
    "#### Spaghetti graph to show if there are any surges in topics"
   ]
  },
  {
   "cell_type": "code",
   "execution_count": 108,
   "metadata": {},
   "outputs": [
    {
     "name": "stderr",
     "output_type": "stream",
     "text": [
      "C:\\Users\\ncruickshank\\Anaconda3\\envs\\pyr\\lib\\site-packages\\ipykernel_launcher.py:1: SettingWithCopyWarning:\n",
      "\n",
      "\n",
      "A value is trying to be set on a copy of a slice from a DataFrame.\n",
      "Try using .loc[row_indexer,col_indexer] = value instead\n",
      "\n",
      "See the caveats in the documentation: https://pandas.pydata.org/pandas-docs/stable/user_guide/indexing.html#returning-a-view-versus-a-copy\n",
      "\n"
     ]
    },
    {
     "data": {
      "application/vnd.plotly.v1+json": {
       "config": {
        "plotlyServerURL": "https://plot.ly"
       },
       "data": [
        {
         "hovertemplate": "topic_number=8<br>month=%{x}<br>count=%{y}<extra></extra>",
         "legendgroup": "8",
         "line": {
          "color": "#636efa",
          "dash": "solid"
         },
         "mode": "lines",
         "name": "8",
         "orientation": "v",
         "showlegend": true,
         "type": "scatter",
         "visible": true,
         "x": [
          "2019-05-01T00:00:00",
          "2019-06-01T00:00:00",
          "2019-07-01T00:00:00",
          "2019-08-01T00:00:00",
          "2019-09-01T00:00:00",
          "2019-10-01T00:00:00",
          "2019-11-01T00:00:00",
          "2019-12-01T00:00:00",
          "2020-01-01T00:00:00",
          "2020-02-01T00:00:00",
          "2020-03-01T00:00:00",
          "2020-05-01T00:00:00",
          "2020-10-01T00:00:00",
          "2020-11-01T00:00:00",
          "2021-01-01T00:00:00"
         ],
         "xaxis": "x",
         "y": [
          3,
          5,
          14,
          5,
          1,
          2,
          14,
          5,
          8,
          1,
          7,
          1,
          1,
          1,
          11
         ],
         "yaxis": "y"
        },
        {
         "hovertemplate": "topic_number=1<br>month=%{x}<br>count=%{y}<extra></extra>",
         "legendgroup": "1",
         "line": {
          "color": "#EF553B",
          "dash": "solid"
         },
         "mode": "lines",
         "name": "1",
         "orientation": "v",
         "showlegend": true,
         "type": "scatter",
         "visible": true,
         "x": [
          "2019-05-01T00:00:00",
          "2019-06-01T00:00:00",
          "2019-07-01T00:00:00",
          "2019-08-01T00:00:00",
          "2019-09-01T00:00:00",
          "2019-11-01T00:00:00",
          "2019-12-01T00:00:00",
          "2020-01-01T00:00:00",
          "2020-02-01T00:00:00",
          "2020-03-01T00:00:00",
          "2020-09-01T00:00:00",
          "2020-10-01T00:00:00"
         ],
         "xaxis": "x",
         "y": [
          1,
          1,
          12,
          8,
          5,
          4,
          12,
          7,
          7,
          4,
          1,
          3
         ],
         "yaxis": "y"
        },
        {
         "hovertemplate": "topic_number=5<br>month=%{x}<br>count=%{y}<extra></extra>",
         "legendgroup": "5",
         "line": {
          "color": "#00cc96",
          "dash": "solid"
         },
         "mode": "lines",
         "name": "5",
         "orientation": "v",
         "showlegend": true,
         "type": "scatter",
         "visible": true,
         "x": [
          "2019-05-01T00:00:00",
          "2019-06-01T00:00:00",
          "2019-07-01T00:00:00",
          "2019-08-01T00:00:00",
          "2019-09-01T00:00:00",
          "2019-10-01T00:00:00",
          "2019-11-01T00:00:00",
          "2019-12-01T00:00:00",
          "2020-01-01T00:00:00",
          "2020-02-01T00:00:00",
          "2020-03-01T00:00:00",
          "2020-05-01T00:00:00",
          "2020-08-01T00:00:00",
          "2020-10-01T00:00:00",
          "2020-11-01T00:00:00",
          "2020-12-01T00:00:00",
          "2021-01-01T00:00:00"
         ],
         "xaxis": "x",
         "y": [
          1,
          1,
          4,
          3,
          3,
          3,
          6,
          2,
          3,
          2,
          2,
          1,
          1,
          2,
          5,
          1,
          1
         ],
         "yaxis": "y"
        },
        {
         "hovertemplate": "topic_number=6<br>month=%{x}<br>count=%{y}<extra></extra>",
         "legendgroup": "6",
         "line": {
          "color": "#ab63fa",
          "dash": "solid"
         },
         "mode": "lines",
         "name": "6",
         "orientation": "v",
         "showlegend": true,
         "type": "scatter",
         "visible": true,
         "x": [
          "2019-05-01T00:00:00",
          "2019-06-01T00:00:00",
          "2019-07-01T00:00:00",
          "2019-08-01T00:00:00",
          "2019-10-01T00:00:00",
          "2019-11-01T00:00:00",
          "2019-12-01T00:00:00",
          "2020-01-01T00:00:00",
          "2020-02-01T00:00:00",
          "2020-03-01T00:00:00",
          "2020-05-01T00:00:00",
          "2020-11-01T00:00:00"
         ],
         "xaxis": "x",
         "y": [
          3,
          2,
          5,
          1,
          3,
          2,
          1,
          2,
          3,
          2,
          1,
          2
         ],
         "yaxis": "y"
        },
        {
         "hovertemplate": "topic_number=7<br>month=%{x}<br>count=%{y}<extra></extra>",
         "legendgroup": "7",
         "line": {
          "color": "#FFA15A",
          "dash": "solid"
         },
         "mode": "lines",
         "name": "7",
         "orientation": "v",
         "showlegend": true,
         "type": "scatter",
         "visible": true,
         "x": [
          "2019-05-01T00:00:00",
          "2019-06-01T00:00:00",
          "2019-07-01T00:00:00",
          "2019-08-01T00:00:00",
          "2019-09-01T00:00:00",
          "2019-10-01T00:00:00",
          "2019-11-01T00:00:00",
          "2019-12-01T00:00:00",
          "2020-01-01T00:00:00",
          "2020-02-01T00:00:00",
          "2020-03-01T00:00:00",
          "2020-05-01T00:00:00",
          "2020-09-01T00:00:00",
          "2020-10-01T00:00:00"
         ],
         "xaxis": "x",
         "y": [
          3,
          12,
          25,
          9,
          3,
          1,
          7,
          6,
          3,
          3,
          5,
          3,
          6,
          14
         ],
         "yaxis": "y"
        },
        {
         "hovertemplate": "topic_number=3<br>month=%{x}<br>count=%{y}<extra></extra>",
         "legendgroup": "3",
         "line": {
          "color": "#19d3f3",
          "dash": "solid"
         },
         "mode": "lines",
         "name": "3",
         "orientation": "v",
         "showlegend": true,
         "type": "scatter",
         "visible": true,
         "x": [
          "2019-06-01T00:00:00",
          "2019-07-01T00:00:00",
          "2019-08-01T00:00:00",
          "2019-11-01T00:00:00",
          "2019-12-01T00:00:00",
          "2020-01-01T00:00:00",
          "2020-03-01T00:00:00",
          "2020-09-01T00:00:00",
          "2020-10-01T00:00:00"
         ],
         "xaxis": "x",
         "y": [
          2,
          3,
          1,
          1,
          1,
          2,
          1,
          1,
          2
         ],
         "yaxis": "y"
        },
        {
         "hovertemplate": "topic_number=2<br>month=%{x}<br>count=%{y}<extra></extra>",
         "legendgroup": "2",
         "line": {
          "color": "#FF6692",
          "dash": "solid"
         },
         "mode": "lines",
         "name": "2",
         "orientation": "v",
         "showlegend": true,
         "type": "scatter",
         "visible": true,
         "x": [
          "2019-06-01T00:00:00",
          "2019-07-01T00:00:00",
          "2019-11-01T00:00:00",
          "2019-12-01T00:00:00",
          "2020-01-01T00:00:00",
          "2020-12-01T00:00:00",
          "2021-01-01T00:00:00"
         ],
         "xaxis": "x",
         "y": [
          1,
          1,
          1,
          1,
          1,
          1,
          1
         ],
         "yaxis": "y"
        },
        {
         "hovertemplate": "topic_number=0<br>month=%{x}<br>count=%{y}<extra></extra>",
         "legendgroup": "0",
         "line": {
          "color": "#B6E880",
          "dash": "solid"
         },
         "mode": "lines",
         "name": "0",
         "orientation": "v",
         "showlegend": true,
         "type": "scatter",
         "visible": true,
         "x": [
          "2019-07-01T00:00:00",
          "2020-01-01T00:00:00"
         ],
         "xaxis": "x",
         "y": [
          1,
          1
         ],
         "yaxis": "y"
        },
        {
         "hovertemplate": "topic_number=4<br>month=%{x}<br>count=%{y}<extra></extra>",
         "legendgroup": "4",
         "line": {
          "color": "#FF97FF",
          "dash": "solid"
         },
         "mode": "lines",
         "name": "4",
         "orientation": "v",
         "showlegend": true,
         "type": "scatter",
         "visible": true,
         "x": [
          "2019-07-01T00:00:00",
          "2019-08-01T00:00:00",
          "2019-09-01T00:00:00",
          "2019-10-01T00:00:00",
          "2019-12-01T00:00:00",
          "2020-03-01T00:00:00",
          "2020-08-01T00:00:00",
          "2020-11-01T00:00:00",
          "2020-12-01T00:00:00"
         ],
         "xaxis": "x",
         "y": [
          2,
          1,
          1,
          1,
          1,
          1,
          1,
          7,
          2
         ],
         "yaxis": "y"
        }
       ],
       "layout": {
        "autosize": true,
        "legend": {
         "title": {
          "text": "topic_number"
         },
         "tracegroupgap": 0
        },
        "template": {
         "data": {
          "bar": [
           {
            "error_x": {
             "color": "#2a3f5f"
            },
            "error_y": {
             "color": "#2a3f5f"
            },
            "marker": {
             "line": {
              "color": "#E5ECF6",
              "width": 0.5
             }
            },
            "type": "bar"
           }
          ],
          "barpolar": [
           {
            "marker": {
             "line": {
              "color": "#E5ECF6",
              "width": 0.5
             }
            },
            "type": "barpolar"
           }
          ],
          "carpet": [
           {
            "aaxis": {
             "endlinecolor": "#2a3f5f",
             "gridcolor": "white",
             "linecolor": "white",
             "minorgridcolor": "white",
             "startlinecolor": "#2a3f5f"
            },
            "baxis": {
             "endlinecolor": "#2a3f5f",
             "gridcolor": "white",
             "linecolor": "white",
             "minorgridcolor": "white",
             "startlinecolor": "#2a3f5f"
            },
            "type": "carpet"
           }
          ],
          "choropleth": [
           {
            "colorbar": {
             "outlinewidth": 0,
             "ticks": ""
            },
            "type": "choropleth"
           }
          ],
          "contour": [
           {
            "colorbar": {
             "outlinewidth": 0,
             "ticks": ""
            },
            "colorscale": [
             [
              0,
              "#0d0887"
             ],
             [
              0.1111111111111111,
              "#46039f"
             ],
             [
              0.2222222222222222,
              "#7201a8"
             ],
             [
              0.3333333333333333,
              "#9c179e"
             ],
             [
              0.4444444444444444,
              "#bd3786"
             ],
             [
              0.5555555555555556,
              "#d8576b"
             ],
             [
              0.6666666666666666,
              "#ed7953"
             ],
             [
              0.7777777777777778,
              "#fb9f3a"
             ],
             [
              0.8888888888888888,
              "#fdca26"
             ],
             [
              1,
              "#f0f921"
             ]
            ],
            "type": "contour"
           }
          ],
          "contourcarpet": [
           {
            "colorbar": {
             "outlinewidth": 0,
             "ticks": ""
            },
            "type": "contourcarpet"
           }
          ],
          "heatmap": [
           {
            "colorbar": {
             "outlinewidth": 0,
             "ticks": ""
            },
            "colorscale": [
             [
              0,
              "#0d0887"
             ],
             [
              0.1111111111111111,
              "#46039f"
             ],
             [
              0.2222222222222222,
              "#7201a8"
             ],
             [
              0.3333333333333333,
              "#9c179e"
             ],
             [
              0.4444444444444444,
              "#bd3786"
             ],
             [
              0.5555555555555556,
              "#d8576b"
             ],
             [
              0.6666666666666666,
              "#ed7953"
             ],
             [
              0.7777777777777778,
              "#fb9f3a"
             ],
             [
              0.8888888888888888,
              "#fdca26"
             ],
             [
              1,
              "#f0f921"
             ]
            ],
            "type": "heatmap"
           }
          ],
          "heatmapgl": [
           {
            "colorbar": {
             "outlinewidth": 0,
             "ticks": ""
            },
            "colorscale": [
             [
              0,
              "#0d0887"
             ],
             [
              0.1111111111111111,
              "#46039f"
             ],
             [
              0.2222222222222222,
              "#7201a8"
             ],
             [
              0.3333333333333333,
              "#9c179e"
             ],
             [
              0.4444444444444444,
              "#bd3786"
             ],
             [
              0.5555555555555556,
              "#d8576b"
             ],
             [
              0.6666666666666666,
              "#ed7953"
             ],
             [
              0.7777777777777778,
              "#fb9f3a"
             ],
             [
              0.8888888888888888,
              "#fdca26"
             ],
             [
              1,
              "#f0f921"
             ]
            ],
            "type": "heatmapgl"
           }
          ],
          "histogram": [
           {
            "marker": {
             "colorbar": {
              "outlinewidth": 0,
              "ticks": ""
             }
            },
            "type": "histogram"
           }
          ],
          "histogram2d": [
           {
            "colorbar": {
             "outlinewidth": 0,
             "ticks": ""
            },
            "colorscale": [
             [
              0,
              "#0d0887"
             ],
             [
              0.1111111111111111,
              "#46039f"
             ],
             [
              0.2222222222222222,
              "#7201a8"
             ],
             [
              0.3333333333333333,
              "#9c179e"
             ],
             [
              0.4444444444444444,
              "#bd3786"
             ],
             [
              0.5555555555555556,
              "#d8576b"
             ],
             [
              0.6666666666666666,
              "#ed7953"
             ],
             [
              0.7777777777777778,
              "#fb9f3a"
             ],
             [
              0.8888888888888888,
              "#fdca26"
             ],
             [
              1,
              "#f0f921"
             ]
            ],
            "type": "histogram2d"
           }
          ],
          "histogram2dcontour": [
           {
            "colorbar": {
             "outlinewidth": 0,
             "ticks": ""
            },
            "colorscale": [
             [
              0,
              "#0d0887"
             ],
             [
              0.1111111111111111,
              "#46039f"
             ],
             [
              0.2222222222222222,
              "#7201a8"
             ],
             [
              0.3333333333333333,
              "#9c179e"
             ],
             [
              0.4444444444444444,
              "#bd3786"
             ],
             [
              0.5555555555555556,
              "#d8576b"
             ],
             [
              0.6666666666666666,
              "#ed7953"
             ],
             [
              0.7777777777777778,
              "#fb9f3a"
             ],
             [
              0.8888888888888888,
              "#fdca26"
             ],
             [
              1,
              "#f0f921"
             ]
            ],
            "type": "histogram2dcontour"
           }
          ],
          "mesh3d": [
           {
            "colorbar": {
             "outlinewidth": 0,
             "ticks": ""
            },
            "type": "mesh3d"
           }
          ],
          "parcoords": [
           {
            "line": {
             "colorbar": {
              "outlinewidth": 0,
              "ticks": ""
             }
            },
            "type": "parcoords"
           }
          ],
          "pie": [
           {
            "automargin": true,
            "type": "pie"
           }
          ],
          "scatter": [
           {
            "marker": {
             "colorbar": {
              "outlinewidth": 0,
              "ticks": ""
             }
            },
            "type": "scatter"
           }
          ],
          "scatter3d": [
           {
            "line": {
             "colorbar": {
              "outlinewidth": 0,
              "ticks": ""
             }
            },
            "marker": {
             "colorbar": {
              "outlinewidth": 0,
              "ticks": ""
             }
            },
            "type": "scatter3d"
           }
          ],
          "scattercarpet": [
           {
            "marker": {
             "colorbar": {
              "outlinewidth": 0,
              "ticks": ""
             }
            },
            "type": "scattercarpet"
           }
          ],
          "scattergeo": [
           {
            "marker": {
             "colorbar": {
              "outlinewidth": 0,
              "ticks": ""
             }
            },
            "type": "scattergeo"
           }
          ],
          "scattergl": [
           {
            "marker": {
             "colorbar": {
              "outlinewidth": 0,
              "ticks": ""
             }
            },
            "type": "scattergl"
           }
          ],
          "scattermapbox": [
           {
            "marker": {
             "colorbar": {
              "outlinewidth": 0,
              "ticks": ""
             }
            },
            "type": "scattermapbox"
           }
          ],
          "scatterpolar": [
           {
            "marker": {
             "colorbar": {
              "outlinewidth": 0,
              "ticks": ""
             }
            },
            "type": "scatterpolar"
           }
          ],
          "scatterpolargl": [
           {
            "marker": {
             "colorbar": {
              "outlinewidth": 0,
              "ticks": ""
             }
            },
            "type": "scatterpolargl"
           }
          ],
          "scatterternary": [
           {
            "marker": {
             "colorbar": {
              "outlinewidth": 0,
              "ticks": ""
             }
            },
            "type": "scatterternary"
           }
          ],
          "surface": [
           {
            "colorbar": {
             "outlinewidth": 0,
             "ticks": ""
            },
            "colorscale": [
             [
              0,
              "#0d0887"
             ],
             [
              0.1111111111111111,
              "#46039f"
             ],
             [
              0.2222222222222222,
              "#7201a8"
             ],
             [
              0.3333333333333333,
              "#9c179e"
             ],
             [
              0.4444444444444444,
              "#bd3786"
             ],
             [
              0.5555555555555556,
              "#d8576b"
             ],
             [
              0.6666666666666666,
              "#ed7953"
             ],
             [
              0.7777777777777778,
              "#fb9f3a"
             ],
             [
              0.8888888888888888,
              "#fdca26"
             ],
             [
              1,
              "#f0f921"
             ]
            ],
            "type": "surface"
           }
          ],
          "table": [
           {
            "cells": {
             "fill": {
              "color": "#EBF0F8"
             },
             "line": {
              "color": "white"
             }
            },
            "header": {
             "fill": {
              "color": "#C8D4E3"
             },
             "line": {
              "color": "white"
             }
            },
            "type": "table"
           }
          ]
         },
         "layout": {
          "annotationdefaults": {
           "arrowcolor": "#2a3f5f",
           "arrowhead": 0,
           "arrowwidth": 1
          },
          "autotypenumbers": "strict",
          "coloraxis": {
           "colorbar": {
            "outlinewidth": 0,
            "ticks": ""
           }
          },
          "colorscale": {
           "diverging": [
            [
             0,
             "#8e0152"
            ],
            [
             0.1,
             "#c51b7d"
            ],
            [
             0.2,
             "#de77ae"
            ],
            [
             0.3,
             "#f1b6da"
            ],
            [
             0.4,
             "#fde0ef"
            ],
            [
             0.5,
             "#f7f7f7"
            ],
            [
             0.6,
             "#e6f5d0"
            ],
            [
             0.7,
             "#b8e186"
            ],
            [
             0.8,
             "#7fbc41"
            ],
            [
             0.9,
             "#4d9221"
            ],
            [
             1,
             "#276419"
            ]
           ],
           "sequential": [
            [
             0,
             "#0d0887"
            ],
            [
             0.1111111111111111,
             "#46039f"
            ],
            [
             0.2222222222222222,
             "#7201a8"
            ],
            [
             0.3333333333333333,
             "#9c179e"
            ],
            [
             0.4444444444444444,
             "#bd3786"
            ],
            [
             0.5555555555555556,
             "#d8576b"
            ],
            [
             0.6666666666666666,
             "#ed7953"
            ],
            [
             0.7777777777777778,
             "#fb9f3a"
            ],
            [
             0.8888888888888888,
             "#fdca26"
            ],
            [
             1,
             "#f0f921"
            ]
           ],
           "sequentialminus": [
            [
             0,
             "#0d0887"
            ],
            [
             0.1111111111111111,
             "#46039f"
            ],
            [
             0.2222222222222222,
             "#7201a8"
            ],
            [
             0.3333333333333333,
             "#9c179e"
            ],
            [
             0.4444444444444444,
             "#bd3786"
            ],
            [
             0.5555555555555556,
             "#d8576b"
            ],
            [
             0.6666666666666666,
             "#ed7953"
            ],
            [
             0.7777777777777778,
             "#fb9f3a"
            ],
            [
             0.8888888888888888,
             "#fdca26"
            ],
            [
             1,
             "#f0f921"
            ]
           ]
          },
          "colorway": [
           "#636efa",
           "#EF553B",
           "#00cc96",
           "#ab63fa",
           "#FFA15A",
           "#19d3f3",
           "#FF6692",
           "#B6E880",
           "#FF97FF",
           "#FECB52"
          ],
          "font": {
           "color": "#2a3f5f"
          },
          "geo": {
           "bgcolor": "white",
           "lakecolor": "white",
           "landcolor": "#E5ECF6",
           "showlakes": true,
           "showland": true,
           "subunitcolor": "white"
          },
          "hoverlabel": {
           "align": "left"
          },
          "hovermode": "closest",
          "mapbox": {
           "style": "light"
          },
          "paper_bgcolor": "white",
          "plot_bgcolor": "#E5ECF6",
          "polar": {
           "angularaxis": {
            "gridcolor": "white",
            "linecolor": "white",
            "ticks": ""
           },
           "bgcolor": "#E5ECF6",
           "radialaxis": {
            "gridcolor": "white",
            "linecolor": "white",
            "ticks": ""
           }
          },
          "scene": {
           "xaxis": {
            "backgroundcolor": "#E5ECF6",
            "gridcolor": "white",
            "gridwidth": 2,
            "linecolor": "white",
            "showbackground": true,
            "ticks": "",
            "zerolinecolor": "white"
           },
           "yaxis": {
            "backgroundcolor": "#E5ECF6",
            "gridcolor": "white",
            "gridwidth": 2,
            "linecolor": "white",
            "showbackground": true,
            "ticks": "",
            "zerolinecolor": "white"
           },
           "zaxis": {
            "backgroundcolor": "#E5ECF6",
            "gridcolor": "white",
            "gridwidth": 2,
            "linecolor": "white",
            "showbackground": true,
            "ticks": "",
            "zerolinecolor": "white"
           }
          },
          "shapedefaults": {
           "line": {
            "color": "#2a3f5f"
           }
          },
          "ternary": {
           "aaxis": {
            "gridcolor": "white",
            "linecolor": "white",
            "ticks": ""
           },
           "baxis": {
            "gridcolor": "white",
            "linecolor": "white",
            "ticks": ""
           },
           "bgcolor": "#E5ECF6",
           "caxis": {
            "gridcolor": "white",
            "linecolor": "white",
            "ticks": ""
           }
          },
          "title": {
           "x": 0.05
          },
          "xaxis": {
           "automargin": true,
           "gridcolor": "white",
           "linecolor": "white",
           "ticks": "",
           "title": {
            "standoff": 15
           },
           "zerolinecolor": "white",
           "zerolinewidth": 2
          },
          "yaxis": {
           "automargin": true,
           "gridcolor": "white",
           "linecolor": "white",
           "ticks": "",
           "title": {
            "standoff": 15
           },
           "zerolinecolor": "white",
           "zerolinewidth": 2
          }
         }
        },
        "title": {
         "text": "Timeline of number observations made each month grouped by topic number"
        },
        "xaxis": {
         "anchor": "y",
         "autorange": true,
         "domain": [
          0,
          1
         ],
         "range": [
          "2019-05-01",
          "2021-01-01"
         ],
         "title": {
          "text": "month"
         },
         "type": "date"
        },
        "yaxis": {
         "anchor": "x",
         "autorange": true,
         "domain": [
          0,
          1
         ],
         "range": [
          -0.33333333333333326,
          26.333333333333332
         ],
         "title": {
          "text": "count"
         },
         "type": "linear"
        }
       }
      },
      "image/png": "[encoded data removed]",
      "text/html": [
       "<div>                            <div id=\"8da1e505-74ff-43c1-b37a-d829c898e0c5\" class=\"plotly-graph-div\" style=\"height:525px; width:100%;\"></div>            <script type=\"text/javascript\">                require([\"plotly\"], function(Plotly) {                    window.PLOTLYENV=window.PLOTLYENV || {};                                    if (document.getElementById(\"8da1e505-74ff-43c1-b37a-d829c898e0c5\")) {                    Plotly.newPlot(                        \"8da1e505-74ff-43c1-b37a-d829c898e0c5\",                        [{\"hovertemplate\": \"topic_number=8<br>month=%{x}<br>count=%{y}<extra></extra>\", \"legendgroup\": \"8\", \"line\": {\"color\": \"#636efa\", \"dash\": \"solid\"}, \"mode\": \"lines\", \"name\": \"8\", \"orientation\": \"v\", \"showlegend\": true, \"type\": \"scatter\", \"x\": [\"2019-05-01T00:00:00\", \"2019-06-01T00:00:00\", \"2019-07-01T00:00:00\", \"2019-08-01T00:00:00\", \"2019-09-01T00:00:00\", \"2019-10-01T00:00:00\", \"2019-11-01T00:00:00\", \"2019-12-01T00:00:00\", \"2020-01-01T00:00:00\", \"2020-02-01T00:00:00\", \"2020-03-01T00:00:00\", \"2020-05-01T00:00:00\", \"2020-10-01T00:00:00\", \"2020-11-01T00:00:00\", \"2021-01-01T00:00:00\"], \"xaxis\": \"x\", \"y\": [3, 5, 14, 5, 1, 2, 14, 5, 8, 1, 7, 1, 1, 1, 11], \"yaxis\": \"y\"}, {\"hovertemplate\": \"topic_number=1<br>month=%{x}<br>count=%{y}<extra></extra>\", \"legendgroup\": \"1\", \"line\": {\"color\": \"#EF553B\", \"dash\": \"solid\"}, \"mode\": \"lines\", \"name\": \"1\", \"orientation\": \"v\", \"showlegend\": true, \"type\": \"scatter\", \"x\": [\"2019-05-01T00:00:00\", \"2019-06-01T00:00:00\", \"2019-07-01T00:00:00\", \"2019-08-01T00:00:00\", \"2019-09-01T00:00:00\", \"2019-11-01T00:00:00\", \"2019-12-01T00:00:00\", \"2020-01-01T00:00:00\", \"2020-02-01T00:00:00\", \"2020-03-01T00:00:00\", \"2020-09-01T00:00:00\", \"2020-10-01T00:00:00\"], \"xaxis\": \"x\", \"y\": [1, 1, 12, 8, 5, 4, 12, 7, 7, 4, 1, 3], \"yaxis\": \"y\"}, {\"hovertemplate\": \"topic_number=5<br>month=%{x}<br>count=%{y}<extra></extra>\", \"legendgroup\": \"5\", \"line\": {\"color\": \"#00cc96\", \"dash\": \"solid\"}, \"mode\": \"lines\", \"name\": \"5\", \"orientation\": \"v\", \"showlegend\": true, \"type\": \"scatter\", \"x\": [\"2019-05-01T00:00:00\", \"2019-06-01T00:00:00\", \"2019-07-01T00:00:00\", \"2019-08-01T00:00:00\", \"2019-09-01T00:00:00\", \"2019-10-01T00:00:00\", \"2019-11-01T00:00:00\", \"2019-12-01T00:00:00\", \"2020-01-01T00:00:00\", \"2020-02-01T00:00:00\", \"2020-03-01T00:00:00\", \"2020-05-01T00:00:00\", \"2020-08-01T00:00:00\", \"2020-10-01T00:00:00\", \"2020-11-01T00:00:00\", \"2020-12-01T00:00:00\", \"2021-01-01T00:00:00\"], \"xaxis\": \"x\", \"y\": [1, 1, 4, 3, 3, 3, 6, 2, 3, 2, 2, 1, 1, 2, 5, 1, 1], \"yaxis\": \"y\"}, {\"hovertemplate\": \"topic_number=6<br>month=%{x}<br>count=%{y}<extra></extra>\", \"legendgroup\": \"6\", \"line\": {\"color\": \"#ab63fa\", \"dash\": \"solid\"}, \"mode\": \"lines\", \"name\": \"6\", \"orientation\": \"v\", \"showlegend\": true, \"type\": \"scatter\", \"x\": [\"2019-05-01T00:00:00\", \"2019-06-01T00:00:00\", \"2019-07-01T00:00:00\", \"2019-08-01T00:00:00\", \"2019-10-01T00:00:00\", \"2019-11-01T00:00:00\", \"2019-12-01T00:00:00\", \"2020-01-01T00:00:00\", \"2020-02-01T00:00:00\", \"2020-03-01T00:00:00\", \"2020-05-01T00:00:00\", \"2020-11-01T00:00:00\"], \"xaxis\": \"x\", \"y\": [3, 2, 5, 1, 3, 2, 1, 2, 3, 2, 1, 2], \"yaxis\": \"y\"}, {\"hovertemplate\": \"topic_number=7<br>month=%{x}<br>count=%{y}<extra></extra>\", \"legendgroup\": \"7\", \"line\": {\"color\": \"#FFA15A\", \"dash\": \"solid\"}, \"mode\": \"lines\", \"name\": \"7\", \"orientation\": \"v\", \"showlegend\": true, \"type\": \"scatter\", \"x\": [\"2019-05-01T00:00:00\", \"2019-06-01T00:00:00\", \"2019-07-01T00:00:00\", \"2019-08-01T00:00:00\", \"2019-09-01T00:00:00\", \"2019-10-01T00:00:00\", \"2019-11-01T00:00:00\", \"2019-12-01T00:00:00\", \"2020-01-01T00:00:00\", \"2020-02-01T00:00:00\", \"2020-03-01T00:00:00\", \"2020-05-01T00:00:00\", \"2020-09-01T00:00:00\", \"2020-10-01T00:00:00\"], \"xaxis\": \"x\", \"y\": [3, 12, 25, 9, 3, 1, 7, 6, 3, 3, 5, 3, 6, 14], \"yaxis\": \"y\"}, {\"hovertemplate\": \"topic_number=3<br>month=%{x}<br>count=%{y}<extra></extra>\", \"legendgroup\": \"3\", \"line\": {\"color\": \"#19d3f3\", \"dash\": \"solid\"}, \"mode\": \"lines\", \"name\": \"3\", \"orientation\": \"v\", \"showlegend\": true, \"type\": \"scatter\", \"x\": [\"2019-06-01T00:00:00\", \"2019-07-01T00:00:00\", \"2019-08-01T00:00:00\", \"2019-11-01T00:00:00\", \"2019-12-01T00:00:00\", \"2020-01-01T00:00:00\", \"2020-03-01T00:00:00\", \"2020-09-01T00:00:00\", \"2020-10-01T00:00:00\"], \"xaxis\": \"x\", \"y\": [2, 3, 1, 1, 1, 2, 1, 1, 2], \"yaxis\": \"y\"}, {\"hovertemplate\": \"topic_number=2<br>month=%{x}<br>count=%{y}<extra></extra>\", \"legendgroup\": \"2\", \"line\": {\"color\": \"#FF6692\", \"dash\": \"solid\"}, \"mode\": \"lines\", \"name\": \"2\", \"orientation\": \"v\", \"showlegend\": true, \"type\": \"scatter\", \"x\": [\"2019-06-01T00:00:00\", \"2019-07-01T00:00:00\", \"2019-11-01T00:00:00\", \"2019-12-01T00:00:00\", \"2020-01-01T00:00:00\", \"2020-12-01T00:00:00\", \"2021-01-01T00:00:00\"], \"xaxis\": \"x\", \"y\": [1, 1, 1, 1, 1, 1, 1], \"yaxis\": \"y\"}, {\"hovertemplate\": \"topic_number=0<br>month=%{x}<br>count=%{y}<extra></extra>\", \"legendgroup\": \"0\", \"line\": {\"color\": \"#B6E880\", \"dash\": \"solid\"}, \"mode\": \"lines\", \"name\": \"0\", \"orientation\": \"v\", \"showlegend\": true, \"type\": \"scatter\", \"x\": [\"2019-07-01T00:00:00\", \"2020-01-01T00:00:00\"], \"xaxis\": \"x\", \"y\": [1, 1], \"yaxis\": \"y\"}, {\"hovertemplate\": \"topic_number=4<br>month=%{x}<br>count=%{y}<extra></extra>\", \"legendgroup\": \"4\", \"line\": {\"color\": \"#FF97FF\", \"dash\": \"solid\"}, \"mode\": \"lines\", \"name\": \"4\", \"orientation\": \"v\", \"showlegend\": true, \"type\": \"scatter\", \"x\": [\"2019-07-01T00:00:00\", \"2019-08-01T00:00:00\", \"2019-09-01T00:00:00\", \"2019-10-01T00:00:00\", \"2019-12-01T00:00:00\", \"2020-03-01T00:00:00\", \"2020-08-01T00:00:00\", \"2020-11-01T00:00:00\", \"2020-12-01T00:00:00\"], \"xaxis\": \"x\", \"y\": [2, 1, 1, 1, 1, 1, 1, 7, 2], \"yaxis\": \"y\"}],                        {\"legend\": {\"title\": {\"text\": \"topic_number\"}, \"tracegroupgap\": 0}, \"template\": {\"data\": {\"bar\": [{\"error_x\": {\"color\": \"#2a3f5f\"}, \"error_y\": {\"color\": \"#2a3f5f\"}, \"marker\": {\"line\": {\"color\": \"#E5ECF6\", \"width\": 0.5}}, \"type\": \"bar\"}], \"barpolar\": [{\"marker\": {\"line\": {\"color\": \"#E5ECF6\", \"width\": 0.5}}, \"type\": \"barpolar\"}], \"carpet\": [{\"aaxis\": {\"endlinecolor\": \"#2a3f5f\", \"gridcolor\": \"white\", \"linecolor\": \"white\", \"minorgridcolor\": \"white\", \"startlinecolor\": \"#2a3f5f\"}, \"baxis\": {\"endlinecolor\": \"#2a3f5f\", \"gridcolor\": \"white\", \"linecolor\": \"white\", \"minorgridcolor\": \"white\", \"startlinecolor\": \"#2a3f5f\"}, \"type\": \"carpet\"}], \"choropleth\": [{\"colorbar\": {\"outlinewidth\": 0, \"ticks\": \"\"}, \"type\": \"choropleth\"}], \"contour\": [{\"colorbar\": {\"outlinewidth\": 0, \"ticks\": \"\"}, \"colorscale\": [[0.0, \"#0d0887\"], [0.1111111111111111, \"#46039f\"], [0.2222222222222222, \"#7201a8\"], [0.3333333333333333, \"#9c179e\"], [0.4444444444444444, \"#bd3786\"], [0.5555555555555556, \"#d8576b\"], [0.6666666666666666, \"#ed7953\"], [0.7777777777777778, \"#fb9f3a\"], [0.8888888888888888, \"#fdca26\"], [1.0, \"#f0f921\"]], \"type\": \"contour\"}], \"contourcarpet\": [{\"colorbar\": {\"outlinewidth\": 0, \"ticks\": \"\"}, \"type\": \"contourcarpet\"}], \"heatmap\": [{\"colorbar\": {\"outlinewidth\": 0, \"ticks\": \"\"}, \"colorscale\": [[0.0, \"#0d0887\"], [0.1111111111111111, \"#46039f\"], [0.2222222222222222, \"#7201a8\"], [0.3333333333333333, \"#9c179e\"], [0.4444444444444444, \"#bd3786\"], [0.5555555555555556, \"#d8576b\"], [0.6666666666666666, \"#ed7953\"], [0.7777777777777778, \"#fb9f3a\"], [0.8888888888888888, \"#fdca26\"], [1.0, \"#f0f921\"]], \"type\": \"heatmap\"}], \"heatmapgl\": [{\"colorbar\": {\"outlinewidth\": 0, \"ticks\": \"\"}, \"colorscale\": [[0.0, \"#0d0887\"], [0.1111111111111111, \"#46039f\"], [0.2222222222222222, \"#7201a8\"], [0.3333333333333333, \"#9c179e\"], [0.4444444444444444, \"#bd3786\"], [0.5555555555555556, \"#d8576b\"], [0.6666666666666666, \"#ed7953\"], [0.7777777777777778, \"#fb9f3a\"], [0.8888888888888888, \"#fdca26\"], [1.0, \"#f0f921\"]], \"type\": \"heatmapgl\"}], \"histogram\": [{\"marker\": {\"colorbar\": {\"outlinewidth\": 0, \"ticks\": \"\"}}, \"type\": \"histogram\"}], \"histogram2d\": [{\"colorbar\": {\"outlinewidth\": 0, \"ticks\": \"\"}, \"colorscale\": [[0.0, \"#0d0887\"], [0.1111111111111111, \"#46039f\"], [0.2222222222222222, \"#7201a8\"], [0.3333333333333333, \"#9c179e\"], [0.4444444444444444, \"#bd3786\"], [0.5555555555555556, \"#d8576b\"], [0.6666666666666666, \"#ed7953\"], [0.7777777777777778, \"#fb9f3a\"], [0.8888888888888888, \"#fdca26\"], [1.0, \"#f0f921\"]], \"type\": \"histogram2d\"}], \"histogram2dcontour\": [{\"colorbar\": {\"outlinewidth\": 0, \"ticks\": \"\"}, \"colorscale\": [[0.0, \"#0d0887\"], [0.1111111111111111, \"#46039f\"], [0.2222222222222222, \"#7201a8\"], [0.3333333333333333, \"#9c179e\"], [0.4444444444444444, \"#bd3786\"], [0.5555555555555556, \"#d8576b\"], [0.6666666666666666, \"#ed7953\"], [0.7777777777777778, \"#fb9f3a\"], [0.8888888888888888, \"#fdca26\"], [1.0, \"#f0f921\"]], \"type\": \"histogram2dcontour\"}], \"mesh3d\": [{\"colorbar\": {\"outlinewidth\": 0, \"ticks\": \"\"}, \"type\": \"mesh3d\"}], \"parcoords\": [{\"line\": {\"colorbar\": {\"outlinewidth\": 0, \"ticks\": \"\"}}, \"type\": \"parcoords\"}], \"pie\": [{\"automargin\": true, \"type\": \"pie\"}], \"scatter\": [{\"marker\": {\"colorbar\": {\"outlinewidth\": 0, \"ticks\": \"\"}}, \"type\": \"scatter\"}], \"scatter3d\": [{\"line\": {\"colorbar\": {\"outlinewidth\": 0, \"ticks\": \"\"}}, \"marker\": {\"colorbar\": {\"outlinewidth\": 0, \"ticks\": \"\"}}, \"type\": \"scatter3d\"}], \"scattercarpet\": [{\"marker\": {\"colorbar\": {\"outlinewidth\": 0, \"ticks\": \"\"}}, \"type\": \"scattercarpet\"}], \"scattergeo\": [{\"marker\": {\"colorbar\": {\"outlinewidth\": 0, \"ticks\": \"\"}}, \"type\": \"scattergeo\"}], \"scattergl\": [{\"marker\": {\"colorbar\": {\"outlinewidth\": 0, \"ticks\": \"\"}}, \"type\": \"scattergl\"}], \"scattermapbox\": [{\"marker\": {\"colorbar\": {\"outlinewidth\": 0, \"ticks\": \"\"}}, \"type\": \"scattermapbox\"}], \"scatterpolar\": [{\"marker\": {\"colorbar\": {\"outlinewidth\": 0, \"ticks\": \"\"}}, \"type\": \"scatterpolar\"}], \"scatterpolargl\": [{\"marker\": {\"colorbar\": {\"outlinewidth\": 0, \"ticks\": \"\"}}, \"type\": \"scatterpolargl\"}], \"scatterternary\": [{\"marker\": {\"colorbar\": {\"outlinewidth\": 0, \"ticks\": \"\"}}, \"type\": \"scatterternary\"}], \"surface\": [{\"colorbar\": {\"outlinewidth\": 0, \"ticks\": \"\"}, \"colorscale\": [[0.0, \"#0d0887\"], [0.1111111111111111, \"#46039f\"], [0.2222222222222222, \"#7201a8\"], [0.3333333333333333, \"#9c179e\"], [0.4444444444444444, \"#bd3786\"], [0.5555555555555556, \"#d8576b\"], [0.6666666666666666, \"#ed7953\"], [0.7777777777777778, \"#fb9f3a\"], [0.8888888888888888, \"#fdca26\"], [1.0, \"#f0f921\"]], \"type\": \"surface\"}], \"table\": [{\"cells\": {\"fill\": {\"color\": \"#EBF0F8\"}, \"line\": {\"color\": \"white\"}}, \"header\": {\"fill\": {\"color\": \"#C8D4E3\"}, \"line\": {\"color\": \"white\"}}, \"type\": \"table\"}]}, \"layout\": {\"annotationdefaults\": {\"arrowcolor\": \"#2a3f5f\", \"arrowhead\": 0, \"arrowwidth\": 1}, \"autotypenumbers\": \"strict\", \"coloraxis\": {\"colorbar\": {\"outlinewidth\": 0, \"ticks\": \"\"}}, \"colorscale\": {\"diverging\": [[0, \"#8e0152\"], [0.1, \"#c51b7d\"], [0.2, \"#de77ae\"], [0.3, \"#f1b6da\"], [0.4, \"#fde0ef\"], [0.5, \"#f7f7f7\"], [0.6, \"#e6f5d0\"], [0.7, \"#b8e186\"], [0.8, \"#7fbc41\"], [0.9, \"#4d9221\"], [1, \"#276419\"]], \"sequential\": [[0.0, \"#0d0887\"], [0.1111111111111111, \"#46039f\"], [0.2222222222222222, \"#7201a8\"], [0.3333333333333333, \"#9c179e\"], [0.4444444444444444, \"#bd3786\"], [0.5555555555555556, \"#d8576b\"], [0.6666666666666666, \"#ed7953\"], [0.7777777777777778, \"#fb9f3a\"], [0.8888888888888888, \"#fdca26\"], [1.0, \"#f0f921\"]], \"sequentialminus\": [[0.0, \"#0d0887\"], [0.1111111111111111, \"#46039f\"], [0.2222222222222222, \"#7201a8\"], [0.3333333333333333, \"#9c179e\"], [0.4444444444444444, \"#bd3786\"], [0.5555555555555556, \"#d8576b\"], [0.6666666666666666, \"#ed7953\"], [0.7777777777777778, \"#fb9f3a\"], [0.8888888888888888, \"#fdca26\"], [1.0, \"#f0f921\"]]}, \"colorway\": [\"#636efa\", \"#EF553B\", \"#00cc96\", \"#ab63fa\", \"#FFA15A\", \"#19d3f3\", \"#FF6692\", \"#B6E880\", \"#FF97FF\", \"#FECB52\"], \"font\": {\"color\": \"#2a3f5f\"}, \"geo\": {\"bgcolor\": \"white\", \"lakecolor\": \"white\", \"landcolor\": \"#E5ECF6\", \"showlakes\": true, \"showland\": true, \"subunitcolor\": \"white\"}, \"hoverlabel\": {\"align\": \"left\"}, \"hovermode\": \"closest\", \"mapbox\": {\"style\": \"light\"}, \"paper_bgcolor\": \"white\", \"plot_bgcolor\": \"#E5ECF6\", \"polar\": {\"angularaxis\": {\"gridcolor\": \"white\", \"linecolor\": \"white\", \"ticks\": \"\"}, \"bgcolor\": \"#E5ECF6\", \"radialaxis\": {\"gridcolor\": \"white\", \"linecolor\": \"white\", \"ticks\": \"\"}}, \"scene\": {\"xaxis\": {\"backgroundcolor\": \"#E5ECF6\", \"gridcolor\": \"white\", \"gridwidth\": 2, \"linecolor\": \"white\", \"showbackground\": true, \"ticks\": \"\", \"zerolinecolor\": \"white\"}, \"yaxis\": {\"backgroundcolor\": \"#E5ECF6\", \"gridcolor\": \"white\", \"gridwidth\": 2, \"linecolor\": \"white\", \"showbackground\": true, \"ticks\": \"\", \"zerolinecolor\": \"white\"}, \"zaxis\": {\"backgroundcolor\": \"#E5ECF6\", \"gridcolor\": \"white\", \"gridwidth\": 2, \"linecolor\": \"white\", \"showbackground\": true, \"ticks\": \"\", \"zerolinecolor\": \"white\"}}, \"shapedefaults\": {\"line\": {\"color\": \"#2a3f5f\"}}, \"ternary\": {\"aaxis\": {\"gridcolor\": \"white\", \"linecolor\": \"white\", \"ticks\": \"\"}, \"baxis\": {\"gridcolor\": \"white\", \"linecolor\": \"white\", \"ticks\": \"\"}, \"bgcolor\": \"#E5ECF6\", \"caxis\": {\"gridcolor\": \"white\", \"linecolor\": \"white\", \"ticks\": \"\"}}, \"title\": {\"x\": 0.05}, \"xaxis\": {\"automargin\": true, \"gridcolor\": \"white\", \"linecolor\": \"white\", \"ticks\": \"\", \"title\": {\"standoff\": 15}, \"zerolinecolor\": \"white\", \"zerolinewidth\": 2}, \"yaxis\": {\"automargin\": true, \"gridcolor\": \"white\", \"linecolor\": \"white\", \"ticks\": \"\", \"title\": {\"standoff\": 15}, \"zerolinecolor\": \"white\", \"zerolinewidth\": 2}}}, \"title\": {\"text\": \"Timeline of number observations made each month grouped by topic number\"}, \"xaxis\": {\"anchor\": \"y\", \"domain\": [0.0, 1.0], \"title\": {\"text\": \"month\"}}, \"yaxis\": {\"anchor\": \"x\", \"domain\": [0.0, 1.0], \"title\": {\"text\": \"count\"}}},                        {\"responsive\": true}                    ).then(function(){\n",
       "                            \n",
       "var gd = document.getElementById('8da1e505-74ff-43c1-b37a-d829c898e0c5');\n",
       "var x = new MutationObserver(function (mutations, observer) {{\n",
       "        var display = window.getComputedStyle(gd).display;\n",
       "        if (!display || display === 'none') {{\n",
       "            console.log([gd, 'removed!']);\n",
       "            Plotly.purge(gd);\n",
       "            observer.disconnect();\n",
       "        }}\n",
       "}});\n",
       "\n",
       "// Listen for the removal of the full notebook cells\n",
       "var notebookContainer = gd.closest('#notebook-container');\n",
       "if (notebookContainer) {{\n",
       "    x.observe(notebookContainer, {childList: true});\n",
       "}}\n",
       "\n",
       "// Listen for the clearing of the current output cell\n",
       "var outputEl = gd.closest('.output');\n",
       "if (outputEl) {{\n",
       "    x.observe(outputEl, {childList: true});\n",
       "}}\n",
       "\n",
       "                        })                };                });            </script>        </div>"
      ]
     },
     "metadata": {},
     "output_type": "display_data"
    }
   ],
   "source": [
    "rr2['month'] = pd.to_datetime(rr2['record_date']) + pd.offsets.MonthBegin(-1)\n",
    "rr2_time = rr2.groupby(['topic_number', 'month']).size().reset_index(name = 'count').sort_values(by = 'month')\n",
    "rr2_time['month'] = pd.to_datetime(rr2_time['month'])\n",
    "fig = px.line(rr2_time, x = \"month\", y = \"count\", color = \"topic_number\",\n",
    "              title = \"Timeline of number observations made each month grouped by topic number\")\n",
    "fig"
   ]
  },
  {
   "cell_type": "markdown",
   "metadata": {},
   "source": [
    "#### Heatmap of America to show where topics are most prominent"
   ]
  },
  {
   "cell_type": "code",
   "execution_count": null,
   "metadata": {},
   "outputs": [],
   "source": []
  },
  {
   "cell_type": "markdown",
   "metadata": {},
   "source": [
    "## Create Auditors Dataframe\n",
    "__Goal:__ Identify what topics each auditor cares about the most  \n",
    "__Method:__ Further separate each observation by auditor into new rows. Then use the trained model to assign topics to each observation by auditor."
   ]
  },
  {
   "cell_type": "code",
   "execution_count": 22,
   "metadata": {},
   "outputs": [
    {
     "data": {
      "text/html": [
       "<div>\n",
       "<style scoped>\n",
       "    .dataframe tbody tr th:only-of-type {\n",
       "        vertical-align: middle;\n",
       "    }\n",
       "\n",
       "    .dataframe tbody tr th {\n",
       "        vertical-align: top;\n",
       "    }\n",
       "\n",
       "    .dataframe thead th {\n",
       "        text-align: right;\n",
       "    }\n",
       "</style>\n",
       "<table border=\"1\" class=\"dataframe\">\n",
       "  <thead>\n",
       "    <tr style=\"text-align: right;\">\n",
       "      <th></th>\n",
       "      <th>Unnamed: 0</th>\n",
       "      <th>index</th>\n",
       "      <th>record_date</th>\n",
       "      <th>fei_number</th>\n",
       "      <th>company_name</th>\n",
       "      <th>record_type</th>\n",
       "      <th>state</th>\n",
       "      <th>establishment_type_x</th>\n",
       "      <th>publish_date</th>\n",
       "      <th>href</th>\n",
       "      <th>pdf_url</th>\n",
       "      <th>pdf_name</th>\n",
       "      <th>firm_name</th>\n",
       "      <th>establishment_type_y</th>\n",
       "      <th>facility_city</th>\n",
       "      <th>auditors</th>\n",
       "      <th>audit_dates</th>\n",
       "      <th>observations</th>\n",
       "      <th>topic_number</th>\n",
       "      <th>topic_probability</th>\n",
       "    </tr>\n",
       "  </thead>\n",
       "  <tbody>\n",
       "    <tr>\n",
       "      <th>0</th>\n",
       "      <td>0</td>\n",
       "      <td>2</td>\n",
       "      <td>2021-01-28</td>\n",
       "      <td>3011761321</td>\n",
       "      <td>Wells Pharmacy, Inc</td>\n",
       "      <td>483</td>\n",
       "      <td>Tennessee</td>\n",
       "      <td>Outsourcing Facility</td>\n",
       "      <td>2021-03-31</td>\n",
       "      <td>/media/147184/download</td>\n",
       "      <td>https://www.fda.gov/media/147184/download</td>\n",
       "      <td>WellsPharmacy508ed_0</td>\n",
       "      <td>Wells Pharmacy, Ine     CIty STATE ZIP CODE, C...</td>\n",
       "      <td>490 Us Highway ol Byp N     TYPE ESTABLISHMENT...</td>\n",
       "      <td>Wells Pharmacy, Ine     CITY, STATE, ZIP CODE,...</td>\n",
       "      <td>June P Page</td>\n",
       "      <td>JIN  DATE(S) OF INSPEGTION 12/1/2020-1/28/2021+</td>\n",
       "      <td>There is a failure to thoroughly review the fa...</td>\n",
       "      <td>2</td>\n",
       "      <td>0.998922</td>\n",
       "    </tr>\n",
       "    <tr>\n",
       "      <th>0</th>\n",
       "      <td>0</td>\n",
       "      <td>2</td>\n",
       "      <td>2021-01-28</td>\n",
       "      <td>3011761321</td>\n",
       "      <td>Wells Pharmacy, Inc</td>\n",
       "      <td>483</td>\n",
       "      <td>Tennessee</td>\n",
       "      <td>Outsourcing Facility</td>\n",
       "      <td>2021-03-31</td>\n",
       "      <td>/media/147184/download</td>\n",
       "      <td>https://www.fda.gov/media/147184/download</td>\n",
       "      <td>WellsPharmacy508ed_0</td>\n",
       "      <td>Wells Pharmacy, Ine     CIty STATE ZIP CODE, C...</td>\n",
       "      <td>490 Us Highway ol Byp N     TYPE ESTABLISHMENT...</td>\n",
       "      <td>Wells Pharmacy, Ine     CITY, STATE, ZIP CODE,...</td>\n",
       "      <td>Julius I Jones</td>\n",
       "      <td>JIN  DATE(S) OF INSPEGTION 12/1/2020-1/28/2021+</td>\n",
       "      <td>There is a failure to thoroughly review the fa...</td>\n",
       "      <td>2</td>\n",
       "      <td>0.998922</td>\n",
       "    </tr>\n",
       "    <tr>\n",
       "      <th>0</th>\n",
       "      <td>0</td>\n",
       "      <td>2</td>\n",
       "      <td>2021-01-28</td>\n",
       "      <td>3011761321</td>\n",
       "      <td>Wells Pharmacy, Inc</td>\n",
       "      <td>483</td>\n",
       "      <td>Tennessee</td>\n",
       "      <td>Outsourcing Facility</td>\n",
       "      <td>2021-03-31</td>\n",
       "      <td>/media/147184/download</td>\n",
       "      <td>https://www.fda.gov/media/147184/download</td>\n",
       "      <td>WellsPharmacy508ed_0</td>\n",
       "      <td>Wells Pharmacy, Ine     CIty STATE ZIP CODE, C...</td>\n",
       "      <td>490 Us Highway ol Byp N     TYPE ESTABLISHMENT...</td>\n",
       "      <td>Wells Pharmacy, Ine     CITY, STATE, ZIP CODE,...</td>\n",
       "      <td>June P Page</td>\n",
       "      <td>JIN  DATE(S) OF INSPEGTION 12/1/2020-1/28/2021+</td>\n",
       "      <td>Buildings used in the manufacture, processing,...</td>\n",
       "      <td>8</td>\n",
       "      <td>0.182009</td>\n",
       "    </tr>\n",
       "    <tr>\n",
       "      <th>0</th>\n",
       "      <td>0</td>\n",
       "      <td>2</td>\n",
       "      <td>2021-01-28</td>\n",
       "      <td>3011761321</td>\n",
       "      <td>Wells Pharmacy, Inc</td>\n",
       "      <td>483</td>\n",
       "      <td>Tennessee</td>\n",
       "      <td>Outsourcing Facility</td>\n",
       "      <td>2021-03-31</td>\n",
       "      <td>/media/147184/download</td>\n",
       "      <td>https://www.fda.gov/media/147184/download</td>\n",
       "      <td>WellsPharmacy508ed_0</td>\n",
       "      <td>Wells Pharmacy, Ine     CIty STATE ZIP CODE, C...</td>\n",
       "      <td>490 Us Highway ol Byp N     TYPE ESTABLISHMENT...</td>\n",
       "      <td>Wells Pharmacy, Ine     CITY, STATE, ZIP CODE,...</td>\n",
       "      <td>Julius I Jones</td>\n",
       "      <td>JIN  DATE(S) OF INSPEGTION 12/1/2020-1/28/2021+</td>\n",
       "      <td>Buildings used in the manufacture, processing,...</td>\n",
       "      <td>8</td>\n",
       "      <td>0.182009</td>\n",
       "    </tr>\n",
       "    <tr>\n",
       "      <th>0</th>\n",
       "      <td>0</td>\n",
       "      <td>2</td>\n",
       "      <td>2021-01-28</td>\n",
       "      <td>3011761321</td>\n",
       "      <td>Wells Pharmacy, Inc</td>\n",
       "      <td>483</td>\n",
       "      <td>Tennessee</td>\n",
       "      <td>Outsourcing Facility</td>\n",
       "      <td>2021-03-31</td>\n",
       "      <td>/media/147184/download</td>\n",
       "      <td>https://www.fda.gov/media/147184/download</td>\n",
       "      <td>WellsPharmacy508ed_0</td>\n",
       "      <td>Wells Pharmacy, Ine     CIty STATE ZIP CODE, C...</td>\n",
       "      <td>490 Us Highway ol Byp N     TYPE ESTABLISHMENT...</td>\n",
       "      <td>Wells Pharmacy, Ine     CITY, STATE, ZIP CODE,...</td>\n",
       "      <td>June P Page</td>\n",
       "      <td>JIN  DATE(S) OF INSPEGTION 12/1/2020-1/28/2021+</td>\n",
       "      <td>for additional Quality Unit concerns.</td>\n",
       "      <td>8</td>\n",
       "      <td>0.822187</td>\n",
       "    </tr>\n",
       "  </tbody>\n",
       "</table>\n",
       "</div>"
      ],
      "text/plain": [
       "   Unnamed: 0  index record_date  fei_number          company_name  \\\n",
       "0           0      2  2021-01-28  3011761321  Wells Pharmacy, Inc    \n",
       "0           0      2  2021-01-28  3011761321  Wells Pharmacy, Inc    \n",
       "0           0      2  2021-01-28  3011761321  Wells Pharmacy, Inc    \n",
       "0           0      2  2021-01-28  3011761321  Wells Pharmacy, Inc    \n",
       "0           0      2  2021-01-28  3011761321  Wells Pharmacy, Inc    \n",
       "\n",
       "   record_type      state  establishment_type_x publish_date  \\\n",
       "0          483  Tennessee  Outsourcing Facility   2021-03-31   \n",
       "0          483  Tennessee  Outsourcing Facility   2021-03-31   \n",
       "0          483  Tennessee  Outsourcing Facility   2021-03-31   \n",
       "0          483  Tennessee  Outsourcing Facility   2021-03-31   \n",
       "0          483  Tennessee  Outsourcing Facility   2021-03-31   \n",
       "\n",
       "                     href                                    pdf_url  \\\n",
       "0  /media/147184/download  https://www.fda.gov/media/147184/download   \n",
       "0  /media/147184/download  https://www.fda.gov/media/147184/download   \n",
       "0  /media/147184/download  https://www.fda.gov/media/147184/download   \n",
       "0  /media/147184/download  https://www.fda.gov/media/147184/download   \n",
       "0  /media/147184/download  https://www.fda.gov/media/147184/download   \n",
       "\n",
       "               pdf_name                                          firm_name  \\\n",
       "0  WellsPharmacy508ed_0  Wells Pharmacy, Ine     CIty STATE ZIP CODE, C...   \n",
       "0  WellsPharmacy508ed_0  Wells Pharmacy, Ine     CIty STATE ZIP CODE, C...   \n",
       "0  WellsPharmacy508ed_0  Wells Pharmacy, Ine     CIty STATE ZIP CODE, C...   \n",
       "0  WellsPharmacy508ed_0  Wells Pharmacy, Ine     CIty STATE ZIP CODE, C...   \n",
       "0  WellsPharmacy508ed_0  Wells Pharmacy, Ine     CIty STATE ZIP CODE, C...   \n",
       "\n",
       "                                establishment_type_y  \\\n",
       "0  490 Us Highway ol Byp N     TYPE ESTABLISHMENT...   \n",
       "0  490 Us Highway ol Byp N     TYPE ESTABLISHMENT...   \n",
       "0  490 Us Highway ol Byp N     TYPE ESTABLISHMENT...   \n",
       "0  490 Us Highway ol Byp N     TYPE ESTABLISHMENT...   \n",
       "0  490 Us Highway ol Byp N     TYPE ESTABLISHMENT...   \n",
       "\n",
       "                                       facility_city        auditors  \\\n",
       "0  Wells Pharmacy, Ine     CITY, STATE, ZIP CODE,...     June P Page   \n",
       "0  Wells Pharmacy, Ine     CITY, STATE, ZIP CODE,...  Julius I Jones   \n",
       "0  Wells Pharmacy, Ine     CITY, STATE, ZIP CODE,...     June P Page   \n",
       "0  Wells Pharmacy, Ine     CITY, STATE, ZIP CODE,...  Julius I Jones   \n",
       "0  Wells Pharmacy, Ine     CITY, STATE, ZIP CODE,...     June P Page   \n",
       "\n",
       "                                         audit_dates  \\\n",
       "0  JIN  DATE(S) OF INSPEGTION 12/1/2020-1/28/2021+     \n",
       "0  JIN  DATE(S) OF INSPEGTION 12/1/2020-1/28/2021+     \n",
       "0  JIN  DATE(S) OF INSPEGTION 12/1/2020-1/28/2021+     \n",
       "0  JIN  DATE(S) OF INSPEGTION 12/1/2020-1/28/2021+     \n",
       "0  JIN  DATE(S) OF INSPEGTION 12/1/2020-1/28/2021+     \n",
       "\n",
       "                                        observations topic_number  \\\n",
       "0  There is a failure to thoroughly review the fa...            2   \n",
       "0  There is a failure to thoroughly review the fa...            2   \n",
       "0  Buildings used in the manufacture, processing,...            8   \n",
       "0  Buildings used in the manufacture, processing,...            8   \n",
       "0            for additional Quality Unit concerns.              8   \n",
       "\n",
       "   topic_probability  \n",
       "0           0.998922  \n",
       "0           0.998922  \n",
       "0           0.182009  \n",
       "0           0.182009  \n",
       "0           0.822187  "
      ]
     },
     "execution_count": 22,
     "metadata": {},
     "output_type": "execute_result"
    }
   ],
   "source": [
    "# filter out rows which don't contain Investigator\n",
    "ad = rr1[~rr1['auditors'].isnull()]\n",
    "ad = ad[ad['auditors'].str.contains(\"Investigator\")]\n",
    "\n",
    "# separate into rows where each row has an auditor\n",
    "titles = ['Investigator - Team Biologics', 'National Expert']\n",
    "ad = ad.assign(auditors = ad['auditors'].str.replace(r'National Expert', 'Investigator').str.replace(r'Investigator - Team Biologics', 'Investigator').str.split(r'Investigator')).explode('auditors')\n",
    "ad['auditors'] = ad['auditors'].str.replace(',', ' ').str.strip()\n",
    "ad = ad[ad['auditors'] != '']\n",
    "list(ad.auditors)\n",
    "ad.head()"
   ]
  },
  {
   "cell_type": "code",
   "execution_count": 109,
   "metadata": {},
   "outputs": [],
   "source": [
    "#list(rr1.auditors)"
   ]
  },
  {
   "cell_type": "markdown",
   "metadata": {},
   "source": [
    "#### Predict observations by auditor"
   ]
  },
  {
   "cell_type": "code",
   "execution_count": null,
   "metadata": {},
   "outputs": [],
   "source": []
  },
  {
   "cell_type": "markdown",
   "metadata": {},
   "source": [
    "#### Print Top 3 Topics for each Auditor"
   ]
  },
  {
   "cell_type": "code",
   "execution_count": null,
   "metadata": {},
   "outputs": [],
   "source": []
  },
  {
   "cell_type": "markdown",
   "metadata": {},
   "source": [
    "## Create New Dataframe\n",
    "\n",
    "Each row is an audit. Columns include \"number of observations\", \"average observation word count\", \"total observations word count\", and columns for each topic (where the values are counting the number of observations for that topic).  \n",
    "\n",
    "Might be able to do something fancy with that."
   ]
  }
 ],
 "metadata": {
  "kernelspec": {
   "display_name": "Python 3",
   "language": "python",
   "name": "python3"
  },
  "language_info": {
   "codemirror_mode": {
    "name": "ipython",
    "version": 3
   },
   "file_extension": ".py",
   "mimetype": "text/x-python",
   "name": "python",
   "nbconvert_exporter": "python",
   "pygments_lexer": "ipython3",
   "version": "3.7.7"
  }
 },
 "nbformat": 4,
 "nbformat_minor": 4
}
