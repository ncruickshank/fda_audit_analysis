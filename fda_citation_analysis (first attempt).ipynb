{
 "cells": [
  {
   "cell_type": "markdown",
   "metadata": {},
   "source": [
    "# Analysis of FDA Citations"
   ]
  },
  {
   "cell_type": "markdown",
   "metadata": {},
   "source": [
    "Source: https://www.fda.gov/inspections-compliance-enforcement-and-criminal-investigations/inspection-references/inspection-citation"
   ]
  },
  {
   "cell_type": "markdown",
   "metadata": {},
   "source": [
    "The dataset pulled from fda.gov details citations made during FDA inspections conducted of clinical trials, Institutional Review Boards (IRBs), and facilities that manufacture, process, pack, or hold an FDA-regulated product that is currently marketed. Specifically, the information comes from the electronic inspection tool of FDA Form 483."
   ]
  },
  {
   "cell_type": "code",
   "execution_count": 1,
   "metadata": {},
   "outputs": [],
   "source": [
    "# import packages\n",
    "import gensim\n",
    "import matplotlib as mpl\n",
    "import numpy as np\n",
    "import nltk\n",
    "from nltk.corpus import wordnet as wn\n",
    "import pandas as pd\n",
    "import pickle\n",
    "import re\n",
    "from sklearn.feature_extraction.text import CountVectorizer"
   ]
  },
  {
   "cell_type": "code",
   "execution_count": 2,
   "metadata": {},
   "outputs": [],
   "source": [
    "# read dataframe into python\n",
    "df = pd.read_excel(\"Inspection_Citation_(10-1-2008_through_7-22-2020)_0.xlsx\")"
   ]
  },
  {
   "cell_type": "code",
   "execution_count": 3,
   "metadata": {},
   "outputs": [
    {
     "data": {
      "text/html": [
       "<div>\n",
       "<style scoped>\n",
       "    .dataframe tbody tr th:only-of-type {\n",
       "        vertical-align: middle;\n",
       "    }\n",
       "\n",
       "    .dataframe tbody tr th {\n",
       "        vertical-align: top;\n",
       "    }\n",
       "\n",
       "    .dataframe thead th {\n",
       "        text-align: right;\n",
       "    }\n",
       "</style>\n",
       "<table border=\"1\" class=\"dataframe\">\n",
       "  <thead>\n",
       "    <tr style=\"text-align: right;\">\n",
       "      <th></th>\n",
       "      <th>Firm Name</th>\n",
       "      <th>City</th>\n",
       "      <th>State</th>\n",
       "      <th>Country/Area</th>\n",
       "      <th>Inspection End Date</th>\n",
       "      <th>Program Area</th>\n",
       "      <th>CFR/Act Number</th>\n",
       "      <th>Short Description</th>\n",
       "      <th>Long Description</th>\n",
       "    </tr>\n",
       "  </thead>\n",
       "  <tbody>\n",
       "    <tr>\n",
       "      <th>0</th>\n",
       "      <td>A &amp; M Bakery, Inc.</td>\n",
       "      <td>Clarksburg</td>\n",
       "      <td>WV</td>\n",
       "      <td>United States</td>\n",
       "      <td>2008-10-01</td>\n",
       "      <td>Foods</td>\n",
       "      <td>21 CFR 110.20(b)(4)</td>\n",
       "      <td>Floors, walls and ceilings</td>\n",
       "      <td>The plant is not constructed in such a manner ...</td>\n",
       "    </tr>\n",
       "    <tr>\n",
       "      <th>1</th>\n",
       "      <td>A &amp; M Bakery, Inc.</td>\n",
       "      <td>Clarksburg</td>\n",
       "      <td>WV</td>\n",
       "      <td>United States</td>\n",
       "      <td>2008-10-01</td>\n",
       "      <td>Foods</td>\n",
       "      <td>21 CFR 110.20(b)(5)</td>\n",
       "      <td>Safety lighting and glass</td>\n",
       "      <td>Failure to provide safety-type lighting fixtur...</td>\n",
       "    </tr>\n",
       "    <tr>\n",
       "      <th>2</th>\n",
       "      <td>A &amp; M Bakery, Inc.</td>\n",
       "      <td>Clarksburg</td>\n",
       "      <td>WV</td>\n",
       "      <td>United States</td>\n",
       "      <td>2008-10-01</td>\n",
       "      <td>Foods</td>\n",
       "      <td>21 CFR 110.35(a)</td>\n",
       "      <td>Buildings/good repair</td>\n",
       "      <td>Failure to maintain buildings in repair suffic...</td>\n",
       "    </tr>\n",
       "    <tr>\n",
       "      <th>3</th>\n",
       "      <td>A &amp; M Bakery, Inc.</td>\n",
       "      <td>Clarksburg</td>\n",
       "      <td>WV</td>\n",
       "      <td>United States</td>\n",
       "      <td>2008-10-01</td>\n",
       "      <td>Foods</td>\n",
       "      <td>21 CFR 110.35(a)</td>\n",
       "      <td>Cleaning and sanitizing operations</td>\n",
       "      <td>Failure to conduct cleaning and sanitizing ope...</td>\n",
       "    </tr>\n",
       "    <tr>\n",
       "      <th>4</th>\n",
       "      <td>A &amp; M Bakery, Inc.</td>\n",
       "      <td>Clarksburg</td>\n",
       "      <td>WV</td>\n",
       "      <td>United States</td>\n",
       "      <td>2008-10-01</td>\n",
       "      <td>Foods</td>\n",
       "      <td>21 CFR 110.80(a)(1)</td>\n",
       "      <td>Storage</td>\n",
       "      <td>Failure to store raw materials in a manner tha...</td>\n",
       "    </tr>\n",
       "  </tbody>\n",
       "</table>\n",
       "</div>"
      ],
      "text/plain": [
       "            Firm Name        City State   Country/Area Inspection End Date  \\\n",
       "0  A & M Bakery, Inc.  Clarksburg    WV  United States          2008-10-01   \n",
       "1  A & M Bakery, Inc.  Clarksburg    WV  United States          2008-10-01   \n",
       "2  A & M Bakery, Inc.  Clarksburg    WV  United States          2008-10-01   \n",
       "3  A & M Bakery, Inc.  Clarksburg    WV  United States          2008-10-01   \n",
       "4  A & M Bakery, Inc.  Clarksburg    WV  United States          2008-10-01   \n",
       "\n",
       "  Program Area       CFR/Act Number                   Short Description  \\\n",
       "0        Foods  21 CFR 110.20(b)(4)          Floors, walls and ceilings   \n",
       "1        Foods  21 CFR 110.20(b)(5)           Safety lighting and glass   \n",
       "2        Foods     21 CFR 110.35(a)               Buildings/good repair   \n",
       "3        Foods     21 CFR 110.35(a)  Cleaning and sanitizing operations   \n",
       "4        Foods  21 CFR 110.80(a)(1)                             Storage   \n",
       "\n",
       "                                    Long Description  \n",
       "0  The plant is not constructed in such a manner ...  \n",
       "1  Failure to provide safety-type lighting fixtur...  \n",
       "2  Failure to maintain buildings in repair suffic...  \n",
       "3  Failure to conduct cleaning and sanitizing ope...  \n",
       "4  Failure to store raw materials in a manner tha...  "
      ]
     },
     "execution_count": 3,
     "metadata": {},
     "output_type": "execute_result"
    }
   ],
   "source": [
    "df.head()"
   ]
  },
  {
   "cell_type": "code",
   "execution_count": 4,
   "metadata": {},
   "outputs": [],
   "source": [
    "# tidy dataframe to only contain citations from the Drugs 'Program Area'\n",
    "## filter for only observations from the Drug program area in USA.\n",
    "drugs = df[(df['Program Area'] == \"Drugs\") &\n",
    "           (df['Country/Area'] == \"United States\")].reset_index().drop('index', axis = 1)\n",
    "\n",
    "## tidy up the CFR/Act Number column to generalize to the CFR chapter.\n",
    "CFR = []\n",
    "for values in drugs['CFR/Act Number']:\n",
    "    try:\n",
    "        x = re.search(r'21 CFR [0-9]+\\.[0-9]+', values).group()\n",
    "    except:\n",
    "        x = None\n",
    "    CFR.append(x)\n",
    "drugs['CFR'] = CFR\n",
    "\n",
    "# create a series of citations\n",
    "citations = drugs['Long Description']"
   ]
  },
  {
   "cell_type": "code",
   "execution_count": 5,
   "metadata": {},
   "outputs": [
    {
     "data": {
      "text/plain": [
       "(28379, 10)"
      ]
     },
     "execution_count": 5,
     "metadata": {},
     "output_type": "execute_result"
    }
   ],
   "source": [
    "drugs.shape"
   ]
  },
  {
   "cell_type": "markdown",
   "metadata": {},
   "source": [
    "## Topic Modeling of Long Descriptions"
   ]
  },
  {
   "cell_type": "markdown",
   "metadata": {},
   "source": [
    "For each long description in df, extract a list of topics that are most likely to be cited during an FDA audit."
   ]
  },
  {
   "cell_type": "code",
   "execution_count": 6,
   "metadata": {},
   "outputs": [
    {
     "data": {
      "text/plain": [
       "[['Routine',\n",
       "  'calibration',\n",
       "  'of',\n",
       "  'mechanical',\n",
       "  'equipment',\n",
       "  'is',\n",
       "  'not',\n",
       "  'performed',\n",
       "  'according',\n",
       "  'to',\n",
       "  'a',\n",
       "  'written',\n",
       "  'program',\n",
       "  'designed',\n",
       "  'to',\n",
       "  'assure',\n",
       "  'proper',\n",
       "  'performance',\n",
       "  '.']]"
      ]
     },
     "execution_count": 6,
     "metadata": {},
     "output_type": "execute_result"
    }
   ],
   "source": [
    "cites = list(citations)\n",
    "tokens = []\n",
    "for i in cites:\n",
    "    token = nltk.word_tokenize(i)\n",
    "    tokens.append(token)\n",
    "    \n",
    "tokens[:1]"
   ]
  },
  {
   "cell_type": "code",
   "execution_count": 7,
   "metadata": {},
   "outputs": [
    {
     "data": {
      "text/plain": [
       "['meet', 'purporting', 'used', 'deficient']"
      ]
     },
     "execution_count": 7,
     "metadata": {},
     "output_type": "execute_result"
    }
   ],
   "source": [
    "# determine stop words\n",
    "from nltk.corpus import stopwords\n",
    "stop_words = stopwords.words('english')\n",
    "stop_words[:5]\n",
    "stop_words.extend(['deficient', 'used', 'purporting', 'meet'])\n",
    "stop_words[:-5:-1]"
   ]
  },
  {
   "cell_type": "code",
   "execution_count": 73,
   "metadata": {},
   "outputs": [],
   "source": [
    "# Use CountVectorizer to find tokens, remove stop words,\n",
    "# remove tokens that don't appear in at least 25 documents,\n",
    "# remove tokens that appear in more than 20% of the documents\n",
    "vect = CountVectorizer(min_df = 25, max_df = 0.2, ngram_range = (1,2),\n",
    "                       stop_words = stop_words)\n",
    "\n",
    "# Fit and transform\n",
    "X = vect.fit_transform(cites)\n",
    "\n",
    "# Convert sparse matrix to gensim corpus.\n",
    "corpus = gensim.matutils.Sparse2Corpus(X, documents_columns = False)\n",
    "\n",
    "# Mapping from word IDs to words (TO be used in LdaModel's id2word parameter)\n",
    "id_map = dict((v, k) for k, v in vect.vocabulary_.items())"
   ]
  },
  {
   "cell_type": "code",
   "execution_count": 74,
   "metadata": {},
   "outputs": [],
   "source": [
    "# Use the gensim.models.ldamodel.LdaModel constructor to estimate \n",
    "# LDA model parameters on the corpus, and save to variable 'ldamodel'\n",
    "\n",
    "ldamodel = gensim.models.ldamodel.LdaModel(corpus, num_topics = 25,\n",
    "                                          id2word = id_map, passes = 25,\n",
    "                                          random_state = 4)"
   ]
  },
  {
   "cell_type": "code",
   "execution_count": 75,
   "metadata": {},
   "outputs": [
    {
     "data": {
      "text/plain": [
       "[(0,\n",
       "  '0.051*\"purity\" + 0.051*\"strength\" + 0.050*\"strength quality\" + 0.047*\"quality purity\" + 0.047*\"identity strength\" + 0.046*\"identity\" + 0.034*\"production\" + 0.033*\"process\" + 0.032*\"written procedures\" + 0.032*\"assure\"'),\n",
       " (1,\n",
       "  '0.057*\"release\" + 0.037*\"include\" + 0.034*\"laboratory\" + 0.032*\"testing\" + 0.029*\"conformance\" + 0.029*\"determination\" + 0.029*\"distribution\" + 0.028*\"appropriate\" + 0.028*\"prior\" + 0.028*\"prior release\"'),\n",
       " (2,\n",
       "  '0.025*\"strength\" + 0.024*\"quality purity\" + 0.024*\"purity\" + 0.024*\"identity\" + 0.024*\"identity strength\" + 0.024*\"strength quality\" + 0.024*\"safety\" + 0.024*\"equipment\" + 0.023*\"alter\" + 0.023*\"purity drug\"'),\n",
       " (3,\n",
       "  '0.030*\"cleaning\" + 0.029*\"equipment\" + 0.028*\"written procedures\" + 0.025*\"maintenance\" + 0.024*\"containers\" + 0.024*\"sufficient\" + 0.024*\"sufficient detail\" + 0.024*\"detail\" + 0.023*\"cleaning maintenance\" + 0.022*\"product containers\"'),\n",
       " (4,\n",
       "  '0.090*\"unit\" + 0.083*\"control unit\" + 0.083*\"quality control\" + 0.051*\"applicable quality\" + 0.051*\"responsibilities\" + 0.051*\"responsibilities procedures\" + 0.051*\"applicable\" + 0.051*\"procedures applicable\" + 0.047*\"followed\" + 0.043*\"fully\"'),\n",
       " (5,\n",
       "  '0.023*\"lacks\" + 0.021*\"contamination\" + 0.021*\"prevent\" + 0.021*\"mix\" + 0.021*\"ups\" + 0.021*\"mix ups\" + 0.020*\"prevent contamination\" + 0.019*\"records\" + 0.018*\"control unit\" + 0.018*\"unit\"'),\n",
       " (6,\n",
       "  '0.033*\"required\" + 0.028*\"objectionable\" + 0.028*\"microorganisms drug\" + 0.028*\"required sterile\" + 0.028*\"products required\" + 0.028*\"prevent objectionable\" + 0.028*\"microorganisms\" + 0.028*\"objectionable microorganisms\" + 0.028*\"include\" + 0.028*\"sterile\"'),\n",
       " (7,\n",
       "  '0.081*\"production\" + 0.079*\"batch\" + 0.070*\"production control\" + 0.064*\"records\" + 0.059*\"control records\" + 0.036*\"batch production\" + 0.031*\"records include\" + 0.031*\"include\" + 0.023*\"complete\" + 0.020*\"include complete\"'),\n",
       " (8,\n",
       "  '0.036*\"contamination\" + 0.035*\"prevent\" + 0.030*\"designed\" + 0.030*\"designed prevent\" + 0.028*\"established\" + 0.028*\"contamination drug\" + 0.027*\"sterile\" + 0.027*\"procedures designed\" + 0.026*\"prevent microbiological\" + 0.026*\"microbiological contamination\"'),\n",
       " (9,\n",
       "  '0.031*\"least\" + 0.027*\"review\" + 0.025*\"least annually\" + 0.025*\"annually\" + 0.025*\"evaluations\" + 0.023*\"conducted\" + 0.023*\"written procedures\" + 0.019*\"provisions\" + 0.018*\"followed\" + 0.018*\"provisions review\"'),\n",
       " (10,\n",
       "  '0.059*\"records\" + 0.047*\"laboratory records\" + 0.041*\"records include\" + 0.040*\"laboratory\" + 0.037*\"include\" + 0.029*\"standards\" + 0.023*\"established\" + 0.020*\"maintained\" + 0.018*\"compliance\" + 0.018*\"buildings\"'),\n",
       " (11,\n",
       "  '0.030*\"perform\" + 0.022*\"engaged\" + 0.020*\"lack\" + 0.020*\"identity\" + 0.018*\"functions\" + 0.018*\"perform assigned\" + 0.018*\"assigned\" + 0.018*\"assigned functions\" + 0.018*\"training\" + 0.017*\"processing\"'),\n",
       " (12,\n",
       "  '0.039*\"program\" + 0.028*\"performed\" + 0.028*\"calibration\" + 0.027*\"equipment\" + 0.026*\"assure\" + 0.025*\"written program\" + 0.024*\"performance\" + 0.024*\"proper\" + 0.024*\"designed\" + 0.024*\"designed assure\"'),\n",
       " (13,\n",
       "  '0.051*\"records\" + 0.032*\"personnel\" + 0.027*\"systems\" + 0.025*\"related\" + 0.022*\"related systems\" + 0.021*\"production\" + 0.021*\"computers\" + 0.021*\"computers related\" + 0.019*\"appropriate\" + 0.019*\"authorized\"'),\n",
       " (14,\n",
       "  '0.026*\"materials\" + 0.024*\"process\" + 0.020*\"lot\" + 0.020*\"process materials\" + 0.019*\"use\" + 0.017*\"samples\" + 0.016*\"established\" + 0.014*\"distribution\" + 0.012*\"container\" + 0.011*\"examination\"'),\n",
       " (15,\n",
       "  '0.077*\"failure\" + 0.074*\"batch\" + 0.039*\"whether\" + 0.038*\"distributed\" + 0.038*\"review\" + 0.038*\"specifications\" + 0.038*\"unexplained\" + 0.038*\"already\" + 0.038*\"already distributed\" + 0.038*\"whether batch\"'),\n",
       " (16,\n",
       "  '0.047*\"appropriate\" + 0.035*\"standards\" + 0.027*\"assure\" + 0.026*\"standards identity\" + 0.026*\"identity\" + 0.026*\"identity strength\" + 0.026*\"quality purity\" + 0.026*\"strength quality\" + 0.026*\"purity\" + 0.026*\"strength\"'),\n",
       " (17,\n",
       "  '0.022*\"results\" + 0.019*\"report\" + 0.019*\"components\" + 0.018*\"documentation\" + 0.018*\"appropriately\" + 0.018*\"supplier report\" + 0.018*\"appropriate\" + 0.017*\"test\" + 0.016*\"facilities\" + 0.016*\"include documentation\"'),\n",
       " (18,\n",
       "  '0.036*\"appropriate\" + 0.035*\"process control\" + 0.035*\"process\" + 0.035*\"production\" + 0.034*\"production process\" + 0.031*\"component\" + 0.024*\"specifications\" + 0.022*\"written production\" + 0.020*\"written specifications\" + 0.019*\"test\"'),\n",
       " (19,\n",
       "  '0.026*\"process\" + 0.026*\"control procedures\" + 0.025*\"material\" + 0.024*\"manufacturing\" + 0.022*\"process material\" + 0.022*\"processes\" + 0.022*\"established\" + 0.021*\"variability\" + 0.021*\"may\" + 0.021*\"material drug\"'),\n",
       " (20,\n",
       "  '0.060*\"aseptic\" + 0.046*\"areas\" + 0.043*\"conditions\" + 0.042*\"regarding\" + 0.042*\"processing\" + 0.040*\"aseptic processing\" + 0.034*\"processing areas\" + 0.032*\"areas regarding\" + 0.029*\"system\" + 0.025*\"labeling\"'),\n",
       " (21,\n",
       "  '0.025*\"batches\" + 0.025*\"batches drug\" + 0.022*\"date\" + 0.022*\"appropriate\" + 0.021*\"adequate\" + 0.017*\"investigations\" + 0.016*\"criteria\" + 0.016*\"reports\" + 0.015*\"extend\" + 0.015*\"assure\"'),\n",
       " (22,\n",
       "  '0.023*\"established written\" + 0.022*\"equipment\" + 0.019*\"conducted\" + 0.017*\"suitable\" + 0.016*\"requirements\" + 0.016*\"remain\" + 0.016*\"assure\" + 0.016*\"remain familiar\" + 0.016*\"requirements applicable\" + 0.016*\"familiar cgmp\"'),\n",
       " (23,\n",
       "  '0.046*\"holding\" + 0.046*\"packing\" + 0.046*\"processing packing\" + 0.045*\"processing\" + 0.045*\"holding drug\" + 0.044*\"packing holding\" + 0.040*\"manufacture processing\" + 0.039*\"manufacture\" + 0.031*\"equipment\" + 0.022*\"cleaning\"'),\n",
       " (24,\n",
       "  '0.028*\"manufacturing\" + 0.028*\"good\" + 0.027*\"good manufacturing\" + 0.027*\"current\" + 0.027*\"current good\" + 0.025*\"given\" + 0.025*\"tested\" + 0.024*\"employees\" + 0.024*\"employees given\" + 0.024*\"given training\"')]"
      ]
     },
     "execution_count": 75,
     "metadata": {},
     "output_type": "execute_result"
    }
   ],
   "source": [
    "ldamodel.print_topics(30)"
   ]
  },
  {
   "cell_type": "code",
   "execution_count": 40,
   "metadata": {},
   "outputs": [
    {
     "data": {
      "text/plain": [
       "[(19, 0.94062454)]"
      ]
     },
     "execution_count": 40,
     "metadata": {},
     "output_type": "execute_result"
    }
   ],
   "source": [
    "new_doc = ['Aseptic processing areas are deficient regarding the system for monitoring environmental conditions.']\n",
    "\n",
    "X = vect.transform(new_doc)\n",
    "corpus = gensim.matutils.Sparse2Corpus(X, documents_columns = False)\n",
    "topic_dis = list(ldamodel[corpus])[0]\n",
    "\n",
    "topic_dis"
   ]
  },
  {
   "cell_type": "markdown",
   "metadata": {},
   "source": [
    "### Topic Modeling Evaluation"
   ]
  },
  {
   "cell_type": "markdown",
   "metadata": {},
   "source": [
    "__Log Perplexity__  \n",
    "n_topics = 10 --> ~ -1400  \n",
    "n_topics = 20 --> -1577.34  \n",
    "n_topics = 25 --> -5.32  \n",
    "n_topics = 30 --> -5.25\n",
    "\n",
    "Numbers closer to zero may be better."
   ]
  },
  {
   "cell_type": "code",
   "execution_count": 76,
   "metadata": {},
   "outputs": [
    {
     "data": {
      "text/plain": [
       "-5.322630179479673"
      ]
     },
     "execution_count": 76,
     "metadata": {},
     "output_type": "execute_result"
    }
   ],
   "source": [
    "ldamodel.log_perplexity(corpus)"
   ]
  },
  {
   "cell_type": "markdown",
   "metadata": {},
   "source": [
    "__Top Topics__"
   ]
  },
  {
   "cell_type": "code",
   "execution_count": 79,
   "metadata": {},
   "outputs": [
    {
     "data": {
      "text/plain": [
       "[([(0.09003838, 'unit'),\n",
       "   (0.0829901, 'control unit'),\n",
       "   (0.08292807, 'quality control')],\n",
       "  -0.016441441580521896),\n",
       " ([(0.05072036, 'purity'),\n",
       "   (0.05055937, 'strength'),\n",
       "   (0.050143704, 'strength quality')],\n",
       "  -0.05528420379113597),\n",
       " ([(0.046131957, 'holding'),\n",
       "   (0.04597108, 'packing'),\n",
       "   (0.045562748, 'processing packing')],\n",
       "  -0.07846425823277849),\n",
       " ([(0.0249014, 'strength'),\n",
       "   (0.024311759, 'quality purity'),\n",
       "   (0.024303172, 'purity')],\n",
       "  -0.10836784928111425),\n",
       " ([(0.059587367, 'aseptic'),\n",
       "   (0.04569817, 'areas'),\n",
       "   (0.04263366, 'conditions')],\n",
       "  -0.3539871627137067),\n",
       " ([(0.057410963, 'release'),\n",
       "   (0.03734178, 'include'),\n",
       "   (0.034061547, 'laboratory')],\n",
       "  -0.40907257923842427),\n",
       " ([(0.029809246, 'perform'), (0.021748058, 'engaged'), (0.020135572, 'lack')],\n",
       "  -0.6999164907174339),\n",
       " ([(0.03635957, 'contamination'),\n",
       "   (0.035322893, 'prevent'),\n",
       "   (0.030174054, 'designed')],\n",
       "  -0.7153028133566353),\n",
       " ([(0.07726238, 'failure'), (0.07352669, 'batch'), (0.03889419, 'whether')],\n",
       "  -0.7200690886091138),\n",
       " ([(0.029644113, 'cleaning'),\n",
       "   (0.02939912, 'equipment'),\n",
       "   (0.028450659, 'written procedures')],\n",
       "  -0.7327205922513658),\n",
       " ([(0.081223674, 'production'),\n",
       "   (0.07852824, 'batch'),\n",
       "   (0.070014566, 'production control')],\n",
       "  -0.8438074162892163),\n",
       " ([(0.03148997, 'least'),\n",
       "   (0.026550168, 'review'),\n",
       "   (0.024547411, 'least annually')],\n",
       "  -0.8540315744600261),\n",
       " ([(0.033312686, 'required'),\n",
       "   (0.028068708, 'microorganisms drug'),\n",
       "   (0.028068708, 'objectionable')],\n",
       "  -0.8763927497491412),\n",
       " ([(0.038851142, 'program'),\n",
       "   (0.027779013, 'performed'),\n",
       "   (0.027716234, 'calibration')],\n",
       "  -0.9150494506932095),\n",
       " ([(0.059043236, 'records'),\n",
       "   (0.046580374, 'laboratory records'),\n",
       "   (0.040714223, 'records include')],\n",
       "  -0.983326108709004),\n",
       " ([(0.027951065, 'manufacturing'),\n",
       "   (0.02781897, 'good'),\n",
       "   (0.02715743, 'good manufacturing')],\n",
       "  -1.0282121831392994),\n",
       " ([(0.04738818, 'appropriate'),\n",
       "   (0.03458475, 'standards'),\n",
       "   (0.026571367, 'assure')],\n",
       "  -1.0739308616461274),\n",
       " ([(0.026033359, 'process'),\n",
       "   (0.026011754, 'control procedures'),\n",
       "   (0.024503862, 'material')],\n",
       "  -1.1597955039568335),\n",
       " ([(0.025493087, 'batches'),\n",
       "   (0.025339613, 'batches drug'),\n",
       "   (0.022181908, 'date')],\n",
       "  -1.3619349431691485),\n",
       " ([(0.022684798, 'lacks'),\n",
       "   (0.021153953, 'contamination'),\n",
       "   (0.021059992, 'prevent')],\n",
       "  -1.641496078146585),\n",
       " ([(0.05106143, 'records'),\n",
       "   (0.03164772, 'personnel'),\n",
       "   (0.027368223, 'systems')],\n",
       "  -2.2210634300345755),\n",
       " ([(0.026164519, 'materials'), (0.0241249, 'process'), (0.020003224, 'lot')],\n",
       "  -3.7086695376951453),\n",
       " ([(0.022012753, 'results'),\n",
       "   (0.019359456, 'report'),\n",
       "   (0.01856102, 'components')],\n",
       "  -3.7636416813079694),\n",
       " ([(0.035946492, 'appropriate'),\n",
       "   (0.035360154, 'process control'),\n",
       "   (0.034817897, 'process')],\n",
       "  -9.553029841031098),\n",
       " ([(0.022854924, 'established written'),\n",
       "   (0.02164832, 'equipment'),\n",
       "   (0.019112216, 'conducted')],\n",
       "  -18.384926275641956)]"
      ]
     },
     "execution_count": 79,
     "metadata": {},
     "output_type": "execute_result"
    }
   ],
   "source": [
    "ldamodel.top_topics(corpus, topn = 3)"
   ]
  },
  {
   "cell_type": "code",
   "execution_count": 80,
   "metadata": {},
   "outputs": [],
   "source": [
    "# assign each citation to the most probable topic\n",
    "t2 = []\n",
    "for line in cites:\n",
    "    t = [line]\n",
    "    T = vect.transform(t)\n",
    "    corpus = gensim.matutils.Sparse2Corpus(T, documents_columns = False)\n",
    "    T_dis = list(ldamodel[corpus])[0]\n",
    "    t2.append(max(T_dis))"
   ]
  },
  {
   "cell_type": "code",
   "execution_count": 81,
   "metadata": {},
   "outputs": [
    {
     "data": {
      "text/html": [
       "<div>\n",
       "<style scoped>\n",
       "    .dataframe tbody tr th:only-of-type {\n",
       "        vertical-align: middle;\n",
       "    }\n",
       "\n",
       "    .dataframe tbody tr th {\n",
       "        vertical-align: top;\n",
       "    }\n",
       "\n",
       "    .dataframe thead th {\n",
       "        text-align: right;\n",
       "    }\n",
       "</style>\n",
       "<table border=\"1\" class=\"dataframe\">\n",
       "  <thead>\n",
       "    <tr style=\"text-align: right;\">\n",
       "      <th></th>\n",
       "      <th>Firm Name</th>\n",
       "      <th>City</th>\n",
       "      <th>State</th>\n",
       "      <th>Country/Area</th>\n",
       "      <th>Inspection End Date</th>\n",
       "      <th>Program Area</th>\n",
       "      <th>CFR/Act Number</th>\n",
       "      <th>Short Description</th>\n",
       "      <th>long_description</th>\n",
       "      <th>CFR</th>\n",
       "      <th>topic_number</th>\n",
       "      <th>topic_probability</th>\n",
       "    </tr>\n",
       "  </thead>\n",
       "  <tbody>\n",
       "    <tr>\n",
       "      <th>0</th>\n",
       "      <td>AmerisourceBergen Drug Corporation</td>\n",
       "      <td>Des Moines</td>\n",
       "      <td>WA</td>\n",
       "      <td>United States</td>\n",
       "      <td>2008-10-07</td>\n",
       "      <td>Drugs</td>\n",
       "      <td>21 CFR 211.68(a)</td>\n",
       "      <td>Calibration/Inspection/Checking not done</td>\n",
       "      <td>Routine calibration of mechanical equipment is...</td>\n",
       "      <td>21 CFR 211.68</td>\n",
       "      <td>12</td>\n",
       "      <td>0.958261</td>\n",
       "    </tr>\n",
       "    <tr>\n",
       "      <th>1</th>\n",
       "      <td>AmerisourceBergen Drug Corporation</td>\n",
       "      <td>Des Moines</td>\n",
       "      <td>WA</td>\n",
       "      <td>United States</td>\n",
       "      <td>2008-10-07</td>\n",
       "      <td>Drugs</td>\n",
       "      <td>21 CFR 211.142(b)</td>\n",
       "      <td>Storage under appropriate conditions</td>\n",
       "      <td>Drug products are not stored under appropriate...</td>\n",
       "      <td>21 CFR 211.142</td>\n",
       "      <td>20</td>\n",
       "      <td>0.557778</td>\n",
       "    </tr>\n",
       "    <tr>\n",
       "      <th>2</th>\n",
       "      <td>AmerisourceBergen Drug Corporation</td>\n",
       "      <td>Des Moines</td>\n",
       "      <td>WA</td>\n",
       "      <td>United States</td>\n",
       "      <td>2008-10-07</td>\n",
       "      <td>Drugs</td>\n",
       "      <td>21 CFR 211.204</td>\n",
       "      <td>Returned drug products with doubt cast as to s...</td>\n",
       "      <td>Returned drug products held, stored or shipped...</td>\n",
       "      <td>21 CFR 211.204</td>\n",
       "      <td>20</td>\n",
       "      <td>0.082177</td>\n",
       "    </tr>\n",
       "    <tr>\n",
       "      <th>3</th>\n",
       "      <td>IPR Pharmaceuticals, Inc.</td>\n",
       "      <td>Canovanas</td>\n",
       "      <td>PR</td>\n",
       "      <td>United States</td>\n",
       "      <td>2008-10-08</td>\n",
       "      <td>Drugs</td>\n",
       "      <td>21 CFR 211.160(b)(2)</td>\n",
       "      <td>In-process samples representative, identified ...</td>\n",
       "      <td>Samples taken of in-process materials for dete...</td>\n",
       "      <td>21 CFR 211.160</td>\n",
       "      <td>14</td>\n",
       "      <td>0.926153</td>\n",
       "    </tr>\n",
       "    <tr>\n",
       "      <th>4</th>\n",
       "      <td>IPR Pharmaceuticals, Inc.</td>\n",
       "      <td>Canovanas</td>\n",
       "      <td>PR</td>\n",
       "      <td>United States</td>\n",
       "      <td>2008-10-08</td>\n",
       "      <td>Drugs</td>\n",
       "      <td>21 CFR 211.160(b)(4)</td>\n",
       "      <td>Establishment of calibration procedures</td>\n",
       "      <td>Procedures describing the calibration of instr...</td>\n",
       "      <td>21 CFR 211.160</td>\n",
       "      <td>12</td>\n",
       "      <td>0.741772</td>\n",
       "    </tr>\n",
       "  </tbody>\n",
       "</table>\n",
       "</div>"
      ],
      "text/plain": [
       "                            Firm Name        City State   Country/Area  \\\n",
       "0  AmerisourceBergen Drug Corporation  Des Moines    WA  United States   \n",
       "1  AmerisourceBergen Drug Corporation  Des Moines    WA  United States   \n",
       "2  AmerisourceBergen Drug Corporation  Des Moines    WA  United States   \n",
       "3           IPR Pharmaceuticals, Inc.   Canovanas    PR  United States   \n",
       "4           IPR Pharmaceuticals, Inc.   Canovanas    PR  United States   \n",
       "\n",
       "  Inspection End Date Program Area        CFR/Act Number  \\\n",
       "0          2008-10-07        Drugs      21 CFR 211.68(a)   \n",
       "1          2008-10-07        Drugs     21 CFR 211.142(b)   \n",
       "2          2008-10-07        Drugs        21 CFR 211.204   \n",
       "3          2008-10-08        Drugs  21 CFR 211.160(b)(2)   \n",
       "4          2008-10-08        Drugs  21 CFR 211.160(b)(4)   \n",
       "\n",
       "                                   Short Description  \\\n",
       "0           Calibration/Inspection/Checking not done   \n",
       "1               Storage under appropriate conditions   \n",
       "2  Returned drug products with doubt cast as to s...   \n",
       "3  In-process samples representative, identified ...   \n",
       "4            Establishment of calibration procedures   \n",
       "\n",
       "                                    long_description             CFR  \\\n",
       "0  Routine calibration of mechanical equipment is...   21 CFR 211.68   \n",
       "1  Drug products are not stored under appropriate...  21 CFR 211.142   \n",
       "2  Returned drug products held, stored or shipped...  21 CFR 211.204   \n",
       "3  Samples taken of in-process materials for dete...  21 CFR 211.160   \n",
       "4  Procedures describing the calibration of instr...  21 CFR 211.160   \n",
       "\n",
       "   topic_number  topic_probability  \n",
       "0            12           0.958261  \n",
       "1            20           0.557778  \n",
       "2            20           0.082177  \n",
       "3            14           0.926153  \n",
       "4            12           0.741772  "
      ]
     },
     "execution_count": 81,
     "metadata": {},
     "output_type": "execute_result"
    }
   ],
   "source": [
    "# join the predicted topics to the drugs df.\n",
    "s_t2 = pd.Series(t2)\n",
    "\n",
    "drugs2 = drugs\n",
    "\n",
    "drugs2['topic_number'] = [n for (n, p) in s_t2.values]\n",
    "\n",
    "drugs2['topic_probability'] = [p for (n, p) in s_t2.values]\n",
    "\n",
    "# rename 'Long Description' column to a more readable format\n",
    "drugs3 = drugs2.rename(columns={'Long Description': 'long_description'})\n",
    "\n",
    "drugs3.head()"
   ]
  },
  {
   "cell_type": "code",
   "execution_count": 85,
   "metadata": {},
   "outputs": [
    {
     "data": {
      "text/plain": [
       "topic_number\n",
       "0      800\n",
       "1      689\n",
       "2     1037\n",
       "3      713\n",
       "4     1727\n",
       "5      553\n",
       "6      264\n",
       "7     1357\n",
       "8     1101\n",
       "9      856\n",
       "10     683\n",
       "11     562\n",
       "12    1220\n",
       "13     814\n",
       "14     927\n",
       "15    1301\n",
       "16    1449\n",
       "17     802\n",
       "18    1385\n",
       "19    1310\n",
       "20    1695\n",
       "21     856\n",
       "22    1508\n",
       "23    2758\n",
       "24    2012\n",
       "Name: long_description, dtype: int64"
      ]
     },
     "execution_count": 85,
     "metadata": {},
     "output_type": "execute_result"
    }
   ],
   "source": [
    "drugs3.groupby('topic_number').count()['long_description']"
   ]
  },
  {
   "cell_type": "markdown",
   "metadata": {},
   "source": [
    "In the citations df, there are a total of 3,245 unique citations in the ~ 30,000 total citations."
   ]
  },
  {
   "cell_type": "code",
   "execution_count": 102,
   "metadata": {},
   "outputs": [
    {
     "data": {
      "text/plain": [
       "3245"
      ]
     },
     "execution_count": 102,
     "metadata": {},
     "output_type": "execute_result"
    }
   ],
   "source": [
    "drugs3.head()\n",
    "\n",
    "all_topics = list(drugs3.long_description)\n",
    "unique_topics = []\n",
    "for x in all_topics:\n",
    "    if x not in unique_topics:\n",
    "        unique_topics.append(x)\n",
    "        \n",
    "len(unique_topics)"
   ]
  },
  {
   "cell_type": "code",
   "execution_count": 97,
   "metadata": {},
   "outputs": [],
   "source": [
    "# get list of all unique long descriptions for each topic\n",
    "\n",
    "## topic 2\n",
    "topic2 = list(drugs3[drugs3['topic_number'] == 2].long_description)\n",
    "unique_topic2 = []\n",
    "for x in topic2:\n",
    "    if x not in unique_topic2:\n",
    "        unique_topic2.append(x)\n",
    "#print(\"\\nTopic 2\")\n",
    "#print(unique_topic2)\n",
    "\n",
    "## topic 3\n",
    "topic3 = list(drugs3[drugs3['topic_number'] == 3].long_description)\n",
    "unique_topic3 = []\n",
    "for x in topic3:\n",
    "    if x not in unique_topic3:\n",
    "        unique_topic3.append(x)\n",
    "#print(\"\\nTopic 3\")\n",
    "#print(unique_topic3)\n",
    "\n",
    "## topic 15\n",
    "topic15 = list(drugs3[drugs3['topic_number'] == 15].long_description)\n",
    "unique_topic15 = []\n",
    "for x in topic15:\n",
    "    if x not in unique_topic15:\n",
    "        unique_topic15.append(x)\n",
    "#print(\"\\nTopic 15\")\n",
    "#print(unique_topic15)\n",
    "\n",
    "## topic 16\n",
    "topic16 = list(drugs3[drugs3['topic_number'] == 16].long_description)\n",
    "unique_topic16 = []\n",
    "for x in topic16:\n",
    "    if x not in unique_topic16:\n",
    "        unique_topic16.append(x)\n",
    "#print(\"\\nTopic 16\")\n",
    "#print(unique_topic16)\n",
    "\n",
    "## topic 22\n",
    "topic22 = list(drugs3[drugs3['topic_number'] == 22].long_description)\n",
    "unique_topic22 = []\n",
    "for x in topic22:\n",
    "    if x not in unique_topic22:\n",
    "        unique_topic22.append(x)\n",
    "#print(\"\\nTopic 22\")\n",
    "#print(unique_topic22)"
   ]
  },
  {
   "cell_type": "code",
   "execution_count": 94,
   "metadata": {},
   "outputs": [],
   "source": [
    "topics = ['Purity and Strength', 'QC Testing Prior to Release']"
   ]
  },
  {
   "cell_type": "markdown",
   "metadata": {},
   "source": [
    "# CFR Predicting"
   ]
  },
  {
   "cell_type": "markdown",
   "metadata": {},
   "source": [
    "When the FDA provides a facility with a list of observations on Form 483, they do _not_ link the associated chapter from 21 CFR 211. However, the citations DataFrame pulled from fda.gov _does_ contain a reference to the 21 CFR chapter. Therefore, it should be possible to train a model to predict the 21 CFR 211 chapter based on the citation given."
   ]
  }
 ],
 "metadata": {
  "kernelspec": {
   "display_name": "Python 3",
   "language": "python",
   "name": "python3"
  },
  "language_info": {
   "codemirror_mode": {
    "name": "ipython",
    "version": 3
   },
   "file_extension": ".py",
   "mimetype": "text/x-python",
   "name": "python",
   "nbconvert_exporter": "python",
   "pygments_lexer": "ipython3",
   "version": "3.7.7"
  }
 },
 "nbformat": 4,
 "nbformat_minor": 4
}
